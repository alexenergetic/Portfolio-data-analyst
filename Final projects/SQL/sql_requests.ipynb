{
 "cells": [
  {
   "cell_type": "markdown",
   "metadata": {
    "toc": true
   },
   "source": [
    "<h1>Оглавление<span class=\"tocSkip\"></span></h1>\n",
    "<div class=\"toc\"><ul class=\"toc-item\"><li><span><a href=\"#Исследуйте-таблицы-—-выведите-первые-строки\" data-toc-modified-id=\"Исследуйте-таблицы-—-выведите-первые-строки-1\"><span class=\"toc-item-num\">1&nbsp;&nbsp;</span>Исследуйте таблицы — выведите первые строки</a></span><ul class=\"toc-item\"><li><span><a href=\"#Таблица-books\" data-toc-modified-id=\"Таблица-books-1.1\"><span class=\"toc-item-num\">1.1&nbsp;&nbsp;</span>Таблица books</a></span></li><li><span><a href=\"#Таблица-authors\" data-toc-modified-id=\"Таблица-authors-1.2\"><span class=\"toc-item-num\">1.2&nbsp;&nbsp;</span>Таблица authors</a></span></li><li><span><a href=\"#Таблица-publishers\" data-toc-modified-id=\"Таблица-publishers-1.3\"><span class=\"toc-item-num\">1.3&nbsp;&nbsp;</span>Таблица publishers</a></span></li><li><span><a href=\"#Таблица-ratings\" data-toc-modified-id=\"Таблица-ratings-1.4\"><span class=\"toc-item-num\">1.4&nbsp;&nbsp;</span>Таблица ratings</a></span></li><li><span><a href=\"#Таблица-reviews\" data-toc-modified-id=\"Таблица-reviews-1.5\"><span class=\"toc-item-num\">1.5&nbsp;&nbsp;</span>Таблица reviews</a></span></li><li><span><a href=\"#Выводы-по-главе\" data-toc-modified-id=\"Выводы-по-главе-1.6\"><span class=\"toc-item-num\">1.6&nbsp;&nbsp;</span>Выводы по главе</a></span></li></ul></li><li><span><a href=\"#Решение-задач\" data-toc-modified-id=\"Решение-задач-2\"><span class=\"toc-item-num\">2&nbsp;&nbsp;</span>Решение задач</a></span><ul class=\"toc-item\"><li><span><a href=\"#Задача-№1\" data-toc-modified-id=\"Задача-№1-2.1\"><span class=\"toc-item-num\">2.1&nbsp;&nbsp;</span>Задача №1</a></span></li><li><span><a href=\"#Задача-№2\" data-toc-modified-id=\"Задача-№2-2.2\"><span class=\"toc-item-num\">2.2&nbsp;&nbsp;</span>Задача №2</a></span></li><li><span><a href=\"#Задача-№3\" data-toc-modified-id=\"Задача-№3-2.3\"><span class=\"toc-item-num\">2.3&nbsp;&nbsp;</span>Задача №3</a></span></li><li><span><a href=\"#Задача-№4\" data-toc-modified-id=\"Задача-№4-2.4\"><span class=\"toc-item-num\">2.4&nbsp;&nbsp;</span>Задача №4</a></span></li><li><span><a href=\"#Задача-№5\" data-toc-modified-id=\"Задача-№5-2.5\"><span class=\"toc-item-num\">2.5&nbsp;&nbsp;</span>Задача №5</a></span></li><li><span><a href=\"#Выводы-по-главе\" data-toc-modified-id=\"Выводы-по-главе-2.6\"><span class=\"toc-item-num\">2.6&nbsp;&nbsp;</span>Выводы по главе</a></span></li></ul></li><li><span><a href=\"#Выводы-по-исследованию\" data-toc-modified-id=\"Выводы-по-исследованию-3\"><span class=\"toc-item-num\">3&nbsp;&nbsp;</span>Выводы по исследованию</a></span><ul class=\"toc-item\"><li><span><a href=\"#Рекомендации\" data-toc-modified-id=\"Рекомендации-3.1\"><span class=\"toc-item-num\">3.1&nbsp;&nbsp;</span>Рекомендации</a></span></li></ul></li></ul></div>"
   ]
  },
  {
   "cell_type": "markdown",
   "metadata": {},
   "source": [
    "# SQL"
   ]
  },
  {
   "cell_type": "markdown",
   "metadata": {},
   "source": [
    "**Описание проекта**\n",
    "\n",
    "Коронавирус застал мир врасплох, изменив привычный порядок вещей. В свободное время жители городов больше не выходят на улицу, не посещают кафе и торговые центры. Зато стало больше времени для книг. Это заметили стартаперы — и бросились создавать приложения для тех, кто любит читать.\n",
    "Ваша компания решила быть на волне и купила крупный сервис для чтения книг по подписке. Ваша первая задача как аналитика — проанализировать базу данных.\n",
    "В ней — информация о книгах, издательствах, авторах, а также пользовательские обзоры книг. Эти данные помогут сформулировать ценностное предложение для нового продукта."
   ]
  },
  {
   "cell_type": "markdown",
   "metadata": {},
   "source": [
    "**Задания**\n",
    "1. Посчитайте, сколько книг вышло после 1 января 2000 года;\n",
    "2. Для каждой книги посчитайте количество обзоров и среднюю оценку;\n",
    "3. Определите издательство, которое выпустило наибольшее число книг толще 50 страниц — так вы исключите из анализа брошюры;\n",
    "4. Определите автора с самой высокой средней оценкой книг — учитывайте только книги с 50 и более оценками;\n",
    "5. Посчитайте среднее количество обзоров от пользователей, которые поставили больше 50 оценок."
   ]
  },
  {
   "cell_type": "markdown",
   "metadata": {},
   "source": [
    "**Как выполнить задание?**\n",
    "- Опишите цели исследования;\n",
    "- Исследуйте таблицы — выведите первые строки;\n",
    "- Сделайте по одному SQL-запросу для решения каждого задания;\n",
    "- Выведите результат каждого запроса в тетрадке;\n",
    "- Опишите выводы по каждой из решённых задач."
   ]
  },
  {
   "cell_type": "markdown",
   "metadata": {},
   "source": [
    "**Цели исследования:**\n",
    "1. Сделать запросы к базе данных и получить ответы на поставленные вопросы.\n",
    "2. Найти интересные особенности и дать рекомендации по продаже книг."
   ]
  },
  {
   "cell_type": "markdown",
   "metadata": {},
   "source": [
    "## Исследуйте таблицы — выведите первые строки"
   ]
  },
  {
   "cell_type": "code",
   "execution_count": 1,
   "metadata": {},
   "outputs": [],
   "source": [
    "# импортируем библиотеки для исследования\n",
    "import pandas as pd\n",
    "import psycopg2\n",
    "from sqlalchemy import create_engine"
   ]
  },
  {
   "cell_type": "markdown",
   "metadata": {},
   "source": [
    "Установим соединение с базой данных."
   ]
  },
  {
   "cell_type": "code",
   "execution_count": 2,
   "metadata": {},
   "outputs": [],
   "source": [
    "# устанавливаем параметры для доступа к базе данных\n",
    "db_config = {'user': 'praktikum_student', # имя пользователя\n",
    "             'pwd': 'Sdf4$2;d-d30pp', # пароль\n",
    "             'host': 'rc1b-wcoijxj3yxfsf3fs.mdb.yandexcloud.net',\n",
    "             'port': 6432, # порт подключения\n",
    "             'db': 'data-analyst-final-project-db'} # название базы данных\n",
    "\n",
    "connection_string = 'postgresql://{}:{}@{}:{}/{}'.format(db_config['user'],\n",
    "                                                         db_config['pwd'],\n",
    "                                                         db_config['host'],\n",
    "                                                         db_config['port'],\n",
    "                                                         db_config['db'])\n",
    "\n",
    "# сохраняем коннектор\n",
    "engine = create_engine(connection_string, connect_args={'sslmode':'require'})"
   ]
  },
  {
   "cell_type": "markdown",
   "metadata": {},
   "source": [
    "Соединение с базой данных было установлено.\n",
    "\n",
    "Теперь исследуем таблицы, путем вывода первых строк таблиц."
   ]
  },
  {
   "cell_type": "markdown",
   "metadata": {},
   "source": [
    "### Таблица books"
   ]
  },
  {
   "cell_type": "code",
   "execution_count": 3,
   "metadata": {},
   "outputs": [],
   "source": [
    "# напишем запрос к таблице books\n",
    "query_books = ''' SELECT *\n",
    "                  FROM books\n",
    "                  LIMIT 5\n",
    "              ''' "
   ]
  },
  {
   "cell_type": "code",
   "execution_count": 4,
   "metadata": {},
   "outputs": [],
   "source": [
    "# выполним sql-запрос\n",
    "books = pd.io.sql.read_sql(query_books, con = engine)"
   ]
  },
  {
   "cell_type": "code",
   "execution_count": 5,
   "metadata": {
    "scrolled": true
   },
   "outputs": [
    {
     "data": {
      "text/html": [
       "<div>\n",
       "<style scoped>\n",
       "    .dataframe tbody tr th:only-of-type {\n",
       "        vertical-align: middle;\n",
       "    }\n",
       "\n",
       "    .dataframe tbody tr th {\n",
       "        vertical-align: top;\n",
       "    }\n",
       "\n",
       "    .dataframe thead th {\n",
       "        text-align: right;\n",
       "    }\n",
       "</style>\n",
       "<table border=\"1\" class=\"dataframe\">\n",
       "  <thead>\n",
       "    <tr style=\"text-align: right;\">\n",
       "      <th></th>\n",
       "      <th>book_id</th>\n",
       "      <th>author_id</th>\n",
       "      <th>title</th>\n",
       "      <th>num_pages</th>\n",
       "      <th>publication_date</th>\n",
       "      <th>publisher_id</th>\n",
       "    </tr>\n",
       "  </thead>\n",
       "  <tbody>\n",
       "    <tr>\n",
       "      <th>0</th>\n",
       "      <td>1</td>\n",
       "      <td>546</td>\n",
       "      <td>'Salem's Lot</td>\n",
       "      <td>594</td>\n",
       "      <td>2005-11-01</td>\n",
       "      <td>93</td>\n",
       "    </tr>\n",
       "    <tr>\n",
       "      <th>1</th>\n",
       "      <td>2</td>\n",
       "      <td>465</td>\n",
       "      <td>1 000 Places to See Before You Die</td>\n",
       "      <td>992</td>\n",
       "      <td>2003-05-22</td>\n",
       "      <td>336</td>\n",
       "    </tr>\n",
       "    <tr>\n",
       "      <th>2</th>\n",
       "      <td>3</td>\n",
       "      <td>407</td>\n",
       "      <td>13 Little Blue Envelopes (Little Blue Envelope...</td>\n",
       "      <td>322</td>\n",
       "      <td>2010-12-21</td>\n",
       "      <td>135</td>\n",
       "    </tr>\n",
       "    <tr>\n",
       "      <th>3</th>\n",
       "      <td>4</td>\n",
       "      <td>82</td>\n",
       "      <td>1491: New Revelations of the Americas Before C...</td>\n",
       "      <td>541</td>\n",
       "      <td>2006-10-10</td>\n",
       "      <td>309</td>\n",
       "    </tr>\n",
       "    <tr>\n",
       "      <th>4</th>\n",
       "      <td>5</td>\n",
       "      <td>125</td>\n",
       "      <td>1776</td>\n",
       "      <td>386</td>\n",
       "      <td>2006-07-04</td>\n",
       "      <td>268</td>\n",
       "    </tr>\n",
       "  </tbody>\n",
       "</table>\n",
       "</div>"
      ],
      "text/plain": [
       "   book_id  author_id                                              title  \\\n",
       "0        1        546                                       'Salem's Lot   \n",
       "1        2        465                 1 000 Places to See Before You Die   \n",
       "2        3        407  13 Little Blue Envelopes (Little Blue Envelope...   \n",
       "3        4         82  1491: New Revelations of the Americas Before C...   \n",
       "4        5        125                                               1776   \n",
       "\n",
       "   num_pages publication_date  publisher_id  \n",
       "0        594       2005-11-01            93  \n",
       "1        992       2003-05-22           336  \n",
       "2        322       2010-12-21           135  \n",
       "3        541       2006-10-10           309  \n",
       "4        386       2006-07-04           268  "
      ]
     },
     "execution_count": 5,
     "metadata": {},
     "output_type": "execute_result"
    }
   ],
   "source": [
    "# просмотрим таблицу books\n",
    "books.head()"
   ]
  },
  {
   "cell_type": "markdown",
   "metadata": {},
   "source": [
    "### Таблица authors"
   ]
  },
  {
   "cell_type": "code",
   "execution_count": 6,
   "metadata": {},
   "outputs": [],
   "source": [
    "# напишем запрос к таблице authors\n",
    "query_authors = ''' SELECT *\n",
    "                    FROM authors\n",
    "                    LIMIT 5\n",
    "                ''' "
   ]
  },
  {
   "cell_type": "code",
   "execution_count": 7,
   "metadata": {},
   "outputs": [],
   "source": [
    "# выполним sql-запрос\n",
    "authors = pd.io.sql.read_sql(query_authors, con = engine)"
   ]
  },
  {
   "cell_type": "code",
   "execution_count": 8,
   "metadata": {},
   "outputs": [
    {
     "data": {
      "text/html": [
       "<div>\n",
       "<style scoped>\n",
       "    .dataframe tbody tr th:only-of-type {\n",
       "        vertical-align: middle;\n",
       "    }\n",
       "\n",
       "    .dataframe tbody tr th {\n",
       "        vertical-align: top;\n",
       "    }\n",
       "\n",
       "    .dataframe thead th {\n",
       "        text-align: right;\n",
       "    }\n",
       "</style>\n",
       "<table border=\"1\" class=\"dataframe\">\n",
       "  <thead>\n",
       "    <tr style=\"text-align: right;\">\n",
       "      <th></th>\n",
       "      <th>author_id</th>\n",
       "      <th>author</th>\n",
       "    </tr>\n",
       "  </thead>\n",
       "  <tbody>\n",
       "    <tr>\n",
       "      <th>0</th>\n",
       "      <td>1</td>\n",
       "      <td>A.S. Byatt</td>\n",
       "    </tr>\n",
       "    <tr>\n",
       "      <th>1</th>\n",
       "      <td>2</td>\n",
       "      <td>Aesop/Laura Harris/Laura Gibbs</td>\n",
       "    </tr>\n",
       "    <tr>\n",
       "      <th>2</th>\n",
       "      <td>3</td>\n",
       "      <td>Agatha Christie</td>\n",
       "    </tr>\n",
       "    <tr>\n",
       "      <th>3</th>\n",
       "      <td>4</td>\n",
       "      <td>Alan Brennert</td>\n",
       "    </tr>\n",
       "    <tr>\n",
       "      <th>4</th>\n",
       "      <td>5</td>\n",
       "      <td>Alan Moore/David   Lloyd</td>\n",
       "    </tr>\n",
       "  </tbody>\n",
       "</table>\n",
       "</div>"
      ],
      "text/plain": [
       "   author_id                          author\n",
       "0          1                      A.S. Byatt\n",
       "1          2  Aesop/Laura Harris/Laura Gibbs\n",
       "2          3                 Agatha Christie\n",
       "3          4                   Alan Brennert\n",
       "4          5        Alan Moore/David   Lloyd"
      ]
     },
     "execution_count": 8,
     "metadata": {},
     "output_type": "execute_result"
    }
   ],
   "source": [
    "# просмотрим таблицу authors\n",
    "authors.head()"
   ]
  },
  {
   "cell_type": "markdown",
   "metadata": {},
   "source": [
    "### Таблица publishers"
   ]
  },
  {
   "cell_type": "code",
   "execution_count": 9,
   "metadata": {},
   "outputs": [],
   "source": [
    "# напишем запрос к таблице publishers\n",
    "query_publishers = ''' SELECT *\n",
    "                       FROM publishers\n",
    "                       LIMIT 5\n",
    "                   ''' "
   ]
  },
  {
   "cell_type": "code",
   "execution_count": 10,
   "metadata": {},
   "outputs": [],
   "source": [
    "# выполним sql-запрос\n",
    "publishers = pd.io.sql.read_sql(query_publishers, con = engine)"
   ]
  },
  {
   "cell_type": "code",
   "execution_count": 11,
   "metadata": {},
   "outputs": [
    {
     "data": {
      "text/html": [
       "<div>\n",
       "<style scoped>\n",
       "    .dataframe tbody tr th:only-of-type {\n",
       "        vertical-align: middle;\n",
       "    }\n",
       "\n",
       "    .dataframe tbody tr th {\n",
       "        vertical-align: top;\n",
       "    }\n",
       "\n",
       "    .dataframe thead th {\n",
       "        text-align: right;\n",
       "    }\n",
       "</style>\n",
       "<table border=\"1\" class=\"dataframe\">\n",
       "  <thead>\n",
       "    <tr style=\"text-align: right;\">\n",
       "      <th></th>\n",
       "      <th>publisher_id</th>\n",
       "      <th>publisher</th>\n",
       "    </tr>\n",
       "  </thead>\n",
       "  <tbody>\n",
       "    <tr>\n",
       "      <th>0</th>\n",
       "      <td>1</td>\n",
       "      <td>Ace</td>\n",
       "    </tr>\n",
       "    <tr>\n",
       "      <th>1</th>\n",
       "      <td>2</td>\n",
       "      <td>Ace Book</td>\n",
       "    </tr>\n",
       "    <tr>\n",
       "      <th>2</th>\n",
       "      <td>3</td>\n",
       "      <td>Ace Books</td>\n",
       "    </tr>\n",
       "    <tr>\n",
       "      <th>3</th>\n",
       "      <td>4</td>\n",
       "      <td>Ace Hardcover</td>\n",
       "    </tr>\n",
       "    <tr>\n",
       "      <th>4</th>\n",
       "      <td>5</td>\n",
       "      <td>Addison Wesley Publishing Company</td>\n",
       "    </tr>\n",
       "  </tbody>\n",
       "</table>\n",
       "</div>"
      ],
      "text/plain": [
       "   publisher_id                          publisher\n",
       "0             1                                Ace\n",
       "1             2                           Ace Book\n",
       "2             3                          Ace Books\n",
       "3             4                      Ace Hardcover\n",
       "4             5  Addison Wesley Publishing Company"
      ]
     },
     "execution_count": 11,
     "metadata": {},
     "output_type": "execute_result"
    }
   ],
   "source": [
    "# просмотрим таблицу publishers\n",
    "publishers.head()"
   ]
  },
  {
   "cell_type": "markdown",
   "metadata": {},
   "source": [
    "### Таблица ratings"
   ]
  },
  {
   "cell_type": "code",
   "execution_count": 12,
   "metadata": {},
   "outputs": [],
   "source": [
    "# напишем запрос к таблице ratings\n",
    "query_ratings = ''' SELECT *\n",
    "                    FROM ratings\n",
    "                    LIMIT 5\n",
    "                ''' "
   ]
  },
  {
   "cell_type": "code",
   "execution_count": 13,
   "metadata": {},
   "outputs": [],
   "source": [
    "# выполним sql-запрос\n",
    "ratings = pd.io.sql.read_sql(query_ratings, con = engine)"
   ]
  },
  {
   "cell_type": "code",
   "execution_count": 14,
   "metadata": {},
   "outputs": [
    {
     "data": {
      "text/html": [
       "<div>\n",
       "<style scoped>\n",
       "    .dataframe tbody tr th:only-of-type {\n",
       "        vertical-align: middle;\n",
       "    }\n",
       "\n",
       "    .dataframe tbody tr th {\n",
       "        vertical-align: top;\n",
       "    }\n",
       "\n",
       "    .dataframe thead th {\n",
       "        text-align: right;\n",
       "    }\n",
       "</style>\n",
       "<table border=\"1\" class=\"dataframe\">\n",
       "  <thead>\n",
       "    <tr style=\"text-align: right;\">\n",
       "      <th></th>\n",
       "      <th>rating_id</th>\n",
       "      <th>book_id</th>\n",
       "      <th>username</th>\n",
       "      <th>rating</th>\n",
       "    </tr>\n",
       "  </thead>\n",
       "  <tbody>\n",
       "    <tr>\n",
       "      <th>0</th>\n",
       "      <td>1</td>\n",
       "      <td>1</td>\n",
       "      <td>ryanfranco</td>\n",
       "      <td>4</td>\n",
       "    </tr>\n",
       "    <tr>\n",
       "      <th>1</th>\n",
       "      <td>2</td>\n",
       "      <td>1</td>\n",
       "      <td>grantpatricia</td>\n",
       "      <td>2</td>\n",
       "    </tr>\n",
       "    <tr>\n",
       "      <th>2</th>\n",
       "      <td>3</td>\n",
       "      <td>1</td>\n",
       "      <td>brandtandrea</td>\n",
       "      <td>5</td>\n",
       "    </tr>\n",
       "    <tr>\n",
       "      <th>3</th>\n",
       "      <td>4</td>\n",
       "      <td>2</td>\n",
       "      <td>lorichen</td>\n",
       "      <td>3</td>\n",
       "    </tr>\n",
       "    <tr>\n",
       "      <th>4</th>\n",
       "      <td>5</td>\n",
       "      <td>2</td>\n",
       "      <td>mariokeller</td>\n",
       "      <td>2</td>\n",
       "    </tr>\n",
       "  </tbody>\n",
       "</table>\n",
       "</div>"
      ],
      "text/plain": [
       "   rating_id  book_id       username  rating\n",
       "0          1        1     ryanfranco       4\n",
       "1          2        1  grantpatricia       2\n",
       "2          3        1   brandtandrea       5\n",
       "3          4        2       lorichen       3\n",
       "4          5        2    mariokeller       2"
      ]
     },
     "execution_count": 14,
     "metadata": {},
     "output_type": "execute_result"
    }
   ],
   "source": [
    "# просмотрим таблицу ratings\n",
    "ratings.head()"
   ]
  },
  {
   "cell_type": "markdown",
   "metadata": {},
   "source": [
    "### Таблица reviews"
   ]
  },
  {
   "cell_type": "code",
   "execution_count": 15,
   "metadata": {},
   "outputs": [],
   "source": [
    "# напишем запрос к таблице reviews\n",
    "query_reviews = ''' SELECT *\n",
    "                    FROM reviews\n",
    "                    LIMIT 5\n",
    "                ''' "
   ]
  },
  {
   "cell_type": "code",
   "execution_count": 16,
   "metadata": {},
   "outputs": [],
   "source": [
    "# выполним sql-запрос\n",
    "reviews = pd.io.sql.read_sql(query_reviews, con = engine)"
   ]
  },
  {
   "cell_type": "code",
   "execution_count": 17,
   "metadata": {
    "scrolled": true
   },
   "outputs": [
    {
     "data": {
      "text/html": [
       "<div>\n",
       "<style scoped>\n",
       "    .dataframe tbody tr th:only-of-type {\n",
       "        vertical-align: middle;\n",
       "    }\n",
       "\n",
       "    .dataframe tbody tr th {\n",
       "        vertical-align: top;\n",
       "    }\n",
       "\n",
       "    .dataframe thead th {\n",
       "        text-align: right;\n",
       "    }\n",
       "</style>\n",
       "<table border=\"1\" class=\"dataframe\">\n",
       "  <thead>\n",
       "    <tr style=\"text-align: right;\">\n",
       "      <th></th>\n",
       "      <th>review_id</th>\n",
       "      <th>book_id</th>\n",
       "      <th>username</th>\n",
       "      <th>text</th>\n",
       "    </tr>\n",
       "  </thead>\n",
       "  <tbody>\n",
       "    <tr>\n",
       "      <th>0</th>\n",
       "      <td>1</td>\n",
       "      <td>1</td>\n",
       "      <td>brandtandrea</td>\n",
       "      <td>Mention society tell send professor analysis. ...</td>\n",
       "    </tr>\n",
       "    <tr>\n",
       "      <th>1</th>\n",
       "      <td>2</td>\n",
       "      <td>1</td>\n",
       "      <td>ryanfranco</td>\n",
       "      <td>Foot glass pretty audience hit themselves. Amo...</td>\n",
       "    </tr>\n",
       "    <tr>\n",
       "      <th>2</th>\n",
       "      <td>3</td>\n",
       "      <td>2</td>\n",
       "      <td>lorichen</td>\n",
       "      <td>Listen treat keep worry. Miss husband tax but ...</td>\n",
       "    </tr>\n",
       "    <tr>\n",
       "      <th>3</th>\n",
       "      <td>4</td>\n",
       "      <td>3</td>\n",
       "      <td>johnsonamanda</td>\n",
       "      <td>Finally month interesting blue could nature cu...</td>\n",
       "    </tr>\n",
       "    <tr>\n",
       "      <th>4</th>\n",
       "      <td>5</td>\n",
       "      <td>3</td>\n",
       "      <td>scotttamara</td>\n",
       "      <td>Nation purpose heavy give wait song will. List...</td>\n",
       "    </tr>\n",
       "  </tbody>\n",
       "</table>\n",
       "</div>"
      ],
      "text/plain": [
       "   review_id  book_id       username  \\\n",
       "0          1        1   brandtandrea   \n",
       "1          2        1     ryanfranco   \n",
       "2          3        2       lorichen   \n",
       "3          4        3  johnsonamanda   \n",
       "4          5        3    scotttamara   \n",
       "\n",
       "                                                text  \n",
       "0  Mention society tell send professor analysis. ...  \n",
       "1  Foot glass pretty audience hit themselves. Amo...  \n",
       "2  Listen treat keep worry. Miss husband tax but ...  \n",
       "3  Finally month interesting blue could nature cu...  \n",
       "4  Nation purpose heavy give wait song will. List...  "
      ]
     },
     "execution_count": 17,
     "metadata": {},
     "output_type": "execute_result"
    }
   ],
   "source": [
    "# просмотрим таблицу reviews\n",
    "reviews.head()"
   ]
  },
  {
   "cell_type": "markdown",
   "metadata": {},
   "source": [
    "Первые строки таблиц были просмотрены. Проблем в них не было обнаружено."
   ]
  },
  {
   "cell_type": "markdown",
   "metadata": {},
   "source": [
    "### Выводы по главе"
   ]
  },
  {
   "cell_type": "markdown",
   "metadata": {},
   "source": [
    "**Выводы:**\n",
    "    \n",
    "1. Соединение с базой данных было установлено.\n",
    "\n",
    "2. Первые строки таблиц были исследованы. Проблем не было обнаружено."
   ]
  },
  {
   "cell_type": "markdown",
   "metadata": {},
   "source": [
    "## Решение задач"
   ]
  },
  {
   "cell_type": "markdown",
   "metadata": {},
   "source": [
    "### Задача №1"
   ]
  },
  {
   "cell_type": "markdown",
   "metadata": {},
   "source": [
    "**Посчитайте, сколько книг вышло после 1 января 2000 года.**"
   ]
  },
  {
   "cell_type": "code",
   "execution_count": 18,
   "metadata": {},
   "outputs": [],
   "source": [
    "# напишем запрос к задаче\n",
    "# посчитаем количество книг после 01.01.2000\n",
    "query_1 = ''' SELECT COUNT(book_id) as cnt_books_since_2000\n",
    "              FROM books\n",
    "              WHERE publication_date > '2000-01-01'\n",
    "          ''' "
   ]
  },
  {
   "cell_type": "code",
   "execution_count": 19,
   "metadata": {},
   "outputs": [],
   "source": [
    "# выполним sql-запрос\n",
    "books_2000 = pd.io.sql.read_sql(query_1, con = engine)"
   ]
  },
  {
   "cell_type": "code",
   "execution_count": 20,
   "metadata": {
    "scrolled": true
   },
   "outputs": [
    {
     "data": {
      "text/html": [
       "<div>\n",
       "<style scoped>\n",
       "    .dataframe tbody tr th:only-of-type {\n",
       "        vertical-align: middle;\n",
       "    }\n",
       "\n",
       "    .dataframe tbody tr th {\n",
       "        vertical-align: top;\n",
       "    }\n",
       "\n",
       "    .dataframe thead th {\n",
       "        text-align: right;\n",
       "    }\n",
       "</style>\n",
       "<table border=\"1\" class=\"dataframe\">\n",
       "  <thead>\n",
       "    <tr style=\"text-align: right;\">\n",
       "      <th></th>\n",
       "      <th>cnt_books_since_2000</th>\n",
       "    </tr>\n",
       "  </thead>\n",
       "  <tbody>\n",
       "    <tr>\n",
       "      <th>0</th>\n",
       "      <td>819</td>\n",
       "    </tr>\n",
       "  </tbody>\n",
       "</table>\n",
       "</div>"
      ],
      "text/plain": [
       "   cnt_books_since_2000\n",
       "0                   819"
      ]
     },
     "execution_count": 20,
     "metadata": {},
     "output_type": "execute_result"
    }
   ],
   "source": [
    "# просмотрим таблицу c результатом\n",
    "books_2000.head()"
   ]
  },
  {
   "cell_type": "markdown",
   "metadata": {},
   "source": [
    "После 1 января 2000 года вышло 819 книг."
   ]
  },
  {
   "cell_type": "markdown",
   "metadata": {},
   "source": [
    "### Задача №2"
   ]
  },
  {
   "cell_type": "markdown",
   "metadata": {},
   "source": [
    "**Для каждой книги посчитайте количество обзоров и среднюю оценку.**"
   ]
  },
  {
   "cell_type": "code",
   "execution_count": 21,
   "metadata": {},
   "outputs": [],
   "source": [
    "# напишем запрос к задаче\n",
    "# посчитаем в 1 подзапросе для каждой книги количество обзоров\n",
    "# посчитаем в 2 подзапросе для каждой книги среднюю оценку\n",
    "query_2 = ''' SELECT rev.book_id,\n",
    "                     rev.title,\n",
    "                     cnt_reviews,\n",
    "                     avg_rating\n",
    "              FROM \n",
    "                  (SELECT b.book_id, \n",
    "                          b.title,\n",
    "                          COUNT(r.review_id) AS cnt_reviews\n",
    "                   FROM books AS b\n",
    "                   LEFT JOIN reviews AS r ON b.book_id = r.book_id\n",
    "                   GROUP BY b.book_id, b.title) AS rev       \n",
    "              LEFT JOIN     \n",
    "                  (SELECT book_id,\n",
    "                          ROUND(AVG(rating), 2) AS avg_rating\n",
    "                   FROM ratings\n",
    "                   GROUP BY book_id) AS rat ON rev.book_id = rat.book_id\n",
    "              ORDER BY cnt_reviews DESC\n",
    "   \n",
    "          '''"
   ]
  },
  {
   "cell_type": "code",
   "execution_count": 22,
   "metadata": {},
   "outputs": [],
   "source": [
    "# выполним sql-запрос\n",
    "books_reviews = pd.io.sql.read_sql(query_2, con = engine)"
   ]
  },
  {
   "cell_type": "code",
   "execution_count": 23,
   "metadata": {
    "scrolled": true
   },
   "outputs": [
    {
     "data": {
      "text/html": [
       "<div>\n",
       "<style scoped>\n",
       "    .dataframe tbody tr th:only-of-type {\n",
       "        vertical-align: middle;\n",
       "    }\n",
       "\n",
       "    .dataframe tbody tr th {\n",
       "        vertical-align: top;\n",
       "    }\n",
       "\n",
       "    .dataframe thead th {\n",
       "        text-align: right;\n",
       "    }\n",
       "</style>\n",
       "<table border=\"1\" class=\"dataframe\">\n",
       "  <thead>\n",
       "    <tr style=\"text-align: right;\">\n",
       "      <th></th>\n",
       "      <th>book_id</th>\n",
       "      <th>title</th>\n",
       "      <th>cnt_reviews</th>\n",
       "      <th>avg_rating</th>\n",
       "    </tr>\n",
       "  </thead>\n",
       "  <tbody>\n",
       "    <tr>\n",
       "      <th>0</th>\n",
       "      <td>948</td>\n",
       "      <td>Twilight (Twilight  #1)</td>\n",
       "      <td>7</td>\n",
       "      <td>3.66</td>\n",
       "    </tr>\n",
       "    <tr>\n",
       "      <th>1</th>\n",
       "      <td>695</td>\n",
       "      <td>The Curious Incident of the Dog in the Night-Time</td>\n",
       "      <td>6</td>\n",
       "      <td>4.08</td>\n",
       "    </tr>\n",
       "    <tr>\n",
       "      <th>2</th>\n",
       "      <td>299</td>\n",
       "      <td>Harry Potter and the Chamber of Secrets (Harry...</td>\n",
       "      <td>6</td>\n",
       "      <td>4.29</td>\n",
       "    </tr>\n",
       "    <tr>\n",
       "      <th>3</th>\n",
       "      <td>696</td>\n",
       "      <td>The Da Vinci Code (Robert Langdon  #2)</td>\n",
       "      <td>6</td>\n",
       "      <td>3.83</td>\n",
       "    </tr>\n",
       "    <tr>\n",
       "      <th>4</th>\n",
       "      <td>734</td>\n",
       "      <td>The Glass Castle</td>\n",
       "      <td>6</td>\n",
       "      <td>4.21</td>\n",
       "    </tr>\n",
       "    <tr>\n",
       "      <th>...</th>\n",
       "      <td>...</td>\n",
       "      <td>...</td>\n",
       "      <td>...</td>\n",
       "      <td>...</td>\n",
       "    </tr>\n",
       "    <tr>\n",
       "      <th>995</th>\n",
       "      <td>672</td>\n",
       "      <td>The Cat in the Hat and Other Dr. Seuss Favorites</td>\n",
       "      <td>0</td>\n",
       "      <td>5.00</td>\n",
       "    </tr>\n",
       "    <tr>\n",
       "      <th>996</th>\n",
       "      <td>808</td>\n",
       "      <td>The Natural Way to Draw</td>\n",
       "      <td>0</td>\n",
       "      <td>3.00</td>\n",
       "    </tr>\n",
       "    <tr>\n",
       "      <th>997</th>\n",
       "      <td>221</td>\n",
       "      <td>Essential Tales and Poems</td>\n",
       "      <td>0</td>\n",
       "      <td>4.00</td>\n",
       "    </tr>\n",
       "    <tr>\n",
       "      <th>998</th>\n",
       "      <td>83</td>\n",
       "      <td>Anne Rice's The Vampire Lestat: A Graphic Novel</td>\n",
       "      <td>0</td>\n",
       "      <td>3.67</td>\n",
       "    </tr>\n",
       "    <tr>\n",
       "      <th>999</th>\n",
       "      <td>387</td>\n",
       "      <td>Leonardo's Notebooks</td>\n",
       "      <td>0</td>\n",
       "      <td>4.00</td>\n",
       "    </tr>\n",
       "  </tbody>\n",
       "</table>\n",
       "<p>1000 rows × 4 columns</p>\n",
       "</div>"
      ],
      "text/plain": [
       "     book_id                                              title  cnt_reviews  \\\n",
       "0        948                            Twilight (Twilight  #1)            7   \n",
       "1        695  The Curious Incident of the Dog in the Night-Time            6   \n",
       "2        299  Harry Potter and the Chamber of Secrets (Harry...            6   \n",
       "3        696             The Da Vinci Code (Robert Langdon  #2)            6   \n",
       "4        734                                   The Glass Castle            6   \n",
       "..       ...                                                ...          ...   \n",
       "995      672   The Cat in the Hat and Other Dr. Seuss Favorites            0   \n",
       "996      808                            The Natural Way to Draw            0   \n",
       "997      221                          Essential Tales and Poems            0   \n",
       "998       83    Anne Rice's The Vampire Lestat: A Graphic Novel            0   \n",
       "999      387                               Leonardo's Notebooks            0   \n",
       "\n",
       "     avg_rating  \n",
       "0          3.66  \n",
       "1          4.08  \n",
       "2          4.29  \n",
       "3          3.83  \n",
       "4          4.21  \n",
       "..          ...  \n",
       "995        5.00  \n",
       "996        3.00  \n",
       "997        4.00  \n",
       "998        3.67  \n",
       "999        4.00  \n",
       "\n",
       "[1000 rows x 4 columns]"
      ]
     },
     "execution_count": 23,
     "metadata": {},
     "output_type": "execute_result"
    }
   ],
   "source": [
    "# просмотрим таблицу c результатом\n",
    "books_reviews"
   ]
  },
  {
   "cell_type": "markdown",
   "metadata": {},
   "source": [
    "В нашей базе данных не так много обзоров на книги. Но лидер это Сумерки. С 7 обзорами это самая популярная книга по количеству обзоров. Другие лидеры по количеству обзоров это Загадочное ночное убийство собаки, Гарри Поттер и тайная комната, Код да Винчи, Стеклянный замок.\n",
    "\n",
    "При этом видно, что популярные по количеству обзоров книги могут иметь не самую высокую оценку. Заметно, что некоторые книги вообще не имеют обзоров."
   ]
  },
  {
   "cell_type": "markdown",
   "metadata": {},
   "source": [
    "### Задача №3"
   ]
  },
  {
   "cell_type": "markdown",
   "metadata": {},
   "source": [
    "**Определите издательство, которое выпустило наибольшее число книг толще 50 страниц — так вы исключите из анализа брошюры.**"
   ]
  },
  {
   "cell_type": "code",
   "execution_count": 24,
   "metadata": {},
   "outputs": [],
   "source": [
    "# напишем запрос к задаче\n",
    "# посчитаем для издательсв количество выпущенных книг толще 50 страниц\n",
    "# сделаем сортировку по убыванию количества книг и отберем только 1 строку\n",
    "query_3 = ''' SELECT p.publisher,\n",
    "                     COUNT(book_id) AS cnt_books\n",
    "              FROM publishers AS p\n",
    "              FULL OUTER JOIN books AS b ON p.publisher_id = b.publisher_id\n",
    "              WHERE num_pages > 50\n",
    "              GROUP BY p.publisher\n",
    "              ORDER BY cnt_books DESC\n",
    "              LIMIT 1\n",
    "          ''' "
   ]
  },
  {
   "cell_type": "code",
   "execution_count": 25,
   "metadata": {},
   "outputs": [],
   "source": [
    "# выполним sql-запрос\n",
    "top_publisher = pd.io.sql.read_sql(query_3, con = engine)"
   ]
  },
  {
   "cell_type": "code",
   "execution_count": 26,
   "metadata": {
    "scrolled": true
   },
   "outputs": [
    {
     "data": {
      "text/html": [
       "<div>\n",
       "<style scoped>\n",
       "    .dataframe tbody tr th:only-of-type {\n",
       "        vertical-align: middle;\n",
       "    }\n",
       "\n",
       "    .dataframe tbody tr th {\n",
       "        vertical-align: top;\n",
       "    }\n",
       "\n",
       "    .dataframe thead th {\n",
       "        text-align: right;\n",
       "    }\n",
       "</style>\n",
       "<table border=\"1\" class=\"dataframe\">\n",
       "  <thead>\n",
       "    <tr style=\"text-align: right;\">\n",
       "      <th></th>\n",
       "      <th>publisher</th>\n",
       "      <th>cnt_books</th>\n",
       "    </tr>\n",
       "  </thead>\n",
       "  <tbody>\n",
       "    <tr>\n",
       "      <th>0</th>\n",
       "      <td>Penguin Books</td>\n",
       "      <td>42</td>\n",
       "    </tr>\n",
       "  </tbody>\n",
       "</table>\n",
       "</div>"
      ],
      "text/plain": [
       "       publisher  cnt_books\n",
       "0  Penguin Books         42"
      ]
     },
     "execution_count": 26,
     "metadata": {},
     "output_type": "execute_result"
    }
   ],
   "source": [
    "# просмотрим таблицу c результатом\n",
    "top_publisher"
   ]
  },
  {
   "cell_type": "markdown",
   "metadata": {},
   "source": [
    "Издательство Penguin Books издало 42 книги, толще 50 страниц."
   ]
  },
  {
   "cell_type": "markdown",
   "metadata": {},
   "source": [
    "### Задача №4"
   ]
  },
  {
   "cell_type": "markdown",
   "metadata": {},
   "source": [
    "**Определите автора с самой высокой средней оценкой книг — учитывайте только книги с 50 и более оценками.**"
   ]
  },
  {
   "cell_type": "code",
   "execution_count": 27,
   "metadata": {},
   "outputs": [],
   "source": [
    "# напишем запрос к задаче\n",
    "# найдем книги с 50 и более оценками, затем найдем авторов с такими книгами \n",
    "# сделаем сортировку по убыванию средней оценки книг  книг и отберем только 1 строку\n",
    "query_4 = ''' SELECT a.author, \n",
    "                     AVG(avg_rating_book) AS avg_rating\n",
    "              FROM authors AS a\n",
    "              FULL OUTER JOIN books AS b ON a.author_id = b.author_id\n",
    "              JOIN (SELECT b.book_id,\n",
    "                                      ROUND(AVG(r.rating), 2) AS avg_rating_book,\n",
    "                                      COUNT(r.rating_id) AS cnt_rating\n",
    "                               FROM books AS b\n",
    "                               FULL OUTER JOIN ratings AS r ON b.book_id = r.book_id\n",
    "                               GROUP BY b.book_id\n",
    "                               HAVING COUNT(r.rating_id) >= 50\n",
    "                               ORDER BY cnt_rating DESC) AS rat ON b.book_id = rat.book_id\n",
    "              GROUP BY a.author\n",
    "              ORDER BY avg_rating DESC\n",
    "              LIMIT 1\n",
    "          ''' "
   ]
  },
  {
   "cell_type": "code",
   "execution_count": 28,
   "metadata": {},
   "outputs": [],
   "source": [
    "# выполним sql-запрос\n",
    "top_author = pd.io.sql.read_sql(query_4, con = engine)"
   ]
  },
  {
   "cell_type": "code",
   "execution_count": 29,
   "metadata": {
    "scrolled": true
   },
   "outputs": [
    {
     "data": {
      "text/html": [
       "<div>\n",
       "<style scoped>\n",
       "    .dataframe tbody tr th:only-of-type {\n",
       "        vertical-align: middle;\n",
       "    }\n",
       "\n",
       "    .dataframe tbody tr th {\n",
       "        vertical-align: top;\n",
       "    }\n",
       "\n",
       "    .dataframe thead th {\n",
       "        text-align: right;\n",
       "    }\n",
       "</style>\n",
       "<table border=\"1\" class=\"dataframe\">\n",
       "  <thead>\n",
       "    <tr style=\"text-align: right;\">\n",
       "      <th></th>\n",
       "      <th>author</th>\n",
       "      <th>avg_rating</th>\n",
       "    </tr>\n",
       "  </thead>\n",
       "  <tbody>\n",
       "    <tr>\n",
       "      <th>0</th>\n",
       "      <td>J.K. Rowling/Mary GrandPré</td>\n",
       "      <td>4.285</td>\n",
       "    </tr>\n",
       "  </tbody>\n",
       "</table>\n",
       "</div>"
      ],
      "text/plain": [
       "                       author  avg_rating\n",
       "0  J.K. Rowling/Mary GrandPré       4.285"
      ]
     },
     "execution_count": 29,
     "metadata": {},
     "output_type": "execute_result"
    }
   ],
   "source": [
    "# просмотрим таблицу c результатом\n",
    "top_author"
   ]
  },
  {
   "cell_type": "markdown",
   "metadata": {},
   "source": [
    "Дж.К. Роулинг - писатель с самой высокой средней оценкой книг (с учетом только книг, у которых от 50 оценок)."
   ]
  },
  {
   "cell_type": "markdown",
   "metadata": {},
   "source": [
    "### Задача №5"
   ]
  },
  {
   "cell_type": "markdown",
   "metadata": {},
   "source": [
    "**Посчитайте среднее количество обзоров от пользователей, которые поставили больше 50 оценок.**"
   ]
  },
  {
   "cell_type": "code",
   "execution_count": 30,
   "metadata": {},
   "outputs": [],
   "source": [
    "# напишем запрос к задаче\n",
    "# найдем в 1 подзапросе пользователей, которые поставили больше 50 оценок\n",
    "# в 2 подзапросе посчитаем количество обзоров от пользователей\n",
    "# затем получим среднее число обзоров пользователей\n",
    "\n",
    "query_5 = ''' SELECT ROUND(AVG(cnt_reviews), 2) avg_cnt_reviews\n",
    "              FROM \n",
    "                 (SELECT username,\n",
    "                         COUNT(review_id) AS cnt_reviews\n",
    "                  FROM reviews\n",
    "                  WHERE username IN (SELECT username\n",
    "                                     FROM ratings\n",
    "                                     GROUP BY username\n",
    "                                     HAVING COUNT(rating_id) > 50)\n",
    "                  GROUP BY username) as users\n",
    "          ''' "
   ]
  },
  {
   "cell_type": "code",
   "execution_count": 31,
   "metadata": {},
   "outputs": [],
   "source": [
    "# выполним sql-запрос\n",
    "top_users = pd.io.sql.read_sql(query_5, con = engine)"
   ]
  },
  {
   "cell_type": "code",
   "execution_count": 32,
   "metadata": {
    "scrolled": false
   },
   "outputs": [
    {
     "data": {
      "text/html": [
       "<div>\n",
       "<style scoped>\n",
       "    .dataframe tbody tr th:only-of-type {\n",
       "        vertical-align: middle;\n",
       "    }\n",
       "\n",
       "    .dataframe tbody tr th {\n",
       "        vertical-align: top;\n",
       "    }\n",
       "\n",
       "    .dataframe thead th {\n",
       "        text-align: right;\n",
       "    }\n",
       "</style>\n",
       "<table border=\"1\" class=\"dataframe\">\n",
       "  <thead>\n",
       "    <tr style=\"text-align: right;\">\n",
       "      <th></th>\n",
       "      <th>avg_cnt_reviews</th>\n",
       "    </tr>\n",
       "  </thead>\n",
       "  <tbody>\n",
       "    <tr>\n",
       "      <th>0</th>\n",
       "      <td>24.33</td>\n",
       "    </tr>\n",
       "  </tbody>\n",
       "</table>\n",
       "</div>"
      ],
      "text/plain": [
       "   avg_cnt_reviews\n",
       "0            24.33"
      ]
     },
     "execution_count": 32,
     "metadata": {},
     "output_type": "execute_result"
    }
   ],
   "source": [
    "# просмотрим таблицу c результатом\n",
    "top_users"
   ]
  },
  {
   "cell_type": "markdown",
   "metadata": {},
   "source": [
    "В среднем, пользователи, которые поставили больше 50 оценок книгам, делают 24 обзора книг."
   ]
  },
  {
   "cell_type": "markdown",
   "metadata": {},
   "source": [
    "### Выводы по главе"
   ]
  },
  {
   "cell_type": "markdown",
   "metadata": {},
   "source": [
    "**Выводы:**\n",
    "    \n",
    "1. После 1 января 2000 года вышло 819 книг.\n",
    "\n",
    "2. В нашей базе данных не так много обзоров на книги. Но лидер это Сумерки. С 7 обзорами это самая популярная книга по количеству обзоров. Другие лидеры по количеству обзоров это Загадочное ночное убийство собаки, Гарри Поттер и тайная комната, Код да Винчи, Стеклянный замок. При этом видно, что популярные книги могуть иметь не самую высокую оценку. Заметно, что некоторые книги вообще не имеют обзоров.\n",
    "\n",
    "3. Издательство Penguin Books издало 42 книги, толще 50 страниц.\n",
    "\n",
    "4. Дж.К. Роулинг - писатель с самой высокой средней оценкой книг (с учетом только книг, у которых от 50 оценок).\n",
    "\n",
    "5. В среднем, пользователи, которые поставили больше 50 оценок книгам, делают 24 обзора книг."
   ]
  },
  {
   "cell_type": "markdown",
   "metadata": {},
   "source": [
    "## Выводы по исследованию"
   ]
  },
  {
   "cell_type": "markdown",
   "metadata": {},
   "source": [
    "Мы сделали запросы к базе данных и получили ответы на поставленные вопросы.\n",
    "\n",
    "- Посчитайте, сколько книг вышло после 1 января 2000 года;\n",
    "\n",
    "**Ответ: После 1 января 2000 года вышло 819 книг.**\n",
    "\n",
    "- Для каждой книги посчитайте количество обзоров и среднюю оценку;\n",
    "\n",
    "**Ответ: Мы посчитали количество обзоров и среднюю оценку для каждой книги. В нашей базе данных не так много обзоров на книги. Но лидер это Сумерки. С 7 обзорами это самая популярная книга по количеству обзоров. Другие лидеры по количеству обзоров это Загадочное ночное убийство собаки, Гарри Поттер и тайная комната, Код да Винчи, Стеклянный замок. При этом видно, что популярные по количеству обзоров книги могут иметь не самую высокую оценку. Заметно, что некоторые книги вообще не имеют обзоров.**\n",
    "\n",
    "- Определите издательство, которое выпустило наибольшее число книг толще 50 страниц — так вы исключите из анализа брошюры;\n",
    "\n",
    "**Ответ: Издательство Penguin Books издало 42 книги, толще 50 страниц.**\n",
    "\n",
    "- Определите автора с самой высокой средней оценкой книг — учитывайте только книги с 50 и более оценками;\n",
    "\n",
    "**Ответ: Дж.К. Роулинг - писатель с самой высокой средней оценкой книг (с учетом только книг, у которых от 50 оценок).**\n",
    "\n",
    "- Посчитайте среднее количество обзоров от пользователей, которые поставили больше 50 оценок.\n",
    "\n",
    "**Ответ: В среднем, пользователи, которые поставили больше 50 оценок книгам, делают 24 обзора книг.**"
   ]
  },
  {
   "cell_type": "markdown",
   "metadata": {},
   "source": [
    "### Рекомендации"
   ]
  },
  {
   "cell_type": "markdown",
   "metadata": {},
   "source": [
    "1. Стоит сосредоточиться на продаже популярных по количеству обзоров книг. При этом популярные по количеству обзоров, книги могут иметь не самые высокие оценки пользователей.\n",
    "2. Стоит обязательно продавать книги издательства Penguin Books. Это самое крупное издательство. Предполагаем, что достаточно много людей будет искать книги этого издательства.\n",
    "3. Также стоит обязательно продавать книги автора Дж.К. Роулинг. Это писатель с самой высокой средней оценкой книг. Предполагаем, что читателит будут искать книги с высокой средней оценкой.\n",
    "4. Стоит поощрять пользователей оставлять обзоры на книги. Это поможет нам выявлять популярные книги.\n",
    "5. В нашем сервисе есть активные обзорщики книг, которые сделали от 24 обзоров книг. Стоит поощрять таких читателей, это также поможет нам выявлять популярные книги."
   ]
  }
 ],
 "metadata": {
  "ExecuteTimeLog": [
   {
    "duration": 491,
    "start_time": "2023-01-08T10:15:00.652Z"
   },
   {
    "duration": 14772,
    "start_time": "2023-01-08T10:15:01.145Z"
   },
   {
    "duration": 2,
    "start_time": "2023-01-08T10:15:15.919Z"
   },
   {
    "duration": 9,
    "start_time": "2023-01-08T10:15:15.923Z"
   },
   {
    "duration": 5,
    "start_time": "2023-01-08T10:15:15.933Z"
   },
   {
    "duration": 95,
    "start_time": "2023-01-08T10:15:15.940Z"
   },
   {
    "duration": 14,
    "start_time": "2023-01-08T10:15:16.036Z"
   },
   {
    "duration": 3,
    "start_time": "2023-01-08T10:15:16.052Z"
   },
   {
    "duration": 11,
    "start_time": "2023-01-08T10:15:16.056Z"
   },
   {
    "duration": 6,
    "start_time": "2023-01-08T10:15:16.070Z"
   },
   {
    "duration": 4,
    "start_time": "2023-01-08T10:15:16.078Z"
   },
   {
    "duration": 21,
    "start_time": "2023-01-08T10:15:16.083Z"
   },
   {
    "duration": 7,
    "start_time": "2023-01-08T10:15:16.105Z"
   },
   {
    "duration": 2,
    "start_time": "2023-01-08T10:15:16.122Z"
   },
   {
    "duration": 27,
    "start_time": "2023-01-08T10:15:16.126Z"
   },
   {
    "duration": 7,
    "start_time": "2023-01-08T10:15:16.155Z"
   },
   {
    "duration": 9,
    "start_time": "2023-01-08T10:15:16.164Z"
   },
   {
    "duration": 22,
    "start_time": "2023-01-08T10:15:16.174Z"
   },
   {
    "duration": 8,
    "start_time": "2023-01-08T10:15:16.197Z"
   },
   {
    "duration": 506,
    "start_time": "2023-01-08T10:17:56.095Z"
   },
   {
    "duration": 7855,
    "start_time": "2023-01-08T10:17:56.603Z"
   },
   {
    "duration": 1,
    "start_time": "2023-01-08T10:18:04.460Z"
   },
   {
    "duration": 6,
    "start_time": "2023-01-08T10:18:04.463Z"
   },
   {
    "duration": 8,
    "start_time": "2023-01-08T10:18:04.471Z"
   },
   {
    "duration": 49,
    "start_time": "2023-01-08T10:18:04.481Z"
   },
   {
    "duration": 15,
    "start_time": "2023-01-08T10:18:04.532Z"
   },
   {
    "duration": 8,
    "start_time": "2023-01-08T10:18:04.549Z"
   },
   {
    "duration": 14,
    "start_time": "2023-01-08T10:18:04.559Z"
   },
   {
    "duration": 6,
    "start_time": "2023-01-08T10:18:04.575Z"
   },
   {
    "duration": 7,
    "start_time": "2023-01-08T10:18:04.583Z"
   },
   {
    "duration": 9,
    "start_time": "2023-01-08T10:18:04.592Z"
   },
   {
    "duration": 21,
    "start_time": "2023-01-08T10:18:04.602Z"
   },
   {
    "duration": 2,
    "start_time": "2023-01-08T10:18:04.626Z"
   },
   {
    "duration": 28,
    "start_time": "2023-01-08T10:18:04.630Z"
   },
   {
    "duration": 7,
    "start_time": "2023-01-08T10:18:04.659Z"
   },
   {
    "duration": 6,
    "start_time": "2023-01-08T10:18:04.668Z"
   },
   {
    "duration": 16,
    "start_time": "2023-01-08T10:18:04.676Z"
   },
   {
    "duration": 8,
    "start_time": "2023-01-08T10:18:04.694Z"
   },
   {
    "duration": 614,
    "start_time": "2023-01-08T10:18:12.309Z"
   },
   {
    "duration": 7669,
    "start_time": "2023-01-08T10:18:12.925Z"
   },
   {
    "duration": 3,
    "start_time": "2023-01-08T10:18:20.595Z"
   },
   {
    "duration": 16,
    "start_time": "2023-01-08T10:18:20.599Z"
   },
   {
    "duration": 19,
    "start_time": "2023-01-08T10:18:20.617Z"
   },
   {
    "duration": 52,
    "start_time": "2023-01-08T10:18:20.638Z"
   },
   {
    "duration": 14,
    "start_time": "2023-01-08T10:18:20.691Z"
   },
   {
    "duration": 9,
    "start_time": "2023-01-08T10:18:20.707Z"
   },
   {
    "duration": 14,
    "start_time": "2023-01-08T10:18:20.720Z"
   },
   {
    "duration": 7,
    "start_time": "2023-01-08T10:18:20.736Z"
   },
   {
    "duration": 5,
    "start_time": "2023-01-08T10:18:20.745Z"
   },
   {
    "duration": 18,
    "start_time": "2023-01-08T10:18:20.752Z"
   },
   {
    "duration": 7,
    "start_time": "2023-01-08T10:18:20.772Z"
   },
   {
    "duration": 7,
    "start_time": "2023-01-08T10:18:20.781Z"
   },
   {
    "duration": 28,
    "start_time": "2023-01-08T10:18:20.789Z"
   },
   {
    "duration": 7,
    "start_time": "2023-01-08T10:18:20.819Z"
   },
   {
    "duration": 9,
    "start_time": "2023-01-08T10:18:20.827Z"
   },
   {
    "duration": 16,
    "start_time": "2023-01-08T10:18:20.837Z"
   },
   {
    "duration": 15,
    "start_time": "2023-01-08T10:18:20.854Z"
   },
   {
    "duration": 97,
    "start_time": "2023-01-08T10:20:54.399Z"
   },
   {
    "duration": 570,
    "start_time": "2023-01-08T13:15:19.881Z"
   },
   {
    "duration": 7823,
    "start_time": "2023-01-08T13:15:20.453Z"
   },
   {
    "duration": 6,
    "start_time": "2023-01-08T13:15:28.278Z"
   },
   {
    "duration": 7,
    "start_time": "2023-01-08T13:15:28.287Z"
   },
   {
    "duration": 5,
    "start_time": "2023-01-08T13:15:28.296Z"
   },
   {
    "duration": 56,
    "start_time": "2023-01-08T13:15:28.303Z"
   },
   {
    "duration": 18,
    "start_time": "2023-01-08T13:15:28.361Z"
   },
   {
    "duration": 8,
    "start_time": "2023-01-08T13:15:28.381Z"
   },
   {
    "duration": 28,
    "start_time": "2023-01-08T13:15:28.391Z"
   },
   {
    "duration": 22,
    "start_time": "2023-01-08T13:15:28.423Z"
   },
   {
    "duration": 31,
    "start_time": "2023-01-08T13:15:28.447Z"
   },
   {
    "duration": 28,
    "start_time": "2023-01-08T13:15:28.480Z"
   },
   {
    "duration": 15,
    "start_time": "2023-01-08T13:15:28.510Z"
   },
   {
    "duration": 18,
    "start_time": "2023-01-08T13:15:28.527Z"
   },
   {
    "duration": 33,
    "start_time": "2023-01-08T13:15:28.547Z"
   },
   {
    "duration": 19,
    "start_time": "2023-01-08T13:15:28.583Z"
   },
   {
    "duration": 18,
    "start_time": "2023-01-08T13:15:28.604Z"
   },
   {
    "duration": 19,
    "start_time": "2023-01-08T13:15:28.624Z"
   },
   {
    "duration": 17,
    "start_time": "2023-01-08T13:15:28.645Z"
   },
   {
    "duration": 12,
    "start_time": "2023-01-08T13:15:50.986Z"
   },
   {
    "duration": 517,
    "start_time": "2023-01-08T13:19:33.207Z"
   },
   {
    "duration": 8211,
    "start_time": "2023-01-08T13:19:33.726Z"
   },
   {
    "duration": 2,
    "start_time": "2023-01-08T13:19:41.939Z"
   },
   {
    "duration": 7,
    "start_time": "2023-01-08T13:19:41.943Z"
   },
   {
    "duration": 23,
    "start_time": "2023-01-08T13:19:41.953Z"
   },
   {
    "duration": 89,
    "start_time": "2023-01-08T13:19:41.978Z"
   },
   {
    "duration": 15,
    "start_time": "2023-01-08T13:19:42.069Z"
   },
   {
    "duration": 4,
    "start_time": "2023-01-08T13:19:42.086Z"
   },
   {
    "duration": 22,
    "start_time": "2023-01-08T13:19:42.091Z"
   },
   {
    "duration": 6,
    "start_time": "2023-01-08T13:19:42.115Z"
   },
   {
    "duration": 5,
    "start_time": "2023-01-08T13:19:42.123Z"
   },
   {
    "duration": 10,
    "start_time": "2023-01-08T13:19:42.129Z"
   },
   {
    "duration": 7,
    "start_time": "2023-01-08T13:19:42.141Z"
   },
   {
    "duration": 17,
    "start_time": "2023-01-08T13:19:42.155Z"
   },
   {
    "duration": 12,
    "start_time": "2023-01-08T13:19:42.174Z"
   },
   {
    "duration": 8,
    "start_time": "2023-01-08T13:19:42.188Z"
   },
   {
    "duration": 6,
    "start_time": "2023-01-08T13:19:42.198Z"
   },
   {
    "duration": 10,
    "start_time": "2023-01-08T13:19:42.206Z"
   },
   {
    "duration": 7,
    "start_time": "2023-01-08T13:19:42.218Z"
   },
   {
    "duration": 573,
    "start_time": "2023-01-08T14:01:20.733Z"
   },
   {
    "duration": 7837,
    "start_time": "2023-01-08T14:01:21.308Z"
   },
   {
    "duration": 3,
    "start_time": "2023-01-08T14:01:29.146Z"
   },
   {
    "duration": 12,
    "start_time": "2023-01-08T14:01:29.151Z"
   },
   {
    "duration": 10,
    "start_time": "2023-01-08T14:01:29.166Z"
   },
   {
    "duration": 48,
    "start_time": "2023-01-08T14:01:29.178Z"
   },
   {
    "duration": 18,
    "start_time": "2023-01-08T14:01:29.228Z"
   },
   {
    "duration": 5,
    "start_time": "2023-01-08T14:01:29.247Z"
   },
   {
    "duration": 10,
    "start_time": "2023-01-08T14:01:29.254Z"
   },
   {
    "duration": 7,
    "start_time": "2023-01-08T14:01:29.267Z"
   },
   {
    "duration": 8,
    "start_time": "2023-01-08T14:01:29.276Z"
   },
   {
    "duration": 21,
    "start_time": "2023-01-08T14:01:29.286Z"
   },
   {
    "duration": 7,
    "start_time": "2023-01-08T14:01:29.309Z"
   },
   {
    "duration": 8,
    "start_time": "2023-01-08T14:01:29.318Z"
   },
   {
    "duration": 11,
    "start_time": "2023-01-08T14:01:29.327Z"
   },
   {
    "duration": 13,
    "start_time": "2023-01-08T14:01:29.339Z"
   },
   {
    "duration": 19,
    "start_time": "2023-01-08T14:01:29.354Z"
   },
   {
    "duration": 21,
    "start_time": "2023-01-08T14:01:29.375Z"
   },
   {
    "duration": 11,
    "start_time": "2023-01-08T14:01:29.398Z"
   },
   {
    "duration": 9,
    "start_time": "2023-01-08T14:01:29.411Z"
   },
   {
    "duration": 11,
    "start_time": "2023-01-08T14:01:29.421Z"
   },
   {
    "duration": 8,
    "start_time": "2023-01-08T14:01:29.434Z"
   },
   {
    "duration": 557,
    "start_time": "2023-01-08T14:03:57.670Z"
   },
   {
    "duration": 7882,
    "start_time": "2023-01-08T14:03:58.229Z"
   },
   {
    "duration": 3,
    "start_time": "2023-01-08T14:04:06.113Z"
   },
   {
    "duration": 6,
    "start_time": "2023-01-08T14:04:06.119Z"
   },
   {
    "duration": 14,
    "start_time": "2023-01-08T14:04:06.127Z"
   },
   {
    "duration": 67,
    "start_time": "2023-01-08T14:04:06.144Z"
   },
   {
    "duration": 23,
    "start_time": "2023-01-08T14:04:06.213Z"
   },
   {
    "duration": 3,
    "start_time": "2023-01-08T14:04:06.238Z"
   },
   {
    "duration": 12,
    "start_time": "2023-01-08T14:04:06.243Z"
   },
   {
    "duration": 6,
    "start_time": "2023-01-08T14:04:06.259Z"
   },
   {
    "duration": 9,
    "start_time": "2023-01-08T14:04:06.267Z"
   },
   {
    "duration": 14,
    "start_time": "2023-01-08T14:04:06.278Z"
   },
   {
    "duration": 7,
    "start_time": "2023-01-08T14:04:06.295Z"
   },
   {
    "duration": 6,
    "start_time": "2023-01-08T14:04:06.304Z"
   },
   {
    "duration": 13,
    "start_time": "2023-01-08T14:04:06.311Z"
   },
   {
    "duration": 25,
    "start_time": "2023-01-08T14:04:06.326Z"
   },
   {
    "duration": 3,
    "start_time": "2023-01-08T14:04:06.353Z"
   },
   {
    "duration": 13,
    "start_time": "2023-01-08T14:04:06.358Z"
   },
   {
    "duration": 9,
    "start_time": "2023-01-08T14:04:06.373Z"
   },
   {
    "duration": 4,
    "start_time": "2023-01-08T14:04:06.385Z"
   },
   {
    "duration": 13,
    "start_time": "2023-01-08T14:04:06.391Z"
   },
   {
    "duration": 13,
    "start_time": "2023-01-08T14:04:06.406Z"
   },
   {
    "duration": 2,
    "start_time": "2023-01-08T14:05:34.825Z"
   },
   {
    "duration": 182,
    "start_time": "2023-01-08T14:05:36.671Z"
   },
   {
    "duration": 3,
    "start_time": "2023-01-08T14:09:03.215Z"
   },
   {
    "duration": 17,
    "start_time": "2023-01-08T14:09:05.191Z"
   },
   {
    "duration": 9,
    "start_time": "2023-01-08T14:09:07.238Z"
   },
   {
    "duration": 2,
    "start_time": "2023-01-08T14:09:42.430Z"
   },
   {
    "duration": 116,
    "start_time": "2023-01-08T14:09:43.845Z"
   },
   {
    "duration": 3,
    "start_time": "2023-01-08T14:09:57.941Z"
   },
   {
    "duration": 94,
    "start_time": "2023-01-08T14:09:59.933Z"
   },
   {
    "duration": 3,
    "start_time": "2023-01-08T14:11:58.324Z"
   },
   {
    "duration": 12,
    "start_time": "2023-01-08T14:12:00.301Z"
   },
   {
    "duration": 14,
    "start_time": "2023-01-08T14:12:01.925Z"
   },
   {
    "duration": 3,
    "start_time": "2023-01-08T14:12:12.315Z"
   },
   {
    "duration": 12,
    "start_time": "2023-01-08T14:12:13.060Z"
   },
   {
    "duration": 10,
    "start_time": "2023-01-08T14:12:14.236Z"
   },
   {
    "duration": 6,
    "start_time": "2023-01-08T14:12:31.939Z"
   },
   {
    "duration": 3,
    "start_time": "2023-01-08T14:13:04.859Z"
   },
   {
    "duration": 93,
    "start_time": "2023-01-08T14:13:06.875Z"
   },
   {
    "duration": 3,
    "start_time": "2023-01-08T14:13:57.154Z"
   },
   {
    "duration": 104,
    "start_time": "2023-01-08T14:13:59.275Z"
   },
   {
    "duration": 3,
    "start_time": "2023-01-08T14:14:10.714Z"
   },
   {
    "duration": 91,
    "start_time": "2023-01-08T14:14:13.146Z"
   },
   {
    "duration": 5,
    "start_time": "2023-01-08T14:14:21.753Z"
   },
   {
    "duration": 9,
    "start_time": "2023-01-08T14:14:24.621Z"
   },
   {
    "duration": 8,
    "start_time": "2023-01-08T14:14:26.770Z"
   },
   {
    "duration": 3,
    "start_time": "2023-01-08T14:14:39.074Z"
   },
   {
    "duration": 12,
    "start_time": "2023-01-08T14:14:40.025Z"
   },
   {
    "duration": 12,
    "start_time": "2023-01-08T14:14:40.988Z"
   },
   {
    "duration": 3,
    "start_time": "2023-01-08T14:16:11.731Z"
   },
   {
    "duration": 8,
    "start_time": "2023-01-08T14:16:12.809Z"
   },
   {
    "duration": 8,
    "start_time": "2023-01-08T14:16:13.761Z"
   },
   {
    "duration": 3,
    "start_time": "2023-01-08T14:16:20.370Z"
   },
   {
    "duration": 8,
    "start_time": "2023-01-08T14:16:21.689Z"
   },
   {
    "duration": 7,
    "start_time": "2023-01-08T14:16:23.681Z"
   },
   {
    "duration": 3,
    "start_time": "2023-01-08T14:17:22.943Z"
   },
   {
    "duration": 8,
    "start_time": "2023-01-08T14:17:24.968Z"
   },
   {
    "duration": 6,
    "start_time": "2023-01-08T14:17:25.977Z"
   },
   {
    "duration": 2,
    "start_time": "2023-01-08T14:17:34.648Z"
   },
   {
    "duration": 8,
    "start_time": "2023-01-08T14:17:37.376Z"
   },
   {
    "duration": 15,
    "start_time": "2023-01-08T14:17:38.377Z"
   },
   {
    "duration": 6,
    "start_time": "2023-01-08T14:17:39.249Z"
   },
   {
    "duration": 3,
    "start_time": "2023-01-08T14:17:48.664Z"
   },
   {
    "duration": 8,
    "start_time": "2023-01-08T14:17:50.041Z"
   },
   {
    "duration": 6,
    "start_time": "2023-01-08T14:17:51.305Z"
   },
   {
    "duration": 3,
    "start_time": "2023-01-08T14:18:29.855Z"
   },
   {
    "duration": 3,
    "start_time": "2023-01-08T14:18:31.719Z"
   },
   {
    "duration": 8,
    "start_time": "2023-01-08T14:18:32.822Z"
   },
   {
    "duration": 7,
    "start_time": "2023-01-08T14:18:33.807Z"
   },
   {
    "duration": 3,
    "start_time": "2023-01-08T14:18:43.431Z"
   },
   {
    "duration": 9,
    "start_time": "2023-01-08T14:18:44.627Z"
   },
   {
    "duration": 7,
    "start_time": "2023-01-08T14:18:46.215Z"
   },
   {
    "duration": 3,
    "start_time": "2023-01-08T14:18:50.785Z"
   },
   {
    "duration": 8,
    "start_time": "2023-01-08T14:18:51.759Z"
   },
   {
    "duration": 6,
    "start_time": "2023-01-08T14:18:52.640Z"
   },
   {
    "duration": 3,
    "start_time": "2023-01-08T14:19:36.558Z"
   },
   {
    "duration": 9,
    "start_time": "2023-01-08T14:19:38.718Z"
   },
   {
    "duration": 7,
    "start_time": "2023-01-08T14:19:39.727Z"
   },
   {
    "duration": 3,
    "start_time": "2023-01-08T15:16:20.060Z"
   },
   {
    "duration": 9,
    "start_time": "2023-01-08T15:16:21.139Z"
   },
   {
    "duration": 7,
    "start_time": "2023-01-08T15:16:22.091Z"
   },
   {
    "duration": 3,
    "start_time": "2023-01-08T15:17:05.297Z"
   },
   {
    "duration": 9,
    "start_time": "2023-01-08T15:17:06.194Z"
   },
   {
    "duration": 5,
    "start_time": "2023-01-08T15:17:07.324Z"
   },
   {
    "duration": 3,
    "start_time": "2023-01-08T15:55:19.437Z"
   },
   {
    "duration": 24,
    "start_time": "2023-01-08T15:55:20.260Z"
   },
   {
    "duration": 12,
    "start_time": "2023-01-08T15:55:21.406Z"
   },
   {
    "duration": 3,
    "start_time": "2023-01-08T15:56:13.060Z"
   },
   {
    "duration": 244,
    "start_time": "2023-01-08T15:56:14.628Z"
   },
   {
    "duration": 14,
    "start_time": "2023-01-08T15:56:15.260Z"
   },
   {
    "duration": 3,
    "start_time": "2023-01-08T15:56:58.564Z"
   },
   {
    "duration": 102,
    "start_time": "2023-01-08T15:56:59.802Z"
   },
   {
    "duration": 14,
    "start_time": "2023-01-08T15:57:00.419Z"
   },
   {
    "duration": 3,
    "start_time": "2023-01-08T15:57:11.379Z"
   },
   {
    "duration": 226,
    "start_time": "2023-01-08T15:57:12.746Z"
   },
   {
    "duration": 15,
    "start_time": "2023-01-08T15:57:14.099Z"
   },
   {
    "duration": 3,
    "start_time": "2023-01-08T15:58:18.530Z"
   },
   {
    "duration": 94,
    "start_time": "2023-01-08T15:58:20.427Z"
   },
   {
    "duration": 3,
    "start_time": "2023-01-08T15:58:49.331Z"
   },
   {
    "duration": 95,
    "start_time": "2023-01-08T15:58:50.849Z"
   },
   {
    "duration": 3,
    "start_time": "2023-01-08T15:59:09.169Z"
   },
   {
    "duration": 31,
    "start_time": "2023-01-08T15:59:10.146Z"
   },
   {
    "duration": 8,
    "start_time": "2023-01-08T15:59:11.165Z"
   },
   {
    "duration": 7,
    "start_time": "2023-01-08T15:59:17.346Z"
   },
   {
    "duration": 11,
    "start_time": "2023-01-08T15:59:22.778Z"
   },
   {
    "duration": 4,
    "start_time": "2023-01-08T15:59:35.188Z"
   },
   {
    "duration": 27,
    "start_time": "2023-01-08T15:59:37.780Z"
   },
   {
    "duration": 13,
    "start_time": "2023-01-08T15:59:39.121Z"
   },
   {
    "duration": 6,
    "start_time": "2023-01-08T16:00:04.165Z"
   },
   {
    "duration": 4,
    "start_time": "2023-01-08T16:00:29.777Z"
   },
   {
    "duration": 21,
    "start_time": "2023-01-08T16:00:31.394Z"
   },
   {
    "duration": 11,
    "start_time": "2023-01-08T16:00:33.585Z"
   },
   {
    "duration": 3,
    "start_time": "2023-01-08T16:00:38.063Z"
   },
   {
    "duration": 11,
    "start_time": "2023-01-08T16:00:41.813Z"
   },
   {
    "duration": 2,
    "start_time": "2023-01-08T16:01:11.106Z"
   },
   {
    "duration": 20,
    "start_time": "2023-01-08T16:01:12.431Z"
   },
   {
    "duration": 11,
    "start_time": "2023-01-08T16:01:13.218Z"
   },
   {
    "duration": 3,
    "start_time": "2023-01-08T16:01:33.547Z"
   },
   {
    "duration": 23,
    "start_time": "2023-01-08T16:01:35.504Z"
   },
   {
    "duration": 13,
    "start_time": "2023-01-08T16:01:37.281Z"
   },
   {
    "duration": 3,
    "start_time": "2023-01-08T16:01:51.931Z"
   },
   {
    "duration": 4,
    "start_time": "2023-01-08T16:01:53.879Z"
   },
   {
    "duration": 27,
    "start_time": "2023-01-08T16:01:56.240Z"
   },
   {
    "duration": 17,
    "start_time": "2023-01-08T16:01:57.185Z"
   },
   {
    "duration": 3,
    "start_time": "2023-01-08T16:03:42.243Z"
   },
   {
    "duration": 22,
    "start_time": "2023-01-08T16:03:43.975Z"
   },
   {
    "duration": 14,
    "start_time": "2023-01-08T16:03:46.471Z"
   },
   {
    "duration": 4,
    "start_time": "2023-01-08T16:04:12.487Z"
   },
   {
    "duration": 21,
    "start_time": "2023-01-08T16:04:13.479Z"
   },
   {
    "duration": 14,
    "start_time": "2023-01-08T16:04:14.575Z"
   },
   {
    "duration": 4,
    "start_time": "2023-01-08T16:04:32.942Z"
   },
   {
    "duration": 19,
    "start_time": "2023-01-08T16:04:33.928Z"
   },
   {
    "duration": 12,
    "start_time": "2023-01-08T16:04:34.743Z"
   },
   {
    "duration": 3,
    "start_time": "2023-01-08T16:12:07.266Z"
   },
   {
    "duration": 14,
    "start_time": "2023-01-08T16:12:08.469Z"
   },
   {
    "duration": 16,
    "start_time": "2023-01-08T16:12:09.299Z"
   },
   {
    "duration": 5,
    "start_time": "2023-01-08T16:12:49.659Z"
   },
   {
    "duration": 13,
    "start_time": "2023-01-08T16:12:51.073Z"
   },
   {
    "duration": 17,
    "start_time": "2023-01-08T16:12:52.259Z"
   },
   {
    "duration": 6,
    "start_time": "2023-01-08T16:13:09.201Z"
   },
   {
    "duration": 4,
    "start_time": "2023-01-08T16:13:15.193Z"
   },
   {
    "duration": 13,
    "start_time": "2023-01-08T16:13:16.443Z"
   },
   {
    "duration": 15,
    "start_time": "2023-01-08T16:13:17.042Z"
   },
   {
    "duration": 6,
    "start_time": "2023-01-08T16:13:18.242Z"
   },
   {
    "duration": 3,
    "start_time": "2023-01-08T16:13:22.305Z"
   },
   {
    "duration": 2,
    "start_time": "2023-01-08T16:14:00.753Z"
   },
   {
    "duration": 9,
    "start_time": "2023-01-08T16:14:02.160Z"
   },
   {
    "duration": 10,
    "start_time": "2023-01-08T16:14:02.882Z"
   },
   {
    "duration": 4,
    "start_time": "2023-01-08T16:14:27.649Z"
   },
   {
    "duration": 18,
    "start_time": "2023-01-08T16:14:29.217Z"
   },
   {
    "duration": 11,
    "start_time": "2023-01-08T16:14:29.786Z"
   },
   {
    "duration": 4,
    "start_time": "2023-01-08T16:14:36.529Z"
   },
   {
    "duration": 9,
    "start_time": "2023-01-08T16:14:38.320Z"
   },
   {
    "duration": 9,
    "start_time": "2023-01-08T16:14:39.163Z"
   },
   {
    "duration": 636,
    "start_time": "2023-01-08T16:16:49.640Z"
   },
   {
    "duration": 7868,
    "start_time": "2023-01-08T16:16:50.278Z"
   },
   {
    "duration": 2,
    "start_time": "2023-01-08T16:16:58.148Z"
   },
   {
    "duration": 8,
    "start_time": "2023-01-08T16:16:58.154Z"
   },
   {
    "duration": 9,
    "start_time": "2023-01-08T16:16:58.164Z"
   },
   {
    "duration": 66,
    "start_time": "2023-01-08T16:16:58.176Z"
   },
   {
    "duration": 16,
    "start_time": "2023-01-08T16:16:58.244Z"
   },
   {
    "duration": 2,
    "start_time": "2023-01-08T16:16:58.262Z"
   },
   {
    "duration": 17,
    "start_time": "2023-01-08T16:16:58.266Z"
   },
   {
    "duration": 10,
    "start_time": "2023-01-08T16:16:58.286Z"
   },
   {
    "duration": 9,
    "start_time": "2023-01-08T16:16:58.298Z"
   },
   {
    "duration": 20,
    "start_time": "2023-01-08T16:16:58.308Z"
   },
   {
    "duration": 11,
    "start_time": "2023-01-08T16:16:58.330Z"
   },
   {
    "duration": 5,
    "start_time": "2023-01-08T16:16:58.351Z"
   },
   {
    "duration": 15,
    "start_time": "2023-01-08T16:16:58.358Z"
   },
   {
    "duration": 7,
    "start_time": "2023-01-08T16:16:58.375Z"
   },
   {
    "duration": 6,
    "start_time": "2023-01-08T16:16:58.384Z"
   },
   {
    "duration": 11,
    "start_time": "2023-01-08T16:16:58.392Z"
   },
   {
    "duration": 9,
    "start_time": "2023-01-08T16:16:58.405Z"
   },
   {
    "duration": 10,
    "start_time": "2023-01-08T16:16:58.416Z"
   },
   {
    "duration": 8,
    "start_time": "2023-01-08T16:16:58.450Z"
   },
   {
    "duration": 8,
    "start_time": "2023-01-08T16:16:58.460Z"
   },
   {
    "duration": 14,
    "start_time": "2023-01-08T16:16:58.470Z"
   },
   {
    "duration": 33,
    "start_time": "2023-01-08T16:16:58.486Z"
   },
   {
    "duration": 13,
    "start_time": "2023-01-08T16:16:58.521Z"
   },
   {
    "duration": 10,
    "start_time": "2023-01-08T16:16:58.535Z"
   },
   {
    "duration": 16,
    "start_time": "2023-01-08T16:16:58.547Z"
   },
   {
    "duration": 7,
    "start_time": "2023-01-08T16:16:58.567Z"
   },
   {
    "duration": 13,
    "start_time": "2023-01-08T16:16:58.576Z"
   },
   {
    "duration": 575,
    "start_time": "2023-01-08T16:17:34.425Z"
   },
   {
    "duration": 7699,
    "start_time": "2023-01-08T16:17:35.002Z"
   },
   {
    "duration": 2,
    "start_time": "2023-01-08T16:17:42.703Z"
   },
   {
    "duration": 5,
    "start_time": "2023-01-08T16:17:42.707Z"
   },
   {
    "duration": 6,
    "start_time": "2023-01-08T16:17:42.714Z"
   },
   {
    "duration": 38,
    "start_time": "2023-01-08T16:17:42.722Z"
   },
   {
    "duration": 16,
    "start_time": "2023-01-08T16:17:42.762Z"
   },
   {
    "duration": 3,
    "start_time": "2023-01-08T16:17:42.780Z"
   },
   {
    "duration": 11,
    "start_time": "2023-01-08T16:17:42.784Z"
   },
   {
    "duration": 7,
    "start_time": "2023-01-08T16:17:42.798Z"
   },
   {
    "duration": 10,
    "start_time": "2023-01-08T16:17:42.806Z"
   },
   {
    "duration": 12,
    "start_time": "2023-01-08T16:17:42.817Z"
   },
   {
    "duration": 21,
    "start_time": "2023-01-08T16:17:42.831Z"
   },
   {
    "duration": 5,
    "start_time": "2023-01-08T16:17:42.854Z"
   },
   {
    "duration": 13,
    "start_time": "2023-01-08T16:17:42.861Z"
   },
   {
    "duration": 9,
    "start_time": "2023-01-08T16:17:42.876Z"
   },
   {
    "duration": 4,
    "start_time": "2023-01-08T16:17:42.887Z"
   },
   {
    "duration": 12,
    "start_time": "2023-01-08T16:17:42.893Z"
   },
   {
    "duration": 8,
    "start_time": "2023-01-08T16:17:42.906Z"
   },
   {
    "duration": 5,
    "start_time": "2023-01-08T16:17:42.916Z"
   },
   {
    "duration": 34,
    "start_time": "2023-01-08T16:17:42.923Z"
   },
   {
    "duration": 5,
    "start_time": "2023-01-08T16:17:42.959Z"
   },
   {
    "duration": 7,
    "start_time": "2023-01-08T16:17:42.966Z"
   },
   {
    "duration": 24,
    "start_time": "2023-01-08T16:17:42.975Z"
   },
   {
    "duration": 12,
    "start_time": "2023-01-08T16:17:43.001Z"
   },
   {
    "duration": 5,
    "start_time": "2023-01-08T16:17:43.015Z"
   },
   {
    "duration": 12,
    "start_time": "2023-01-08T16:17:43.021Z"
   },
   {
    "duration": 16,
    "start_time": "2023-01-08T16:17:43.036Z"
   },
   {
    "duration": 7,
    "start_time": "2023-01-08T16:17:43.054Z"
   },
   {
    "duration": 545,
    "start_time": "2023-01-08T16:18:03.373Z"
   },
   {
    "duration": 7457,
    "start_time": "2023-01-08T16:18:03.920Z"
   },
   {
    "duration": 3,
    "start_time": "2023-01-08T16:18:11.378Z"
   },
   {
    "duration": 22,
    "start_time": "2023-01-08T16:18:11.383Z"
   },
   {
    "duration": 33,
    "start_time": "2023-01-08T16:18:11.407Z"
   },
   {
    "duration": 43,
    "start_time": "2023-01-08T16:18:11.443Z"
   },
   {
    "duration": 18,
    "start_time": "2023-01-08T16:18:11.488Z"
   },
   {
    "duration": 18,
    "start_time": "2023-01-08T16:18:11.508Z"
   },
   {
    "duration": 11,
    "start_time": "2023-01-08T16:18:11.529Z"
   },
   {
    "duration": 31,
    "start_time": "2023-01-08T16:18:11.544Z"
   },
   {
    "duration": 27,
    "start_time": "2023-01-08T16:18:11.577Z"
   },
   {
    "duration": 22,
    "start_time": "2023-01-08T16:18:11.606Z"
   },
   {
    "duration": 24,
    "start_time": "2023-01-08T16:18:11.630Z"
   },
   {
    "duration": 11,
    "start_time": "2023-01-08T16:18:11.656Z"
   },
   {
    "duration": 38,
    "start_time": "2023-01-08T16:18:11.668Z"
   },
   {
    "duration": 24,
    "start_time": "2023-01-08T16:18:11.708Z"
   },
   {
    "duration": 16,
    "start_time": "2023-01-08T16:18:11.734Z"
   },
   {
    "duration": 43,
    "start_time": "2023-01-08T16:18:11.752Z"
   },
   {
    "duration": 17,
    "start_time": "2023-01-08T16:18:11.797Z"
   },
   {
    "duration": 26,
    "start_time": "2023-01-08T16:18:11.816Z"
   },
   {
    "duration": 32,
    "start_time": "2023-01-08T16:18:11.844Z"
   },
   {
    "duration": 29,
    "start_time": "2023-01-08T16:18:11.878Z"
   },
   {
    "duration": 33,
    "start_time": "2023-01-08T16:18:11.909Z"
   },
   {
    "duration": 60,
    "start_time": "2023-01-08T16:18:11.944Z"
   },
   {
    "duration": 15,
    "start_time": "2023-01-08T16:18:12.006Z"
   },
   {
    "duration": 35,
    "start_time": "2023-01-08T16:18:12.023Z"
   },
   {
    "duration": 30,
    "start_time": "2023-01-08T16:18:12.059Z"
   },
   {
    "duration": 25,
    "start_time": "2023-01-08T16:18:12.092Z"
   },
   {
    "duration": 46,
    "start_time": "2023-01-08T16:18:12.118Z"
   },
   {
    "duration": 3,
    "start_time": "2023-01-08T16:19:06.269Z"
   },
   {
    "duration": 3,
    "start_time": "2023-01-08T16:23:59.321Z"
   },
   {
    "duration": 45,
    "start_time": "2023-01-08T16:24:01.057Z"
   },
   {
    "duration": 19,
    "start_time": "2023-01-08T16:24:01.731Z"
   },
   {
    "duration": 3,
    "start_time": "2023-01-08T16:27:16.399Z"
   },
   {
    "duration": 211,
    "start_time": "2023-01-08T16:27:17.351Z"
   },
   {
    "duration": 2,
    "start_time": "2023-01-08T16:27:38.375Z"
   },
   {
    "duration": 14,
    "start_time": "2023-01-08T16:27:39.360Z"
   },
   {
    "duration": 11,
    "start_time": "2023-01-08T16:27:40.536Z"
   },
   {
    "duration": 3,
    "start_time": "2023-01-08T16:28:33.295Z"
   },
   {
    "duration": 16,
    "start_time": "2023-01-08T16:28:34.310Z"
   },
   {
    "duration": 15,
    "start_time": "2023-01-08T16:28:35.030Z"
   },
   {
    "duration": 2,
    "start_time": "2023-01-08T16:28:48.831Z"
   },
   {
    "duration": 119,
    "start_time": "2023-01-08T16:28:49.741Z"
   },
   {
    "duration": 3,
    "start_time": "2023-01-08T16:29:41.381Z"
   },
   {
    "duration": 3,
    "start_time": "2023-01-08T16:29:56.453Z"
   },
   {
    "duration": 15,
    "start_time": "2023-01-08T16:30:02.231Z"
   },
   {
    "duration": 11,
    "start_time": "2023-01-08T16:30:03.733Z"
   },
   {
    "duration": 3,
    "start_time": "2023-01-08T16:35:38.786Z"
   },
   {
    "duration": 4,
    "start_time": "2023-01-08T16:35:50.297Z"
   },
   {
    "duration": 14,
    "start_time": "2023-01-08T16:35:52.057Z"
   },
   {
    "duration": 11,
    "start_time": "2023-01-08T16:35:54.265Z"
   },
   {
    "duration": 3,
    "start_time": "2023-01-08T16:36:11.025Z"
   },
   {
    "duration": 95,
    "start_time": "2023-01-08T16:36:12.881Z"
   },
   {
    "duration": 3,
    "start_time": "2023-01-08T16:36:25.296Z"
   },
   {
    "duration": 16,
    "start_time": "2023-01-08T16:36:27.419Z"
   },
   {
    "duration": 14,
    "start_time": "2023-01-08T16:36:30.065Z"
   },
   {
    "duration": 3,
    "start_time": "2023-01-08T16:36:52.602Z"
   },
   {
    "duration": 12,
    "start_time": "2023-01-08T16:36:54.664Z"
   },
   {
    "duration": 12,
    "start_time": "2023-01-08T16:36:56.664Z"
   },
   {
    "duration": 2,
    "start_time": "2023-01-08T16:37:10.369Z"
   },
   {
    "duration": 19,
    "start_time": "2023-01-08T16:37:12.160Z"
   },
   {
    "duration": 12,
    "start_time": "2023-01-08T16:37:15.024Z"
   },
   {
    "duration": 11,
    "start_time": "2023-01-08T16:37:16.866Z"
   },
   {
    "duration": 3,
    "start_time": "2023-01-08T16:37:31.536Z"
   },
   {
    "duration": 12,
    "start_time": "2023-01-08T16:37:33.737Z"
   },
   {
    "duration": 8,
    "start_time": "2023-01-08T16:37:35.785Z"
   },
   {
    "duration": 3,
    "start_time": "2023-01-08T16:37:48.472Z"
   },
   {
    "duration": 12,
    "start_time": "2023-01-08T16:37:50.599Z"
   },
   {
    "duration": 7,
    "start_time": "2023-01-08T16:37:52.401Z"
   },
   {
    "duration": 3,
    "start_time": "2023-01-08T16:38:11.727Z"
   },
   {
    "duration": 12,
    "start_time": "2023-01-08T16:38:15.144Z"
   },
   {
    "duration": 3,
    "start_time": "2023-01-08T16:39:08.911Z"
   },
   {
    "duration": 12,
    "start_time": "2023-01-08T16:39:10.744Z"
   },
   {
    "duration": 7,
    "start_time": "2023-01-08T16:39:12.953Z"
   },
   {
    "duration": 3,
    "start_time": "2023-01-08T16:39:25.110Z"
   },
   {
    "duration": 3,
    "start_time": "2023-01-08T16:39:36.984Z"
   },
   {
    "duration": 8,
    "start_time": "2023-01-08T16:39:37.919Z"
   },
   {
    "duration": 6,
    "start_time": "2023-01-08T16:39:38.825Z"
   },
   {
    "duration": 2,
    "start_time": "2023-01-08T16:39:42.487Z"
   },
   {
    "duration": 10,
    "start_time": "2023-01-08T16:39:43.512Z"
   },
   {
    "duration": 8,
    "start_time": "2023-01-08T16:39:44.896Z"
   },
   {
    "duration": 3,
    "start_time": "2023-01-08T16:40:44.950Z"
   },
   {
    "duration": 11,
    "start_time": "2023-01-08T16:40:46.818Z"
   },
   {
    "duration": 3,
    "start_time": "2023-01-08T16:40:52.462Z"
   },
   {
    "duration": 8,
    "start_time": "2023-01-08T16:40:53.663Z"
   },
   {
    "duration": 99,
    "start_time": "2023-01-08T16:40:54.758Z"
   },
   {
    "duration": 3,
    "start_time": "2023-01-08T16:41:11.496Z"
   },
   {
    "duration": 89,
    "start_time": "2023-01-08T16:41:12.233Z"
   },
   {
    "duration": 3,
    "start_time": "2023-01-08T16:41:27.894Z"
   },
   {
    "duration": 95,
    "start_time": "2023-01-08T16:41:29.279Z"
   },
   {
    "duration": 3,
    "start_time": "2023-01-08T16:41:42.910Z"
   },
   {
    "duration": 14,
    "start_time": "2023-01-08T16:41:44.096Z"
   },
   {
    "duration": 11,
    "start_time": "2023-01-08T16:41:45.599Z"
   },
   {
    "duration": 3,
    "start_time": "2023-01-08T16:42:05.997Z"
   },
   {
    "duration": 11,
    "start_time": "2023-01-08T16:42:07.981Z"
   },
   {
    "duration": 11,
    "start_time": "2023-01-08T16:42:08.726Z"
   },
   {
    "duration": 4,
    "start_time": "2023-01-08T16:43:20.548Z"
   },
   {
    "duration": 102,
    "start_time": "2023-01-08T16:43:21.852Z"
   },
   {
    "duration": 3,
    "start_time": "2023-01-08T16:44:07.060Z"
   },
   {
    "duration": 12,
    "start_time": "2023-01-08T16:44:08.606Z"
   },
   {
    "duration": 11,
    "start_time": "2023-01-08T16:44:09.892Z"
   },
   {
    "duration": 4,
    "start_time": "2023-01-08T16:45:17.243Z"
   },
   {
    "duration": 15,
    "start_time": "2023-01-08T16:45:18.235Z"
   },
   {
    "duration": 12,
    "start_time": "2023-01-08T16:45:18.877Z"
   },
   {
    "duration": 3,
    "start_time": "2023-01-08T16:45:47.939Z"
   },
   {
    "duration": 2,
    "start_time": "2023-01-08T16:45:54.620Z"
   },
   {
    "duration": 104,
    "start_time": "2023-01-08T16:45:55.338Z"
   },
   {
    "duration": 3,
    "start_time": "2023-01-08T16:46:11.122Z"
   },
   {
    "duration": 13,
    "start_time": "2023-01-08T16:46:12.037Z"
   },
   {
    "duration": 11,
    "start_time": "2023-01-08T16:46:13.221Z"
   },
   {
    "duration": 3,
    "start_time": "2023-01-08T16:49:28.888Z"
   },
   {
    "duration": 119,
    "start_time": "2023-01-08T16:49:30.793Z"
   },
   {
    "duration": 3,
    "start_time": "2023-01-08T16:50:06.520Z"
   },
   {
    "duration": 125,
    "start_time": "2023-01-08T16:50:07.811Z"
   },
   {
    "duration": 3,
    "start_time": "2023-01-08T16:50:30.480Z"
   },
   {
    "duration": 12,
    "start_time": "2023-01-08T16:50:31.834Z"
   },
   {
    "duration": 8,
    "start_time": "2023-01-08T16:50:33.218Z"
   },
   {
    "duration": 3,
    "start_time": "2023-01-08T16:51:13.583Z"
   },
   {
    "duration": 11,
    "start_time": "2023-01-08T16:51:15.487Z"
   },
   {
    "duration": 8,
    "start_time": "2023-01-08T16:51:16.785Z"
   },
   {
    "duration": 3,
    "start_time": "2023-01-08T16:51:32.799Z"
   },
   {
    "duration": 91,
    "start_time": "2023-01-08T16:51:34.111Z"
   },
   {
    "duration": 4,
    "start_time": "2023-01-08T16:51:43.254Z"
   },
   {
    "duration": 3,
    "start_time": "2023-01-08T16:51:44.960Z"
   },
   {
    "duration": 12,
    "start_time": "2023-01-08T16:51:45.786Z"
   },
   {
    "duration": 3,
    "start_time": "2023-01-08T16:52:19.286Z"
   },
   {
    "duration": 3,
    "start_time": "2023-01-08T16:52:26.166Z"
   },
   {
    "duration": 11,
    "start_time": "2023-01-08T16:52:26.886Z"
   },
   {
    "duration": 9,
    "start_time": "2023-01-08T16:52:27.888Z"
   },
   {
    "duration": 3,
    "start_time": "2023-01-08T16:52:41.246Z"
   },
   {
    "duration": 12,
    "start_time": "2023-01-08T16:52:42.807Z"
   },
   {
    "duration": 8,
    "start_time": "2023-01-08T16:52:43.617Z"
   },
   {
    "duration": 3,
    "start_time": "2023-01-08T16:53:08.743Z"
   },
   {
    "duration": 3,
    "start_time": "2023-01-08T16:53:10.046Z"
   },
   {
    "duration": 13,
    "start_time": "2023-01-08T16:53:10.989Z"
   },
   {
    "duration": 7,
    "start_time": "2023-01-08T16:53:11.848Z"
   },
   {
    "duration": 3,
    "start_time": "2023-01-08T16:53:32.901Z"
   },
   {
    "duration": 11,
    "start_time": "2023-01-08T16:53:33.662Z"
   },
   {
    "duration": 8,
    "start_time": "2023-01-08T16:53:34.703Z"
   },
   {
    "duration": 4,
    "start_time": "2023-01-08T16:53:43.197Z"
   },
   {
    "duration": 11,
    "start_time": "2023-01-08T16:53:43.830Z"
   },
   {
    "duration": 7,
    "start_time": "2023-01-08T16:53:44.783Z"
   },
   {
    "duration": 608,
    "start_time": "2023-01-08T16:54:59.183Z"
   },
   {
    "duration": 8228,
    "start_time": "2023-01-08T16:54:59.793Z"
   },
   {
    "duration": 2,
    "start_time": "2023-01-08T16:55:08.024Z"
   },
   {
    "duration": 14,
    "start_time": "2023-01-08T16:55:08.029Z"
   },
   {
    "duration": 10,
    "start_time": "2023-01-08T16:55:08.045Z"
   },
   {
    "duration": 53,
    "start_time": "2023-01-08T16:55:08.057Z"
   },
   {
    "duration": 17,
    "start_time": "2023-01-08T16:55:08.112Z"
   },
   {
    "duration": 12,
    "start_time": "2023-01-08T16:55:08.130Z"
   },
   {
    "duration": 17,
    "start_time": "2023-01-08T16:55:08.144Z"
   },
   {
    "duration": 9,
    "start_time": "2023-01-08T16:55:08.165Z"
   },
   {
    "duration": 22,
    "start_time": "2023-01-08T16:55:08.176Z"
   },
   {
    "duration": 17,
    "start_time": "2023-01-08T16:55:08.200Z"
   },
   {
    "duration": 54,
    "start_time": "2023-01-08T16:55:08.218Z"
   },
   {
    "duration": 9,
    "start_time": "2023-01-08T16:55:08.273Z"
   },
   {
    "duration": 19,
    "start_time": "2023-01-08T16:55:08.284Z"
   },
   {
    "duration": 8,
    "start_time": "2023-01-08T16:55:08.305Z"
   },
   {
    "duration": 7,
    "start_time": "2023-01-08T16:55:08.315Z"
   },
   {
    "duration": 23,
    "start_time": "2023-01-08T16:55:08.324Z"
   },
   {
    "duration": 13,
    "start_time": "2023-01-08T16:55:08.349Z"
   },
   {
    "duration": 4,
    "start_time": "2023-01-08T16:55:08.365Z"
   },
   {
    "duration": 16,
    "start_time": "2023-01-08T16:55:08.372Z"
   },
   {
    "duration": 8,
    "start_time": "2023-01-08T16:55:08.391Z"
   },
   {
    "duration": 4,
    "start_time": "2023-01-08T16:55:08.401Z"
   },
   {
    "duration": 36,
    "start_time": "2023-01-08T16:55:08.406Z"
   },
   {
    "duration": 12,
    "start_time": "2023-01-08T16:55:08.444Z"
   },
   {
    "duration": 6,
    "start_time": "2023-01-08T16:55:08.458Z"
   },
   {
    "duration": 11,
    "start_time": "2023-01-08T16:55:08.466Z"
   },
   {
    "duration": 8,
    "start_time": "2023-01-08T16:55:08.481Z"
   },
   {
    "duration": 5,
    "start_time": "2023-01-08T16:55:08.490Z"
   },
   {
    "duration": 16,
    "start_time": "2023-01-08T16:55:08.496Z"
   },
   {
    "duration": 9,
    "start_time": "2023-01-08T16:55:08.514Z"
   },
   {
    "duration": 4,
    "start_time": "2023-01-08T16:55:08.551Z"
   },
   {
    "duration": 16,
    "start_time": "2023-01-08T16:55:08.557Z"
   },
   {
    "duration": 3,
    "start_time": "2023-01-08T16:56:32.029Z"
   },
   {
    "duration": 3,
    "start_time": "2023-01-08T16:56:52.089Z"
   },
   {
    "duration": 3,
    "start_time": "2023-01-08T16:59:52.102Z"
   },
   {
    "duration": 164,
    "start_time": "2023-01-08T16:59:53.463Z"
   },
   {
    "duration": 2,
    "start_time": "2023-01-08T17:00:51.054Z"
   },
   {
    "duration": 3,
    "start_time": "2023-01-08T17:00:57.637Z"
   },
   {
    "duration": 101,
    "start_time": "2023-01-08T17:00:58.838Z"
   },
   {
    "duration": 3,
    "start_time": "2023-01-08T17:02:02.748Z"
   },
   {
    "duration": 12,
    "start_time": "2023-01-08T17:02:03.588Z"
   },
   {
    "duration": 8,
    "start_time": "2023-01-08T17:02:05.116Z"
   },
   {
    "duration": 4,
    "start_time": "2023-01-08T17:07:01.386Z"
   },
   {
    "duration": 14,
    "start_time": "2023-01-08T17:07:03.450Z"
   },
   {
    "duration": 10,
    "start_time": "2023-01-08T17:07:04.658Z"
   },
   {
    "duration": 2,
    "start_time": "2023-01-08T17:08:50.113Z"
   },
   {
    "duration": 11,
    "start_time": "2023-01-08T17:08:51.368Z"
   },
   {
    "duration": 8,
    "start_time": "2023-01-08T17:08:52.297Z"
   },
   {
    "duration": 3,
    "start_time": "2023-01-08T17:09:15.560Z"
   },
   {
    "duration": 11,
    "start_time": "2023-01-08T17:09:20.561Z"
   },
   {
    "duration": 7,
    "start_time": "2023-01-08T17:09:21.219Z"
   },
   {
    "duration": 4,
    "start_time": "2023-01-08T17:09:36.745Z"
   },
   {
    "duration": 3,
    "start_time": "2023-01-08T17:11:38.959Z"
   },
   {
    "duration": 10,
    "start_time": "2023-01-08T17:11:39.912Z"
   },
   {
    "duration": 9,
    "start_time": "2023-01-08T17:11:40.792Z"
   },
   {
    "duration": 3,
    "start_time": "2023-01-08T17:11:56.599Z"
   },
   {
    "duration": 97,
    "start_time": "2023-01-08T17:11:57.414Z"
   },
   {
    "duration": 94,
    "start_time": "2023-01-08T17:12:28.353Z"
   },
   {
    "duration": 2,
    "start_time": "2023-01-08T17:12:38.055Z"
   },
   {
    "duration": 10,
    "start_time": "2023-01-08T17:12:40.585Z"
   },
   {
    "duration": 3,
    "start_time": "2023-01-08T17:12:44.360Z"
   },
   {
    "duration": 3,
    "start_time": "2023-01-08T17:12:47.407Z"
   },
   {
    "duration": 11,
    "start_time": "2023-01-08T17:12:48.366Z"
   },
   {
    "duration": 8,
    "start_time": "2023-01-08T17:12:49.214Z"
   },
   {
    "duration": 4,
    "start_time": "2023-01-08T17:13:09.495Z"
   },
   {
    "duration": 2,
    "start_time": "2023-01-08T17:13:43.680Z"
   },
   {
    "duration": 15,
    "start_time": "2023-01-08T17:13:44.630Z"
   },
   {
    "duration": 16,
    "start_time": "2023-01-08T17:13:45.406Z"
   },
   {
    "duration": 2,
    "start_time": "2023-01-08T17:14:03.222Z"
   },
   {
    "duration": 9,
    "start_time": "2023-01-08T17:14:03.989Z"
   },
   {
    "duration": 7,
    "start_time": "2023-01-08T17:14:04.902Z"
   },
   {
    "duration": 4,
    "start_time": "2023-01-08T17:14:29.445Z"
   },
   {
    "duration": 110,
    "start_time": "2023-01-08T17:14:30.797Z"
   },
   {
    "duration": 4,
    "start_time": "2023-01-08T17:14:53.614Z"
   },
   {
    "duration": 96,
    "start_time": "2023-01-08T17:14:54.871Z"
   },
   {
    "duration": 3,
    "start_time": "2023-01-08T17:15:16.118Z"
   },
   {
    "duration": 131,
    "start_time": "2023-01-08T17:15:17.358Z"
   },
   {
    "duration": 3,
    "start_time": "2023-01-08T17:15:25.646Z"
   },
   {
    "duration": 10,
    "start_time": "2023-01-08T17:15:27.879Z"
   },
   {
    "duration": 7,
    "start_time": "2023-01-08T17:15:29.182Z"
   },
   {
    "duration": 3,
    "start_time": "2023-01-08T17:16:58.389Z"
   },
   {
    "duration": 10,
    "start_time": "2023-01-08T17:16:59.315Z"
   },
   {
    "duration": 7,
    "start_time": "2023-01-08T17:17:00.205Z"
   },
   {
    "duration": 8,
    "start_time": "2023-01-08T17:17:02.737Z"
   },
   {
    "duration": 4,
    "start_time": "2023-01-08T17:17:04.918Z"
   },
   {
    "duration": 3,
    "start_time": "2023-01-08T17:18:21.860Z"
   },
   {
    "duration": 16,
    "start_time": "2023-01-08T17:18:23.788Z"
   },
   {
    "duration": 19,
    "start_time": "2023-01-08T17:18:25.292Z"
   },
   {
    "duration": 19,
    "start_time": "2023-01-08T17:18:30.917Z"
   },
   {
    "duration": 3,
    "start_time": "2023-01-08T17:20:55.962Z"
   },
   {
    "duration": 94,
    "start_time": "2023-01-08T17:20:57.449Z"
   },
   {
    "duration": 3,
    "start_time": "2023-01-08T17:21:53.922Z"
   },
   {
    "duration": 11,
    "start_time": "2023-01-08T17:21:55.459Z"
   },
   {
    "duration": 8,
    "start_time": "2023-01-08T17:21:57.611Z"
   },
   {
    "duration": 3,
    "start_time": "2023-01-08T17:22:20.090Z"
   },
   {
    "duration": 11,
    "start_time": "2023-01-08T17:22:22.073Z"
   },
   {
    "duration": 9,
    "start_time": "2023-01-08T17:22:22.875Z"
   },
   {
    "duration": 3,
    "start_time": "2023-01-08T17:22:44.361Z"
   },
   {
    "duration": 12,
    "start_time": "2023-01-08T17:22:45.698Z"
   },
   {
    "duration": 8,
    "start_time": "2023-01-08T17:22:46.530Z"
   },
   {
    "duration": 3,
    "start_time": "2023-01-08T17:23:06.313Z"
   },
   {
    "duration": 4,
    "start_time": "2023-01-08T17:23:31.808Z"
   },
   {
    "duration": 14,
    "start_time": "2023-01-08T17:23:33.027Z"
   },
   {
    "duration": 11,
    "start_time": "2023-01-08T17:23:34.449Z"
   },
   {
    "duration": 3,
    "start_time": "2023-01-08T17:23:47.025Z"
   },
   {
    "duration": 13,
    "start_time": "2023-01-08T17:23:48.512Z"
   },
   {
    "duration": 11,
    "start_time": "2023-01-08T17:23:50.433Z"
   },
   {
    "duration": 15,
    "start_time": "2023-01-08T17:24:00.153Z"
   },
   {
    "duration": 3,
    "start_time": "2023-01-08T17:24:05.985Z"
   },
   {
    "duration": 14,
    "start_time": "2023-01-08T17:24:09.000Z"
   },
   {
    "duration": 14,
    "start_time": "2023-01-08T17:24:09.737Z"
   },
   {
    "duration": 3,
    "start_time": "2023-01-08T17:24:24.208Z"
   },
   {
    "duration": 3,
    "start_time": "2023-01-08T17:24:27.200Z"
   },
   {
    "duration": 3,
    "start_time": "2023-01-08T17:24:36.338Z"
   },
   {
    "duration": 3,
    "start_time": "2023-01-08T17:24:37.417Z"
   },
   {
    "duration": 4,
    "start_time": "2023-01-08T17:24:38.937Z"
   },
   {
    "duration": 13,
    "start_time": "2023-01-08T17:24:39.944Z"
   },
   {
    "duration": 14,
    "start_time": "2023-01-08T17:24:40.617Z"
   },
   {
    "duration": 3,
    "start_time": "2023-01-08T17:24:46.489Z"
   },
   {
    "duration": 12,
    "start_time": "2023-01-08T17:24:49.255Z"
   },
   {
    "duration": 9,
    "start_time": "2023-01-08T17:24:50.017Z"
   },
   {
    "duration": 4,
    "start_time": "2023-01-08T17:24:52.728Z"
   },
   {
    "duration": 12,
    "start_time": "2023-01-08T17:24:54.609Z"
   },
   {
    "duration": 10,
    "start_time": "2023-01-08T17:24:55.281Z"
   },
   {
    "duration": 3,
    "start_time": "2023-01-08T17:25:06.840Z"
   },
   {
    "duration": 11,
    "start_time": "2023-01-08T17:25:11.928Z"
   },
   {
    "duration": 3,
    "start_time": "2023-01-08T17:25:13.272Z"
   },
   {
    "duration": 12,
    "start_time": "2023-01-08T17:25:14.295Z"
   },
   {
    "duration": 11,
    "start_time": "2023-01-08T17:25:14.888Z"
   },
   {
    "duration": 3,
    "start_time": "2023-01-08T17:26:30.096Z"
   },
   {
    "duration": 15,
    "start_time": "2023-01-08T17:26:32.207Z"
   },
   {
    "duration": 11,
    "start_time": "2023-01-08T17:26:33.232Z"
   },
   {
    "duration": 4,
    "start_time": "2023-01-08T17:26:40.664Z"
   },
   {
    "duration": 12,
    "start_time": "2023-01-08T17:26:42.057Z"
   },
   {
    "duration": 8,
    "start_time": "2023-01-08T17:26:42.712Z"
   },
   {
    "duration": 6,
    "start_time": "2023-01-08T17:27:30.110Z"
   },
   {
    "duration": 107,
    "start_time": "2023-01-08T17:27:31.564Z"
   },
   {
    "duration": 4,
    "start_time": "2023-01-08T17:27:39.584Z"
   },
   {
    "duration": 104,
    "start_time": "2023-01-08T17:27:41.296Z"
   },
   {
    "duration": 3,
    "start_time": "2023-01-08T17:27:54.390Z"
   },
   {
    "duration": 13,
    "start_time": "2023-01-08T17:27:57.384Z"
   },
   {
    "duration": 12,
    "start_time": "2023-01-08T17:28:00.054Z"
   },
   {
    "duration": 4,
    "start_time": "2023-01-08T17:28:30.598Z"
   },
   {
    "duration": 13,
    "start_time": "2023-01-08T17:28:32.038Z"
   },
   {
    "duration": 8,
    "start_time": "2023-01-08T17:28:32.942Z"
   },
   {
    "duration": 3,
    "start_time": "2023-01-08T17:28:44.301Z"
   },
   {
    "duration": 3,
    "start_time": "2023-01-08T17:29:36.781Z"
   },
   {
    "duration": 3,
    "start_time": "2023-01-08T17:30:26.989Z"
   },
   {
    "duration": 12,
    "start_time": "2023-01-08T17:30:28.292Z"
   },
   {
    "duration": 7,
    "start_time": "2023-01-08T17:30:29.766Z"
   },
   {
    "duration": 555,
    "start_time": "2023-01-08T17:30:51.365Z"
   },
   {
    "duration": 7775,
    "start_time": "2023-01-08T17:30:51.922Z"
   },
   {
    "duration": 3,
    "start_time": "2023-01-08T17:30:59.699Z"
   },
   {
    "duration": 8,
    "start_time": "2023-01-08T17:30:59.705Z"
   },
   {
    "duration": 8,
    "start_time": "2023-01-08T17:30:59.716Z"
   },
   {
    "duration": 47,
    "start_time": "2023-01-08T17:30:59.726Z"
   },
   {
    "duration": 20,
    "start_time": "2023-01-08T17:30:59.776Z"
   },
   {
    "duration": 24,
    "start_time": "2023-01-08T17:30:59.799Z"
   },
   {
    "duration": 14,
    "start_time": "2023-01-08T17:30:59.825Z"
   },
   {
    "duration": 12,
    "start_time": "2023-01-08T17:30:59.842Z"
   },
   {
    "duration": 9,
    "start_time": "2023-01-08T17:30:59.856Z"
   },
   {
    "duration": 18,
    "start_time": "2023-01-08T17:30:59.868Z"
   },
   {
    "duration": 8,
    "start_time": "2023-01-08T17:30:59.888Z"
   },
   {
    "duration": 13,
    "start_time": "2023-01-08T17:30:59.898Z"
   },
   {
    "duration": 12,
    "start_time": "2023-01-08T17:30:59.913Z"
   },
   {
    "duration": 7,
    "start_time": "2023-01-08T17:30:59.927Z"
   },
   {
    "duration": 5,
    "start_time": "2023-01-08T17:30:59.935Z"
   },
   {
    "duration": 8,
    "start_time": "2023-01-08T17:30:59.951Z"
   },
   {
    "duration": 11,
    "start_time": "2023-01-08T17:30:59.961Z"
   },
   {
    "duration": 4,
    "start_time": "2023-01-08T17:30:59.974Z"
   },
   {
    "duration": 10,
    "start_time": "2023-01-08T17:30:59.980Z"
   },
   {
    "duration": 7,
    "start_time": "2023-01-08T17:30:59.991Z"
   },
   {
    "duration": 10,
    "start_time": "2023-01-08T17:31:00.000Z"
   },
   {
    "duration": 33,
    "start_time": "2023-01-08T17:31:00.012Z"
   },
   {
    "duration": 12,
    "start_time": "2023-01-08T17:31:00.047Z"
   },
   {
    "duration": 2,
    "start_time": "2023-01-08T17:31:00.061Z"
   },
   {
    "duration": 12,
    "start_time": "2023-01-08T17:31:00.065Z"
   },
   {
    "duration": 6,
    "start_time": "2023-01-08T17:31:00.080Z"
   },
   {
    "duration": 10,
    "start_time": "2023-01-08T17:31:00.088Z"
   },
   {
    "duration": 20,
    "start_time": "2023-01-08T17:31:00.100Z"
   },
   {
    "duration": 7,
    "start_time": "2023-01-08T17:31:00.122Z"
   },
   {
    "duration": 9,
    "start_time": "2023-01-08T17:31:00.130Z"
   },
   {
    "duration": 11,
    "start_time": "2023-01-08T17:31:00.140Z"
   },
   {
    "duration": 18,
    "start_time": "2023-01-08T17:31:00.153Z"
   },
   {
    "duration": 13,
    "start_time": "2023-01-08T17:31:00.173Z"
   },
   {
    "duration": 15,
    "start_time": "2023-01-08T17:31:00.188Z"
   },
   {
    "duration": 10,
    "start_time": "2023-01-08T17:31:00.204Z"
   },
   {
    "duration": 20,
    "start_time": "2023-01-08T17:31:00.216Z"
   },
   {
    "duration": 3,
    "start_time": "2023-01-08T17:45:01.191Z"
   },
   {
    "duration": 17,
    "start_time": "2023-01-08T17:45:02.213Z"
   },
   {
    "duration": 11,
    "start_time": "2023-01-08T17:45:03.006Z"
   },
   {
    "duration": 2,
    "start_time": "2023-01-08T17:45:37.302Z"
   },
   {
    "duration": 155,
    "start_time": "2023-01-08T17:45:38.549Z"
   },
   {
    "duration": 3,
    "start_time": "2023-01-08T17:45:41.829Z"
   },
   {
    "duration": 22,
    "start_time": "2023-01-08T17:45:42.399Z"
   },
   {
    "duration": 11,
    "start_time": "2023-01-08T17:45:51.133Z"
   },
   {
    "duration": 2,
    "start_time": "2023-01-08T17:47:26.509Z"
   },
   {
    "duration": 10,
    "start_time": "2023-01-08T17:47:28.284Z"
   },
   {
    "duration": 10,
    "start_time": "2023-01-08T17:47:28.837Z"
   },
   {
    "duration": 4,
    "start_time": "2023-01-08T17:47:43.148Z"
   },
   {
    "duration": 10,
    "start_time": "2023-01-08T17:47:45.204Z"
   },
   {
    "duration": 8,
    "start_time": "2023-01-08T17:47:47.164Z"
   },
   {
    "duration": 11,
    "start_time": "2023-01-08T17:47:58.771Z"
   },
   {
    "duration": 8,
    "start_time": "2023-01-08T17:48:07.844Z"
   },
   {
    "duration": 5,
    "start_time": "2023-01-08T17:48:30.436Z"
   },
   {
    "duration": 3,
    "start_time": "2023-01-08T17:50:36.826Z"
   },
   {
    "duration": 9,
    "start_time": "2023-01-08T17:50:38.258Z"
   },
   {
    "duration": 7,
    "start_time": "2023-01-08T17:50:39.331Z"
   },
   {
    "duration": 4,
    "start_time": "2023-01-08T17:50:52.354Z"
   },
   {
    "duration": 10,
    "start_time": "2023-01-08T17:50:53.546Z"
   },
   {
    "duration": 7,
    "start_time": "2023-01-08T17:50:54.379Z"
   },
   {
    "duration": 4,
    "start_time": "2023-01-08T17:51:08.962Z"
   },
   {
    "duration": 3,
    "start_time": "2023-01-08T17:51:19.442Z"
   },
   {
    "duration": 12,
    "start_time": "2023-01-08T17:51:20.217Z"
   },
   {
    "duration": 10,
    "start_time": "2023-01-08T17:51:20.970Z"
   },
   {
    "duration": 4,
    "start_time": "2023-01-08T17:51:22.555Z"
   },
   {
    "duration": 3,
    "start_time": "2023-01-08T17:51:25.866Z"
   },
   {
    "duration": 12,
    "start_time": "2023-01-08T17:51:27.073Z"
   },
   {
    "duration": 7,
    "start_time": "2023-01-08T17:51:27.881Z"
   },
   {
    "duration": 4,
    "start_time": "2023-01-08T17:51:29.370Z"
   },
   {
    "duration": 3,
    "start_time": "2023-01-08T17:51:44.098Z"
   },
   {
    "duration": 9,
    "start_time": "2023-01-08T17:51:45.361Z"
   },
   {
    "duration": 7,
    "start_time": "2023-01-08T17:51:46.418Z"
   },
   {
    "duration": 4,
    "start_time": "2023-01-08T17:51:48.762Z"
   },
   {
    "duration": 3,
    "start_time": "2023-01-08T17:52:27.930Z"
   },
   {
    "duration": 10,
    "start_time": "2023-01-08T17:52:29.386Z"
   },
   {
    "duration": 11,
    "start_time": "2023-01-08T17:52:30.499Z"
   },
   {
    "duration": 2,
    "start_time": "2023-01-08T17:53:49.905Z"
   },
   {
    "duration": 9,
    "start_time": "2023-01-08T17:53:53.185Z"
   },
   {
    "duration": 8,
    "start_time": "2023-01-08T17:53:54.601Z"
   },
   {
    "duration": 2,
    "start_time": "2023-01-08T17:54:14.934Z"
   },
   {
    "duration": 9,
    "start_time": "2023-01-08T17:54:16.497Z"
   },
   {
    "duration": 6,
    "start_time": "2023-01-08T17:54:17.410Z"
   },
   {
    "duration": 3,
    "start_time": "2023-01-08T17:54:26.905Z"
   },
   {
    "duration": 2,
    "start_time": "2023-01-08T17:54:28.737Z"
   },
   {
    "duration": 15,
    "start_time": "2023-01-08T17:54:29.592Z"
   },
   {
    "duration": 10,
    "start_time": "2023-01-08T17:54:31.009Z"
   },
   {
    "duration": 3,
    "start_time": "2023-01-08T17:54:58.176Z"
   },
   {
    "duration": 99,
    "start_time": "2023-01-08T17:54:59.056Z"
   },
   {
    "duration": 3,
    "start_time": "2023-01-08T17:55:54.568Z"
   },
   {
    "duration": 3,
    "start_time": "2023-01-08T17:55:57.832Z"
   },
   {
    "duration": 36,
    "start_time": "2023-01-08T17:55:59.689Z"
   },
   {
    "duration": 14,
    "start_time": "2023-01-08T17:56:01.034Z"
   },
   {
    "duration": 3,
    "start_time": "2023-01-08T17:56:37.584Z"
   },
   {
    "duration": 11,
    "start_time": "2023-01-08T17:56:41.367Z"
   },
   {
    "duration": 6,
    "start_time": "2023-01-08T17:56:42.728Z"
   },
   {
    "duration": 11,
    "start_time": "2023-01-08T17:57:17.166Z"
   },
   {
    "duration": 6,
    "start_time": "2023-01-08T17:57:18.185Z"
   },
   {
    "duration": 3,
    "start_time": "2023-01-08T17:57:20.047Z"
   },
   {
    "duration": 10,
    "start_time": "2023-01-08T17:57:21.414Z"
   },
   {
    "duration": 8,
    "start_time": "2023-01-08T17:57:23.144Z"
   },
   {
    "duration": 616,
    "start_time": "2023-01-08T18:02:21.378Z"
   },
   {
    "duration": 8355,
    "start_time": "2023-01-08T18:02:21.996Z"
   },
   {
    "duration": 3,
    "start_time": "2023-01-08T18:02:30.352Z"
   },
   {
    "duration": 92,
    "start_time": "2023-01-08T18:02:30.357Z"
   },
   {
    "duration": 17,
    "start_time": "2023-01-08T18:02:30.450Z"
   },
   {
    "duration": 45,
    "start_time": "2023-01-08T18:02:30.468Z"
   },
   {
    "duration": 37,
    "start_time": "2023-01-08T18:02:30.514Z"
   },
   {
    "duration": 48,
    "start_time": "2023-01-08T18:02:30.553Z"
   },
   {
    "duration": 67,
    "start_time": "2023-01-08T18:02:30.602Z"
   },
   {
    "duration": 33,
    "start_time": "2023-01-08T18:02:30.672Z"
   },
   {
    "duration": 48,
    "start_time": "2023-01-08T18:02:30.707Z"
   },
   {
    "duration": 36,
    "start_time": "2023-01-08T18:02:30.758Z"
   },
   {
    "duration": 60,
    "start_time": "2023-01-08T18:02:30.797Z"
   },
   {
    "duration": 43,
    "start_time": "2023-01-08T18:02:30.859Z"
   },
   {
    "duration": 39,
    "start_time": "2023-01-08T18:02:30.904Z"
   },
   {
    "duration": 60,
    "start_time": "2023-01-08T18:02:30.945Z"
   },
   {
    "duration": 63,
    "start_time": "2023-01-08T18:02:31.007Z"
   },
   {
    "duration": 60,
    "start_time": "2023-01-08T18:02:31.071Z"
   },
   {
    "duration": 45,
    "start_time": "2023-01-08T18:02:31.132Z"
   },
   {
    "duration": 59,
    "start_time": "2023-01-08T18:02:31.178Z"
   },
   {
    "duration": 41,
    "start_time": "2023-01-08T18:02:31.239Z"
   },
   {
    "duration": 65,
    "start_time": "2023-01-08T18:02:31.282Z"
   },
   {
    "duration": 40,
    "start_time": "2023-01-08T18:02:31.349Z"
   },
   {
    "duration": 30,
    "start_time": "2023-01-08T18:02:31.391Z"
   },
   {
    "duration": 38,
    "start_time": "2023-01-08T18:02:31.423Z"
   },
   {
    "duration": 30,
    "start_time": "2023-01-08T18:02:31.463Z"
   },
   {
    "duration": 35,
    "start_time": "2023-01-08T18:02:31.495Z"
   },
   {
    "duration": 60,
    "start_time": "2023-01-08T18:02:31.534Z"
   },
   {
    "duration": 34,
    "start_time": "2023-01-08T18:02:31.596Z"
   },
   {
    "duration": 34,
    "start_time": "2023-01-08T18:02:31.631Z"
   },
   {
    "duration": 46,
    "start_time": "2023-01-08T18:02:31.667Z"
   },
   {
    "duration": 43,
    "start_time": "2023-01-08T18:02:31.715Z"
   },
   {
    "duration": 26,
    "start_time": "2023-01-08T18:02:31.759Z"
   },
   {
    "duration": 37,
    "start_time": "2023-01-08T18:02:31.786Z"
   },
   {
    "duration": 50,
    "start_time": "2023-01-08T18:02:31.824Z"
   },
   {
    "duration": 24,
    "start_time": "2023-01-08T18:02:31.876Z"
   },
   {
    "duration": 12,
    "start_time": "2023-01-08T18:02:31.902Z"
   },
   {
    "duration": 29,
    "start_time": "2023-01-08T18:02:31.916Z"
   },
   {
    "duration": 26,
    "start_time": "2023-01-08T18:02:31.947Z"
   },
   {
    "duration": 15,
    "start_time": "2023-01-08T18:02:31.975Z"
   },
   {
    "duration": 20,
    "start_time": "2023-01-08T18:02:31.991Z"
   },
   {
    "duration": 19,
    "start_time": "2023-01-08T18:02:32.013Z"
   },
   {
    "duration": 535,
    "start_time": "2023-01-08T18:20:26.893Z"
   },
   {
    "duration": 7716,
    "start_time": "2023-01-08T18:20:27.430Z"
   },
   {
    "duration": 3,
    "start_time": "2023-01-08T18:20:35.148Z"
   },
   {
    "duration": 60,
    "start_time": "2023-01-08T18:20:35.153Z"
   },
   {
    "duration": 17,
    "start_time": "2023-01-08T18:20:35.216Z"
   },
   {
    "duration": 15,
    "start_time": "2023-01-08T18:20:35.234Z"
   },
   {
    "duration": 24,
    "start_time": "2023-01-08T18:20:35.251Z"
   },
   {
    "duration": 8,
    "start_time": "2023-01-08T18:20:35.277Z"
   },
   {
    "duration": 4,
    "start_time": "2023-01-08T18:20:35.287Z"
   },
   {
    "duration": 11,
    "start_time": "2023-01-08T18:20:35.294Z"
   },
   {
    "duration": 8,
    "start_time": "2023-01-08T18:20:35.307Z"
   },
   {
    "duration": 5,
    "start_time": "2023-01-08T18:20:35.318Z"
   },
   {
    "duration": 16,
    "start_time": "2023-01-08T18:20:35.324Z"
   },
   {
    "duration": 8,
    "start_time": "2023-01-08T18:20:35.350Z"
   },
   {
    "duration": 6,
    "start_time": "2023-01-08T18:20:35.360Z"
   },
   {
    "duration": 13,
    "start_time": "2023-01-08T18:20:35.368Z"
   },
   {
    "duration": 18,
    "start_time": "2023-01-08T18:20:35.383Z"
   },
   {
    "duration": 9,
    "start_time": "2023-01-08T18:20:35.402Z"
   },
   {
    "duration": 13,
    "start_time": "2023-01-08T18:20:35.413Z"
   },
   {
    "duration": 11,
    "start_time": "2023-01-08T18:20:35.427Z"
   },
   {
    "duration": 11,
    "start_time": "2023-01-08T18:20:35.451Z"
   },
   {
    "duration": 22,
    "start_time": "2023-01-08T18:20:35.464Z"
   },
   {
    "duration": 13,
    "start_time": "2023-01-08T18:20:35.488Z"
   },
   {
    "duration": 14,
    "start_time": "2023-01-08T18:20:35.503Z"
   },
   {
    "duration": 19,
    "start_time": "2023-01-08T18:20:35.519Z"
   },
   {
    "duration": 9,
    "start_time": "2023-01-08T18:20:35.540Z"
   },
   {
    "duration": 9,
    "start_time": "2023-01-08T18:20:35.550Z"
   },
   {
    "duration": 15,
    "start_time": "2023-01-08T18:20:35.562Z"
   },
   {
    "duration": 7,
    "start_time": "2023-01-08T18:20:35.578Z"
   },
   {
    "duration": 5,
    "start_time": "2023-01-08T18:20:35.586Z"
   },
   {
    "duration": 24,
    "start_time": "2023-01-08T18:20:35.593Z"
   },
   {
    "duration": 6,
    "start_time": "2023-01-08T18:20:35.619Z"
   },
   {
    "duration": 5,
    "start_time": "2023-01-08T18:20:35.626Z"
   },
   {
    "duration": 5,
    "start_time": "2023-01-08T18:20:35.633Z"
   },
   {
    "duration": 6,
    "start_time": "2023-01-08T18:20:35.639Z"
   },
   {
    "duration": 11,
    "start_time": "2023-01-08T18:20:35.650Z"
   },
   {
    "duration": 6,
    "start_time": "2023-01-08T18:20:35.662Z"
   },
   {
    "duration": 8,
    "start_time": "2023-01-08T18:20:35.670Z"
   },
   {
    "duration": 21,
    "start_time": "2023-01-08T18:20:35.680Z"
   },
   {
    "duration": 9,
    "start_time": "2023-01-08T18:20:35.703Z"
   },
   {
    "duration": 8,
    "start_time": "2023-01-08T18:20:35.714Z"
   },
   {
    "duration": 12,
    "start_time": "2023-01-08T18:20:35.724Z"
   },
   {
    "duration": 602,
    "start_time": "2023-01-08T18:21:58.828Z"
   },
   {
    "duration": 7614,
    "start_time": "2023-01-08T18:21:59.432Z"
   },
   {
    "duration": 3,
    "start_time": "2023-01-08T18:22:07.048Z"
   },
   {
    "duration": 65,
    "start_time": "2023-01-08T18:22:07.053Z"
   },
   {
    "duration": 15,
    "start_time": "2023-01-08T18:22:07.120Z"
   },
   {
    "duration": 22,
    "start_time": "2023-01-08T18:22:07.137Z"
   },
   {
    "duration": 42,
    "start_time": "2023-01-08T18:22:07.161Z"
   },
   {
    "duration": 43,
    "start_time": "2023-01-08T18:22:07.205Z"
   },
   {
    "duration": 31,
    "start_time": "2023-01-08T18:22:07.250Z"
   },
   {
    "duration": 33,
    "start_time": "2023-01-08T18:22:07.283Z"
   },
   {
    "duration": 37,
    "start_time": "2023-01-08T18:22:07.318Z"
   },
   {
    "duration": 27,
    "start_time": "2023-01-08T18:22:07.356Z"
   },
   {
    "duration": 37,
    "start_time": "2023-01-08T18:22:07.385Z"
   },
   {
    "duration": 26,
    "start_time": "2023-01-08T18:22:07.424Z"
   },
   {
    "duration": 36,
    "start_time": "2023-01-08T18:22:07.452Z"
   },
   {
    "duration": 29,
    "start_time": "2023-01-08T18:22:07.490Z"
   },
   {
    "duration": 30,
    "start_time": "2023-01-08T18:22:07.520Z"
   },
   {
    "duration": 15,
    "start_time": "2023-01-08T18:22:07.552Z"
   },
   {
    "duration": 41,
    "start_time": "2023-01-08T18:22:07.569Z"
   },
   {
    "duration": 33,
    "start_time": "2023-01-08T18:22:07.612Z"
   },
   {
    "duration": 27,
    "start_time": "2023-01-08T18:22:07.647Z"
   },
   {
    "duration": 40,
    "start_time": "2023-01-08T18:22:07.676Z"
   },
   {
    "duration": 28,
    "start_time": "2023-01-08T18:22:07.718Z"
   },
   {
    "duration": 29,
    "start_time": "2023-01-08T18:22:07.748Z"
   },
   {
    "duration": 19,
    "start_time": "2023-01-08T18:22:07.779Z"
   },
   {
    "duration": 18,
    "start_time": "2023-01-08T18:22:07.800Z"
   },
   {
    "duration": 20,
    "start_time": "2023-01-08T18:22:07.821Z"
   },
   {
    "duration": 58,
    "start_time": "2023-01-08T18:22:07.845Z"
   },
   {
    "duration": 22,
    "start_time": "2023-01-08T18:22:07.905Z"
   },
   {
    "duration": 30,
    "start_time": "2023-01-08T18:22:07.929Z"
   },
   {
    "duration": 30,
    "start_time": "2023-01-08T18:22:07.961Z"
   },
   {
    "duration": 45,
    "start_time": "2023-01-08T18:22:07.993Z"
   },
   {
    "duration": 585,
    "start_time": "2023-01-08T18:26:21.141Z"
   },
   {
    "duration": 7535,
    "start_time": "2023-01-08T18:26:21.728Z"
   },
   {
    "duration": 3,
    "start_time": "2023-01-08T18:26:29.266Z"
   },
   {
    "duration": 66,
    "start_time": "2023-01-08T18:26:29.271Z"
   },
   {
    "duration": 17,
    "start_time": "2023-01-08T18:26:29.339Z"
   },
   {
    "duration": 6,
    "start_time": "2023-01-08T18:26:29.358Z"
   },
   {
    "duration": 14,
    "start_time": "2023-01-08T18:26:29.366Z"
   },
   {
    "duration": 7,
    "start_time": "2023-01-08T18:26:29.384Z"
   },
   {
    "duration": 5,
    "start_time": "2023-01-08T18:26:29.393Z"
   },
   {
    "duration": 14,
    "start_time": "2023-01-08T18:26:29.400Z"
   },
   {
    "duration": 8,
    "start_time": "2023-01-08T18:26:29.415Z"
   },
   {
    "duration": 6,
    "start_time": "2023-01-08T18:26:29.425Z"
   },
   {
    "duration": 9,
    "start_time": "2023-01-08T18:26:29.452Z"
   },
   {
    "duration": 9,
    "start_time": "2023-01-08T18:26:29.463Z"
   },
   {
    "duration": 5,
    "start_time": "2023-01-08T18:26:29.474Z"
   },
   {
    "duration": 11,
    "start_time": "2023-01-08T18:26:29.481Z"
   },
   {
    "duration": 9,
    "start_time": "2023-01-08T18:26:29.494Z"
   },
   {
    "duration": 6,
    "start_time": "2023-01-08T18:26:29.504Z"
   },
   {
    "duration": 13,
    "start_time": "2023-01-08T18:26:29.512Z"
   },
   {
    "duration": 7,
    "start_time": "2023-01-08T18:26:29.552Z"
   },
   {
    "duration": 8,
    "start_time": "2023-01-08T18:26:29.561Z"
   },
   {
    "duration": 38,
    "start_time": "2023-01-08T18:26:29.571Z"
   },
   {
    "duration": 16,
    "start_time": "2023-01-08T18:26:29.614Z"
   },
   {
    "duration": 7,
    "start_time": "2023-01-08T18:26:29.632Z"
   },
   {
    "duration": 28,
    "start_time": "2023-01-08T18:26:29.642Z"
   },
   {
    "duration": 9,
    "start_time": "2023-01-08T18:26:29.673Z"
   },
   {
    "duration": 12,
    "start_time": "2023-01-08T18:26:29.685Z"
   },
   {
    "duration": 34,
    "start_time": "2023-01-08T18:26:29.700Z"
   },
   {
    "duration": 12,
    "start_time": "2023-01-08T18:26:29.737Z"
   },
   {
    "duration": 9,
    "start_time": "2023-01-08T18:26:29.751Z"
   },
   {
    "duration": 20,
    "start_time": "2023-01-08T18:26:29.762Z"
   },
   {
    "duration": 8,
    "start_time": "2023-01-08T18:26:29.785Z"
   },
   {
    "duration": 473,
    "start_time": "2023-01-08T19:56:39.736Z"
   },
   {
    "duration": 8165,
    "start_time": "2023-01-08T19:56:40.222Z"
   },
   {
    "duration": 3,
    "start_time": "2023-01-08T19:56:48.388Z"
   },
   {
    "duration": 49,
    "start_time": "2023-01-08T19:56:48.393Z"
   },
   {
    "duration": 16,
    "start_time": "2023-01-08T19:56:48.444Z"
   },
   {
    "duration": 2,
    "start_time": "2023-01-08T19:56:48.462Z"
   },
   {
    "duration": 17,
    "start_time": "2023-01-08T19:56:48.466Z"
   },
   {
    "duration": 7,
    "start_time": "2023-01-08T19:56:48.484Z"
   },
   {
    "duration": 4,
    "start_time": "2023-01-08T19:56:48.492Z"
   },
   {
    "duration": 8,
    "start_time": "2023-01-08T19:56:48.498Z"
   },
   {
    "duration": 5,
    "start_time": "2023-01-08T19:56:48.508Z"
   },
   {
    "duration": 6,
    "start_time": "2023-01-08T19:56:48.515Z"
   },
   {
    "duration": 14,
    "start_time": "2023-01-08T19:56:48.523Z"
   },
   {
    "duration": 9,
    "start_time": "2023-01-08T19:56:48.538Z"
   },
   {
    "duration": 10,
    "start_time": "2023-01-08T19:56:48.549Z"
   },
   {
    "duration": 11,
    "start_time": "2023-01-08T19:56:48.560Z"
   },
   {
    "duration": 6,
    "start_time": "2023-01-08T19:56:48.573Z"
   },
   {
    "duration": 8,
    "start_time": "2023-01-08T19:56:48.580Z"
   },
   {
    "duration": 14,
    "start_time": "2023-01-08T19:56:48.590Z"
   },
   {
    "duration": 7,
    "start_time": "2023-01-08T19:56:48.605Z"
   },
   {
    "duration": 5,
    "start_time": "2023-01-08T19:56:48.613Z"
   },
   {
    "duration": 29,
    "start_time": "2023-01-08T19:56:48.620Z"
   },
   {
    "duration": 15,
    "start_time": "2023-01-08T19:56:48.651Z"
   },
   {
    "duration": 10,
    "start_time": "2023-01-08T19:56:48.667Z"
   },
   {
    "duration": 10,
    "start_time": "2023-01-08T19:56:48.679Z"
   },
   {
    "duration": 6,
    "start_time": "2023-01-08T19:56:48.690Z"
   },
   {
    "duration": 5,
    "start_time": "2023-01-08T19:56:48.697Z"
   },
   {
    "duration": 13,
    "start_time": "2023-01-08T19:56:48.705Z"
   },
   {
    "duration": 9,
    "start_time": "2023-01-08T19:56:48.720Z"
   },
   {
    "duration": 16,
    "start_time": "2023-01-08T19:56:48.732Z"
   },
   {
    "duration": 15,
    "start_time": "2023-01-08T19:56:48.750Z"
   },
   {
    "duration": 5,
    "start_time": "2023-01-08T19:56:48.766Z"
   },
   {
    "duration": 4,
    "start_time": "2023-01-08T20:00:33.077Z"
   },
   {
    "duration": 10,
    "start_time": "2023-01-08T20:00:35.100Z"
   },
   {
    "duration": 66,
    "start_time": "2023-01-09T03:00:32.303Z"
   },
   {
    "duration": 593,
    "start_time": "2023-01-09T03:00:57.340Z"
   },
   {
    "duration": 7863,
    "start_time": "2023-01-09T03:00:57.935Z"
   },
   {
    "duration": 3,
    "start_time": "2023-01-09T03:01:05.800Z"
   },
   {
    "duration": 62,
    "start_time": "2023-01-09T03:01:05.804Z"
   },
   {
    "duration": 16,
    "start_time": "2023-01-09T03:01:05.869Z"
   },
   {
    "duration": 3,
    "start_time": "2023-01-09T03:01:05.887Z"
   },
   {
    "duration": 17,
    "start_time": "2023-01-09T03:01:05.891Z"
   },
   {
    "duration": 7,
    "start_time": "2023-01-09T03:01:05.910Z"
   },
   {
    "duration": 13,
    "start_time": "2023-01-09T03:01:05.919Z"
   },
   {
    "duration": 19,
    "start_time": "2023-01-09T03:01:05.934Z"
   },
   {
    "duration": 35,
    "start_time": "2023-01-09T03:01:05.955Z"
   },
   {
    "duration": 15,
    "start_time": "2023-01-09T03:01:05.992Z"
   },
   {
    "duration": 36,
    "start_time": "2023-01-09T03:01:06.009Z"
   },
   {
    "duration": 10,
    "start_time": "2023-01-09T03:01:06.049Z"
   },
   {
    "duration": 13,
    "start_time": "2023-01-09T03:01:06.060Z"
   },
   {
    "duration": 14,
    "start_time": "2023-01-09T03:01:06.075Z"
   },
   {
    "duration": 11,
    "start_time": "2023-01-09T03:01:06.091Z"
   },
   {
    "duration": 22,
    "start_time": "2023-01-09T03:01:06.104Z"
   },
   {
    "duration": 15,
    "start_time": "2023-01-09T03:01:06.128Z"
   },
   {
    "duration": 7,
    "start_time": "2023-01-09T03:01:06.145Z"
   },
   {
    "duration": 21,
    "start_time": "2023-01-09T03:01:06.168Z"
   },
   {
    "duration": 37,
    "start_time": "2023-01-09T03:01:06.191Z"
   },
   {
    "duration": 12,
    "start_time": "2023-01-09T03:01:06.230Z"
   },
   {
    "duration": 22,
    "start_time": "2023-01-09T03:01:06.244Z"
   },
   {
    "duration": 9,
    "start_time": "2023-01-09T03:01:06.268Z"
   },
   {
    "duration": 12,
    "start_time": "2023-01-09T03:01:06.279Z"
   },
   {
    "duration": 7,
    "start_time": "2023-01-09T03:01:06.293Z"
   },
   {
    "duration": 7,
    "start_time": "2023-01-09T03:01:06.301Z"
   },
   {
    "duration": 18,
    "start_time": "2023-01-09T03:01:06.309Z"
   },
   {
    "duration": 7,
    "start_time": "2023-01-09T03:01:06.328Z"
   },
   {
    "duration": 6,
    "start_time": "2023-01-09T03:01:06.337Z"
   },
   {
    "duration": 11,
    "start_time": "2023-01-09T03:01:06.350Z"
   },
   {
    "duration": 10,
    "start_time": "2023-01-09T03:01:06.363Z"
   },
   {
    "duration": 3,
    "start_time": "2023-01-09T03:06:31.334Z"
   },
   {
    "duration": 3,
    "start_time": "2023-01-09T03:09:08.354Z"
   },
   {
    "duration": 18,
    "start_time": "2023-01-09T03:09:09.442Z"
   },
   {
    "duration": 11,
    "start_time": "2023-01-09T03:09:10.633Z"
   },
   {
    "duration": 4,
    "start_time": "2023-01-09T03:09:22.762Z"
   },
   {
    "duration": 3,
    "start_time": "2023-01-09T03:41:08.539Z"
   },
   {
    "duration": 20,
    "start_time": "2023-01-09T03:41:09.547Z"
   },
   {
    "duration": 15,
    "start_time": "2023-01-09T03:41:10.201Z"
   },
   {
    "duration": 2,
    "start_time": "2023-01-09T03:43:12.618Z"
   },
   {
    "duration": 15,
    "start_time": "2023-01-09T03:43:14.066Z"
   },
   {
    "duration": 14,
    "start_time": "2023-01-09T03:43:18.058Z"
   },
   {
    "duration": 8,
    "start_time": "2023-01-09T03:43:19.407Z"
   },
   {
    "duration": 14,
    "start_time": "2023-01-09T03:43:21.507Z"
   },
   {
    "duration": 3,
    "start_time": "2023-01-09T03:44:04.185Z"
   },
   {
    "duration": 20,
    "start_time": "2023-01-09T03:44:05.058Z"
   },
   {
    "duration": 12,
    "start_time": "2023-01-09T03:44:07.498Z"
   },
   {
    "duration": 4,
    "start_time": "2023-01-09T03:44:10.326Z"
   },
   {
    "duration": 3,
    "start_time": "2023-01-09T03:44:18.586Z"
   },
   {
    "duration": 23,
    "start_time": "2023-01-09T03:44:19.707Z"
   },
   {
    "duration": 12,
    "start_time": "2023-01-09T03:44:20.466Z"
   },
   {
    "duration": 4,
    "start_time": "2023-01-09T03:44:22.466Z"
   },
   {
    "duration": 3,
    "start_time": "2023-01-09T03:44:30.698Z"
   },
   {
    "duration": 19,
    "start_time": "2023-01-09T03:44:32.338Z"
   },
   {
    "duration": 11,
    "start_time": "2023-01-09T03:44:33.286Z"
   },
   {
    "duration": 4,
    "start_time": "2023-01-09T03:44:35.439Z"
   },
   {
    "duration": 577,
    "start_time": "2023-01-09T03:44:47.726Z"
   },
   {
    "duration": 8787,
    "start_time": "2023-01-09T03:44:48.305Z"
   },
   {
    "duration": 3,
    "start_time": "2023-01-09T03:44:57.093Z"
   },
   {
    "duration": 53,
    "start_time": "2023-01-09T03:44:57.098Z"
   },
   {
    "duration": 16,
    "start_time": "2023-01-09T03:44:57.154Z"
   },
   {
    "duration": 3,
    "start_time": "2023-01-09T03:44:57.172Z"
   },
   {
    "duration": 11,
    "start_time": "2023-01-09T03:44:57.176Z"
   },
   {
    "duration": 8,
    "start_time": "2023-01-09T03:44:57.188Z"
   },
   {
    "duration": 8,
    "start_time": "2023-01-09T03:44:57.197Z"
   },
   {
    "duration": 11,
    "start_time": "2023-01-09T03:44:57.207Z"
   },
   {
    "duration": 7,
    "start_time": "2023-01-09T03:44:57.220Z"
   },
   {
    "duration": 3,
    "start_time": "2023-01-09T03:44:57.251Z"
   },
   {
    "duration": 15,
    "start_time": "2023-01-09T03:44:57.256Z"
   },
   {
    "duration": 10,
    "start_time": "2023-01-09T03:44:57.274Z"
   },
   {
    "duration": 11,
    "start_time": "2023-01-09T03:44:57.286Z"
   },
   {
    "duration": 13,
    "start_time": "2023-01-09T03:44:57.299Z"
   },
   {
    "duration": 9,
    "start_time": "2023-01-09T03:44:57.314Z"
   },
   {
    "duration": 7,
    "start_time": "2023-01-09T03:44:57.325Z"
   },
   {
    "duration": 24,
    "start_time": "2023-01-09T03:44:57.334Z"
   },
   {
    "duration": 7,
    "start_time": "2023-01-09T03:44:57.360Z"
   },
   {
    "duration": 7,
    "start_time": "2023-01-09T03:44:57.369Z"
   },
   {
    "duration": 26,
    "start_time": "2023-01-09T03:44:57.378Z"
   },
   {
    "duration": 12,
    "start_time": "2023-01-09T03:44:57.406Z"
   },
   {
    "duration": 12,
    "start_time": "2023-01-09T03:44:57.419Z"
   },
   {
    "duration": 13,
    "start_time": "2023-01-09T03:44:57.433Z"
   },
   {
    "duration": 28,
    "start_time": "2023-01-09T03:44:57.448Z"
   },
   {
    "duration": 11,
    "start_time": "2023-01-09T03:44:57.478Z"
   },
   {
    "duration": 8,
    "start_time": "2023-01-09T03:44:57.491Z"
   },
   {
    "duration": 6,
    "start_time": "2023-01-09T03:44:57.500Z"
   },
   {
    "duration": 13,
    "start_time": "2023-01-09T03:44:57.508Z"
   },
   {
    "duration": 6,
    "start_time": "2023-01-09T03:44:57.522Z"
   },
   {
    "duration": 6,
    "start_time": "2023-01-09T03:44:57.530Z"
   },
   {
    "duration": 21,
    "start_time": "2023-01-09T03:44:57.538Z"
   },
   {
    "duration": 9,
    "start_time": "2023-01-09T03:44:57.560Z"
   },
   {
    "duration": 4,
    "start_time": "2023-01-09T03:44:57.571Z"
   },
   {
    "duration": 14,
    "start_time": "2023-01-09T03:44:57.577Z"
   },
   {
    "duration": 7,
    "start_time": "2023-01-09T03:44:57.593Z"
   },
   {
    "duration": 3,
    "start_time": "2023-01-09T03:47:35.614Z"
   },
   {
    "duration": 18,
    "start_time": "2023-01-09T03:47:37.174Z"
   },
   {
    "duration": 10,
    "start_time": "2023-01-09T03:47:38.353Z"
   },
   {
    "duration": 9,
    "start_time": "2023-01-09T03:47:44.314Z"
   },
   {
    "duration": 3,
    "start_time": "2023-01-09T03:48:05.393Z"
   },
   {
    "duration": 10,
    "start_time": "2023-01-09T03:48:06.114Z"
   },
   {
    "duration": 10,
    "start_time": "2023-01-09T03:48:06.874Z"
   },
   {
    "duration": 5,
    "start_time": "2023-01-09T03:48:10.774Z"
   },
   {
    "duration": 3,
    "start_time": "2023-01-09T03:49:12.994Z"
   },
   {
    "duration": 20,
    "start_time": "2023-01-09T03:49:14.237Z"
   },
   {
    "duration": 12,
    "start_time": "2023-01-09T03:49:15.006Z"
   },
   {
    "duration": 3,
    "start_time": "2023-01-09T03:49:41.382Z"
   },
   {
    "duration": 2,
    "start_time": "2023-01-09T03:49:42.186Z"
   },
   {
    "duration": 16,
    "start_time": "2023-01-09T03:49:42.954Z"
   },
   {
    "duration": 8,
    "start_time": "2023-01-09T03:49:43.606Z"
   },
   {
    "duration": 5,
    "start_time": "2023-01-09T03:49:46.014Z"
   },
   {
    "duration": 3,
    "start_time": "2023-01-09T03:49:56.063Z"
   },
   {
    "duration": 16,
    "start_time": "2023-01-09T03:49:58.114Z"
   },
   {
    "duration": 8,
    "start_time": "2023-01-09T03:49:58.806Z"
   },
   {
    "duration": 6,
    "start_time": "2023-01-09T03:50:39.074Z"
   },
   {
    "duration": 20,
    "start_time": "2023-01-09T03:50:39.755Z"
   },
   {
    "duration": 10,
    "start_time": "2023-01-09T03:50:40.507Z"
   },
   {
    "duration": 6,
    "start_time": "2023-01-09T03:50:55.842Z"
   },
   {
    "duration": 4,
    "start_time": "2023-01-09T03:52:25.514Z"
   },
   {
    "duration": 3,
    "start_time": "2023-01-09T03:52:26.515Z"
   },
   {
    "duration": 190,
    "start_time": "2023-01-09T03:52:27.553Z"
   },
   {
    "duration": 93,
    "start_time": "2023-01-09T03:52:28.354Z"
   },
   {
    "duration": 2,
    "start_time": "2023-01-09T03:52:38.747Z"
   },
   {
    "duration": 321,
    "start_time": "2023-01-09T03:52:39.702Z"
   },
   {
    "duration": 20,
    "start_time": "2023-01-09T03:52:41.127Z"
   },
   {
    "duration": 513,
    "start_time": "2023-01-09T14:29:38.530Z"
   },
   {
    "duration": 8079,
    "start_time": "2023-01-09T14:29:39.045Z"
   },
   {
    "duration": 2,
    "start_time": "2023-01-09T14:29:47.126Z"
   },
   {
    "duration": 61,
    "start_time": "2023-01-09T14:29:47.130Z"
   },
   {
    "duration": 14,
    "start_time": "2023-01-09T14:29:47.193Z"
   },
   {
    "duration": 22,
    "start_time": "2023-01-09T14:29:47.208Z"
   },
   {
    "duration": 40,
    "start_time": "2023-01-09T14:29:47.232Z"
   },
   {
    "duration": 23,
    "start_time": "2023-01-09T14:29:47.274Z"
   },
   {
    "duration": 5,
    "start_time": "2023-01-09T14:29:47.299Z"
   },
   {
    "duration": 10,
    "start_time": "2023-01-09T14:29:47.307Z"
   },
   {
    "duration": 8,
    "start_time": "2023-01-09T14:29:47.319Z"
   },
   {
    "duration": 12,
    "start_time": "2023-01-09T14:29:47.329Z"
   },
   {
    "duration": 19,
    "start_time": "2023-01-09T14:29:47.343Z"
   },
   {
    "duration": 8,
    "start_time": "2023-01-09T14:29:47.364Z"
   },
   {
    "duration": 19,
    "start_time": "2023-01-09T14:29:47.374Z"
   },
   {
    "duration": 14,
    "start_time": "2023-01-09T14:29:47.395Z"
   },
   {
    "duration": 8,
    "start_time": "2023-01-09T14:29:47.410Z"
   },
   {
    "duration": 4,
    "start_time": "2023-01-09T14:29:47.420Z"
   },
   {
    "duration": 9,
    "start_time": "2023-01-09T14:29:47.426Z"
   },
   {
    "duration": 5,
    "start_time": "2023-01-09T14:29:47.437Z"
   },
   {
    "duration": 8,
    "start_time": "2023-01-09T14:29:47.444Z"
   },
   {
    "duration": 23,
    "start_time": "2023-01-09T14:29:47.454Z"
   },
   {
    "duration": 11,
    "start_time": "2023-01-09T14:29:47.479Z"
   },
   {
    "duration": 8,
    "start_time": "2023-01-09T14:29:47.491Z"
   },
   {
    "duration": 7,
    "start_time": "2023-01-09T14:29:47.500Z"
   },
   {
    "duration": 232,
    "start_time": "2023-01-09T14:29:47.509Z"
   },
   {
    "duration": 19,
    "start_time": "2023-01-09T14:29:47.742Z"
   },
   {
    "duration": 1475,
    "start_time": "2023-01-09T14:29:47.764Z"
   },
   {
    "duration": 0,
    "start_time": "2023-01-09T14:29:49.241Z"
   },
   {
    "duration": 0,
    "start_time": "2023-01-09T14:29:49.242Z"
   },
   {
    "duration": 0,
    "start_time": "2023-01-09T14:29:49.244Z"
   },
   {
    "duration": 0,
    "start_time": "2023-01-09T14:29:49.245Z"
   },
   {
    "duration": 0,
    "start_time": "2023-01-09T14:29:49.247Z"
   },
   {
    "duration": 0,
    "start_time": "2023-01-09T14:29:49.248Z"
   },
   {
    "duration": 0,
    "start_time": "2023-01-09T14:29:49.250Z"
   },
   {
    "duration": 0,
    "start_time": "2023-01-09T14:29:49.252Z"
   },
   {
    "duration": 0,
    "start_time": "2023-01-09T14:29:49.253Z"
   },
   {
    "duration": 3,
    "start_time": "2023-01-09T14:34:32.265Z"
   },
   {
    "duration": 21,
    "start_time": "2023-01-09T14:34:33.177Z"
   },
   {
    "duration": 11,
    "start_time": "2023-01-09T14:34:34.138Z"
   },
   {
    "duration": 3,
    "start_time": "2023-01-09T14:35:11.777Z"
   },
   {
    "duration": 12,
    "start_time": "2023-01-09T14:35:13.608Z"
   },
   {
    "duration": 12,
    "start_time": "2023-01-09T14:35:14.282Z"
   },
   {
    "duration": 3,
    "start_time": "2023-01-09T14:35:28.672Z"
   },
   {
    "duration": 3,
    "start_time": "2023-01-09T14:35:33.161Z"
   },
   {
    "duration": 11,
    "start_time": "2023-01-09T14:35:34.088Z"
   },
   {
    "duration": 9,
    "start_time": "2023-01-09T14:35:35.222Z"
   },
   {
    "duration": 2,
    "start_time": "2023-01-09T14:36:10.042Z"
   },
   {
    "duration": 2,
    "start_time": "2023-01-09T14:37:49.312Z"
   },
   {
    "duration": 2,
    "start_time": "2023-01-09T14:38:13.128Z"
   },
   {
    "duration": 12,
    "start_time": "2023-01-09T14:38:14.072Z"
   },
   {
    "duration": 15,
    "start_time": "2023-01-09T14:38:14.979Z"
   },
   {
    "duration": 3,
    "start_time": "2023-01-09T14:39:23.383Z"
   },
   {
    "duration": 22,
    "start_time": "2023-01-09T14:39:24.366Z"
   },
   {
    "duration": 17,
    "start_time": "2023-01-09T14:39:25.247Z"
   },
   {
    "duration": 3,
    "start_time": "2023-01-09T14:39:43.831Z"
   },
   {
    "duration": 26,
    "start_time": "2023-01-09T14:39:44.694Z"
   },
   {
    "duration": 15,
    "start_time": "2023-01-09T14:39:45.505Z"
   },
   {
    "duration": 3,
    "start_time": "2023-01-09T14:39:59.150Z"
   },
   {
    "duration": 23,
    "start_time": "2023-01-09T14:40:00.207Z"
   },
   {
    "duration": 18,
    "start_time": "2023-01-09T14:40:01.383Z"
   },
   {
    "duration": 3,
    "start_time": "2023-01-09T14:40:50.575Z"
   },
   {
    "duration": 22,
    "start_time": "2023-01-09T14:40:53.789Z"
   },
   {
    "duration": 18,
    "start_time": "2023-01-09T14:40:54.686Z"
   },
   {
    "duration": 2,
    "start_time": "2023-01-09T14:41:02.438Z"
   },
   {
    "duration": 20,
    "start_time": "2023-01-09T14:41:03.582Z"
   },
   {
    "duration": 16,
    "start_time": "2023-01-09T14:41:04.254Z"
   },
   {
    "duration": 3,
    "start_time": "2023-01-09T14:41:49.557Z"
   },
   {
    "duration": 21,
    "start_time": "2023-01-09T14:41:50.336Z"
   },
   {
    "duration": 16,
    "start_time": "2023-01-09T14:41:50.942Z"
   },
   {
    "duration": 3,
    "start_time": "2023-01-09T14:41:57.045Z"
   },
   {
    "duration": 23,
    "start_time": "2023-01-09T14:41:58.004Z"
   },
   {
    "duration": 20,
    "start_time": "2023-01-09T14:42:00.321Z"
   },
   {
    "duration": 3,
    "start_time": "2023-01-09T14:42:17.893Z"
   },
   {
    "duration": 21,
    "start_time": "2023-01-09T14:42:18.924Z"
   },
   {
    "duration": 17,
    "start_time": "2023-01-09T14:42:19.558Z"
   },
   {
    "duration": 3,
    "start_time": "2023-01-09T14:42:24.973Z"
   },
   {
    "duration": 21,
    "start_time": "2023-01-09T14:42:26.429Z"
   },
   {
    "duration": 17,
    "start_time": "2023-01-09T14:42:27.166Z"
   },
   {
    "duration": 2,
    "start_time": "2023-01-09T14:42:37.029Z"
   },
   {
    "duration": 21,
    "start_time": "2023-01-09T14:42:38.164Z"
   },
   {
    "duration": 16,
    "start_time": "2023-01-09T14:42:38.918Z"
   },
   {
    "duration": 2,
    "start_time": "2023-01-09T14:43:29.517Z"
   },
   {
    "duration": 3,
    "start_time": "2023-01-09T14:43:33.214Z"
   },
   {
    "duration": 114,
    "start_time": "2023-01-09T14:43:34.156Z"
   },
   {
    "duration": 3,
    "start_time": "2023-01-09T14:43:51.188Z"
   },
   {
    "duration": 12,
    "start_time": "2023-01-09T14:43:52.037Z"
   },
   {
    "duration": 9,
    "start_time": "2023-01-09T14:43:53.293Z"
   },
   {
    "duration": 2,
    "start_time": "2023-01-09T14:44:07.669Z"
   },
   {
    "duration": 10,
    "start_time": "2023-01-09T14:44:08.835Z"
   },
   {
    "duration": 7,
    "start_time": "2023-01-09T14:44:09.532Z"
   },
   {
    "duration": 2,
    "start_time": "2023-01-09T14:44:19.246Z"
   },
   {
    "duration": 11,
    "start_time": "2023-01-09T14:44:20.348Z"
   },
   {
    "duration": 12,
    "start_time": "2023-01-09T14:44:23.724Z"
   },
   {
    "duration": 11,
    "start_time": "2023-01-09T14:44:24.540Z"
   },
   {
    "duration": 3,
    "start_time": "2023-01-09T14:45:12.931Z"
   },
   {
    "duration": 3,
    "start_time": "2023-01-09T14:45:14.321Z"
   },
   {
    "duration": 13,
    "start_time": "2023-01-09T14:45:15.811Z"
   },
   {
    "duration": 10,
    "start_time": "2023-01-09T14:45:16.524Z"
   },
   {
    "duration": 3,
    "start_time": "2023-01-09T15:23:10.963Z"
   },
   {
    "duration": 12,
    "start_time": "2023-01-09T15:23:11.938Z"
   },
   {
    "duration": 14,
    "start_time": "2023-01-09T15:23:12.635Z"
   },
   {
    "duration": 2,
    "start_time": "2023-01-09T15:24:00.050Z"
   },
   {
    "duration": 12,
    "start_time": "2023-01-09T15:24:01.481Z"
   },
   {
    "duration": 9,
    "start_time": "2023-01-09T15:24:02.371Z"
   },
   {
    "duration": 2,
    "start_time": "2023-01-09T15:24:16.090Z"
   },
   {
    "duration": 16,
    "start_time": "2023-01-09T15:24:17.680Z"
   },
   {
    "duration": 14,
    "start_time": "2023-01-09T15:24:18.531Z"
   },
   {
    "duration": 3,
    "start_time": "2023-01-09T15:25:50.395Z"
   },
   {
    "duration": 19,
    "start_time": "2023-01-09T15:25:51.417Z"
   },
   {
    "duration": 14,
    "start_time": "2023-01-09T15:25:52.266Z"
   },
   {
    "duration": 3,
    "start_time": "2023-01-09T15:26:31.049Z"
   },
   {
    "duration": 11,
    "start_time": "2023-01-09T15:26:33.113Z"
   },
   {
    "duration": 14,
    "start_time": "2023-01-09T15:26:34.241Z"
   },
   {
    "duration": 3,
    "start_time": "2023-01-09T15:32:59.533Z"
   },
   {
    "duration": 118,
    "start_time": "2023-01-09T15:33:00.468Z"
   },
   {
    "duration": 3,
    "start_time": "2023-01-09T15:33:14.533Z"
   },
   {
    "duration": 10,
    "start_time": "2023-01-09T15:33:15.422Z"
   },
   {
    "duration": 10,
    "start_time": "2023-01-09T15:33:16.629Z"
   },
   {
    "duration": 3,
    "start_time": "2023-01-09T15:34:26.166Z"
   },
   {
    "duration": 103,
    "start_time": "2023-01-09T15:34:27.620Z"
   },
   {
    "duration": 4,
    "start_time": "2023-01-09T15:35:04.796Z"
   },
   {
    "duration": 15,
    "start_time": "2023-01-09T15:35:05.631Z"
   },
   {
    "duration": 12,
    "start_time": "2023-01-09T15:35:07.309Z"
   },
   {
    "duration": 4,
    "start_time": "2023-01-09T15:36:59.539Z"
   },
   {
    "duration": 19,
    "start_time": "2023-01-09T15:37:01.278Z"
   },
   {
    "duration": 12,
    "start_time": "2023-01-09T15:37:02.323Z"
   },
   {
    "duration": 3,
    "start_time": "2023-01-09T15:40:13.075Z"
   },
   {
    "duration": 14,
    "start_time": "2023-01-09T15:40:15.936Z"
   },
   {
    "duration": 12,
    "start_time": "2023-01-09T15:40:16.809Z"
   },
   {
    "duration": 6,
    "start_time": "2023-01-09T15:40:31.105Z"
   },
   {
    "duration": 4,
    "start_time": "2023-01-09T15:42:54.311Z"
   },
   {
    "duration": 4,
    "start_time": "2023-01-09T15:43:51.295Z"
   },
   {
    "duration": 3,
    "start_time": "2023-01-09T15:44:41.055Z"
   },
   {
    "duration": 3,
    "start_time": "2023-01-09T15:44:42.896Z"
   },
   {
    "duration": 3,
    "start_time": "2023-01-09T15:44:43.599Z"
   },
   {
    "duration": 649,
    "start_time": "2023-01-09T15:55:50.363Z"
   },
   {
    "duration": 8011,
    "start_time": "2023-01-09T15:55:51.014Z"
   },
   {
    "duration": 3,
    "start_time": "2023-01-09T15:55:59.026Z"
   },
   {
    "duration": 52,
    "start_time": "2023-01-09T15:55:59.032Z"
   },
   {
    "duration": 22,
    "start_time": "2023-01-09T15:55:59.087Z"
   },
   {
    "duration": 3,
    "start_time": "2023-01-09T15:55:59.111Z"
   },
   {
    "duration": 12,
    "start_time": "2023-01-09T15:55:59.116Z"
   },
   {
    "duration": 7,
    "start_time": "2023-01-09T15:55:59.130Z"
   },
   {
    "duration": 6,
    "start_time": "2023-01-09T15:55:59.138Z"
   },
   {
    "duration": 19,
    "start_time": "2023-01-09T15:55:59.147Z"
   },
   {
    "duration": 26,
    "start_time": "2023-01-09T15:55:59.169Z"
   },
   {
    "duration": 6,
    "start_time": "2023-01-09T15:55:59.197Z"
   },
   {
    "duration": 17,
    "start_time": "2023-01-09T15:55:59.205Z"
   },
   {
    "duration": 7,
    "start_time": "2023-01-09T15:55:59.224Z"
   },
   {
    "duration": 5,
    "start_time": "2023-01-09T15:55:59.233Z"
   },
   {
    "duration": 11,
    "start_time": "2023-01-09T15:55:59.239Z"
   },
   {
    "duration": 18,
    "start_time": "2023-01-09T15:55:59.252Z"
   },
   {
    "duration": 10,
    "start_time": "2023-01-09T15:55:59.273Z"
   },
   {
    "duration": 12,
    "start_time": "2023-01-09T15:55:59.284Z"
   },
   {
    "duration": 6,
    "start_time": "2023-01-09T15:55:59.298Z"
   },
   {
    "duration": 6,
    "start_time": "2023-01-09T15:55:59.306Z"
   },
   {
    "duration": 5,
    "start_time": "2023-01-09T15:55:59.314Z"
   },
   {
    "duration": 6,
    "start_time": "2023-01-09T15:55:59.321Z"
   },
   {
    "duration": 35,
    "start_time": "2023-01-09T15:55:59.329Z"
   },
   {
    "duration": 28,
    "start_time": "2023-01-09T15:55:59.368Z"
   },
   {
    "duration": 18,
    "start_time": "2023-01-09T15:55:59.399Z"
   },
   {
    "duration": 10,
    "start_time": "2023-01-09T15:55:59.419Z"
   },
   {
    "duration": 6,
    "start_time": "2023-01-09T15:55:59.432Z"
   },
   {
    "duration": 12,
    "start_time": "2023-01-09T15:55:59.440Z"
   },
   {
    "duration": 11,
    "start_time": "2023-01-09T15:55:59.455Z"
   },
   {
    "duration": 15,
    "start_time": "2023-01-09T15:55:59.469Z"
   },
   {
    "duration": 15,
    "start_time": "2023-01-09T15:55:59.486Z"
   },
   {
    "duration": 7,
    "start_time": "2023-01-09T15:55:59.502Z"
   },
   {
    "duration": 6,
    "start_time": "2023-01-09T15:55:59.511Z"
   },
   {
    "duration": 16,
    "start_time": "2023-01-09T15:55:59.518Z"
   },
   {
    "duration": 20,
    "start_time": "2023-01-09T15:55:59.536Z"
   },
   {
    "duration": 9,
    "start_time": "2023-01-09T15:56:51.848Z"
   },
   {
    "duration": 599,
    "start_time": "2023-01-09T15:57:07.856Z"
   },
   {
    "duration": 8297,
    "start_time": "2023-01-09T15:57:08.458Z"
   },
   {
    "duration": 5,
    "start_time": "2023-01-09T15:57:16.757Z"
   },
   {
    "duration": 63,
    "start_time": "2023-01-09T15:57:16.765Z"
   },
   {
    "duration": 15,
    "start_time": "2023-01-09T15:57:16.830Z"
   },
   {
    "duration": 12,
    "start_time": "2023-01-09T15:57:16.846Z"
   },
   {
    "duration": 20,
    "start_time": "2023-01-09T15:57:16.861Z"
   },
   {
    "duration": 17,
    "start_time": "2023-01-09T15:57:16.883Z"
   },
   {
    "duration": 22,
    "start_time": "2023-01-09T15:57:16.902Z"
   },
   {
    "duration": 19,
    "start_time": "2023-01-09T15:57:16.927Z"
   },
   {
    "duration": 30,
    "start_time": "2023-01-09T15:57:16.948Z"
   },
   {
    "duration": 22,
    "start_time": "2023-01-09T15:57:16.980Z"
   },
   {
    "duration": 21,
    "start_time": "2023-01-09T15:57:17.003Z"
   },
   {
    "duration": 19,
    "start_time": "2023-01-09T15:57:17.025Z"
   },
   {
    "duration": 19,
    "start_time": "2023-01-09T15:57:17.046Z"
   },
   {
    "duration": 25,
    "start_time": "2023-01-09T15:57:17.067Z"
   },
   {
    "duration": 22,
    "start_time": "2023-01-09T15:57:17.094Z"
   },
   {
    "duration": 14,
    "start_time": "2023-01-09T15:57:17.118Z"
   },
   {
    "duration": 25,
    "start_time": "2023-01-09T15:57:17.133Z"
   },
   {
    "duration": 22,
    "start_time": "2023-01-09T15:57:17.160Z"
   },
   {
    "duration": 12,
    "start_time": "2023-01-09T15:57:17.184Z"
   },
   {
    "duration": 13,
    "start_time": "2023-01-09T15:57:17.198Z"
   },
   {
    "duration": 12,
    "start_time": "2023-01-09T15:57:17.213Z"
   },
   {
    "duration": 14,
    "start_time": "2023-01-09T15:57:17.227Z"
   },
   {
    "duration": 37,
    "start_time": "2023-01-09T15:57:17.243Z"
   },
   {
    "duration": 18,
    "start_time": "2023-01-09T15:57:17.282Z"
   },
   {
    "duration": 21,
    "start_time": "2023-01-09T15:57:17.302Z"
   },
   {
    "duration": 19,
    "start_time": "2023-01-09T15:57:17.328Z"
   },
   {
    "duration": 31,
    "start_time": "2023-01-09T15:57:17.349Z"
   },
   {
    "duration": 17,
    "start_time": "2023-01-09T15:57:17.381Z"
   },
   {
    "duration": 28,
    "start_time": "2023-01-09T15:57:17.399Z"
   },
   {
    "duration": 11,
    "start_time": "2023-01-09T15:57:17.429Z"
   },
   {
    "duration": 14,
    "start_time": "2023-01-09T15:57:17.441Z"
   },
   {
    "duration": 38,
    "start_time": "2023-01-09T15:57:17.458Z"
   },
   {
    "duration": 11,
    "start_time": "2023-01-09T15:57:17.498Z"
   },
   {
    "duration": 570,
    "start_time": "2023-01-09T16:13:03.651Z"
   },
   {
    "duration": 9294,
    "start_time": "2023-01-09T16:13:04.224Z"
   },
   {
    "duration": 3,
    "start_time": "2023-01-09T16:13:13.519Z"
   },
   {
    "duration": 81,
    "start_time": "2023-01-09T16:13:13.524Z"
   },
   {
    "duration": 16,
    "start_time": "2023-01-09T16:13:13.608Z"
   },
   {
    "duration": 3,
    "start_time": "2023-01-09T16:13:13.626Z"
   },
   {
    "duration": 52,
    "start_time": "2023-01-09T16:13:13.631Z"
   },
   {
    "duration": 8,
    "start_time": "2023-01-09T16:13:13.685Z"
   },
   {
    "duration": 19,
    "start_time": "2023-01-09T16:13:13.695Z"
   },
   {
    "duration": 23,
    "start_time": "2023-01-09T16:13:13.715Z"
   },
   {
    "duration": 24,
    "start_time": "2023-01-09T16:13:13.740Z"
   },
   {
    "duration": 28,
    "start_time": "2023-01-09T16:13:13.765Z"
   },
   {
    "duration": 13,
    "start_time": "2023-01-09T16:13:13.795Z"
   },
   {
    "duration": 12,
    "start_time": "2023-01-09T16:13:13.811Z"
   },
   {
    "duration": 11,
    "start_time": "2023-01-09T16:13:13.824Z"
   },
   {
    "duration": 45,
    "start_time": "2023-01-09T16:13:13.837Z"
   },
   {
    "duration": 16,
    "start_time": "2023-01-09T16:13:13.884Z"
   },
   {
    "duration": 13,
    "start_time": "2023-01-09T16:13:13.901Z"
   },
   {
    "duration": 23,
    "start_time": "2023-01-09T16:13:13.915Z"
   },
   {
    "duration": 8,
    "start_time": "2023-01-09T16:13:13.940Z"
   },
   {
    "duration": 36,
    "start_time": "2023-01-09T16:13:13.949Z"
   },
   {
    "duration": 11,
    "start_time": "2023-01-09T16:13:13.987Z"
   },
   {
    "duration": 5,
    "start_time": "2023-01-09T16:13:14.000Z"
   },
   {
    "duration": 20,
    "start_time": "2023-01-09T16:13:14.007Z"
   },
   {
    "duration": 22,
    "start_time": "2023-01-09T16:13:14.029Z"
   },
   {
    "duration": 27,
    "start_time": "2023-01-09T16:13:14.062Z"
   },
   {
    "duration": 26,
    "start_time": "2023-01-09T16:13:14.091Z"
   },
   {
    "duration": 15,
    "start_time": "2023-01-09T16:13:14.119Z"
   },
   {
    "duration": 12,
    "start_time": "2023-01-09T16:13:14.136Z"
   },
   {
    "duration": 38,
    "start_time": "2023-01-09T16:13:14.149Z"
   },
   {
    "duration": 19,
    "start_time": "2023-01-09T16:13:14.189Z"
   },
   {
    "duration": 11,
    "start_time": "2023-01-09T16:13:14.209Z"
   },
   {
    "duration": 9,
    "start_time": "2023-01-09T16:13:14.223Z"
   },
   {
    "duration": 31,
    "start_time": "2023-01-09T16:13:14.234Z"
   },
   {
    "duration": 26,
    "start_time": "2023-01-09T16:13:14.267Z"
   },
   {
    "duration": 503,
    "start_time": "2023-01-09T16:18:24.983Z"
   },
   {
    "duration": 8186,
    "start_time": "2023-01-09T16:18:25.488Z"
   },
   {
    "duration": 3,
    "start_time": "2023-01-09T16:18:33.676Z"
   },
   {
    "duration": 48,
    "start_time": "2023-01-09T16:18:33.680Z"
   },
   {
    "duration": 14,
    "start_time": "2023-01-09T16:18:33.730Z"
   },
   {
    "duration": 2,
    "start_time": "2023-01-09T16:18:33.745Z"
   },
   {
    "duration": 25,
    "start_time": "2023-01-09T16:18:33.749Z"
   },
   {
    "duration": 7,
    "start_time": "2023-01-09T16:18:33.776Z"
   },
   {
    "duration": 6,
    "start_time": "2023-01-09T16:18:33.785Z"
   },
   {
    "duration": 15,
    "start_time": "2023-01-09T16:18:33.792Z"
   },
   {
    "duration": 7,
    "start_time": "2023-01-09T16:18:33.809Z"
   },
   {
    "duration": 5,
    "start_time": "2023-01-09T16:18:33.818Z"
   },
   {
    "duration": 20,
    "start_time": "2023-01-09T16:18:33.824Z"
   },
   {
    "duration": 16,
    "start_time": "2023-01-09T16:18:33.848Z"
   },
   {
    "duration": 16,
    "start_time": "2023-01-09T16:18:33.865Z"
   },
   {
    "duration": 11,
    "start_time": "2023-01-09T16:18:33.883Z"
   },
   {
    "duration": 19,
    "start_time": "2023-01-09T16:18:33.895Z"
   },
   {
    "duration": 7,
    "start_time": "2023-01-09T16:18:33.916Z"
   },
   {
    "duration": 11,
    "start_time": "2023-01-09T16:18:33.925Z"
   },
   {
    "duration": 11,
    "start_time": "2023-01-09T16:18:33.937Z"
   },
   {
    "duration": 42,
    "start_time": "2023-01-09T16:18:33.949Z"
   },
   {
    "duration": 17,
    "start_time": "2023-01-09T16:18:33.993Z"
   },
   {
    "duration": 18,
    "start_time": "2023-01-09T16:18:34.012Z"
   },
   {
    "duration": 8,
    "start_time": "2023-01-09T16:18:34.032Z"
   },
   {
    "duration": 39,
    "start_time": "2023-01-09T16:18:34.042Z"
   },
   {
    "duration": 12,
    "start_time": "2023-01-09T16:18:34.083Z"
   },
   {
    "duration": 19,
    "start_time": "2023-01-09T16:18:34.097Z"
   },
   {
    "duration": 23,
    "start_time": "2023-01-09T16:18:34.118Z"
   },
   {
    "duration": 27,
    "start_time": "2023-01-09T16:18:34.143Z"
   },
   {
    "duration": 12,
    "start_time": "2023-01-09T16:18:34.172Z"
   },
   {
    "duration": 40,
    "start_time": "2023-01-09T16:18:34.185Z"
   },
   {
    "duration": 22,
    "start_time": "2023-01-09T16:18:34.227Z"
   },
   {
    "duration": 25,
    "start_time": "2023-01-09T16:18:34.251Z"
   },
   {
    "duration": 20,
    "start_time": "2023-01-09T16:18:34.278Z"
   },
   {
    "duration": 21,
    "start_time": "2023-01-09T16:18:34.300Z"
   },
   {
    "duration": 2,
    "start_time": "2023-01-09T16:23:00.138Z"
   },
   {
    "duration": 168,
    "start_time": "2023-01-09T16:23:03.289Z"
   },
   {
    "duration": 3,
    "start_time": "2023-01-09T16:23:49.608Z"
   },
   {
    "duration": 9,
    "start_time": "2023-01-09T16:23:50.722Z"
   },
   {
    "duration": 10,
    "start_time": "2023-01-09T16:23:51.929Z"
   },
   {
    "duration": 2,
    "start_time": "2023-01-09T16:24:06.793Z"
   },
   {
    "duration": 9,
    "start_time": "2023-01-09T16:24:08.536Z"
   },
   {
    "duration": 7,
    "start_time": "2023-01-09T16:24:09.601Z"
   },
   {
    "duration": 2,
    "start_time": "2023-01-09T16:24:30.241Z"
   },
   {
    "duration": 10,
    "start_time": "2023-01-09T16:24:31.288Z"
   },
   {
    "duration": 8,
    "start_time": "2023-01-09T16:24:32.328Z"
   },
   {
    "duration": 4,
    "start_time": "2023-01-09T16:24:56.665Z"
   },
   {
    "duration": 9,
    "start_time": "2023-01-09T16:24:57.791Z"
   },
   {
    "duration": 6,
    "start_time": "2023-01-09T16:24:58.768Z"
   },
   {
    "duration": 3,
    "start_time": "2023-01-09T16:25:59.368Z"
   },
   {
    "duration": 9,
    "start_time": "2023-01-09T16:26:00.595Z"
   },
   {
    "duration": 8,
    "start_time": "2023-01-09T16:26:06.466Z"
   },
   {
    "duration": 2,
    "start_time": "2023-01-09T16:31:26.916Z"
   },
   {
    "duration": 94,
    "start_time": "2023-01-09T16:31:27.874Z"
   },
   {
    "duration": 3,
    "start_time": "2023-01-09T16:31:53.738Z"
   },
   {
    "duration": 19,
    "start_time": "2023-01-09T16:31:54.942Z"
   },
   {
    "duration": 15,
    "start_time": "2023-01-09T16:31:58.755Z"
   },
   {
    "duration": 5,
    "start_time": "2023-01-09T16:32:14.642Z"
   },
   {
    "duration": 10,
    "start_time": "2023-01-09T16:32:15.666Z"
   },
   {
    "duration": 12,
    "start_time": "2023-01-09T16:32:16.619Z"
   },
   {
    "duration": 3,
    "start_time": "2023-01-09T16:33:15.930Z"
   },
   {
    "duration": 10,
    "start_time": "2023-01-09T16:33:17.376Z"
   },
   {
    "duration": 11,
    "start_time": "2023-01-09T16:33:18.289Z"
   },
   {
    "duration": 3,
    "start_time": "2023-01-09T16:34:22.474Z"
   },
   {
    "duration": 2,
    "start_time": "2023-01-09T16:34:23.648Z"
   },
   {
    "duration": 13,
    "start_time": "2023-01-09T16:34:24.504Z"
   },
   {
    "duration": 8,
    "start_time": "2023-01-09T16:34:25.304Z"
   },
   {
    "duration": 3,
    "start_time": "2023-01-09T16:34:55.296Z"
   },
   {
    "duration": 11,
    "start_time": "2023-01-09T16:34:57.390Z"
   },
   {
    "duration": 6,
    "start_time": "2023-01-09T16:34:58.018Z"
   },
   {
    "duration": 3,
    "start_time": "2023-01-09T16:36:03.921Z"
   },
   {
    "duration": 11,
    "start_time": "2023-01-09T16:36:04.767Z"
   },
   {
    "duration": 7,
    "start_time": "2023-01-09T16:36:05.984Z"
   },
   {
    "duration": 3,
    "start_time": "2023-01-09T16:40:19.942Z"
   },
   {
    "duration": 12,
    "start_time": "2023-01-09T16:40:21.684Z"
   },
   {
    "duration": 8,
    "start_time": "2023-01-09T16:40:22.382Z"
   },
   {
    "duration": 3,
    "start_time": "2023-01-09T16:40:48.277Z"
   },
   {
    "duration": 12,
    "start_time": "2023-01-09T16:40:50.612Z"
   },
   {
    "duration": 7,
    "start_time": "2023-01-09T16:40:51.541Z"
   },
   {
    "duration": 3,
    "start_time": "2023-01-09T16:41:44.116Z"
   },
   {
    "duration": 9,
    "start_time": "2023-01-09T16:41:45.940Z"
   },
   {
    "duration": 6,
    "start_time": "2023-01-09T16:41:46.621Z"
   },
   {
    "duration": 3,
    "start_time": "2023-01-09T16:42:26.788Z"
   },
   {
    "duration": 11,
    "start_time": "2023-01-09T16:42:28.139Z"
   },
   {
    "duration": 7,
    "start_time": "2023-01-09T16:42:29.124Z"
   },
   {
    "duration": 569,
    "start_time": "2023-01-09T16:43:32.921Z"
   },
   {
    "duration": 8384,
    "start_time": "2023-01-09T16:43:33.492Z"
   },
   {
    "duration": 3,
    "start_time": "2023-01-09T16:43:41.878Z"
   },
   {
    "duration": 40,
    "start_time": "2023-01-09T16:43:41.882Z"
   },
   {
    "duration": 14,
    "start_time": "2023-01-09T16:43:41.924Z"
   },
   {
    "duration": 2,
    "start_time": "2023-01-09T16:43:41.940Z"
   },
   {
    "duration": 26,
    "start_time": "2023-01-09T16:43:41.943Z"
   },
   {
    "duration": 8,
    "start_time": "2023-01-09T16:43:41.971Z"
   },
   {
    "duration": 8,
    "start_time": "2023-01-09T16:43:41.980Z"
   },
   {
    "duration": 14,
    "start_time": "2023-01-09T16:43:41.989Z"
   },
   {
    "duration": 8,
    "start_time": "2023-01-09T16:43:42.005Z"
   },
   {
    "duration": 10,
    "start_time": "2023-01-09T16:43:42.015Z"
   },
   {
    "duration": 13,
    "start_time": "2023-01-09T16:43:42.027Z"
   },
   {
    "duration": 8,
    "start_time": "2023-01-09T16:43:42.042Z"
   },
   {
    "duration": 18,
    "start_time": "2023-01-09T16:43:42.051Z"
   },
   {
    "duration": 12,
    "start_time": "2023-01-09T16:43:42.071Z"
   },
   {
    "duration": 8,
    "start_time": "2023-01-09T16:43:42.084Z"
   },
   {
    "duration": 4,
    "start_time": "2023-01-09T16:43:42.094Z"
   },
   {
    "duration": 13,
    "start_time": "2023-01-09T16:43:42.100Z"
   },
   {
    "duration": 19,
    "start_time": "2023-01-09T16:43:42.115Z"
   },
   {
    "duration": 9,
    "start_time": "2023-01-09T16:43:42.136Z"
   },
   {
    "duration": 28,
    "start_time": "2023-01-09T16:43:42.146Z"
   },
   {
    "duration": 9,
    "start_time": "2023-01-09T16:43:42.176Z"
   },
   {
    "duration": 13,
    "start_time": "2023-01-09T16:43:42.187Z"
   },
   {
    "duration": 23,
    "start_time": "2023-01-09T16:43:42.201Z"
   },
   {
    "duration": 14,
    "start_time": "2023-01-09T16:43:42.226Z"
   },
   {
    "duration": 28,
    "start_time": "2023-01-09T16:43:42.241Z"
   },
   {
    "duration": 23,
    "start_time": "2023-01-09T16:43:42.271Z"
   },
   {
    "duration": 21,
    "start_time": "2023-01-09T16:43:42.296Z"
   },
   {
    "duration": 16,
    "start_time": "2023-01-09T16:43:42.319Z"
   },
   {
    "duration": 36,
    "start_time": "2023-01-09T16:43:42.337Z"
   },
   {
    "duration": 7,
    "start_time": "2023-01-09T16:43:42.374Z"
   },
   {
    "duration": 22,
    "start_time": "2023-01-09T16:43:42.389Z"
   },
   {
    "duration": 58,
    "start_time": "2023-01-09T16:43:42.413Z"
   },
   {
    "duration": 51,
    "start_time": "2023-01-09T16:43:42.473Z"
   },
   {
    "duration": 54,
    "start_time": "2023-01-09T16:43:42.527Z"
   },
   {
    "duration": 51,
    "start_time": "2023-01-09T16:43:42.583Z"
   },
   {
    "duration": 52,
    "start_time": "2023-01-09T16:43:42.636Z"
   },
   {
    "duration": 500,
    "start_time": "2023-01-09T16:46:36.806Z"
   },
   {
    "duration": 8445,
    "start_time": "2023-01-09T16:46:37.308Z"
   },
   {
    "duration": 3,
    "start_time": "2023-01-09T16:46:45.755Z"
   },
   {
    "duration": 83,
    "start_time": "2023-01-09T16:46:45.760Z"
   },
   {
    "duration": 17,
    "start_time": "2023-01-09T16:46:45.845Z"
   },
   {
    "duration": 12,
    "start_time": "2023-01-09T16:46:45.864Z"
   },
   {
    "duration": 10,
    "start_time": "2023-01-09T16:46:45.878Z"
   },
   {
    "duration": 8,
    "start_time": "2023-01-09T16:46:45.889Z"
   },
   {
    "duration": 5,
    "start_time": "2023-01-09T16:46:45.898Z"
   },
   {
    "duration": 10,
    "start_time": "2023-01-09T16:46:45.905Z"
   },
   {
    "duration": 7,
    "start_time": "2023-01-09T16:46:45.917Z"
   },
   {
    "duration": 5,
    "start_time": "2023-01-09T16:46:45.925Z"
   },
   {
    "duration": 43,
    "start_time": "2023-01-09T16:46:45.932Z"
   },
   {
    "duration": 9,
    "start_time": "2023-01-09T16:46:45.977Z"
   },
   {
    "duration": 5,
    "start_time": "2023-01-09T16:46:45.987Z"
   },
   {
    "duration": 13,
    "start_time": "2023-01-09T16:46:45.993Z"
   },
   {
    "duration": 10,
    "start_time": "2023-01-09T16:46:46.009Z"
   },
   {
    "duration": 4,
    "start_time": "2023-01-09T16:46:46.022Z"
   },
   {
    "duration": 12,
    "start_time": "2023-01-09T16:46:46.028Z"
   },
   {
    "duration": 15,
    "start_time": "2023-01-09T16:46:46.043Z"
   },
   {
    "duration": 18,
    "start_time": "2023-01-09T16:46:46.060Z"
   },
   {
    "duration": 6,
    "start_time": "2023-01-09T16:46:46.080Z"
   },
   {
    "duration": 6,
    "start_time": "2023-01-09T16:46:46.088Z"
   },
   {
    "duration": 7,
    "start_time": "2023-01-09T16:46:46.096Z"
   },
   {
    "duration": 23,
    "start_time": "2023-01-09T16:46:46.105Z"
   },
   {
    "duration": 13,
    "start_time": "2023-01-09T16:46:46.130Z"
   },
   {
    "duration": 7,
    "start_time": "2023-01-09T16:46:46.145Z"
   },
   {
    "duration": 27,
    "start_time": "2023-01-09T16:46:46.156Z"
   },
   {
    "duration": 7,
    "start_time": "2023-01-09T16:46:46.184Z"
   },
   {
    "duration": 11,
    "start_time": "2023-01-09T16:46:46.193Z"
   },
   {
    "duration": 19,
    "start_time": "2023-01-09T16:46:46.205Z"
   },
   {
    "duration": 7,
    "start_time": "2023-01-09T16:46:46.226Z"
   },
   {
    "duration": 5,
    "start_time": "2023-01-09T16:46:46.235Z"
   },
   {
    "duration": 6,
    "start_time": "2023-01-09T16:46:46.242Z"
   },
   {
    "duration": 23,
    "start_time": "2023-01-09T16:46:46.251Z"
   },
   {
    "duration": 11,
    "start_time": "2023-01-09T16:46:46.276Z"
   },
   {
    "duration": 12,
    "start_time": "2023-01-09T16:46:46.289Z"
   },
   {
    "duration": 6,
    "start_time": "2023-01-09T16:46:46.302Z"
   },
   {
    "duration": 545,
    "start_time": "2023-01-09T16:50:46.434Z"
   },
   {
    "duration": 7699,
    "start_time": "2023-01-09T16:50:46.982Z"
   },
   {
    "duration": 3,
    "start_time": "2023-01-09T16:50:54.683Z"
   },
   {
    "duration": 60,
    "start_time": "2023-01-09T16:50:54.690Z"
   },
   {
    "duration": 15,
    "start_time": "2023-01-09T16:50:54.751Z"
   },
   {
    "duration": 2,
    "start_time": "2023-01-09T16:50:54.767Z"
   },
   {
    "duration": 20,
    "start_time": "2023-01-09T16:50:54.771Z"
   },
   {
    "duration": 22,
    "start_time": "2023-01-09T16:50:54.793Z"
   },
   {
    "duration": 16,
    "start_time": "2023-01-09T16:50:54.817Z"
   },
   {
    "duration": 32,
    "start_time": "2023-01-09T16:50:54.836Z"
   },
   {
    "duration": 14,
    "start_time": "2023-01-09T16:50:54.870Z"
   },
   {
    "duration": 24,
    "start_time": "2023-01-09T16:50:54.886Z"
   },
   {
    "duration": 35,
    "start_time": "2023-01-09T16:50:54.912Z"
   },
   {
    "duration": 13,
    "start_time": "2023-01-09T16:50:54.949Z"
   },
   {
    "duration": 26,
    "start_time": "2023-01-09T16:50:54.964Z"
   },
   {
    "duration": 13,
    "start_time": "2023-01-09T16:50:54.992Z"
   },
   {
    "duration": 11,
    "start_time": "2023-01-09T16:50:55.007Z"
   },
   {
    "duration": 6,
    "start_time": "2023-01-09T16:50:55.020Z"
   },
   {
    "duration": 12,
    "start_time": "2023-01-09T16:50:55.027Z"
   },
   {
    "duration": 6,
    "start_time": "2023-01-09T16:50:55.041Z"
   },
   {
    "duration": 23,
    "start_time": "2023-01-09T16:50:55.048Z"
   },
   {
    "duration": 27,
    "start_time": "2023-01-09T16:50:55.073Z"
   },
   {
    "duration": 24,
    "start_time": "2023-01-09T16:50:55.102Z"
   },
   {
    "duration": 40,
    "start_time": "2023-01-09T16:50:55.127Z"
   },
   {
    "duration": 51,
    "start_time": "2023-01-09T16:50:55.169Z"
   },
   {
    "duration": 22,
    "start_time": "2023-01-09T16:50:55.222Z"
   },
   {
    "duration": 27,
    "start_time": "2023-01-09T16:50:55.246Z"
   },
   {
    "duration": 18,
    "start_time": "2023-01-09T16:50:55.276Z"
   },
   {
    "duration": 38,
    "start_time": "2023-01-09T16:50:55.295Z"
   },
   {
    "duration": 20,
    "start_time": "2023-01-09T16:50:55.335Z"
   },
   {
    "duration": 39,
    "start_time": "2023-01-09T16:50:55.357Z"
   },
   {
    "duration": 30,
    "start_time": "2023-01-09T16:50:55.398Z"
   },
   {
    "duration": 15,
    "start_time": "2023-01-09T16:50:55.430Z"
   },
   {
    "duration": 25,
    "start_time": "2023-01-09T16:50:55.448Z"
   },
   {
    "duration": 29,
    "start_time": "2023-01-09T16:50:55.475Z"
   },
   {
    "duration": 25,
    "start_time": "2023-01-09T16:50:55.506Z"
   },
   {
    "duration": 36,
    "start_time": "2023-01-09T16:50:55.533Z"
   },
   {
    "duration": 13,
    "start_time": "2023-01-09T16:50:55.570Z"
   },
   {
    "duration": 3,
    "start_time": "2023-01-09T16:52:41.581Z"
   },
   {
    "duration": 9,
    "start_time": "2023-01-09T16:52:45.286Z"
   },
   {
    "duration": 6,
    "start_time": "2023-01-09T16:52:46.765Z"
   },
   {
    "duration": 520,
    "start_time": "2023-01-09T16:53:01.817Z"
   },
   {
    "duration": 7995,
    "start_time": "2023-01-09T16:53:02.339Z"
   },
   {
    "duration": 3,
    "start_time": "2023-01-09T16:53:10.336Z"
   },
   {
    "duration": 80,
    "start_time": "2023-01-09T16:53:10.342Z"
   },
   {
    "duration": 16,
    "start_time": "2023-01-09T16:53:10.423Z"
   },
   {
    "duration": 10,
    "start_time": "2023-01-09T16:53:10.440Z"
   },
   {
    "duration": 36,
    "start_time": "2023-01-09T16:53:10.452Z"
   },
   {
    "duration": 22,
    "start_time": "2023-01-09T16:53:10.490Z"
   },
   {
    "duration": 18,
    "start_time": "2023-01-09T16:53:10.514Z"
   },
   {
    "duration": 18,
    "start_time": "2023-01-09T16:53:10.535Z"
   },
   {
    "duration": 21,
    "start_time": "2023-01-09T16:53:10.555Z"
   },
   {
    "duration": 24,
    "start_time": "2023-01-09T16:53:10.578Z"
   },
   {
    "duration": 51,
    "start_time": "2023-01-09T16:53:10.604Z"
   },
   {
    "duration": 36,
    "start_time": "2023-01-09T16:53:10.657Z"
   },
   {
    "duration": 16,
    "start_time": "2023-01-09T16:53:10.695Z"
   },
   {
    "duration": 31,
    "start_time": "2023-01-09T16:53:10.713Z"
   },
   {
    "duration": 19,
    "start_time": "2023-01-09T16:53:10.746Z"
   },
   {
    "duration": 23,
    "start_time": "2023-01-09T16:53:10.767Z"
   },
   {
    "duration": 21,
    "start_time": "2023-01-09T16:53:10.792Z"
   },
   {
    "duration": 22,
    "start_time": "2023-01-09T16:53:10.816Z"
   },
   {
    "duration": 25,
    "start_time": "2023-01-09T16:53:10.839Z"
   },
   {
    "duration": 21,
    "start_time": "2023-01-09T16:53:10.865Z"
   },
   {
    "duration": 18,
    "start_time": "2023-01-09T16:53:10.888Z"
   },
   {
    "duration": 13,
    "start_time": "2023-01-09T16:53:10.907Z"
   },
   {
    "duration": 42,
    "start_time": "2023-01-09T16:53:10.921Z"
   },
   {
    "duration": 28,
    "start_time": "2023-01-09T16:53:10.965Z"
   },
   {
    "duration": 24,
    "start_time": "2023-01-09T16:53:10.995Z"
   },
   {
    "duration": 26,
    "start_time": "2023-01-09T16:53:11.023Z"
   },
   {
    "duration": 22,
    "start_time": "2023-01-09T16:53:11.051Z"
   },
   {
    "duration": 22,
    "start_time": "2023-01-09T16:53:11.074Z"
   },
   {
    "duration": 37,
    "start_time": "2023-01-09T16:53:11.098Z"
   },
   {
    "duration": 15,
    "start_time": "2023-01-09T16:53:11.137Z"
   },
   {
    "duration": 28,
    "start_time": "2023-01-09T16:53:11.154Z"
   },
   {
    "duration": 31,
    "start_time": "2023-01-09T16:53:11.183Z"
   },
   {
    "duration": 28,
    "start_time": "2023-01-09T16:53:11.216Z"
   },
   {
    "duration": 24,
    "start_time": "2023-01-09T16:53:11.247Z"
   },
   {
    "duration": 56,
    "start_time": "2023-01-09T16:53:11.274Z"
   },
   {
    "duration": 46,
    "start_time": "2023-01-09T16:53:11.332Z"
   },
   {
    "duration": 533,
    "start_time": "2023-01-09T16:55:28.314Z"
   },
   {
    "duration": 8415,
    "start_time": "2023-01-09T16:55:28.849Z"
   },
   {
    "duration": 3,
    "start_time": "2023-01-09T16:55:37.268Z"
   },
   {
    "duration": 47,
    "start_time": "2023-01-09T16:55:37.273Z"
   },
   {
    "duration": 15,
    "start_time": "2023-01-09T16:55:37.322Z"
   },
   {
    "duration": 3,
    "start_time": "2023-01-09T16:55:37.338Z"
   },
   {
    "duration": 30,
    "start_time": "2023-01-09T16:55:37.343Z"
   },
   {
    "duration": 21,
    "start_time": "2023-01-09T16:55:37.377Z"
   },
   {
    "duration": 9,
    "start_time": "2023-01-09T16:55:37.400Z"
   },
   {
    "duration": 17,
    "start_time": "2023-01-09T16:55:37.411Z"
   },
   {
    "duration": 7,
    "start_time": "2023-01-09T16:55:37.431Z"
   },
   {
    "duration": 5,
    "start_time": "2023-01-09T16:55:37.440Z"
   },
   {
    "duration": 31,
    "start_time": "2023-01-09T16:55:37.447Z"
   },
   {
    "duration": 9,
    "start_time": "2023-01-09T16:55:37.481Z"
   },
   {
    "duration": 9,
    "start_time": "2023-01-09T16:55:37.492Z"
   },
   {
    "duration": 18,
    "start_time": "2023-01-09T16:55:37.503Z"
   },
   {
    "duration": 11,
    "start_time": "2023-01-09T16:55:37.523Z"
   },
   {
    "duration": 3,
    "start_time": "2023-01-09T16:55:37.536Z"
   },
   {
    "duration": 12,
    "start_time": "2023-01-09T16:55:37.541Z"
   },
   {
    "duration": 24,
    "start_time": "2023-01-09T16:55:37.555Z"
   },
   {
    "duration": 11,
    "start_time": "2023-01-09T16:55:37.581Z"
   },
   {
    "duration": 6,
    "start_time": "2023-01-09T16:55:37.594Z"
   },
   {
    "duration": 12,
    "start_time": "2023-01-09T16:55:37.603Z"
   },
   {
    "duration": 7,
    "start_time": "2023-01-09T16:55:37.617Z"
   },
   {
    "duration": 21,
    "start_time": "2023-01-09T16:55:37.626Z"
   },
   {
    "duration": 15,
    "start_time": "2023-01-09T16:55:37.648Z"
   },
   {
    "duration": 17,
    "start_time": "2023-01-09T16:55:37.664Z"
   },
   {
    "duration": 15,
    "start_time": "2023-01-09T16:55:37.683Z"
   },
   {
    "duration": 9,
    "start_time": "2023-01-09T16:55:37.699Z"
   },
   {
    "duration": 8,
    "start_time": "2023-01-09T16:55:37.709Z"
   },
   {
    "duration": 23,
    "start_time": "2023-01-09T16:55:37.718Z"
   },
   {
    "duration": 6,
    "start_time": "2023-01-09T16:55:37.743Z"
   },
   {
    "duration": 24,
    "start_time": "2023-01-09T16:55:37.751Z"
   },
   {
    "duration": 10,
    "start_time": "2023-01-09T16:55:37.776Z"
   },
   {
    "duration": 11,
    "start_time": "2023-01-09T16:55:37.788Z"
   },
   {
    "duration": 9,
    "start_time": "2023-01-09T16:55:37.800Z"
   },
   {
    "duration": 16,
    "start_time": "2023-01-09T16:55:37.811Z"
   },
   {
    "duration": 6,
    "start_time": "2023-01-09T16:55:37.829Z"
   },
   {
    "duration": 545,
    "start_time": "2023-01-09T16:56:26.570Z"
   },
   {
    "duration": 8412,
    "start_time": "2023-01-09T16:56:27.117Z"
   },
   {
    "duration": 3,
    "start_time": "2023-01-09T16:56:35.531Z"
   },
   {
    "duration": 66,
    "start_time": "2023-01-09T16:56:35.535Z"
   },
   {
    "duration": 15,
    "start_time": "2023-01-09T16:56:35.604Z"
   },
   {
    "duration": 5,
    "start_time": "2023-01-09T16:56:35.621Z"
   },
   {
    "duration": 15,
    "start_time": "2023-01-09T16:56:35.629Z"
   },
   {
    "duration": 14,
    "start_time": "2023-01-09T16:56:35.646Z"
   },
   {
    "duration": 27,
    "start_time": "2023-01-09T16:56:35.662Z"
   },
   {
    "duration": 14,
    "start_time": "2023-01-09T16:56:35.691Z"
   },
   {
    "duration": 10,
    "start_time": "2023-01-09T16:56:35.707Z"
   },
   {
    "duration": 8,
    "start_time": "2023-01-09T16:56:35.719Z"
   },
   {
    "duration": 37,
    "start_time": "2023-01-09T16:56:35.730Z"
   },
   {
    "duration": 11,
    "start_time": "2023-01-09T16:56:35.770Z"
   },
   {
    "duration": 14,
    "start_time": "2023-01-09T16:56:35.783Z"
   },
   {
    "duration": 12,
    "start_time": "2023-01-09T16:56:35.798Z"
   },
   {
    "duration": 10,
    "start_time": "2023-01-09T16:56:35.811Z"
   },
   {
    "duration": 12,
    "start_time": "2023-01-09T16:56:35.823Z"
   },
   {
    "duration": 35,
    "start_time": "2023-01-09T16:56:35.837Z"
   },
   {
    "duration": 6,
    "start_time": "2023-01-09T16:56:35.873Z"
   },
   {
    "duration": 12,
    "start_time": "2023-01-09T16:56:35.880Z"
   },
   {
    "duration": 9,
    "start_time": "2023-01-09T16:56:35.893Z"
   },
   {
    "duration": 9,
    "start_time": "2023-01-09T16:56:35.904Z"
   },
   {
    "duration": 7,
    "start_time": "2023-01-09T16:56:35.914Z"
   },
   {
    "duration": 27,
    "start_time": "2023-01-09T16:56:35.923Z"
   },
   {
    "duration": 19,
    "start_time": "2023-01-09T16:56:35.952Z"
   },
   {
    "duration": 8,
    "start_time": "2023-01-09T16:56:35.973Z"
   },
   {
    "duration": 13,
    "start_time": "2023-01-09T16:56:35.983Z"
   },
   {
    "duration": 13,
    "start_time": "2023-01-09T16:56:35.998Z"
   },
   {
    "duration": 12,
    "start_time": "2023-01-09T16:56:36.013Z"
   },
   {
    "duration": 23,
    "start_time": "2023-01-09T16:56:36.026Z"
   },
   {
    "duration": 19,
    "start_time": "2023-01-09T16:56:36.051Z"
   },
   {
    "duration": 5,
    "start_time": "2023-01-09T16:56:36.072Z"
   },
   {
    "duration": 9,
    "start_time": "2023-01-09T16:56:36.078Z"
   },
   {
    "duration": 11,
    "start_time": "2023-01-09T16:56:36.088Z"
   },
   {
    "duration": 7,
    "start_time": "2023-01-09T16:56:36.101Z"
   },
   {
    "duration": 13,
    "start_time": "2023-01-09T16:56:36.109Z"
   },
   {
    "duration": 6,
    "start_time": "2023-01-09T16:56:36.124Z"
   },
   {
    "duration": 514,
    "start_time": "2023-01-09T16:57:44.992Z"
   },
   {
    "duration": 8526,
    "start_time": "2023-01-09T16:57:45.508Z"
   },
   {
    "duration": 3,
    "start_time": "2023-01-09T16:57:54.036Z"
   },
   {
    "duration": 51,
    "start_time": "2023-01-09T16:57:54.040Z"
   },
   {
    "duration": 15,
    "start_time": "2023-01-09T16:57:54.094Z"
   },
   {
    "duration": 6,
    "start_time": "2023-01-09T16:57:54.110Z"
   },
   {
    "duration": 14,
    "start_time": "2023-01-09T16:57:54.117Z"
   },
   {
    "duration": 6,
    "start_time": "2023-01-09T16:57:54.133Z"
   },
   {
    "duration": 6,
    "start_time": "2023-01-09T16:57:54.141Z"
   },
   {
    "duration": 13,
    "start_time": "2023-01-09T16:57:54.148Z"
   },
   {
    "duration": 7,
    "start_time": "2023-01-09T16:57:54.162Z"
   },
   {
    "duration": 7,
    "start_time": "2023-01-09T16:57:54.171Z"
   },
   {
    "duration": 12,
    "start_time": "2023-01-09T16:57:54.180Z"
   },
   {
    "duration": 8,
    "start_time": "2023-01-09T16:57:54.195Z"
   },
   {
    "duration": 16,
    "start_time": "2023-01-09T16:57:54.205Z"
   },
   {
    "duration": 14,
    "start_time": "2023-01-09T16:57:54.224Z"
   },
   {
    "duration": 18,
    "start_time": "2023-01-09T16:57:54.240Z"
   },
   {
    "duration": 31,
    "start_time": "2023-01-09T16:57:54.259Z"
   },
   {
    "duration": 13,
    "start_time": "2023-01-09T16:57:54.293Z"
   },
   {
    "duration": 6,
    "start_time": "2023-01-09T16:57:54.308Z"
   },
   {
    "duration": 5,
    "start_time": "2023-01-09T16:57:54.316Z"
   },
   {
    "duration": 6,
    "start_time": "2023-01-09T16:57:54.323Z"
   },
   {
    "duration": 6,
    "start_time": "2023-01-09T16:57:54.331Z"
   },
   {
    "duration": 5,
    "start_time": "2023-01-09T16:57:54.338Z"
   },
   {
    "duration": 24,
    "start_time": "2023-01-09T16:57:54.345Z"
   },
   {
    "duration": 14,
    "start_time": "2023-01-09T16:57:54.371Z"
   },
   {
    "duration": 6,
    "start_time": "2023-01-09T16:57:54.387Z"
   },
   {
    "duration": 12,
    "start_time": "2023-01-09T16:57:54.394Z"
   },
   {
    "duration": 6,
    "start_time": "2023-01-09T16:57:54.408Z"
   },
   {
    "duration": 6,
    "start_time": "2023-01-09T16:57:54.415Z"
   },
   {
    "duration": 16,
    "start_time": "2023-01-09T16:57:54.423Z"
   },
   {
    "duration": 16,
    "start_time": "2023-01-09T16:57:54.441Z"
   },
   {
    "duration": 7,
    "start_time": "2023-01-09T16:57:54.458Z"
   },
   {
    "duration": 8,
    "start_time": "2023-01-09T16:57:54.467Z"
   },
   {
    "duration": 13,
    "start_time": "2023-01-09T16:57:54.478Z"
   },
   {
    "duration": 10,
    "start_time": "2023-01-09T16:57:54.493Z"
   },
   {
    "duration": 16,
    "start_time": "2023-01-09T16:57:54.505Z"
   },
   {
    "duration": 7,
    "start_time": "2023-01-09T16:57:54.523Z"
   },
   {
    "duration": 542,
    "start_time": "2023-01-09T16:58:07.126Z"
   },
   {
    "duration": 8734,
    "start_time": "2023-01-09T16:58:07.671Z"
   },
   {
    "duration": 3,
    "start_time": "2023-01-09T16:58:16.407Z"
   },
   {
    "duration": 35,
    "start_time": "2023-01-09T16:58:16.412Z"
   },
   {
    "duration": 19,
    "start_time": "2023-01-09T16:58:16.449Z"
   },
   {
    "duration": 11,
    "start_time": "2023-01-09T16:58:16.470Z"
   },
   {
    "duration": 11,
    "start_time": "2023-01-09T16:58:16.483Z"
   },
   {
    "duration": 7,
    "start_time": "2023-01-09T16:58:16.496Z"
   },
   {
    "duration": 4,
    "start_time": "2023-01-09T16:58:16.505Z"
   },
   {
    "duration": 15,
    "start_time": "2023-01-09T16:58:16.512Z"
   },
   {
    "duration": 24,
    "start_time": "2023-01-09T16:58:16.528Z"
   },
   {
    "duration": 3,
    "start_time": "2023-01-09T16:58:16.554Z"
   },
   {
    "duration": 24,
    "start_time": "2023-01-09T16:58:16.558Z"
   },
   {
    "duration": 9,
    "start_time": "2023-01-09T16:58:16.584Z"
   },
   {
    "duration": 15,
    "start_time": "2023-01-09T16:58:16.594Z"
   },
   {
    "duration": 10,
    "start_time": "2023-01-09T16:58:16.611Z"
   },
   {
    "duration": 8,
    "start_time": "2023-01-09T16:58:16.623Z"
   },
   {
    "duration": 5,
    "start_time": "2023-01-09T16:58:16.632Z"
   },
   {
    "duration": 13,
    "start_time": "2023-01-09T16:58:16.639Z"
   },
   {
    "duration": 18,
    "start_time": "2023-01-09T16:58:16.654Z"
   },
   {
    "duration": 10,
    "start_time": "2023-01-09T16:58:16.674Z"
   },
   {
    "duration": 7,
    "start_time": "2023-01-09T16:58:16.687Z"
   },
   {
    "duration": 5,
    "start_time": "2023-01-09T16:58:16.696Z"
   },
   {
    "duration": 6,
    "start_time": "2023-01-09T16:58:16.703Z"
   },
   {
    "duration": 22,
    "start_time": "2023-01-09T16:58:16.711Z"
   },
   {
    "duration": 18,
    "start_time": "2023-01-09T16:58:16.735Z"
   },
   {
    "duration": 3,
    "start_time": "2023-01-09T16:58:16.755Z"
   },
   {
    "duration": 19,
    "start_time": "2023-01-09T16:58:16.763Z"
   },
   {
    "duration": 12,
    "start_time": "2023-01-09T16:58:16.784Z"
   },
   {
    "duration": 8,
    "start_time": "2023-01-09T16:58:16.798Z"
   },
   {
    "duration": 23,
    "start_time": "2023-01-09T16:58:16.808Z"
   },
   {
    "duration": 7,
    "start_time": "2023-01-09T16:58:16.833Z"
   },
   {
    "duration": 8,
    "start_time": "2023-01-09T16:58:16.842Z"
   },
   {
    "duration": 24,
    "start_time": "2023-01-09T16:58:16.852Z"
   },
   {
    "duration": 12,
    "start_time": "2023-01-09T16:58:16.878Z"
   },
   {
    "duration": 6,
    "start_time": "2023-01-09T16:58:16.892Z"
   },
   {
    "duration": 15,
    "start_time": "2023-01-09T16:58:16.900Z"
   },
   {
    "duration": 9,
    "start_time": "2023-01-09T16:58:16.916Z"
   },
   {
    "duration": 565,
    "start_time": "2023-01-09T16:58:31.936Z"
   },
   {
    "duration": 8527,
    "start_time": "2023-01-09T16:58:32.504Z"
   },
   {
    "duration": 3,
    "start_time": "2023-01-09T16:58:41.033Z"
   },
   {
    "duration": 59,
    "start_time": "2023-01-09T16:58:41.038Z"
   },
   {
    "duration": 16,
    "start_time": "2023-01-09T16:58:41.099Z"
   },
   {
    "duration": 8,
    "start_time": "2023-01-09T16:58:41.117Z"
   },
   {
    "duration": 13,
    "start_time": "2023-01-09T16:58:41.127Z"
   },
   {
    "duration": 30,
    "start_time": "2023-01-09T16:58:41.141Z"
   },
   {
    "duration": 19,
    "start_time": "2023-01-09T16:58:41.172Z"
   },
   {
    "duration": 14,
    "start_time": "2023-01-09T16:58:41.195Z"
   },
   {
    "duration": 9,
    "start_time": "2023-01-09T16:58:41.210Z"
   },
   {
    "duration": 9,
    "start_time": "2023-01-09T16:58:41.221Z"
   },
   {
    "duration": 14,
    "start_time": "2023-01-09T16:58:41.231Z"
   },
   {
    "duration": 12,
    "start_time": "2023-01-09T16:58:41.247Z"
   },
   {
    "duration": 21,
    "start_time": "2023-01-09T16:58:41.261Z"
   },
   {
    "duration": 17,
    "start_time": "2023-01-09T16:58:41.283Z"
   },
   {
    "duration": 16,
    "start_time": "2023-01-09T16:58:41.302Z"
   },
   {
    "duration": 8,
    "start_time": "2023-01-09T16:58:41.320Z"
   },
   {
    "duration": 13,
    "start_time": "2023-01-09T16:58:41.330Z"
   },
   {
    "duration": 6,
    "start_time": "2023-01-09T16:58:41.345Z"
   },
   {
    "duration": 29,
    "start_time": "2023-01-09T16:58:41.356Z"
   },
   {
    "duration": 11,
    "start_time": "2023-01-09T16:58:41.387Z"
   },
   {
    "duration": 9,
    "start_time": "2023-01-09T16:58:41.400Z"
   },
   {
    "duration": 9,
    "start_time": "2023-01-09T16:58:41.410Z"
   },
   {
    "duration": 22,
    "start_time": "2023-01-09T16:58:41.421Z"
   },
   {
    "duration": 17,
    "start_time": "2023-01-09T16:58:41.444Z"
   },
   {
    "duration": 24,
    "start_time": "2023-01-09T16:58:41.464Z"
   },
   {
    "duration": 16,
    "start_time": "2023-01-09T16:58:41.492Z"
   },
   {
    "duration": 8,
    "start_time": "2023-01-09T16:58:41.510Z"
   },
   {
    "duration": 11,
    "start_time": "2023-01-09T16:58:41.519Z"
   },
   {
    "duration": 20,
    "start_time": "2023-01-09T16:58:41.532Z"
   },
   {
    "duration": 17,
    "start_time": "2023-01-09T16:58:41.554Z"
   },
   {
    "duration": 7,
    "start_time": "2023-01-09T16:58:41.573Z"
   },
   {
    "duration": 12,
    "start_time": "2023-01-09T16:58:41.581Z"
   },
   {
    "duration": 9,
    "start_time": "2023-01-09T16:58:41.595Z"
   },
   {
    "duration": 7,
    "start_time": "2023-01-09T16:58:41.606Z"
   },
   {
    "duration": 14,
    "start_time": "2023-01-09T16:58:41.616Z"
   },
   {
    "duration": 6,
    "start_time": "2023-01-09T16:58:41.632Z"
   },
   {
    "duration": 497,
    "start_time": "2023-01-09T17:01:47.086Z"
   },
   {
    "duration": 9212,
    "start_time": "2023-01-09T17:01:47.585Z"
   },
   {
    "duration": 2,
    "start_time": "2023-01-09T17:01:56.799Z"
   },
   {
    "duration": 53,
    "start_time": "2023-01-09T17:01:56.803Z"
   },
   {
    "duration": 15,
    "start_time": "2023-01-09T17:01:56.858Z"
   },
   {
    "duration": 3,
    "start_time": "2023-01-09T17:01:56.875Z"
   },
   {
    "duration": 10,
    "start_time": "2023-01-09T17:01:56.879Z"
   },
   {
    "duration": 6,
    "start_time": "2023-01-09T17:01:56.891Z"
   },
   {
    "duration": 5,
    "start_time": "2023-01-09T17:01:56.899Z"
   },
   {
    "duration": 13,
    "start_time": "2023-01-09T17:01:56.906Z"
   },
   {
    "duration": 6,
    "start_time": "2023-01-09T17:01:56.921Z"
   },
   {
    "duration": 3,
    "start_time": "2023-01-09T17:01:56.952Z"
   },
   {
    "duration": 26,
    "start_time": "2023-01-09T17:01:56.958Z"
   },
   {
    "duration": 12,
    "start_time": "2023-01-09T17:01:56.988Z"
   },
   {
    "duration": 9,
    "start_time": "2023-01-09T17:01:57.001Z"
   },
   {
    "duration": 17,
    "start_time": "2023-01-09T17:01:57.012Z"
   },
   {
    "duration": 9,
    "start_time": "2023-01-09T17:01:57.032Z"
   },
   {
    "duration": 10,
    "start_time": "2023-01-09T17:01:57.042Z"
   },
   {
    "duration": 14,
    "start_time": "2023-01-09T17:01:57.054Z"
   },
   {
    "duration": 8,
    "start_time": "2023-01-09T17:01:57.069Z"
   },
   {
    "duration": 8,
    "start_time": "2023-01-09T17:01:57.079Z"
   },
   {
    "duration": 8,
    "start_time": "2023-01-09T17:01:57.089Z"
   },
   {
    "duration": 8,
    "start_time": "2023-01-09T17:01:57.099Z"
   },
   {
    "duration": 11,
    "start_time": "2023-01-09T17:01:57.108Z"
   },
   {
    "duration": 27,
    "start_time": "2023-01-09T17:01:57.122Z"
   },
   {
    "duration": 13,
    "start_time": "2023-01-09T17:01:57.151Z"
   },
   {
    "duration": 11,
    "start_time": "2023-01-09T17:01:57.166Z"
   },
   {
    "duration": 22,
    "start_time": "2023-01-09T17:01:57.179Z"
   },
   {
    "duration": 7,
    "start_time": "2023-01-09T17:01:57.203Z"
   },
   {
    "duration": 7,
    "start_time": "2023-01-09T17:01:57.212Z"
   },
   {
    "duration": 19,
    "start_time": "2023-01-09T17:01:57.221Z"
   },
   {
    "duration": 9,
    "start_time": "2023-01-09T17:01:57.242Z"
   },
   {
    "duration": 10,
    "start_time": "2023-01-09T17:01:57.252Z"
   },
   {
    "duration": 11,
    "start_time": "2023-01-09T17:01:57.264Z"
   },
   {
    "duration": 14,
    "start_time": "2023-01-09T17:01:57.277Z"
   },
   {
    "duration": 7,
    "start_time": "2023-01-09T17:01:57.293Z"
   },
   {
    "duration": 19,
    "start_time": "2023-01-09T17:01:57.302Z"
   },
   {
    "duration": 8,
    "start_time": "2023-01-09T17:01:57.323Z"
   },
   {
    "duration": 456,
    "start_time": "2023-01-10T09:48:13.950Z"
   }
  ],
  "kernelspec": {
   "display_name": "Python 3 (ipykernel)",
   "language": "python",
   "name": "python3"
  },
  "language_info": {
   "codemirror_mode": {
    "name": "ipython",
    "version": 3
   },
   "file_extension": ".py",
   "mimetype": "text/x-python",
   "name": "python",
   "nbconvert_exporter": "python",
   "pygments_lexer": "ipython3",
   "version": "3.10.9"
  },
  "toc": {
   "base_numbering": 1,
   "nav_menu": {},
   "number_sections": true,
   "sideBar": true,
   "skip_h1_title": true,
   "title_cell": "Оглавление",
   "title_sidebar": "Оглавление",
   "toc_cell": true,
   "toc_position": {
    "height": "calc(100% - 180px)",
    "left": "10px",
    "top": "150px",
    "width": "410.933px"
   },
   "toc_section_display": true,
   "toc_window_display": true
  }
 },
 "nbformat": 4,
 "nbformat_minor": 2
}
