{
 "cells": [
  {
   "cell_type": "markdown",
   "metadata": {
    "toc": true
   },
   "source": [
    "<h1>Оглавление<span class=\"tocSkip\"></span></h1>\n",
    "<div class=\"toc\"><ul class=\"toc-item\"><li><span><a href=\"#Загрузка-и-первичный-осмотр-данных\" data-toc-modified-id=\"Загрузка-и-первичный-осмотр-данных-1\"><span class=\"toc-item-num\">1&nbsp;&nbsp;</span>Загрузка и первичный осмотр данных</a></span><ul class=\"toc-item\"><li><span><a href=\"#Выводы-по-главе\" data-toc-modified-id=\"Выводы-по-главе-1.1\"><span class=\"toc-item-num\">1.1&nbsp;&nbsp;</span>Выводы по главе</a></span></li></ul></li><li><span><a href=\"#Предобработка-данных\" data-toc-modified-id=\"Предобработка-данных-2\"><span class=\"toc-item-num\">2&nbsp;&nbsp;</span>Предобработка данных</a></span><ul class=\"toc-item\"><li><span><a href=\"#Замена-типов-данных\" data-toc-modified-id=\"Замена-типов-данных-2.1\"><span class=\"toc-item-num\">2.1&nbsp;&nbsp;</span>Замена типов данных</a></span></li><li><span><a href=\"#Проверка-на-наличие-пропусков\" data-toc-modified-id=\"Проверка-на-наличие-пропусков-2.2\"><span class=\"toc-item-num\">2.2&nbsp;&nbsp;</span>Проверка на наличие пропусков</a></span></li><li><span><a href=\"#Проверка-на-наличие-дубликатов\" data-toc-modified-id=\"Проверка-на-наличие-дубликатов-2.3\"><span class=\"toc-item-num\">2.3&nbsp;&nbsp;</span>Проверка на наличие дубликатов</a></span></li><li><span><a href=\"#Добавление-дополнительных-столбцов\" data-toc-modified-id=\"Добавление-дополнительных-столбцов-2.4\"><span class=\"toc-item-num\">2.4&nbsp;&nbsp;</span>Добавление дополнительных столбцов</a></span></li><li><span><a href=\"#Выводы-по-главе\" data-toc-modified-id=\"Выводы-по-главе-2.5\"><span class=\"toc-item-num\">2.5&nbsp;&nbsp;</span>Выводы по главе</a></span></li></ul></li><li><span><a href=\"#Оцените-корректность-проведения-теста\" data-toc-modified-id=\"Оцените-корректность-проведения-теста-3\"><span class=\"toc-item-num\">3&nbsp;&nbsp;</span>Оцените корректность проведения теста</a></span><ul class=\"toc-item\"><li><span><a href=\"#Пересечение-тестовой-аудитории-с-конкурирующим-тестом\" data-toc-modified-id=\"Пересечение-тестовой-аудитории-с-конкурирующим-тестом-3.1\"><span class=\"toc-item-num\">3.1&nbsp;&nbsp;</span>Пересечение тестовой аудитории с конкурирующим тестом</a></span></li><li><span><a href=\"#Проверка-на-пользователей-из-региона-EU\" data-toc-modified-id=\"Проверка-на-пользователей-из-региона-EU-3.2\"><span class=\"toc-item-num\">3.2&nbsp;&nbsp;</span>Проверка на пользователей из региона EU</a></span></li><li><span><a href=\"#Пересечение-тестовой-аудитории-между-группами-теста\" data-toc-modified-id=\"Пересечение-тестовой-аудитории-между-группами-теста-3.3\"><span class=\"toc-item-num\">3.3&nbsp;&nbsp;</span>Пересечение тестовой аудитории между группами теста</a></span></li><li><span><a href=\"#Проверка-времени-проведения-теста\" data-toc-modified-id=\"Проверка-времени-проведения-теста-3.4\"><span class=\"toc-item-num\">3.4&nbsp;&nbsp;</span>Проверка времени проведения теста</a></span></li><li><span><a href=\"#Проверка-на-перечесение-теста-и-маркетинговых-событий\" data-toc-modified-id=\"Проверка-на-перечесение-теста-и-маркетинговых-событий-3.5\"><span class=\"toc-item-num\">3.5&nbsp;&nbsp;</span>Проверка на перечесение теста и маркетинговых событий</a></span></li><li><span><a href=\"#Количество-событий-на-пользователя-одинаково-распределены-в-выборках?\" data-toc-modified-id=\"Количество-событий-на-пользователя-одинаково-распределены-в-выборках?-3.6\"><span class=\"toc-item-num\">3.6&nbsp;&nbsp;</span>Количество событий на пользователя одинаково распределены в выборках?</a></span></li><li><span><a href=\"#Как-число-событий-в-выборках-распределено-по-дням?\" data-toc-modified-id=\"Как-число-событий-в-выборках-распределено-по-дням?-3.7\"><span class=\"toc-item-num\">3.7&nbsp;&nbsp;</span>Как число событий в выборках распределено по дням?</a></span></li><li><span><a href=\"#Воронка-событий\" data-toc-modified-id=\"Воронка-событий-3.8\"><span class=\"toc-item-num\">3.8&nbsp;&nbsp;</span>Воронка событий</a></span></li><li><span><a href=\"#Выводы-по-главе\" data-toc-modified-id=\"Выводы-по-главе-3.9\"><span class=\"toc-item-num\">3.9&nbsp;&nbsp;</span>Выводы по главе</a></span></li></ul></li><li><span><a href=\"#Оценка-результатов-A/B-тестирования\" data-toc-modified-id=\"Оценка-результатов-A/B-тестирования-4\"><span class=\"toc-item-num\">4&nbsp;&nbsp;</span>Оценка результатов A/B-тестирования</a></span><ul class=\"toc-item\"><li><span><a href=\"#Выводы-по-главе\" data-toc-modified-id=\"Выводы-по-главе-4.1\"><span class=\"toc-item-num\">4.1&nbsp;&nbsp;</span>Выводы по главе</a></span></li></ul></li><li><span><a href=\"#Общий-вывод-по-исследованию\" data-toc-modified-id=\"Общий-вывод-по-исследованию-5\"><span class=\"toc-item-num\">5&nbsp;&nbsp;</span>Общий вывод по исследованию</a></span><ul class=\"toc-item\"><li><span><a href=\"#Рекомендации\" data-toc-modified-id=\"Рекомендации-5.1\"><span class=\"toc-item-num\">5.1&nbsp;&nbsp;</span>Рекомендации</a></span></li></ul></li></ul></div>"
   ]
  },
  {
   "cell_type": "markdown",
   "metadata": {},
   "source": [
    "# Проект по А/B-тестированию"
   ]
  },
  {
   "cell_type": "markdown",
   "metadata": {},
   "source": [
    "**Постановка задачи**\n",
    "\n",
    "Ваша задача — провести оценку результатов A/B-теста. В вашем распоряжении есть датасет с действиями пользователей, техническое задание и несколько вспомогательных датасетов.\n",
    "- Оцените корректность проведения теста.\n",
    "- Проанализируйте результаты теста.\n",
    "\n",
    "Чтобы оценить корректность проведения теста, проверьте:\n",
    "- пересечение тестовой аудитории с конкурирующим тестом;\n",
    "- совпадение теста и маркетинговых событий, другие проблемы временных границ теста."
   ]
  },
  {
   "cell_type": "markdown",
   "metadata": {},
   "source": [
    "**Техническое задание**\n",
    "\n",
    "- Название теста: recommender_system_test;\n",
    "- Группы: А (контрольная), B (новая платёжная воронка);\n",
    "- Дата запуска: 2020-12-07;\n",
    "- Дата остановки набора новых пользователей: 2020-12-21;\n",
    "- Дата остановки: 2021-01-04;\n",
    "- Аудитория: 15% новых пользователей из региона EU;\n",
    "- Назначение теста: тестирование изменений, связанных с внедрением улучшенной рекомендательной системы;\n",
    "- Ожидаемое количество участников теста: 6000.\n",
    "- Ожидаемый эффект: за 14 дней с момента регистрации в системе пользователи покажут улучшение каждой метрики не менее, чем на 10%:\n",
    "      \n",
    "        конверсии в просмотр карточек товаров — событие product_page\n",
    "        просмотры корзины — product_cart\n",
    "        покупки — purchase.\n",
    "        \n",
    "**Цели исследования**\n",
    "1. Проанализировать данные теста и его результатов на корректность.\n",
    "2. Дать рекомендации стоит ли вводит новую платёжная воронку по результатам теста."
   ]
  },
  {
   "cell_type": "markdown",
   "metadata": {},
   "source": [
    "## Загрузка и первичный осмотр данных"
   ]
  },
  {
   "cell_type": "code",
   "execution_count": 1,
   "metadata": {},
   "outputs": [],
   "source": [
    "# импортируем необходимые библиотеки\n",
    "import pandas as pd\n",
    "import matplotlib.pyplot as plt\n",
    "import math as mth\n",
    "import numpy as np\n",
    "from datetime import datetime, timedelta\n",
    "from scipy import stats as st"
   ]
  },
  {
   "cell_type": "markdown",
   "metadata": {},
   "source": [
    "Загрузим и просмотрим датафреймы с данными по A/B-тестированию."
   ]
  },
  {
   "cell_type": "code",
   "execution_count": 2,
   "metadata": {},
   "outputs": [],
   "source": [
    "# загрузим датафреймы\n",
    "# загрузим календарь маркетинговых событий на 2020 год\n",
    "marketing = pd.read_csv('C:/Users/Sam/DA/Projects_YandexPracticum/Project10_final_projects/AB_test/ab_project_marketing_events.csv')\n",
    "# загрузим пользователей, зарегистрировавшиеся в интернет-магазине в период с 7 по 21 декабря 2020 года\n",
    "users = pd.read_csv('C:/Users/Sam/DA/Projects_YandexPracticum/Project10_final_projects/AB_test/final_ab_new_users.csv')\n",
    "# загрузим события новых пользователей в период с 7 декабря 2020 по 4 января 2021 года\n",
    "events = pd.read_csv('C:/Users/Sam/DA/Projects_YandexPracticum/Project10_final_projects/AB_test/final_ab_events.csv')\n",
    "# загрузим таблицу участников тестов\n",
    "participants = pd.read_csv('C:/Users/Sam/DA/Projects_YandexPracticum/Project10_final_projects/AB_test/final_ab_participants.csv')"
   ]
  },
  {
   "cell_type": "code",
   "execution_count": 3,
   "metadata": {},
   "outputs": [
    {
     "data": {
      "text/html": [
       "<div>\n",
       "<style scoped>\n",
       "    .dataframe tbody tr th:only-of-type {\n",
       "        vertical-align: middle;\n",
       "    }\n",
       "\n",
       "    .dataframe tbody tr th {\n",
       "        vertical-align: top;\n",
       "    }\n",
       "\n",
       "    .dataframe thead th {\n",
       "        text-align: right;\n",
       "    }\n",
       "</style>\n",
       "<table border=\"1\" class=\"dataframe\">\n",
       "  <thead>\n",
       "    <tr style=\"text-align: right;\">\n",
       "      <th></th>\n",
       "      <th>name</th>\n",
       "      <th>regions</th>\n",
       "      <th>start_dt</th>\n",
       "      <th>finish_dt</th>\n",
       "    </tr>\n",
       "  </thead>\n",
       "  <tbody>\n",
       "    <tr>\n",
       "      <th>0</th>\n",
       "      <td>Christmas&amp;New Year Promo</td>\n",
       "      <td>EU, N.America</td>\n",
       "      <td>2020-12-25</td>\n",
       "      <td>2021-01-03</td>\n",
       "    </tr>\n",
       "    <tr>\n",
       "      <th>1</th>\n",
       "      <td>St. Valentine's Day Giveaway</td>\n",
       "      <td>EU, CIS, APAC, N.America</td>\n",
       "      <td>2020-02-14</td>\n",
       "      <td>2020-02-16</td>\n",
       "    </tr>\n",
       "    <tr>\n",
       "      <th>2</th>\n",
       "      <td>St. Patric's Day Promo</td>\n",
       "      <td>EU, N.America</td>\n",
       "      <td>2020-03-17</td>\n",
       "      <td>2020-03-19</td>\n",
       "    </tr>\n",
       "    <tr>\n",
       "      <th>3</th>\n",
       "      <td>Easter Promo</td>\n",
       "      <td>EU, CIS, APAC, N.America</td>\n",
       "      <td>2020-04-12</td>\n",
       "      <td>2020-04-19</td>\n",
       "    </tr>\n",
       "    <tr>\n",
       "      <th>4</th>\n",
       "      <td>4th of July Promo</td>\n",
       "      <td>N.America</td>\n",
       "      <td>2020-07-04</td>\n",
       "      <td>2020-07-11</td>\n",
       "    </tr>\n",
       "  </tbody>\n",
       "</table>\n",
       "</div>"
      ],
      "text/plain": [
       "                           name                   regions    start_dt  \\\n",
       "0      Christmas&New Year Promo             EU, N.America  2020-12-25   \n",
       "1  St. Valentine's Day Giveaway  EU, CIS, APAC, N.America  2020-02-14   \n",
       "2        St. Patric's Day Promo             EU, N.America  2020-03-17   \n",
       "3                  Easter Promo  EU, CIS, APAC, N.America  2020-04-12   \n",
       "4             4th of July Promo                 N.America  2020-07-04   \n",
       "\n",
       "    finish_dt  \n",
       "0  2021-01-03  \n",
       "1  2020-02-16  \n",
       "2  2020-03-19  \n",
       "3  2020-04-19  \n",
       "4  2020-07-11  "
      ]
     },
     "metadata": {},
     "output_type": "display_data"
    },
    {
     "data": {
      "text/html": [
       "<div>\n",
       "<style scoped>\n",
       "    .dataframe tbody tr th:only-of-type {\n",
       "        vertical-align: middle;\n",
       "    }\n",
       "\n",
       "    .dataframe tbody tr th {\n",
       "        vertical-align: top;\n",
       "    }\n",
       "\n",
       "    .dataframe thead th {\n",
       "        text-align: right;\n",
       "    }\n",
       "</style>\n",
       "<table border=\"1\" class=\"dataframe\">\n",
       "  <thead>\n",
       "    <tr style=\"text-align: right;\">\n",
       "      <th></th>\n",
       "      <th>user_id</th>\n",
       "      <th>first_date</th>\n",
       "      <th>region</th>\n",
       "      <th>device</th>\n",
       "    </tr>\n",
       "  </thead>\n",
       "  <tbody>\n",
       "    <tr>\n",
       "      <th>0</th>\n",
       "      <td>D72A72121175D8BE</td>\n",
       "      <td>2020-12-07</td>\n",
       "      <td>EU</td>\n",
       "      <td>PC</td>\n",
       "    </tr>\n",
       "    <tr>\n",
       "      <th>1</th>\n",
       "      <td>F1C668619DFE6E65</td>\n",
       "      <td>2020-12-07</td>\n",
       "      <td>N.America</td>\n",
       "      <td>Android</td>\n",
       "    </tr>\n",
       "    <tr>\n",
       "      <th>2</th>\n",
       "      <td>2E1BF1D4C37EA01F</td>\n",
       "      <td>2020-12-07</td>\n",
       "      <td>EU</td>\n",
       "      <td>PC</td>\n",
       "    </tr>\n",
       "    <tr>\n",
       "      <th>3</th>\n",
       "      <td>50734A22C0C63768</td>\n",
       "      <td>2020-12-07</td>\n",
       "      <td>EU</td>\n",
       "      <td>iPhone</td>\n",
       "    </tr>\n",
       "    <tr>\n",
       "      <th>4</th>\n",
       "      <td>E1BDDCE0DAFA2679</td>\n",
       "      <td>2020-12-07</td>\n",
       "      <td>N.America</td>\n",
       "      <td>iPhone</td>\n",
       "    </tr>\n",
       "  </tbody>\n",
       "</table>\n",
       "</div>"
      ],
      "text/plain": [
       "            user_id  first_date     region   device\n",
       "0  D72A72121175D8BE  2020-12-07         EU       PC\n",
       "1  F1C668619DFE6E65  2020-12-07  N.America  Android\n",
       "2  2E1BF1D4C37EA01F  2020-12-07         EU       PC\n",
       "3  50734A22C0C63768  2020-12-07         EU   iPhone\n",
       "4  E1BDDCE0DAFA2679  2020-12-07  N.America   iPhone"
      ]
     },
     "metadata": {},
     "output_type": "display_data"
    },
    {
     "data": {
      "text/html": [
       "<div>\n",
       "<style scoped>\n",
       "    .dataframe tbody tr th:only-of-type {\n",
       "        vertical-align: middle;\n",
       "    }\n",
       "\n",
       "    .dataframe tbody tr th {\n",
       "        vertical-align: top;\n",
       "    }\n",
       "\n",
       "    .dataframe thead th {\n",
       "        text-align: right;\n",
       "    }\n",
       "</style>\n",
       "<table border=\"1\" class=\"dataframe\">\n",
       "  <thead>\n",
       "    <tr style=\"text-align: right;\">\n",
       "      <th></th>\n",
       "      <th>user_id</th>\n",
       "      <th>event_dt</th>\n",
       "      <th>event_name</th>\n",
       "      <th>details</th>\n",
       "    </tr>\n",
       "  </thead>\n",
       "  <tbody>\n",
       "    <tr>\n",
       "      <th>0</th>\n",
       "      <td>E1BDDCE0DAFA2679</td>\n",
       "      <td>2020-12-07 20:22:03</td>\n",
       "      <td>purchase</td>\n",
       "      <td>99.99</td>\n",
       "    </tr>\n",
       "    <tr>\n",
       "      <th>1</th>\n",
       "      <td>7B6452F081F49504</td>\n",
       "      <td>2020-12-07 09:22:53</td>\n",
       "      <td>purchase</td>\n",
       "      <td>9.99</td>\n",
       "    </tr>\n",
       "    <tr>\n",
       "      <th>2</th>\n",
       "      <td>9CD9F34546DF254C</td>\n",
       "      <td>2020-12-07 12:59:29</td>\n",
       "      <td>purchase</td>\n",
       "      <td>4.99</td>\n",
       "    </tr>\n",
       "    <tr>\n",
       "      <th>3</th>\n",
       "      <td>96F27A054B191457</td>\n",
       "      <td>2020-12-07 04:02:40</td>\n",
       "      <td>purchase</td>\n",
       "      <td>4.99</td>\n",
       "    </tr>\n",
       "    <tr>\n",
       "      <th>4</th>\n",
       "      <td>1FD7660FDF94CA1F</td>\n",
       "      <td>2020-12-07 10:15:09</td>\n",
       "      <td>purchase</td>\n",
       "      <td>4.99</td>\n",
       "    </tr>\n",
       "  </tbody>\n",
       "</table>\n",
       "</div>"
      ],
      "text/plain": [
       "            user_id             event_dt event_name  details\n",
       "0  E1BDDCE0DAFA2679  2020-12-07 20:22:03   purchase    99.99\n",
       "1  7B6452F081F49504  2020-12-07 09:22:53   purchase     9.99\n",
       "2  9CD9F34546DF254C  2020-12-07 12:59:29   purchase     4.99\n",
       "3  96F27A054B191457  2020-12-07 04:02:40   purchase     4.99\n",
       "4  1FD7660FDF94CA1F  2020-12-07 10:15:09   purchase     4.99"
      ]
     },
     "metadata": {},
     "output_type": "display_data"
    },
    {
     "data": {
      "text/html": [
       "<div>\n",
       "<style scoped>\n",
       "    .dataframe tbody tr th:only-of-type {\n",
       "        vertical-align: middle;\n",
       "    }\n",
       "\n",
       "    .dataframe tbody tr th {\n",
       "        vertical-align: top;\n",
       "    }\n",
       "\n",
       "    .dataframe thead th {\n",
       "        text-align: right;\n",
       "    }\n",
       "</style>\n",
       "<table border=\"1\" class=\"dataframe\">\n",
       "  <thead>\n",
       "    <tr style=\"text-align: right;\">\n",
       "      <th></th>\n",
       "      <th>user_id</th>\n",
       "      <th>group</th>\n",
       "      <th>ab_test</th>\n",
       "    </tr>\n",
       "  </thead>\n",
       "  <tbody>\n",
       "    <tr>\n",
       "      <th>0</th>\n",
       "      <td>D1ABA3E2887B6A73</td>\n",
       "      <td>A</td>\n",
       "      <td>recommender_system_test</td>\n",
       "    </tr>\n",
       "    <tr>\n",
       "      <th>1</th>\n",
       "      <td>A7A3664BD6242119</td>\n",
       "      <td>A</td>\n",
       "      <td>recommender_system_test</td>\n",
       "    </tr>\n",
       "    <tr>\n",
       "      <th>2</th>\n",
       "      <td>DABC14FDDFADD29E</td>\n",
       "      <td>A</td>\n",
       "      <td>recommender_system_test</td>\n",
       "    </tr>\n",
       "    <tr>\n",
       "      <th>3</th>\n",
       "      <td>04988C5DF189632E</td>\n",
       "      <td>A</td>\n",
       "      <td>recommender_system_test</td>\n",
       "    </tr>\n",
       "    <tr>\n",
       "      <th>4</th>\n",
       "      <td>482F14783456D21B</td>\n",
       "      <td>B</td>\n",
       "      <td>recommender_system_test</td>\n",
       "    </tr>\n",
       "  </tbody>\n",
       "</table>\n",
       "</div>"
      ],
      "text/plain": [
       "            user_id group                  ab_test\n",
       "0  D1ABA3E2887B6A73     A  recommender_system_test\n",
       "1  A7A3664BD6242119     A  recommender_system_test\n",
       "2  DABC14FDDFADD29E     A  recommender_system_test\n",
       "3  04988C5DF189632E     A  recommender_system_test\n",
       "4  482F14783456D21B     B  recommender_system_test"
      ]
     },
     "metadata": {},
     "output_type": "display_data"
    }
   ],
   "source": [
    "# просмотрим датафреймы\n",
    "display(marketing.head())\n",
    "display(users.head())\n",
    "display(events.head())\n",
    "display(participants.head())"
   ]
  },
  {
   "cell_type": "markdown",
   "metadata": {},
   "source": [
    "Предварительно, никаких проблем в датафреймах не видно. Названия столбцов соответствуют 'змеиному стилю'."
   ]
  },
  {
   "cell_type": "code",
   "execution_count": 4,
   "metadata": {},
   "outputs": [
    {
     "name": "stdout",
     "output_type": "stream",
     "text": [
      "<class 'pandas.core.frame.DataFrame'>\n",
      "RangeIndex: 14 entries, 0 to 13\n",
      "Data columns (total 4 columns):\n",
      " #   Column     Non-Null Count  Dtype \n",
      "---  ------     --------------  ----- \n",
      " 0   name       14 non-null     object\n",
      " 1   regions    14 non-null     object\n",
      " 2   start_dt   14 non-null     object\n",
      " 3   finish_dt  14 non-null     object\n",
      "dtypes: object(4)\n",
      "memory usage: 576.0+ bytes\n"
     ]
    },
    {
     "data": {
      "text/plain": [
       "None"
      ]
     },
     "metadata": {},
     "output_type": "display_data"
    },
    {
     "name": "stdout",
     "output_type": "stream",
     "text": [
      "<class 'pandas.core.frame.DataFrame'>\n",
      "RangeIndex: 61733 entries, 0 to 61732\n",
      "Data columns (total 4 columns):\n",
      " #   Column      Non-Null Count  Dtype \n",
      "---  ------      --------------  ----- \n",
      " 0   user_id     61733 non-null  object\n",
      " 1   first_date  61733 non-null  object\n",
      " 2   region      61733 non-null  object\n",
      " 3   device      61733 non-null  object\n",
      "dtypes: object(4)\n",
      "memory usage: 1.9+ MB\n"
     ]
    },
    {
     "data": {
      "text/plain": [
       "None"
      ]
     },
     "metadata": {},
     "output_type": "display_data"
    },
    {
     "name": "stdout",
     "output_type": "stream",
     "text": [
      "<class 'pandas.core.frame.DataFrame'>\n",
      "RangeIndex: 440317 entries, 0 to 440316\n",
      "Data columns (total 4 columns):\n",
      " #   Column      Non-Null Count   Dtype  \n",
      "---  ------      --------------   -----  \n",
      " 0   user_id     440317 non-null  object \n",
      " 1   event_dt    440317 non-null  object \n",
      " 2   event_name  440317 non-null  object \n",
      " 3   details     62740 non-null   float64\n",
      "dtypes: float64(1), object(3)\n",
      "memory usage: 13.4+ MB\n"
     ]
    },
    {
     "data": {
      "text/plain": [
       "None"
      ]
     },
     "metadata": {},
     "output_type": "display_data"
    },
    {
     "name": "stdout",
     "output_type": "stream",
     "text": [
      "<class 'pandas.core.frame.DataFrame'>\n",
      "RangeIndex: 18268 entries, 0 to 18267\n",
      "Data columns (total 3 columns):\n",
      " #   Column   Non-Null Count  Dtype \n",
      "---  ------   --------------  ----- \n",
      " 0   user_id  18268 non-null  object\n",
      " 1   group    18268 non-null  object\n",
      " 2   ab_test  18268 non-null  object\n",
      "dtypes: object(3)\n",
      "memory usage: 428.3+ KB\n"
     ]
    },
    {
     "data": {
      "text/plain": [
       "None"
      ]
     },
     "metadata": {},
     "output_type": "display_data"
    }
   ],
   "source": [
    "# просмотрим информацию о датафреймах\n",
    "display(marketing.info())\n",
    "display(users.info())\n",
    "display(events.info())\n",
    "display(participants.info())"
   ]
  },
  {
   "cell_type": "markdown",
   "metadata": {},
   "source": [
    "В столбцах датафреймов, в которых записана дата, неверный тип данных. \n",
    "\n",
    "В датафрейме `marketing` неверный тип данных в столбцах `start_dt` и `finish_dt`, в датафрейме `users` неверный тип данных в столбце `first_date`, в датафрейме `events` неверный тип данных в столбце `event_dt`.\n",
    "\n",
    "Надо исправить неверный тип object на правильный тип datetime64."
   ]
  },
  {
   "cell_type": "code",
   "execution_count": 5,
   "metadata": {},
   "outputs": [
    {
     "data": {
      "text/html": [
       "<div>\n",
       "<style scoped>\n",
       "    .dataframe tbody tr th:only-of-type {\n",
       "        vertical-align: middle;\n",
       "    }\n",
       "\n",
       "    .dataframe tbody tr th {\n",
       "        vertical-align: top;\n",
       "    }\n",
       "\n",
       "    .dataframe thead th {\n",
       "        text-align: right;\n",
       "    }\n",
       "</style>\n",
       "<table border=\"1\" class=\"dataframe\">\n",
       "  <thead>\n",
       "    <tr style=\"text-align: right;\">\n",
       "      <th></th>\n",
       "      <th>name</th>\n",
       "      <th>regions</th>\n",
       "      <th>start_dt</th>\n",
       "      <th>finish_dt</th>\n",
       "    </tr>\n",
       "  </thead>\n",
       "  <tbody>\n",
       "    <tr>\n",
       "      <th>count</th>\n",
       "      <td>14</td>\n",
       "      <td>14</td>\n",
       "      <td>14</td>\n",
       "      <td>14</td>\n",
       "    </tr>\n",
       "    <tr>\n",
       "      <th>unique</th>\n",
       "      <td>14</td>\n",
       "      <td>6</td>\n",
       "      <td>14</td>\n",
       "      <td>14</td>\n",
       "    </tr>\n",
       "    <tr>\n",
       "      <th>top</th>\n",
       "      <td>Christmas&amp;New Year Promo</td>\n",
       "      <td>APAC</td>\n",
       "      <td>2020-12-25</td>\n",
       "      <td>2021-01-03</td>\n",
       "    </tr>\n",
       "    <tr>\n",
       "      <th>freq</th>\n",
       "      <td>1</td>\n",
       "      <td>4</td>\n",
       "      <td>1</td>\n",
       "      <td>1</td>\n",
       "    </tr>\n",
       "  </tbody>\n",
       "</table>\n",
       "</div>"
      ],
      "text/plain": [
       "                            name regions    start_dt   finish_dt\n",
       "count                         14      14          14          14\n",
       "unique                        14       6          14          14\n",
       "top     Christmas&New Year Promo    APAC  2020-12-25  2021-01-03\n",
       "freq                           1       4           1           1"
      ]
     },
     "metadata": {},
     "output_type": "display_data"
    },
    {
     "data": {
      "text/html": [
       "<div>\n",
       "<style scoped>\n",
       "    .dataframe tbody tr th:only-of-type {\n",
       "        vertical-align: middle;\n",
       "    }\n",
       "\n",
       "    .dataframe tbody tr th {\n",
       "        vertical-align: top;\n",
       "    }\n",
       "\n",
       "    .dataframe thead th {\n",
       "        text-align: right;\n",
       "    }\n",
       "</style>\n",
       "<table border=\"1\" class=\"dataframe\">\n",
       "  <thead>\n",
       "    <tr style=\"text-align: right;\">\n",
       "      <th></th>\n",
       "      <th>user_id</th>\n",
       "      <th>first_date</th>\n",
       "      <th>region</th>\n",
       "      <th>device</th>\n",
       "    </tr>\n",
       "  </thead>\n",
       "  <tbody>\n",
       "    <tr>\n",
       "      <th>count</th>\n",
       "      <td>61733</td>\n",
       "      <td>61733</td>\n",
       "      <td>61733</td>\n",
       "      <td>61733</td>\n",
       "    </tr>\n",
       "    <tr>\n",
       "      <th>unique</th>\n",
       "      <td>61733</td>\n",
       "      <td>17</td>\n",
       "      <td>4</td>\n",
       "      <td>4</td>\n",
       "    </tr>\n",
       "    <tr>\n",
       "      <th>top</th>\n",
       "      <td>D72A72121175D8BE</td>\n",
       "      <td>2020-12-21</td>\n",
       "      <td>EU</td>\n",
       "      <td>Android</td>\n",
       "    </tr>\n",
       "    <tr>\n",
       "      <th>freq</th>\n",
       "      <td>1</td>\n",
       "      <td>6290</td>\n",
       "      <td>46270</td>\n",
       "      <td>27520</td>\n",
       "    </tr>\n",
       "  </tbody>\n",
       "</table>\n",
       "</div>"
      ],
      "text/plain": [
       "                 user_id  first_date region   device\n",
       "count              61733       61733  61733    61733\n",
       "unique             61733          17      4        4\n",
       "top     D72A72121175D8BE  2020-12-21     EU  Android\n",
       "freq                   1        6290  46270    27520"
      ]
     },
     "metadata": {},
     "output_type": "display_data"
    },
    {
     "data": {
      "text/html": [
       "<div>\n",
       "<style scoped>\n",
       "    .dataframe tbody tr th:only-of-type {\n",
       "        vertical-align: middle;\n",
       "    }\n",
       "\n",
       "    .dataframe tbody tr th {\n",
       "        vertical-align: top;\n",
       "    }\n",
       "\n",
       "    .dataframe thead th {\n",
       "        text-align: right;\n",
       "    }\n",
       "</style>\n",
       "<table border=\"1\" class=\"dataframe\">\n",
       "  <thead>\n",
       "    <tr style=\"text-align: right;\">\n",
       "      <th></th>\n",
       "      <th>user_id</th>\n",
       "      <th>event_dt</th>\n",
       "      <th>event_name</th>\n",
       "      <th>details</th>\n",
       "    </tr>\n",
       "  </thead>\n",
       "  <tbody>\n",
       "    <tr>\n",
       "      <th>count</th>\n",
       "      <td>440317</td>\n",
       "      <td>440317</td>\n",
       "      <td>440317</td>\n",
       "      <td>62740.000000</td>\n",
       "    </tr>\n",
       "    <tr>\n",
       "      <th>unique</th>\n",
       "      <td>58703</td>\n",
       "      <td>267268</td>\n",
       "      <td>4</td>\n",
       "      <td>NaN</td>\n",
       "    </tr>\n",
       "    <tr>\n",
       "      <th>top</th>\n",
       "      <td>A3917F81482141F2</td>\n",
       "      <td>2020-12-23 02:37:24</td>\n",
       "      <td>login</td>\n",
       "      <td>NaN</td>\n",
       "    </tr>\n",
       "    <tr>\n",
       "      <th>freq</th>\n",
       "      <td>36</td>\n",
       "      <td>10</td>\n",
       "      <td>189552</td>\n",
       "      <td>NaN</td>\n",
       "    </tr>\n",
       "    <tr>\n",
       "      <th>mean</th>\n",
       "      <td>NaN</td>\n",
       "      <td>NaN</td>\n",
       "      <td>NaN</td>\n",
       "      <td>23.877631</td>\n",
       "    </tr>\n",
       "    <tr>\n",
       "      <th>std</th>\n",
       "      <td>NaN</td>\n",
       "      <td>NaN</td>\n",
       "      <td>NaN</td>\n",
       "      <td>72.180465</td>\n",
       "    </tr>\n",
       "    <tr>\n",
       "      <th>min</th>\n",
       "      <td>NaN</td>\n",
       "      <td>NaN</td>\n",
       "      <td>NaN</td>\n",
       "      <td>4.990000</td>\n",
       "    </tr>\n",
       "    <tr>\n",
       "      <th>25%</th>\n",
       "      <td>NaN</td>\n",
       "      <td>NaN</td>\n",
       "      <td>NaN</td>\n",
       "      <td>4.990000</td>\n",
       "    </tr>\n",
       "    <tr>\n",
       "      <th>50%</th>\n",
       "      <td>NaN</td>\n",
       "      <td>NaN</td>\n",
       "      <td>NaN</td>\n",
       "      <td>4.990000</td>\n",
       "    </tr>\n",
       "    <tr>\n",
       "      <th>75%</th>\n",
       "      <td>NaN</td>\n",
       "      <td>NaN</td>\n",
       "      <td>NaN</td>\n",
       "      <td>9.990000</td>\n",
       "    </tr>\n",
       "    <tr>\n",
       "      <th>max</th>\n",
       "      <td>NaN</td>\n",
       "      <td>NaN</td>\n",
       "      <td>NaN</td>\n",
       "      <td>499.990000</td>\n",
       "    </tr>\n",
       "  </tbody>\n",
       "</table>\n",
       "</div>"
      ],
      "text/plain": [
       "                 user_id             event_dt event_name       details\n",
       "count             440317               440317     440317  62740.000000\n",
       "unique             58703               267268          4           NaN\n",
       "top     A3917F81482141F2  2020-12-23 02:37:24      login           NaN\n",
       "freq                  36                   10     189552           NaN\n",
       "mean                 NaN                  NaN        NaN     23.877631\n",
       "std                  NaN                  NaN        NaN     72.180465\n",
       "min                  NaN                  NaN        NaN      4.990000\n",
       "25%                  NaN                  NaN        NaN      4.990000\n",
       "50%                  NaN                  NaN        NaN      4.990000\n",
       "75%                  NaN                  NaN        NaN      9.990000\n",
       "max                  NaN                  NaN        NaN    499.990000"
      ]
     },
     "metadata": {},
     "output_type": "display_data"
    },
    {
     "data": {
      "text/html": [
       "<div>\n",
       "<style scoped>\n",
       "    .dataframe tbody tr th:only-of-type {\n",
       "        vertical-align: middle;\n",
       "    }\n",
       "\n",
       "    .dataframe tbody tr th {\n",
       "        vertical-align: top;\n",
       "    }\n",
       "\n",
       "    .dataframe thead th {\n",
       "        text-align: right;\n",
       "    }\n",
       "</style>\n",
       "<table border=\"1\" class=\"dataframe\">\n",
       "  <thead>\n",
       "    <tr style=\"text-align: right;\">\n",
       "      <th></th>\n",
       "      <th>user_id</th>\n",
       "      <th>group</th>\n",
       "      <th>ab_test</th>\n",
       "    </tr>\n",
       "  </thead>\n",
       "  <tbody>\n",
       "    <tr>\n",
       "      <th>count</th>\n",
       "      <td>18268</td>\n",
       "      <td>18268</td>\n",
       "      <td>18268</td>\n",
       "    </tr>\n",
       "    <tr>\n",
       "      <th>unique</th>\n",
       "      <td>16666</td>\n",
       "      <td>2</td>\n",
       "      <td>2</td>\n",
       "    </tr>\n",
       "    <tr>\n",
       "      <th>top</th>\n",
       "      <td>0FDFDA0B2DEC2D91</td>\n",
       "      <td>A</td>\n",
       "      <td>interface_eu_test</td>\n",
       "    </tr>\n",
       "    <tr>\n",
       "      <th>freq</th>\n",
       "      <td>2</td>\n",
       "      <td>9655</td>\n",
       "      <td>11567</td>\n",
       "    </tr>\n",
       "  </tbody>\n",
       "</table>\n",
       "</div>"
      ],
      "text/plain": [
       "                 user_id  group            ab_test\n",
       "count              18268  18268              18268\n",
       "unique             16666      2                  2\n",
       "top     0FDFDA0B2DEC2D91      A  interface_eu_test\n",
       "freq                   2   9655              11567"
      ]
     },
     "metadata": {},
     "output_type": "display_data"
    }
   ],
   "source": [
    "# посмотрим на описание данных\n",
    "display(marketing.describe(include='all'))\n",
    "display(users.describe(include='all'))\n",
    "display(events.describe(include='all'))\n",
    "display(participants.describe(include='all'))"
   ]
  },
  {
   "cell_type": "markdown",
   "metadata": {},
   "source": [
    "После просмотра описания данных видно, что в датафрейме `participants` (таблица участников тестов) возможны пересечения в теста пользователей, т.к. число уникальных пользователей меньше чем общее число пользователей. И большинство пользователей участвовало в АВ-тесте \"interface_eu_test\"."
   ]
  },
  {
   "cell_type": "markdown",
   "metadata": {},
   "source": [
    "### Выводы по главе"
   ]
  },
  {
   "cell_type": "markdown",
   "metadata": {},
   "source": [
    "**Выводы:**\n",
    "1. Файлы с данными были загружены и просмотрены. Была изучена общая информация о датафреймах.\n",
    "2. Названия столбцов соответствуют 'змеиному стилю'.\n",
    "3. В столбцах датафреймов, в которых записана дата, неверный тип данных. В датафрейме `marketing` неверный тип данных в столбцах `start_dt` и `finish_dt`, в датафрейме `users` неверный тип данных в столбце `first_date`, в датафрейме `events` неверный тип данных в столбце `event_dt`. Надо исправить неверный тип object на правильный тип datetime64.\n",
    "4. После просмотра описания данных видно, что в датафрейме `participants` (таблица участников тестов) возможны пересечения в теста пользователей, т.к. число уникальных пользователей меньше чем общее число пользователей. И большинство пользователей участвовало в АВ-тесте \"interface_eu_test\"."
   ]
  },
  {
   "cell_type": "markdown",
   "metadata": {},
   "source": [
    "## Предобработка данных"
   ]
  },
  {
   "cell_type": "markdown",
   "metadata": {},
   "source": [
    "### Замена типов данных"
   ]
  },
  {
   "cell_type": "markdown",
   "metadata": {},
   "source": [
    "Исправим неверный тип object на правильный тип datetime64 в датафрейме `marketing` в столбцах `start_dt` и `finish_dt`, в датафрейме `users` в столбце `first_date`, в датафрейме `events` в столбце `event_dt`."
   ]
  },
  {
   "cell_type": "code",
   "execution_count": 6,
   "metadata": {},
   "outputs": [],
   "source": [
    "# изменим тип данных на datetime64\n",
    "marketing['start_dt'] = pd.to_datetime(marketing['start_dt'])\n",
    "marketing['finish_dt'] = pd.to_datetime(marketing['finish_dt'])\n",
    "users['first_date'] = pd.to_datetime(users['first_date'])\n",
    "events['event_dt'] = pd.to_datetime(events['event_dt'])"
   ]
  },
  {
   "cell_type": "markdown",
   "metadata": {},
   "source": [
    "### Проверка на наличие пропусков"
   ]
  },
  {
   "cell_type": "code",
   "execution_count": 7,
   "metadata": {},
   "outputs": [
    {
     "data": {
      "text/plain": [
       "name         0\n",
       "regions      0\n",
       "start_dt     0\n",
       "finish_dt    0\n",
       "dtype: int64"
      ]
     },
     "execution_count": 7,
     "metadata": {},
     "output_type": "execute_result"
    }
   ],
   "source": [
    "# проверим датафрейм marketing на наличие пропусков\n",
    "marketing.isna().sum()"
   ]
  },
  {
   "cell_type": "code",
   "execution_count": 8,
   "metadata": {},
   "outputs": [
    {
     "data": {
      "text/plain": [
       "user_id       0\n",
       "first_date    0\n",
       "region        0\n",
       "device        0\n",
       "dtype: int64"
      ]
     },
     "execution_count": 8,
     "metadata": {},
     "output_type": "execute_result"
    }
   ],
   "source": [
    "# проверим датафрейм users на наличие пропусков\n",
    "users.isna().sum()"
   ]
  },
  {
   "cell_type": "code",
   "execution_count": 9,
   "metadata": {},
   "outputs": [
    {
     "data": {
      "text/plain": [
       "user_id            0\n",
       "event_dt           0\n",
       "event_name         0\n",
       "details       377577\n",
       "dtype: int64"
      ]
     },
     "execution_count": 9,
     "metadata": {},
     "output_type": "execute_result"
    }
   ],
   "source": [
    "# проверим датафрейм events на наличие пропусков\n",
    "events.isna().sum()"
   ]
  },
  {
   "cell_type": "code",
   "execution_count": 10,
   "metadata": {},
   "outputs": [
    {
     "data": {
      "text/plain": [
       "user_id    0\n",
       "group      0\n",
       "ab_test    0\n",
       "dtype: int64"
      ]
     },
     "execution_count": 10,
     "metadata": {},
     "output_type": "execute_result"
    }
   ],
   "source": [
    "# проверим датафрейм participants на наличие пропусков\n",
    "participants.isna().sum()"
   ]
  },
  {
   "cell_type": "markdown",
   "metadata": {},
   "source": [
    "Пропуски замечены только в датафрейме `events` столбце `details`. Рассмотрим их подробнее. Сгруппируем по событию и посчитаем дополнительные данные о событии."
   ]
  },
  {
   "cell_type": "code",
   "execution_count": 11,
   "metadata": {},
   "outputs": [
    {
     "data": {
      "text/plain": [
       "event_name\n",
       "login               0\n",
       "product_cart        0\n",
       "product_page        0\n",
       "purchase        62740\n",
       "Name: details, dtype: int64"
      ]
     },
     "execution_count": 11,
     "metadata": {},
     "output_type": "execute_result"
    }
   ],
   "source": [
    "# cгруппируем по событию и посчитаем дополнительные данные о событии\n",
    "events.groupby('event_name')['details'].count()"
   ]
  },
  {
   "cell_type": "markdown",
   "metadata": {},
   "source": [
    "Видно что пропуски по дополнительным данным о событии есть у тех событий, которые не являются покупкой. Поэтому пропуски заполнять не будем."
   ]
  },
  {
   "cell_type": "markdown",
   "metadata": {},
   "source": [
    "### Проверка на наличие дубликатов"
   ]
  },
  {
   "cell_type": "code",
   "execution_count": 12,
   "metadata": {},
   "outputs": [
    {
     "data": {
      "text/plain": [
       "0"
      ]
     },
     "execution_count": 12,
     "metadata": {},
     "output_type": "execute_result"
    }
   ],
   "source": [
    "# проверим датафрейм marketing на наличие дубликатов\n",
    "marketing.duplicated().sum()"
   ]
  },
  {
   "cell_type": "code",
   "execution_count": 13,
   "metadata": {},
   "outputs": [
    {
     "data": {
      "text/plain": [
       "0"
      ]
     },
     "execution_count": 13,
     "metadata": {},
     "output_type": "execute_result"
    }
   ],
   "source": [
    "# проверим датафрейм users на наличие дубликатов\n",
    "users.duplicated().sum()"
   ]
  },
  {
   "cell_type": "code",
   "execution_count": 14,
   "metadata": {},
   "outputs": [
    {
     "data": {
      "text/plain": [
       "0"
      ]
     },
     "execution_count": 14,
     "metadata": {},
     "output_type": "execute_result"
    }
   ],
   "source": [
    "# проверим датафрейм events на наличие дубликатов\n",
    "events.duplicated().sum()"
   ]
  },
  {
   "cell_type": "code",
   "execution_count": 15,
   "metadata": {},
   "outputs": [
    {
     "data": {
      "text/plain": [
       "0"
      ]
     },
     "execution_count": 15,
     "metadata": {},
     "output_type": "execute_result"
    }
   ],
   "source": [
    "# проверим датафрейм participants на наличие дубликатов\n",
    "participants.duplicated().sum()"
   ]
  },
  {
   "cell_type": "markdown",
   "metadata": {},
   "source": [
    "В датафреймах дубликатов нет."
   ]
  },
  {
   "cell_type": "markdown",
   "metadata": {},
   "source": [
    "### Добавление дополнительных столбцов"
   ]
  },
  {
   "cell_type": "markdown",
   "metadata": {},
   "source": [
    "Для удобства добавим столбец с только с датой без времени в датафрейме `events`."
   ]
  },
  {
   "cell_type": "code",
   "execution_count": 16,
   "metadata": {},
   "outputs": [],
   "source": [
    "# создим столбец с датой без времени\n",
    "events['event_date'] = events['event_dt'].dt.date\n",
    "# изменим тип данных на datetime64\n",
    "events['event_date'] = pd.to_datetime(events['event_date'])"
   ]
  },
  {
   "cell_type": "markdown",
   "metadata": {},
   "source": [
    "Был добавлен столбец с датой без времени в датафрейме `events`."
   ]
  },
  {
   "cell_type": "markdown",
   "metadata": {},
   "source": [
    "### Выводы по главе"
   ]
  },
  {
   "cell_type": "markdown",
   "metadata": {},
   "source": [
    "**Выводы:**\n",
    "1. Были исправлены неверные типы данных object на правильные типы datetime64 в датафреймах `marketing`, `finish_dt` и `events`. Типы данных у столбцов соответствуют хранящимся в них значениям.\n",
    "2. Пропуски замечены только в датафрейме `events`. При это пропуски имеются только по дополнительным данным о событии, которые не являются покупкой. Поэтому пропуски заполнять не будем.\n",
    "3. В датафреймах дубликатов нет.\n",
    "4. Был добавлен столбец с датой без времени в датафрейме `events`."
   ]
  },
  {
   "cell_type": "markdown",
   "metadata": {},
   "source": [
    "## Оцените корректность проведения теста"
   ]
  },
  {
   "cell_type": "markdown",
   "metadata": {},
   "source": [
    "### Пересечение тестовой аудитории с конкурирующим тестом"
   ]
  },
  {
   "cell_type": "markdown",
   "metadata": {},
   "source": [
    "Найдем пересечение пользователей из теста 'recommender_system_test' с другим тестом 'interface_eu_test'."
   ]
  },
  {
   "cell_type": "code",
   "execution_count": 17,
   "metadata": {},
   "outputs": [
    {
     "name": "stdout",
     "output_type": "stream",
     "text": [
      "Количество уникальных пользователей в тесте recommender_system_test: 6701\n",
      "Количество уникальных пользователей в тесте interface_eu_test: 11567\n"
     ]
    }
   ],
   "source": [
    "# сделаем срезы по участникам тестов\n",
    "test_recommender = participants[participants['ab_test'] == 'recommender_system_test']['user_id']\n",
    "test_interface = participants[participants['ab_test'] == 'interface_eu_test']['user_id']\n",
    "\n",
    "print('Количество уникальных пользователей в тесте recommender_system_test:', test_recommender.nunique())\n",
    "print('Количество уникальных пользователей в тесте interface_eu_test:', test_interface.nunique())"
   ]
  },
  {
   "cell_type": "code",
   "execution_count": 18,
   "metadata": {},
   "outputs": [
    {
     "name": "stdout",
     "output_type": "stream",
     "text": [
      "Количество пересекающихся пользователей: 1602\n"
     ]
    }
   ],
   "source": [
    "# найдем пересекающихся пользователей по 2 тестам\n",
    "cross_users = np.intersect1d(test_recommender, test_interface)\n",
    "\n",
    "print('Количество пересекающихся пользователей:', len(cross_users))"
   ]
  },
  {
   "cell_type": "markdown",
   "metadata": {},
   "source": [
    "Итак, у нас есть пересекающиеся пользователи по 2 тестам. После объединения данных из датафреймов для исследования, исключим этих пользователей. Так как такие пользователи могут повлият на результат АВ-теста."
   ]
  },
  {
   "cell_type": "code",
   "execution_count": 19,
   "metadata": {
    "scrolled": false
   },
   "outputs": [],
   "source": [
    "# объединеним данные, сделав отбор по тесту recommender_system_test\n",
    "test = participants[participants['ab_test'] == 'recommender_system_test'].merge(events, on='user_id', how='left')\n",
    "test = test.merge(users, on='user_id', how='left')"
   ]
  },
  {
   "cell_type": "code",
   "execution_count": 20,
   "metadata": {},
   "outputs": [
    {
     "name": "stdout",
     "output_type": "stream",
     "text": [
      "Количество уникальных пользователей по тесту recommender_system_test до фильтрации: 6701\n"
     ]
    }
   ],
   "source": [
    "# до фильтрации\n",
    "print('Количество уникальных пользователей по тесту recommender_system_test до фильтрации:', test['user_id'].nunique())"
   ]
  },
  {
   "cell_type": "markdown",
   "metadata": {},
   "source": [
    "Исключим пересекающихся пользователей между АВ-тестами."
   ]
  },
  {
   "cell_type": "code",
   "execution_count": 21,
   "metadata": {},
   "outputs": [],
   "source": [
    "# удалим пересекающихся пользователей\n",
    "test = test[~test['user_id'].isin(cross_users)]"
   ]
  },
  {
   "cell_type": "code",
   "execution_count": 22,
   "metadata": {},
   "outputs": [
    {
     "name": "stdout",
     "output_type": "stream",
     "text": [
      "Количество уникальных пользователей по тесту recommender_system_test после фильтрации: 5099\n"
     ]
    }
   ],
   "source": [
    "# после фильтрации\n",
    "print('Количество уникальных пользователей по тесту recommender_system_test после фильтрации:', test['user_id'].nunique())"
   ]
  },
  {
   "cell_type": "markdown",
   "metadata": {},
   "source": [
    "Проверим корректность даты остановки набора новых пользователей.\n",
    "\n",
    "Сначала найдем из датафрейма `users` минимальную и максимальную даты регистрации пользователей. Согласно описанию датафрейма, в нем пользователи, зарегистрировавшиеся в интернет-магазине в период с 7 по 21 декабря 2020 года."
   ]
  },
  {
   "cell_type": "code",
   "execution_count": 23,
   "metadata": {},
   "outputs": [
    {
     "name": "stdout",
     "output_type": "stream",
     "text": [
      "Минимальная дата регистрации пользователя: 2020-12-07 00:00:00\n",
      "Максимальная дата регистрации пользователя: 2020-12-23 00:00:00\n"
     ]
    }
   ],
   "source": [
    "# узнаем даты регистрации пользователей датафрейма 'users'\n",
    "print('Минимальная дата регистрации пользователя:', users['first_date'].min())\n",
    "print('Максимальная дата регистрации пользователя:', users['first_date'].max())"
   ]
  },
  {
   "cell_type": "markdown",
   "metadata": {},
   "source": [
    "В датафрейме `users` есть пользователи зарегистрированные уже после остановки набора пользователей 21 декабря."
   ]
  },
  {
   "cell_type": "code",
   "execution_count": 24,
   "metadata": {},
   "outputs": [
    {
     "name": "stdout",
     "output_type": "stream",
     "text": [
      "Количество уникальных пользователей зарегистрированных после 21 декабря: 5263\n"
     ]
    }
   ],
   "source": [
    "print('Количество уникальных пользователей зарегистрированных после 21 декабря:', \\\n",
    "      users[(users['first_date'] > '2020-12-21')]['user_id'].nunique())"
   ]
  },
  {
   "cell_type": "markdown",
   "metadata": {},
   "source": [
    "Теперь посмотрим минимальную и максимальную даты регистрации пользователей в датафрейме `test`, в котором мы объединили данные начали делать фильтрацию данных."
   ]
  },
  {
   "cell_type": "code",
   "execution_count": 25,
   "metadata": {},
   "outputs": [
    {
     "name": "stdout",
     "output_type": "stream",
     "text": [
      "Минимальная дата регистрации пользователя: 2020-12-07 00:00:00\n",
      "Максимальная дата регистрации пользователя: 2020-12-21 00:00:00\n"
     ]
    }
   ],
   "source": [
    "# узнаем даты регистрации пользователей датафрейма 'test'\n",
    "print('Минимальная дата регистрации пользователя:', test['first_date'].min())\n",
    "print('Максимальная дата регистрации пользователя:', test['first_date'].max())"
   ]
  },
  {
   "cell_type": "markdown",
   "metadata": {},
   "source": [
    "В данных для исследования даты начала и остановки набора новых пользователей соответсвуют ТЗ: с 7 по 21 декабря."
   ]
  },
  {
   "cell_type": "markdown",
   "metadata": {},
   "source": [
    "В датафрейме, содержащем пользователей, зарегистрировавшихся в интернет-магазине в период с 7 по 21 декабря 2020 года, есть пользователи зарегистрированные уже после остановки набора пользователей: 21 декабря. \n",
    "    \n",
    "Но в данных для исследования даты начала и остановки набора новых пользователей соответсвуют ТЗ: с 7 по 21 декабря."
   ]
  },
  {
   "cell_type": "markdown",
   "metadata": {},
   "source": [
    "### Проверка на пользователей из региона EU"
   ]
  },
  {
   "cell_type": "markdown",
   "metadata": {},
   "source": [
    "Посчитаем долю новых пользователей в тесте, которые зарегистрировались с 7 по 21 декабря в регионе EU.\n",
    "\n",
    "Сначала найдем общее число новых пользователей зарегистрированных с 7 по 21 декабря в регионе EU."
   ]
  },
  {
   "cell_type": "code",
   "execution_count": 26,
   "metadata": {},
   "outputs": [
    {
     "name": "stdout",
     "output_type": "stream",
     "text": [
      "Общее количество уникальных новых пользователей из региона EU зарегистированных с 7 по 21 декабря включительно: 42340\n",
      "15% уникальных новых пользователей из региона EU зарегистированных с 7 по 21 декабря включительно: 6351\n"
     ]
    }
   ],
   "source": [
    "# найдем общее число новых пользователей зарегистрированных с 7 по 21 декабря в регионе EU\n",
    "users_total_EU = users[(users['first_date'] >= '2020-12-07') & (users['first_date'] <= '2020-12-21')\\\n",
    "                    & (users['region'] == 'EU')]['user_id'].nunique()\n",
    "print('Общее количество уникальных новых пользователей из региона EU зарегистированных с 7 по 21 декабря включительно:',\\\n",
    "      users_total_EU)\n",
    "print('15% уникальных новых пользователей из региона EU зарегистированных с 7 по 21 декабря включительно:',\\\n",
    "      round(users_total_EU * 0.15))"
   ]
  },
  {
   "cell_type": "markdown",
   "metadata": {},
   "source": [
    "Мы уже отфильтровали для теста, оставив только данные с пользователей из региона EU."
   ]
  },
  {
   "cell_type": "code",
   "execution_count": 27,
   "metadata": {},
   "outputs": [
    {
     "data": {
      "text/plain": [
       "array(['EU', 'N.America', 'CIS', 'APAC'], dtype=object)"
      ]
     },
     "execution_count": 27,
     "metadata": {},
     "output_type": "execute_result"
    }
   ],
   "source": [
    "# проверим регионы пользователей в отфильтрованных данных\n",
    "test['region'].unique()"
   ]
  },
  {
   "cell_type": "code",
   "execution_count": 28,
   "metadata": {},
   "outputs": [
    {
     "name": "stdout",
     "output_type": "stream",
     "text": [
      "Всего уникальных пользователей АВ-теста из региона EU: 5099\n",
      "% новых пользователей из региона EU в АВ-тесте из региона EU: 12.04\n"
     ]
    }
   ],
   "source": [
    "# найдем количество и % уникальных пользователей после фильтрации, которые участвовали в тесте \n",
    "# от числа новых пользователей зарегистрированных с 7 по 21 декабря в регионе EU\n",
    "print('Всего уникальных пользователей АВ-теста из региона EU:', test['user_id'].nunique())\n",
    "print('% новых пользователей из региона EU в АВ-тесте из региона EU:', round(test['user_id'].nunique() / users_total_EU * 100, 2))"
   ]
  },
  {
   "cell_type": "markdown",
   "metadata": {},
   "source": [
    "Условие 15% новых пользователей из региона EU не выполняется, в датасете с данными по тесту остается только 11.22% новых пользователей из региона EU."
   ]
  },
  {
   "cell_type": "markdown",
   "metadata": {},
   "source": [
    "### Пересечение тестовой аудитории между группами теста"
   ]
  },
  {
   "cell_type": "markdown",
   "metadata": {},
   "source": [
    "Мы отфильтровали пересекающихся пользователей между АВ-тестами. Теперь найдем пересечение пользователей между группами А и В в тесте 'recommender_system_test'."
   ]
  },
  {
   "cell_type": "markdown",
   "metadata": {},
   "source": [
    "Теперь разделим пользователей на группы A и B."
   ]
  },
  {
   "cell_type": "code",
   "execution_count": 29,
   "metadata": {},
   "outputs": [],
   "source": [
    "# разделим пользователей по группам теста\n",
    "test_A = test[test['group'] == 'A']\n",
    "test_B = test[test['group'] == 'B']"
   ]
  },
  {
   "cell_type": "code",
   "execution_count": 30,
   "metadata": {
    "scrolled": true
   },
   "outputs": [
    {
     "name": "stdout",
     "output_type": "stream",
     "text": [
      "Количество уникальных пользователей в группе А: 2903\n",
      "Количество уникальных пользователей в группе В: 2196\n"
     ]
    }
   ],
   "source": [
    "# узнаем количество уникальных пользователей в группах\n",
    "test_A_cnt = test_A['user_id'].nunique()\n",
    "test_B_cnt = test_B['user_id'].nunique()\n",
    "print('Количество уникальных пользователей в группе А:', test_A_cnt)\n",
    "print('Количество уникальных пользователей в группе В:', test_B_cnt)"
   ]
  },
  {
   "cell_type": "code",
   "execution_count": 31,
   "metadata": {
    "scrolled": true
   },
   "outputs": [
    {
     "name": "stdout",
     "output_type": "stream",
     "text": [
      "0\n"
     ]
    }
   ],
   "source": [
    "# найдем пересечение пользователей между группами теста\n",
    "cross_users_AB = np.intersect1d(test_A['user_id'], test_B['user_id'])\n",
    "print(len(cross_users_AB))"
   ]
  },
  {
   "cell_type": "markdown",
   "metadata": {},
   "source": [
    "Пересечений пользователей между группами A и B в тесте \"recommender_system_test\" нет."
   ]
  },
  {
   "cell_type": "markdown",
   "metadata": {},
   "source": [
    "### Проверка времени проведения теста"
   ]
  },
  {
   "cell_type": "markdown",
   "metadata": {},
   "source": [
    "Найдем максимальную и минимальную дату АВ-теста."
   ]
  },
  {
   "cell_type": "code",
   "execution_count": 32,
   "metadata": {},
   "outputs": [
    {
     "name": "stdout",
     "output_type": "stream",
     "text": [
      "Минимальная дата АВ-теста: 2020-12-07 00:00:00\n",
      "Максимальная дата АВ-теста: 2020-12-30 00:00:00\n"
     ]
    }
   ],
   "source": [
    "print('Минимальная дата АВ-теста:', test['event_date'].min())\n",
    "print('Максимальная дата АВ-теста:', test['event_date'].max())"
   ]
  },
  {
   "cell_type": "markdown",
   "metadata": {},
   "source": [
    "Проблем нет. Временные рамки теста с 7 по 30 декабря 2020 года. Но видно, что события по тесту заканчиваются 30 декабря, а по плану тест должен идти до 4 января. Тест закончился раньше времени."
   ]
  },
  {
   "cell_type": "markdown",
   "metadata": {},
   "source": [
    "### Проверка на перечесение теста и маркетинговых событий"
   ]
  },
  {
   "cell_type": "markdown",
   "metadata": {},
   "source": [
    "Проверим совпадение теста и маркетинговых событий."
   ]
  },
  {
   "cell_type": "code",
   "execution_count": 33,
   "metadata": {},
   "outputs": [
    {
     "data": {
      "text/html": [
       "<div>\n",
       "<style scoped>\n",
       "    .dataframe tbody tr th:only-of-type {\n",
       "        vertical-align: middle;\n",
       "    }\n",
       "\n",
       "    .dataframe tbody tr th {\n",
       "        vertical-align: top;\n",
       "    }\n",
       "\n",
       "    .dataframe thead th {\n",
       "        text-align: right;\n",
       "    }\n",
       "</style>\n",
       "<table border=\"1\" class=\"dataframe\">\n",
       "  <thead>\n",
       "    <tr style=\"text-align: right;\">\n",
       "      <th></th>\n",
       "      <th>name</th>\n",
       "      <th>regions</th>\n",
       "      <th>start_dt</th>\n",
       "      <th>finish_dt</th>\n",
       "    </tr>\n",
       "  </thead>\n",
       "  <tbody>\n",
       "    <tr>\n",
       "      <th>0</th>\n",
       "      <td>Christmas&amp;New Year Promo</td>\n",
       "      <td>EU, N.America</td>\n",
       "      <td>2020-12-25</td>\n",
       "      <td>2021-01-03</td>\n",
       "    </tr>\n",
       "    <tr>\n",
       "      <th>10</th>\n",
       "      <td>CIS New Year Gift Lottery</td>\n",
       "      <td>CIS</td>\n",
       "      <td>2020-12-30</td>\n",
       "      <td>2021-01-07</td>\n",
       "    </tr>\n",
       "  </tbody>\n",
       "</table>\n",
       "</div>"
      ],
      "text/plain": [
       "                         name        regions   start_dt  finish_dt\n",
       "0    Christmas&New Year Promo  EU, N.America 2020-12-25 2021-01-03\n",
       "10  CIS New Year Gift Lottery            CIS 2020-12-30 2021-01-07"
      ]
     },
     "execution_count": 33,
     "metadata": {},
     "output_type": "execute_result"
    }
   ],
   "source": [
    "# посмотрим на акции, которые начались или закончились в период теста\n",
    "marketing[((marketing['finish_dt'] >= '2020-12-07') & (marketing['finish_dt'] <= '2021-01-04')) \n",
    "          | ((marketing['start_dt'] >= '2020-12-07') & (marketing['start_dt'] <= '2021-01-04'))\n",
    "]"
   ]
  },
  {
   "cell_type": "markdown",
   "metadata": {},
   "source": [
    "Видим, что у нас есть пересечение проведения теста \"recommender_system_test\" с акцией \"Christmas&New Year Promo\" с 25 декабря в регионе EU. Теперь посмотрим на общее распределение числа событий по тестовой группе \"recommender_system_test\"."
   ]
  },
  {
   "cell_type": "markdown",
   "metadata": {},
   "source": [
    "Делаю фильтрацию событий пользователей по lifetime. Оставим события у пользователей с максимальным lifetime равным 14 дней."
   ]
  },
  {
   "cell_type": "markdown",
   "metadata": {},
   "source": [
    "Теперь посчитаем lifetime у пользователей."
   ]
  },
  {
   "cell_type": "code",
   "execution_count": 34,
   "metadata": {},
   "outputs": [],
   "source": [
    "# создадим столбец lifetime, где для каждого события пользователя будет высчитан lifetime\n",
    "test['lifetime'] = (test['event_date'] - test['first_date']).dt.days"
   ]
  },
  {
   "cell_type": "markdown",
   "metadata": {},
   "source": [
    "Сделаем фильтрацию, оставим события у пользователей с максимальным lifetime равным 14 дней."
   ]
  },
  {
   "cell_type": "code",
   "execution_count": 35,
   "metadata": {},
   "outputs": [],
   "source": [
    "# отфильтруем только события по пользователям с lifetime \n",
    "# так как lifetime начинается с 0, то максимальное значение 14 дня будет равно 13\n",
    "test = test[test['lifetime'] <= 13]"
   ]
  },
  {
   "cell_type": "code",
   "execution_count": 36,
   "metadata": {},
   "outputs": [
    {
     "data": {
      "image/png": "[encoded data removed]",
      "text/plain": [
       "<Figure size 1200x500 with 1 Axes>"
      ]
     },
     "metadata": {},
     "output_type": "display_data"
    }
   ],
   "source": [
    "# посмотрим распределение числа событий по тестовой группе \"recommender_system_test\"\n",
    "test.hist(column='event_date', figsize=(12,5))\n",
    "plt.xlabel('Дата')\n",
    "plt.ylabel('Число событий')\n",
    "plt.title('Гистограмма распределения количества событий в тестовой группе')\n",
    "plt.show()"
   ]
  },
  {
   "cell_type": "markdown",
   "metadata": {},
   "source": [
    "Пересечение АВ-теста и маркетинговой акции начинается только с 25 декабря в регионе EU. К этому моменту активность пользователей уже низка, пик событий пройден. Если мы будем удалять пересечения данных с промоакцией, мы также удалим данные по АВ-тесту. \n",
    "\n",
    "Данные, которые пересекаются с промоакцией \"Christmas&New Year Promo\" с 25 декабря удалять не будем, т.к. это может повлиять на результат АВ-теста. "
   ]
  },
  {
   "cell_type": "markdown",
   "metadata": {},
   "source": [
    "### Количество событий на пользователя одинаково распределены в выборках?"
   ]
  },
  {
   "cell_type": "markdown",
   "metadata": {},
   "source": [
    "Посмотрим распределение событий на пользователя в группах А и В."
   ]
  },
  {
   "cell_type": "code",
   "execution_count": 37,
   "metadata": {},
   "outputs": [
    {
     "data": {
      "image/png": "[encoded data removed]",
      "text/plain": [
       "<Figure size 1800x800 with 2 Axes>"
      ]
     },
     "metadata": {},
     "output_type": "display_data"
    }
   ],
   "source": [
    "# построим графики распределения событий на пользователя в 2 тестовых группах\n",
    "plt.figure(figsize=(18, 8))\n",
    "\n",
    "ax1=plt.subplot(1, 2, 1)\n",
    "test_A.groupby('user_id', as_index=False)['event_name'].count().hist(ax=ax1, bins=20)\n",
    "plt.xlabel('Количества событий на пользователя')\n",
    "plt.ylabel('Частота')\n",
    "plt.title('Гистограмма распределения количества событий на пользователя в группе A')\n",
    "\n",
    "ax2=plt.subplot(1, 2, 2, sharey=ax1)\n",
    "test_B.groupby('user_id', as_index=False)['event_name'].count().hist(ax=ax2, bins=25)\n",
    "plt.xlabel('Количества событий на пользователя')\n",
    "plt.ylabel('Частота')\n",
    "plt.title('Гистограмма распределения количества событий на пользователя в группе B')\n",
    "\n",
    "plt.show()"
   ]
  },
  {
   "cell_type": "markdown",
   "metadata": {},
   "source": [
    "В группе В больше пользователей имеющих 0 событий по сравнению с группой А."
   ]
  },
  {
   "cell_type": "markdown",
   "metadata": {},
   "source": [
    "Сравним среднее количество событий по пользователя в группах А и В."
   ]
  },
  {
   "cell_type": "code",
   "execution_count": 38,
   "metadata": {},
   "outputs": [
    {
     "name": "stdout",
     "output_type": "stream",
     "text": [
      "Cреднее количество событий на пользователя в группе А: 5.08\n"
     ]
    }
   ],
   "source": [
    "# сделаем группировку по числу событий на пользователя в группе А\n",
    "events_A = test_A.groupby('user_id')['event_name'].count()\n",
    "print('Cреднее количество событий на пользователя в группе А:', round(events_A.mean(), 2))"
   ]
  },
  {
   "cell_type": "code",
   "execution_count": 39,
   "metadata": {},
   "outputs": [
    {
     "name": "stdout",
     "output_type": "stream",
     "text": [
      "Cреднее количество событий на пользователя в группе B: 1.85\n"
     ]
    }
   ],
   "source": [
    "# сделаем группировку по числу событий на пользователя в группе А\n",
    "events_B = test_B.groupby('user_id')['event_name'].count()\n",
    "print('Cреднее количество событий на пользователя в группе B:', round(events_B.mean(), 2))"
   ]
  },
  {
   "cell_type": "markdown",
   "metadata": {},
   "source": [
    "Группы А и В отличаются по количеству событий. В группе А количество событий в среднем на пользователя больше."
   ]
  },
  {
   "cell_type": "markdown",
   "metadata": {},
   "source": [
    "Проведем статистический тест.\n",
    "\n",
    "Составим нулевую и альтернативную гипотезы:\n",
    "\n",
    "*H0: Cреднее количество событий на пользователя в группе А = Cреднему количеству событий на пользователя в группе B.*\n",
    "\n",
    "*H1: Cреднее количество событий на пользователя в группе А ≠ Cреднему количеству событий на пользователя в группе B.*\n",
    "\n",
    "Сравним выборки на равенство их средних, используем t-тест."
   ]
  },
  {
   "cell_type": "code",
   "execution_count": 40,
   "metadata": {},
   "outputs": [
    {
     "name": "stdout",
     "output_type": "stream",
     "text": [
      "Мы отвергаем нулевую гипотезу при значении p-value: 4.4098010913146483e-172\n"
     ]
    }
   ],
   "source": [
    "# зададим уровень значимости\n",
    "alpha = 0.05\n",
    "\n",
    "# зададим параметр equal_var для различной дисперсии в выборках\n",
    "test_events_groups = st.ttest_ind(events_A, events_B, equal_var = False)\n",
    "\n",
    "# выведем результат теста на экран\n",
    "if test_events_groups.pvalue < alpha:\n",
    "    print('Мы отвергаем нулевую гипотезу при значении p-value:', test_events_groups.pvalue)\n",
    "else:\n",
    "    print('У нас не получилось отвергнуть нулевую гипотезу при значении p-value:',  test_events_groups.pvalue) "
   ]
  },
  {
   "cell_type": "markdown",
   "metadata": {},
   "source": [
    "Значение p-value меньше уровня критической значимости в 5%. Мы отвергаем нулевую гипотезу.\n",
    "\n",
    "Мы принимаем альтернативную гипотезу, что *Cреднее количество событий на пользователя в группе А ≠ Cреднему количеству событий на пользователя в группе B.*."
   ]
  },
  {
   "cell_type": "markdown",
   "metadata": {},
   "source": [
    "### Как число событий в выборках распределено по дням?"
   ]
  },
  {
   "cell_type": "markdown",
   "metadata": {},
   "source": [
    "Посмотрим распределение событий по дням в группах А и В."
   ]
  },
  {
   "cell_type": "code",
   "execution_count": 41,
   "metadata": {},
   "outputs": [
    {
     "data": {
      "image/png": "[encoded data removed]",
      "text/plain": [
       "<Figure size 1800x800 with 2 Axes>"
      ]
     },
     "metadata": {},
     "output_type": "display_data"
    }
   ],
   "source": [
    "# построим графики распределения событий по дням в 2 тестовых группах\n",
    "plt.figure(figsize=(18, 8))\n",
    "\n",
    "ax1=plt.subplot(1, 2, 1)\n",
    "test_A.hist(column='event_date', ax=ax1)\n",
    "plt.xlabel('Дата')\n",
    "plt.ylabel('Число событий')\n",
    "plt.title('Гистограмма распределения событий в группе A')\n",
    "\n",
    "ax2=plt.subplot(1, 2, 2, sharey=ax1)\n",
    "test_B.hist(column='event_date', ax=ax2)\n",
    "plt.xlabel('Дата')\n",
    "plt.ylabel('Число событий')\n",
    "plt.title('Гистограмма распределения событий в группе B')\n",
    "\n",
    "plt.show()"
   ]
  },
  {
   "cell_type": "markdown",
   "metadata": {},
   "source": [
    "В группе А число событий больше, чем в группе В. В группе А ярко выражен пик событий в период с 14 по 21 декабря. В группе В выраженого пика нет."
   ]
  },
  {
   "cell_type": "markdown",
   "metadata": {},
   "source": [
    "Посмотрим на распределение регистраций пользователей в группе А и В. Рассмотрим пик событий в группе А с 14 по 21 декабря."
   ]
  },
  {
   "cell_type": "code",
   "execution_count": 42,
   "metadata": {},
   "outputs": [
    {
     "data": {
      "image/png": "[encoded data removed]",
      "text/plain": [
       "<Figure size 2000x500 with 2 Axes>"
      ]
     },
     "metadata": {},
     "output_type": "display_data"
    }
   ],
   "source": [
    "# построим графики распределения регистраций пользователей в 2 тестовых группах\n",
    "plt.figure(figsize=(20, 5))\n",
    "\n",
    "ax1=plt.subplot(1, 2, 1)\n",
    "test_A['first_date'].hist(ax=ax1)\n",
    "plt.xlabel('Дата')\n",
    "plt.ylabel('Число регистраций')\n",
    "plt.title('Дата регистрации пользователей в группе A')\n",
    "\n",
    "ax2=plt.subplot(1, 2, 2, sharey=ax1)\n",
    "test_B['first_date'].hist(ax=ax2)\n",
    "plt.xlabel('Дата')\n",
    "plt.ylabel('Число регистраций')\n",
    "plt.title('Дата регистрации пользователей в группе B')\n",
    "\n",
    "plt.show()"
   ]
  },
  {
   "cell_type": "markdown",
   "metadata": {},
   "source": [
    "Заметно, что в дни с 14 по 21 декабря у группы A есть большое число регистраций."
   ]
  },
  {
   "cell_type": "markdown",
   "metadata": {},
   "source": [
    "Теперь посмотрим на распределение события login у пользователей в группе А и В."
   ]
  },
  {
   "cell_type": "code",
   "execution_count": 43,
   "metadata": {},
   "outputs": [
    {
     "data": {
      "image/png": "[encoded data removed]",
      "text/plain": [
       "<Figure size 2000x500 with 2 Axes>"
      ]
     },
     "metadata": {},
     "output_type": "display_data"
    }
   ],
   "source": [
    "# построим графики распределения события login у пользователей в 2 тестовых группах\n",
    "plt.figure(figsize=(20, 5))\n",
    "\n",
    "ax1=plt.subplot(1, 2, 1)\n",
    "test_A.query('event_name == \"login\"').hist(column='event_date', ax=ax1)\n",
    "plt.xlabel('Дата')\n",
    "plt.ylabel('Число событий')\n",
    "plt.title('Гистограмма распределения события login в группе A')\n",
    "\n",
    "ax2=plt.subplot(1, 2, 2, sharey=ax1)\n",
    "test_B.query('event_name == \"login\"').hist(column='event_date', ax=ax2)\n",
    "plt.xlabel('Дата')\n",
    "plt.ylabel('Число событий')\n",
    "plt.title('Гистограмма распределения события login в группе B')\n",
    "\n",
    "plt.show()"
   ]
  },
  {
   "cell_type": "markdown",
   "metadata": {},
   "source": [
    "Итак, пик событий в группе А с 14 по 21 декабря связан с большим числом регистраций пользователей в эти дни из группы А и их входом в систему(событие login)."
   ]
  },
  {
   "cell_type": "markdown",
   "metadata": {},
   "source": [
    "### Воронка событий"
   ]
  },
  {
   "cell_type": "markdown",
   "metadata": {},
   "source": [
    "Построим воронку событий для группы А и В с конверсией отскока (churn rate). Затем объединим 2 воронки в 1 воронку и посмотрим как изменилась конверсия между группами А и В."
   ]
  },
  {
   "cell_type": "code",
   "execution_count": 44,
   "metadata": {},
   "outputs": [
    {
     "data": {
      "text/html": [
       "<div>\n",
       "<style scoped>\n",
       "    .dataframe tbody tr th:only-of-type {\n",
       "        vertical-align: middle;\n",
       "    }\n",
       "\n",
       "    .dataframe tbody tr th {\n",
       "        vertical-align: top;\n",
       "    }\n",
       "\n",
       "    .dataframe thead th {\n",
       "        text-align: right;\n",
       "    }\n",
       "</style>\n",
       "<table border=\"1\" class=\"dataframe\">\n",
       "  <thead>\n",
       "    <tr style=\"text-align: right;\">\n",
       "      <th></th>\n",
       "      <th>event_name</th>\n",
       "      <th>cnt_A</th>\n",
       "      <th>previous_A</th>\n",
       "      <th>churn_rate_A</th>\n",
       "    </tr>\n",
       "  </thead>\n",
       "  <tbody>\n",
       "    <tr>\n",
       "      <th>0</th>\n",
       "      <td>login</td>\n",
       "      <td>2082</td>\n",
       "      <td>0</td>\n",
       "      <td>0.00</td>\n",
       "    </tr>\n",
       "    <tr>\n",
       "      <th>1</th>\n",
       "      <td>product_page</td>\n",
       "      <td>1360</td>\n",
       "      <td>2082</td>\n",
       "      <td>34.68</td>\n",
       "    </tr>\n",
       "    <tr>\n",
       "      <th>2</th>\n",
       "      <td>product_cart</td>\n",
       "      <td>631</td>\n",
       "      <td>1360</td>\n",
       "      <td>53.60</td>\n",
       "    </tr>\n",
       "    <tr>\n",
       "      <th>3</th>\n",
       "      <td>purchase</td>\n",
       "      <td>652</td>\n",
       "      <td>631</td>\n",
       "      <td>-3.33</td>\n",
       "    </tr>\n",
       "  </tbody>\n",
       "</table>\n",
       "</div>"
      ],
      "text/plain": [
       "     event_name  cnt_A  previous_A  churn_rate_A\n",
       "0         login   2082           0          0.00\n",
       "1  product_page   1360        2082         34.68\n",
       "2  product_cart    631        1360         53.60\n",
       "3      purchase    652         631         -3.33"
      ]
     },
     "execution_count": 44,
     "metadata": {},
     "output_type": "execute_result"
    }
   ],
   "source": [
    "# сгруппируем по пользователям из группы А\n",
    "test_A_funnel = test_A.groupby('event_name').agg({'user_id': 'nunique'}) \\\n",
    "    .rename(columns={'user_id': 'cnt_A'}).sort_values(by='cnt_A', ascending=False) \\\n",
    "    .reset_index()\n",
    "    \n",
    "# зададим индекс вручную\n",
    "test_A_funnel.index=[0, 1, 3, 2]\n",
    "test_A_funnel = test_A_funnel.sort_index(ascending=True)\n",
    "\n",
    "# сместим число пользователей для подсчета churn rate\n",
    "test_A_funnel['previous_A'] = test_A_funnel['cnt_A'].shift(periods=1, fill_value=0)\n",
    "\n",
    "# посчитаем churn_rate для группы А \n",
    "test_A_funnel['churn_rate_A'] = round((1 - test_A_funnel['cnt_A'] / test_A_funnel['previous_A']) * 100, 2)\n",
    "# отрицательное значение в churn rate заменим на 0\n",
    "test_A_funnel.replace([-np.inf], 0, inplace=True)\n",
    "\n",
    "# посмотрим на воронку группы А\n",
    "test_A_funnel"
   ]
  },
  {
   "cell_type": "code",
   "execution_count": 45,
   "metadata": {},
   "outputs": [
    {
     "data": {
      "text/html": [
       "<div>\n",
       "<style scoped>\n",
       "    .dataframe tbody tr th:only-of-type {\n",
       "        vertical-align: middle;\n",
       "    }\n",
       "\n",
       "    .dataframe tbody tr th {\n",
       "        vertical-align: top;\n",
       "    }\n",
       "\n",
       "    .dataframe thead th {\n",
       "        text-align: right;\n",
       "    }\n",
       "</style>\n",
       "<table border=\"1\" class=\"dataframe\">\n",
       "  <thead>\n",
       "    <tr style=\"text-align: right;\">\n",
       "      <th></th>\n",
       "      <th>event_name</th>\n",
       "      <th>cnt_B</th>\n",
       "      <th>previous_B</th>\n",
       "      <th>churn_rate_B</th>\n",
       "    </tr>\n",
       "  </thead>\n",
       "  <tbody>\n",
       "    <tr>\n",
       "      <th>0</th>\n",
       "      <td>login</td>\n",
       "      <td>706</td>\n",
       "      <td>0</td>\n",
       "      <td>0.00</td>\n",
       "    </tr>\n",
       "    <tr>\n",
       "      <th>1</th>\n",
       "      <td>product_page</td>\n",
       "      <td>397</td>\n",
       "      <td>706</td>\n",
       "      <td>43.77</td>\n",
       "    </tr>\n",
       "    <tr>\n",
       "      <th>2</th>\n",
       "      <td>product_cart</td>\n",
       "      <td>195</td>\n",
       "      <td>397</td>\n",
       "      <td>50.88</td>\n",
       "    </tr>\n",
       "    <tr>\n",
       "      <th>3</th>\n",
       "      <td>purchase</td>\n",
       "      <td>198</td>\n",
       "      <td>195</td>\n",
       "      <td>-1.54</td>\n",
       "    </tr>\n",
       "  </tbody>\n",
       "</table>\n",
       "</div>"
      ],
      "text/plain": [
       "     event_name  cnt_B  previous_B  churn_rate_B\n",
       "0         login    706           0          0.00\n",
       "1  product_page    397         706         43.77\n",
       "2  product_cart    195         397         50.88\n",
       "3      purchase    198         195         -1.54"
      ]
     },
     "execution_count": 45,
     "metadata": {},
     "output_type": "execute_result"
    }
   ],
   "source": [
    "# сгруппируем по пользователям из группы B\n",
    "test_B_funnel = test_B.groupby('event_name').agg({'user_id': 'nunique'}) \\\n",
    "    .rename(columns={'user_id': 'cnt_B'}).sort_values(by='cnt_B', ascending=False) \\\n",
    "    .reset_index()\n",
    "    \n",
    "# зададим индекс вручную\n",
    "test_B_funnel.index=[0, 1, 3, 2]\n",
    "test_B_funnel = test_B_funnel.sort_index(ascending=True)\n",
    "\n",
    "# сместим число пользователей для подсчета churn rate\n",
    "test_B_funnel['previous_B'] = test_B_funnel['cnt_B'].shift(periods=1, fill_value=0)\n",
    "\n",
    "# посчитаем churn_rate для группы B \n",
    "test_B_funnel['churn_rate_B'] = round((1 - test_B_funnel['cnt_B'] / test_B_funnel['previous_B']) * 100, 2)\n",
    "# отрицательное значение в churn rate заменим на 0\n",
    "test_B_funnel.replace([-np.inf], 0, inplace=True)\n",
    "\n",
    "# посмотрим на воронку группы В\n",
    "test_B_funnel"
   ]
  },
  {
   "cell_type": "code",
   "execution_count": 46,
   "metadata": {},
   "outputs": [],
   "source": [
    "# объединим 2 воронки\n",
    "funnel = test_A_funnel.merge(test_B_funnel, on='event_name', how='left')\n",
    "funnel = funnel[['event_name', 'cnt_A', 'churn_rate_A', 'cnt_B', 'churn_rate_B']]\n",
    "#funnel"
   ]
  },
  {
   "cell_type": "code",
   "execution_count": 47,
   "metadata": {},
   "outputs": [
    {
     "data": {
      "text/html": [
       "<div>\n",
       "<style scoped>\n",
       "    .dataframe tbody tr th:only-of-type {\n",
       "        vertical-align: middle;\n",
       "    }\n",
       "\n",
       "    .dataframe tbody tr th {\n",
       "        vertical-align: top;\n",
       "    }\n",
       "\n",
       "    .dataframe thead th {\n",
       "        text-align: right;\n",
       "    }\n",
       "</style>\n",
       "<table border=\"1\" class=\"dataframe\">\n",
       "  <thead>\n",
       "    <tr style=\"text-align: right;\">\n",
       "      <th></th>\n",
       "      <th>event_name</th>\n",
       "      <th>cnt_A</th>\n",
       "      <th>churn_rate_A</th>\n",
       "      <th>cnt_B</th>\n",
       "      <th>churn_rate_B</th>\n",
       "      <th>difference_churn</th>\n",
       "    </tr>\n",
       "  </thead>\n",
       "  <tbody>\n",
       "    <tr>\n",
       "      <th>0</th>\n",
       "      <td>login</td>\n",
       "      <td>2082</td>\n",
       "      <td>0.00</td>\n",
       "      <td>706</td>\n",
       "      <td>0.00</td>\n",
       "      <td>0.00</td>\n",
       "    </tr>\n",
       "    <tr>\n",
       "      <th>1</th>\n",
       "      <td>product_page</td>\n",
       "      <td>1360</td>\n",
       "      <td>34.68</td>\n",
       "      <td>397</td>\n",
       "      <td>43.77</td>\n",
       "      <td>9.09</td>\n",
       "    </tr>\n",
       "    <tr>\n",
       "      <th>2</th>\n",
       "      <td>product_cart</td>\n",
       "      <td>631</td>\n",
       "      <td>53.60</td>\n",
       "      <td>195</td>\n",
       "      <td>50.88</td>\n",
       "      <td>-2.72</td>\n",
       "    </tr>\n",
       "    <tr>\n",
       "      <th>3</th>\n",
       "      <td>purchase</td>\n",
       "      <td>652</td>\n",
       "      <td>-3.33</td>\n",
       "      <td>198</td>\n",
       "      <td>-1.54</td>\n",
       "      <td>1.79</td>\n",
       "    </tr>\n",
       "  </tbody>\n",
       "</table>\n",
       "</div>"
      ],
      "text/plain": [
       "     event_name  cnt_A  churn_rate_A  cnt_B  churn_rate_B  difference_churn\n",
       "0         login   2082          0.00    706          0.00              0.00\n",
       "1  product_page   1360         34.68    397         43.77              9.09\n",
       "2  product_cart    631         53.60    195         50.88             -2.72\n",
       "3      purchase    652         -3.33    198         -1.54              1.79"
      ]
     },
     "execution_count": 47,
     "metadata": {},
     "output_type": "execute_result"
    }
   ],
   "source": [
    "# создадим столбец, показывающий различия в конверсии между группами\n",
    "funnel['difference_churn'] = funnel['churn_rate_B'] - funnel['churn_rate_A']\n",
    "\n",
    "# посмотрим на получившуюся воронку\n",
    "funnel"
   ]
  },
  {
   "cell_type": "markdown",
   "metadata": {},
   "source": [
    "Коэффициент отскока у группы В по событию `product_page` стал выше на 9.21%. Также коэффициент отскока у группы В стал выше по событию `purchase` стал выше на 0.27%.\n",
    "Только по событию `product_cart` коэффициент отскока у группы В стал ниже на 3.58%.\n",
    " \n",
    "Итак, у группы В (новая платёжная воронка) метрики за 14 дней с момента регистрации пользователей в системе не улучшились на 10%. Даже произошло ухудшение показателей."
   ]
  },
  {
   "cell_type": "markdown",
   "metadata": {},
   "source": [
    "### Выводы по главе"
   ]
  },
  {
   "cell_type": "markdown",
   "metadata": {},
   "source": [
    "**Выводы:**\n",
    "1. В данных было пересечение пользователей по АВ-тесту 'recommender_system_test' с другим тестом 'interface_eu_test'. Такие пользователи были исключены, так как могут повлиять на результат АВ-теста. \n",
    "2. Также в датафрейме, содержащем пользователей, зарегистрировавшихся в интернет-магазине в период с 7 по 21 декабря 2020 года, есть пользователи, зарегистрированные уже после остановки набора пользователей: 21 декабря. Но в данных, отобранных для исследования, даты начала и остановки набора новых пользователей соответсвуют ТЗ: с 7 по 21 декабря.\n",
    "3. Условие 15% новых пользователей из региона EU не выполняется, в датасете с данными по тесту остается только 11.22% новых пользователей из региона EU.\n",
    "4. Пересечений пользователей между группами A и B в тесте \"recommender_system_test\" нет.\n",
    "5. Временные рамки теста с 7 по 30 декабря 2020 года. Но видно, что события по тесту заканчиваются 30 декабря, а по плану тест должен идти до 4 января. Тест закончился раньше времени.\n",
    "6. Была сделана фильтрация событий пользователей по lifetime. Были оставлены события у пользователей с максимальным lifetime равным 14 дней.\n",
    "7. Пересечение АВ-теста и маркетинговой акции начинается только с 25 декабря в регионе EU. К этому моменту активность пользователей уже низка, пик событий пройден. Если мы будем удалять пересечения данных с промоакцией, мы также удалим данные по АВ-тесту. Данные, которые пересекаются с промоакцией \"Christmas&New Year Promo\" с 25 декабря удалять не будем, т.к. это может повлиять на результат АВ-теста. \n",
    "8. В группе В больше пользователей имеющих 0 событий по сравнению с группой А. Cреднее количество событий на пользователя в группе А больше, чем в группе В. Это подтверждено и статистически.\n",
    "9. В группе А число событий больше, чем в группе В. В группе А ярко выражен пик событий в период с 14 по 21 декабря. В группе В выраженого пика нет. Пик событий в группе А с 14 по 21 декабря связан с большим числом регистраций пользователей в эти дни из группы А и их входом в систему(событие login)\n",
    "10. Коэффициент отскока у группы В по событию `product_page` стал выше на 9.21%. Также коэффициент отскока у группы В стал выше по событию `purchase` стал выше на 0.27%. Только по событию `product_cart` коэффициент отскока у группы В стал ниже на 3.58%.  У группы В (новая платёжная воронка) метрики за 14 дней с момента регистрации пользователей в системе не улучшились на 10%. Даже произошло ухудшение показателей."
   ]
  },
  {
   "cell_type": "markdown",
   "metadata": {},
   "source": [
    "## Оценка результатов A/B-тестирования"
   ]
  },
  {
   "cell_type": "markdown",
   "metadata": {},
   "source": [
    "Чтобы проверить статистическую разницы между группами будем использовать z-тест, который проверяет гипотезу о равенстве долей.\n",
    "\n",
    "Напишем функцию, для проверки статистической разницы долей z-критерием.\n",
    "\n",
    "Сформулируем гипотезы:\n",
    "\n",
    "- *H0: Доля пользователей в группе А, совершивших событие = Доле пользователей в группе В, совершивших событие.*\n",
    "\n",
    "- *H1: Доля пользователей в группе А, совершивших событие ≠ Доле пользователей в группе В, совершивших событие.*"
   ]
  },
  {
   "cell_type": "code",
   "execution_count": 48,
   "metadata": {},
   "outputs": [],
   "source": [
    "# создадим функцию для проверки статистической разницы между группами А и В\n",
    "def test_ab (data, groupA_cnt, groupB_cnt, alpha = 0.05):\n",
    "    \"\"\"\n",
    "    функция проверяет равенство долей между группами с помощью z-критерия \n",
    "    и возвращает результат о наличии статистической разницы между группами\n",
    "    функция принимает на вход воронку с показателями групп А и В и размер групп А и В\n",
    "    критический уровень статистической значимости по умолчанию задается как alpha = 0.05\n",
    "    \n",
    "    \"\"\"\n",
    "    \n",
    "    # задаем поправку Бонферрони, число сравнений узнаем измерив длину столбца с событиями для теста\n",
    "    m = len(data['event_name'])\n",
    "    alpha = alpha / m\n",
    "    \n",
    "    # зададим счетчик для перемещения по столбцу\n",
    "    i = 0\n",
    "    \n",
    "    for event in data['event_name']:\n",
    "        # наблюдаемая величина в 1 и 2 группе\n",
    "        s1 = data.loc[i, 'cnt_A']\n",
    "        s2 = data.loc[i, 'cnt_B']\n",
    "        \n",
    "        # увеличиваем значение счетчика\n",
    "        i = i + 1\n",
    "        \n",
    "        # размеры выборок 1 и 2 групп\n",
    "        n1 = groupA_cnt\n",
    "        n2 = groupB_cnt\n",
    "\n",
    "        # пропорция, наблюдаемая в 1 группе\n",
    "        p1 = s1 / n1\n",
    "\n",
    "        # пропорция, наблюдаемая во 2 группе\n",
    "        p2 = s2 / n2\n",
    "        \n",
    "        print(s1, s2, n1, n2)\n",
    "\n",
    "        # пропорция в скомбинированной выборке\n",
    "        p_combined = (s1 + s2) / (n1 + n2)\n",
    "\n",
    "        # разница пропорций в выборках\n",
    "        difference = p1 - p2\n",
    "\n",
    "        # считаем статистику в ст.отклонениях стандартного нормального распределения\n",
    "        z_value = difference / mth.sqrt(p_combined * (1 - p_combined) * (1 / n1 + 1 / n2))\n",
    "\n",
    "\n",
    "        # задаем стандартное нормальное распределение (среднее 0, ст.отклонение 1)\n",
    "        distr = st.norm(0, 1)\n",
    "\n",
    "        p_value = (1 - distr.cdf(abs(z_value))) * 2\n",
    "\n",
    "        if p_value < alpha:\n",
    "            print(f'Отвергаем нулевую гипотезу: \\nмежду группами А и В есть значимая разница между долями по событию {event} \\nпри уровне значимости {alpha} с учетом поправки Бонферрони в размере {m} сравнений')\n",
    "            print('p-значение: ', round(p_value))\n",
    "        else:\n",
    "            print(\n",
    "                f'Не получилось отвергнуть нулевую гипотезу, \\nнет оснований считать группы А и В разными по долям по событию {event} \\nпри уровне значимости {alpha} с учетом поправки Бонферрони в размере {m} сравнений')\n",
    "            print('p-значение: ', round(p_value)) "
   ]
  },
  {
   "cell_type": "code",
   "execution_count": 49,
   "metadata": {},
   "outputs": [
    {
     "name": "stdout",
     "output_type": "stream",
     "text": [
      "2082 706 2903 2196\n",
      "Отвергаем нулевую гипотезу: \n",
      "между группами А и В есть значимая разница между долями по событию login \n",
      "при уровне значимости 0.0125 с учетом поправки Бонферрони в размере 4 сравнений\n",
      "p-значение:  0\n",
      "1360 397 2903 2196\n",
      "Отвергаем нулевую гипотезу: \n",
      "между группами А и В есть значимая разница между долями по событию product_page \n",
      "при уровне значимости 0.0125 с учетом поправки Бонферрони в размере 4 сравнений\n",
      "p-значение:  0\n",
      "631 195 2903 2196\n",
      "Отвергаем нулевую гипотезу: \n",
      "между группами А и В есть значимая разница между долями по событию product_cart \n",
      "при уровне значимости 0.0125 с учетом поправки Бонферрони в размере 4 сравнений\n",
      "p-значение:  0\n",
      "652 198 2903 2196\n",
      "Отвергаем нулевую гипотезу: \n",
      "между группами А и В есть значимая разница между долями по событию purchase \n",
      "при уровне значимости 0.0125 с учетом поправки Бонферрони в размере 4 сравнений\n",
      "p-значение:  0\n"
     ]
    }
   ],
   "source": [
    "# проверим статистическую разницу по события воронки в группах А и В\n",
    "test_ab(funnel, test_A_cnt, test_B_cnt)"
   ]
  },
  {
   "cell_type": "markdown",
   "metadata": {},
   "source": [
    "Мы проверили статистическую разницу между группами А и В по 4 событиям из воронки: `login`, `product_page`, `product_cart` и `purchase`. Для корректировки уровня значимости при множественном тестировании гипотез применили поправку Бонферрони в статистическом тесте.\n",
    "\n",
    "По всем 4 событиям значение p-value меньше уровня критической значимости в 5%. Поэтому мы отвергаем нулевые гипотезы.\n",
    "\n",
    "Итак, мы принимаем по всем 4 событиям из воронки альтернативные гипотезы, что *Доля пользователей в группе А, совершивших событие ≠ Доле пользователей в группе В, совершивших событие*."
   ]
  },
  {
   "cell_type": "markdown",
   "metadata": {},
   "source": [
    "### Выводы по главе"
   ]
  },
  {
   "cell_type": "markdown",
   "metadata": {},
   "source": [
    "**Выводы:**\n",
    "1. Были сформулированы и проверены статистические гипотезы.\n",
    "2. Мы принимаем по всем 4 событиям из воронки (`login`, `product_page`, `product_cart` и `purchase`) альтернативные гипотезы, что *Доля пользователей в группе А, совершивших событие ≠ Доле пользователей в группе В, совершивших событие*."
   ]
  },
  {
   "cell_type": "markdown",
   "metadata": {},
   "source": [
    "## Общий вывод по исследованию"
   ]
  },
  {
   "cell_type": "markdown",
   "metadata": {},
   "source": [
    "**Выводы:**\n",
    "1. Файлы с данными были загружены и просмотрены. Была изучена общая информация о датафреймах.\n",
    "2. Были исправлены неверные типы данных object на правильные типы datetime64 в датафреймах `marketing`, `finish_dt` и `events`. Типы данных у столбцов соответствуют хранящимся в них значениям.\n",
    "3. Пропуски замечены только в датафрейме `events`. При это пропуски имеются только по дополнительным данным о событии, которые не являются покупкой. Поэтому пропуски заполнять не будем.\n",
    "4. В датафреймах дубликатов нет.\n",
    "5. В данных было пересечение пользователей по АВ-тесту 'recommender_system_test' с другим тестом 'interface_eu_test'. Такие пользователи были исключены, так как могут повлиять на результат АВ-теста. Пересечений пользователей между группами A и B в тесте \"recommender_system_test\" нет. \n",
    "6. Также в датафрейме, содержащем пользователей, зарегистрировавшихся в интернет-магазине в период с 7 по 21 декабря 2020 года, есть пользователи, зарегистрированные уже после остановки набора пользователей: 21 декабря. Но в данных, отобранных для исследования, даты начала и остановки набора новых пользователей соответсвуют ТЗ: с 7 по 21 декабря.\n",
    "7. Условие 15% новых пользователей из региона EU не выполняется, в датасете с данными по тесту остается только 11.22% новых пользователей из региона EU.\n",
    "8. Временные рамки теста с 7 по 30 декабря 2020 года. Но видно, что события по тесту заканчиваются 30 декабря, а по плану тест должен идти до 4 января. Тест закончился раньше времени.\n",
    "9. Была сделана фильтрация событий пользователей по lifetime. Были оставлены события у пользователей с максимальным lifetime равным 14 дней.\n",
    "10. Пересечение АВ-теста и маркетинговой акции начинается только с 25 декабря в регионе EU. К этому моменту активность пользователей уже низка, пик событий пройден. Данные, которые пересекаются с промоакцией \"Christmas&New Year Promo\" с 25 декабря не удалялись, т.к. это может повлиять на результат АВ-теста. \n",
    "11. В группе В больше пользователей имеющих 0 событий по сравнению с группой А. Cреднее количество событий на пользователя в группе А больше, чем в группе В. Это подтверждено и статистически.\n",
    "12. В группе А число событий больше, чем в группе В. В группе А ярко выражен пик событий в период с 14 по 21 декабря. В группе В выраженого пика нет. Пик событий в группе А с 14 по 21 декабря связан с большим числом регистраций пользователей в эти дни из группы А и их входом в систему(событие login).\n",
    "13. Коэффициент отскока у группы В по событию `product_page` стал выше на 9.21%. Также коэффициент отскока у группы В стал выше по событию `purchase` стал выше на 0.27%. Только по событию `product_cart` коэффициент отскока у группы В стал ниже на 3.58%.  У группы В (новая платёжная воронка) метрики за 14 дней с момента регистрации пользователей в системе не улучшились на 10%. Даже произошло ухудшение показателей.\n",
    "14. Были сформулированы и проверены статистические гипотезы. Мы принимаем по всем 4 событиям из воронки (`login`, `product_page`, `product_cart` и `purchase`) альтернативные гипотезы, что *Доля пользователей в группе А, совершивших событие ≠ Доле пользователей в группе В, совершивших событие*.\n",
    "\n",
    "**Итак, считаем, что АВ-тест 'recommender_system_test' выполнен не корректно.** \n",
    "Так как тест захватывает события только по 30 декабря и не выдержана доля 15% пользователей из региона EU. Также тестовые группы А и В отличаются сильно по среднему количество событий на пользователя. Также в группе А есть увеличение числа регистраций с 14 по 21 число."
   ]
  },
  {
   "cell_type": "markdown",
   "metadata": {},
   "source": [
    "### Рекомендации"
   ]
  },
  {
   "cell_type": "markdown",
   "metadata": {},
   "source": [
    "1. На данный момент по результатам АВ-теста 'recommender_system_test' не следует принимать новую платежную воронку, т.к. улучшений она не принесла. Это показало и исследование данных, и статистическое исследование.\n",
    "2. При этом заметно даже ухудшение показателей в новой воронке.\n",
    "3. С учетом того, что АВ-тест 'recommender_system_test' выполнен не корректно, его следует провести заново. И на основе корректного результата АВ-теста еще раз пересмотреть решение. "
   ]
  }
 ],
 "metadata": {
  "ExecuteTimeLog": [
   {
    "duration": 431,
    "start_time": "2022-12-28T12:47:39.471Z"
   },
   {
    "duration": 1433,
    "start_time": "2022-12-28T12:49:39.347Z"
   },
   {
    "duration": 1374,
    "start_time": "2022-12-28T12:50:04.472Z"
   },
   {
    "duration": 33,
    "start_time": "2022-12-28T12:50:06.714Z"
   },
   {
    "duration": 1009,
    "start_time": "2022-12-28T12:50:51.519Z"
   },
   {
    "duration": 26,
    "start_time": "2022-12-28T12:50:53.569Z"
   },
   {
    "duration": 110,
    "start_time": "2022-12-28T12:54:49.981Z"
   },
   {
    "duration": 28,
    "start_time": "2022-12-28T12:54:53.652Z"
   },
   {
    "duration": 27,
    "start_time": "2022-12-28T12:55:38.582Z"
   },
   {
    "duration": 6,
    "start_time": "2022-12-28T12:58:39.654Z"
   },
   {
    "duration": 45,
    "start_time": "2022-12-29T12:01:51.674Z"
   },
   {
    "duration": 409,
    "start_time": "2022-12-29T12:01:56.889Z"
   },
   {
    "duration": 1525,
    "start_time": "2022-12-29T12:01:57.300Z"
   },
   {
    "duration": 32,
    "start_time": "2022-12-29T12:01:58.827Z"
   },
   {
    "duration": 5,
    "start_time": "2022-12-29T12:01:58.861Z"
   },
   {
    "duration": 743,
    "start_time": "2022-12-29T14:03:45.287Z"
   },
   {
    "duration": 1164,
    "start_time": "2022-12-29T14:09:14.146Z"
   },
   {
    "duration": 32,
    "start_time": "2022-12-29T14:09:16.015Z"
   },
   {
    "duration": 1567,
    "start_time": "2022-12-29T14:10:53.542Z"
   },
   {
    "duration": 34,
    "start_time": "2022-12-29T14:15:53.317Z"
   },
   {
    "duration": 21,
    "start_time": "2022-12-29T14:17:42.000Z"
   },
   {
    "duration": 94,
    "start_time": "2022-12-29T14:19:56.032Z"
   },
   {
    "duration": 573,
    "start_time": "2022-12-29T14:27:24.060Z"
   },
   {
    "duration": 494,
    "start_time": "2022-12-29T14:28:13.872Z"
   },
   {
    "duration": 2,
    "start_time": "2022-12-29T14:38:05.417Z"
   },
   {
    "duration": 7,
    "start_time": "2022-12-29T14:39:32.683Z"
   },
   {
    "duration": 13,
    "start_time": "2022-12-29T14:39:34.408Z"
   },
   {
    "duration": 46,
    "start_time": "2022-12-29T14:39:36.272Z"
   },
   {
    "duration": 8,
    "start_time": "2022-12-29T14:39:38.650Z"
   },
   {
    "duration": 27,
    "start_time": "2022-12-29T14:41:12.374Z"
   },
   {
    "duration": 22,
    "start_time": "2022-12-29T14:41:29.042Z"
   },
   {
    "duration": 67,
    "start_time": "2022-12-29T14:41:46.774Z"
   },
   {
    "duration": 38,
    "start_time": "2022-12-29T14:41:57.537Z"
   },
   {
    "duration": 23,
    "start_time": "2022-12-29T14:42:19.367Z"
   },
   {
    "duration": 21,
    "start_time": "2022-12-29T14:43:29.719Z"
   },
   {
    "duration": 34,
    "start_time": "2022-12-29T14:44:25.885Z"
   },
   {
    "duration": 896,
    "start_time": "2022-12-29T14:44:47.232Z"
   },
   {
    "duration": 42,
    "start_time": "2022-12-29T14:45:00.295Z"
   },
   {
    "duration": 28,
    "start_time": "2022-12-29T14:45:13.841Z"
   },
   {
    "duration": 5,
    "start_time": "2022-12-29T16:00:18.304Z"
   },
   {
    "duration": 27,
    "start_time": "2022-12-29T16:00:20.152Z"
   },
   {
    "duration": 223,
    "start_time": "2022-12-29T16:00:22.169Z"
   },
   {
    "duration": 9,
    "start_time": "2022-12-29T16:00:23.806Z"
   },
   {
    "duration": 618,
    "start_time": "2022-12-29T16:01:45.708Z"
   },
   {
    "duration": 2,
    "start_time": "2022-12-29T16:01:46.328Z"
   },
   {
    "duration": 556,
    "start_time": "2022-12-29T16:01:46.332Z"
   },
   {
    "duration": 27,
    "start_time": "2022-12-29T16:01:46.890Z"
   },
   {
    "duration": 87,
    "start_time": "2022-12-29T16:01:46.918Z"
   },
   {
    "duration": 586,
    "start_time": "2022-12-29T16:01:47.007Z"
   },
   {
    "duration": 6,
    "start_time": "2022-12-29T16:01:47.595Z"
   },
   {
    "duration": 27,
    "start_time": "2022-12-29T16:01:47.602Z"
   },
   {
    "duration": 62,
    "start_time": "2022-12-29T16:01:47.631Z"
   },
   {
    "duration": 7,
    "start_time": "2022-12-29T16:01:47.696Z"
   },
   {
    "duration": 32,
    "start_time": "2022-12-29T16:01:47.704Z"
   },
   {
    "duration": 21,
    "start_time": "2022-12-29T16:01:47.737Z"
   },
   {
    "duration": 39,
    "start_time": "2022-12-29T16:01:47.759Z"
   },
   {
    "duration": 53,
    "start_time": "2022-12-29T16:01:47.800Z"
   },
   {
    "duration": 72,
    "start_time": "2022-12-29T16:01:47.854Z"
   },
   {
    "duration": 0,
    "start_time": "2022-12-29T16:01:47.928Z"
   },
   {
    "duration": 0,
    "start_time": "2022-12-29T16:01:47.930Z"
   },
   {
    "duration": 0,
    "start_time": "2022-12-29T16:01:47.930Z"
   },
   {
    "duration": 0,
    "start_time": "2022-12-29T16:01:47.931Z"
   },
   {
    "duration": 0,
    "start_time": "2022-12-29T16:01:47.932Z"
   },
   {
    "duration": 0,
    "start_time": "2022-12-29T16:01:47.933Z"
   },
   {
    "duration": 66,
    "start_time": "2022-12-29T16:02:10.248Z"
   },
   {
    "duration": 0,
    "start_time": "2022-12-29T16:02:10.316Z"
   },
   {
    "duration": 0,
    "start_time": "2022-12-29T16:02:10.317Z"
   },
   {
    "duration": 0,
    "start_time": "2022-12-29T16:02:10.318Z"
   },
   {
    "duration": 0,
    "start_time": "2022-12-29T16:02:10.319Z"
   },
   {
    "duration": 0,
    "start_time": "2022-12-29T16:02:10.320Z"
   },
   {
    "duration": 5,
    "start_time": "2022-12-29T16:02:17.436Z"
   },
   {
    "duration": 30,
    "start_time": "2022-12-29T16:02:17.443Z"
   },
   {
    "duration": 246,
    "start_time": "2022-12-29T16:02:17.474Z"
   },
   {
    "duration": 11,
    "start_time": "2022-12-29T16:02:17.722Z"
   },
   {
    "duration": 5,
    "start_time": "2022-12-29T16:02:17.734Z"
   },
   {
    "duration": 611,
    "start_time": "2022-12-29T16:22:09.337Z"
   },
   {
    "duration": 3,
    "start_time": "2022-12-29T16:22:09.950Z"
   },
   {
    "duration": 567,
    "start_time": "2022-12-29T16:22:09.955Z"
   },
   {
    "duration": 26,
    "start_time": "2022-12-29T16:22:10.523Z"
   },
   {
    "duration": 104,
    "start_time": "2022-12-29T16:22:10.551Z"
   },
   {
    "duration": 586,
    "start_time": "2022-12-29T16:22:10.657Z"
   },
   {
    "duration": 5,
    "start_time": "2022-12-29T16:22:11.244Z"
   },
   {
    "duration": 17,
    "start_time": "2022-12-29T16:22:11.251Z"
   },
   {
    "duration": 63,
    "start_time": "2022-12-29T16:22:11.270Z"
   },
   {
    "duration": 7,
    "start_time": "2022-12-29T16:22:11.334Z"
   },
   {
    "duration": 33,
    "start_time": "2022-12-29T16:22:11.342Z"
   },
   {
    "duration": 20,
    "start_time": "2022-12-29T16:22:11.377Z"
   },
   {
    "duration": 58,
    "start_time": "2022-12-29T16:22:11.399Z"
   },
   {
    "duration": 31,
    "start_time": "2022-12-29T16:22:11.460Z"
   },
   {
    "duration": 5,
    "start_time": "2022-12-29T16:22:11.493Z"
   },
   {
    "duration": 60,
    "start_time": "2022-12-29T16:22:11.499Z"
   },
   {
    "duration": 281,
    "start_time": "2022-12-29T16:22:11.560Z"
   },
   {
    "duration": 10,
    "start_time": "2022-12-29T16:22:11.843Z"
   },
   {
    "duration": 5,
    "start_time": "2022-12-29T16:22:11.855Z"
   },
   {
    "duration": 4,
    "start_time": "2022-12-29T16:41:00.130Z"
   },
   {
    "duration": 85,
    "start_time": "2022-12-29T16:41:33.890Z"
   },
   {
    "duration": 79,
    "start_time": "2022-12-29T16:41:57.794Z"
   },
   {
    "duration": 128,
    "start_time": "2022-12-29T16:42:11.315Z"
   },
   {
    "duration": 25,
    "start_time": "2022-12-29T16:42:35.290Z"
   },
   {
    "duration": 26,
    "start_time": "2022-12-29T16:42:44.383Z"
   },
   {
    "duration": 26,
    "start_time": "2022-12-29T16:42:47.784Z"
   },
   {
    "duration": 28,
    "start_time": "2022-12-29T16:42:52.779Z"
   },
   {
    "duration": 118,
    "start_time": "2022-12-29T16:42:57.657Z"
   },
   {
    "duration": 20,
    "start_time": "2022-12-29T16:43:58.507Z"
   },
   {
    "duration": 30,
    "start_time": "2022-12-29T16:45:21.483Z"
   },
   {
    "duration": 29,
    "start_time": "2022-12-29T16:45:44.534Z"
   },
   {
    "duration": 26,
    "start_time": "2022-12-29T16:47:34.578Z"
   },
   {
    "duration": 30,
    "start_time": "2022-12-29T16:49:56.099Z"
   },
   {
    "duration": 7,
    "start_time": "2022-12-29T16:56:37.590Z"
   },
   {
    "duration": 4,
    "start_time": "2022-12-29T16:56:42.294Z"
   },
   {
    "duration": 15,
    "start_time": "2022-12-29T16:56:49.382Z"
   },
   {
    "duration": 132,
    "start_time": "2022-12-29T16:56:57.573Z"
   },
   {
    "duration": 168,
    "start_time": "2022-12-29T16:57:07.347Z"
   },
   {
    "duration": 161,
    "start_time": "2022-12-29T16:57:16.403Z"
   },
   {
    "duration": 204,
    "start_time": "2022-12-29T16:58:18.728Z"
   },
   {
    "duration": 169,
    "start_time": "2022-12-29T16:58:26.086Z"
   },
   {
    "duration": 167,
    "start_time": "2022-12-29T16:58:54.029Z"
   },
   {
    "duration": 50,
    "start_time": "2022-12-29T17:19:05.707Z"
   },
   {
    "duration": 744,
    "start_time": "2022-12-29T17:19:11.442Z"
   },
   {
    "duration": 3,
    "start_time": "2022-12-29T17:19:12.188Z"
   },
   {
    "duration": 2390,
    "start_time": "2022-12-29T17:19:12.192Z"
   },
   {
    "duration": 33,
    "start_time": "2022-12-29T17:19:14.584Z"
   },
   {
    "duration": 100,
    "start_time": "2022-12-29T17:19:14.619Z"
   },
   {
    "duration": 651,
    "start_time": "2022-12-29T17:19:14.720Z"
   },
   {
    "duration": 94,
    "start_time": "2022-12-29T17:19:15.372Z"
   },
   {
    "duration": 14,
    "start_time": "2022-12-29T17:19:15.467Z"
   },
   {
    "duration": 13,
    "start_time": "2022-12-29T17:19:15.483Z"
   },
   {
    "duration": 33,
    "start_time": "2022-12-29T17:19:15.498Z"
   },
   {
    "duration": 7,
    "start_time": "2022-12-29T17:19:15.532Z"
   },
   {
    "duration": 55,
    "start_time": "2022-12-29T17:19:15.541Z"
   },
   {
    "duration": 6,
    "start_time": "2022-12-29T17:19:15.597Z"
   },
   {
    "duration": 33,
    "start_time": "2022-12-29T17:19:15.604Z"
   },
   {
    "duration": 209,
    "start_time": "2022-12-29T17:19:15.639Z"
   },
   {
    "duration": 10,
    "start_time": "2022-12-29T17:19:15.850Z"
   },
   {
    "duration": 183,
    "start_time": "2022-12-29T17:19:15.861Z"
   },
   {
    "duration": 35,
    "start_time": "2022-12-29T17:19:16.045Z"
   },
   {
    "duration": 73,
    "start_time": "2022-12-29T17:19:16.081Z"
   },
   {
    "duration": 0,
    "start_time": "2022-12-29T17:19:16.156Z"
   },
   {
    "duration": 0,
    "start_time": "2022-12-29T17:19:16.157Z"
   },
   {
    "duration": 0,
    "start_time": "2022-12-29T17:19:16.159Z"
   },
   {
    "duration": 0,
    "start_time": "2022-12-29T17:19:16.161Z"
   },
   {
    "duration": 5,
    "start_time": "2022-12-29T17:20:19.458Z"
   },
   {
    "duration": 5,
    "start_time": "2022-12-29T17:20:25.188Z"
   },
   {
    "duration": 9,
    "start_time": "2022-12-29T17:20:33.155Z"
   },
   {
    "duration": 121,
    "start_time": "2022-12-29T17:26:33.461Z"
   },
   {
    "duration": 156,
    "start_time": "2022-12-29T17:27:57.586Z"
   },
   {
    "duration": 175,
    "start_time": "2022-12-29T17:28:04.305Z"
   },
   {
    "duration": 3,
    "start_time": "2022-12-29T17:29:53.393Z"
   },
   {
    "duration": 7,
    "start_time": "2022-12-29T17:30:16.944Z"
   },
   {
    "duration": 209,
    "start_time": "2022-12-29T17:30:40.775Z"
   },
   {
    "duration": 8,
    "start_time": "2022-12-29T17:30:43.657Z"
   },
   {
    "duration": 15,
    "start_time": "2022-12-29T17:31:24.958Z"
   },
   {
    "duration": 7,
    "start_time": "2022-12-29T17:32:48.509Z"
   },
   {
    "duration": 169,
    "start_time": "2022-12-29T17:34:07.351Z"
   },
   {
    "duration": 7,
    "start_time": "2022-12-29T17:34:12.173Z"
   },
   {
    "duration": 9,
    "start_time": "2022-12-29T17:38:21.861Z"
   },
   {
    "duration": 73,
    "start_time": "2022-12-29T17:38:42.021Z"
   },
   {
    "duration": 12,
    "start_time": "2022-12-29T17:38:48.612Z"
   },
   {
    "duration": 18,
    "start_time": "2022-12-29T17:39:31.307Z"
   },
   {
    "duration": 18,
    "start_time": "2022-12-29T17:39:35.334Z"
   },
   {
    "duration": 9,
    "start_time": "2022-12-29T17:39:40.317Z"
   },
   {
    "duration": 16,
    "start_time": "2022-12-29T17:39:43.859Z"
   },
   {
    "duration": 71,
    "start_time": "2022-12-29T17:40:37.668Z"
   },
   {
    "duration": 10,
    "start_time": "2022-12-29T17:40:41.653Z"
   },
   {
    "duration": 173,
    "start_time": "2022-12-29T17:40:54.298Z"
   },
   {
    "duration": 202,
    "start_time": "2022-12-29T17:40:59.921Z"
   },
   {
    "duration": 11,
    "start_time": "2022-12-29T17:41:02.221Z"
   },
   {
    "duration": 201,
    "start_time": "2022-12-29T17:41:17.605Z"
   },
   {
    "duration": 171,
    "start_time": "2022-12-29T17:41:51.903Z"
   },
   {
    "duration": 11,
    "start_time": "2022-12-29T17:41:54.855Z"
   },
   {
    "duration": 9,
    "start_time": "2022-12-29T17:41:59.506Z"
   },
   {
    "duration": 616,
    "start_time": "2022-12-29T18:34:11.793Z"
   },
   {
    "duration": 2,
    "start_time": "2022-12-29T18:34:12.411Z"
   },
   {
    "duration": 604,
    "start_time": "2022-12-29T18:34:12.416Z"
   },
   {
    "duration": 27,
    "start_time": "2022-12-29T18:34:13.022Z"
   },
   {
    "duration": 90,
    "start_time": "2022-12-29T18:34:13.051Z"
   },
   {
    "duration": 645,
    "start_time": "2022-12-29T18:34:13.143Z"
   },
   {
    "duration": 120,
    "start_time": "2022-12-29T18:34:13.789Z"
   },
   {
    "duration": 8,
    "start_time": "2022-12-29T18:34:13.911Z"
   },
   {
    "duration": 41,
    "start_time": "2022-12-29T18:34:13.921Z"
   },
   {
    "duration": 64,
    "start_time": "2022-12-29T18:34:13.966Z"
   },
   {
    "duration": 11,
    "start_time": "2022-12-29T18:34:14.032Z"
   },
   {
    "duration": 59,
    "start_time": "2022-12-29T18:34:14.045Z"
   },
   {
    "duration": 8,
    "start_time": "2022-12-29T18:34:14.106Z"
   },
   {
    "duration": 44,
    "start_time": "2022-12-29T18:34:14.116Z"
   },
   {
    "duration": 230,
    "start_time": "2022-12-29T18:34:14.162Z"
   },
   {
    "duration": 10,
    "start_time": "2022-12-29T18:34:14.394Z"
   },
   {
    "duration": 209,
    "start_time": "2022-12-29T18:34:14.406Z"
   },
   {
    "duration": 22,
    "start_time": "2022-12-29T18:34:14.616Z"
   },
   {
    "duration": 185,
    "start_time": "2022-12-29T18:34:14.640Z"
   },
   {
    "duration": 11,
    "start_time": "2022-12-29T18:34:14.827Z"
   },
   {
    "duration": 8,
    "start_time": "2022-12-29T18:34:14.840Z"
   },
   {
    "duration": 35,
    "start_time": "2022-12-29T18:34:14.850Z"
   },
   {
    "duration": 7,
    "start_time": "2022-12-29T18:34:14.886Z"
   },
   {
    "duration": 6,
    "start_time": "2022-12-29T18:34:14.894Z"
   },
   {
    "duration": 7,
    "start_time": "2022-12-29T18:34:14.902Z"
   },
   {
    "duration": 6,
    "start_time": "2022-12-29T18:34:14.910Z"
   },
   {
    "duration": 4,
    "start_time": "2022-12-29T18:34:14.918Z"
   },
   {
    "duration": 156,
    "start_time": "2022-12-29T18:34:40.676Z"
   },
   {
    "duration": 3,
    "start_time": "2022-12-29T18:38:13.941Z"
   },
   {
    "duration": 13,
    "start_time": "2022-12-29T18:39:13.934Z"
   },
   {
    "duration": 71,
    "start_time": "2022-12-29T18:39:37.310Z"
   },
   {
    "duration": 5,
    "start_time": "2022-12-29T18:39:46.993Z"
   },
   {
    "duration": 195,
    "start_time": "2022-12-29T18:40:00.809Z"
   },
   {
    "duration": 5,
    "start_time": "2022-12-29T18:40:03.311Z"
   },
   {
    "duration": 152,
    "start_time": "2022-12-29T18:40:20.543Z"
   },
   {
    "duration": 11,
    "start_time": "2022-12-29T18:40:22.570Z"
   },
   {
    "duration": 168,
    "start_time": "2022-12-29T18:40:24.964Z"
   },
   {
    "duration": 14,
    "start_time": "2022-12-29T18:40:26.628Z"
   },
   {
    "duration": 185,
    "start_time": "2022-12-29T18:40:35.688Z"
   },
   {
    "duration": 10,
    "start_time": "2022-12-29T18:40:37.954Z"
   },
   {
    "duration": 5,
    "start_time": "2022-12-29T18:40:40.169Z"
   },
   {
    "duration": 6,
    "start_time": "2022-12-29T18:41:09.519Z"
   },
   {
    "duration": 7,
    "start_time": "2022-12-29T18:41:19.682Z"
   },
   {
    "duration": 12,
    "start_time": "2022-12-29T18:41:34.959Z"
   },
   {
    "duration": 9,
    "start_time": "2022-12-29T18:41:39.941Z"
   },
   {
    "duration": 13,
    "start_time": "2022-12-29T18:47:04.019Z"
   },
   {
    "duration": 9,
    "start_time": "2022-12-29T18:47:16.121Z"
   },
   {
    "duration": 11,
    "start_time": "2022-12-29T18:48:05.007Z"
   },
   {
    "duration": 7,
    "start_time": "2022-12-29T18:48:27.223Z"
   },
   {
    "duration": 9,
    "start_time": "2022-12-29T18:48:31.150Z"
   },
   {
    "duration": 11,
    "start_time": "2022-12-29T18:48:43.316Z"
   },
   {
    "duration": 11,
    "start_time": "2022-12-29T18:49:40.221Z"
   },
   {
    "duration": 12,
    "start_time": "2022-12-29T18:52:29.752Z"
   },
   {
    "duration": 13,
    "start_time": "2022-12-29T18:52:35.332Z"
   },
   {
    "duration": 14,
    "start_time": "2022-12-29T18:53:15.045Z"
   },
   {
    "duration": 12,
    "start_time": "2022-12-29T18:53:19.705Z"
   },
   {
    "duration": 12,
    "start_time": "2022-12-29T18:54:37.657Z"
   },
   {
    "duration": 14,
    "start_time": "2022-12-29T18:54:43.746Z"
   },
   {
    "duration": 11,
    "start_time": "2022-12-29T18:57:26.069Z"
   },
   {
    "duration": 12,
    "start_time": "2022-12-29T19:03:33.453Z"
   },
   {
    "duration": 16,
    "start_time": "2022-12-29T19:03:36.793Z"
   },
   {
    "duration": 21,
    "start_time": "2022-12-29T19:07:30.195Z"
   },
   {
    "duration": 7,
    "start_time": "2022-12-29T19:11:29.616Z"
   },
   {
    "duration": 12,
    "start_time": "2022-12-29T19:12:39.697Z"
   },
   {
    "duration": 12,
    "start_time": "2022-12-29T19:12:52.578Z"
   },
   {
    "duration": 191,
    "start_time": "2022-12-29T19:22:32.465Z"
   },
   {
    "duration": 7,
    "start_time": "2022-12-29T19:23:05.418Z"
   },
   {
    "duration": 180,
    "start_time": "2022-12-29T19:23:08.470Z"
   },
   {
    "duration": 15,
    "start_time": "2022-12-29T19:23:12.844Z"
   },
   {
    "duration": 181,
    "start_time": "2022-12-29T19:23:37.595Z"
   },
   {
    "duration": 8,
    "start_time": "2022-12-29T19:23:39.560Z"
   },
   {
    "duration": 7,
    "start_time": "2022-12-29T19:24:14.298Z"
   },
   {
    "duration": 22,
    "start_time": "2022-12-29T19:24:29.943Z"
   },
   {
    "duration": 15,
    "start_time": "2022-12-29T19:24:46.308Z"
   },
   {
    "duration": 84,
    "start_time": "2022-12-29T19:25:05.539Z"
   },
   {
    "duration": 39,
    "start_time": "2022-12-29T19:25:25.244Z"
   },
   {
    "duration": 959,
    "start_time": "2022-12-29T19:26:17.316Z"
   },
   {
    "duration": 1103,
    "start_time": "2022-12-29T19:26:28.312Z"
   },
   {
    "duration": 13,
    "start_time": "2022-12-29T19:27:04.011Z"
   },
   {
    "duration": 42,
    "start_time": "2022-12-29T19:28:16.474Z"
   },
   {
    "duration": 45,
    "start_time": "2022-12-29T19:28:52.774Z"
   },
   {
    "duration": 102,
    "start_time": "2022-12-29T19:29:02.108Z"
   },
   {
    "duration": 50,
    "start_time": "2022-12-29T19:29:16.174Z"
   },
   {
    "duration": 99,
    "start_time": "2022-12-29T19:30:40.602Z"
   },
   {
    "duration": 36,
    "start_time": "2022-12-29T19:31:09.873Z"
   },
   {
    "duration": 4,
    "start_time": "2022-12-29T19:31:22.829Z"
   },
   {
    "duration": 48,
    "start_time": "2022-12-29T19:31:26.528Z"
   },
   {
    "duration": 98,
    "start_time": "2022-12-29T19:32:02.894Z"
   },
   {
    "duration": 9,
    "start_time": "2022-12-29T19:32:35.893Z"
   },
   {
    "duration": 9,
    "start_time": "2022-12-29T19:33:22.043Z"
   },
   {
    "duration": 31,
    "start_time": "2022-12-29T19:33:28.499Z"
   },
   {
    "duration": 23,
    "start_time": "2022-12-29T19:33:38.237Z"
   },
   {
    "duration": 94,
    "start_time": "2022-12-29T19:33:40.338Z"
   },
   {
    "duration": 9,
    "start_time": "2022-12-29T19:33:56.161Z"
   },
   {
    "duration": 39,
    "start_time": "2022-12-29T19:34:11.176Z"
   },
   {
    "duration": 10,
    "start_time": "2022-12-29T19:36:42.769Z"
   },
   {
    "duration": 12,
    "start_time": "2022-12-29T19:36:51.416Z"
   },
   {
    "duration": 11,
    "start_time": "2022-12-29T19:36:54.828Z"
   },
   {
    "duration": 11,
    "start_time": "2022-12-29T19:37:08.958Z"
   },
   {
    "duration": 13,
    "start_time": "2022-12-29T19:37:10.469Z"
   },
   {
    "duration": 9,
    "start_time": "2022-12-29T19:38:13.838Z"
   },
   {
    "duration": 87,
    "start_time": "2022-12-29T19:39:18.630Z"
   },
   {
    "duration": 73,
    "start_time": "2022-12-29T19:39:25.067Z"
   },
   {
    "duration": 72,
    "start_time": "2022-12-29T19:39:32.808Z"
   },
   {
    "duration": 12,
    "start_time": "2022-12-29T19:39:51.684Z"
   },
   {
    "duration": 13,
    "start_time": "2022-12-29T19:40:02.405Z"
   },
   {
    "duration": 79,
    "start_time": "2022-12-29T19:40:18.139Z"
   },
   {
    "duration": 86,
    "start_time": "2022-12-29T19:40:24.812Z"
   },
   {
    "duration": 13,
    "start_time": "2022-12-29T19:40:36.112Z"
   },
   {
    "duration": 11,
    "start_time": "2022-12-29T19:40:54.343Z"
   },
   {
    "duration": 18,
    "start_time": "2022-12-29T19:42:52.191Z"
   },
   {
    "duration": 1099,
    "start_time": "2022-12-29T19:44:57.644Z"
   },
   {
    "duration": 1289,
    "start_time": "2022-12-29T19:45:13.359Z"
   },
   {
    "duration": 13,
    "start_time": "2022-12-29T19:45:19.259Z"
   },
   {
    "duration": 16,
    "start_time": "2022-12-29T19:45:34.562Z"
   },
   {
    "duration": 16,
    "start_time": "2022-12-29T19:46:20.157Z"
   },
   {
    "duration": 17,
    "start_time": "2022-12-29T19:46:27.140Z"
   },
   {
    "duration": 718,
    "start_time": "2023-01-04T12:42:57.168Z"
   },
   {
    "duration": 3,
    "start_time": "2023-01-04T12:42:57.888Z"
   },
   {
    "duration": 881,
    "start_time": "2023-01-04T12:42:57.892Z"
   },
   {
    "duration": 27,
    "start_time": "2023-01-04T12:42:58.775Z"
   },
   {
    "duration": 91,
    "start_time": "2023-01-04T12:42:58.803Z"
   },
   {
    "duration": 587,
    "start_time": "2023-01-04T12:42:58.895Z"
   },
   {
    "duration": 108,
    "start_time": "2023-01-04T12:42:59.484Z"
   },
   {
    "duration": 6,
    "start_time": "2023-01-04T12:42:59.594Z"
   },
   {
    "duration": 22,
    "start_time": "2023-01-04T12:42:59.602Z"
   },
   {
    "duration": 47,
    "start_time": "2023-01-04T12:42:59.627Z"
   },
   {
    "duration": 8,
    "start_time": "2023-01-04T12:42:59.676Z"
   },
   {
    "duration": 69,
    "start_time": "2023-01-04T12:42:59.686Z"
   },
   {
    "duration": 4,
    "start_time": "2023-01-04T12:42:59.757Z"
   },
   {
    "duration": 33,
    "start_time": "2023-01-04T12:42:59.762Z"
   },
   {
    "duration": 193,
    "start_time": "2023-01-04T12:42:59.796Z"
   },
   {
    "duration": 9,
    "start_time": "2023-01-04T12:42:59.991Z"
   },
   {
    "duration": 219,
    "start_time": "2023-01-04T12:43:00.002Z"
   },
   {
    "duration": 165,
    "start_time": "2023-01-04T12:43:00.222Z"
   },
   {
    "duration": 7,
    "start_time": "2023-01-04T12:43:00.389Z"
   },
   {
    "duration": 32,
    "start_time": "2023-01-04T12:43:00.398Z"
   },
   {
    "duration": 29,
    "start_time": "2023-01-04T12:43:00.432Z"
   },
   {
    "duration": 23,
    "start_time": "2023-01-04T12:43:00.462Z"
   },
   {
    "duration": 18,
    "start_time": "2023-01-04T12:43:00.486Z"
   },
   {
    "duration": 26,
    "start_time": "2023-01-04T12:43:00.505Z"
   },
   {
    "duration": 98,
    "start_time": "2023-01-04T12:43:00.532Z"
   },
   {
    "duration": 0,
    "start_time": "2023-01-04T12:43:00.632Z"
   },
   {
    "duration": 0,
    "start_time": "2023-01-04T12:43:00.633Z"
   },
   {
    "duration": 0,
    "start_time": "2023-01-04T12:43:00.635Z"
   },
   {
    "duration": 0,
    "start_time": "2023-01-04T12:43:00.636Z"
   },
   {
    "duration": 0,
    "start_time": "2023-01-04T12:43:00.637Z"
   },
   {
    "duration": 0,
    "start_time": "2023-01-04T12:43:00.638Z"
   },
   {
    "duration": 0,
    "start_time": "2023-01-04T12:43:00.640Z"
   },
   {
    "duration": 0,
    "start_time": "2023-01-04T12:43:00.641Z"
   },
   {
    "duration": 0,
    "start_time": "2023-01-04T12:43:00.642Z"
   },
   {
    "duration": 0,
    "start_time": "2023-01-04T12:43:00.643Z"
   },
   {
    "duration": 0,
    "start_time": "2023-01-04T12:43:00.644Z"
   },
   {
    "duration": 0,
    "start_time": "2023-01-04T12:43:00.645Z"
   },
   {
    "duration": 1,
    "start_time": "2023-01-04T12:43:00.646Z"
   },
   {
    "duration": 0,
    "start_time": "2023-01-04T12:43:00.648Z"
   },
   {
    "duration": 87,
    "start_time": "2023-01-04T12:43:09.332Z"
   },
   {
    "duration": 65,
    "start_time": "2023-01-04T12:43:35.924Z"
   },
   {
    "duration": 54,
    "start_time": "2023-01-04T12:44:42.874Z"
   },
   {
    "duration": 10,
    "start_time": "2023-01-04T12:44:49.752Z"
   },
   {
    "duration": 34,
    "start_time": "2023-01-04T12:44:52.354Z"
   },
   {
    "duration": 28,
    "start_time": "2023-01-04T12:44:57.585Z"
   },
   {
    "duration": 225,
    "start_time": "2023-01-04T12:45:24.016Z"
   },
   {
    "duration": 220,
    "start_time": "2023-01-04T12:45:29.081Z"
   },
   {
    "duration": 181,
    "start_time": "2023-01-04T12:45:33.445Z"
   },
   {
    "duration": 183,
    "start_time": "2023-01-04T12:45:36.535Z"
   },
   {
    "duration": 5,
    "start_time": "2023-01-04T12:48:04.521Z"
   },
   {
    "duration": 4,
    "start_time": "2023-01-04T12:49:07.032Z"
   },
   {
    "duration": 5,
    "start_time": "2023-01-04T12:49:09.310Z"
   },
   {
    "duration": 5,
    "start_time": "2023-01-04T12:50:59.588Z"
   },
   {
    "duration": 61,
    "start_time": "2023-01-04T12:51:17.323Z"
   },
   {
    "duration": 47,
    "start_time": "2023-01-04T12:51:20.867Z"
   },
   {
    "duration": 38,
    "start_time": "2023-01-04T12:51:27.532Z"
   },
   {
    "duration": 10,
    "start_time": "2023-01-04T12:51:30.045Z"
   },
   {
    "duration": 9,
    "start_time": "2023-01-04T12:51:35.700Z"
   },
   {
    "duration": 8,
    "start_time": "2023-01-04T12:51:41.711Z"
   },
   {
    "duration": 9,
    "start_time": "2023-01-04T12:51:45.014Z"
   },
   {
    "duration": 10,
    "start_time": "2023-01-04T12:52:14.005Z"
   },
   {
    "duration": 10,
    "start_time": "2023-01-04T12:52:26.228Z"
   },
   {
    "duration": 9,
    "start_time": "2023-01-04T12:52:28.595Z"
   },
   {
    "duration": 17,
    "start_time": "2023-01-04T12:52:51.123Z"
   },
   {
    "duration": 5,
    "start_time": "2023-01-04T12:53:10.570Z"
   },
   {
    "duration": 6,
    "start_time": "2023-01-04T12:53:18.103Z"
   },
   {
    "duration": 7,
    "start_time": "2023-01-04T12:53:25.848Z"
   },
   {
    "duration": 5,
    "start_time": "2023-01-04T12:53:32.674Z"
   },
   {
    "duration": 42,
    "start_time": "2023-01-04T12:53:36.531Z"
   },
   {
    "duration": 4,
    "start_time": "2023-01-04T12:53:39.354Z"
   },
   {
    "duration": 5,
    "start_time": "2023-01-04T12:53:49.337Z"
   },
   {
    "duration": 7,
    "start_time": "2023-01-04T12:56:10.746Z"
   },
   {
    "duration": 6,
    "start_time": "2023-01-04T12:56:48.689Z"
   },
   {
    "duration": 248,
    "start_time": "2023-01-04T12:57:46.376Z"
   },
   {
    "duration": 11,
    "start_time": "2023-01-04T12:58:56.936Z"
   },
   {
    "duration": 16,
    "start_time": "2023-01-04T12:59:18.777Z"
   },
   {
    "duration": 311,
    "start_time": "2023-01-04T12:59:49.206Z"
   },
   {
    "duration": 181,
    "start_time": "2023-01-04T13:00:22.646Z"
   },
   {
    "duration": 169,
    "start_time": "2023-01-04T13:00:34.782Z"
   },
   {
    "duration": 364,
    "start_time": "2023-01-04T13:04:21.470Z"
   },
   {
    "duration": 315,
    "start_time": "2023-01-04T13:04:27.083Z"
   },
   {
    "duration": 292,
    "start_time": "2023-01-04T13:04:58.963Z"
   },
   {
    "duration": 324,
    "start_time": "2023-01-04T15:06:10.724Z"
   },
   {
    "duration": 295,
    "start_time": "2023-01-04T15:07:20.875Z"
   },
   {
    "duration": 279,
    "start_time": "2023-01-04T15:08:29.002Z"
   },
   {
    "duration": 290,
    "start_time": "2023-01-04T15:08:58.340Z"
   },
   {
    "duration": 332,
    "start_time": "2023-01-04T15:09:26.188Z"
   },
   {
    "duration": 302,
    "start_time": "2023-01-04T15:10:59.722Z"
   },
   {
    "duration": 176,
    "start_time": "2023-01-04T15:11:04.632Z"
   },
   {
    "duration": 298,
    "start_time": "2023-01-04T15:11:15.096Z"
   },
   {
    "duration": 293,
    "start_time": "2023-01-04T15:12:50.302Z"
   },
   {
    "duration": 298,
    "start_time": "2023-01-04T15:12:55.401Z"
   },
   {
    "duration": 281,
    "start_time": "2023-01-04T15:15:33.442Z"
   },
   {
    "duration": 17,
    "start_time": "2023-01-04T15:18:16.232Z"
   },
   {
    "duration": 209,
    "start_time": "2023-01-04T15:18:30.630Z"
   },
   {
    "duration": 17,
    "start_time": "2023-01-04T15:18:45.597Z"
   },
   {
    "duration": 150,
    "start_time": "2023-01-04T15:18:56.011Z"
   },
   {
    "duration": 17,
    "start_time": "2023-01-04T15:20:25.944Z"
   },
   {
    "duration": 15,
    "start_time": "2023-01-04T15:20:30.753Z"
   },
   {
    "duration": 149,
    "start_time": "2023-01-04T15:20:36.622Z"
   },
   {
    "duration": 131,
    "start_time": "2023-01-04T15:20:47.899Z"
   },
   {
    "duration": 129,
    "start_time": "2023-01-04T15:21:14.875Z"
   },
   {
    "duration": 18,
    "start_time": "2023-01-04T15:22:12.537Z"
   },
   {
    "duration": 119,
    "start_time": "2023-01-04T15:22:17.568Z"
   },
   {
    "duration": 278,
    "start_time": "2023-01-04T15:22:37.735Z"
   },
   {
    "duration": 325,
    "start_time": "2023-01-04T15:24:06.253Z"
   },
   {
    "duration": 352,
    "start_time": "2023-01-04T15:24:42.802Z"
   },
   {
    "duration": 328,
    "start_time": "2023-01-04T15:28:46.431Z"
   },
   {
    "duration": 314,
    "start_time": "2023-01-04T15:29:10.034Z"
   },
   {
    "duration": 343,
    "start_time": "2023-01-04T15:29:16.230Z"
   },
   {
    "duration": 9,
    "start_time": "2023-01-04T15:31:40.094Z"
   },
   {
    "duration": 11,
    "start_time": "2023-01-04T15:32:00.778Z"
   },
   {
    "duration": 8,
    "start_time": "2023-01-04T15:32:26.932Z"
   },
   {
    "duration": 8,
    "start_time": "2023-01-04T15:32:45.549Z"
   },
   {
    "duration": 9,
    "start_time": "2023-01-04T15:34:16.077Z"
   },
   {
    "duration": 9,
    "start_time": "2023-01-04T15:34:23.989Z"
   },
   {
    "duration": 10,
    "start_time": "2023-01-04T15:34:33.548Z"
   },
   {
    "duration": 9,
    "start_time": "2023-01-04T15:35:44.074Z"
   },
   {
    "duration": 9,
    "start_time": "2023-01-04T15:36:00.376Z"
   },
   {
    "duration": 9,
    "start_time": "2023-01-04T15:36:14.012Z"
   },
   {
    "duration": 8,
    "start_time": "2023-01-04T15:37:21.543Z"
   },
   {
    "duration": 9,
    "start_time": "2023-01-04T15:37:23.176Z"
   },
   {
    "duration": 160,
    "start_time": "2023-01-04T15:38:35.971Z"
   },
   {
    "duration": 173,
    "start_time": "2023-01-04T15:38:59.701Z"
   },
   {
    "duration": 19,
    "start_time": "2023-01-04T15:40:07.283Z"
   },
   {
    "duration": 7,
    "start_time": "2023-01-04T15:40:11.985Z"
   },
   {
    "duration": 10,
    "start_time": "2023-01-04T15:40:14.068Z"
   },
   {
    "duration": 9,
    "start_time": "2023-01-04T15:40:17.578Z"
   },
   {
    "duration": 9,
    "start_time": "2023-01-04T15:40:19.856Z"
   },
   {
    "duration": 16,
    "start_time": "2023-01-04T15:40:28.134Z"
   },
   {
    "duration": 614,
    "start_time": "2023-01-04T17:52:11.134Z"
   },
   {
    "duration": 3,
    "start_time": "2023-01-04T17:52:11.750Z"
   },
   {
    "duration": 574,
    "start_time": "2023-01-04T17:52:11.755Z"
   },
   {
    "duration": 33,
    "start_time": "2023-01-04T17:52:12.331Z"
   },
   {
    "duration": 119,
    "start_time": "2023-01-04T17:52:12.366Z"
   },
   {
    "duration": 617,
    "start_time": "2023-01-04T17:52:12.486Z"
   },
   {
    "duration": 98,
    "start_time": "2023-01-04T17:52:13.104Z"
   },
   {
    "duration": 16,
    "start_time": "2023-01-04T17:52:13.204Z"
   },
   {
    "duration": 21,
    "start_time": "2023-01-04T17:52:13.221Z"
   },
   {
    "duration": 38,
    "start_time": "2023-01-04T17:52:13.245Z"
   },
   {
    "duration": 8,
    "start_time": "2023-01-04T17:52:13.285Z"
   },
   {
    "duration": 49,
    "start_time": "2023-01-04T17:52:13.295Z"
   },
   {
    "duration": 5,
    "start_time": "2023-01-04T17:52:13.346Z"
   },
   {
    "duration": 39,
    "start_time": "2023-01-04T17:52:13.352Z"
   },
   {
    "duration": 186,
    "start_time": "2023-01-04T17:52:13.393Z"
   },
   {
    "duration": 9,
    "start_time": "2023-01-04T17:52:13.581Z"
   },
   {
    "duration": 198,
    "start_time": "2023-01-04T17:52:13.592Z"
   },
   {
    "duration": 148,
    "start_time": "2023-01-04T17:52:13.792Z"
   },
   {
    "duration": 8,
    "start_time": "2023-01-04T17:52:13.942Z"
   },
   {
    "duration": 16,
    "start_time": "2023-01-04T17:52:13.951Z"
   },
   {
    "duration": 16,
    "start_time": "2023-01-04T17:52:13.969Z"
   },
   {
    "duration": 29,
    "start_time": "2023-01-04T17:52:13.986Z"
   },
   {
    "duration": 7,
    "start_time": "2023-01-04T17:52:14.017Z"
   },
   {
    "duration": 10,
    "start_time": "2023-01-04T17:52:14.025Z"
   },
   {
    "duration": 10,
    "start_time": "2023-01-04T17:52:14.037Z"
   },
   {
    "duration": 13,
    "start_time": "2023-01-04T17:52:14.048Z"
   },
   {
    "duration": 259,
    "start_time": "2023-01-04T17:52:14.063Z"
   },
   {
    "duration": 331,
    "start_time": "2023-01-04T17:52:14.327Z"
   },
   {
    "duration": 333,
    "start_time": "2023-01-04T17:52:14.660Z"
   },
   {
    "duration": 31,
    "start_time": "2023-01-04T17:52:14.995Z"
   },
   {
    "duration": 20,
    "start_time": "2023-01-04T17:52:15.028Z"
   },
   {
    "duration": 7,
    "start_time": "2023-01-04T17:52:15.049Z"
   },
   {
    "duration": 13,
    "start_time": "2023-01-04T17:52:15.057Z"
   },
   {
    "duration": 57,
    "start_time": "2023-01-04T17:52:15.071Z"
   },
   {
    "duration": 9,
    "start_time": "2023-01-04T17:52:15.130Z"
   },
   {
    "duration": 10,
    "start_time": "2023-01-04T17:52:15.141Z"
   },
   {
    "duration": 9,
    "start_time": "2023-01-04T17:52:15.153Z"
   },
   {
    "duration": 21,
    "start_time": "2023-01-04T17:52:15.163Z"
   },
   {
    "duration": 37,
    "start_time": "2023-01-04T17:52:15.186Z"
   },
   {
    "duration": 76,
    "start_time": "2023-01-04T17:52:15.225Z"
   },
   {
    "duration": 0,
    "start_time": "2023-01-04T17:52:15.317Z"
   },
   {
    "duration": 0,
    "start_time": "2023-01-04T17:52:15.318Z"
   },
   {
    "duration": 0,
    "start_time": "2023-01-04T17:52:15.319Z"
   },
   {
    "duration": 0,
    "start_time": "2023-01-04T17:52:15.320Z"
   },
   {
    "duration": 18,
    "start_time": "2023-01-04T17:58:37.499Z"
   },
   {
    "duration": 15,
    "start_time": "2023-01-04T17:58:43.396Z"
   },
   {
    "duration": 14,
    "start_time": "2023-01-04T17:59:33.115Z"
   },
   {
    "duration": 18,
    "start_time": "2023-01-04T18:00:08.671Z"
   },
   {
    "duration": 10,
    "start_time": "2023-01-04T18:02:34.981Z"
   },
   {
    "duration": 11,
    "start_time": "2023-01-04T18:03:11.236Z"
   },
   {
    "duration": 6,
    "start_time": "2023-01-04T18:03:14.726Z"
   },
   {
    "duration": 11,
    "start_time": "2023-01-04T18:03:18.309Z"
   },
   {
    "duration": 5,
    "start_time": "2023-01-04T18:04:16.548Z"
   },
   {
    "duration": 4,
    "start_time": "2023-01-04T18:05:21.498Z"
   },
   {
    "duration": 10,
    "start_time": "2023-01-04T18:05:26.399Z"
   },
   {
    "duration": 4,
    "start_time": "2023-01-04T18:05:40.548Z"
   },
   {
    "duration": 11,
    "start_time": "2023-01-04T18:05:52.895Z"
   },
   {
    "duration": 17,
    "start_time": "2023-01-04T18:07:51.282Z"
   },
   {
    "duration": 17,
    "start_time": "2023-01-04T18:07:57.094Z"
   },
   {
    "duration": 22,
    "start_time": "2023-01-04T18:08:02.056Z"
   },
   {
    "duration": 30,
    "start_time": "2023-01-04T18:08:07.147Z"
   },
   {
    "duration": 19,
    "start_time": "2023-01-04T18:08:18.946Z"
   },
   {
    "duration": 20,
    "start_time": "2023-01-04T18:08:28.693Z"
   },
   {
    "duration": 10,
    "start_time": "2023-01-04T18:09:11.618Z"
   },
   {
    "duration": 15,
    "start_time": "2023-01-04T18:10:23.586Z"
   },
   {
    "duration": 8,
    "start_time": "2023-01-04T18:10:53.644Z"
   },
   {
    "duration": 29,
    "start_time": "2023-01-04T18:11:23.032Z"
   },
   {
    "duration": 19,
    "start_time": "2023-01-04T18:11:36.337Z"
   },
   {
    "duration": 25,
    "start_time": "2023-01-04T18:11:51.584Z"
   },
   {
    "duration": 22,
    "start_time": "2023-01-04T18:12:00.713Z"
   },
   {
    "duration": 18,
    "start_time": "2023-01-04T18:12:05.290Z"
   },
   {
    "duration": 18,
    "start_time": "2023-01-04T18:12:08.261Z"
   },
   {
    "duration": 63,
    "start_time": "2023-01-04T18:12:20.508Z"
   },
   {
    "duration": 22,
    "start_time": "2023-01-04T18:12:23.729Z"
   },
   {
    "duration": 3,
    "start_time": "2023-01-04T18:14:27.396Z"
   },
   {
    "duration": 7,
    "start_time": "2023-01-04T18:18:55.891Z"
   },
   {
    "duration": 5,
    "start_time": "2023-01-04T18:19:13.779Z"
   },
   {
    "duration": 11,
    "start_time": "2023-01-04T18:21:18.675Z"
   },
   {
    "duration": 10,
    "start_time": "2023-01-04T18:21:21.184Z"
   },
   {
    "duration": 10,
    "start_time": "2023-01-04T18:21:30.311Z"
   },
   {
    "duration": 7,
    "start_time": "2023-01-04T18:22:11.026Z"
   },
   {
    "duration": 12,
    "start_time": "2023-01-04T18:22:32.175Z"
   },
   {
    "duration": 10,
    "start_time": "2023-01-04T18:23:39.799Z"
   },
   {
    "duration": 39,
    "start_time": "2023-01-04T18:23:45.097Z"
   },
   {
    "duration": 73,
    "start_time": "2023-01-04T18:23:52.968Z"
   },
   {
    "duration": 72,
    "start_time": "2023-01-04T18:24:00.291Z"
   },
   {
    "duration": 41,
    "start_time": "2023-01-04T18:24:18.633Z"
   },
   {
    "duration": 41,
    "start_time": "2023-01-04T18:24:31.860Z"
   },
   {
    "duration": 54,
    "start_time": "2023-01-04T18:24:38.831Z"
   },
   {
    "duration": 67,
    "start_time": "2023-01-04T18:24:51.561Z"
   },
   {
    "duration": 43,
    "start_time": "2023-01-04T18:25:14.637Z"
   },
   {
    "duration": 57,
    "start_time": "2023-01-04T18:25:20.593Z"
   },
   {
    "duration": 2,
    "start_time": "2023-01-04T18:25:43.806Z"
   },
   {
    "duration": 8,
    "start_time": "2023-01-04T18:27:19.173Z"
   },
   {
    "duration": 9,
    "start_time": "2023-01-04T18:27:32.107Z"
   },
   {
    "duration": 8,
    "start_time": "2023-01-04T18:27:44.472Z"
   },
   {
    "duration": 14,
    "start_time": "2023-01-04T18:27:49.351Z"
   },
   {
    "duration": 6,
    "start_time": "2023-01-04T18:27:55.604Z"
   },
   {
    "duration": 11,
    "start_time": "2023-01-04T18:27:57.413Z"
   },
   {
    "duration": 5,
    "start_time": "2023-01-04T18:28:04.734Z"
   },
   {
    "duration": 6,
    "start_time": "2023-01-04T18:28:12.029Z"
   },
   {
    "duration": 622,
    "start_time": "2023-01-04T18:33:43.530Z"
   },
   {
    "duration": 3,
    "start_time": "2023-01-04T18:33:44.154Z"
   },
   {
    "duration": 564,
    "start_time": "2023-01-04T18:33:44.159Z"
   },
   {
    "duration": 30,
    "start_time": "2023-01-04T18:33:44.726Z"
   },
   {
    "duration": 112,
    "start_time": "2023-01-04T18:33:44.758Z"
   },
   {
    "duration": 646,
    "start_time": "2023-01-04T18:33:44.871Z"
   },
   {
    "duration": 106,
    "start_time": "2023-01-04T18:33:45.519Z"
   },
   {
    "duration": 6,
    "start_time": "2023-01-04T18:33:45.627Z"
   },
   {
    "duration": 24,
    "start_time": "2023-01-04T18:33:45.634Z"
   },
   {
    "duration": 43,
    "start_time": "2023-01-04T18:33:45.660Z"
   },
   {
    "duration": 16,
    "start_time": "2023-01-04T18:33:45.705Z"
   },
   {
    "duration": 40,
    "start_time": "2023-01-04T18:33:45.723Z"
   },
   {
    "duration": 6,
    "start_time": "2023-01-04T18:33:45.766Z"
   },
   {
    "duration": 45,
    "start_time": "2023-01-04T18:33:45.774Z"
   },
   {
    "duration": 177,
    "start_time": "2023-01-04T18:33:45.821Z"
   },
   {
    "duration": 18,
    "start_time": "2023-01-04T18:33:46.000Z"
   },
   {
    "duration": 196,
    "start_time": "2023-01-04T18:33:46.020Z"
   },
   {
    "duration": 3,
    "start_time": "2023-01-04T18:33:46.217Z"
   },
   {
    "duration": 14,
    "start_time": "2023-01-04T18:33:46.222Z"
   },
   {
    "duration": 12,
    "start_time": "2023-01-04T18:33:46.238Z"
   },
   {
    "duration": 86,
    "start_time": "2023-01-04T18:33:46.251Z"
   },
   {
    "duration": 104,
    "start_time": "2023-01-04T18:33:46.339Z"
   },
   {
    "duration": 0,
    "start_time": "2023-01-04T18:33:46.446Z"
   },
   {
    "duration": 0,
    "start_time": "2023-01-04T18:33:46.448Z"
   },
   {
    "duration": 0,
    "start_time": "2023-01-04T18:33:46.449Z"
   },
   {
    "duration": 0,
    "start_time": "2023-01-04T18:33:46.450Z"
   },
   {
    "duration": 0,
    "start_time": "2023-01-04T18:33:46.452Z"
   },
   {
    "duration": 0,
    "start_time": "2023-01-04T18:33:46.453Z"
   },
   {
    "duration": 0,
    "start_time": "2023-01-04T18:33:46.454Z"
   },
   {
    "duration": 0,
    "start_time": "2023-01-04T18:33:46.456Z"
   },
   {
    "duration": 0,
    "start_time": "2023-01-04T18:33:46.457Z"
   },
   {
    "duration": 0,
    "start_time": "2023-01-04T18:33:46.459Z"
   },
   {
    "duration": 0,
    "start_time": "2023-01-04T18:33:46.460Z"
   },
   {
    "duration": 0,
    "start_time": "2023-01-04T18:33:46.461Z"
   },
   {
    "duration": 0,
    "start_time": "2023-01-04T18:33:46.462Z"
   },
   {
    "duration": 0,
    "start_time": "2023-01-04T18:33:46.463Z"
   },
   {
    "duration": 0,
    "start_time": "2023-01-04T18:33:46.465Z"
   },
   {
    "duration": 0,
    "start_time": "2023-01-04T18:33:46.466Z"
   },
   {
    "duration": 0,
    "start_time": "2023-01-04T18:33:46.467Z"
   },
   {
    "duration": 0,
    "start_time": "2023-01-04T18:33:46.469Z"
   },
   {
    "duration": 1,
    "start_time": "2023-01-04T18:33:46.470Z"
   },
   {
    "duration": 0,
    "start_time": "2023-01-04T18:33:46.472Z"
   },
   {
    "duration": 0,
    "start_time": "2023-01-04T18:33:46.516Z"
   },
   {
    "duration": 0,
    "start_time": "2023-01-04T18:33:46.517Z"
   },
   {
    "duration": 0,
    "start_time": "2023-01-04T18:33:46.519Z"
   },
   {
    "duration": 0,
    "start_time": "2023-01-04T18:33:46.520Z"
   },
   {
    "duration": 0,
    "start_time": "2023-01-04T18:33:46.523Z"
   },
   {
    "duration": 0,
    "start_time": "2023-01-04T18:33:46.524Z"
   },
   {
    "duration": 0,
    "start_time": "2023-01-04T18:33:46.525Z"
   },
   {
    "duration": 0,
    "start_time": "2023-01-04T18:33:46.526Z"
   },
   {
    "duration": 0,
    "start_time": "2023-01-04T18:33:46.528Z"
   },
   {
    "duration": 0,
    "start_time": "2023-01-04T18:33:46.529Z"
   },
   {
    "duration": 7,
    "start_time": "2023-01-04T18:34:59.980Z"
   },
   {
    "duration": 598,
    "start_time": "2023-01-04T18:35:04.276Z"
   },
   {
    "duration": 3,
    "start_time": "2023-01-04T18:35:04.876Z"
   },
   {
    "duration": 572,
    "start_time": "2023-01-04T18:35:04.880Z"
   },
   {
    "duration": 30,
    "start_time": "2023-01-04T18:35:05.454Z"
   },
   {
    "duration": 105,
    "start_time": "2023-01-04T18:35:05.486Z"
   },
   {
    "duration": 687,
    "start_time": "2023-01-04T18:35:05.593Z"
   },
   {
    "duration": 131,
    "start_time": "2023-01-04T18:35:06.282Z"
   },
   {
    "duration": 7,
    "start_time": "2023-01-04T18:35:06.417Z"
   },
   {
    "duration": 28,
    "start_time": "2023-01-04T18:35:06.426Z"
   },
   {
    "duration": 79,
    "start_time": "2023-01-04T18:35:06.457Z"
   },
   {
    "duration": 10,
    "start_time": "2023-01-04T18:35:06.538Z"
   },
   {
    "duration": 69,
    "start_time": "2023-01-04T18:35:06.550Z"
   },
   {
    "duration": 6,
    "start_time": "2023-01-04T18:35:06.621Z"
   },
   {
    "duration": 28,
    "start_time": "2023-01-04T18:35:06.629Z"
   },
   {
    "duration": 180,
    "start_time": "2023-01-04T18:35:06.659Z"
   },
   {
    "duration": 9,
    "start_time": "2023-01-04T18:35:06.840Z"
   },
   {
    "duration": 217,
    "start_time": "2023-01-04T18:35:06.850Z"
   },
   {
    "duration": 4,
    "start_time": "2023-01-04T18:35:07.069Z"
   },
   {
    "duration": 14,
    "start_time": "2023-01-04T18:35:07.075Z"
   },
   {
    "duration": 26,
    "start_time": "2023-01-04T18:35:07.091Z"
   },
   {
    "duration": 54,
    "start_time": "2023-01-04T18:35:07.119Z"
   },
   {
    "duration": 192,
    "start_time": "2023-01-04T18:35:07.175Z"
   },
   {
    "duration": 6,
    "start_time": "2023-01-04T18:35:07.369Z"
   },
   {
    "duration": 17,
    "start_time": "2023-01-04T18:35:07.376Z"
   },
   {
    "duration": 25,
    "start_time": "2023-01-04T18:35:07.394Z"
   },
   {
    "duration": 21,
    "start_time": "2023-01-04T18:35:07.421Z"
   },
   {
    "duration": 769,
    "start_time": "2023-01-04T18:35:07.443Z"
   },
   {
    "duration": 0,
    "start_time": "2023-01-04T18:35:08.215Z"
   },
   {
    "duration": 0,
    "start_time": "2023-01-04T18:35:08.216Z"
   },
   {
    "duration": 0,
    "start_time": "2023-01-04T18:35:08.218Z"
   },
   {
    "duration": 0,
    "start_time": "2023-01-04T18:35:08.219Z"
   },
   {
    "duration": 0,
    "start_time": "2023-01-04T18:35:08.221Z"
   },
   {
    "duration": 0,
    "start_time": "2023-01-04T18:35:08.223Z"
   },
   {
    "duration": 0,
    "start_time": "2023-01-04T18:35:08.224Z"
   },
   {
    "duration": 0,
    "start_time": "2023-01-04T18:35:08.225Z"
   },
   {
    "duration": 0,
    "start_time": "2023-01-04T18:35:08.227Z"
   },
   {
    "duration": 1,
    "start_time": "2023-01-04T18:35:08.228Z"
   },
   {
    "duration": 0,
    "start_time": "2023-01-04T18:35:08.230Z"
   },
   {
    "duration": 0,
    "start_time": "2023-01-04T18:35:08.232Z"
   },
   {
    "duration": 0,
    "start_time": "2023-01-04T18:35:08.233Z"
   },
   {
    "duration": 0,
    "start_time": "2023-01-04T18:35:08.235Z"
   },
   {
    "duration": 0,
    "start_time": "2023-01-04T18:35:08.236Z"
   },
   {
    "duration": 0,
    "start_time": "2023-01-04T18:35:08.238Z"
   },
   {
    "duration": 0,
    "start_time": "2023-01-04T18:35:08.239Z"
   },
   {
    "duration": 0,
    "start_time": "2023-01-04T18:35:08.241Z"
   },
   {
    "duration": 0,
    "start_time": "2023-01-04T18:35:08.242Z"
   },
   {
    "duration": 1,
    "start_time": "2023-01-04T18:35:08.243Z"
   },
   {
    "duration": 0,
    "start_time": "2023-01-04T18:35:08.245Z"
   },
   {
    "duration": 0,
    "start_time": "2023-01-04T18:35:08.246Z"
   },
   {
    "duration": 0,
    "start_time": "2023-01-04T18:35:08.247Z"
   },
   {
    "duration": 0,
    "start_time": "2023-01-04T18:35:08.248Z"
   },
   {
    "duration": 0,
    "start_time": "2023-01-04T18:35:08.249Z"
   },
   {
    "duration": 669,
    "start_time": "2023-01-04T18:35:24.361Z"
   },
   {
    "duration": 6,
    "start_time": "2023-01-04T18:36:32.371Z"
   },
   {
    "duration": 643,
    "start_time": "2023-01-04T18:36:36.169Z"
   },
   {
    "duration": 4,
    "start_time": "2023-01-04T18:36:36.814Z"
   },
   {
    "duration": 595,
    "start_time": "2023-01-04T18:36:36.819Z"
   },
   {
    "duration": 33,
    "start_time": "2023-01-04T18:36:37.416Z"
   },
   {
    "duration": 136,
    "start_time": "2023-01-04T18:36:37.450Z"
   },
   {
    "duration": 612,
    "start_time": "2023-01-04T18:36:37.588Z"
   },
   {
    "duration": 100,
    "start_time": "2023-01-04T18:36:38.202Z"
   },
   {
    "duration": 14,
    "start_time": "2023-01-04T18:36:38.303Z"
   },
   {
    "duration": 25,
    "start_time": "2023-01-04T18:36:38.318Z"
   },
   {
    "duration": 55,
    "start_time": "2023-01-04T18:36:38.346Z"
   },
   {
    "duration": 15,
    "start_time": "2023-01-04T18:36:38.403Z"
   },
   {
    "duration": 48,
    "start_time": "2023-01-04T18:36:38.420Z"
   },
   {
    "duration": 5,
    "start_time": "2023-01-04T18:36:38.470Z"
   },
   {
    "duration": 55,
    "start_time": "2023-01-04T18:36:38.477Z"
   },
   {
    "duration": 186,
    "start_time": "2023-01-04T18:36:38.534Z"
   },
   {
    "duration": 9,
    "start_time": "2023-01-04T18:36:38.721Z"
   },
   {
    "duration": 195,
    "start_time": "2023-01-04T18:36:38.732Z"
   },
   {
    "duration": 4,
    "start_time": "2023-01-04T18:36:38.928Z"
   },
   {
    "duration": 17,
    "start_time": "2023-01-04T18:36:38.934Z"
   },
   {
    "duration": 19,
    "start_time": "2023-01-04T18:36:38.953Z"
   },
   {
    "duration": 83,
    "start_time": "2023-01-04T18:36:38.973Z"
   },
   {
    "duration": 165,
    "start_time": "2023-01-04T18:36:39.058Z"
   },
   {
    "duration": 11,
    "start_time": "2023-01-04T18:36:39.224Z"
   },
   {
    "duration": 27,
    "start_time": "2023-01-04T18:36:39.237Z"
   },
   {
    "duration": 21,
    "start_time": "2023-01-04T18:36:39.266Z"
   },
   {
    "duration": 27,
    "start_time": "2023-01-04T18:36:39.289Z"
   },
   {
    "duration": 9,
    "start_time": "2023-01-04T18:36:39.318Z"
   },
   {
    "duration": 8,
    "start_time": "2023-01-04T18:36:39.331Z"
   },
   {
    "duration": 21,
    "start_time": "2023-01-04T18:36:39.341Z"
   },
   {
    "duration": 5,
    "start_time": "2023-01-04T18:36:39.363Z"
   },
   {
    "duration": 13,
    "start_time": "2023-01-04T18:36:39.371Z"
   },
   {
    "duration": 37,
    "start_time": "2023-01-04T18:36:39.386Z"
   },
   {
    "duration": 12,
    "start_time": "2023-01-04T18:36:39.425Z"
   },
   {
    "duration": 16,
    "start_time": "2023-01-04T18:36:39.438Z"
   },
   {
    "duration": 13,
    "start_time": "2023-01-04T18:36:39.456Z"
   },
   {
    "duration": 23,
    "start_time": "2023-01-04T18:36:39.470Z"
   },
   {
    "duration": 238,
    "start_time": "2023-01-04T18:36:39.495Z"
   },
   {
    "duration": 324,
    "start_time": "2023-01-04T18:36:39.735Z"
   },
   {
    "duration": 238,
    "start_time": "2023-01-04T18:36:40.061Z"
   },
   {
    "duration": 16,
    "start_time": "2023-01-04T18:36:40.301Z"
   },
   {
    "duration": 18,
    "start_time": "2023-01-04T18:36:40.319Z"
   },
   {
    "duration": 306,
    "start_time": "2023-01-04T18:36:40.338Z"
   },
   {
    "duration": 21,
    "start_time": "2023-01-04T18:36:40.645Z"
   },
   {
    "duration": 19,
    "start_time": "2023-01-04T18:36:40.667Z"
   },
   {
    "duration": 89,
    "start_time": "2023-01-04T18:36:40.687Z"
   },
   {
    "duration": 0,
    "start_time": "2023-01-04T18:36:40.777Z"
   },
   {
    "duration": 0,
    "start_time": "2023-01-04T18:36:40.779Z"
   },
   {
    "duration": 0,
    "start_time": "2023-01-04T18:36:40.780Z"
   },
   {
    "duration": 0,
    "start_time": "2023-01-04T18:36:40.781Z"
   },
   {
    "duration": 0,
    "start_time": "2023-01-04T18:36:40.782Z"
   },
   {
    "duration": 0,
    "start_time": "2023-01-04T18:36:40.783Z"
   },
   {
    "duration": 0,
    "start_time": "2023-01-04T18:36:40.784Z"
   },
   {
    "duration": 0,
    "start_time": "2023-01-04T18:36:40.785Z"
   },
   {
    "duration": 0,
    "start_time": "2023-01-04T18:36:40.786Z"
   },
   {
    "duration": 0,
    "start_time": "2023-01-04T18:36:40.787Z"
   },
   {
    "duration": 0,
    "start_time": "2023-01-04T18:36:40.788Z"
   },
   {
    "duration": 0,
    "start_time": "2023-01-04T18:36:40.789Z"
   },
   {
    "duration": 0,
    "start_time": "2023-01-04T18:36:40.790Z"
   },
   {
    "duration": 0,
    "start_time": "2023-01-04T18:36:40.815Z"
   },
   {
    "duration": 0,
    "start_time": "2023-01-04T18:36:40.816Z"
   },
   {
    "duration": 593,
    "start_time": "2023-01-04T18:37:22.443Z"
   },
   {
    "duration": 3,
    "start_time": "2023-01-04T18:37:23.038Z"
   },
   {
    "duration": 608,
    "start_time": "2023-01-04T18:37:23.043Z"
   },
   {
    "duration": 29,
    "start_time": "2023-01-04T18:37:23.654Z"
   },
   {
    "duration": 102,
    "start_time": "2023-01-04T18:37:23.685Z"
   },
   {
    "duration": 621,
    "start_time": "2023-01-04T18:37:23.789Z"
   },
   {
    "duration": 103,
    "start_time": "2023-01-04T18:37:24.416Z"
   },
   {
    "duration": 8,
    "start_time": "2023-01-04T18:37:24.521Z"
   },
   {
    "duration": 26,
    "start_time": "2023-01-04T18:37:24.531Z"
   },
   {
    "duration": 64,
    "start_time": "2023-01-04T18:37:24.561Z"
   },
   {
    "duration": 11,
    "start_time": "2023-01-04T18:37:24.627Z"
   },
   {
    "duration": 64,
    "start_time": "2023-01-04T18:37:24.640Z"
   },
   {
    "duration": 14,
    "start_time": "2023-01-04T18:37:24.706Z"
   },
   {
    "duration": 39,
    "start_time": "2023-01-04T18:37:24.722Z"
   },
   {
    "duration": 202,
    "start_time": "2023-01-04T18:37:24.764Z"
   },
   {
    "duration": 12,
    "start_time": "2023-01-04T18:37:24.968Z"
   },
   {
    "duration": 196,
    "start_time": "2023-01-04T18:37:24.981Z"
   },
   {
    "duration": 2,
    "start_time": "2023-01-04T18:37:25.179Z"
   },
   {
    "duration": 13,
    "start_time": "2023-01-04T18:37:25.183Z"
   },
   {
    "duration": 25,
    "start_time": "2023-01-04T18:37:25.198Z"
   },
   {
    "duration": 41,
    "start_time": "2023-01-04T18:37:25.225Z"
   },
   {
    "duration": 186,
    "start_time": "2023-01-04T18:37:25.268Z"
   },
   {
    "duration": 11,
    "start_time": "2023-01-04T18:37:25.456Z"
   },
   {
    "duration": 10,
    "start_time": "2023-01-04T18:37:25.468Z"
   },
   {
    "duration": 38,
    "start_time": "2023-01-04T18:37:25.479Z"
   },
   {
    "duration": 15,
    "start_time": "2023-01-04T18:37:25.519Z"
   },
   {
    "duration": 6,
    "start_time": "2023-01-04T18:37:25.535Z"
   },
   {
    "duration": 8,
    "start_time": "2023-01-04T18:37:25.545Z"
   },
   {
    "duration": 19,
    "start_time": "2023-01-04T18:37:25.555Z"
   },
   {
    "duration": 5,
    "start_time": "2023-01-04T18:37:25.575Z"
   },
   {
    "duration": 8,
    "start_time": "2023-01-04T18:37:25.615Z"
   },
   {
    "duration": 11,
    "start_time": "2023-01-04T18:37:25.624Z"
   },
   {
    "duration": 15,
    "start_time": "2023-01-04T18:37:25.636Z"
   },
   {
    "duration": 9,
    "start_time": "2023-01-04T18:37:25.653Z"
   },
   {
    "duration": 10,
    "start_time": "2023-01-04T18:37:25.664Z"
   },
   {
    "duration": 19,
    "start_time": "2023-01-04T18:37:25.676Z"
   },
   {
    "duration": 279,
    "start_time": "2023-01-04T18:37:25.716Z"
   },
   {
    "duration": 374,
    "start_time": "2023-01-04T18:37:25.996Z"
   },
   {
    "duration": 22,
    "start_time": "2023-01-04T18:37:26.373Z"
   },
   {
    "duration": 397,
    "start_time": "2023-01-04T18:37:26.399Z"
   },
   {
    "duration": 27,
    "start_time": "2023-01-04T18:37:26.798Z"
   },
   {
    "duration": 24,
    "start_time": "2023-01-04T18:37:26.827Z"
   },
   {
    "duration": 8,
    "start_time": "2023-01-04T18:37:26.852Z"
   },
   {
    "duration": 12,
    "start_time": "2023-01-04T18:37:26.861Z"
   },
   {
    "duration": 57,
    "start_time": "2023-01-04T18:37:26.875Z"
   },
   {
    "duration": 9,
    "start_time": "2023-01-04T18:37:26.933Z"
   },
   {
    "duration": 11,
    "start_time": "2023-01-04T18:37:26.943Z"
   },
   {
    "duration": 10,
    "start_time": "2023-01-04T18:37:26.955Z"
   },
   {
    "duration": 9,
    "start_time": "2023-01-04T18:37:26.967Z"
   },
   {
    "duration": 38,
    "start_time": "2023-01-04T18:37:26.978Z"
   },
   {
    "duration": 15,
    "start_time": "2023-01-04T18:37:27.017Z"
   },
   {
    "duration": 10,
    "start_time": "2023-01-04T18:37:27.033Z"
   },
   {
    "duration": 86,
    "start_time": "2023-01-04T18:37:27.045Z"
   },
   {
    "duration": 0,
    "start_time": "2023-01-04T18:37:27.133Z"
   },
   {
    "duration": 0,
    "start_time": "2023-01-04T18:37:27.135Z"
   },
   {
    "duration": 0,
    "start_time": "2023-01-04T18:37:27.136Z"
   },
   {
    "duration": 0,
    "start_time": "2023-01-04T18:37:27.137Z"
   },
   {
    "duration": 768,
    "start_time": "2023-01-05T07:14:45.280Z"
   },
   {
    "duration": 3,
    "start_time": "2023-01-05T07:14:46.050Z"
   },
   {
    "duration": 877,
    "start_time": "2023-01-05T07:14:46.054Z"
   },
   {
    "duration": 28,
    "start_time": "2023-01-05T07:14:46.933Z"
   },
   {
    "duration": 108,
    "start_time": "2023-01-05T07:14:46.962Z"
   },
   {
    "duration": 574,
    "start_time": "2023-01-05T07:14:47.072Z"
   },
   {
    "duration": 100,
    "start_time": "2023-01-05T07:14:47.648Z"
   },
   {
    "duration": 6,
    "start_time": "2023-01-05T07:14:47.750Z"
   },
   {
    "duration": 14,
    "start_time": "2023-01-05T07:14:47.757Z"
   },
   {
    "duration": 57,
    "start_time": "2023-01-05T07:14:47.774Z"
   },
   {
    "duration": 7,
    "start_time": "2023-01-05T07:14:47.833Z"
   },
   {
    "duration": 39,
    "start_time": "2023-01-05T07:14:47.841Z"
   },
   {
    "duration": 5,
    "start_time": "2023-01-05T07:14:47.881Z"
   },
   {
    "duration": 43,
    "start_time": "2023-01-05T07:14:47.887Z"
   },
   {
    "duration": 163,
    "start_time": "2023-01-05T07:14:47.932Z"
   },
   {
    "duration": 16,
    "start_time": "2023-01-05T07:14:48.097Z"
   },
   {
    "duration": 185,
    "start_time": "2023-01-05T07:14:48.120Z"
   },
   {
    "duration": 2,
    "start_time": "2023-01-05T07:14:48.307Z"
   },
   {
    "duration": 26,
    "start_time": "2023-01-05T07:14:48.311Z"
   },
   {
    "duration": 30,
    "start_time": "2023-01-05T07:14:48.338Z"
   },
   {
    "duration": 62,
    "start_time": "2023-01-05T07:14:48.369Z"
   },
   {
    "duration": 162,
    "start_time": "2023-01-05T07:14:48.432Z"
   },
   {
    "duration": 10,
    "start_time": "2023-01-05T07:14:48.596Z"
   },
   {
    "duration": 22,
    "start_time": "2023-01-05T07:14:48.608Z"
   },
   {
    "duration": 21,
    "start_time": "2023-01-05T07:14:48.631Z"
   },
   {
    "duration": 20,
    "start_time": "2023-01-05T07:14:48.654Z"
   },
   {
    "duration": 19,
    "start_time": "2023-01-05T07:14:48.676Z"
   },
   {
    "duration": 20,
    "start_time": "2023-01-05T07:14:48.698Z"
   },
   {
    "duration": 20,
    "start_time": "2023-01-05T07:14:48.720Z"
   },
   {
    "duration": 5,
    "start_time": "2023-01-05T07:14:48.742Z"
   },
   {
    "duration": 9,
    "start_time": "2023-01-05T07:14:48.748Z"
   },
   {
    "duration": 10,
    "start_time": "2023-01-05T07:14:48.758Z"
   },
   {
    "duration": 11,
    "start_time": "2023-01-05T07:14:48.770Z"
   },
   {
    "duration": 11,
    "start_time": "2023-01-05T07:14:48.783Z"
   },
   {
    "duration": 32,
    "start_time": "2023-01-05T07:14:48.795Z"
   },
   {
    "duration": 13,
    "start_time": "2023-01-05T07:14:48.828Z"
   },
   {
    "duration": 257,
    "start_time": "2023-01-05T07:14:48.842Z"
   },
   {
    "duration": 340,
    "start_time": "2023-01-05T07:14:49.101Z"
   },
   {
    "duration": 16,
    "start_time": "2023-01-05T07:14:49.443Z"
   },
   {
    "duration": 365,
    "start_time": "2023-01-05T07:14:49.460Z"
   },
   {
    "duration": 26,
    "start_time": "2023-01-05T07:14:49.827Z"
   },
   {
    "duration": 19,
    "start_time": "2023-01-05T07:14:49.854Z"
   },
   {
    "duration": 7,
    "start_time": "2023-01-05T07:14:49.874Z"
   },
   {
    "duration": 12,
    "start_time": "2023-01-05T07:14:49.882Z"
   },
   {
    "duration": 25,
    "start_time": "2023-01-05T07:14:49.922Z"
   },
   {
    "duration": 7,
    "start_time": "2023-01-05T07:14:49.948Z"
   },
   {
    "duration": 15,
    "start_time": "2023-01-05T07:14:49.957Z"
   },
   {
    "duration": 14,
    "start_time": "2023-01-05T07:14:49.974Z"
   },
   {
    "duration": 35,
    "start_time": "2023-01-05T07:14:49.990Z"
   },
   {
    "duration": 16,
    "start_time": "2023-01-05T07:14:50.027Z"
   },
   {
    "duration": 25,
    "start_time": "2023-01-05T07:14:50.045Z"
   },
   {
    "duration": 10,
    "start_time": "2023-01-05T07:14:50.071Z"
   },
   {
    "duration": 86,
    "start_time": "2023-01-05T07:14:50.083Z"
   },
   {
    "duration": 0,
    "start_time": "2023-01-05T07:14:50.171Z"
   },
   {
    "duration": 0,
    "start_time": "2023-01-05T07:14:50.172Z"
   },
   {
    "duration": 0,
    "start_time": "2023-01-05T07:14:50.174Z"
   },
   {
    "duration": 0,
    "start_time": "2023-01-05T07:14:50.175Z"
   },
   {
    "duration": 8,
    "start_time": "2023-01-05T07:17:44.736Z"
   },
   {
    "duration": 7,
    "start_time": "2023-01-05T07:17:46.457Z"
   },
   {
    "duration": 328,
    "start_time": "2023-01-05T07:17:48.402Z"
   },
   {
    "duration": 310,
    "start_time": "2023-01-05T07:17:55.864Z"
   },
   {
    "duration": 10,
    "start_time": "2023-01-05T07:19:31.147Z"
   },
   {
    "duration": 9,
    "start_time": "2023-01-05T07:19:32.806Z"
   },
   {
    "duration": 6,
    "start_time": "2023-01-05T07:32:36.651Z"
   },
   {
    "duration": 171,
    "start_time": "2023-01-05T07:36:52.783Z"
   },
   {
    "duration": 10,
    "start_time": "2023-01-05T08:55:20.818Z"
   },
   {
    "duration": 10,
    "start_time": "2023-01-05T08:55:34.571Z"
   },
   {
    "duration": 10,
    "start_time": "2023-01-05T08:55:46.516Z"
   },
   {
    "duration": 12,
    "start_time": "2023-01-05T08:56:07.169Z"
   },
   {
    "duration": 65,
    "start_time": "2023-01-05T08:56:51.980Z"
   },
   {
    "duration": 56,
    "start_time": "2023-01-05T08:57:07.704Z"
   },
   {
    "duration": 12,
    "start_time": "2023-01-05T08:57:11.737Z"
   },
   {
    "duration": 66,
    "start_time": "2023-01-05T08:57:16.778Z"
   },
   {
    "duration": 7,
    "start_time": "2023-01-05T08:59:16.471Z"
   },
   {
    "duration": 10,
    "start_time": "2023-01-05T09:01:11.132Z"
   },
   {
    "duration": 325,
    "start_time": "2023-01-05T09:03:03.880Z"
   },
   {
    "duration": 8,
    "start_time": "2023-01-05T09:03:07.206Z"
   },
   {
    "duration": 312,
    "start_time": "2023-01-05T09:03:09.035Z"
   },
   {
    "duration": 9,
    "start_time": "2023-01-05T09:03:32.429Z"
   },
   {
    "duration": 38,
    "start_time": "2023-01-05T09:03:34.038Z"
   },
   {
    "duration": 156,
    "start_time": "2023-01-05T09:03:36.338Z"
   },
   {
    "duration": 10,
    "start_time": "2023-01-05T09:03:39.113Z"
   },
   {
    "duration": 8,
    "start_time": "2023-01-05T09:03:40.845Z"
   },
   {
    "duration": 8,
    "start_time": "2023-01-05T09:03:44.994Z"
   },
   {
    "duration": 312,
    "start_time": "2023-01-05T09:03:47.393Z"
   },
   {
    "duration": 10,
    "start_time": "2023-01-05T09:05:48.119Z"
   },
   {
    "duration": 35,
    "start_time": "2023-01-05T09:05:50.585Z"
   },
   {
    "duration": 157,
    "start_time": "2023-01-05T09:05:53.312Z"
   },
   {
    "duration": 9,
    "start_time": "2023-01-05T09:06:00.407Z"
   },
   {
    "duration": 11,
    "start_time": "2023-01-05T09:06:02.578Z"
   },
   {
    "duration": 9,
    "start_time": "2023-01-05T09:06:17.766Z"
   },
   {
    "duration": 16,
    "start_time": "2023-01-05T09:06:19.231Z"
   },
   {
    "duration": 15,
    "start_time": "2023-01-05T09:07:17.003Z"
   },
   {
    "duration": 7,
    "start_time": "2023-01-05T09:07:25.552Z"
   },
   {
    "duration": 5,
    "start_time": "2023-01-05T09:07:28.061Z"
   },
   {
    "duration": 6,
    "start_time": "2023-01-05T09:07:32.495Z"
   },
   {
    "duration": 526,
    "start_time": "2023-01-05T09:08:29.146Z"
   },
   {
    "duration": 550,
    "start_time": "2023-01-05T09:08:40.998Z"
   },
   {
    "duration": 10,
    "start_time": "2023-01-05T09:09:05.980Z"
   },
   {
    "duration": 8,
    "start_time": "2023-01-05T09:09:08.977Z"
   },
   {
    "duration": 16,
    "start_time": "2023-01-05T09:09:10.260Z"
   },
   {
    "duration": 7,
    "start_time": "2023-01-05T09:09:12.194Z"
   },
   {
    "duration": 7,
    "start_time": "2023-01-05T09:09:13.744Z"
   },
   {
    "duration": 11,
    "start_time": "2023-01-05T09:09:17.266Z"
   },
   {
    "duration": 4,
    "start_time": "2023-01-05T09:12:09.563Z"
   },
   {
    "duration": 15,
    "start_time": "2023-01-05T09:12:42.083Z"
   },
   {
    "duration": 22,
    "start_time": "2023-01-05T09:14:10.410Z"
   },
   {
    "duration": 10,
    "start_time": "2023-01-05T09:14:18.451Z"
   },
   {
    "duration": 167,
    "start_time": "2023-01-05T09:16:02.269Z"
   },
   {
    "duration": 690,
    "start_time": "2023-01-05T09:16:11.206Z"
   },
   {
    "duration": 2,
    "start_time": "2023-01-05T09:16:11.898Z"
   },
   {
    "duration": 598,
    "start_time": "2023-01-05T09:16:11.902Z"
   },
   {
    "duration": 26,
    "start_time": "2023-01-05T09:16:12.502Z"
   },
   {
    "duration": 120,
    "start_time": "2023-01-05T09:16:12.530Z"
   },
   {
    "duration": 672,
    "start_time": "2023-01-05T09:16:12.652Z"
   },
   {
    "duration": 97,
    "start_time": "2023-01-05T09:16:13.326Z"
   },
   {
    "duration": 6,
    "start_time": "2023-01-05T09:16:13.425Z"
   },
   {
    "duration": 20,
    "start_time": "2023-01-05T09:16:13.432Z"
   },
   {
    "duration": 43,
    "start_time": "2023-01-05T09:16:13.455Z"
   },
   {
    "duration": 25,
    "start_time": "2023-01-05T09:16:13.500Z"
   },
   {
    "duration": 39,
    "start_time": "2023-01-05T09:16:13.527Z"
   },
   {
    "duration": 5,
    "start_time": "2023-01-05T09:16:13.568Z"
   },
   {
    "duration": 46,
    "start_time": "2023-01-05T09:16:13.576Z"
   },
   {
    "duration": 174,
    "start_time": "2023-01-05T09:16:13.624Z"
   },
   {
    "duration": 9,
    "start_time": "2023-01-05T09:16:13.800Z"
   },
   {
    "duration": 196,
    "start_time": "2023-01-05T09:16:13.811Z"
   },
   {
    "duration": 3,
    "start_time": "2023-01-05T09:16:14.008Z"
   },
   {
    "duration": 18,
    "start_time": "2023-01-05T09:16:14.013Z"
   },
   {
    "duration": 24,
    "start_time": "2023-01-05T09:16:14.033Z"
   },
   {
    "duration": 182,
    "start_time": "2023-01-05T09:16:14.059Z"
   },
   {
    "duration": 9,
    "start_time": "2023-01-05T09:16:14.243Z"
   },
   {
    "duration": 9,
    "start_time": "2023-01-05T09:16:14.253Z"
   },
   {
    "duration": 10,
    "start_time": "2023-01-05T09:16:14.264Z"
   },
   {
    "duration": 7,
    "start_time": "2023-01-05T09:16:14.276Z"
   },
   {
    "duration": 38,
    "start_time": "2023-01-05T09:16:14.285Z"
   },
   {
    "duration": 18,
    "start_time": "2023-01-05T09:16:14.325Z"
   },
   {
    "duration": 8,
    "start_time": "2023-01-05T09:16:14.346Z"
   },
   {
    "duration": 10,
    "start_time": "2023-01-05T09:16:14.356Z"
   },
   {
    "duration": 19,
    "start_time": "2023-01-05T09:16:14.367Z"
   },
   {
    "duration": 34,
    "start_time": "2023-01-05T09:16:14.388Z"
   },
   {
    "duration": 15,
    "start_time": "2023-01-05T09:16:14.424Z"
   },
   {
    "duration": 32,
    "start_time": "2023-01-05T09:16:14.441Z"
   },
   {
    "duration": 277,
    "start_time": "2023-01-05T09:16:14.475Z"
   },
   {
    "duration": 9,
    "start_time": "2023-01-05T09:16:14.754Z"
   },
   {
    "duration": 11,
    "start_time": "2023-01-05T09:16:14.765Z"
   },
   {
    "duration": 342,
    "start_time": "2023-01-05T09:16:14.778Z"
   },
   {
    "duration": 74,
    "start_time": "2023-01-05T09:16:15.122Z"
   },
   {
    "duration": 0,
    "start_time": "2023-01-05T09:16:15.197Z"
   },
   {
    "duration": 0,
    "start_time": "2023-01-05T09:16:15.199Z"
   },
   {
    "duration": 0,
    "start_time": "2023-01-05T09:16:15.200Z"
   },
   {
    "duration": 0,
    "start_time": "2023-01-05T09:16:15.201Z"
   },
   {
    "duration": 0,
    "start_time": "2023-01-05T09:16:15.202Z"
   },
   {
    "duration": 0,
    "start_time": "2023-01-05T09:16:15.222Z"
   },
   {
    "duration": 0,
    "start_time": "2023-01-05T09:16:15.224Z"
   },
   {
    "duration": 1,
    "start_time": "2023-01-05T09:16:15.225Z"
   },
   {
    "duration": 0,
    "start_time": "2023-01-05T09:16:15.227Z"
   },
   {
    "duration": 0,
    "start_time": "2023-01-05T09:16:15.228Z"
   },
   {
    "duration": 0,
    "start_time": "2023-01-05T09:16:15.229Z"
   },
   {
    "duration": 21,
    "start_time": "2023-01-05T09:16:32.841Z"
   },
   {
    "duration": 666,
    "start_time": "2023-01-05T09:18:42.469Z"
   },
   {
    "duration": 3,
    "start_time": "2023-01-05T09:18:43.137Z"
   },
   {
    "duration": 638,
    "start_time": "2023-01-05T09:18:43.141Z"
   },
   {
    "duration": 24,
    "start_time": "2023-01-05T09:18:43.782Z"
   },
   {
    "duration": 100,
    "start_time": "2023-01-05T09:18:43.807Z"
   },
   {
    "duration": 634,
    "start_time": "2023-01-05T09:18:43.922Z"
   },
   {
    "duration": 117,
    "start_time": "2023-01-05T09:18:44.558Z"
   },
   {
    "duration": 6,
    "start_time": "2023-01-05T09:18:44.676Z"
   },
   {
    "duration": 15,
    "start_time": "2023-01-05T09:18:44.683Z"
   },
   {
    "duration": 61,
    "start_time": "2023-01-05T09:18:44.700Z"
   },
   {
    "duration": 10,
    "start_time": "2023-01-05T09:18:44.762Z"
   },
   {
    "duration": 48,
    "start_time": "2023-01-05T09:18:44.774Z"
   },
   {
    "duration": 9,
    "start_time": "2023-01-05T09:18:44.825Z"
   },
   {
    "duration": 27,
    "start_time": "2023-01-05T09:18:44.836Z"
   },
   {
    "duration": 187,
    "start_time": "2023-01-05T09:18:44.865Z"
   },
   {
    "duration": 10,
    "start_time": "2023-01-05T09:18:45.053Z"
   },
   {
    "duration": 214,
    "start_time": "2023-01-05T09:18:45.065Z"
   },
   {
    "duration": 4,
    "start_time": "2023-01-05T09:18:45.282Z"
   },
   {
    "duration": 19,
    "start_time": "2023-01-05T09:18:45.287Z"
   },
   {
    "duration": 40,
    "start_time": "2023-01-05T09:18:45.325Z"
   },
   {
    "duration": 222,
    "start_time": "2023-01-05T09:18:45.368Z"
   },
   {
    "duration": 10,
    "start_time": "2023-01-05T09:18:45.592Z"
   },
   {
    "duration": 21,
    "start_time": "2023-01-05T09:18:45.603Z"
   },
   {
    "duration": 8,
    "start_time": "2023-01-05T09:18:45.626Z"
   },
   {
    "duration": 7,
    "start_time": "2023-01-05T09:18:45.635Z"
   },
   {
    "duration": 10,
    "start_time": "2023-01-05T09:18:45.644Z"
   },
   {
    "duration": 20,
    "start_time": "2023-01-05T09:18:45.656Z"
   },
   {
    "duration": 8,
    "start_time": "2023-01-05T09:18:45.679Z"
   },
   {
    "duration": 39,
    "start_time": "2023-01-05T09:18:45.688Z"
   },
   {
    "duration": 14,
    "start_time": "2023-01-05T09:18:45.729Z"
   },
   {
    "duration": 6,
    "start_time": "2023-01-05T09:18:45.745Z"
   },
   {
    "duration": 6,
    "start_time": "2023-01-05T09:18:45.753Z"
   },
   {
    "duration": 11,
    "start_time": "2023-01-05T09:18:45.760Z"
   },
   {
    "duration": 292,
    "start_time": "2023-01-05T09:18:45.773Z"
   },
   {
    "duration": 10,
    "start_time": "2023-01-05T09:18:46.067Z"
   },
   {
    "duration": 9,
    "start_time": "2023-01-05T09:18:46.079Z"
   },
   {
    "duration": 340,
    "start_time": "2023-01-05T09:18:46.090Z"
   },
   {
    "duration": 67,
    "start_time": "2023-01-05T09:18:46.432Z"
   },
   {
    "duration": 0,
    "start_time": "2023-01-05T09:18:46.501Z"
   },
   {
    "duration": 0,
    "start_time": "2023-01-05T09:18:46.502Z"
   },
   {
    "duration": 0,
    "start_time": "2023-01-05T09:18:46.503Z"
   },
   {
    "duration": 0,
    "start_time": "2023-01-05T09:18:46.504Z"
   },
   {
    "duration": 0,
    "start_time": "2023-01-05T09:18:46.521Z"
   },
   {
    "duration": 0,
    "start_time": "2023-01-05T09:18:46.522Z"
   },
   {
    "duration": 0,
    "start_time": "2023-01-05T09:18:46.523Z"
   },
   {
    "duration": 0,
    "start_time": "2023-01-05T09:18:46.524Z"
   },
   {
    "duration": 0,
    "start_time": "2023-01-05T09:18:46.525Z"
   },
   {
    "duration": 0,
    "start_time": "2023-01-05T09:18:46.526Z"
   },
   {
    "duration": 0,
    "start_time": "2023-01-05T09:18:46.527Z"
   },
   {
    "duration": 19,
    "start_time": "2023-01-05T09:21:33.315Z"
   },
   {
    "duration": 10,
    "start_time": "2023-01-05T09:21:50.491Z"
   },
   {
    "duration": 19,
    "start_time": "2023-01-05T09:23:10.632Z"
   },
   {
    "duration": 20,
    "start_time": "2023-01-05T09:23:21.973Z"
   },
   {
    "duration": 51,
    "start_time": "2023-01-05T09:23:28.928Z"
   },
   {
    "duration": 20,
    "start_time": "2023-01-05T09:23:32.040Z"
   },
   {
    "duration": 10,
    "start_time": "2023-01-05T09:23:42.033Z"
   },
   {
    "duration": 9,
    "start_time": "2023-01-05T09:23:47.781Z"
   },
   {
    "duration": 46,
    "start_time": "2023-01-05T09:23:58.097Z"
   },
   {
    "duration": 9,
    "start_time": "2023-01-05T09:24:00.478Z"
   },
   {
    "duration": 18,
    "start_time": "2023-01-05T09:25:48.849Z"
   },
   {
    "duration": 15,
    "start_time": "2023-01-05T09:26:18.903Z"
   },
   {
    "duration": 7,
    "start_time": "2023-01-05T09:29:11.444Z"
   },
   {
    "duration": 4,
    "start_time": "2023-01-05T09:29:52.236Z"
   },
   {
    "duration": 19,
    "start_time": "2023-01-05T09:31:53.790Z"
   },
   {
    "duration": 72,
    "start_time": "2023-01-05T09:32:29.441Z"
   },
   {
    "duration": 20,
    "start_time": "2023-01-05T09:32:35.349Z"
   },
   {
    "duration": 29,
    "start_time": "2023-01-05T09:32:45.354Z"
   },
   {
    "duration": 20,
    "start_time": "2023-01-05T09:37:03.039Z"
   },
   {
    "duration": 21,
    "start_time": "2023-01-05T09:37:08.944Z"
   },
   {
    "duration": 17,
    "start_time": "2023-01-05T09:37:42.505Z"
   },
   {
    "duration": 16,
    "start_time": "2023-01-05T09:37:48.731Z"
   },
   {
    "duration": 32,
    "start_time": "2023-01-05T09:38:59.278Z"
   },
   {
    "duration": 18,
    "start_time": "2023-01-05T09:43:47.140Z"
   },
   {
    "duration": 19,
    "start_time": "2023-01-05T09:45:52.535Z"
   },
   {
    "duration": 17,
    "start_time": "2023-01-05T09:46:08.147Z"
   },
   {
    "duration": 20,
    "start_time": "2023-01-05T09:46:22.698Z"
   },
   {
    "duration": 19,
    "start_time": "2023-01-05T09:47:22.345Z"
   },
   {
    "duration": 19,
    "start_time": "2023-01-05T09:47:56.647Z"
   },
   {
    "duration": 6,
    "start_time": "2023-01-05T09:49:46.471Z"
   },
   {
    "duration": 14,
    "start_time": "2023-01-05T09:49:49.603Z"
   },
   {
    "duration": 14,
    "start_time": "2023-01-05T09:51:51.303Z"
   },
   {
    "duration": 15,
    "start_time": "2023-01-05T09:52:02.193Z"
   },
   {
    "duration": 4,
    "start_time": "2023-01-05T09:53:05.744Z"
   },
   {
    "duration": 11,
    "start_time": "2023-01-05T09:53:09.356Z"
   },
   {
    "duration": 17,
    "start_time": "2023-01-05T09:54:39.174Z"
   },
   {
    "duration": 25,
    "start_time": "2023-01-05T09:54:49.205Z"
   },
   {
    "duration": 21,
    "start_time": "2023-01-05T09:55:26.973Z"
   },
   {
    "duration": 20,
    "start_time": "2023-01-05T09:55:34.838Z"
   },
   {
    "duration": 19,
    "start_time": "2023-01-05T09:56:07.660Z"
   },
   {
    "duration": 20,
    "start_time": "2023-01-05T09:56:14.898Z"
   },
   {
    "duration": 20,
    "start_time": "2023-01-05T09:58:36.788Z"
   },
   {
    "duration": 28,
    "start_time": "2023-01-05T09:59:09.846Z"
   },
   {
    "duration": 17,
    "start_time": "2023-01-05T09:59:14.769Z"
   },
   {
    "duration": 55,
    "start_time": "2023-01-05T09:59:43.650Z"
   },
   {
    "duration": 16,
    "start_time": "2023-01-05T09:59:47.077Z"
   },
   {
    "duration": 17,
    "start_time": "2023-01-05T09:59:56.390Z"
   },
   {
    "duration": 18,
    "start_time": "2023-01-05T10:00:08.628Z"
   },
   {
    "duration": 22,
    "start_time": "2023-01-05T10:01:03.885Z"
   },
   {
    "duration": 50,
    "start_time": "2023-01-05T10:01:18.729Z"
   },
   {
    "duration": 61,
    "start_time": "2023-01-05T10:02:00.098Z"
   },
   {
    "duration": 53,
    "start_time": "2023-01-05T10:02:19.291Z"
   },
   {
    "duration": 21,
    "start_time": "2023-01-05T10:02:33.565Z"
   },
   {
    "duration": 18,
    "start_time": "2023-01-05T10:02:38.558Z"
   },
   {
    "duration": 21,
    "start_time": "2023-01-05T10:03:15.060Z"
   },
   {
    "duration": 34,
    "start_time": "2023-01-05T10:03:25.359Z"
   },
   {
    "duration": 19,
    "start_time": "2023-01-05T10:04:28.472Z"
   },
   {
    "duration": 19,
    "start_time": "2023-01-05T10:04:44.059Z"
   },
   {
    "duration": 15,
    "start_time": "2023-01-05T10:04:52.050Z"
   },
   {
    "duration": 17,
    "start_time": "2023-01-05T10:07:22.678Z"
   },
   {
    "duration": 18,
    "start_time": "2023-01-05T10:07:24.816Z"
   },
   {
    "duration": 12,
    "start_time": "2023-01-05T10:07:50.007Z"
   },
   {
    "duration": 11,
    "start_time": "2023-01-05T10:07:51.829Z"
   },
   {
    "duration": 8,
    "start_time": "2023-01-05T10:08:16.332Z"
   },
   {
    "duration": 8,
    "start_time": "2023-01-05T10:08:44.932Z"
   },
   {
    "duration": 13,
    "start_time": "2023-01-05T10:08:49.612Z"
   },
   {
    "duration": 10,
    "start_time": "2023-01-05T10:08:53.815Z"
   },
   {
    "duration": 12,
    "start_time": "2023-01-05T10:09:06.705Z"
   },
   {
    "duration": 649,
    "start_time": "2023-01-05T10:13:40.375Z"
   },
   {
    "duration": 3,
    "start_time": "2023-01-05T10:13:41.025Z"
   },
   {
    "duration": 581,
    "start_time": "2023-01-05T10:13:41.029Z"
   },
   {
    "duration": 26,
    "start_time": "2023-01-05T10:13:41.612Z"
   },
   {
    "duration": 116,
    "start_time": "2023-01-05T10:13:41.640Z"
   },
   {
    "duration": 611,
    "start_time": "2023-01-05T10:13:41.757Z"
   },
   {
    "duration": 106,
    "start_time": "2023-01-05T10:13:42.370Z"
   },
   {
    "duration": 6,
    "start_time": "2023-01-05T10:13:42.478Z"
   },
   {
    "duration": 20,
    "start_time": "2023-01-05T10:13:42.485Z"
   },
   {
    "duration": 46,
    "start_time": "2023-01-05T10:13:42.508Z"
   },
   {
    "duration": 8,
    "start_time": "2023-01-05T10:13:42.555Z"
   },
   {
    "duration": 58,
    "start_time": "2023-01-05T10:13:42.564Z"
   },
   {
    "duration": 6,
    "start_time": "2023-01-05T10:13:42.624Z"
   },
   {
    "duration": 32,
    "start_time": "2023-01-05T10:13:42.632Z"
   },
   {
    "duration": 185,
    "start_time": "2023-01-05T10:13:42.666Z"
   },
   {
    "duration": 11,
    "start_time": "2023-01-05T10:13:42.853Z"
   },
   {
    "duration": 195,
    "start_time": "2023-01-05T10:13:42.865Z"
   },
   {
    "duration": 2,
    "start_time": "2023-01-05T10:13:43.062Z"
   },
   {
    "duration": 12,
    "start_time": "2023-01-05T10:13:43.066Z"
   },
   {
    "duration": 43,
    "start_time": "2023-01-05T10:13:43.080Z"
   },
   {
    "duration": 168,
    "start_time": "2023-01-05T10:13:43.124Z"
   },
   {
    "duration": 8,
    "start_time": "2023-01-05T10:13:43.294Z"
   },
   {
    "duration": 23,
    "start_time": "2023-01-05T10:13:43.303Z"
   },
   {
    "duration": 8,
    "start_time": "2023-01-05T10:13:43.328Z"
   },
   {
    "duration": 7,
    "start_time": "2023-01-05T10:13:43.338Z"
   },
   {
    "duration": 12,
    "start_time": "2023-01-05T10:13:43.346Z"
   },
   {
    "duration": 18,
    "start_time": "2023-01-05T10:13:43.360Z"
   },
   {
    "duration": 8,
    "start_time": "2023-01-05T10:13:43.381Z"
   },
   {
    "duration": 36,
    "start_time": "2023-01-05T10:13:43.390Z"
   },
   {
    "duration": 16,
    "start_time": "2023-01-05T10:13:43.428Z"
   },
   {
    "duration": 18,
    "start_time": "2023-01-05T10:13:43.445Z"
   },
   {
    "duration": 5,
    "start_time": "2023-01-05T10:13:43.465Z"
   },
   {
    "duration": 13,
    "start_time": "2023-01-05T10:13:43.472Z"
   },
   {
    "duration": 259,
    "start_time": "2023-01-05T10:13:43.487Z"
   },
   {
    "duration": 320,
    "start_time": "2023-01-05T10:13:43.748Z"
   },
   {
    "duration": 355,
    "start_time": "2023-01-05T10:13:44.070Z"
   },
   {
    "duration": 24,
    "start_time": "2023-01-05T10:13:44.426Z"
   },
   {
    "duration": 15,
    "start_time": "2023-01-05T10:13:44.452Z"
   },
   {
    "duration": 14,
    "start_time": "2023-01-05T10:13:44.469Z"
   },
   {
    "duration": 51,
    "start_time": "2023-01-05T10:13:44.485Z"
   },
   {
    "duration": 25,
    "start_time": "2023-01-05T10:13:44.538Z"
   },
   {
    "duration": 18,
    "start_time": "2023-01-05T10:13:44.578Z"
   },
   {
    "duration": 24,
    "start_time": "2023-01-05T10:13:44.597Z"
   },
   {
    "duration": 11,
    "start_time": "2023-01-05T10:13:44.623Z"
   },
   {
    "duration": 9,
    "start_time": "2023-01-05T10:13:44.636Z"
   },
   {
    "duration": 7,
    "start_time": "2023-01-05T10:13:44.647Z"
   },
   {
    "duration": 11,
    "start_time": "2023-01-05T10:13:44.655Z"
   },
   {
    "duration": 6,
    "start_time": "2023-01-05T10:13:44.668Z"
   },
   {
    "duration": 50,
    "start_time": "2023-01-05T10:25:44.359Z"
   },
   {
    "duration": 600,
    "start_time": "2023-01-05T10:25:50.620Z"
   },
   {
    "duration": 3,
    "start_time": "2023-01-05T10:25:51.222Z"
   },
   {
    "duration": 555,
    "start_time": "2023-01-05T10:25:51.227Z"
   },
   {
    "duration": 27,
    "start_time": "2023-01-05T10:25:51.784Z"
   },
   {
    "duration": 116,
    "start_time": "2023-01-05T10:25:51.814Z"
   },
   {
    "duration": 581,
    "start_time": "2023-01-05T10:25:51.932Z"
   },
   {
    "duration": 95,
    "start_time": "2023-01-05T10:25:52.514Z"
   },
   {
    "duration": 7,
    "start_time": "2023-01-05T10:25:52.621Z"
   },
   {
    "duration": 25,
    "start_time": "2023-01-05T10:25:52.630Z"
   },
   {
    "duration": 72,
    "start_time": "2023-01-05T10:25:52.659Z"
   },
   {
    "duration": 9,
    "start_time": "2023-01-05T10:25:52.732Z"
   },
   {
    "duration": 37,
    "start_time": "2023-01-05T10:25:52.742Z"
   },
   {
    "duration": 6,
    "start_time": "2023-01-05T10:25:52.781Z"
   },
   {
    "duration": 60,
    "start_time": "2023-01-05T10:25:52.788Z"
   },
   {
    "duration": 176,
    "start_time": "2023-01-05T10:25:52.849Z"
   },
   {
    "duration": 9,
    "start_time": "2023-01-05T10:25:53.027Z"
   },
   {
    "duration": 189,
    "start_time": "2023-01-05T10:25:53.038Z"
   },
   {
    "duration": 3,
    "start_time": "2023-01-05T10:25:53.228Z"
   },
   {
    "duration": 11,
    "start_time": "2023-01-05T10:25:53.233Z"
   },
   {
    "duration": 29,
    "start_time": "2023-01-05T10:25:53.246Z"
   },
   {
    "duration": 151,
    "start_time": "2023-01-05T10:25:53.276Z"
   },
   {
    "duration": 8,
    "start_time": "2023-01-05T10:25:53.429Z"
   },
   {
    "duration": 14,
    "start_time": "2023-01-05T10:25:53.439Z"
   },
   {
    "duration": 13,
    "start_time": "2023-01-05T10:25:53.454Z"
   },
   {
    "duration": 7,
    "start_time": "2023-01-05T10:25:53.468Z"
   },
   {
    "duration": 15,
    "start_time": "2023-01-05T10:25:53.477Z"
   },
   {
    "duration": 41,
    "start_time": "2023-01-05T10:25:53.494Z"
   },
   {
    "duration": 7,
    "start_time": "2023-01-05T10:25:53.539Z"
   },
   {
    "duration": 8,
    "start_time": "2023-01-05T10:25:53.547Z"
   },
   {
    "duration": 16,
    "start_time": "2023-01-05T10:25:53.557Z"
   },
   {
    "duration": 16,
    "start_time": "2023-01-05T10:25:53.574Z"
   },
   {
    "duration": 5,
    "start_time": "2023-01-05T10:25:53.592Z"
   },
   {
    "duration": 11,
    "start_time": "2023-01-05T10:25:53.622Z"
   },
   {
    "duration": 249,
    "start_time": "2023-01-05T10:25:53.634Z"
   },
   {
    "duration": 313,
    "start_time": "2023-01-05T10:25:53.885Z"
   },
   {
    "duration": 341,
    "start_time": "2023-01-05T10:25:54.200Z"
   },
   {
    "duration": 26,
    "start_time": "2023-01-05T10:25:54.542Z"
   },
   {
    "duration": 18,
    "start_time": "2023-01-05T10:25:54.570Z"
   },
   {
    "duration": 39,
    "start_time": "2023-01-05T10:25:54.594Z"
   },
   {
    "duration": 17,
    "start_time": "2023-01-05T10:25:54.634Z"
   },
   {
    "duration": 16,
    "start_time": "2023-01-05T10:25:54.652Z"
   },
   {
    "duration": 11,
    "start_time": "2023-01-05T10:25:54.670Z"
   },
   {
    "duration": 11,
    "start_time": "2023-01-05T10:25:54.683Z"
   },
   {
    "duration": 5,
    "start_time": "2023-01-05T10:25:54.720Z"
   },
   {
    "duration": 11,
    "start_time": "2023-01-05T10:25:54.727Z"
   },
   {
    "duration": 5,
    "start_time": "2023-01-05T10:25:54.740Z"
   },
   {
    "duration": 47,
    "start_time": "2023-01-05T10:25:54.747Z"
   },
   {
    "duration": 0,
    "start_time": "2023-01-05T10:25:54.795Z"
   },
   {
    "duration": 0,
    "start_time": "2023-01-05T10:25:54.797Z"
   },
   {
    "duration": 0,
    "start_time": "2023-01-05T10:25:54.798Z"
   },
   {
    "duration": 0,
    "start_time": "2023-01-05T10:25:54.799Z"
   },
   {
    "duration": 6,
    "start_time": "2023-01-05T10:29:45.563Z"
   },
   {
    "duration": 5,
    "start_time": "2023-01-05T10:30:40.982Z"
   },
   {
    "duration": 5,
    "start_time": "2023-01-05T10:31:23.930Z"
   },
   {
    "duration": 68,
    "start_time": "2023-01-05T10:31:36.713Z"
   },
   {
    "duration": 8,
    "start_time": "2023-01-05T10:34:16.377Z"
   },
   {
    "duration": 18,
    "start_time": "2023-01-05T10:34:18.720Z"
   },
   {
    "duration": 389,
    "start_time": "2023-01-05T10:34:39.656Z"
   },
   {
    "duration": 16,
    "start_time": "2023-01-05T10:34:54.615Z"
   },
   {
    "duration": 8,
    "start_time": "2023-01-05T10:34:56.599Z"
   },
   {
    "duration": 7,
    "start_time": "2023-01-05T10:36:06.410Z"
   },
   {
    "duration": 11,
    "start_time": "2023-01-05T10:36:08.423Z"
   },
   {
    "duration": 7,
    "start_time": "2023-01-05T10:36:54.256Z"
   },
   {
    "duration": 10,
    "start_time": "2023-01-05T10:36:56.442Z"
   },
   {
    "duration": 6,
    "start_time": "2023-01-05T10:37:23.351Z"
   },
   {
    "duration": 10,
    "start_time": "2023-01-05T10:37:25.078Z"
   },
   {
    "duration": 7,
    "start_time": "2023-01-05T10:37:49.008Z"
   },
   {
    "duration": 10,
    "start_time": "2023-01-05T10:37:58.081Z"
   },
   {
    "duration": 5,
    "start_time": "2023-01-05T10:38:55.744Z"
   },
   {
    "duration": 9,
    "start_time": "2023-01-05T10:38:57.749Z"
   },
   {
    "duration": 7,
    "start_time": "2023-01-05T10:40:05.388Z"
   },
   {
    "duration": 11,
    "start_time": "2023-01-05T10:40:07.215Z"
   },
   {
    "duration": 6,
    "start_time": "2023-01-05T10:40:20.413Z"
   },
   {
    "duration": 9,
    "start_time": "2023-01-05T10:40:21.979Z"
   },
   {
    "duration": 10,
    "start_time": "2023-01-05T10:43:44.333Z"
   },
   {
    "duration": 60,
    "start_time": "2023-01-05T10:44:04.169Z"
   },
   {
    "duration": 7,
    "start_time": "2023-01-05T10:44:12.970Z"
   },
   {
    "duration": 6,
    "start_time": "2023-01-05T10:44:22.248Z"
   },
   {
    "duration": 6,
    "start_time": "2023-01-05T10:45:02.616Z"
   },
   {
    "duration": 35,
    "start_time": "2023-01-05T10:45:04.763Z"
   },
   {
    "duration": 12,
    "start_time": "2023-01-05T10:46:01.408Z"
   },
   {
    "duration": 6,
    "start_time": "2023-01-05T10:46:02.869Z"
   },
   {
    "duration": 3,
    "start_time": "2023-01-05T10:46:14.955Z"
   },
   {
    "duration": 6,
    "start_time": "2023-01-05T10:46:19.466Z"
   },
   {
    "duration": 10,
    "start_time": "2023-01-05T10:46:21.957Z"
   },
   {
    "duration": 3,
    "start_time": "2023-01-05T10:46:30.928Z"
   },
   {
    "duration": 6,
    "start_time": "2023-01-05T10:46:36.112Z"
   },
   {
    "duration": 12,
    "start_time": "2023-01-05T10:46:37.724Z"
   },
   {
    "duration": 4,
    "start_time": "2023-01-05T10:46:47.231Z"
   },
   {
    "duration": 6,
    "start_time": "2023-01-05T10:47:04.992Z"
   },
   {
    "duration": 11,
    "start_time": "2023-01-05T10:47:06.494Z"
   },
   {
    "duration": 4,
    "start_time": "2023-01-05T10:48:21.187Z"
   },
   {
    "duration": 6,
    "start_time": "2023-01-05T10:48:24.064Z"
   },
   {
    "duration": 10,
    "start_time": "2023-01-05T10:48:25.954Z"
   },
   {
    "duration": 2,
    "start_time": "2023-01-05T10:48:38.536Z"
   },
   {
    "duration": 6,
    "start_time": "2023-01-05T10:48:42.219Z"
   },
   {
    "duration": 9,
    "start_time": "2023-01-05T10:48:43.691Z"
   },
   {
    "duration": 5,
    "start_time": "2023-01-05T10:52:35.594Z"
   },
   {
    "duration": 6,
    "start_time": "2023-01-05T10:52:37.591Z"
   },
   {
    "duration": 10,
    "start_time": "2023-01-05T10:52:39.839Z"
   },
   {
    "duration": 2,
    "start_time": "2023-01-05T10:53:08.046Z"
   },
   {
    "duration": 6,
    "start_time": "2023-01-05T10:53:09.504Z"
   },
   {
    "duration": 10,
    "start_time": "2023-01-05T10:53:11.579Z"
   },
   {
    "duration": 4,
    "start_time": "2023-01-05T10:53:27.093Z"
   },
   {
    "duration": 7,
    "start_time": "2023-01-05T10:53:39.293Z"
   },
   {
    "duration": 4,
    "start_time": "2023-01-05T10:53:44.828Z"
   },
   {
    "duration": 6,
    "start_time": "2023-01-05T10:53:47.466Z"
   },
   {
    "duration": 11,
    "start_time": "2023-01-05T10:53:49.790Z"
   },
   {
    "duration": 6,
    "start_time": "2023-01-05T10:57:37.324Z"
   },
   {
    "duration": 5,
    "start_time": "2023-01-05T11:22:48.594Z"
   },
   {
    "duration": 3,
    "start_time": "2023-01-05T11:22:52.976Z"
   },
   {
    "duration": 8,
    "start_time": "2023-01-05T11:22:54.698Z"
   },
   {
    "duration": 13,
    "start_time": "2023-01-05T11:22:56.737Z"
   },
   {
    "duration": 6,
    "start_time": "2023-01-05T11:23:34.360Z"
   },
   {
    "duration": 11,
    "start_time": "2023-01-05T11:23:36.169Z"
   },
   {
    "duration": 1033,
    "start_time": "2023-01-05T11:24:23.584Z"
   },
   {
    "duration": 2,
    "start_time": "2023-01-05T11:24:24.620Z"
   },
   {
    "duration": 614,
    "start_time": "2023-01-05T11:24:24.624Z"
   },
   {
    "duration": 46,
    "start_time": "2023-01-05T11:24:25.241Z"
   },
   {
    "duration": 140,
    "start_time": "2023-01-05T11:24:25.289Z"
   },
   {
    "duration": 595,
    "start_time": "2023-01-05T11:24:25.430Z"
   },
   {
    "duration": 99,
    "start_time": "2023-01-05T11:24:26.026Z"
   },
   {
    "duration": 5,
    "start_time": "2023-01-05T11:24:26.127Z"
   },
   {
    "duration": 29,
    "start_time": "2023-01-05T11:24:26.134Z"
   },
   {
    "duration": 49,
    "start_time": "2023-01-05T11:24:26.166Z"
   },
   {
    "duration": 6,
    "start_time": "2023-01-05T11:24:26.217Z"
   },
   {
    "duration": 53,
    "start_time": "2023-01-05T11:24:26.224Z"
   },
   {
    "duration": 5,
    "start_time": "2023-01-05T11:24:26.279Z"
   },
   {
    "duration": 39,
    "start_time": "2023-01-05T11:24:26.285Z"
   },
   {
    "duration": 164,
    "start_time": "2023-01-05T11:24:26.326Z"
   },
   {
    "duration": 9,
    "start_time": "2023-01-05T11:24:26.492Z"
   },
   {
    "duration": 198,
    "start_time": "2023-01-05T11:24:26.503Z"
   },
   {
    "duration": 3,
    "start_time": "2023-01-05T11:24:26.702Z"
   },
   {
    "duration": 28,
    "start_time": "2023-01-05T11:24:26.707Z"
   },
   {
    "duration": 45,
    "start_time": "2023-01-05T11:24:26.737Z"
   },
   {
    "duration": 178,
    "start_time": "2023-01-05T11:24:26.784Z"
   },
   {
    "duration": 9,
    "start_time": "2023-01-05T11:24:26.964Z"
   },
   {
    "duration": 16,
    "start_time": "2023-01-05T11:24:26.975Z"
   },
   {
    "duration": 9,
    "start_time": "2023-01-05T11:24:26.993Z"
   },
   {
    "duration": 20,
    "start_time": "2023-01-05T11:24:27.003Z"
   },
   {
    "duration": 13,
    "start_time": "2023-01-05T11:24:27.024Z"
   },
   {
    "duration": 27,
    "start_time": "2023-01-05T11:24:27.038Z"
   },
   {
    "duration": 7,
    "start_time": "2023-01-05T11:24:27.068Z"
   },
   {
    "duration": 30,
    "start_time": "2023-01-05T11:24:27.077Z"
   },
   {
    "duration": 21,
    "start_time": "2023-01-05T11:24:27.109Z"
   },
   {
    "duration": 29,
    "start_time": "2023-01-05T11:24:27.132Z"
   },
   {
    "duration": 11,
    "start_time": "2023-01-05T11:24:27.163Z"
   },
   {
    "duration": 25,
    "start_time": "2023-01-05T11:24:27.175Z"
   },
   {
    "duration": 256,
    "start_time": "2023-01-05T11:24:27.202Z"
   },
   {
    "duration": 319,
    "start_time": "2023-01-05T11:24:27.459Z"
   },
   {
    "duration": 332,
    "start_time": "2023-01-05T11:24:27.780Z"
   },
   {
    "duration": 25,
    "start_time": "2023-01-05T11:24:28.113Z"
   },
   {
    "duration": 29,
    "start_time": "2023-01-05T11:24:28.139Z"
   },
   {
    "duration": 14,
    "start_time": "2023-01-05T11:24:28.170Z"
   },
   {
    "duration": 37,
    "start_time": "2023-01-05T11:24:28.185Z"
   },
   {
    "duration": 16,
    "start_time": "2023-01-05T11:24:28.223Z"
   },
   {
    "duration": 24,
    "start_time": "2023-01-05T11:24:28.240Z"
   },
   {
    "duration": 21,
    "start_time": "2023-01-05T11:24:28.266Z"
   },
   {
    "duration": 18,
    "start_time": "2023-01-05T11:24:28.288Z"
   },
   {
    "duration": 27,
    "start_time": "2023-01-05T11:24:28.307Z"
   },
   {
    "duration": 20,
    "start_time": "2023-01-05T11:24:28.336Z"
   },
   {
    "duration": 28,
    "start_time": "2023-01-05T11:24:28.358Z"
   },
   {
    "duration": 34,
    "start_time": "2023-01-05T11:24:28.390Z"
   },
   {
    "duration": 11,
    "start_time": "2023-01-05T11:24:28.425Z"
   },
   {
    "duration": 3,
    "start_time": "2023-01-05T11:24:46.275Z"
   },
   {
    "duration": 9,
    "start_time": "2023-01-05T11:24:48.240Z"
   },
   {
    "duration": 12,
    "start_time": "2023-01-05T11:24:49.730Z"
   },
   {
    "duration": 1022,
    "start_time": "2023-01-05T11:25:11.367Z"
   },
   {
    "duration": 3,
    "start_time": "2023-01-05T11:25:12.392Z"
   },
   {
    "duration": 611,
    "start_time": "2023-01-05T11:25:12.396Z"
   },
   {
    "duration": 25,
    "start_time": "2023-01-05T11:25:13.009Z"
   },
   {
    "duration": 112,
    "start_time": "2023-01-05T11:25:13.036Z"
   },
   {
    "duration": 650,
    "start_time": "2023-01-05T11:25:13.150Z"
   },
   {
    "duration": 105,
    "start_time": "2023-01-05T11:25:13.802Z"
   },
   {
    "duration": 13,
    "start_time": "2023-01-05T11:25:13.909Z"
   },
   {
    "duration": 11,
    "start_time": "2023-01-05T11:25:13.924Z"
   },
   {
    "duration": 56,
    "start_time": "2023-01-05T11:25:13.938Z"
   },
   {
    "duration": 25,
    "start_time": "2023-01-05T11:25:13.996Z"
   },
   {
    "duration": 58,
    "start_time": "2023-01-05T11:25:14.022Z"
   },
   {
    "duration": 6,
    "start_time": "2023-01-05T11:25:14.082Z"
   },
   {
    "duration": 45,
    "start_time": "2023-01-05T11:25:14.090Z"
   },
   {
    "duration": 176,
    "start_time": "2023-01-05T11:25:14.137Z"
   },
   {
    "duration": 11,
    "start_time": "2023-01-05T11:25:14.314Z"
   },
   {
    "duration": 247,
    "start_time": "2023-01-05T11:25:14.327Z"
   },
   {
    "duration": 3,
    "start_time": "2023-01-05T11:25:14.575Z"
   },
   {
    "duration": 18,
    "start_time": "2023-01-05T11:25:14.580Z"
   },
   {
    "duration": 42,
    "start_time": "2023-01-05T11:25:14.600Z"
   },
   {
    "duration": 160,
    "start_time": "2023-01-05T11:25:14.644Z"
   },
   {
    "duration": 19,
    "start_time": "2023-01-05T11:25:14.806Z"
   },
   {
    "duration": 11,
    "start_time": "2023-01-05T11:25:14.827Z"
   },
   {
    "duration": 8,
    "start_time": "2023-01-05T11:25:14.839Z"
   },
   {
    "duration": 6,
    "start_time": "2023-01-05T11:25:14.848Z"
   },
   {
    "duration": 9,
    "start_time": "2023-01-05T11:25:14.855Z"
   },
   {
    "duration": 25,
    "start_time": "2023-01-05T11:25:14.865Z"
   },
   {
    "duration": 8,
    "start_time": "2023-01-05T11:25:14.923Z"
   },
   {
    "duration": 10,
    "start_time": "2023-01-05T11:25:14.932Z"
   },
   {
    "duration": 24,
    "start_time": "2023-01-05T11:25:14.944Z"
   },
   {
    "duration": 18,
    "start_time": "2023-01-05T11:25:14.970Z"
   },
   {
    "duration": 5,
    "start_time": "2023-01-05T11:25:14.990Z"
   },
   {
    "duration": 25,
    "start_time": "2023-01-05T11:25:14.997Z"
   },
   {
    "duration": 250,
    "start_time": "2023-01-05T11:25:15.024Z"
   },
   {
    "duration": 382,
    "start_time": "2023-01-05T11:25:15.276Z"
   },
   {
    "duration": 305,
    "start_time": "2023-01-05T11:25:15.660Z"
   },
   {
    "duration": 23,
    "start_time": "2023-01-05T11:25:15.968Z"
   },
   {
    "duration": 38,
    "start_time": "2023-01-05T11:25:15.993Z"
   },
   {
    "duration": 15,
    "start_time": "2023-01-05T11:25:16.033Z"
   },
   {
    "duration": 18,
    "start_time": "2023-01-05T11:25:16.050Z"
   },
   {
    "duration": 16,
    "start_time": "2023-01-05T11:25:16.070Z"
   },
   {
    "duration": 42,
    "start_time": "2023-01-05T11:25:16.087Z"
   },
   {
    "duration": 15,
    "start_time": "2023-01-05T11:25:16.131Z"
   },
   {
    "duration": 10,
    "start_time": "2023-01-05T11:25:16.147Z"
   },
   {
    "duration": 15,
    "start_time": "2023-01-05T11:25:16.159Z"
   },
   {
    "duration": 7,
    "start_time": "2023-01-05T11:25:16.175Z"
   },
   {
    "duration": 6,
    "start_time": "2023-01-05T11:25:16.184Z"
   },
   {
    "duration": 15,
    "start_time": "2023-01-05T11:25:16.192Z"
   },
   {
    "duration": 13,
    "start_time": "2023-01-05T11:25:16.208Z"
   },
   {
    "duration": 72,
    "start_time": "2023-01-05T13:52:22.683Z"
   },
   {
    "duration": 42,
    "start_time": "2023-01-05T13:52:58.338Z"
   },
   {
    "duration": 6,
    "start_time": "2023-01-05T13:55:15.811Z"
   },
   {
    "duration": 41,
    "start_time": "2023-01-05T13:55:17.644Z"
   },
   {
    "duration": 1300,
    "start_time": "2023-01-05T13:55:27.514Z"
   },
   {
    "duration": 2,
    "start_time": "2023-01-05T13:55:28.816Z"
   },
   {
    "duration": 885,
    "start_time": "2023-01-05T13:55:28.820Z"
   },
   {
    "duration": 24,
    "start_time": "2023-01-05T13:55:29.707Z"
   },
   {
    "duration": 102,
    "start_time": "2023-01-05T13:55:29.733Z"
   },
   {
    "duration": 605,
    "start_time": "2023-01-05T13:55:29.837Z"
   },
   {
    "duration": 103,
    "start_time": "2023-01-05T13:55:30.445Z"
   },
   {
    "duration": 6,
    "start_time": "2023-01-05T13:55:30.550Z"
   },
   {
    "duration": 36,
    "start_time": "2023-01-05T13:55:30.557Z"
   },
   {
    "duration": 59,
    "start_time": "2023-01-05T13:55:30.597Z"
   },
   {
    "duration": 8,
    "start_time": "2023-01-05T13:55:30.658Z"
   },
   {
    "duration": 54,
    "start_time": "2023-01-05T13:55:30.668Z"
   },
   {
    "duration": 10,
    "start_time": "2023-01-05T13:55:30.724Z"
   },
   {
    "duration": 57,
    "start_time": "2023-01-05T13:55:30.735Z"
   },
   {
    "duration": 189,
    "start_time": "2023-01-05T13:55:30.794Z"
   },
   {
    "duration": 9,
    "start_time": "2023-01-05T13:55:30.984Z"
   },
   {
    "duration": 201,
    "start_time": "2023-01-05T13:55:30.994Z"
   },
   {
    "duration": 2,
    "start_time": "2023-01-05T13:55:31.197Z"
   },
   {
    "duration": 29,
    "start_time": "2023-01-05T13:55:31.201Z"
   },
   {
    "duration": 66,
    "start_time": "2023-01-05T13:55:31.232Z"
   },
   {
    "duration": 167,
    "start_time": "2023-01-05T13:55:31.300Z"
   },
   {
    "duration": 7,
    "start_time": "2023-01-05T13:55:31.469Z"
   },
   {
    "duration": 28,
    "start_time": "2023-01-05T13:55:31.478Z"
   },
   {
    "duration": 20,
    "start_time": "2023-01-05T13:55:31.507Z"
   },
   {
    "duration": 24,
    "start_time": "2023-01-05T13:55:31.529Z"
   },
   {
    "duration": 12,
    "start_time": "2023-01-05T13:55:31.554Z"
   },
   {
    "duration": 23,
    "start_time": "2023-01-05T13:55:31.567Z"
   },
   {
    "duration": 7,
    "start_time": "2023-01-05T13:55:31.594Z"
   },
   {
    "duration": 7,
    "start_time": "2023-01-05T13:55:31.603Z"
   },
   {
    "duration": 24,
    "start_time": "2023-01-05T13:55:31.611Z"
   },
   {
    "duration": 15,
    "start_time": "2023-01-05T13:55:31.636Z"
   },
   {
    "duration": 10,
    "start_time": "2023-01-05T13:55:31.652Z"
   },
   {
    "duration": 16,
    "start_time": "2023-01-05T13:55:31.663Z"
   },
   {
    "duration": 252,
    "start_time": "2023-01-05T13:55:31.680Z"
   },
   {
    "duration": 333,
    "start_time": "2023-01-05T13:55:31.934Z"
   },
   {
    "duration": 309,
    "start_time": "2023-01-05T13:55:32.269Z"
   },
   {
    "duration": 25,
    "start_time": "2023-01-05T13:55:32.581Z"
   },
   {
    "duration": 14,
    "start_time": "2023-01-05T13:55:32.621Z"
   },
   {
    "duration": 15,
    "start_time": "2023-01-05T13:55:32.636Z"
   },
   {
    "duration": 18,
    "start_time": "2023-01-05T13:55:32.652Z"
   },
   {
    "duration": 16,
    "start_time": "2023-01-05T13:55:32.671Z"
   },
   {
    "duration": 43,
    "start_time": "2023-01-05T13:55:32.688Z"
   },
   {
    "duration": 12,
    "start_time": "2023-01-05T13:55:32.732Z"
   },
   {
    "duration": 10,
    "start_time": "2023-01-05T13:55:32.745Z"
   },
   {
    "duration": 10,
    "start_time": "2023-01-05T13:55:32.757Z"
   },
   {
    "duration": 8,
    "start_time": "2023-01-05T13:55:32.769Z"
   },
   {
    "duration": 17,
    "start_time": "2023-01-05T13:55:32.779Z"
   },
   {
    "duration": 27,
    "start_time": "2023-01-05T13:55:32.797Z"
   },
   {
    "duration": 5,
    "start_time": "2023-01-05T13:55:49.454Z"
   },
   {
    "duration": 6,
    "start_time": "2023-01-05T13:55:54.434Z"
   },
   {
    "duration": 9,
    "start_time": "2023-01-05T13:55:56.216Z"
   },
   {
    "duration": 6,
    "start_time": "2023-01-05T13:56:04.196Z"
   },
   {
    "duration": 9,
    "start_time": "2023-01-05T13:56:05.902Z"
   },
   {
    "duration": 2,
    "start_time": "2023-01-05T13:57:03.693Z"
   },
   {
    "duration": 9,
    "start_time": "2023-01-05T13:58:15.844Z"
   },
   {
    "duration": 2,
    "start_time": "2023-01-05T14:10:59.474Z"
   },
   {
    "duration": 1083,
    "start_time": "2023-01-05T14:12:23.128Z"
   },
   {
    "duration": 3,
    "start_time": "2023-01-05T14:12:24.212Z"
   },
   {
    "duration": 571,
    "start_time": "2023-01-05T14:12:24.216Z"
   },
   {
    "duration": 26,
    "start_time": "2023-01-05T14:12:24.789Z"
   },
   {
    "duration": 107,
    "start_time": "2023-01-05T14:12:24.816Z"
   },
   {
    "duration": 677,
    "start_time": "2023-01-05T14:12:24.924Z"
   },
   {
    "duration": 102,
    "start_time": "2023-01-05T14:12:25.603Z"
   },
   {
    "duration": 14,
    "start_time": "2023-01-05T14:12:25.707Z"
   },
   {
    "duration": 17,
    "start_time": "2023-01-05T14:12:25.723Z"
   },
   {
    "duration": 47,
    "start_time": "2023-01-05T14:12:25.743Z"
   },
   {
    "duration": 8,
    "start_time": "2023-01-05T14:12:25.792Z"
   },
   {
    "duration": 51,
    "start_time": "2023-01-05T14:12:25.802Z"
   },
   {
    "duration": 6,
    "start_time": "2023-01-05T14:12:25.855Z"
   },
   {
    "duration": 28,
    "start_time": "2023-01-05T14:12:25.863Z"
   },
   {
    "duration": 187,
    "start_time": "2023-01-05T14:12:25.892Z"
   },
   {
    "duration": 9,
    "start_time": "2023-01-05T14:12:26.081Z"
   },
   {
    "duration": 193,
    "start_time": "2023-01-05T14:12:26.091Z"
   },
   {
    "duration": 3,
    "start_time": "2023-01-05T14:12:26.285Z"
   },
   {
    "duration": 13,
    "start_time": "2023-01-05T14:12:26.290Z"
   },
   {
    "duration": 53,
    "start_time": "2023-01-05T14:12:26.305Z"
   },
   {
    "duration": 164,
    "start_time": "2023-01-05T14:12:26.359Z"
   },
   {
    "duration": 8,
    "start_time": "2023-01-05T14:12:26.524Z"
   },
   {
    "duration": 22,
    "start_time": "2023-01-05T14:12:26.534Z"
   },
   {
    "duration": 20,
    "start_time": "2023-01-05T14:12:26.558Z"
   },
   {
    "duration": 18,
    "start_time": "2023-01-05T14:12:26.580Z"
   },
   {
    "duration": 15,
    "start_time": "2023-01-05T14:12:26.600Z"
   },
   {
    "duration": 37,
    "start_time": "2023-01-05T14:12:26.616Z"
   },
   {
    "duration": 14,
    "start_time": "2023-01-05T14:12:26.656Z"
   },
   {
    "duration": 30,
    "start_time": "2023-01-05T14:12:26.672Z"
   },
   {
    "duration": 42,
    "start_time": "2023-01-05T14:12:26.704Z"
   },
   {
    "duration": 38,
    "start_time": "2023-01-05T14:12:26.747Z"
   },
   {
    "duration": 17,
    "start_time": "2023-01-05T14:12:26.786Z"
   },
   {
    "duration": 15,
    "start_time": "2023-01-05T14:12:26.804Z"
   },
   {
    "duration": 260,
    "start_time": "2023-01-05T14:12:26.821Z"
   },
   {
    "duration": 317,
    "start_time": "2023-01-05T14:12:27.083Z"
   },
   {
    "duration": 302,
    "start_time": "2023-01-05T14:12:27.402Z"
   },
   {
    "duration": 28,
    "start_time": "2023-01-05T14:12:27.705Z"
   },
   {
    "duration": 14,
    "start_time": "2023-01-05T14:12:27.735Z"
   },
   {
    "duration": 26,
    "start_time": "2023-01-05T14:12:27.751Z"
   },
   {
    "duration": 18,
    "start_time": "2023-01-05T14:12:27.779Z"
   },
   {
    "duration": 39,
    "start_time": "2023-01-05T14:12:27.799Z"
   },
   {
    "duration": 19,
    "start_time": "2023-01-05T14:12:27.839Z"
   },
   {
    "duration": 19,
    "start_time": "2023-01-05T14:12:27.860Z"
   },
   {
    "duration": 116,
    "start_time": "2023-01-05T14:12:27.881Z"
   },
   {
    "duration": 0,
    "start_time": "2023-01-05T14:12:27.999Z"
   },
   {
    "duration": 0,
    "start_time": "2023-01-05T14:12:28.000Z"
   },
   {
    "duration": 1140,
    "start_time": "2023-01-05T14:12:43.629Z"
   },
   {
    "duration": 3,
    "start_time": "2023-01-05T14:12:44.771Z"
   },
   {
    "duration": 657,
    "start_time": "2023-01-05T14:12:44.775Z"
   },
   {
    "duration": 28,
    "start_time": "2023-01-05T14:12:45.434Z"
   },
   {
    "duration": 124,
    "start_time": "2023-01-05T14:12:45.464Z"
   },
   {
    "duration": 596,
    "start_time": "2023-01-05T14:12:45.590Z"
   },
   {
    "duration": 106,
    "start_time": "2023-01-05T14:12:46.188Z"
   },
   {
    "duration": 7,
    "start_time": "2023-01-05T14:12:46.295Z"
   },
   {
    "duration": 23,
    "start_time": "2023-01-05T14:12:46.304Z"
   },
   {
    "duration": 40,
    "start_time": "2023-01-05T14:12:46.329Z"
   },
   {
    "duration": 8,
    "start_time": "2023-01-05T14:12:46.371Z"
   },
   {
    "duration": 58,
    "start_time": "2023-01-05T14:12:46.380Z"
   },
   {
    "duration": 6,
    "start_time": "2023-01-05T14:12:46.440Z"
   },
   {
    "duration": 29,
    "start_time": "2023-01-05T14:12:46.448Z"
   },
   {
    "duration": 190,
    "start_time": "2023-01-05T14:12:46.478Z"
   },
   {
    "duration": 9,
    "start_time": "2023-01-05T14:12:46.670Z"
   },
   {
    "duration": 202,
    "start_time": "2023-01-05T14:12:46.681Z"
   },
   {
    "duration": 2,
    "start_time": "2023-01-05T14:12:46.884Z"
   },
   {
    "duration": 17,
    "start_time": "2023-01-05T14:12:46.888Z"
   },
   {
    "duration": 32,
    "start_time": "2023-01-05T14:12:46.906Z"
   },
   {
    "duration": 170,
    "start_time": "2023-01-05T14:12:46.939Z"
   },
   {
    "duration": 14,
    "start_time": "2023-01-05T14:12:47.110Z"
   },
   {
    "duration": 12,
    "start_time": "2023-01-05T14:12:47.126Z"
   },
   {
    "duration": 7,
    "start_time": "2023-01-05T14:12:47.139Z"
   },
   {
    "duration": 7,
    "start_time": "2023-01-05T14:12:47.148Z"
   },
   {
    "duration": 15,
    "start_time": "2023-01-05T14:12:47.156Z"
   },
   {
    "duration": 40,
    "start_time": "2023-01-05T14:12:47.173Z"
   },
   {
    "duration": 9,
    "start_time": "2023-01-05T14:12:47.215Z"
   },
   {
    "duration": 16,
    "start_time": "2023-01-05T14:12:47.225Z"
   },
   {
    "duration": 17,
    "start_time": "2023-01-05T14:12:47.242Z"
   },
   {
    "duration": 14,
    "start_time": "2023-01-05T14:12:47.260Z"
   },
   {
    "duration": 5,
    "start_time": "2023-01-05T14:12:47.276Z"
   },
   {
    "duration": 16,
    "start_time": "2023-01-05T14:12:47.282Z"
   },
   {
    "duration": 271,
    "start_time": "2023-01-05T14:12:47.299Z"
   },
   {
    "duration": 320,
    "start_time": "2023-01-05T14:12:47.572Z"
   },
   {
    "duration": 309,
    "start_time": "2023-01-05T14:12:47.894Z"
   },
   {
    "duration": 27,
    "start_time": "2023-01-05T14:12:48.205Z"
   },
   {
    "duration": 14,
    "start_time": "2023-01-05T14:12:48.233Z"
   },
   {
    "duration": 13,
    "start_time": "2023-01-05T14:12:48.249Z"
   },
   {
    "duration": 17,
    "start_time": "2023-01-05T14:12:48.263Z"
   },
   {
    "duration": 49,
    "start_time": "2023-01-05T14:12:48.284Z"
   },
   {
    "duration": 12,
    "start_time": "2023-01-05T14:12:48.335Z"
   },
   {
    "duration": 11,
    "start_time": "2023-01-05T14:12:48.348Z"
   },
   {
    "duration": 8,
    "start_time": "2023-01-05T14:12:48.360Z"
   },
   {
    "duration": 16,
    "start_time": "2023-01-05T14:12:48.370Z"
   },
   {
    "duration": 18,
    "start_time": "2023-01-05T14:19:34.526Z"
   },
   {
    "duration": 17,
    "start_time": "2023-01-05T14:19:38.277Z"
   },
   {
    "duration": 12,
    "start_time": "2023-01-05T14:19:54.935Z"
   },
   {
    "duration": 14,
    "start_time": "2023-01-05T14:20:02.422Z"
   },
   {
    "duration": 10,
    "start_time": "2023-01-05T14:21:41.172Z"
   },
   {
    "duration": 667,
    "start_time": "2023-01-05T15:03:09.150Z"
   },
   {
    "duration": 14,
    "start_time": "2023-01-05T15:03:30.732Z"
   },
   {
    "duration": 12,
    "start_time": "2023-01-05T15:03:37.778Z"
   },
   {
    "duration": 28,
    "start_time": "2023-01-05T15:04:16.576Z"
   },
   {
    "duration": 29,
    "start_time": "2023-01-05T15:04:22.181Z"
   },
   {
    "duration": 29,
    "start_time": "2023-01-05T15:04:49.799Z"
   },
   {
    "duration": 26,
    "start_time": "2023-01-05T15:05:02.172Z"
   },
   {
    "duration": 151,
    "start_time": "2023-01-05T15:07:28.795Z"
   },
   {
    "duration": 15,
    "start_time": "2023-01-05T15:08:36.672Z"
   },
   {
    "duration": 10,
    "start_time": "2023-01-05T15:08:50.735Z"
   },
   {
    "duration": 6,
    "start_time": "2023-01-05T15:08:55.617Z"
   },
   {
    "duration": 7,
    "start_time": "2023-01-05T15:09:15.419Z"
   },
   {
    "duration": 16,
    "start_time": "2023-01-05T15:10:14.839Z"
   },
   {
    "duration": 160,
    "start_time": "2023-01-05T15:13:50.198Z"
   },
   {
    "duration": 1247,
    "start_time": "2023-01-05T15:15:35.714Z"
   },
   {
    "duration": 3,
    "start_time": "2023-01-05T15:15:36.962Z"
   },
   {
    "duration": 562,
    "start_time": "2023-01-05T15:15:36.966Z"
   },
   {
    "duration": 25,
    "start_time": "2023-01-05T15:15:37.530Z"
   },
   {
    "duration": 110,
    "start_time": "2023-01-05T15:15:37.557Z"
   },
   {
    "duration": 560,
    "start_time": "2023-01-05T15:15:37.668Z"
   },
   {
    "duration": 96,
    "start_time": "2023-01-05T15:15:38.230Z"
   },
   {
    "duration": 6,
    "start_time": "2023-01-05T15:15:38.327Z"
   },
   {
    "duration": 17,
    "start_time": "2023-01-05T15:15:38.334Z"
   },
   {
    "duration": 49,
    "start_time": "2023-01-05T15:15:38.353Z"
   },
   {
    "duration": 7,
    "start_time": "2023-01-05T15:15:38.403Z"
   },
   {
    "duration": 40,
    "start_time": "2023-01-05T15:15:38.411Z"
   },
   {
    "duration": 6,
    "start_time": "2023-01-05T15:15:38.452Z"
   },
   {
    "duration": 57,
    "start_time": "2023-01-05T15:15:38.460Z"
   },
   {
    "duration": 179,
    "start_time": "2023-01-05T15:15:38.519Z"
   },
   {
    "duration": 10,
    "start_time": "2023-01-05T15:15:38.700Z"
   },
   {
    "duration": 195,
    "start_time": "2023-01-05T15:15:38.711Z"
   },
   {
    "duration": 16,
    "start_time": "2023-01-05T15:15:38.908Z"
   },
   {
    "duration": 59,
    "start_time": "2023-01-05T15:15:38.926Z"
   },
   {
    "duration": 149,
    "start_time": "2023-01-05T15:15:38.987Z"
   },
   {
    "duration": 7,
    "start_time": "2023-01-05T15:15:39.137Z"
   },
   {
    "duration": 33,
    "start_time": "2023-01-05T15:15:39.145Z"
   },
   {
    "duration": 32,
    "start_time": "2023-01-05T15:15:39.179Z"
   },
   {
    "duration": 30,
    "start_time": "2023-01-05T15:15:39.212Z"
   },
   {
    "duration": 18,
    "start_time": "2023-01-05T15:15:39.243Z"
   },
   {
    "duration": 41,
    "start_time": "2023-01-05T15:15:39.262Z"
   },
   {
    "duration": 8,
    "start_time": "2023-01-05T15:15:39.304Z"
   },
   {
    "duration": 7,
    "start_time": "2023-01-05T15:15:39.315Z"
   },
   {
    "duration": 16,
    "start_time": "2023-01-05T15:15:39.323Z"
   },
   {
    "duration": 9,
    "start_time": "2023-01-05T15:15:39.341Z"
   },
   {
    "duration": 8,
    "start_time": "2023-01-05T15:15:39.351Z"
   },
   {
    "duration": 16,
    "start_time": "2023-01-05T15:15:39.360Z"
   },
   {
    "duration": 277,
    "start_time": "2023-01-05T15:15:39.377Z"
   },
   {
    "duration": 323,
    "start_time": "2023-01-05T15:15:39.656Z"
   },
   {
    "duration": 315,
    "start_time": "2023-01-05T15:15:39.981Z"
   },
   {
    "duration": 27,
    "start_time": "2023-01-05T15:15:40.298Z"
   },
   {
    "duration": 16,
    "start_time": "2023-01-05T15:15:40.327Z"
   },
   {
    "duration": 7,
    "start_time": "2023-01-05T15:15:40.345Z"
   },
   {
    "duration": 31,
    "start_time": "2023-01-05T15:15:40.354Z"
   },
   {
    "duration": 9,
    "start_time": "2023-01-05T15:15:40.387Z"
   },
   {
    "duration": 14,
    "start_time": "2023-01-05T15:15:40.398Z"
   },
   {
    "duration": 25,
    "start_time": "2023-01-05T15:15:40.414Z"
   },
   {
    "duration": 13,
    "start_time": "2023-01-05T15:15:40.441Z"
   },
   {
    "duration": 19,
    "start_time": "2023-01-05T15:15:40.456Z"
   },
   {
    "duration": 2,
    "start_time": "2023-01-05T15:15:40.477Z"
   },
   {
    "duration": 8,
    "start_time": "2023-01-05T15:15:40.480Z"
   },
   {
    "duration": 7,
    "start_time": "2023-01-05T16:15:37.901Z"
   },
   {
    "duration": 5,
    "start_time": "2023-01-05T16:17:27.453Z"
   },
   {
    "duration": 1015,
    "start_time": "2023-01-05T16:21:19.946Z"
   },
   {
    "duration": 2,
    "start_time": "2023-01-05T16:21:20.963Z"
   },
   {
    "duration": 576,
    "start_time": "2023-01-05T16:21:20.967Z"
   },
   {
    "duration": 29,
    "start_time": "2023-01-05T16:21:21.545Z"
   },
   {
    "duration": 105,
    "start_time": "2023-01-05T16:21:21.575Z"
   },
   {
    "duration": 576,
    "start_time": "2023-01-05T16:21:21.681Z"
   },
   {
    "duration": 101,
    "start_time": "2023-01-05T16:21:22.259Z"
   },
   {
    "duration": 6,
    "start_time": "2023-01-05T16:21:22.361Z"
   },
   {
    "duration": 13,
    "start_time": "2023-01-05T16:21:22.369Z"
   },
   {
    "duration": 56,
    "start_time": "2023-01-05T16:21:22.384Z"
   },
   {
    "duration": 7,
    "start_time": "2023-01-05T16:21:22.441Z"
   },
   {
    "duration": 36,
    "start_time": "2023-01-05T16:21:22.450Z"
   },
   {
    "duration": 5,
    "start_time": "2023-01-05T16:21:22.488Z"
   },
   {
    "duration": 49,
    "start_time": "2023-01-05T16:21:22.495Z"
   },
   {
    "duration": 186,
    "start_time": "2023-01-05T16:21:22.546Z"
   },
   {
    "duration": 10,
    "start_time": "2023-01-05T16:21:22.734Z"
   },
   {
    "duration": 204,
    "start_time": "2023-01-05T16:21:22.745Z"
   },
   {
    "duration": 12,
    "start_time": "2023-01-05T16:21:22.951Z"
   },
   {
    "duration": 45,
    "start_time": "2023-01-05T16:21:22.964Z"
   },
   {
    "duration": 141,
    "start_time": "2023-01-05T16:21:23.011Z"
   },
   {
    "duration": 6,
    "start_time": "2023-01-05T16:21:23.154Z"
   },
   {
    "duration": 29,
    "start_time": "2023-01-05T16:21:23.162Z"
   },
   {
    "duration": 17,
    "start_time": "2023-01-05T16:21:23.193Z"
   },
   {
    "duration": 20,
    "start_time": "2023-01-05T16:21:23.211Z"
   },
   {
    "duration": 38,
    "start_time": "2023-01-05T16:21:23.232Z"
   },
   {
    "duration": 34,
    "start_time": "2023-01-05T16:21:23.272Z"
   },
   {
    "duration": 7,
    "start_time": "2023-01-05T16:21:23.307Z"
   },
   {
    "duration": 11,
    "start_time": "2023-01-05T16:21:23.316Z"
   },
   {
    "duration": 33,
    "start_time": "2023-01-05T16:21:23.329Z"
   },
   {
    "duration": 11,
    "start_time": "2023-01-05T16:21:23.364Z"
   },
   {
    "duration": 10,
    "start_time": "2023-01-05T16:21:23.376Z"
   },
   {
    "duration": 24,
    "start_time": "2023-01-05T16:21:23.387Z"
   },
   {
    "duration": 261,
    "start_time": "2023-01-05T16:21:23.413Z"
   },
   {
    "duration": 310,
    "start_time": "2023-01-05T16:21:23.675Z"
   },
   {
    "duration": 290,
    "start_time": "2023-01-05T16:21:23.986Z"
   },
   {
    "duration": 17,
    "start_time": "2023-01-05T16:21:24.278Z"
   },
   {
    "duration": 33,
    "start_time": "2023-01-05T16:21:24.297Z"
   },
   {
    "duration": 20,
    "start_time": "2023-01-05T16:21:24.332Z"
   },
   {
    "duration": 29,
    "start_time": "2023-01-05T16:21:24.353Z"
   },
   {
    "duration": 21,
    "start_time": "2023-01-05T16:21:24.384Z"
   },
   {
    "duration": 28,
    "start_time": "2023-01-05T16:21:24.406Z"
   },
   {
    "duration": 30,
    "start_time": "2023-01-05T16:21:24.435Z"
   },
   {
    "duration": 20,
    "start_time": "2023-01-05T16:21:24.466Z"
   },
   {
    "duration": 15,
    "start_time": "2023-01-05T16:21:24.487Z"
   },
   {
    "duration": 8,
    "start_time": "2023-01-05T16:21:24.504Z"
   },
   {
    "duration": 17,
    "start_time": "2023-01-05T16:21:24.513Z"
   },
   {
    "duration": 91,
    "start_time": "2023-01-05T16:25:33.249Z"
   },
   {
    "duration": 7,
    "start_time": "2023-01-05T16:25:51.730Z"
   },
   {
    "duration": 17,
    "start_time": "2023-01-05T16:31:34.967Z"
   },
   {
    "duration": 18,
    "start_time": "2023-01-05T16:32:23.482Z"
   },
   {
    "duration": 18,
    "start_time": "2023-01-05T16:32:37.968Z"
   },
   {
    "duration": 9,
    "start_time": "2023-01-05T16:32:41.366Z"
   },
   {
    "duration": 8,
    "start_time": "2023-01-05T16:32:51.043Z"
   },
   {
    "duration": 27,
    "start_time": "2023-01-05T16:34:28.479Z"
   },
   {
    "duration": 1047,
    "start_time": "2023-01-05T16:34:43.903Z"
   },
   {
    "duration": 2,
    "start_time": "2023-01-05T16:34:44.952Z"
   },
   {
    "duration": 603,
    "start_time": "2023-01-05T16:34:44.956Z"
   },
   {
    "duration": 27,
    "start_time": "2023-01-05T16:34:45.560Z"
   },
   {
    "duration": 99,
    "start_time": "2023-01-05T16:34:45.589Z"
   },
   {
    "duration": 568,
    "start_time": "2023-01-05T16:34:45.689Z"
   },
   {
    "duration": 116,
    "start_time": "2023-01-05T16:34:46.259Z"
   },
   {
    "duration": 6,
    "start_time": "2023-01-05T16:34:46.377Z"
   },
   {
    "duration": 13,
    "start_time": "2023-01-05T16:34:46.385Z"
   },
   {
    "duration": 57,
    "start_time": "2023-01-05T16:34:46.400Z"
   },
   {
    "duration": 8,
    "start_time": "2023-01-05T16:34:46.459Z"
   },
   {
    "duration": 58,
    "start_time": "2023-01-05T16:34:46.469Z"
   },
   {
    "duration": 6,
    "start_time": "2023-01-05T16:34:46.529Z"
   },
   {
    "duration": 31,
    "start_time": "2023-01-05T16:34:46.537Z"
   },
   {
    "duration": 198,
    "start_time": "2023-01-05T16:34:46.571Z"
   },
   {
    "duration": 9,
    "start_time": "2023-01-05T16:34:46.770Z"
   },
   {
    "duration": 195,
    "start_time": "2023-01-05T16:34:46.780Z"
   },
   {
    "duration": 14,
    "start_time": "2023-01-05T16:34:46.977Z"
   },
   {
    "duration": 33,
    "start_time": "2023-01-05T16:34:46.993Z"
   },
   {
    "duration": 148,
    "start_time": "2023-01-05T16:34:47.027Z"
   },
   {
    "duration": 6,
    "start_time": "2023-01-05T16:34:47.177Z"
   },
   {
    "duration": 12,
    "start_time": "2023-01-05T16:34:47.185Z"
   },
   {
    "duration": 22,
    "start_time": "2023-01-05T16:34:47.199Z"
   },
   {
    "duration": 6,
    "start_time": "2023-01-05T16:34:47.222Z"
   },
   {
    "duration": 20,
    "start_time": "2023-01-05T16:34:47.229Z"
   },
   {
    "duration": 9,
    "start_time": "2023-01-05T16:34:47.250Z"
   },
   {
    "duration": 10,
    "start_time": "2023-01-05T16:34:47.261Z"
   },
   {
    "duration": 10,
    "start_time": "2023-01-05T16:34:47.275Z"
   },
   {
    "duration": 59,
    "start_time": "2023-01-05T16:34:47.287Z"
   },
   {
    "duration": 6,
    "start_time": "2023-01-05T16:34:47.348Z"
   },
   {
    "duration": 10,
    "start_time": "2023-01-05T16:34:47.355Z"
   },
   {
    "duration": 263,
    "start_time": "2023-01-05T16:34:47.367Z"
   },
   {
    "duration": 324,
    "start_time": "2023-01-05T16:34:47.632Z"
   },
   {
    "duration": 311,
    "start_time": "2023-01-05T16:34:47.958Z"
   },
   {
    "duration": 19,
    "start_time": "2023-01-05T16:34:48.271Z"
   },
   {
    "duration": 31,
    "start_time": "2023-01-05T16:34:48.291Z"
   },
   {
    "duration": 7,
    "start_time": "2023-01-05T16:34:48.324Z"
   },
   {
    "duration": 19,
    "start_time": "2023-01-05T16:34:48.332Z"
   },
   {
    "duration": 8,
    "start_time": "2023-01-05T16:34:48.353Z"
   },
   {
    "duration": 16,
    "start_time": "2023-01-05T16:34:48.362Z"
   },
   {
    "duration": 35,
    "start_time": "2023-01-05T16:34:48.379Z"
   },
   {
    "duration": 13,
    "start_time": "2023-01-05T16:34:48.421Z"
   },
   {
    "duration": 15,
    "start_time": "2023-01-05T16:34:48.436Z"
   },
   {
    "duration": 3,
    "start_time": "2023-01-05T16:34:48.452Z"
   },
   {
    "duration": 8,
    "start_time": "2023-01-05T16:34:48.457Z"
   },
   {
    "duration": 1035,
    "start_time": "2023-01-05T17:00:03.930Z"
   },
   {
    "duration": 635,
    "start_time": "2023-01-05T17:00:04.966Z"
   },
   {
    "duration": 27,
    "start_time": "2023-01-05T17:00:05.603Z"
   },
   {
    "duration": 108,
    "start_time": "2023-01-05T17:00:05.632Z"
   },
   {
    "duration": 602,
    "start_time": "2023-01-05T17:00:05.742Z"
   },
   {
    "duration": 100,
    "start_time": "2023-01-05T17:00:06.345Z"
   },
   {
    "duration": 5,
    "start_time": "2023-01-05T17:00:06.447Z"
   },
   {
    "duration": 14,
    "start_time": "2023-01-05T17:00:06.453Z"
   },
   {
    "duration": 53,
    "start_time": "2023-01-05T17:00:06.469Z"
   },
   {
    "duration": 6,
    "start_time": "2023-01-05T17:00:06.524Z"
   },
   {
    "duration": 48,
    "start_time": "2023-01-05T17:00:06.532Z"
   },
   {
    "duration": 6,
    "start_time": "2023-01-05T17:00:06.582Z"
   },
   {
    "duration": 46,
    "start_time": "2023-01-05T17:00:06.589Z"
   },
   {
    "duration": 173,
    "start_time": "2023-01-05T17:00:06.636Z"
   },
   {
    "duration": 11,
    "start_time": "2023-01-05T17:00:06.810Z"
   },
   {
    "duration": 185,
    "start_time": "2023-01-05T17:00:06.823Z"
   },
   {
    "duration": 14,
    "start_time": "2023-01-05T17:00:07.010Z"
   },
   {
    "duration": 22,
    "start_time": "2023-01-05T17:00:07.026Z"
   },
   {
    "duration": 155,
    "start_time": "2023-01-05T17:00:07.050Z"
   },
   {
    "duration": 14,
    "start_time": "2023-01-05T17:00:07.207Z"
   },
   {
    "duration": 9,
    "start_time": "2023-01-05T17:00:07.223Z"
   },
   {
    "duration": 6,
    "start_time": "2023-01-05T17:00:07.233Z"
   },
   {
    "duration": 9,
    "start_time": "2023-01-05T17:00:07.241Z"
   },
   {
    "duration": 21,
    "start_time": "2023-01-05T17:00:07.252Z"
   },
   {
    "duration": 9,
    "start_time": "2023-01-05T17:00:07.275Z"
   },
   {
    "duration": 36,
    "start_time": "2023-01-05T17:00:07.285Z"
   },
   {
    "duration": 6,
    "start_time": "2023-01-05T17:00:07.323Z"
   },
   {
    "duration": 15,
    "start_time": "2023-01-05T17:00:07.333Z"
   },
   {
    "duration": 7,
    "start_time": "2023-01-05T17:00:07.349Z"
   },
   {
    "duration": 14,
    "start_time": "2023-01-05T17:00:07.358Z"
   },
   {
    "duration": 259,
    "start_time": "2023-01-05T17:00:07.374Z"
   },
   {
    "duration": 328,
    "start_time": "2023-01-05T17:00:07.635Z"
   },
   {
    "duration": 316,
    "start_time": "2023-01-05T17:00:07.965Z"
   },
   {
    "duration": 17,
    "start_time": "2023-01-05T17:00:08.283Z"
   },
   {
    "duration": 26,
    "start_time": "2023-01-05T17:00:08.302Z"
   },
   {
    "duration": 7,
    "start_time": "2023-01-05T17:00:08.330Z"
   },
   {
    "duration": 13,
    "start_time": "2023-01-05T17:00:08.338Z"
   },
   {
    "duration": 8,
    "start_time": "2023-01-05T17:00:08.353Z"
   },
   {
    "duration": 25,
    "start_time": "2023-01-05T17:00:08.363Z"
   },
   {
    "duration": 1026,
    "start_time": "2023-01-05T17:01:28.130Z"
   },
   {
    "duration": 563,
    "start_time": "2023-01-05T17:01:29.158Z"
   },
   {
    "duration": 24,
    "start_time": "2023-01-05T17:01:29.723Z"
   },
   {
    "duration": 112,
    "start_time": "2023-01-05T17:01:29.749Z"
   },
   {
    "duration": 604,
    "start_time": "2023-01-05T17:01:29.862Z"
   },
   {
    "duration": 102,
    "start_time": "2023-01-05T17:01:30.468Z"
   },
   {
    "duration": 6,
    "start_time": "2023-01-05T17:01:30.572Z"
   },
   {
    "duration": 33,
    "start_time": "2023-01-05T17:01:30.580Z"
   },
   {
    "duration": 55,
    "start_time": "2023-01-05T17:01:30.615Z"
   },
   {
    "duration": 8,
    "start_time": "2023-01-05T17:01:30.672Z"
   },
   {
    "duration": 52,
    "start_time": "2023-01-05T17:01:30.681Z"
   },
   {
    "duration": 18,
    "start_time": "2023-01-05T17:01:30.735Z"
   },
   {
    "duration": 42,
    "start_time": "2023-01-05T17:01:30.755Z"
   },
   {
    "duration": 176,
    "start_time": "2023-01-05T17:01:30.799Z"
   },
   {
    "duration": 10,
    "start_time": "2023-01-05T17:01:30.977Z"
   },
   {
    "duration": 196,
    "start_time": "2023-01-05T17:01:30.988Z"
   },
   {
    "duration": 11,
    "start_time": "2023-01-05T17:01:31.186Z"
   },
   {
    "duration": 43,
    "start_time": "2023-01-05T17:01:31.199Z"
   },
   {
    "duration": 147,
    "start_time": "2023-01-05T17:01:31.244Z"
   },
   {
    "duration": 6,
    "start_time": "2023-01-05T17:01:31.393Z"
   },
   {
    "duration": 27,
    "start_time": "2023-01-05T17:01:31.401Z"
   },
   {
    "duration": 8,
    "start_time": "2023-01-05T17:01:31.430Z"
   },
   {
    "duration": 19,
    "start_time": "2023-01-05T17:01:31.439Z"
   },
   {
    "duration": 36,
    "start_time": "2023-01-05T17:01:31.460Z"
   },
   {
    "duration": 11,
    "start_time": "2023-01-05T17:01:31.498Z"
   },
   {
    "duration": 9,
    "start_time": "2023-01-05T17:01:31.511Z"
   },
   {
    "duration": 7,
    "start_time": "2023-01-05T17:01:31.521Z"
   },
   {
    "duration": 28,
    "start_time": "2023-01-05T17:01:31.531Z"
   },
   {
    "duration": 12,
    "start_time": "2023-01-05T17:01:31.561Z"
   },
   {
    "duration": 15,
    "start_time": "2023-01-05T17:01:31.575Z"
   },
   {
    "duration": 258,
    "start_time": "2023-01-05T17:01:31.591Z"
   },
   {
    "duration": 320,
    "start_time": "2023-01-05T17:01:31.850Z"
   },
   {
    "duration": 310,
    "start_time": "2023-01-05T17:01:32.172Z"
   },
   {
    "duration": 20,
    "start_time": "2023-01-05T17:01:32.484Z"
   },
   {
    "duration": 27,
    "start_time": "2023-01-05T17:01:32.506Z"
   },
   {
    "duration": 7,
    "start_time": "2023-01-05T17:01:32.534Z"
   },
   {
    "duration": 12,
    "start_time": "2023-01-05T17:01:32.543Z"
   },
   {
    "duration": 8,
    "start_time": "2023-01-05T17:01:32.557Z"
   },
   {
    "duration": 27,
    "start_time": "2023-01-05T17:01:32.567Z"
   },
   {
    "duration": 169,
    "start_time": "2023-01-05T17:02:13.011Z"
   },
   {
    "duration": 1058,
    "start_time": "2023-01-05T17:03:13.099Z"
   },
   {
    "duration": 598,
    "start_time": "2023-01-05T17:03:14.159Z"
   },
   {
    "duration": 25,
    "start_time": "2023-01-05T17:03:14.759Z"
   },
   {
    "duration": 94,
    "start_time": "2023-01-05T17:03:14.786Z"
   },
   {
    "duration": 617,
    "start_time": "2023-01-05T17:03:14.881Z"
   },
   {
    "duration": 99,
    "start_time": "2023-01-05T17:03:15.499Z"
   },
   {
    "duration": 5,
    "start_time": "2023-01-05T17:03:15.600Z"
   },
   {
    "duration": 18,
    "start_time": "2023-01-05T17:03:15.607Z"
   },
   {
    "duration": 53,
    "start_time": "2023-01-05T17:03:15.627Z"
   },
   {
    "duration": 7,
    "start_time": "2023-01-05T17:03:15.682Z"
   },
   {
    "duration": 46,
    "start_time": "2023-01-05T17:03:15.690Z"
   },
   {
    "duration": 5,
    "start_time": "2023-01-05T17:03:15.738Z"
   },
   {
    "duration": 49,
    "start_time": "2023-01-05T17:03:15.745Z"
   },
   {
    "duration": 155,
    "start_time": "2023-01-05T17:03:15.795Z"
   },
   {
    "duration": 8,
    "start_time": "2023-01-05T17:03:15.952Z"
   },
   {
    "duration": 189,
    "start_time": "2023-01-05T17:03:15.961Z"
   },
   {
    "duration": 12,
    "start_time": "2023-01-05T17:03:16.152Z"
   },
   {
    "duration": 57,
    "start_time": "2023-01-05T17:03:16.165Z"
   },
   {
    "duration": 144,
    "start_time": "2023-01-05T17:03:16.224Z"
   },
   {
    "duration": 7,
    "start_time": "2023-01-05T17:03:16.369Z"
   },
   {
    "duration": 30,
    "start_time": "2023-01-05T17:03:16.377Z"
   },
   {
    "duration": 19,
    "start_time": "2023-01-05T17:03:16.409Z"
   },
   {
    "duration": 25,
    "start_time": "2023-01-05T17:03:16.429Z"
   },
   {
    "duration": 29,
    "start_time": "2023-01-05T17:03:16.456Z"
   },
   {
    "duration": 39,
    "start_time": "2023-01-05T17:03:16.487Z"
   },
   {
    "duration": 21,
    "start_time": "2023-01-05T17:03:16.527Z"
   },
   {
    "duration": 21,
    "start_time": "2023-01-05T17:03:16.550Z"
   },
   {
    "duration": 30,
    "start_time": "2023-01-05T17:03:16.575Z"
   },
   {
    "duration": 28,
    "start_time": "2023-01-05T17:03:16.607Z"
   },
   {
    "duration": 21,
    "start_time": "2023-01-05T17:03:16.637Z"
   },
   {
    "duration": 270,
    "start_time": "2023-01-05T17:03:16.660Z"
   },
   {
    "duration": 315,
    "start_time": "2023-01-05T17:03:16.931Z"
   },
   {
    "duration": 299,
    "start_time": "2023-01-05T17:03:17.248Z"
   },
   {
    "duration": 18,
    "start_time": "2023-01-05T17:03:17.548Z"
   },
   {
    "duration": 21,
    "start_time": "2023-01-05T17:03:17.568Z"
   },
   {
    "duration": 32,
    "start_time": "2023-01-05T17:03:17.591Z"
   },
   {
    "duration": 29,
    "start_time": "2023-01-05T17:03:17.625Z"
   },
   {
    "duration": 27,
    "start_time": "2023-01-05T17:03:17.655Z"
   },
   {
    "duration": 56,
    "start_time": "2023-01-05T17:03:17.683Z"
   },
   {
    "duration": 999,
    "start_time": "2023-01-05T17:09:56.247Z"
   },
   {
    "duration": 553,
    "start_time": "2023-01-05T17:09:57.248Z"
   },
   {
    "duration": 25,
    "start_time": "2023-01-05T17:09:57.802Z"
   },
   {
    "duration": 98,
    "start_time": "2023-01-05T17:09:57.829Z"
   },
   {
    "duration": 557,
    "start_time": "2023-01-05T17:09:57.928Z"
   },
   {
    "duration": 110,
    "start_time": "2023-01-05T17:09:58.487Z"
   },
   {
    "duration": 6,
    "start_time": "2023-01-05T17:09:58.599Z"
   },
   {
    "duration": 17,
    "start_time": "2023-01-05T17:09:58.607Z"
   },
   {
    "duration": 39,
    "start_time": "2023-01-05T17:09:58.626Z"
   },
   {
    "duration": 6,
    "start_time": "2023-01-05T17:09:58.669Z"
   },
   {
    "duration": 60,
    "start_time": "2023-01-05T17:09:58.677Z"
   },
   {
    "duration": 5,
    "start_time": "2023-01-05T17:09:58.739Z"
   },
   {
    "duration": 30,
    "start_time": "2023-01-05T17:09:58.745Z"
   },
   {
    "duration": 174,
    "start_time": "2023-01-05T17:09:58.777Z"
   },
   {
    "duration": 10,
    "start_time": "2023-01-05T17:09:58.952Z"
   },
   {
    "duration": 195,
    "start_time": "2023-01-05T17:09:58.963Z"
   },
   {
    "duration": 14,
    "start_time": "2023-01-05T17:09:59.159Z"
   },
   {
    "duration": 23,
    "start_time": "2023-01-05T17:09:59.174Z"
   },
   {
    "duration": 157,
    "start_time": "2023-01-05T17:09:59.199Z"
   },
   {
    "duration": 7,
    "start_time": "2023-01-05T17:09:59.358Z"
   },
   {
    "duration": 16,
    "start_time": "2023-01-05T17:09:59.366Z"
   },
   {
    "duration": 7,
    "start_time": "2023-01-05T17:09:59.384Z"
   },
   {
    "duration": 6,
    "start_time": "2023-01-05T17:09:59.393Z"
   },
   {
    "duration": 39,
    "start_time": "2023-01-05T17:09:59.401Z"
   },
   {
    "duration": 10,
    "start_time": "2023-01-05T17:09:59.441Z"
   },
   {
    "duration": 9,
    "start_time": "2023-01-05T17:09:59.453Z"
   },
   {
    "duration": 7,
    "start_time": "2023-01-05T17:09:59.464Z"
   },
   {
    "duration": 14,
    "start_time": "2023-01-05T17:09:59.474Z"
   },
   {
    "duration": 33,
    "start_time": "2023-01-05T17:09:59.489Z"
   },
   {
    "duration": 10,
    "start_time": "2023-01-05T17:09:59.523Z"
   },
   {
    "duration": 251,
    "start_time": "2023-01-05T17:09:59.534Z"
   },
   {
    "duration": 313,
    "start_time": "2023-01-05T17:09:59.787Z"
   },
   {
    "duration": 299,
    "start_time": "2023-01-05T17:10:00.101Z"
   },
   {
    "duration": 25,
    "start_time": "2023-01-05T17:10:00.402Z"
   },
   {
    "duration": 24,
    "start_time": "2023-01-05T17:10:00.429Z"
   },
   {
    "duration": 13,
    "start_time": "2023-01-05T17:10:00.455Z"
   },
   {
    "duration": 23,
    "start_time": "2023-01-05T17:10:00.470Z"
   },
   {
    "duration": 15,
    "start_time": "2023-01-05T17:10:00.494Z"
   },
   {
    "duration": 31,
    "start_time": "2023-01-05T17:10:00.510Z"
   },
   {
    "duration": 1032,
    "start_time": "2023-01-05T17:11:32.431Z"
   },
   {
    "duration": 568,
    "start_time": "2023-01-05T17:11:33.465Z"
   },
   {
    "duration": 26,
    "start_time": "2023-01-05T17:11:34.034Z"
   },
   {
    "duration": 107,
    "start_time": "2023-01-05T17:11:34.062Z"
   },
   {
    "duration": 599,
    "start_time": "2023-01-05T17:11:34.171Z"
   },
   {
    "duration": 101,
    "start_time": "2023-01-05T17:11:34.772Z"
   },
   {
    "duration": 6,
    "start_time": "2023-01-05T17:11:34.875Z"
   },
   {
    "duration": 15,
    "start_time": "2023-01-05T17:11:34.882Z"
   },
   {
    "duration": 50,
    "start_time": "2023-01-05T17:11:34.898Z"
   },
   {
    "duration": 7,
    "start_time": "2023-01-05T17:11:34.950Z"
   },
   {
    "duration": 36,
    "start_time": "2023-01-05T17:11:34.958Z"
   },
   {
    "duration": 5,
    "start_time": "2023-01-05T17:11:34.996Z"
   },
   {
    "duration": 44,
    "start_time": "2023-01-05T17:11:35.002Z"
   },
   {
    "duration": 189,
    "start_time": "2023-01-05T17:11:35.048Z"
   },
   {
    "duration": 11,
    "start_time": "2023-01-05T17:11:35.239Z"
   },
   {
    "duration": 210,
    "start_time": "2023-01-05T17:11:35.253Z"
   },
   {
    "duration": 12,
    "start_time": "2023-01-05T17:11:35.464Z"
   },
   {
    "duration": 26,
    "start_time": "2023-01-05T17:11:35.477Z"
   },
   {
    "duration": 155,
    "start_time": "2023-01-05T17:11:35.505Z"
   },
   {
    "duration": 6,
    "start_time": "2023-01-05T17:11:35.662Z"
   },
   {
    "duration": 17,
    "start_time": "2023-01-05T17:11:35.669Z"
   },
   {
    "duration": 6,
    "start_time": "2023-01-05T17:11:35.687Z"
   },
   {
    "duration": 5,
    "start_time": "2023-01-05T17:11:35.695Z"
   },
   {
    "duration": 32,
    "start_time": "2023-01-05T17:11:35.702Z"
   },
   {
    "duration": 9,
    "start_time": "2023-01-05T17:11:35.735Z"
   },
   {
    "duration": 7,
    "start_time": "2023-01-05T17:11:35.745Z"
   },
   {
    "duration": 6,
    "start_time": "2023-01-05T17:11:35.754Z"
   },
   {
    "duration": 16,
    "start_time": "2023-01-05T17:11:35.763Z"
   },
   {
    "duration": 5,
    "start_time": "2023-01-05T17:11:35.780Z"
   },
   {
    "duration": 40,
    "start_time": "2023-01-05T17:11:35.786Z"
   },
   {
    "duration": 242,
    "start_time": "2023-01-05T17:11:35.827Z"
   },
   {
    "duration": 320,
    "start_time": "2023-01-05T17:11:36.070Z"
   },
   {
    "duration": 307,
    "start_time": "2023-01-05T17:11:36.392Z"
   },
   {
    "duration": 25,
    "start_time": "2023-01-05T17:11:36.701Z"
   },
   {
    "duration": 17,
    "start_time": "2023-01-05T17:11:36.727Z"
   },
   {
    "duration": 7,
    "start_time": "2023-01-05T17:11:36.746Z"
   },
   {
    "duration": 12,
    "start_time": "2023-01-05T17:11:36.754Z"
   },
   {
    "duration": 6,
    "start_time": "2023-01-05T17:11:36.767Z"
   },
   {
    "duration": 14,
    "start_time": "2023-01-05T17:11:36.774Z"
   },
   {
    "duration": 1009,
    "start_time": "2023-01-05T18:27:12.712Z"
   },
   {
    "duration": 1898,
    "start_time": "2023-01-05T18:27:13.723Z"
   },
   {
    "duration": 22,
    "start_time": "2023-01-05T18:27:15.622Z"
   },
   {
    "duration": 82,
    "start_time": "2023-01-05T18:27:15.645Z"
   },
   {
    "duration": 475,
    "start_time": "2023-01-05T18:27:15.728Z"
   },
   {
    "duration": 89,
    "start_time": "2023-01-05T18:27:16.205Z"
   },
   {
    "duration": 17,
    "start_time": "2023-01-05T18:27:16.296Z"
   },
   {
    "duration": 12,
    "start_time": "2023-01-05T18:27:16.315Z"
   },
   {
    "duration": 40,
    "start_time": "2023-01-05T18:27:16.329Z"
   },
   {
    "duration": 6,
    "start_time": "2023-01-05T18:27:16.371Z"
   },
   {
    "duration": 35,
    "start_time": "2023-01-05T18:27:16.378Z"
   },
   {
    "duration": 5,
    "start_time": "2023-01-05T18:27:16.414Z"
   },
   {
    "duration": 27,
    "start_time": "2023-01-05T18:27:16.420Z"
   },
   {
    "duration": 156,
    "start_time": "2023-01-05T18:27:16.448Z"
   },
   {
    "duration": 13,
    "start_time": "2023-01-05T18:27:16.606Z"
   },
   {
    "duration": 166,
    "start_time": "2023-01-05T18:27:16.620Z"
   },
   {
    "duration": 11,
    "start_time": "2023-01-05T18:27:16.787Z"
   },
   {
    "duration": 32,
    "start_time": "2023-01-05T18:27:16.799Z"
   },
   {
    "duration": 136,
    "start_time": "2023-01-05T18:27:16.832Z"
   },
   {
    "duration": 6,
    "start_time": "2023-01-05T18:27:16.970Z"
   },
   {
    "duration": 7,
    "start_time": "2023-01-05T18:27:16.977Z"
   },
   {
    "duration": 5,
    "start_time": "2023-01-05T18:27:16.986Z"
   },
   {
    "duration": 21,
    "start_time": "2023-01-05T18:27:16.993Z"
   },
   {
    "duration": 18,
    "start_time": "2023-01-05T18:27:17.015Z"
   },
   {
    "duration": 8,
    "start_time": "2023-01-05T18:27:17.034Z"
   },
   {
    "duration": 6,
    "start_time": "2023-01-05T18:27:17.043Z"
   },
   {
    "duration": 6,
    "start_time": "2023-01-05T18:27:17.051Z"
   },
   {
    "duration": 12,
    "start_time": "2023-01-05T18:27:17.059Z"
   },
   {
    "duration": 7,
    "start_time": "2023-01-05T18:27:17.072Z"
   },
   {
    "duration": 38,
    "start_time": "2023-01-05T18:27:17.080Z"
   },
   {
    "duration": 229,
    "start_time": "2023-01-05T18:27:17.119Z"
   },
   {
    "duration": 291,
    "start_time": "2023-01-05T18:27:17.350Z"
   },
   {
    "duration": 280,
    "start_time": "2023-01-05T18:27:17.642Z"
   },
   {
    "duration": 17,
    "start_time": "2023-01-05T18:27:17.923Z"
   },
   {
    "duration": 15,
    "start_time": "2023-01-05T18:27:17.941Z"
   },
   {
    "duration": 6,
    "start_time": "2023-01-05T18:27:17.957Z"
   },
   {
    "duration": 13,
    "start_time": "2023-01-05T18:27:17.964Z"
   },
   {
    "duration": 5,
    "start_time": "2023-01-05T18:27:17.979Z"
   },
   {
    "duration": 31,
    "start_time": "2023-01-05T18:27:17.985Z"
   },
   {
    "duration": 16,
    "start_time": "2023-01-05T18:42:13.027Z"
   },
   {
    "duration": 4,
    "start_time": "2023-01-05T18:42:27.641Z"
   },
   {
    "duration": 961,
    "start_time": "2023-01-05T18:42:44.169Z"
   },
   {
    "duration": 506,
    "start_time": "2023-01-05T18:42:45.131Z"
   },
   {
    "duration": 24,
    "start_time": "2023-01-05T18:42:45.638Z"
   },
   {
    "duration": 86,
    "start_time": "2023-01-05T18:42:45.664Z"
   },
   {
    "duration": 492,
    "start_time": "2023-01-05T18:42:45.751Z"
   },
   {
    "duration": 97,
    "start_time": "2023-01-05T18:42:46.245Z"
   },
   {
    "duration": 7,
    "start_time": "2023-01-05T18:42:46.343Z"
   },
   {
    "duration": 11,
    "start_time": "2023-01-05T18:42:46.352Z"
   },
   {
    "duration": 49,
    "start_time": "2023-01-05T18:42:46.364Z"
   },
   {
    "duration": 7,
    "start_time": "2023-01-05T18:42:46.416Z"
   },
   {
    "duration": 31,
    "start_time": "2023-01-05T18:42:46.425Z"
   },
   {
    "duration": 5,
    "start_time": "2023-01-05T18:42:46.458Z"
   },
   {
    "duration": 25,
    "start_time": "2023-01-05T18:42:46.464Z"
   },
   {
    "duration": 144,
    "start_time": "2023-01-05T18:42:46.513Z"
   },
   {
    "duration": 9,
    "start_time": "2023-01-05T18:42:46.659Z"
   },
   {
    "duration": 175,
    "start_time": "2023-01-05T18:42:46.669Z"
   },
   {
    "duration": 12,
    "start_time": "2023-01-05T18:42:46.846Z"
   },
   {
    "duration": 32,
    "start_time": "2023-01-05T18:42:46.859Z"
   },
   {
    "duration": 127,
    "start_time": "2023-01-05T18:42:46.892Z"
   },
   {
    "duration": 6,
    "start_time": "2023-01-05T18:42:47.021Z"
   },
   {
    "duration": 9,
    "start_time": "2023-01-05T18:42:47.028Z"
   },
   {
    "duration": 5,
    "start_time": "2023-01-05T18:42:47.038Z"
   },
   {
    "duration": 7,
    "start_time": "2023-01-05T18:42:47.044Z"
   },
   {
    "duration": 16,
    "start_time": "2023-01-05T18:42:47.052Z"
   },
   {
    "duration": 8,
    "start_time": "2023-01-05T18:42:47.069Z"
   },
   {
    "duration": 4,
    "start_time": "2023-01-05T18:42:47.078Z"
   },
   {
    "duration": 33,
    "start_time": "2023-01-05T18:42:47.083Z"
   },
   {
    "duration": 6,
    "start_time": "2023-01-05T18:42:47.118Z"
   },
   {
    "duration": 13,
    "start_time": "2023-01-05T18:42:47.125Z"
   },
   {
    "duration": 6,
    "start_time": "2023-01-05T18:42:47.139Z"
   },
   {
    "duration": 17,
    "start_time": "2023-01-05T18:42:47.146Z"
   },
   {
    "duration": 238,
    "start_time": "2023-01-05T18:42:47.164Z"
   },
   {
    "duration": 290,
    "start_time": "2023-01-05T18:42:47.403Z"
   },
   {
    "duration": 267,
    "start_time": "2023-01-05T18:42:47.695Z"
   },
   {
    "duration": 17,
    "start_time": "2023-01-05T18:42:47.963Z"
   },
   {
    "duration": 32,
    "start_time": "2023-01-05T18:42:47.982Z"
   },
   {
    "duration": 7,
    "start_time": "2023-01-05T18:42:48.015Z"
   },
   {
    "duration": 21,
    "start_time": "2023-01-05T18:42:48.023Z"
   },
   {
    "duration": 20,
    "start_time": "2023-01-05T18:42:48.046Z"
   },
   {
    "duration": 45,
    "start_time": "2023-01-05T18:42:48.067Z"
   },
   {
    "duration": 3,
    "start_time": "2023-01-05T18:43:05.586Z"
   },
   {
    "duration": 11,
    "start_time": "2023-01-05T18:43:15.293Z"
   },
   {
    "duration": 15,
    "start_time": "2023-01-05T18:43:24.467Z"
   },
   {
    "duration": 10,
    "start_time": "2023-01-05T18:43:35.966Z"
   },
   {
    "duration": 6,
    "start_time": "2023-01-05T18:56:15.454Z"
   },
   {
    "duration": 11,
    "start_time": "2023-01-05T18:56:17.408Z"
   },
   {
    "duration": 25,
    "start_time": "2023-01-05T18:57:04.571Z"
   },
   {
    "duration": 7,
    "start_time": "2023-01-05T18:57:15.688Z"
   },
   {
    "duration": 1429,
    "start_time": "2023-01-06T08:01:46.749Z"
   },
   {
    "duration": 1126,
    "start_time": "2023-01-06T08:01:48.181Z"
   },
   {
    "duration": 32,
    "start_time": "2023-01-06T08:01:49.309Z"
   },
   {
    "duration": 105,
    "start_time": "2023-01-06T08:01:49.343Z"
   },
   {
    "duration": 735,
    "start_time": "2023-01-06T08:01:49.450Z"
   },
   {
    "duration": 142,
    "start_time": "2023-01-06T08:01:50.188Z"
   },
   {
    "duration": 6,
    "start_time": "2023-01-06T08:01:50.332Z"
   },
   {
    "duration": 16,
    "start_time": "2023-01-06T08:01:50.340Z"
   },
   {
    "duration": 46,
    "start_time": "2023-01-06T08:01:50.358Z"
   },
   {
    "duration": 7,
    "start_time": "2023-01-06T08:01:50.406Z"
   },
   {
    "duration": 43,
    "start_time": "2023-01-06T08:01:50.415Z"
   },
   {
    "duration": 5,
    "start_time": "2023-01-06T08:01:50.460Z"
   },
   {
    "duration": 45,
    "start_time": "2023-01-06T08:01:50.467Z"
   },
   {
    "duration": 321,
    "start_time": "2023-01-06T08:01:50.515Z"
   },
   {
    "duration": 49,
    "start_time": "2023-01-06T08:01:50.838Z"
   },
   {
    "duration": 293,
    "start_time": "2023-01-06T08:01:50.889Z"
   },
   {
    "duration": 15,
    "start_time": "2023-01-06T08:01:51.184Z"
   },
   {
    "duration": 29,
    "start_time": "2023-01-06T08:01:51.200Z"
   },
   {
    "duration": 225,
    "start_time": "2023-01-06T08:01:51.231Z"
   },
   {
    "duration": 7,
    "start_time": "2023-01-06T08:01:51.458Z"
   },
   {
    "duration": 12,
    "start_time": "2023-01-06T08:01:51.478Z"
   },
   {
    "duration": 12,
    "start_time": "2023-01-06T08:01:51.492Z"
   },
   {
    "duration": 29,
    "start_time": "2023-01-06T08:01:51.506Z"
   },
   {
    "duration": 30,
    "start_time": "2023-01-06T08:01:51.538Z"
   },
   {
    "duration": 24,
    "start_time": "2023-01-06T08:01:51.570Z"
   },
   {
    "duration": 21,
    "start_time": "2023-01-06T08:01:51.596Z"
   },
   {
    "duration": 10,
    "start_time": "2023-01-06T08:01:51.620Z"
   },
   {
    "duration": 15,
    "start_time": "2023-01-06T08:01:51.631Z"
   },
   {
    "duration": 8,
    "start_time": "2023-01-06T08:01:51.648Z"
   },
   {
    "duration": 37,
    "start_time": "2023-01-06T08:01:51.658Z"
   },
   {
    "duration": 374,
    "start_time": "2023-01-06T08:01:51.698Z"
   },
   {
    "duration": 391,
    "start_time": "2023-01-06T08:01:52.077Z"
   },
   {
    "duration": 359,
    "start_time": "2023-01-06T08:01:52.470Z"
   },
   {
    "duration": 26,
    "start_time": "2023-01-06T08:01:52.831Z"
   },
   {
    "duration": 35,
    "start_time": "2023-01-06T08:01:52.859Z"
   },
   {
    "duration": 11,
    "start_time": "2023-01-06T08:01:52.897Z"
   },
   {
    "duration": 15,
    "start_time": "2023-01-06T08:01:52.910Z"
   },
   {
    "duration": 8,
    "start_time": "2023-01-06T08:01:52.928Z"
   },
   {
    "duration": 13,
    "start_time": "2023-01-06T08:01:52.938Z"
   },
   {
    "duration": 7,
    "start_time": "2023-01-06T08:02:06.168Z"
   },
   {
    "duration": 13,
    "start_time": "2023-01-06T08:02:08.377Z"
   },
   {
    "duration": 8,
    "start_time": "2023-01-06T08:02:38.213Z"
   },
   {
    "duration": 7,
    "start_time": "2023-01-06T08:03:34.940Z"
   },
   {
    "duration": 6,
    "start_time": "2023-01-06T08:03:44.297Z"
   },
   {
    "duration": 11,
    "start_time": "2023-01-06T08:03:46.140Z"
   },
   {
    "duration": 9,
    "start_time": "2023-01-06T08:04:13.903Z"
   },
   {
    "duration": 99,
    "start_time": "2023-01-06T08:04:32.969Z"
   },
   {
    "duration": 4,
    "start_time": "2023-01-06T08:04:39.701Z"
   },
   {
    "duration": 7,
    "start_time": "2023-01-06T08:09:30.068Z"
   },
   {
    "duration": 11,
    "start_time": "2023-01-06T08:09:32.513Z"
   },
   {
    "duration": 7,
    "start_time": "2023-01-06T08:10:00.115Z"
   },
   {
    "duration": 10,
    "start_time": "2023-01-06T08:10:01.970Z"
   },
   {
    "duration": 10,
    "start_time": "2023-01-06T08:10:27.407Z"
   },
   {
    "duration": 11,
    "start_time": "2023-01-06T08:10:29.455Z"
   },
   {
    "duration": 1046,
    "start_time": "2023-01-06T08:18:51.287Z"
   },
   {
    "duration": 580,
    "start_time": "2023-01-06T08:18:52.335Z"
   },
   {
    "duration": 28,
    "start_time": "2023-01-06T08:18:52.916Z"
   },
   {
    "duration": 93,
    "start_time": "2023-01-06T08:18:52.946Z"
   },
   {
    "duration": 624,
    "start_time": "2023-01-06T08:18:53.041Z"
   },
   {
    "duration": 101,
    "start_time": "2023-01-06T08:18:53.666Z"
   },
   {
    "duration": 11,
    "start_time": "2023-01-06T08:18:53.769Z"
   },
   {
    "duration": 14,
    "start_time": "2023-01-06T08:18:53.782Z"
   },
   {
    "duration": 38,
    "start_time": "2023-01-06T08:18:53.798Z"
   },
   {
    "duration": 8,
    "start_time": "2023-01-06T08:18:53.838Z"
   },
   {
    "duration": 61,
    "start_time": "2023-01-06T08:18:53.847Z"
   },
   {
    "duration": 6,
    "start_time": "2023-01-06T08:18:53.909Z"
   },
   {
    "duration": 33,
    "start_time": "2023-01-06T08:18:53.916Z"
   },
   {
    "duration": 200,
    "start_time": "2023-01-06T08:18:53.952Z"
   },
   {
    "duration": 10,
    "start_time": "2023-01-06T08:18:54.154Z"
   },
   {
    "duration": 203,
    "start_time": "2023-01-06T08:18:54.165Z"
   },
   {
    "duration": 12,
    "start_time": "2023-01-06T08:18:54.377Z"
   },
   {
    "duration": 22,
    "start_time": "2023-01-06T08:18:54.391Z"
   },
   {
    "duration": 167,
    "start_time": "2023-01-06T08:18:54.415Z"
   },
   {
    "duration": 6,
    "start_time": "2023-01-06T08:18:54.584Z"
   },
   {
    "duration": 12,
    "start_time": "2023-01-06T08:18:54.592Z"
   },
   {
    "duration": 5,
    "start_time": "2023-01-06T08:18:54.606Z"
   },
   {
    "duration": 8,
    "start_time": "2023-01-06T08:18:54.612Z"
   },
   {
    "duration": 19,
    "start_time": "2023-01-06T08:18:54.621Z"
   },
   {
    "duration": 36,
    "start_time": "2023-01-06T08:18:54.642Z"
   },
   {
    "duration": 8,
    "start_time": "2023-01-06T08:18:54.680Z"
   },
   {
    "duration": 8,
    "start_time": "2023-01-06T08:18:54.690Z"
   },
   {
    "duration": 14,
    "start_time": "2023-01-06T08:18:54.700Z"
   },
   {
    "duration": 5,
    "start_time": "2023-01-06T08:18:54.716Z"
   },
   {
    "duration": 12,
    "start_time": "2023-01-06T08:18:54.723Z"
   },
   {
    "duration": 306,
    "start_time": "2023-01-06T08:18:54.737Z"
   },
   {
    "duration": 350,
    "start_time": "2023-01-06T08:18:55.045Z"
   },
   {
    "duration": 327,
    "start_time": "2023-01-06T08:18:55.397Z"
   },
   {
    "duration": 20,
    "start_time": "2023-01-06T08:18:55.726Z"
   },
   {
    "duration": 31,
    "start_time": "2023-01-06T08:18:55.748Z"
   },
   {
    "duration": 7,
    "start_time": "2023-01-06T08:18:55.781Z"
   },
   {
    "duration": 14,
    "start_time": "2023-01-06T08:18:55.790Z"
   },
   {
    "duration": 8,
    "start_time": "2023-01-06T08:18:55.807Z"
   },
   {
    "duration": 20,
    "start_time": "2023-01-06T08:18:55.817Z"
   },
   {
    "duration": 46,
    "start_time": "2023-01-06T09:51:15.717Z"
   },
   {
    "duration": 1259,
    "start_time": "2023-01-06T09:51:22.486Z"
   },
   {
    "duration": 931,
    "start_time": "2023-01-06T09:51:23.747Z"
   },
   {
    "duration": 27,
    "start_time": "2023-01-06T09:51:24.680Z"
   },
   {
    "duration": 112,
    "start_time": "2023-01-06T09:51:24.709Z"
   },
   {
    "duration": 633,
    "start_time": "2023-01-06T09:51:24.823Z"
   },
   {
    "duration": 98,
    "start_time": "2023-01-06T09:51:25.458Z"
   },
   {
    "duration": 6,
    "start_time": "2023-01-06T09:51:25.558Z"
   },
   {
    "duration": 23,
    "start_time": "2023-01-06T09:51:25.565Z"
   },
   {
    "duration": 40,
    "start_time": "2023-01-06T09:51:25.589Z"
   },
   {
    "duration": 13,
    "start_time": "2023-01-06T09:51:25.633Z"
   },
   {
    "duration": 71,
    "start_time": "2023-01-06T09:51:25.649Z"
   },
   {
    "duration": 6,
    "start_time": "2023-01-06T09:51:25.722Z"
   },
   {
    "duration": 31,
    "start_time": "2023-01-06T09:51:25.730Z"
   },
   {
    "duration": 202,
    "start_time": "2023-01-06T09:51:25.778Z"
   },
   {
    "duration": 10,
    "start_time": "2023-01-06T09:51:25.981Z"
   },
   {
    "duration": 198,
    "start_time": "2023-01-06T09:51:25.992Z"
   },
   {
    "duration": 12,
    "start_time": "2023-01-06T09:51:26.191Z"
   },
   {
    "duration": 22,
    "start_time": "2023-01-06T09:51:26.205Z"
   },
   {
    "duration": 177,
    "start_time": "2023-01-06T09:51:26.229Z"
   },
   {
    "duration": 6,
    "start_time": "2023-01-06T09:51:26.408Z"
   },
   {
    "duration": 35,
    "start_time": "2023-01-06T09:51:26.416Z"
   },
   {
    "duration": 18,
    "start_time": "2023-01-06T09:51:26.453Z"
   },
   {
    "duration": 18,
    "start_time": "2023-01-06T09:51:26.473Z"
   },
   {
    "duration": 13,
    "start_time": "2023-01-06T09:51:26.493Z"
   },
   {
    "duration": 49,
    "start_time": "2023-01-06T09:51:26.508Z"
   },
   {
    "duration": 19,
    "start_time": "2023-01-06T09:51:26.559Z"
   },
   {
    "duration": 17,
    "start_time": "2023-01-06T09:51:26.580Z"
   },
   {
    "duration": 29,
    "start_time": "2023-01-06T09:51:26.600Z"
   },
   {
    "duration": 29,
    "start_time": "2023-01-06T09:51:26.630Z"
   },
   {
    "duration": 8,
    "start_time": "2023-01-06T09:51:26.661Z"
   },
   {
    "duration": 16,
    "start_time": "2023-01-06T09:51:26.672Z"
   },
   {
    "duration": 337,
    "start_time": "2023-01-06T09:51:26.690Z"
   },
   {
    "duration": 355,
    "start_time": "2023-01-06T09:51:27.029Z"
   },
   {
    "duration": 346,
    "start_time": "2023-01-06T09:51:27.387Z"
   },
   {
    "duration": 23,
    "start_time": "2023-01-06T09:51:27.735Z"
   },
   {
    "duration": 34,
    "start_time": "2023-01-06T09:51:27.760Z"
   },
   {
    "duration": 30,
    "start_time": "2023-01-06T09:51:27.797Z"
   },
   {
    "duration": 35,
    "start_time": "2023-01-06T09:51:27.829Z"
   },
   {
    "duration": 20,
    "start_time": "2023-01-06T09:51:27.867Z"
   },
   {
    "duration": 47,
    "start_time": "2023-01-06T09:51:27.888Z"
   },
   {
    "duration": 5,
    "start_time": "2023-01-06T09:52:39.412Z"
   },
   {
    "duration": 15,
    "start_time": "2023-01-06T09:53:15.013Z"
   },
   {
    "duration": 5,
    "start_time": "2023-01-06T09:53:19.708Z"
   },
   {
    "duration": 100,
    "start_time": "2023-01-06T09:54:43.084Z"
   },
   {
    "duration": 5,
    "start_time": "2023-01-06T09:55:02.163Z"
   },
   {
    "duration": 6,
    "start_time": "2023-01-06T09:55:19.309Z"
   },
   {
    "duration": 7,
    "start_time": "2023-01-06T09:57:04.583Z"
   },
   {
    "duration": 5,
    "start_time": "2023-01-06T09:57:12.851Z"
   },
   {
    "duration": 5,
    "start_time": "2023-01-06T09:58:18.378Z"
   },
   {
    "duration": 49,
    "start_time": "2023-01-06T09:58:24.779Z"
   },
   {
    "duration": 3,
    "start_time": "2023-01-06T09:58:27.153Z"
   },
   {
    "duration": 10,
    "start_time": "2023-01-06T09:58:33.226Z"
   },
   {
    "duration": 6,
    "start_time": "2023-01-06T09:58:52.020Z"
   },
   {
    "duration": 5,
    "start_time": "2023-01-06T10:03:29.013Z"
   },
   {
    "duration": 5,
    "start_time": "2023-01-06T10:03:37.172Z"
   },
   {
    "duration": 9,
    "start_time": "2023-01-06T10:06:58.287Z"
   },
   {
    "duration": 5,
    "start_time": "2023-01-06T10:07:04.137Z"
   },
   {
    "duration": 7,
    "start_time": "2023-01-06T10:08:14.081Z"
   },
   {
    "duration": 6,
    "start_time": "2023-01-06T10:08:23.758Z"
   },
   {
    "duration": 1138,
    "start_time": "2023-01-06T10:10:08.755Z"
   },
   {
    "duration": 611,
    "start_time": "2023-01-06T10:10:09.895Z"
   },
   {
    "duration": 28,
    "start_time": "2023-01-06T10:10:10.508Z"
   },
   {
    "duration": 108,
    "start_time": "2023-01-06T10:10:10.537Z"
   },
   {
    "duration": 683,
    "start_time": "2023-01-06T10:10:10.647Z"
   },
   {
    "duration": 110,
    "start_time": "2023-01-06T10:10:11.332Z"
   },
   {
    "duration": 6,
    "start_time": "2023-01-06T10:10:11.444Z"
   },
   {
    "duration": 26,
    "start_time": "2023-01-06T10:10:11.452Z"
   },
   {
    "duration": 39,
    "start_time": "2023-01-06T10:10:11.480Z"
   },
   {
    "duration": 7,
    "start_time": "2023-01-06T10:10:11.522Z"
   },
   {
    "duration": 57,
    "start_time": "2023-01-06T10:10:11.531Z"
   },
   {
    "duration": 5,
    "start_time": "2023-01-06T10:10:11.590Z"
   },
   {
    "duration": 36,
    "start_time": "2023-01-06T10:10:11.597Z"
   },
   {
    "duration": 198,
    "start_time": "2023-01-06T10:10:11.635Z"
   },
   {
    "duration": 10,
    "start_time": "2023-01-06T10:10:11.835Z"
   },
   {
    "duration": 202,
    "start_time": "2023-01-06T10:10:11.846Z"
   },
   {
    "duration": 12,
    "start_time": "2023-01-06T10:10:12.050Z"
   },
   {
    "duration": 33,
    "start_time": "2023-01-06T10:10:12.064Z"
   },
   {
    "duration": 170,
    "start_time": "2023-01-06T10:10:12.099Z"
   },
   {
    "duration": 6,
    "start_time": "2023-01-06T10:10:12.277Z"
   },
   {
    "duration": 15,
    "start_time": "2023-01-06T10:10:12.285Z"
   },
   {
    "duration": 13,
    "start_time": "2023-01-06T10:10:12.302Z"
   },
   {
    "duration": 7,
    "start_time": "2023-01-06T10:10:12.317Z"
   },
   {
    "duration": 7,
    "start_time": "2023-01-06T10:10:12.326Z"
   },
   {
    "duration": 5,
    "start_time": "2023-01-06T10:10:12.335Z"
   },
   {
    "duration": 4,
    "start_time": "2023-01-06T10:10:12.342Z"
   },
   {
    "duration": 33,
    "start_time": "2023-01-06T10:10:12.347Z"
   },
   {
    "duration": 20,
    "start_time": "2023-01-06T10:10:12.384Z"
   },
   {
    "duration": 10,
    "start_time": "2023-01-06T10:10:12.406Z"
   },
   {
    "duration": 8,
    "start_time": "2023-01-06T10:10:12.417Z"
   },
   {
    "duration": 7,
    "start_time": "2023-01-06T10:10:12.426Z"
   },
   {
    "duration": 44,
    "start_time": "2023-01-06T10:10:12.435Z"
   },
   {
    "duration": 5,
    "start_time": "2023-01-06T10:10:12.480Z"
   },
   {
    "duration": 12,
    "start_time": "2023-01-06T10:10:12.486Z"
   },
   {
    "duration": 302,
    "start_time": "2023-01-06T10:10:12.500Z"
   },
   {
    "duration": 358,
    "start_time": "2023-01-06T10:10:12.805Z"
   },
   {
    "duration": 345,
    "start_time": "2023-01-06T10:10:13.165Z"
   },
   {
    "duration": 22,
    "start_time": "2023-01-06T10:10:13.512Z"
   },
   {
    "duration": 18,
    "start_time": "2023-01-06T10:10:13.535Z"
   },
   {
    "duration": 28,
    "start_time": "2023-01-06T10:10:13.555Z"
   },
   {
    "duration": 28,
    "start_time": "2023-01-06T10:10:13.584Z"
   },
   {
    "duration": 8,
    "start_time": "2023-01-06T10:10:13.614Z"
   },
   {
    "duration": 19,
    "start_time": "2023-01-06T10:10:13.623Z"
   },
   {
    "duration": 1111,
    "start_time": "2023-01-06T10:11:04.383Z"
   },
   {
    "duration": 590,
    "start_time": "2023-01-06T10:11:05.496Z"
   },
   {
    "duration": 27,
    "start_time": "2023-01-06T10:11:06.088Z"
   },
   {
    "duration": 107,
    "start_time": "2023-01-06T10:11:06.117Z"
   },
   {
    "duration": 588,
    "start_time": "2023-01-06T10:11:06.225Z"
   },
   {
    "duration": 109,
    "start_time": "2023-01-06T10:11:06.815Z"
   },
   {
    "duration": 6,
    "start_time": "2023-01-06T10:11:06.926Z"
   },
   {
    "duration": 14,
    "start_time": "2023-01-06T10:11:06.934Z"
   },
   {
    "duration": 62,
    "start_time": "2023-01-06T10:11:06.950Z"
   },
   {
    "duration": 7,
    "start_time": "2023-01-06T10:11:07.016Z"
   },
   {
    "duration": 46,
    "start_time": "2023-01-06T10:11:07.025Z"
   },
   {
    "duration": 6,
    "start_time": "2023-01-06T10:11:07.078Z"
   },
   {
    "duration": 32,
    "start_time": "2023-01-06T10:11:07.085Z"
   },
   {
    "duration": 191,
    "start_time": "2023-01-06T10:11:07.119Z"
   },
   {
    "duration": 14,
    "start_time": "2023-01-06T10:11:07.311Z"
   },
   {
    "duration": 226,
    "start_time": "2023-01-06T10:11:07.327Z"
   },
   {
    "duration": 26,
    "start_time": "2023-01-06T10:11:07.555Z"
   },
   {
    "duration": 24,
    "start_time": "2023-01-06T10:11:07.582Z"
   },
   {
    "duration": 172,
    "start_time": "2023-01-06T10:11:07.608Z"
   },
   {
    "duration": 5,
    "start_time": "2023-01-06T10:11:07.782Z"
   },
   {
    "duration": 9,
    "start_time": "2023-01-06T10:11:07.789Z"
   },
   {
    "duration": 9,
    "start_time": "2023-01-06T10:11:07.800Z"
   },
   {
    "duration": 5,
    "start_time": "2023-01-06T10:11:07.811Z"
   },
   {
    "duration": 9,
    "start_time": "2023-01-06T10:11:07.818Z"
   },
   {
    "duration": 8,
    "start_time": "2023-01-06T10:11:07.828Z"
   },
   {
    "duration": 8,
    "start_time": "2023-01-06T10:11:07.837Z"
   },
   {
    "duration": 2,
    "start_time": "2023-01-06T10:11:07.878Z"
   },
   {
    "duration": 9,
    "start_time": "2023-01-06T10:11:07.884Z"
   },
   {
    "duration": 22,
    "start_time": "2023-01-06T10:11:07.895Z"
   },
   {
    "duration": 10,
    "start_time": "2023-01-06T10:11:07.918Z"
   },
   {
    "duration": 10,
    "start_time": "2023-01-06T10:11:07.929Z"
   },
   {
    "duration": 7,
    "start_time": "2023-01-06T10:11:07.940Z"
   },
   {
    "duration": 44,
    "start_time": "2023-01-06T10:11:07.949Z"
   },
   {
    "duration": 10,
    "start_time": "2023-01-06T10:11:07.995Z"
   },
   {
    "duration": 18,
    "start_time": "2023-01-06T10:11:08.007Z"
   },
   {
    "duration": 317,
    "start_time": "2023-01-06T10:11:08.027Z"
   },
   {
    "duration": 388,
    "start_time": "2023-01-06T10:11:08.346Z"
   },
   {
    "duration": 335,
    "start_time": "2023-01-06T10:11:08.736Z"
   },
   {
    "duration": 21,
    "start_time": "2023-01-06T10:11:09.077Z"
   },
   {
    "duration": 34,
    "start_time": "2023-01-06T10:11:09.100Z"
   },
   {
    "duration": 18,
    "start_time": "2023-01-06T10:11:09.136Z"
   },
   {
    "duration": 29,
    "start_time": "2023-01-06T10:11:09.156Z"
   },
   {
    "duration": 15,
    "start_time": "2023-01-06T10:11:09.187Z"
   },
   {
    "duration": 46,
    "start_time": "2023-01-06T10:11:09.203Z"
   },
   {
    "duration": 48,
    "start_time": "2023-01-06T10:17:30.049Z"
   },
   {
    "duration": 1110,
    "start_time": "2023-01-06T10:17:41.374Z"
   },
   {
    "duration": 597,
    "start_time": "2023-01-06T10:17:42.486Z"
   },
   {
    "duration": 27,
    "start_time": "2023-01-06T10:17:43.085Z"
   },
   {
    "duration": 116,
    "start_time": "2023-01-06T10:17:43.114Z"
   },
   {
    "duration": 633,
    "start_time": "2023-01-06T10:17:43.232Z"
   },
   {
    "duration": 119,
    "start_time": "2023-01-06T10:17:43.867Z"
   },
   {
    "duration": 6,
    "start_time": "2023-01-06T10:17:43.987Z"
   },
   {
    "duration": 15,
    "start_time": "2023-01-06T10:17:43.995Z"
   },
   {
    "duration": 38,
    "start_time": "2023-01-06T10:17:44.012Z"
   },
   {
    "duration": 7,
    "start_time": "2023-01-06T10:17:44.079Z"
   },
   {
    "duration": 49,
    "start_time": "2023-01-06T10:17:44.088Z"
   },
   {
    "duration": 5,
    "start_time": "2023-01-06T10:17:44.139Z"
   },
   {
    "duration": 42,
    "start_time": "2023-01-06T10:17:44.146Z"
   },
   {
    "duration": 197,
    "start_time": "2023-01-06T10:17:44.190Z"
   },
   {
    "duration": 10,
    "start_time": "2023-01-06T10:17:44.388Z"
   },
   {
    "duration": 204,
    "start_time": "2023-01-06T10:17:44.400Z"
   },
   {
    "duration": 13,
    "start_time": "2023-01-06T10:17:44.605Z"
   },
   {
    "duration": 22,
    "start_time": "2023-01-06T10:17:44.619Z"
   },
   {
    "duration": 174,
    "start_time": "2023-01-06T10:17:44.643Z"
   },
   {
    "duration": 6,
    "start_time": "2023-01-06T10:17:44.819Z"
   },
   {
    "duration": 21,
    "start_time": "2023-01-06T10:17:44.827Z"
   },
   {
    "duration": 11,
    "start_time": "2023-01-06T10:17:44.850Z"
   },
   {
    "duration": 7,
    "start_time": "2023-01-06T10:17:44.862Z"
   },
   {
    "duration": 11,
    "start_time": "2023-01-06T10:17:44.878Z"
   },
   {
    "duration": 11,
    "start_time": "2023-01-06T10:17:44.890Z"
   },
   {
    "duration": 10,
    "start_time": "2023-01-06T10:17:44.903Z"
   },
   {
    "duration": 22,
    "start_time": "2023-01-06T10:17:44.914Z"
   },
   {
    "duration": 9,
    "start_time": "2023-01-06T10:17:44.939Z"
   },
   {
    "duration": 30,
    "start_time": "2023-01-06T10:17:44.950Z"
   },
   {
    "duration": 7,
    "start_time": "2023-01-06T10:17:44.982Z"
   },
   {
    "duration": 18,
    "start_time": "2023-01-06T10:17:44.990Z"
   },
   {
    "duration": 14,
    "start_time": "2023-01-06T10:17:45.010Z"
   },
   {
    "duration": 17,
    "start_time": "2023-01-06T10:17:45.026Z"
   },
   {
    "duration": 287,
    "start_time": "2023-01-06T10:17:45.045Z"
   },
   {
    "duration": 370,
    "start_time": "2023-01-06T10:17:45.335Z"
   },
   {
    "duration": 370,
    "start_time": "2023-01-06T10:17:45.707Z"
   },
   {
    "duration": 27,
    "start_time": "2023-01-06T10:17:46.079Z"
   },
   {
    "duration": 38,
    "start_time": "2023-01-06T10:17:46.108Z"
   },
   {
    "duration": 17,
    "start_time": "2023-01-06T10:17:46.148Z"
   },
   {
    "duration": 34,
    "start_time": "2023-01-06T10:17:46.167Z"
   },
   {
    "duration": 23,
    "start_time": "2023-01-06T10:17:46.203Z"
   },
   {
    "duration": 41,
    "start_time": "2023-01-06T10:17:46.229Z"
   },
   {
    "duration": 10,
    "start_time": "2023-01-06T10:19:11.045Z"
   },
   {
    "duration": 29,
    "start_time": "2023-01-06T10:19:45.833Z"
   },
   {
    "duration": 40,
    "start_time": "2023-01-06T10:20:10.373Z"
   },
   {
    "duration": 45,
    "start_time": "2023-01-06T10:20:24.873Z"
   },
   {
    "duration": 49,
    "start_time": "2023-01-06T10:20:31.875Z"
   },
   {
    "duration": 39,
    "start_time": "2023-01-06T10:22:03.520Z"
   },
   {
    "duration": 37,
    "start_time": "2023-01-06T10:24:22.312Z"
   },
   {
    "duration": 42,
    "start_time": "2023-01-06T10:24:41.641Z"
   },
   {
    "duration": 39,
    "start_time": "2023-01-06T10:24:57.279Z"
   },
   {
    "duration": 41,
    "start_time": "2023-01-06T10:25:01.118Z"
   },
   {
    "duration": 47,
    "start_time": "2023-01-06T10:26:18.401Z"
   },
   {
    "duration": 1021,
    "start_time": "2023-01-06T10:27:36.328Z"
   },
   {
    "duration": 609,
    "start_time": "2023-01-06T10:27:37.351Z"
   },
   {
    "duration": 28,
    "start_time": "2023-01-06T10:27:37.961Z"
   },
   {
    "duration": 99,
    "start_time": "2023-01-06T10:27:37.991Z"
   },
   {
    "duration": 737,
    "start_time": "2023-01-06T10:27:38.091Z"
   },
   {
    "duration": 112,
    "start_time": "2023-01-06T10:27:38.830Z"
   },
   {
    "duration": 7,
    "start_time": "2023-01-06T10:27:38.943Z"
   },
   {
    "duration": 26,
    "start_time": "2023-01-06T10:27:38.951Z"
   },
   {
    "duration": 37,
    "start_time": "2023-01-06T10:27:38.979Z"
   },
   {
    "duration": 10,
    "start_time": "2023-01-06T10:27:39.019Z"
   },
   {
    "duration": 58,
    "start_time": "2023-01-06T10:27:39.031Z"
   },
   {
    "duration": 6,
    "start_time": "2023-01-06T10:27:39.090Z"
   },
   {
    "duration": 30,
    "start_time": "2023-01-06T10:27:39.098Z"
   },
   {
    "duration": 211,
    "start_time": "2023-01-06T10:27:39.130Z"
   },
   {
    "duration": 11,
    "start_time": "2023-01-06T10:27:39.342Z"
   },
   {
    "duration": 198,
    "start_time": "2023-01-06T10:27:39.355Z"
   },
   {
    "duration": 23,
    "start_time": "2023-01-06T10:27:39.555Z"
   },
   {
    "duration": 21,
    "start_time": "2023-01-06T10:27:39.580Z"
   },
   {
    "duration": 172,
    "start_time": "2023-01-06T10:27:39.603Z"
   },
   {
    "duration": 7,
    "start_time": "2023-01-06T10:27:39.778Z"
   },
   {
    "duration": 9,
    "start_time": "2023-01-06T10:27:39.787Z"
   },
   {
    "duration": 7,
    "start_time": "2023-01-06T10:27:39.798Z"
   },
   {
    "duration": 7,
    "start_time": "2023-01-06T10:27:39.807Z"
   },
   {
    "duration": 7,
    "start_time": "2023-01-06T10:27:39.816Z"
   },
   {
    "duration": 6,
    "start_time": "2023-01-06T10:27:39.825Z"
   },
   {
    "duration": 7,
    "start_time": "2023-01-06T10:27:39.833Z"
   },
   {
    "duration": 25,
    "start_time": "2023-01-06T10:27:39.877Z"
   },
   {
    "duration": 17,
    "start_time": "2023-01-06T10:27:39.907Z"
   },
   {
    "duration": 23,
    "start_time": "2023-01-06T10:27:39.926Z"
   },
   {
    "duration": 42,
    "start_time": "2023-01-06T10:27:39.951Z"
   },
   {
    "duration": 11,
    "start_time": "2023-01-06T10:27:39.994Z"
   },
   {
    "duration": 12,
    "start_time": "2023-01-06T10:27:40.006Z"
   },
   {
    "duration": 17,
    "start_time": "2023-01-06T10:27:40.019Z"
   },
   {
    "duration": 6,
    "start_time": "2023-01-06T10:27:40.038Z"
   },
   {
    "duration": 39,
    "start_time": "2023-01-06T10:27:40.045Z"
   },
   {
    "duration": 271,
    "start_time": "2023-01-06T10:27:40.085Z"
   },
   {
    "duration": 346,
    "start_time": "2023-01-06T10:27:40.357Z"
   },
   {
    "duration": 342,
    "start_time": "2023-01-06T10:27:40.706Z"
   },
   {
    "duration": 28,
    "start_time": "2023-01-06T10:27:41.050Z"
   },
   {
    "duration": 19,
    "start_time": "2023-01-06T10:27:41.080Z"
   },
   {
    "duration": 7,
    "start_time": "2023-01-06T10:27:41.100Z"
   },
   {
    "duration": 17,
    "start_time": "2023-01-06T10:27:41.109Z"
   },
   {
    "duration": 7,
    "start_time": "2023-01-06T10:27:41.127Z"
   },
   {
    "duration": 17,
    "start_time": "2023-01-06T10:27:41.136Z"
   },
   {
    "duration": 9,
    "start_time": "2023-01-06T10:28:23.963Z"
   },
   {
    "duration": 9,
    "start_time": "2023-01-06T10:28:32.856Z"
   },
   {
    "duration": 10,
    "start_time": "2023-01-06T10:28:37.263Z"
   },
   {
    "duration": 1206,
    "start_time": "2023-01-06T10:30:02.544Z"
   },
   {
    "duration": 576,
    "start_time": "2023-01-06T10:30:03.752Z"
   },
   {
    "duration": 28,
    "start_time": "2023-01-06T10:30:04.330Z"
   },
   {
    "duration": 91,
    "start_time": "2023-01-06T10:30:04.359Z"
   },
   {
    "duration": 616,
    "start_time": "2023-01-06T10:30:04.452Z"
   },
   {
    "duration": 107,
    "start_time": "2023-01-06T10:30:05.070Z"
   },
   {
    "duration": 6,
    "start_time": "2023-01-06T10:30:05.179Z"
   },
   {
    "duration": 17,
    "start_time": "2023-01-06T10:30:05.187Z"
   },
   {
    "duration": 39,
    "start_time": "2023-01-06T10:30:05.206Z"
   },
   {
    "duration": 7,
    "start_time": "2023-01-06T10:30:05.247Z"
   },
   {
    "duration": 52,
    "start_time": "2023-01-06T10:30:05.255Z"
   },
   {
    "duration": 5,
    "start_time": "2023-01-06T10:30:05.308Z"
   },
   {
    "duration": 36,
    "start_time": "2023-01-06T10:30:05.315Z"
   },
   {
    "duration": 181,
    "start_time": "2023-01-06T10:30:05.354Z"
   },
   {
    "duration": 9,
    "start_time": "2023-01-06T10:30:05.536Z"
   },
   {
    "duration": 197,
    "start_time": "2023-01-06T10:30:05.547Z"
   },
   {
    "duration": 13,
    "start_time": "2023-01-06T10:30:05.746Z"
   },
   {
    "duration": 39,
    "start_time": "2023-01-06T10:30:05.760Z"
   },
   {
    "duration": 205,
    "start_time": "2023-01-06T10:30:05.801Z"
   },
   {
    "duration": 7,
    "start_time": "2023-01-06T10:30:06.008Z"
   },
   {
    "duration": 11,
    "start_time": "2023-01-06T10:30:06.016Z"
   },
   {
    "duration": 6,
    "start_time": "2023-01-06T10:30:06.029Z"
   },
   {
    "duration": 8,
    "start_time": "2023-01-06T10:30:06.036Z"
   },
   {
    "duration": 6,
    "start_time": "2023-01-06T10:30:06.045Z"
   },
   {
    "duration": 5,
    "start_time": "2023-01-06T10:30:06.077Z"
   },
   {
    "duration": 8,
    "start_time": "2023-01-06T10:30:06.083Z"
   },
   {
    "duration": 21,
    "start_time": "2023-01-06T10:30:06.093Z"
   },
   {
    "duration": 11,
    "start_time": "2023-01-06T10:30:06.115Z"
   },
   {
    "duration": 51,
    "start_time": "2023-01-06T10:30:06.127Z"
   },
   {
    "duration": 21,
    "start_time": "2023-01-06T10:30:06.180Z"
   },
   {
    "duration": 14,
    "start_time": "2023-01-06T10:30:06.203Z"
   },
   {
    "duration": 7,
    "start_time": "2023-01-06T10:30:06.219Z"
   },
   {
    "duration": 15,
    "start_time": "2023-01-06T10:30:06.228Z"
   },
   {
    "duration": 5,
    "start_time": "2023-01-06T10:30:06.245Z"
   },
   {
    "duration": 32,
    "start_time": "2023-01-06T10:30:06.251Z"
   },
   {
    "duration": 276,
    "start_time": "2023-01-06T10:30:06.285Z"
   },
   {
    "duration": 352,
    "start_time": "2023-01-06T10:30:06.563Z"
   },
   {
    "duration": 341,
    "start_time": "2023-01-06T10:30:06.917Z"
   },
   {
    "duration": 27,
    "start_time": "2023-01-06T10:30:07.259Z"
   },
   {
    "duration": 18,
    "start_time": "2023-01-06T10:30:07.287Z"
   },
   {
    "duration": 8,
    "start_time": "2023-01-06T10:30:07.308Z"
   },
   {
    "duration": 15,
    "start_time": "2023-01-06T10:30:07.317Z"
   },
   {
    "duration": 8,
    "start_time": "2023-01-06T10:30:07.334Z"
   },
   {
    "duration": 35,
    "start_time": "2023-01-06T10:30:07.344Z"
   },
   {
    "duration": 1234,
    "start_time": "2023-01-06T14:40:24.801Z"
   },
   {
    "duration": 969,
    "start_time": "2023-01-06T14:40:26.037Z"
   },
   {
    "duration": 26,
    "start_time": "2023-01-06T14:40:27.008Z"
   },
   {
    "duration": 98,
    "start_time": "2023-01-06T14:40:27.036Z"
   },
   {
    "duration": 535,
    "start_time": "2023-01-06T14:40:27.135Z"
   },
   {
    "duration": 93,
    "start_time": "2023-01-06T14:40:27.672Z"
   },
   {
    "duration": 6,
    "start_time": "2023-01-06T14:40:27.766Z"
   },
   {
    "duration": 25,
    "start_time": "2023-01-06T14:40:27.773Z"
   },
   {
    "duration": 38,
    "start_time": "2023-01-06T14:40:27.799Z"
   },
   {
    "duration": 11,
    "start_time": "2023-01-06T14:40:27.839Z"
   },
   {
    "duration": 47,
    "start_time": "2023-01-06T14:40:27.851Z"
   },
   {
    "duration": 5,
    "start_time": "2023-01-06T14:40:27.899Z"
   },
   {
    "duration": 30,
    "start_time": "2023-01-06T14:40:27.905Z"
   },
   {
    "duration": 167,
    "start_time": "2023-01-06T14:40:27.936Z"
   },
   {
    "duration": 9,
    "start_time": "2023-01-06T14:40:28.104Z"
   },
   {
    "duration": 198,
    "start_time": "2023-01-06T14:40:28.115Z"
   },
   {
    "duration": 12,
    "start_time": "2023-01-06T14:40:28.315Z"
   },
   {
    "duration": 23,
    "start_time": "2023-01-06T14:40:28.328Z"
   },
   {
    "duration": 139,
    "start_time": "2023-01-06T14:40:28.352Z"
   },
   {
    "duration": 7,
    "start_time": "2023-01-06T14:40:28.493Z"
   },
   {
    "duration": 9,
    "start_time": "2023-01-06T14:40:28.501Z"
   },
   {
    "duration": 6,
    "start_time": "2023-01-06T14:40:28.512Z"
   },
   {
    "duration": 5,
    "start_time": "2023-01-06T14:40:28.519Z"
   },
   {
    "duration": 8,
    "start_time": "2023-01-06T14:40:28.525Z"
   },
   {
    "duration": 4,
    "start_time": "2023-01-06T14:40:28.535Z"
   },
   {
    "duration": 6,
    "start_time": "2023-01-06T14:40:28.540Z"
   },
   {
    "duration": 50,
    "start_time": "2023-01-06T14:40:28.548Z"
   },
   {
    "duration": 9,
    "start_time": "2023-01-06T14:40:28.601Z"
   },
   {
    "duration": 19,
    "start_time": "2023-01-06T14:40:28.611Z"
   },
   {
    "duration": 9,
    "start_time": "2023-01-06T14:40:28.631Z"
   },
   {
    "duration": 6,
    "start_time": "2023-01-06T14:40:28.641Z"
   },
   {
    "duration": 7,
    "start_time": "2023-01-06T14:40:28.648Z"
   },
   {
    "duration": 41,
    "start_time": "2023-01-06T14:40:28.657Z"
   },
   {
    "duration": 5,
    "start_time": "2023-01-06T14:40:28.700Z"
   },
   {
    "duration": 11,
    "start_time": "2023-01-06T14:40:28.706Z"
   },
   {
    "duration": 255,
    "start_time": "2023-01-06T14:40:28.719Z"
   },
   {
    "duration": 298,
    "start_time": "2023-01-06T14:40:28.976Z"
   },
   {
    "duration": 282,
    "start_time": "2023-01-06T14:40:29.275Z"
   },
   {
    "duration": 16,
    "start_time": "2023-01-06T14:40:29.558Z"
   },
   {
    "duration": 28,
    "start_time": "2023-01-06T14:40:29.576Z"
   },
   {
    "duration": 5,
    "start_time": "2023-01-06T14:40:29.606Z"
   },
   {
    "duration": 10,
    "start_time": "2023-01-06T14:40:29.612Z"
   },
   {
    "duration": 10,
    "start_time": "2023-01-06T14:40:29.624Z"
   },
   {
    "duration": 20,
    "start_time": "2023-01-06T14:40:29.635Z"
   },
   {
    "duration": 1029,
    "start_time": "2023-01-06T14:51:22.493Z"
   },
   {
    "duration": 517,
    "start_time": "2023-01-06T14:51:23.524Z"
   },
   {
    "duration": 24,
    "start_time": "2023-01-06T14:51:24.043Z"
   },
   {
    "duration": 97,
    "start_time": "2023-01-06T14:51:24.069Z"
   },
   {
    "duration": 531,
    "start_time": "2023-01-06T14:51:24.167Z"
   },
   {
    "duration": 118,
    "start_time": "2023-01-06T14:51:24.700Z"
   },
   {
    "duration": 8,
    "start_time": "2023-01-06T14:51:24.820Z"
   },
   {
    "duration": 28,
    "start_time": "2023-01-06T14:51:24.830Z"
   },
   {
    "duration": 79,
    "start_time": "2023-01-06T14:51:24.860Z"
   },
   {
    "duration": 10,
    "start_time": "2023-01-06T14:51:24.942Z"
   },
   {
    "duration": 45,
    "start_time": "2023-01-06T14:51:24.953Z"
   },
   {
    "duration": 6,
    "start_time": "2023-01-06T14:51:25.000Z"
   },
   {
    "duration": 46,
    "start_time": "2023-01-06T14:51:25.008Z"
   },
   {
    "duration": 165,
    "start_time": "2023-01-06T14:51:25.056Z"
   },
   {
    "duration": 9,
    "start_time": "2023-01-06T14:51:25.222Z"
   },
   {
    "duration": 193,
    "start_time": "2023-01-06T14:51:25.232Z"
   },
   {
    "duration": 11,
    "start_time": "2023-01-06T14:51:25.427Z"
   },
   {
    "duration": 27,
    "start_time": "2023-01-06T14:51:25.440Z"
   },
   {
    "duration": 143,
    "start_time": "2023-01-06T14:51:25.469Z"
   },
   {
    "duration": 8,
    "start_time": "2023-01-06T14:51:25.614Z"
   },
   {
    "duration": 13,
    "start_time": "2023-01-06T14:51:25.623Z"
   },
   {
    "duration": 13,
    "start_time": "2023-01-06T14:51:25.638Z"
   },
   {
    "duration": 13,
    "start_time": "2023-01-06T14:51:25.652Z"
   },
   {
    "duration": 11,
    "start_time": "2023-01-06T14:51:25.666Z"
   },
   {
    "duration": 26,
    "start_time": "2023-01-06T14:51:25.679Z"
   },
   {
    "duration": 11,
    "start_time": "2023-01-06T14:51:25.707Z"
   },
   {
    "duration": 27,
    "start_time": "2023-01-06T14:51:25.719Z"
   },
   {
    "duration": 10,
    "start_time": "2023-01-06T14:51:25.749Z"
   },
   {
    "duration": 20,
    "start_time": "2023-01-06T14:51:25.760Z"
   },
   {
    "duration": 20,
    "start_time": "2023-01-06T14:51:25.781Z"
   },
   {
    "duration": 8,
    "start_time": "2023-01-06T14:51:25.803Z"
   },
   {
    "duration": 8,
    "start_time": "2023-01-06T14:51:25.813Z"
   },
   {
    "duration": 17,
    "start_time": "2023-01-06T14:51:25.823Z"
   },
   {
    "duration": 9,
    "start_time": "2023-01-06T14:51:25.842Z"
   },
   {
    "duration": 12,
    "start_time": "2023-01-06T14:51:25.853Z"
   },
   {
    "duration": 290,
    "start_time": "2023-01-06T14:51:25.867Z"
   },
   {
    "duration": 309,
    "start_time": "2023-01-06T14:51:26.159Z"
   },
   {
    "duration": 303,
    "start_time": "2023-01-06T14:51:26.470Z"
   },
   {
    "duration": 39,
    "start_time": "2023-01-06T14:51:26.775Z"
   },
   {
    "duration": 15,
    "start_time": "2023-01-06T14:51:26.817Z"
   },
   {
    "duration": 6,
    "start_time": "2023-01-06T14:51:26.834Z"
   },
   {
    "duration": 15,
    "start_time": "2023-01-06T14:51:26.842Z"
   },
   {
    "duration": 7,
    "start_time": "2023-01-06T14:51:26.859Z"
   },
   {
    "duration": 30,
    "start_time": "2023-01-06T14:51:26.868Z"
   },
   {
    "duration": 14,
    "start_time": "2023-01-06T14:56:34.985Z"
   },
   {
    "duration": 5,
    "start_time": "2023-01-06T15:00:22.504Z"
   },
   {
    "duration": 17,
    "start_time": "2023-01-06T15:00:29.107Z"
   },
   {
    "duration": 15,
    "start_time": "2023-01-06T15:00:32.401Z"
   },
   {
    "duration": 4,
    "start_time": "2023-01-06T15:01:02.728Z"
   },
   {
    "duration": 13,
    "start_time": "2023-01-06T15:01:04.554Z"
   },
   {
    "duration": 4,
    "start_time": "2023-01-06T15:02:54.367Z"
   },
   {
    "duration": 5,
    "start_time": "2023-01-06T15:03:37.876Z"
   },
   {
    "duration": 6,
    "start_time": "2023-01-06T15:04:12.571Z"
   },
   {
    "duration": 6,
    "start_time": "2023-01-06T15:04:34.983Z"
   },
   {
    "duration": 94,
    "start_time": "2023-01-06T15:06:32.460Z"
   },
   {
    "duration": 5,
    "start_time": "2023-01-06T15:06:43.232Z"
   },
   {
    "duration": 16,
    "start_time": "2023-01-06T15:06:55.171Z"
   },
   {
    "duration": 2,
    "start_time": "2023-01-06T15:08:42.788Z"
   },
   {
    "duration": 6,
    "start_time": "2023-01-06T15:08:57.930Z"
   },
   {
    "duration": 12,
    "start_time": "2023-01-06T15:09:00.600Z"
   },
   {
    "duration": 4,
    "start_time": "2023-01-06T15:09:11.456Z"
   },
   {
    "duration": 6,
    "start_time": "2023-01-06T15:11:18.694Z"
   },
   {
    "duration": 107,
    "start_time": "2023-01-06T15:13:13.178Z"
   },
   {
    "duration": 320,
    "start_time": "2023-01-06T15:13:52.435Z"
   },
   {
    "duration": 13,
    "start_time": "2023-01-06T15:15:06.736Z"
   },
   {
    "duration": 13,
    "start_time": "2023-01-06T15:15:16.061Z"
   },
   {
    "duration": 11,
    "start_time": "2023-01-06T15:15:22.248Z"
   },
   {
    "duration": 16,
    "start_time": "2023-01-06T15:16:05.111Z"
   },
   {
    "duration": 17,
    "start_time": "2023-01-06T15:16:11.765Z"
   },
   {
    "duration": 20,
    "start_time": "2023-01-06T15:16:16.926Z"
   },
   {
    "duration": 17,
    "start_time": "2023-01-06T15:16:25.674Z"
   },
   {
    "duration": 7,
    "start_time": "2023-01-06T15:16:48.493Z"
   },
   {
    "duration": 9,
    "start_time": "2023-01-06T15:17:10.382Z"
   },
   {
    "duration": 6,
    "start_time": "2023-01-06T15:17:18.079Z"
   },
   {
    "duration": 7,
    "start_time": "2023-01-06T15:22:32.695Z"
   },
   {
    "duration": 9,
    "start_time": "2023-01-06T15:22:39.044Z"
   },
   {
    "duration": 13,
    "start_time": "2023-01-06T15:23:15.617Z"
   },
   {
    "duration": 14,
    "start_time": "2023-01-06T15:23:19.502Z"
   },
   {
    "duration": 6,
    "start_time": "2023-01-06T15:23:30.991Z"
   },
   {
    "duration": 12,
    "start_time": "2023-01-06T15:23:46.028Z"
   },
   {
    "duration": 14,
    "start_time": "2023-01-06T15:23:53.293Z"
   },
   {
    "duration": 9,
    "start_time": "2023-01-06T15:24:00.900Z"
   },
   {
    "duration": 6,
    "start_time": "2023-01-06T15:24:23.195Z"
   },
   {
    "duration": 5,
    "start_time": "2023-01-06T15:24:48.176Z"
   },
   {
    "duration": 13,
    "start_time": "2023-01-06T15:25:05.229Z"
   },
   {
    "duration": 11,
    "start_time": "2023-01-06T15:25:11.178Z"
   },
   {
    "duration": 5,
    "start_time": "2023-01-06T15:25:22.574Z"
   },
   {
    "duration": 6,
    "start_time": "2023-01-06T15:25:40.729Z"
   },
   {
    "duration": 6,
    "start_time": "2023-01-06T15:25:56.866Z"
   },
   {
    "duration": 39,
    "start_time": "2023-01-06T15:26:27.774Z"
   },
   {
    "duration": 5,
    "start_time": "2023-01-06T15:27:16.786Z"
   },
   {
    "duration": 6,
    "start_time": "2023-01-06T16:02:41.127Z"
   },
   {
    "duration": 5,
    "start_time": "2023-01-06T16:09:05.327Z"
   },
   {
    "duration": 1029,
    "start_time": "2023-01-06T16:09:15.743Z"
   },
   {
    "duration": 562,
    "start_time": "2023-01-06T16:09:16.774Z"
   },
   {
    "duration": 24,
    "start_time": "2023-01-06T16:09:17.338Z"
   },
   {
    "duration": 98,
    "start_time": "2023-01-06T16:09:17.364Z"
   },
   {
    "duration": 580,
    "start_time": "2023-01-06T16:09:17.463Z"
   },
   {
    "duration": 116,
    "start_time": "2023-01-06T16:09:18.045Z"
   },
   {
    "duration": 6,
    "start_time": "2023-01-06T16:09:18.162Z"
   },
   {
    "duration": 18,
    "start_time": "2023-01-06T16:09:18.170Z"
   },
   {
    "duration": 39,
    "start_time": "2023-01-06T16:09:18.197Z"
   },
   {
    "duration": 7,
    "start_time": "2023-01-06T16:09:18.238Z"
   },
   {
    "duration": 54,
    "start_time": "2023-01-06T16:09:18.246Z"
   },
   {
    "duration": 6,
    "start_time": "2023-01-06T16:09:18.301Z"
   },
   {
    "duration": 29,
    "start_time": "2023-01-06T16:09:18.308Z"
   },
   {
    "duration": 187,
    "start_time": "2023-01-06T16:09:18.338Z"
   },
   {
    "duration": 10,
    "start_time": "2023-01-06T16:09:18.526Z"
   },
   {
    "duration": 208,
    "start_time": "2023-01-06T16:09:18.538Z"
   },
   {
    "duration": 13,
    "start_time": "2023-01-06T16:09:18.748Z"
   },
   {
    "duration": 37,
    "start_time": "2023-01-06T16:09:18.763Z"
   },
   {
    "duration": 149,
    "start_time": "2023-01-06T16:09:18.802Z"
   },
   {
    "duration": 8,
    "start_time": "2023-01-06T16:09:18.953Z"
   },
   {
    "duration": 13,
    "start_time": "2023-01-06T16:09:18.962Z"
   },
   {
    "duration": 20,
    "start_time": "2023-01-06T16:09:18.977Z"
   },
   {
    "duration": 6,
    "start_time": "2023-01-06T16:09:18.999Z"
   },
   {
    "duration": 9,
    "start_time": "2023-01-06T16:09:19.007Z"
   },
   {
    "duration": 5,
    "start_time": "2023-01-06T16:09:19.018Z"
   },
   {
    "duration": 6,
    "start_time": "2023-01-06T16:09:19.025Z"
   },
   {
    "duration": 22,
    "start_time": "2023-01-06T16:09:19.033Z"
   },
   {
    "duration": 40,
    "start_time": "2023-01-06T16:09:19.058Z"
   },
   {
    "duration": 24,
    "start_time": "2023-01-06T16:09:19.100Z"
   },
   {
    "duration": 10,
    "start_time": "2023-01-06T16:09:19.126Z"
   },
   {
    "duration": 13,
    "start_time": "2023-01-06T16:09:19.138Z"
   },
   {
    "duration": 10,
    "start_time": "2023-01-06T16:09:19.153Z"
   },
   {
    "duration": 41,
    "start_time": "2023-01-06T16:09:19.165Z"
   },
   {
    "duration": 9,
    "start_time": "2023-01-06T16:09:19.209Z"
   },
   {
    "duration": 13,
    "start_time": "2023-01-06T16:09:19.220Z"
   },
   {
    "duration": 11,
    "start_time": "2023-01-06T16:09:19.235Z"
   },
   {
    "duration": 6,
    "start_time": "2023-01-06T16:09:19.247Z"
   },
   {
    "duration": 15,
    "start_time": "2023-01-06T16:09:19.255Z"
   },
   {
    "duration": 8,
    "start_time": "2023-01-06T16:09:19.272Z"
   },
   {
    "duration": 20,
    "start_time": "2023-01-06T16:09:19.281Z"
   },
   {
    "duration": 5,
    "start_time": "2023-01-06T16:09:19.303Z"
   },
   {
    "duration": 257,
    "start_time": "2023-01-06T16:09:19.310Z"
   },
   {
    "duration": 321,
    "start_time": "2023-01-06T16:09:19.569Z"
   },
   {
    "duration": 16,
    "start_time": "2023-01-06T16:09:19.892Z"
   },
   {
    "duration": 11,
    "start_time": "2023-01-06T16:09:19.910Z"
   },
   {
    "duration": 6,
    "start_time": "2023-01-06T16:09:19.922Z"
   },
   {
    "duration": 357,
    "start_time": "2023-01-06T16:09:19.930Z"
   },
   {
    "duration": 22,
    "start_time": "2023-01-06T16:09:20.289Z"
   },
   {
    "duration": 16,
    "start_time": "2023-01-06T16:09:20.313Z"
   },
   {
    "duration": 7,
    "start_time": "2023-01-06T16:09:20.330Z"
   },
   {
    "duration": 15,
    "start_time": "2023-01-06T16:09:20.339Z"
   },
   {
    "duration": 8,
    "start_time": "2023-01-06T16:09:20.355Z"
   },
   {
    "duration": 39,
    "start_time": "2023-01-06T16:09:20.364Z"
   },
   {
    "duration": 7,
    "start_time": "2023-01-06T16:11:46.469Z"
   },
   {
    "duration": 5,
    "start_time": "2023-01-06T16:11:49.870Z"
   },
   {
    "duration": 13,
    "start_time": "2023-01-06T16:18:08.569Z"
   },
   {
    "duration": 13,
    "start_time": "2023-01-06T16:18:55.111Z"
   },
   {
    "duration": 13,
    "start_time": "2023-01-06T16:19:07.627Z"
   },
   {
    "duration": 11,
    "start_time": "2023-01-06T16:19:13.945Z"
   },
   {
    "duration": 8,
    "start_time": "2023-01-06T16:19:32.476Z"
   },
   {
    "duration": 15,
    "start_time": "2023-01-06T16:26:05.395Z"
   },
   {
    "duration": 12,
    "start_time": "2023-01-06T16:34:33.346Z"
   },
   {
    "duration": 4,
    "start_time": "2023-01-06T16:34:42.992Z"
   },
   {
    "duration": 18,
    "start_time": "2023-01-06T16:34:47.830Z"
   },
   {
    "duration": 160,
    "start_time": "2023-01-06T16:36:06.779Z"
   },
   {
    "duration": 166,
    "start_time": "2023-01-06T16:36:20.348Z"
   },
   {
    "duration": 396,
    "start_time": "2023-01-06T16:37:19.061Z"
   },
   {
    "duration": 309,
    "start_time": "2023-01-06T16:38:55.693Z"
   },
   {
    "duration": 250,
    "start_time": "2023-01-06T16:39:07.672Z"
   },
   {
    "duration": 311,
    "start_time": "2023-01-06T16:39:11.678Z"
   },
   {
    "duration": 286,
    "start_time": "2023-01-06T16:39:17.539Z"
   },
   {
    "duration": 295,
    "start_time": "2023-01-06T16:39:22.431Z"
   },
   {
    "duration": 387,
    "start_time": "2023-01-06T16:40:20.746Z"
   },
   {
    "duration": 315,
    "start_time": "2023-01-06T16:41:32.833Z"
   },
   {
    "duration": 110,
    "start_time": "2023-01-06T16:43:27.427Z"
   },
   {
    "duration": 3,
    "start_time": "2023-01-06T16:43:36.386Z"
   },
   {
    "duration": 24,
    "start_time": "2023-01-06T16:43:38.727Z"
   },
   {
    "duration": 15,
    "start_time": "2023-01-06T16:43:56.823Z"
   },
   {
    "duration": 69,
    "start_time": "2023-01-06T16:44:11.974Z"
   },
   {
    "duration": 23,
    "start_time": "2023-01-06T16:44:20.322Z"
   },
   {
    "duration": 48,
    "start_time": "2023-01-06T16:57:08.941Z"
   },
   {
    "duration": 137,
    "start_time": "2023-01-06T16:57:18.406Z"
   },
   {
    "duration": 9,
    "start_time": "2023-01-06T16:58:25.582Z"
   },
   {
    "duration": 1163,
    "start_time": "2023-01-06T16:59:55.282Z"
   },
   {
    "duration": 599,
    "start_time": "2023-01-06T16:59:56.447Z"
   },
   {
    "duration": 32,
    "start_time": "2023-01-06T16:59:57.047Z"
   },
   {
    "duration": 140,
    "start_time": "2023-01-06T16:59:57.082Z"
   },
   {
    "duration": 584,
    "start_time": "2023-01-06T16:59:57.224Z"
   },
   {
    "duration": 93,
    "start_time": "2023-01-06T16:59:57.809Z"
   },
   {
    "duration": 13,
    "start_time": "2023-01-06T16:59:57.905Z"
   },
   {
    "duration": 12,
    "start_time": "2023-01-06T16:59:57.919Z"
   },
   {
    "duration": 51,
    "start_time": "2023-01-06T16:59:57.933Z"
   },
   {
    "duration": 26,
    "start_time": "2023-01-06T16:59:57.987Z"
   },
   {
    "duration": 39,
    "start_time": "2023-01-06T16:59:58.018Z"
   },
   {
    "duration": 5,
    "start_time": "2023-01-06T16:59:58.058Z"
   },
   {
    "duration": 42,
    "start_time": "2023-01-06T16:59:58.064Z"
   },
   {
    "duration": 210,
    "start_time": "2023-01-06T16:59:58.108Z"
   },
   {
    "duration": 9,
    "start_time": "2023-01-06T16:59:58.320Z"
   },
   {
    "duration": 209,
    "start_time": "2023-01-06T16:59:58.330Z"
   },
   {
    "duration": 15,
    "start_time": "2023-01-06T16:59:58.541Z"
   },
   {
    "duration": 24,
    "start_time": "2023-01-06T16:59:58.557Z"
   },
   {
    "duration": 159,
    "start_time": "2023-01-06T16:59:58.583Z"
   },
   {
    "duration": 7,
    "start_time": "2023-01-06T16:59:58.744Z"
   },
   {
    "duration": 18,
    "start_time": "2023-01-06T16:59:58.753Z"
   },
   {
    "duration": 11,
    "start_time": "2023-01-06T16:59:58.772Z"
   },
   {
    "duration": 22,
    "start_time": "2023-01-06T16:59:58.784Z"
   },
   {
    "duration": 19,
    "start_time": "2023-01-06T16:59:58.812Z"
   },
   {
    "duration": 14,
    "start_time": "2023-01-06T16:59:58.833Z"
   },
   {
    "duration": 6,
    "start_time": "2023-01-06T16:59:58.848Z"
   },
   {
    "duration": 48,
    "start_time": "2023-01-06T16:59:58.855Z"
   },
   {
    "duration": 14,
    "start_time": "2023-01-06T16:59:58.911Z"
   },
   {
    "duration": 34,
    "start_time": "2023-01-06T16:59:58.927Z"
   },
   {
    "duration": 15,
    "start_time": "2023-01-06T16:59:58.963Z"
   },
   {
    "duration": 25,
    "start_time": "2023-01-06T16:59:58.999Z"
   },
   {
    "duration": 12,
    "start_time": "2023-01-06T16:59:59.026Z"
   },
   {
    "duration": 24,
    "start_time": "2023-01-06T16:59:59.041Z"
   },
   {
    "duration": 10,
    "start_time": "2023-01-06T16:59:59.068Z"
   },
   {
    "duration": 19,
    "start_time": "2023-01-06T16:59:59.080Z"
   },
   {
    "duration": 44,
    "start_time": "2023-01-06T16:59:59.100Z"
   },
   {
    "duration": 11,
    "start_time": "2023-01-06T16:59:59.146Z"
   },
   {
    "duration": 283,
    "start_time": "2023-01-06T16:59:59.160Z"
   },
   {
    "duration": 344,
    "start_time": "2023-01-06T16:59:59.445Z"
   },
   {
    "duration": 24,
    "start_time": "2023-01-06T16:59:59.790Z"
   },
   {
    "duration": 11,
    "start_time": "2023-01-06T16:59:59.817Z"
   },
   {
    "duration": 9,
    "start_time": "2023-01-06T16:59:59.830Z"
   },
   {
    "duration": 333,
    "start_time": "2023-01-06T16:59:59.840Z"
   },
   {
    "duration": 315,
    "start_time": "2023-01-06T17:00:00.175Z"
   },
   {
    "duration": 297,
    "start_time": "2023-01-06T17:00:00.492Z"
   },
   {
    "duration": 20,
    "start_time": "2023-01-06T17:00:00.797Z"
   },
   {
    "duration": 60,
    "start_time": "2023-01-06T17:00:00.818Z"
   },
   {
    "duration": 100,
    "start_time": "2023-01-06T17:00:00.880Z"
   },
   {
    "duration": 59,
    "start_time": "2023-01-06T17:00:00.982Z"
   },
   {
    "duration": 12,
    "start_time": "2023-01-06T17:00:01.043Z"
   },
   {
    "duration": 75,
    "start_time": "2023-01-06T17:00:01.056Z"
   },
   {
    "duration": 35,
    "start_time": "2023-01-06T17:00:01.133Z"
   },
   {
    "duration": 73,
    "start_time": "2023-01-06T17:00:01.170Z"
   },
   {
    "duration": 70,
    "start_time": "2023-01-06T17:09:07.491Z"
   },
   {
    "duration": 24,
    "start_time": "2023-01-06T17:09:48.372Z"
   },
   {
    "duration": 24,
    "start_time": "2023-01-06T17:10:34.914Z"
   },
   {
    "duration": 105,
    "start_time": "2023-01-06T17:10:40.663Z"
   },
   {
    "duration": 9,
    "start_time": "2023-01-06T17:11:27.933Z"
   },
   {
    "duration": 1257,
    "start_time": "2023-01-06T17:11:42.556Z"
   },
   {
    "duration": 15,
    "start_time": "2023-01-06T17:14:29.735Z"
   },
   {
    "duration": 982,
    "start_time": "2023-01-06T17:14:37.154Z"
   },
   {
    "duration": 14,
    "start_time": "2023-01-06T17:14:42.755Z"
   },
   {
    "duration": 8,
    "start_time": "2023-01-06T17:14:46.319Z"
   },
   {
    "duration": 15,
    "start_time": "2023-01-06T17:15:03.064Z"
   },
   {
    "duration": 8,
    "start_time": "2023-01-06T17:16:34.040Z"
   },
   {
    "duration": 375,
    "start_time": "2023-01-06T17:16:38.251Z"
   },
   {
    "duration": 8,
    "start_time": "2023-01-06T17:17:41.488Z"
   },
   {
    "duration": 9,
    "start_time": "2023-01-06T17:17:57.670Z"
   },
   {
    "duration": 13,
    "start_time": "2023-01-06T17:17:59.339Z"
   },
   {
    "duration": 747,
    "start_time": "2023-01-06T17:18:14.538Z"
   },
   {
    "duration": 552,
    "start_time": "2023-01-06T17:18:27.916Z"
   },
   {
    "duration": 577,
    "start_time": "2023-01-06T17:18:39.424Z"
   },
   {
    "duration": 572,
    "start_time": "2023-01-06T17:19:01.952Z"
   },
   {
    "duration": 11,
    "start_time": "2023-01-06T17:19:39.212Z"
   },
   {
    "duration": 7,
    "start_time": "2023-01-06T17:19:41.370Z"
   },
   {
    "duration": 870,
    "start_time": "2023-01-06T17:19:42.762Z"
   },
   {
    "duration": 576,
    "start_time": "2023-01-06T17:20:24.897Z"
   },
   {
    "duration": 771,
    "start_time": "2023-01-06T17:20:28.234Z"
   },
   {
    "duration": 306,
    "start_time": "2023-01-06T17:40:46.331Z"
   },
   {
    "duration": 12,
    "start_time": "2023-01-06T17:41:49.039Z"
   },
   {
    "duration": 231,
    "start_time": "2023-01-06T17:42:29.219Z"
   },
   {
    "duration": 17,
    "start_time": "2023-01-06T17:42:51.438Z"
   },
   {
    "duration": 59,
    "start_time": "2023-01-06T17:43:04.459Z"
   },
   {
    "duration": 19,
    "start_time": "2023-01-06T17:43:11.397Z"
   },
   {
    "duration": 8,
    "start_time": "2023-01-06T17:44:15.930Z"
   },
   {
    "duration": 116,
    "start_time": "2023-01-06T17:45:34.521Z"
   },
   {
    "duration": 11,
    "start_time": "2023-01-06T17:46:24.978Z"
   },
   {
    "duration": 9,
    "start_time": "2023-01-06T17:46:48.516Z"
   },
   {
    "duration": 119,
    "start_time": "2023-01-06T17:46:54.553Z"
   },
   {
    "duration": 12,
    "start_time": "2023-01-06T17:48:06.235Z"
   },
   {
    "duration": 125,
    "start_time": "2023-01-06T17:48:12.091Z"
   },
   {
    "duration": 5,
    "start_time": "2023-01-06T17:48:55.824Z"
   },
   {
    "duration": 49,
    "start_time": "2023-01-06T17:49:11.781Z"
   },
   {
    "duration": 12,
    "start_time": "2023-01-06T17:49:13.997Z"
   },
   {
    "duration": 16,
    "start_time": "2023-01-06T17:50:00.708Z"
   },
   {
    "duration": 15,
    "start_time": "2023-01-06T17:50:10.130Z"
   },
   {
    "duration": 245,
    "start_time": "2023-01-06T17:50:14.026Z"
   },
   {
    "duration": 120,
    "start_time": "2023-01-06T17:53:05.704Z"
   },
   {
    "duration": 11,
    "start_time": "2023-01-06T17:53:13.123Z"
   },
   {
    "duration": 7,
    "start_time": "2023-01-06T17:54:52.910Z"
   },
   {
    "duration": 149,
    "start_time": "2023-01-06T17:55:21.789Z"
   },
   {
    "duration": 148,
    "start_time": "2023-01-06T17:55:33.838Z"
   },
   {
    "duration": 136,
    "start_time": "2023-01-06T17:55:45.931Z"
   },
   {
    "duration": 148,
    "start_time": "2023-01-06T17:56:53.120Z"
   },
   {
    "duration": 300,
    "start_time": "2023-01-06T17:59:06.932Z"
   },
   {
    "duration": 315,
    "start_time": "2023-01-06T18:00:10.829Z"
   },
   {
    "duration": 320,
    "start_time": "2023-01-06T18:01:45.889Z"
   },
   {
    "duration": 322,
    "start_time": "2023-01-06T18:02:11.911Z"
   },
   {
    "duration": 513,
    "start_time": "2023-01-06T18:03:24.327Z"
   },
   {
    "duration": 1003,
    "start_time": "2023-01-06T18:07:07.968Z"
   },
   {
    "duration": 566,
    "start_time": "2023-01-06T18:07:08.973Z"
   },
   {
    "duration": 26,
    "start_time": "2023-01-06T18:07:09.541Z"
   },
   {
    "duration": 113,
    "start_time": "2023-01-06T18:07:09.569Z"
   },
   {
    "duration": 582,
    "start_time": "2023-01-06T18:07:09.683Z"
   },
   {
    "duration": 110,
    "start_time": "2023-01-06T18:07:10.267Z"
   },
   {
    "duration": 5,
    "start_time": "2023-01-06T18:07:10.379Z"
   },
   {
    "duration": 11,
    "start_time": "2023-01-06T18:07:10.409Z"
   },
   {
    "duration": 37,
    "start_time": "2023-01-06T18:07:10.421Z"
   },
   {
    "duration": 6,
    "start_time": "2023-01-06T18:07:10.461Z"
   },
   {
    "duration": 47,
    "start_time": "2023-01-06T18:07:10.469Z"
   },
   {
    "duration": 5,
    "start_time": "2023-01-06T18:07:10.517Z"
   },
   {
    "duration": 26,
    "start_time": "2023-01-06T18:07:10.524Z"
   },
   {
    "duration": 164,
    "start_time": "2023-01-06T18:07:10.551Z"
   },
   {
    "duration": 8,
    "start_time": "2023-01-06T18:07:10.717Z"
   },
   {
    "duration": 198,
    "start_time": "2023-01-06T18:07:10.727Z"
   },
   {
    "duration": 12,
    "start_time": "2023-01-06T18:07:10.926Z"
   },
   {
    "duration": 23,
    "start_time": "2023-01-06T18:07:10.939Z"
   },
   {
    "duration": 156,
    "start_time": "2023-01-06T18:07:10.963Z"
   },
   {
    "duration": 6,
    "start_time": "2023-01-06T18:07:11.121Z"
   },
   {
    "duration": 10,
    "start_time": "2023-01-06T18:07:11.128Z"
   },
   {
    "duration": 5,
    "start_time": "2023-01-06T18:07:11.139Z"
   },
   {
    "duration": 6,
    "start_time": "2023-01-06T18:07:11.146Z"
   },
   {
    "duration": 9,
    "start_time": "2023-01-06T18:07:11.153Z"
   },
   {
    "duration": 19,
    "start_time": "2023-01-06T18:07:11.163Z"
   },
   {
    "duration": 27,
    "start_time": "2023-01-06T18:07:11.184Z"
   },
   {
    "duration": 19,
    "start_time": "2023-01-06T18:07:11.213Z"
   },
   {
    "duration": 8,
    "start_time": "2023-01-06T18:07:11.235Z"
   },
   {
    "duration": 20,
    "start_time": "2023-01-06T18:07:11.244Z"
   },
   {
    "duration": 8,
    "start_time": "2023-01-06T18:07:11.265Z"
   },
   {
    "duration": 32,
    "start_time": "2023-01-06T18:07:11.274Z"
   },
   {
    "duration": 9,
    "start_time": "2023-01-06T18:07:11.310Z"
   },
   {
    "duration": 13,
    "start_time": "2023-01-06T18:07:11.321Z"
   },
   {
    "duration": 6,
    "start_time": "2023-01-06T18:07:11.335Z"
   },
   {
    "duration": 10,
    "start_time": "2023-01-06T18:07:11.342Z"
   },
   {
    "duration": 7,
    "start_time": "2023-01-06T18:07:11.353Z"
   },
   {
    "duration": 5,
    "start_time": "2023-01-06T18:07:11.362Z"
   },
   {
    "duration": 252,
    "start_time": "2023-01-06T18:07:11.368Z"
   },
   {
    "duration": 335,
    "start_time": "2023-01-06T18:07:11.621Z"
   },
   {
    "duration": 7,
    "start_time": "2023-01-06T18:07:11.958Z"
   },
   {
    "duration": 6,
    "start_time": "2023-01-06T18:07:11.967Z"
   },
   {
    "duration": 37,
    "start_time": "2023-01-06T18:07:11.974Z"
   },
   {
    "duration": 299,
    "start_time": "2023-01-06T18:07:12.012Z"
   },
   {
    "duration": 309,
    "start_time": "2023-01-06T18:07:12.313Z"
   },
   {
    "duration": 370,
    "start_time": "2023-01-06T18:07:12.624Z"
   },
   {
    "duration": 24,
    "start_time": "2023-01-06T18:07:12.998Z"
   },
   {
    "duration": 14,
    "start_time": "2023-01-06T18:07:13.024Z"
   },
   {
    "duration": 6,
    "start_time": "2023-01-06T18:07:13.040Z"
   },
   {
    "duration": 18,
    "start_time": "2023-01-06T18:07:13.047Z"
   },
   {
    "duration": 7,
    "start_time": "2023-01-06T18:07:13.066Z"
   },
   {
    "duration": 34,
    "start_time": "2023-01-06T18:07:13.074Z"
   },
   {
    "duration": 17,
    "start_time": "2023-01-06T18:32:45.684Z"
   },
   {
    "duration": 17,
    "start_time": "2023-01-06T18:32:50.310Z"
   },
   {
    "duration": 4,
    "start_time": "2023-01-06T18:33:07.146Z"
   },
   {
    "duration": 1099,
    "start_time": "2023-01-06T18:39:23.714Z"
   },
   {
    "duration": 595,
    "start_time": "2023-01-06T18:39:24.817Z"
   },
   {
    "duration": 26,
    "start_time": "2023-01-06T18:39:25.414Z"
   },
   {
    "duration": 124,
    "start_time": "2023-01-06T18:39:25.442Z"
   },
   {
    "duration": 651,
    "start_time": "2023-01-06T18:39:25.567Z"
   },
   {
    "duration": 108,
    "start_time": "2023-01-06T18:39:26.220Z"
   },
   {
    "duration": 6,
    "start_time": "2023-01-06T18:39:26.329Z"
   },
   {
    "duration": 53,
    "start_time": "2023-01-06T18:39:26.336Z"
   },
   {
    "duration": 56,
    "start_time": "2023-01-06T18:39:26.390Z"
   },
   {
    "duration": 11,
    "start_time": "2023-01-06T18:39:26.449Z"
   },
   {
    "duration": 50,
    "start_time": "2023-01-06T18:39:26.462Z"
   },
   {
    "duration": 9,
    "start_time": "2023-01-06T18:39:26.514Z"
   },
   {
    "duration": 39,
    "start_time": "2023-01-06T18:39:26.524Z"
   },
   {
    "duration": 179,
    "start_time": "2023-01-06T18:39:26.565Z"
   },
   {
    "duration": 8,
    "start_time": "2023-01-06T18:39:26.745Z"
   },
   {
    "duration": 205,
    "start_time": "2023-01-06T18:39:26.755Z"
   },
   {
    "duration": 12,
    "start_time": "2023-01-06T18:39:26.961Z"
   },
   {
    "duration": 45,
    "start_time": "2023-01-06T18:39:26.974Z"
   },
   {
    "duration": 151,
    "start_time": "2023-01-06T18:39:27.021Z"
   },
   {
    "duration": 7,
    "start_time": "2023-01-06T18:39:27.173Z"
   },
   {
    "duration": 20,
    "start_time": "2023-01-06T18:39:27.181Z"
   },
   {
    "duration": 19,
    "start_time": "2023-01-06T18:39:27.202Z"
   },
   {
    "duration": 4,
    "start_time": "2023-01-06T18:39:27.223Z"
   },
   {
    "duration": 6,
    "start_time": "2023-01-06T18:39:27.229Z"
   },
   {
    "duration": 6,
    "start_time": "2023-01-06T18:39:27.236Z"
   },
   {
    "duration": 6,
    "start_time": "2023-01-06T18:39:27.243Z"
   },
   {
    "duration": 17,
    "start_time": "2023-01-06T18:39:27.250Z"
   },
   {
    "duration": 8,
    "start_time": "2023-01-06T18:39:27.270Z"
   },
   {
    "duration": 44,
    "start_time": "2023-01-06T18:39:27.279Z"
   },
   {
    "duration": 8,
    "start_time": "2023-01-06T18:39:27.325Z"
   },
   {
    "duration": 10,
    "start_time": "2023-01-06T18:39:27.334Z"
   },
   {
    "duration": 7,
    "start_time": "2023-01-06T18:39:27.345Z"
   },
   {
    "duration": 13,
    "start_time": "2023-01-06T18:39:27.353Z"
   },
   {
    "duration": 4,
    "start_time": "2023-01-06T18:39:27.368Z"
   },
   {
    "duration": 17,
    "start_time": "2023-01-06T18:39:27.400Z"
   },
   {
    "duration": 7,
    "start_time": "2023-01-06T18:39:27.418Z"
   },
   {
    "duration": 8,
    "start_time": "2023-01-06T18:39:27.426Z"
   },
   {
    "duration": 280,
    "start_time": "2023-01-06T18:39:27.435Z"
   },
   {
    "duration": 336,
    "start_time": "2023-01-06T18:39:27.717Z"
   },
   {
    "duration": 7,
    "start_time": "2023-01-06T18:39:28.055Z"
   },
   {
    "duration": 7,
    "start_time": "2023-01-06T18:39:28.064Z"
   },
   {
    "duration": 11,
    "start_time": "2023-01-06T18:39:28.072Z"
   },
   {
    "duration": 332,
    "start_time": "2023-01-06T18:39:28.096Z"
   },
   {
    "duration": 336,
    "start_time": "2023-01-06T18:39:28.430Z"
   },
   {
    "duration": 402,
    "start_time": "2023-01-06T18:39:28.768Z"
   },
   {
    "duration": 37,
    "start_time": "2023-01-06T18:39:29.172Z"
   },
   {
    "duration": 15,
    "start_time": "2023-01-06T18:39:29.211Z"
   },
   {
    "duration": 7,
    "start_time": "2023-01-06T18:39:29.228Z"
   },
   {
    "duration": 13,
    "start_time": "2023-01-06T18:39:29.236Z"
   },
   {
    "duration": 6,
    "start_time": "2023-01-06T18:39:29.251Z"
   },
   {
    "duration": 19,
    "start_time": "2023-01-06T18:39:29.258Z"
   },
   {
    "duration": 43,
    "start_time": "2023-01-06T18:48:47.977Z"
   },
   {
    "duration": 981,
    "start_time": "2023-01-06T18:53:50.364Z"
   },
   {
    "duration": 574,
    "start_time": "2023-01-06T18:53:51.346Z"
   },
   {
    "duration": 27,
    "start_time": "2023-01-06T18:53:51.921Z"
   },
   {
    "duration": 117,
    "start_time": "2023-01-06T18:53:51.950Z"
   },
   {
    "duration": 596,
    "start_time": "2023-01-06T18:53:52.069Z"
   },
   {
    "duration": 107,
    "start_time": "2023-01-06T18:53:52.666Z"
   },
   {
    "duration": 5,
    "start_time": "2023-01-06T18:53:52.775Z"
   },
   {
    "duration": 29,
    "start_time": "2023-01-06T18:53:52.782Z"
   },
   {
    "duration": 46,
    "start_time": "2023-01-06T18:53:52.813Z"
   },
   {
    "duration": 7,
    "start_time": "2023-01-06T18:53:52.861Z"
   },
   {
    "duration": 49,
    "start_time": "2023-01-06T18:53:52.869Z"
   },
   {
    "duration": 6,
    "start_time": "2023-01-06T18:53:52.919Z"
   },
   {
    "duration": 29,
    "start_time": "2023-01-06T18:53:52.926Z"
   },
   {
    "duration": 186,
    "start_time": "2023-01-06T18:53:52.956Z"
   },
   {
    "duration": 8,
    "start_time": "2023-01-06T18:53:53.144Z"
   },
   {
    "duration": 220,
    "start_time": "2023-01-06T18:53:53.154Z"
   },
   {
    "duration": 12,
    "start_time": "2023-01-06T18:53:53.375Z"
   },
   {
    "duration": 30,
    "start_time": "2023-01-06T18:53:53.401Z"
   },
   {
    "duration": 148,
    "start_time": "2023-01-06T18:53:53.433Z"
   },
   {
    "duration": 16,
    "start_time": "2023-01-06T18:53:53.583Z"
   },
   {
    "duration": 19,
    "start_time": "2023-01-06T18:53:53.600Z"
   },
   {
    "duration": 8,
    "start_time": "2023-01-06T18:53:53.620Z"
   },
   {
    "duration": 5,
    "start_time": "2023-01-06T18:53:53.630Z"
   },
   {
    "duration": 8,
    "start_time": "2023-01-06T18:53:53.636Z"
   },
   {
    "duration": 10,
    "start_time": "2023-01-06T18:53:53.646Z"
   },
   {
    "duration": 7,
    "start_time": "2023-01-06T18:53:53.657Z"
   },
   {
    "duration": 19,
    "start_time": "2023-01-06T18:53:53.666Z"
   },
   {
    "duration": 18,
    "start_time": "2023-01-06T18:53:53.702Z"
   },
   {
    "duration": 31,
    "start_time": "2023-01-06T18:53:53.721Z"
   },
   {
    "duration": 9,
    "start_time": "2023-01-06T18:53:53.754Z"
   },
   {
    "duration": 8,
    "start_time": "2023-01-06T18:53:53.764Z"
   },
   {
    "duration": 8,
    "start_time": "2023-01-06T18:53:53.773Z"
   },
   {
    "duration": 35,
    "start_time": "2023-01-06T18:53:53.782Z"
   },
   {
    "duration": 4,
    "start_time": "2023-01-06T18:53:53.819Z"
   },
   {
    "duration": 10,
    "start_time": "2023-01-06T18:53:53.825Z"
   },
   {
    "duration": 5,
    "start_time": "2023-01-06T18:53:53.837Z"
   },
   {
    "duration": 6,
    "start_time": "2023-01-06T18:53:53.844Z"
   },
   {
    "duration": 283,
    "start_time": "2023-01-06T18:53:53.851Z"
   },
   {
    "duration": 319,
    "start_time": "2023-01-06T18:53:54.136Z"
   },
   {
    "duration": 8,
    "start_time": "2023-01-06T18:53:54.457Z"
   },
   {
    "duration": 9,
    "start_time": "2023-01-06T18:53:54.466Z"
   },
   {
    "duration": 25,
    "start_time": "2023-01-06T18:53:54.477Z"
   },
   {
    "duration": 417,
    "start_time": "2023-01-06T18:53:54.504Z"
   },
   {
    "duration": 313,
    "start_time": "2023-01-06T18:53:54.922Z"
   },
   {
    "duration": 397,
    "start_time": "2023-01-06T18:53:55.236Z"
   },
   {
    "duration": 23,
    "start_time": "2023-01-06T18:53:55.634Z"
   },
   {
    "duration": 17,
    "start_time": "2023-01-06T18:53:55.659Z"
   },
   {
    "duration": 27,
    "start_time": "2023-01-06T18:53:55.677Z"
   },
   {
    "duration": 30,
    "start_time": "2023-01-06T18:53:55.705Z"
   },
   {
    "duration": 7,
    "start_time": "2023-01-06T18:53:55.737Z"
   },
   {
    "duration": 15,
    "start_time": "2023-01-06T18:53:55.746Z"
   },
   {
    "duration": 1089,
    "start_time": "2023-01-06T18:54:54.453Z"
   },
   {
    "duration": 580,
    "start_time": "2023-01-06T18:54:55.543Z"
   },
   {
    "duration": 24,
    "start_time": "2023-01-06T18:54:56.124Z"
   },
   {
    "duration": 109,
    "start_time": "2023-01-06T18:54:56.150Z"
   },
   {
    "duration": 631,
    "start_time": "2023-01-06T18:54:56.260Z"
   },
   {
    "duration": 122,
    "start_time": "2023-01-06T18:54:56.899Z"
   },
   {
    "duration": 5,
    "start_time": "2023-01-06T18:54:57.023Z"
   },
   {
    "duration": 14,
    "start_time": "2023-01-06T18:54:57.030Z"
   },
   {
    "duration": 39,
    "start_time": "2023-01-06T18:54:57.045Z"
   },
   {
    "duration": 15,
    "start_time": "2023-01-06T18:54:57.098Z"
   },
   {
    "duration": 41,
    "start_time": "2023-01-06T18:54:57.114Z"
   },
   {
    "duration": 5,
    "start_time": "2023-01-06T18:54:57.157Z"
   },
   {
    "duration": 27,
    "start_time": "2023-01-06T18:54:57.163Z"
   },
   {
    "duration": 171,
    "start_time": "2023-01-06T18:54:57.192Z"
   },
   {
    "duration": 9,
    "start_time": "2023-01-06T18:54:57.365Z"
   },
   {
    "duration": 200,
    "start_time": "2023-01-06T18:54:57.375Z"
   },
   {
    "duration": 11,
    "start_time": "2023-01-06T18:54:57.576Z"
   },
   {
    "duration": 28,
    "start_time": "2023-01-06T18:54:57.589Z"
   },
   {
    "duration": 153,
    "start_time": "2023-01-06T18:54:57.618Z"
   },
   {
    "duration": 6,
    "start_time": "2023-01-06T18:54:57.773Z"
   },
   {
    "duration": 21,
    "start_time": "2023-01-06T18:54:57.780Z"
   },
   {
    "duration": 7,
    "start_time": "2023-01-06T18:54:57.810Z"
   },
   {
    "duration": 5,
    "start_time": "2023-01-06T18:54:57.819Z"
   },
   {
    "duration": 10,
    "start_time": "2023-01-06T18:54:57.825Z"
   },
   {
    "duration": 5,
    "start_time": "2023-01-06T18:54:57.836Z"
   },
   {
    "duration": 7,
    "start_time": "2023-01-06T18:54:57.842Z"
   },
   {
    "duration": 18,
    "start_time": "2023-01-06T18:54:57.850Z"
   },
   {
    "duration": 35,
    "start_time": "2023-01-06T18:54:57.870Z"
   },
   {
    "duration": 21,
    "start_time": "2023-01-06T18:54:57.909Z"
   },
   {
    "duration": 9,
    "start_time": "2023-01-06T18:54:57.932Z"
   },
   {
    "duration": 13,
    "start_time": "2023-01-06T18:54:57.942Z"
   },
   {
    "duration": 8,
    "start_time": "2023-01-06T18:54:57.956Z"
   },
   {
    "duration": 44,
    "start_time": "2023-01-06T18:54:57.965Z"
   },
   {
    "duration": 5,
    "start_time": "2023-01-06T18:54:58.010Z"
   },
   {
    "duration": 12,
    "start_time": "2023-01-06T18:54:58.017Z"
   },
   {
    "duration": 9,
    "start_time": "2023-01-06T18:54:58.030Z"
   },
   {
    "duration": 9,
    "start_time": "2023-01-06T18:54:58.040Z"
   },
   {
    "duration": 263,
    "start_time": "2023-01-06T18:54:58.050Z"
   },
   {
    "duration": 338,
    "start_time": "2023-01-06T18:54:58.315Z"
   },
   {
    "duration": 8,
    "start_time": "2023-01-06T18:54:58.654Z"
   },
   {
    "duration": 6,
    "start_time": "2023-01-06T18:54:58.663Z"
   },
   {
    "duration": 5,
    "start_time": "2023-01-06T18:54:58.670Z"
   },
   {
    "duration": 355,
    "start_time": "2023-01-06T18:54:58.676Z"
   },
   {
    "duration": 317,
    "start_time": "2023-01-06T18:54:59.033Z"
   },
   {
    "duration": 387,
    "start_time": "2023-01-06T18:54:59.352Z"
   },
   {
    "duration": 18,
    "start_time": "2023-01-06T18:54:59.741Z"
   },
   {
    "duration": 16,
    "start_time": "2023-01-06T18:54:59.760Z"
   },
   {
    "duration": 31,
    "start_time": "2023-01-06T18:54:59.778Z"
   },
   {
    "duration": 17,
    "start_time": "2023-01-06T18:54:59.810Z"
   },
   {
    "duration": 26,
    "start_time": "2023-01-06T18:54:59.828Z"
   },
   {
    "duration": 17,
    "start_time": "2023-01-06T18:54:59.855Z"
   },
   {
    "duration": 1029,
    "start_time": "2023-01-06T19:00:15.134Z"
   },
   {
    "duration": 604,
    "start_time": "2023-01-06T19:00:16.165Z"
   },
   {
    "duration": 24,
    "start_time": "2023-01-06T19:00:16.770Z"
   },
   {
    "duration": 104,
    "start_time": "2023-01-06T19:00:16.798Z"
   },
   {
    "duration": 610,
    "start_time": "2023-01-06T19:00:16.909Z"
   },
   {
    "duration": 106,
    "start_time": "2023-01-06T19:00:17.520Z"
   },
   {
    "duration": 5,
    "start_time": "2023-01-06T19:00:17.628Z"
   },
   {
    "duration": 15,
    "start_time": "2023-01-06T19:00:17.635Z"
   },
   {
    "duration": 64,
    "start_time": "2023-01-06T19:00:17.651Z"
   },
   {
    "duration": 8,
    "start_time": "2023-01-06T19:00:17.718Z"
   },
   {
    "duration": 48,
    "start_time": "2023-01-06T19:00:17.727Z"
   },
   {
    "duration": 7,
    "start_time": "2023-01-06T19:00:17.777Z"
   },
   {
    "duration": 45,
    "start_time": "2023-01-06T19:00:17.785Z"
   },
   {
    "duration": 171,
    "start_time": "2023-01-06T19:00:17.832Z"
   },
   {
    "duration": 13,
    "start_time": "2023-01-06T19:00:18.007Z"
   },
   {
    "duration": 201,
    "start_time": "2023-01-06T19:00:18.022Z"
   },
   {
    "duration": 12,
    "start_time": "2023-01-06T19:00:18.225Z"
   },
   {
    "duration": 21,
    "start_time": "2023-01-06T19:00:18.239Z"
   },
   {
    "duration": 161,
    "start_time": "2023-01-06T19:00:18.261Z"
   },
   {
    "duration": 7,
    "start_time": "2023-01-06T19:00:18.424Z"
   },
   {
    "duration": 10,
    "start_time": "2023-01-06T19:00:18.433Z"
   },
   {
    "duration": 6,
    "start_time": "2023-01-06T19:00:18.445Z"
   },
   {
    "duration": 9,
    "start_time": "2023-01-06T19:00:18.452Z"
   },
   {
    "duration": 6,
    "start_time": "2023-01-06T19:00:18.462Z"
   },
   {
    "duration": 4,
    "start_time": "2023-01-06T19:00:18.504Z"
   },
   {
    "duration": 19,
    "start_time": "2023-01-06T19:00:18.510Z"
   },
   {
    "duration": 24,
    "start_time": "2023-01-06T19:00:18.530Z"
   },
   {
    "duration": 10,
    "start_time": "2023-01-06T19:00:18.557Z"
   },
   {
    "duration": 31,
    "start_time": "2023-01-06T19:00:18.569Z"
   },
   {
    "duration": 13,
    "start_time": "2023-01-06T19:00:18.606Z"
   },
   {
    "duration": 12,
    "start_time": "2023-01-06T19:00:18.621Z"
   },
   {
    "duration": 11,
    "start_time": "2023-01-06T19:00:18.636Z"
   },
   {
    "duration": 18,
    "start_time": "2023-01-06T19:00:18.649Z"
   },
   {
    "duration": 11,
    "start_time": "2023-01-06T19:00:18.669Z"
   },
   {
    "duration": 14,
    "start_time": "2023-01-06T19:00:18.698Z"
   },
   {
    "duration": 12,
    "start_time": "2023-01-06T19:00:18.717Z"
   },
   {
    "duration": 5,
    "start_time": "2023-01-06T19:00:18.731Z"
   },
   {
    "duration": 282,
    "start_time": "2023-01-06T19:00:18.738Z"
   },
   {
    "duration": 416,
    "start_time": "2023-01-06T19:00:19.022Z"
   },
   {
    "duration": 8,
    "start_time": "2023-01-06T19:00:19.439Z"
   },
   {
    "duration": 10,
    "start_time": "2023-01-06T19:00:19.449Z"
   },
   {
    "duration": 8,
    "start_time": "2023-01-06T19:00:19.461Z"
   },
   {
    "duration": 357,
    "start_time": "2023-01-06T19:00:19.470Z"
   },
   {
    "duration": 377,
    "start_time": "2023-01-06T19:00:19.829Z"
   },
   {
    "duration": 367,
    "start_time": "2023-01-06T19:00:20.211Z"
   },
   {
    "duration": 34,
    "start_time": "2023-01-06T19:00:20.579Z"
   },
   {
    "duration": 17,
    "start_time": "2023-01-06T19:00:20.618Z"
   },
   {
    "duration": 7,
    "start_time": "2023-01-06T19:00:20.636Z"
   },
   {
    "duration": 17,
    "start_time": "2023-01-06T19:00:20.645Z"
   },
   {
    "duration": 7,
    "start_time": "2023-01-06T19:00:20.664Z"
   },
   {
    "duration": 41,
    "start_time": "2023-01-06T19:00:20.672Z"
   },
   {
    "duration": 1048,
    "start_time": "2023-01-06T19:00:37.659Z"
   },
   {
    "duration": 580,
    "start_time": "2023-01-06T19:00:38.710Z"
   },
   {
    "duration": 29,
    "start_time": "2023-01-06T19:00:39.292Z"
   },
   {
    "duration": 110,
    "start_time": "2023-01-06T19:00:39.324Z"
   },
   {
    "duration": 682,
    "start_time": "2023-01-06T19:00:39.436Z"
   },
   {
    "duration": 108,
    "start_time": "2023-01-06T19:00:40.120Z"
   },
   {
    "duration": 5,
    "start_time": "2023-01-06T19:00:40.230Z"
   },
   {
    "duration": 15,
    "start_time": "2023-01-06T19:00:40.236Z"
   },
   {
    "duration": 60,
    "start_time": "2023-01-06T19:00:40.252Z"
   },
   {
    "duration": 7,
    "start_time": "2023-01-06T19:00:40.315Z"
   },
   {
    "duration": 36,
    "start_time": "2023-01-06T19:00:40.324Z"
   },
   {
    "duration": 4,
    "start_time": "2023-01-06T19:00:40.362Z"
   },
   {
    "duration": 47,
    "start_time": "2023-01-06T19:00:40.368Z"
   },
   {
    "duration": 167,
    "start_time": "2023-01-06T19:00:40.416Z"
   },
   {
    "duration": 21,
    "start_time": "2023-01-06T19:00:40.584Z"
   },
   {
    "duration": 197,
    "start_time": "2023-01-06T19:00:40.608Z"
   },
   {
    "duration": 16,
    "start_time": "2023-01-06T19:00:40.806Z"
   },
   {
    "duration": 23,
    "start_time": "2023-01-06T19:00:40.823Z"
   },
   {
    "duration": 147,
    "start_time": "2023-01-06T19:00:40.847Z"
   },
   {
    "duration": 16,
    "start_time": "2023-01-06T19:00:40.998Z"
   },
   {
    "duration": 10,
    "start_time": "2023-01-06T19:00:41.016Z"
   },
   {
    "duration": 7,
    "start_time": "2023-01-06T19:00:41.028Z"
   },
   {
    "duration": 6,
    "start_time": "2023-01-06T19:00:41.036Z"
   },
   {
    "duration": 8,
    "start_time": "2023-01-06T19:00:41.043Z"
   },
   {
    "duration": 4,
    "start_time": "2023-01-06T19:00:41.052Z"
   },
   {
    "duration": 10,
    "start_time": "2023-01-06T19:00:41.058Z"
   },
   {
    "duration": 40,
    "start_time": "2023-01-06T19:00:41.070Z"
   },
   {
    "duration": 8,
    "start_time": "2023-01-06T19:00:41.115Z"
   },
   {
    "duration": 21,
    "start_time": "2023-01-06T19:00:41.125Z"
   },
   {
    "duration": 8,
    "start_time": "2023-01-06T19:00:41.147Z"
   },
   {
    "duration": 7,
    "start_time": "2023-01-06T19:00:41.157Z"
   },
   {
    "duration": 44,
    "start_time": "2023-01-06T19:00:41.165Z"
   },
   {
    "duration": 23,
    "start_time": "2023-01-06T19:00:41.212Z"
   },
   {
    "duration": 5,
    "start_time": "2023-01-06T19:00:41.237Z"
   },
   {
    "duration": 12,
    "start_time": "2023-01-06T19:00:41.243Z"
   },
   {
    "duration": 10,
    "start_time": "2023-01-06T19:00:41.256Z"
   },
   {
    "duration": 11,
    "start_time": "2023-01-06T19:00:41.267Z"
   },
   {
    "duration": 256,
    "start_time": "2023-01-06T19:00:41.280Z"
   },
   {
    "duration": 320,
    "start_time": "2023-01-06T19:00:41.537Z"
   },
   {
    "duration": 8,
    "start_time": "2023-01-06T19:00:41.858Z"
   },
   {
    "duration": 6,
    "start_time": "2023-01-06T19:00:41.867Z"
   },
   {
    "duration": 31,
    "start_time": "2023-01-06T19:00:41.874Z"
   },
   {
    "duration": 308,
    "start_time": "2023-01-06T19:00:41.909Z"
   },
   {
    "duration": 310,
    "start_time": "2023-01-06T19:00:42.218Z"
   },
   {
    "duration": 357,
    "start_time": "2023-01-06T19:00:42.530Z"
   },
   {
    "duration": 23,
    "start_time": "2023-01-06T19:00:42.889Z"
   },
   {
    "duration": 17,
    "start_time": "2023-01-06T19:00:42.913Z"
   },
   {
    "duration": 6,
    "start_time": "2023-01-06T19:00:42.931Z"
   },
   {
    "duration": 11,
    "start_time": "2023-01-06T19:00:42.938Z"
   },
   {
    "duration": 7,
    "start_time": "2023-01-06T19:00:42.951Z"
   },
   {
    "duration": 43,
    "start_time": "2023-01-06T19:00:42.960Z"
   },
   {
    "duration": 1189,
    "start_time": "2023-01-06T19:01:29.683Z"
   },
   {
    "duration": 647,
    "start_time": "2023-01-06T19:01:30.874Z"
   },
   {
    "duration": 26,
    "start_time": "2023-01-06T19:01:31.522Z"
   },
   {
    "duration": 117,
    "start_time": "2023-01-06T19:01:31.550Z"
   },
   {
    "duration": 737,
    "start_time": "2023-01-06T19:01:31.669Z"
   },
   {
    "duration": 106,
    "start_time": "2023-01-06T19:01:32.410Z"
   },
   {
    "duration": 6,
    "start_time": "2023-01-06T19:01:32.518Z"
   },
   {
    "duration": 16,
    "start_time": "2023-01-06T19:01:32.526Z"
   },
   {
    "duration": 41,
    "start_time": "2023-01-06T19:01:32.544Z"
   },
   {
    "duration": 20,
    "start_time": "2023-01-06T19:01:32.599Z"
   },
   {
    "duration": 57,
    "start_time": "2023-01-06T19:01:32.620Z"
   },
   {
    "duration": 57,
    "start_time": "2023-01-06T19:01:32.679Z"
   },
   {
    "duration": 30,
    "start_time": "2023-01-06T19:01:32.738Z"
   },
   {
    "duration": 174,
    "start_time": "2023-01-06T19:01:32.770Z"
   },
   {
    "duration": 10,
    "start_time": "2023-01-06T19:01:32.946Z"
   },
   {
    "duration": 264,
    "start_time": "2023-01-06T19:01:32.958Z"
   },
   {
    "duration": 13,
    "start_time": "2023-01-06T19:01:33.224Z"
   },
   {
    "duration": 26,
    "start_time": "2023-01-06T19:01:33.238Z"
   },
   {
    "duration": 158,
    "start_time": "2023-01-06T19:01:33.266Z"
   },
   {
    "duration": 7,
    "start_time": "2023-01-06T19:01:33.426Z"
   },
   {
    "duration": 10,
    "start_time": "2023-01-06T19:01:33.434Z"
   },
   {
    "duration": 6,
    "start_time": "2023-01-06T19:01:33.445Z"
   },
   {
    "duration": 6,
    "start_time": "2023-01-06T19:01:33.452Z"
   },
   {
    "duration": 7,
    "start_time": "2023-01-06T19:01:33.459Z"
   },
   {
    "duration": 6,
    "start_time": "2023-01-06T19:01:33.499Z"
   },
   {
    "duration": 20,
    "start_time": "2023-01-06T19:01:33.507Z"
   },
   {
    "duration": 25,
    "start_time": "2023-01-06T19:01:33.529Z"
   },
   {
    "duration": 9,
    "start_time": "2023-01-06T19:01:33.558Z"
   },
   {
    "duration": 36,
    "start_time": "2023-01-06T19:01:33.569Z"
   },
   {
    "duration": 12,
    "start_time": "2023-01-06T19:01:33.607Z"
   },
   {
    "duration": 11,
    "start_time": "2023-01-06T19:01:33.621Z"
   },
   {
    "duration": 7,
    "start_time": "2023-01-06T19:01:33.634Z"
   },
   {
    "duration": 15,
    "start_time": "2023-01-06T19:01:33.642Z"
   },
   {
    "duration": 7,
    "start_time": "2023-01-06T19:01:33.659Z"
   },
   {
    "duration": 37,
    "start_time": "2023-01-06T19:01:33.668Z"
   },
   {
    "duration": 19,
    "start_time": "2023-01-06T19:01:33.706Z"
   },
   {
    "duration": 6,
    "start_time": "2023-01-06T19:01:33.726Z"
   },
   {
    "duration": 284,
    "start_time": "2023-01-06T19:01:33.733Z"
   },
   {
    "duration": 364,
    "start_time": "2023-01-06T19:01:34.019Z"
   },
   {
    "duration": 22,
    "start_time": "2023-01-06T19:01:34.385Z"
   },
   {
    "duration": 7,
    "start_time": "2023-01-06T19:01:34.409Z"
   },
   {
    "duration": 12,
    "start_time": "2023-01-06T19:01:34.418Z"
   },
   {
    "duration": 358,
    "start_time": "2023-01-06T19:01:34.431Z"
   },
   {
    "duration": 359,
    "start_time": "2023-01-06T19:01:34.802Z"
   },
   {
    "duration": 400,
    "start_time": "2023-01-06T19:01:35.163Z"
   },
   {
    "duration": 40,
    "start_time": "2023-01-06T19:01:35.565Z"
   },
   {
    "duration": 26,
    "start_time": "2023-01-06T19:01:35.606Z"
   },
   {
    "duration": 10,
    "start_time": "2023-01-06T19:01:35.635Z"
   },
   {
    "duration": 19,
    "start_time": "2023-01-06T19:01:35.647Z"
   },
   {
    "duration": 13,
    "start_time": "2023-01-06T19:01:35.668Z"
   },
   {
    "duration": 24,
    "start_time": "2023-01-06T19:01:35.682Z"
   },
   {
    "duration": 1059,
    "start_time": "2023-01-06T23:49:04.028Z"
   },
   {
    "duration": 870,
    "start_time": "2023-01-06T23:49:05.090Z"
   },
   {
    "duration": 25,
    "start_time": "2023-01-06T23:49:05.962Z"
   },
   {
    "duration": 86,
    "start_time": "2023-01-06T23:49:05.989Z"
   },
   {
    "duration": 750,
    "start_time": "2023-01-06T23:49:06.077Z"
   },
   {
    "duration": 103,
    "start_time": "2023-01-06T23:49:06.829Z"
   },
   {
    "duration": 6,
    "start_time": "2023-01-06T23:49:06.934Z"
   },
   {
    "duration": 40,
    "start_time": "2023-01-06T23:49:06.942Z"
   },
   {
    "duration": 42,
    "start_time": "2023-01-06T23:49:06.984Z"
   },
   {
    "duration": 11,
    "start_time": "2023-01-06T23:49:07.029Z"
   },
   {
    "duration": 66,
    "start_time": "2023-01-06T23:49:07.042Z"
   },
   {
    "duration": 14,
    "start_time": "2023-01-06T23:49:07.111Z"
   },
   {
    "duration": 36,
    "start_time": "2023-01-06T23:49:07.127Z"
   },
   {
    "duration": 197,
    "start_time": "2023-01-06T23:49:07.165Z"
   },
   {
    "duration": 9,
    "start_time": "2023-01-06T23:49:07.364Z"
   },
   {
    "duration": 194,
    "start_time": "2023-01-06T23:49:07.375Z"
   },
   {
    "duration": 26,
    "start_time": "2023-01-06T23:49:07.571Z"
   },
   {
    "duration": 33,
    "start_time": "2023-01-06T23:49:07.599Z"
   },
   {
    "duration": 175,
    "start_time": "2023-01-06T23:49:07.634Z"
   },
   {
    "duration": 6,
    "start_time": "2023-01-06T23:49:07.812Z"
   },
   {
    "duration": 34,
    "start_time": "2023-01-06T23:49:07.819Z"
   },
   {
    "duration": 11,
    "start_time": "2023-01-06T23:49:07.854Z"
   },
   {
    "duration": 11,
    "start_time": "2023-01-06T23:49:07.866Z"
   },
   {
    "duration": 13,
    "start_time": "2023-01-06T23:49:07.878Z"
   },
   {
    "duration": 12,
    "start_time": "2023-01-06T23:49:07.893Z"
   },
   {
    "duration": 12,
    "start_time": "2023-01-06T23:49:07.907Z"
   },
   {
    "duration": 29,
    "start_time": "2023-01-06T23:49:07.921Z"
   },
   {
    "duration": 13,
    "start_time": "2023-01-06T23:49:07.955Z"
   },
   {
    "duration": 44,
    "start_time": "2023-01-06T23:49:07.970Z"
   },
   {
    "duration": 13,
    "start_time": "2023-01-06T23:49:08.016Z"
   },
   {
    "duration": 22,
    "start_time": "2023-01-06T23:49:08.031Z"
   },
   {
    "duration": 20,
    "start_time": "2023-01-06T23:49:08.055Z"
   },
   {
    "duration": 32,
    "start_time": "2023-01-06T23:49:08.077Z"
   },
   {
    "duration": 17,
    "start_time": "2023-01-06T23:49:08.111Z"
   },
   {
    "duration": 21,
    "start_time": "2023-01-06T23:49:08.130Z"
   },
   {
    "duration": 17,
    "start_time": "2023-01-06T23:49:08.154Z"
   },
   {
    "duration": 14,
    "start_time": "2023-01-06T23:49:08.173Z"
   },
   {
    "duration": 268,
    "start_time": "2023-01-06T23:49:08.188Z"
   },
   {
    "duration": 339,
    "start_time": "2023-01-06T23:49:08.458Z"
   },
   {
    "duration": 19,
    "start_time": "2023-01-06T23:49:08.799Z"
   },
   {
    "duration": 21,
    "start_time": "2023-01-06T23:49:08.820Z"
   },
   {
    "duration": 16,
    "start_time": "2023-01-06T23:49:08.843Z"
   },
   {
    "duration": 317,
    "start_time": "2023-01-06T23:49:08.861Z"
   },
   {
    "duration": 357,
    "start_time": "2023-01-06T23:49:09.180Z"
   },
   {
    "duration": 397,
    "start_time": "2023-01-06T23:49:09.539Z"
   },
   {
    "duration": 19,
    "start_time": "2023-01-06T23:49:09.937Z"
   },
   {
    "duration": 24,
    "start_time": "2023-01-06T23:49:09.958Z"
   },
   {
    "duration": 7,
    "start_time": "2023-01-06T23:49:09.984Z"
   },
   {
    "duration": 25,
    "start_time": "2023-01-06T23:49:09.992Z"
   },
   {
    "duration": 12,
    "start_time": "2023-01-06T23:49:10.019Z"
   },
   {
    "duration": 35,
    "start_time": "2023-01-06T23:49:10.033Z"
   },
   {
    "duration": 23,
    "start_time": "2023-01-06T23:52:41.570Z"
   },
   {
    "duration": 5,
    "start_time": "2023-01-06T23:52:54.857Z"
   },
   {
    "duration": 7,
    "start_time": "2023-01-06T23:53:03.089Z"
   },
   {
    "duration": 1281,
    "start_time": "2023-01-06T23:53:09.736Z"
   },
   {
    "duration": 1233,
    "start_time": "2023-01-06T23:53:11.019Z"
   },
   {
    "duration": 27,
    "start_time": "2023-01-06T23:53:12.256Z"
   },
   {
    "duration": 91,
    "start_time": "2023-01-06T23:53:12.285Z"
   },
   {
    "duration": 605,
    "start_time": "2023-01-06T23:53:12.377Z"
   },
   {
    "duration": 104,
    "start_time": "2023-01-06T23:53:12.984Z"
   },
   {
    "duration": 6,
    "start_time": "2023-01-06T23:53:13.090Z"
   },
   {
    "duration": 37,
    "start_time": "2023-01-06T23:53:13.097Z"
   },
   {
    "duration": 47,
    "start_time": "2023-01-06T23:53:13.137Z"
   },
   {
    "duration": 7,
    "start_time": "2023-01-06T23:53:13.186Z"
   },
   {
    "duration": 44,
    "start_time": "2023-01-06T23:53:13.195Z"
   },
   {
    "duration": 23,
    "start_time": "2023-01-06T23:53:13.241Z"
   },
   {
    "duration": 71,
    "start_time": "2023-01-06T23:53:13.266Z"
   },
   {
    "duration": 166,
    "start_time": "2023-01-06T23:53:13.339Z"
   },
   {
    "duration": 11,
    "start_time": "2023-01-06T23:53:13.507Z"
   },
   {
    "duration": 209,
    "start_time": "2023-01-06T23:53:13.520Z"
   },
   {
    "duration": 12,
    "start_time": "2023-01-06T23:53:13.731Z"
   },
   {
    "duration": 49,
    "start_time": "2023-01-06T23:53:13.745Z"
   },
   {
    "duration": 189,
    "start_time": "2023-01-06T23:53:13.795Z"
   },
   {
    "duration": 7,
    "start_time": "2023-01-06T23:53:13.986Z"
   },
   {
    "duration": 16,
    "start_time": "2023-01-06T23:53:13.994Z"
   },
   {
    "duration": 22,
    "start_time": "2023-01-06T23:53:14.012Z"
   },
   {
    "duration": 31,
    "start_time": "2023-01-06T23:53:14.036Z"
   },
   {
    "duration": 46,
    "start_time": "2023-01-06T23:53:14.068Z"
   },
   {
    "duration": 24,
    "start_time": "2023-01-06T23:53:14.116Z"
   },
   {
    "duration": 32,
    "start_time": "2023-01-06T23:53:14.142Z"
   },
   {
    "duration": 31,
    "start_time": "2023-01-06T23:53:14.177Z"
   },
   {
    "duration": 19,
    "start_time": "2023-01-06T23:53:14.211Z"
   },
   {
    "duration": 41,
    "start_time": "2023-01-06T23:53:14.232Z"
   },
   {
    "duration": 12,
    "start_time": "2023-01-06T23:53:14.275Z"
   },
   {
    "duration": 26,
    "start_time": "2023-01-06T23:53:14.288Z"
   },
   {
    "duration": 30,
    "start_time": "2023-01-06T23:53:14.315Z"
   },
   {
    "duration": 27,
    "start_time": "2023-01-06T23:53:14.347Z"
   },
   {
    "duration": 44,
    "start_time": "2023-01-06T23:53:14.376Z"
   },
   {
    "duration": 24,
    "start_time": "2023-01-06T23:53:14.422Z"
   },
   {
    "duration": 24,
    "start_time": "2023-01-06T23:53:14.448Z"
   },
   {
    "duration": 37,
    "start_time": "2023-01-06T23:53:14.473Z"
   },
   {
    "duration": 25,
    "start_time": "2023-01-06T23:53:14.512Z"
   },
   {
    "duration": 266,
    "start_time": "2023-01-06T23:53:14.539Z"
   },
   {
    "duration": 349,
    "start_time": "2023-01-06T23:53:14.807Z"
   },
   {
    "duration": 9,
    "start_time": "2023-01-06T23:53:15.157Z"
   },
   {
    "duration": 22,
    "start_time": "2023-01-06T23:53:15.168Z"
   },
   {
    "duration": 23,
    "start_time": "2023-01-06T23:53:15.191Z"
   },
   {
    "duration": 317,
    "start_time": "2023-01-06T23:53:15.215Z"
   },
   {
    "duration": 324,
    "start_time": "2023-01-06T23:53:15.534Z"
   },
   {
    "duration": 401,
    "start_time": "2023-01-06T23:53:15.859Z"
   },
   {
    "duration": 24,
    "start_time": "2023-01-06T23:53:16.262Z"
   },
   {
    "duration": 33,
    "start_time": "2023-01-06T23:53:16.289Z"
   },
   {
    "duration": 33,
    "start_time": "2023-01-06T23:53:16.325Z"
   },
   {
    "duration": 27,
    "start_time": "2023-01-06T23:53:16.360Z"
   },
   {
    "duration": 33,
    "start_time": "2023-01-06T23:53:16.389Z"
   },
   {
    "duration": 54,
    "start_time": "2023-01-06T23:53:16.424Z"
   },
   {
    "duration": 5,
    "start_time": "2023-01-06T23:53:26.496Z"
   },
   {
    "duration": 15,
    "start_time": "2023-01-06T23:53:42.252Z"
   },
   {
    "duration": 1333,
    "start_time": "2023-01-06T23:56:08.479Z"
   },
   {
    "duration": 1099,
    "start_time": "2023-01-06T23:56:09.814Z"
   },
   {
    "duration": 32,
    "start_time": "2023-01-06T23:56:10.914Z"
   },
   {
    "duration": 109,
    "start_time": "2023-01-06T23:56:10.948Z"
   },
   {
    "duration": 603,
    "start_time": "2023-01-06T23:56:11.059Z"
   },
   {
    "duration": 104,
    "start_time": "2023-01-06T23:56:11.664Z"
   },
   {
    "duration": 7,
    "start_time": "2023-01-06T23:56:11.769Z"
   },
   {
    "duration": 20,
    "start_time": "2023-01-06T23:56:11.777Z"
   },
   {
    "duration": 45,
    "start_time": "2023-01-06T23:56:11.798Z"
   },
   {
    "duration": 7,
    "start_time": "2023-01-06T23:56:11.846Z"
   },
   {
    "duration": 47,
    "start_time": "2023-01-06T23:56:11.854Z"
   },
   {
    "duration": 12,
    "start_time": "2023-01-06T23:56:11.903Z"
   },
   {
    "duration": 36,
    "start_time": "2023-01-06T23:56:11.917Z"
   },
   {
    "duration": 182,
    "start_time": "2023-01-06T23:56:11.955Z"
   },
   {
    "duration": 9,
    "start_time": "2023-01-06T23:56:12.139Z"
   },
   {
    "duration": 184,
    "start_time": "2023-01-06T23:56:12.150Z"
   },
   {
    "duration": 13,
    "start_time": "2023-01-06T23:56:12.335Z"
   },
   {
    "duration": 36,
    "start_time": "2023-01-06T23:56:12.349Z"
   },
   {
    "duration": 167,
    "start_time": "2023-01-06T23:56:12.386Z"
   },
   {
    "duration": 7,
    "start_time": "2023-01-06T23:56:12.555Z"
   },
   {
    "duration": 12,
    "start_time": "2023-01-06T23:56:12.563Z"
   },
   {
    "duration": 11,
    "start_time": "2023-01-06T23:56:12.576Z"
   },
   {
    "duration": 9,
    "start_time": "2023-01-06T23:56:12.588Z"
   },
   {
    "duration": 6,
    "start_time": "2023-01-06T23:56:12.612Z"
   },
   {
    "duration": 13,
    "start_time": "2023-01-06T23:56:12.619Z"
   },
   {
    "duration": 10,
    "start_time": "2023-01-06T23:56:12.633Z"
   },
   {
    "duration": 6,
    "start_time": "2023-01-06T23:56:12.644Z"
   },
   {
    "duration": 20,
    "start_time": "2023-01-06T23:56:12.653Z"
   },
   {
    "duration": 9,
    "start_time": "2023-01-06T23:56:12.675Z"
   },
   {
    "duration": 40,
    "start_time": "2023-01-06T23:56:12.685Z"
   },
   {
    "duration": 12,
    "start_time": "2023-01-06T23:56:12.727Z"
   },
   {
    "duration": 13,
    "start_time": "2023-01-06T23:56:12.741Z"
   },
   {
    "duration": 8,
    "start_time": "2023-01-06T23:56:12.756Z"
   },
   {
    "duration": 24,
    "start_time": "2023-01-06T23:56:12.765Z"
   },
   {
    "duration": 12,
    "start_time": "2023-01-06T23:56:12.791Z"
   },
   {
    "duration": 16,
    "start_time": "2023-01-06T23:56:12.805Z"
   },
   {
    "duration": 10,
    "start_time": "2023-01-06T23:56:12.823Z"
   },
   {
    "duration": 11,
    "start_time": "2023-01-06T23:56:12.834Z"
   },
   {
    "duration": 268,
    "start_time": "2023-01-06T23:56:12.847Z"
   },
   {
    "duration": 326,
    "start_time": "2023-01-06T23:56:13.118Z"
   },
   {
    "duration": 7,
    "start_time": "2023-01-06T23:56:13.446Z"
   },
   {
    "duration": 24,
    "start_time": "2023-01-06T23:56:13.455Z"
   },
   {
    "duration": 37,
    "start_time": "2023-01-06T23:56:13.480Z"
   },
   {
    "duration": 324,
    "start_time": "2023-01-06T23:56:13.519Z"
   },
   {
    "duration": 320,
    "start_time": "2023-01-06T23:56:13.845Z"
   },
   {
    "duration": 382,
    "start_time": "2023-01-06T23:56:14.167Z"
   },
   {
    "duration": 18,
    "start_time": "2023-01-06T23:56:14.551Z"
   },
   {
    "duration": 20,
    "start_time": "2023-01-06T23:56:14.570Z"
   },
   {
    "duration": 25,
    "start_time": "2023-01-06T23:56:14.591Z"
   },
   {
    "duration": 34,
    "start_time": "2023-01-06T23:56:14.617Z"
   },
   {
    "duration": 17,
    "start_time": "2023-01-06T23:56:14.653Z"
   },
   {
    "duration": 39,
    "start_time": "2023-01-06T23:56:14.672Z"
   },
   {
    "duration": 20,
    "start_time": "2023-01-06T23:56:19.608Z"
   },
   {
    "duration": 7,
    "start_time": "2023-01-06T23:56:28.350Z"
   },
   {
    "duration": 21,
    "start_time": "2023-01-06T23:56:33.433Z"
   },
   {
    "duration": 1197,
    "start_time": "2023-01-07T06:01:57.377Z"
   },
   {
    "duration": 849,
    "start_time": "2023-01-07T06:01:58.576Z"
   },
   {
    "duration": 24,
    "start_time": "2023-01-07T06:01:59.427Z"
   },
   {
    "duration": 126,
    "start_time": "2023-01-07T06:01:59.453Z"
   },
   {
    "duration": 650,
    "start_time": "2023-01-07T06:01:59.580Z"
   },
   {
    "duration": 98,
    "start_time": "2023-01-07T06:02:00.232Z"
   },
   {
    "duration": 5,
    "start_time": "2023-01-07T06:02:00.332Z"
   },
   {
    "duration": 45,
    "start_time": "2023-01-07T06:02:00.339Z"
   },
   {
    "duration": 54,
    "start_time": "2023-01-07T06:02:00.386Z"
   },
   {
    "duration": 8,
    "start_time": "2023-01-07T06:02:00.442Z"
   },
   {
    "duration": 67,
    "start_time": "2023-01-07T06:02:00.452Z"
   },
   {
    "duration": 8,
    "start_time": "2023-01-07T06:02:00.521Z"
   },
   {
    "duration": 53,
    "start_time": "2023-01-07T06:02:00.530Z"
   },
   {
    "duration": 168,
    "start_time": "2023-01-07T06:02:00.585Z"
   },
   {
    "duration": 9,
    "start_time": "2023-01-07T06:02:00.755Z"
   },
   {
    "duration": 191,
    "start_time": "2023-01-07T06:02:00.765Z"
   },
   {
    "duration": 16,
    "start_time": "2023-01-07T06:02:00.958Z"
   },
   {
    "duration": 53,
    "start_time": "2023-01-07T06:02:00.975Z"
   },
   {
    "duration": 170,
    "start_time": "2023-01-07T06:02:01.030Z"
   },
   {
    "duration": 19,
    "start_time": "2023-01-07T06:02:01.203Z"
   },
   {
    "duration": 27,
    "start_time": "2023-01-07T06:02:01.224Z"
   },
   {
    "duration": 27,
    "start_time": "2023-01-07T06:02:01.253Z"
   },
   {
    "duration": 33,
    "start_time": "2023-01-07T06:02:01.283Z"
   },
   {
    "duration": 57,
    "start_time": "2023-01-07T06:02:01.318Z"
   },
   {
    "duration": 60,
    "start_time": "2023-01-07T06:02:01.377Z"
   },
   {
    "duration": 24,
    "start_time": "2023-01-07T06:02:01.439Z"
   },
   {
    "duration": 57,
    "start_time": "2023-01-07T06:02:01.465Z"
   },
   {
    "duration": 18,
    "start_time": "2023-01-07T06:02:01.527Z"
   },
   {
    "duration": 53,
    "start_time": "2023-01-07T06:02:01.546Z"
   },
   {
    "duration": 24,
    "start_time": "2023-01-07T06:02:01.600Z"
   },
   {
    "duration": 41,
    "start_time": "2023-01-07T06:02:01.626Z"
   },
   {
    "duration": 25,
    "start_time": "2023-01-07T06:02:01.669Z"
   },
   {
    "duration": 40,
    "start_time": "2023-01-07T06:02:01.696Z"
   },
   {
    "duration": 28,
    "start_time": "2023-01-07T06:02:01.737Z"
   },
   {
    "duration": 33,
    "start_time": "2023-01-07T06:02:01.767Z"
   },
   {
    "duration": 37,
    "start_time": "2023-01-07T06:02:01.802Z"
   },
   {
    "duration": 23,
    "start_time": "2023-01-07T06:02:01.840Z"
   },
   {
    "duration": 256,
    "start_time": "2023-01-07T06:02:01.864Z"
   },
   {
    "duration": 328,
    "start_time": "2023-01-07T06:02:02.122Z"
   },
   {
    "duration": 8,
    "start_time": "2023-01-07T06:02:02.452Z"
   },
   {
    "duration": 15,
    "start_time": "2023-01-07T06:02:02.461Z"
   },
   {
    "duration": 19,
    "start_time": "2023-01-07T06:02:02.477Z"
   },
   {
    "duration": 375,
    "start_time": "2023-01-07T06:02:02.498Z"
   },
   {
    "duration": 306,
    "start_time": "2023-01-07T06:02:02.875Z"
   },
   {
    "duration": 371,
    "start_time": "2023-01-07T06:02:03.182Z"
   },
   {
    "duration": 18,
    "start_time": "2023-01-07T06:02:03.555Z"
   },
   {
    "duration": 29,
    "start_time": "2023-01-07T06:02:03.575Z"
   },
   {
    "duration": 27,
    "start_time": "2023-01-07T06:02:03.606Z"
   },
   {
    "duration": 32,
    "start_time": "2023-01-07T06:02:03.635Z"
   },
   {
    "duration": 21,
    "start_time": "2023-01-07T06:02:03.668Z"
   },
   {
    "duration": 24,
    "start_time": "2023-01-07T06:02:03.690Z"
   },
   {
    "duration": 1041,
    "start_time": "2023-01-07T06:41:50.120Z"
   },
   {
    "duration": 547,
    "start_time": "2023-01-07T06:41:51.163Z"
   },
   {
    "duration": 23,
    "start_time": "2023-01-07T06:41:51.712Z"
   },
   {
    "duration": 99,
    "start_time": "2023-01-07T06:41:51.737Z"
   },
   {
    "duration": 556,
    "start_time": "2023-01-07T06:41:51.838Z"
   },
   {
    "duration": 95,
    "start_time": "2023-01-07T06:41:52.395Z"
   },
   {
    "duration": 5,
    "start_time": "2023-01-07T06:41:52.492Z"
   },
   {
    "duration": 14,
    "start_time": "2023-01-07T06:41:52.498Z"
   },
   {
    "duration": 39,
    "start_time": "2023-01-07T06:41:52.521Z"
   },
   {
    "duration": 7,
    "start_time": "2023-01-07T06:41:52.562Z"
   },
   {
    "duration": 53,
    "start_time": "2023-01-07T06:41:52.571Z"
   },
   {
    "duration": 6,
    "start_time": "2023-01-07T06:41:52.625Z"
   },
   {
    "duration": 29,
    "start_time": "2023-01-07T06:41:52.632Z"
   },
   {
    "duration": 169,
    "start_time": "2023-01-07T06:41:52.662Z"
   },
   {
    "duration": 10,
    "start_time": "2023-01-07T06:41:52.833Z"
   },
   {
    "duration": 196,
    "start_time": "2023-01-07T06:41:52.844Z"
   },
   {
    "duration": 13,
    "start_time": "2023-01-07T06:41:53.042Z"
   },
   {
    "duration": 25,
    "start_time": "2023-01-07T06:41:53.057Z"
   },
   {
    "duration": 147,
    "start_time": "2023-01-07T06:41:53.083Z"
   },
   {
    "duration": 6,
    "start_time": "2023-01-07T06:41:53.232Z"
   },
   {
    "duration": 17,
    "start_time": "2023-01-07T06:41:53.239Z"
   },
   {
    "duration": 17,
    "start_time": "2023-01-07T06:41:53.258Z"
   },
   {
    "duration": 13,
    "start_time": "2023-01-07T06:41:53.277Z"
   },
   {
    "duration": 16,
    "start_time": "2023-01-07T06:41:53.292Z"
   },
   {
    "duration": 18,
    "start_time": "2023-01-07T06:41:53.310Z"
   },
   {
    "duration": 16,
    "start_time": "2023-01-07T06:41:53.330Z"
   },
   {
    "duration": 30,
    "start_time": "2023-01-07T06:41:53.348Z"
   },
   {
    "duration": 15,
    "start_time": "2023-01-07T06:41:53.382Z"
   },
   {
    "duration": 36,
    "start_time": "2023-01-07T06:41:53.399Z"
   },
   {
    "duration": 9,
    "start_time": "2023-01-07T06:41:53.436Z"
   },
   {
    "duration": 37,
    "start_time": "2023-01-07T06:41:53.446Z"
   },
   {
    "duration": 13,
    "start_time": "2023-01-07T06:41:53.485Z"
   },
   {
    "duration": 28,
    "start_time": "2023-01-07T06:41:53.499Z"
   },
   {
    "duration": 21,
    "start_time": "2023-01-07T06:41:53.529Z"
   },
   {
    "duration": 24,
    "start_time": "2023-01-07T06:41:53.552Z"
   },
   {
    "duration": 12,
    "start_time": "2023-01-07T06:41:53.578Z"
   },
   {
    "duration": 35,
    "start_time": "2023-01-07T06:41:53.591Z"
   },
   {
    "duration": 25,
    "start_time": "2023-01-07T06:41:53.627Z"
   },
   {
    "duration": 7,
    "start_time": "2023-01-07T06:41:53.653Z"
   },
   {
    "duration": 235,
    "start_time": "2023-01-07T06:41:53.661Z"
   },
   {
    "duration": 318,
    "start_time": "2023-01-07T06:41:53.897Z"
   },
   {
    "duration": 9,
    "start_time": "2023-01-07T06:41:54.217Z"
   },
   {
    "duration": 6,
    "start_time": "2023-01-07T06:41:54.227Z"
   },
   {
    "duration": 6,
    "start_time": "2023-01-07T06:41:54.235Z"
   },
   {
    "duration": 303,
    "start_time": "2023-01-07T06:41:54.242Z"
   },
   {
    "duration": 302,
    "start_time": "2023-01-07T06:41:54.547Z"
   },
   {
    "duration": 395,
    "start_time": "2023-01-07T06:41:54.850Z"
   },
   {
    "duration": 22,
    "start_time": "2023-01-07T06:41:55.247Z"
   },
   {
    "duration": 20,
    "start_time": "2023-01-07T06:41:55.271Z"
   },
   {
    "duration": 32,
    "start_time": "2023-01-07T06:41:55.293Z"
   },
   {
    "duration": 22,
    "start_time": "2023-01-07T06:41:55.327Z"
   },
   {
    "duration": 12,
    "start_time": "2023-01-07T06:41:55.351Z"
   },
   {
    "duration": 24,
    "start_time": "2023-01-07T06:41:55.365Z"
   },
   {
    "duration": 8,
    "start_time": "2023-01-07T06:45:12.881Z"
   },
   {
    "duration": 18,
    "start_time": "2023-01-07T06:46:26.871Z"
   },
   {
    "duration": 21,
    "start_time": "2023-01-07T06:46:43.648Z"
   },
   {
    "duration": 19,
    "start_time": "2023-01-07T06:47:04.033Z"
   },
   {
    "duration": 19,
    "start_time": "2023-01-07T06:47:12.198Z"
   },
   {
    "duration": 18,
    "start_time": "2023-01-07T06:48:42.590Z"
   },
   {
    "duration": 6,
    "start_time": "2023-01-07T06:50:39.619Z"
   },
   {
    "duration": 9,
    "start_time": "2023-01-07T06:52:46.056Z"
   },
   {
    "duration": 1027,
    "start_time": "2023-01-07T06:53:20.237Z"
   },
   {
    "duration": 551,
    "start_time": "2023-01-07T06:53:21.265Z"
   },
   {
    "duration": 25,
    "start_time": "2023-01-07T06:53:21.818Z"
   },
   {
    "duration": 101,
    "start_time": "2023-01-07T06:53:21.845Z"
   },
   {
    "duration": 573,
    "start_time": "2023-01-07T06:53:21.948Z"
   },
   {
    "duration": 99,
    "start_time": "2023-01-07T06:53:22.522Z"
   },
   {
    "duration": 6,
    "start_time": "2023-01-07T06:53:22.622Z"
   },
   {
    "duration": 16,
    "start_time": "2023-01-07T06:53:22.630Z"
   },
   {
    "duration": 41,
    "start_time": "2023-01-07T06:53:22.647Z"
   },
   {
    "duration": 7,
    "start_time": "2023-01-07T06:53:22.691Z"
   },
   {
    "duration": 49,
    "start_time": "2023-01-07T06:53:22.699Z"
   },
   {
    "duration": 5,
    "start_time": "2023-01-07T06:53:22.749Z"
   },
   {
    "duration": 30,
    "start_time": "2023-01-07T06:53:22.756Z"
   },
   {
    "duration": 184,
    "start_time": "2023-01-07T06:53:22.788Z"
   },
   {
    "duration": 8,
    "start_time": "2023-01-07T06:53:22.973Z"
   },
   {
    "duration": 194,
    "start_time": "2023-01-07T06:53:22.983Z"
   },
   {
    "duration": 11,
    "start_time": "2023-01-07T06:53:23.179Z"
   },
   {
    "duration": 32,
    "start_time": "2023-01-07T06:53:23.192Z"
   },
   {
    "duration": 136,
    "start_time": "2023-01-07T06:53:23.225Z"
   },
   {
    "duration": 6,
    "start_time": "2023-01-07T06:53:23.363Z"
   },
   {
    "duration": 11,
    "start_time": "2023-01-07T06:53:23.370Z"
   },
   {
    "duration": 6,
    "start_time": "2023-01-07T06:53:23.383Z"
   },
   {
    "duration": 6,
    "start_time": "2023-01-07T06:53:23.390Z"
   },
   {
    "duration": 27,
    "start_time": "2023-01-07T06:53:23.397Z"
   },
   {
    "duration": 4,
    "start_time": "2023-01-07T06:53:23.425Z"
   },
   {
    "duration": 13,
    "start_time": "2023-01-07T06:53:23.430Z"
   },
   {
    "duration": 18,
    "start_time": "2023-01-07T06:53:23.444Z"
   },
   {
    "duration": 9,
    "start_time": "2023-01-07T06:53:23.464Z"
   },
   {
    "duration": 22,
    "start_time": "2023-01-07T06:53:23.474Z"
   },
   {
    "duration": 30,
    "start_time": "2023-01-07T06:53:23.498Z"
   },
   {
    "duration": 21,
    "start_time": "2023-01-07T06:53:23.530Z"
   },
   {
    "duration": 23,
    "start_time": "2023-01-07T06:53:23.553Z"
   },
   {
    "duration": 5,
    "start_time": "2023-01-07T06:53:23.577Z"
   },
   {
    "duration": 14,
    "start_time": "2023-01-07T06:53:23.583Z"
   },
   {
    "duration": 7,
    "start_time": "2023-01-07T06:53:23.599Z"
   },
   {
    "duration": 33,
    "start_time": "2023-01-07T06:53:23.607Z"
   },
   {
    "duration": 28,
    "start_time": "2023-01-07T06:53:23.641Z"
   },
   {
    "duration": 12,
    "start_time": "2023-01-07T06:53:23.671Z"
   },
   {
    "duration": 18,
    "start_time": "2023-01-07T06:53:23.684Z"
   },
   {
    "duration": 17,
    "start_time": "2023-01-07T06:53:23.704Z"
   },
   {
    "duration": 6,
    "start_time": "2023-01-07T06:53:23.723Z"
   },
   {
    "duration": 245,
    "start_time": "2023-01-07T06:53:23.731Z"
   },
   {
    "duration": 316,
    "start_time": "2023-01-07T06:53:23.977Z"
   },
   {
    "duration": 8,
    "start_time": "2023-01-07T06:53:24.294Z"
   },
   {
    "duration": 18,
    "start_time": "2023-01-07T06:53:24.303Z"
   },
   {
    "duration": 6,
    "start_time": "2023-01-07T06:53:24.322Z"
   },
   {
    "duration": 303,
    "start_time": "2023-01-07T06:53:24.329Z"
   },
   {
    "duration": 308,
    "start_time": "2023-01-07T06:53:24.634Z"
   },
   {
    "duration": 411,
    "start_time": "2023-01-07T06:53:24.943Z"
   },
   {
    "duration": 25,
    "start_time": "2023-01-07T06:53:25.357Z"
   },
   {
    "duration": 37,
    "start_time": "2023-01-07T06:53:25.384Z"
   },
   {
    "duration": 8,
    "start_time": "2023-01-07T06:53:25.423Z"
   },
   {
    "duration": 14,
    "start_time": "2023-01-07T06:53:25.433Z"
   },
   {
    "duration": 7,
    "start_time": "2023-01-07T06:53:25.448Z"
   },
   {
    "duration": 17,
    "start_time": "2023-01-07T06:53:25.456Z"
   },
   {
    "duration": 10,
    "start_time": "2023-01-07T06:55:09.077Z"
   },
   {
    "duration": 6,
    "start_time": "2023-01-07T06:55:22.706Z"
   },
   {
    "duration": 5,
    "start_time": "2023-01-07T06:55:33.549Z"
   },
   {
    "duration": 4,
    "start_time": "2023-01-07T06:55:40.014Z"
   },
   {
    "duration": 9,
    "start_time": "2023-01-07T06:56:39.932Z"
   },
   {
    "duration": 11,
    "start_time": "2023-01-07T06:56:54.566Z"
   },
   {
    "duration": 10,
    "start_time": "2023-01-07T06:56:58.947Z"
   },
   {
    "duration": 9,
    "start_time": "2023-01-07T06:57:03.969Z"
   },
   {
    "duration": 1088,
    "start_time": "2023-01-07T06:57:12.592Z"
   },
   {
    "duration": 586,
    "start_time": "2023-01-07T06:57:13.682Z"
   },
   {
    "duration": 25,
    "start_time": "2023-01-07T06:57:14.270Z"
   },
   {
    "duration": 107,
    "start_time": "2023-01-07T06:57:14.296Z"
   },
   {
    "duration": 623,
    "start_time": "2023-01-07T06:57:14.404Z"
   },
   {
    "duration": 108,
    "start_time": "2023-01-07T06:57:15.029Z"
   },
   {
    "duration": 7,
    "start_time": "2023-01-07T06:57:15.139Z"
   },
   {
    "duration": 52,
    "start_time": "2023-01-07T06:57:15.148Z"
   },
   {
    "duration": 66,
    "start_time": "2023-01-07T06:57:15.202Z"
   },
   {
    "duration": 12,
    "start_time": "2023-01-07T06:57:15.272Z"
   },
   {
    "duration": 73,
    "start_time": "2023-01-07T06:57:15.286Z"
   },
   {
    "duration": 7,
    "start_time": "2023-01-07T06:57:15.361Z"
   },
   {
    "duration": 58,
    "start_time": "2023-01-07T06:57:15.370Z"
   },
   {
    "duration": 170,
    "start_time": "2023-01-07T06:57:15.429Z"
   },
   {
    "duration": 12,
    "start_time": "2023-01-07T06:57:15.601Z"
   },
   {
    "duration": 195,
    "start_time": "2023-01-07T06:57:15.621Z"
   },
   {
    "duration": 16,
    "start_time": "2023-01-07T06:57:15.818Z"
   },
   {
    "duration": 30,
    "start_time": "2023-01-07T06:57:15.836Z"
   },
   {
    "duration": 160,
    "start_time": "2023-01-07T06:57:15.868Z"
   },
   {
    "duration": 9,
    "start_time": "2023-01-07T06:57:16.030Z"
   },
   {
    "duration": 32,
    "start_time": "2023-01-07T06:57:16.041Z"
   },
   {
    "duration": 33,
    "start_time": "2023-01-07T06:57:16.074Z"
   },
   {
    "duration": 21,
    "start_time": "2023-01-07T06:57:16.109Z"
   },
   {
    "duration": 22,
    "start_time": "2023-01-07T06:57:16.131Z"
   },
   {
    "duration": 23,
    "start_time": "2023-01-07T06:57:16.155Z"
   },
   {
    "duration": 10,
    "start_time": "2023-01-07T06:57:16.180Z"
   },
   {
    "duration": 35,
    "start_time": "2023-01-07T06:57:16.191Z"
   },
   {
    "duration": 10,
    "start_time": "2023-01-07T06:57:16.230Z"
   },
   {
    "duration": 29,
    "start_time": "2023-01-07T06:57:16.242Z"
   },
   {
    "duration": 16,
    "start_time": "2023-01-07T06:57:16.273Z"
   },
   {
    "duration": 26,
    "start_time": "2023-01-07T06:57:16.290Z"
   },
   {
    "duration": 15,
    "start_time": "2023-01-07T06:57:16.322Z"
   },
   {
    "duration": 35,
    "start_time": "2023-01-07T06:57:16.339Z"
   },
   {
    "duration": 32,
    "start_time": "2023-01-07T06:57:16.375Z"
   },
   {
    "duration": 27,
    "start_time": "2023-01-07T06:57:16.409Z"
   },
   {
    "duration": 30,
    "start_time": "2023-01-07T06:57:16.438Z"
   },
   {
    "duration": 10,
    "start_time": "2023-01-07T06:57:16.470Z"
   },
   {
    "duration": 29,
    "start_time": "2023-01-07T06:57:16.482Z"
   },
   {
    "duration": 20,
    "start_time": "2023-01-07T06:57:16.513Z"
   },
   {
    "duration": 20,
    "start_time": "2023-01-07T06:57:16.534Z"
   },
   {
    "duration": 301,
    "start_time": "2023-01-07T06:57:16.556Z"
   },
   {
    "duration": 349,
    "start_time": "2023-01-07T06:57:16.858Z"
   },
   {
    "duration": 14,
    "start_time": "2023-01-07T06:57:17.208Z"
   },
   {
    "duration": 7,
    "start_time": "2023-01-07T06:57:17.224Z"
   },
   {
    "duration": 24,
    "start_time": "2023-01-07T06:57:17.232Z"
   },
   {
    "duration": 317,
    "start_time": "2023-01-07T06:57:17.258Z"
   },
   {
    "duration": 335,
    "start_time": "2023-01-07T06:57:17.576Z"
   },
   {
    "duration": 401,
    "start_time": "2023-01-07T06:57:17.912Z"
   },
   {
    "duration": 22,
    "start_time": "2023-01-07T06:57:18.314Z"
   },
   {
    "duration": 17,
    "start_time": "2023-01-07T06:57:18.338Z"
   },
   {
    "duration": 7,
    "start_time": "2023-01-07T06:57:18.357Z"
   },
   {
    "duration": 22,
    "start_time": "2023-01-07T06:57:18.366Z"
   },
   {
    "duration": 8,
    "start_time": "2023-01-07T06:57:18.391Z"
   },
   {
    "duration": 31,
    "start_time": "2023-01-07T06:57:18.400Z"
   },
   {
    "duration": 9,
    "start_time": "2023-01-07T06:57:48.736Z"
   },
   {
    "duration": 1033,
    "start_time": "2023-01-07T06:58:27.130Z"
   },
   {
    "duration": 547,
    "start_time": "2023-01-07T06:58:28.165Z"
   },
   {
    "duration": 25,
    "start_time": "2023-01-07T06:58:28.714Z"
   },
   {
    "duration": 106,
    "start_time": "2023-01-07T06:58:28.741Z"
   },
   {
    "duration": 552,
    "start_time": "2023-01-07T06:58:28.848Z"
   },
   {
    "duration": 98,
    "start_time": "2023-01-07T06:58:29.401Z"
   },
   {
    "duration": 6,
    "start_time": "2023-01-07T06:58:29.500Z"
   },
   {
    "duration": 21,
    "start_time": "2023-01-07T06:58:29.507Z"
   },
   {
    "duration": 39,
    "start_time": "2023-01-07T06:58:29.530Z"
   },
   {
    "duration": 7,
    "start_time": "2023-01-07T06:58:29.571Z"
   },
   {
    "duration": 54,
    "start_time": "2023-01-07T06:58:29.579Z"
   },
   {
    "duration": 6,
    "start_time": "2023-01-07T06:58:29.635Z"
   },
   {
    "duration": 27,
    "start_time": "2023-01-07T06:58:29.642Z"
   },
   {
    "duration": 174,
    "start_time": "2023-01-07T06:58:29.671Z"
   },
   {
    "duration": 10,
    "start_time": "2023-01-07T06:58:29.847Z"
   },
   {
    "duration": 195,
    "start_time": "2023-01-07T06:58:29.858Z"
   },
   {
    "duration": 13,
    "start_time": "2023-01-07T06:58:30.055Z"
   },
   {
    "duration": 40,
    "start_time": "2023-01-07T06:58:30.070Z"
   },
   {
    "duration": 155,
    "start_time": "2023-01-07T06:58:30.112Z"
   },
   {
    "duration": 7,
    "start_time": "2023-01-07T06:58:30.269Z"
   },
   {
    "duration": 39,
    "start_time": "2023-01-07T06:58:30.278Z"
   },
   {
    "duration": 42,
    "start_time": "2023-01-07T06:58:30.318Z"
   },
   {
    "duration": 20,
    "start_time": "2023-01-07T06:58:30.361Z"
   },
   {
    "duration": 23,
    "start_time": "2023-01-07T06:58:30.383Z"
   },
   {
    "duration": 50,
    "start_time": "2023-01-07T06:58:30.407Z"
   },
   {
    "duration": 25,
    "start_time": "2023-01-07T06:58:30.459Z"
   },
   {
    "duration": 36,
    "start_time": "2023-01-07T06:58:30.486Z"
   },
   {
    "duration": 33,
    "start_time": "2023-01-07T06:58:30.526Z"
   },
   {
    "duration": 58,
    "start_time": "2023-01-07T06:58:30.561Z"
   },
   {
    "duration": 22,
    "start_time": "2023-01-07T06:58:30.621Z"
   },
   {
    "duration": 44,
    "start_time": "2023-01-07T06:58:30.645Z"
   },
   {
    "duration": 28,
    "start_time": "2023-01-07T06:58:30.690Z"
   },
   {
    "duration": 50,
    "start_time": "2023-01-07T06:58:30.719Z"
   },
   {
    "duration": 33,
    "start_time": "2023-01-07T06:58:30.771Z"
   },
   {
    "duration": 33,
    "start_time": "2023-01-07T06:58:30.805Z"
   },
   {
    "duration": 90,
    "start_time": "2023-01-07T06:58:30.840Z"
   },
   {
    "duration": 49,
    "start_time": "2023-01-07T06:58:30.932Z"
   },
   {
    "duration": 58,
    "start_time": "2023-01-07T06:58:30.983Z"
   },
   {
    "duration": 17,
    "start_time": "2023-01-07T06:58:31.043Z"
   },
   {
    "duration": 21,
    "start_time": "2023-01-07T06:58:31.062Z"
   },
   {
    "duration": 263,
    "start_time": "2023-01-07T06:58:31.085Z"
   },
   {
    "duration": 340,
    "start_time": "2023-01-07T06:58:31.349Z"
   },
   {
    "duration": 8,
    "start_time": "2023-01-07T06:58:31.690Z"
   },
   {
    "duration": 8,
    "start_time": "2023-01-07T06:58:31.699Z"
   },
   {
    "duration": 15,
    "start_time": "2023-01-07T06:58:31.709Z"
   },
   {
    "duration": 304,
    "start_time": "2023-01-07T06:58:31.725Z"
   },
   {
    "duration": 305,
    "start_time": "2023-01-07T06:58:32.031Z"
   },
   {
    "duration": 373,
    "start_time": "2023-01-07T06:58:32.337Z"
   },
   {
    "duration": 23,
    "start_time": "2023-01-07T06:58:32.712Z"
   },
   {
    "duration": 14,
    "start_time": "2023-01-07T06:58:32.737Z"
   },
   {
    "duration": 6,
    "start_time": "2023-01-07T06:58:32.753Z"
   },
   {
    "duration": 15,
    "start_time": "2023-01-07T06:58:32.760Z"
   },
   {
    "duration": 8,
    "start_time": "2023-01-07T06:58:32.777Z"
   },
   {
    "duration": 41,
    "start_time": "2023-01-07T06:58:32.787Z"
   },
   {
    "duration": 1083,
    "start_time": "2023-01-07T07:02:24.198Z"
   },
   {
    "duration": 574,
    "start_time": "2023-01-07T07:02:25.283Z"
   },
   {
    "duration": 25,
    "start_time": "2023-01-07T07:02:25.859Z"
   },
   {
    "duration": 103,
    "start_time": "2023-01-07T07:02:25.885Z"
   },
   {
    "duration": 554,
    "start_time": "2023-01-07T07:02:25.990Z"
   },
   {
    "duration": 109,
    "start_time": "2023-01-07T07:02:26.546Z"
   },
   {
    "duration": 5,
    "start_time": "2023-01-07T07:02:26.657Z"
   },
   {
    "duration": 14,
    "start_time": "2023-01-07T07:02:26.664Z"
   },
   {
    "duration": 52,
    "start_time": "2023-01-07T07:02:26.679Z"
   },
   {
    "duration": 7,
    "start_time": "2023-01-07T07:02:26.735Z"
   },
   {
    "duration": 35,
    "start_time": "2023-01-07T07:02:26.744Z"
   },
   {
    "duration": 5,
    "start_time": "2023-01-07T07:02:26.781Z"
   },
   {
    "duration": 49,
    "start_time": "2023-01-07T07:02:26.788Z"
   },
   {
    "duration": 160,
    "start_time": "2023-01-07T07:02:26.839Z"
   },
   {
    "duration": 20,
    "start_time": "2023-01-07T07:02:27.001Z"
   },
   {
    "duration": 179,
    "start_time": "2023-01-07T07:02:27.022Z"
   },
   {
    "duration": 22,
    "start_time": "2023-01-07T07:02:27.202Z"
   },
   {
    "duration": 22,
    "start_time": "2023-01-07T07:02:27.226Z"
   },
   {
    "duration": 160,
    "start_time": "2023-01-07T07:02:27.250Z"
   },
   {
    "duration": 10,
    "start_time": "2023-01-07T07:02:27.411Z"
   },
   {
    "duration": 9,
    "start_time": "2023-01-07T07:02:27.423Z"
   },
   {
    "duration": 5,
    "start_time": "2023-01-07T07:02:27.434Z"
   },
   {
    "duration": 6,
    "start_time": "2023-01-07T07:02:27.440Z"
   },
   {
    "duration": 7,
    "start_time": "2023-01-07T07:02:27.447Z"
   },
   {
    "duration": 11,
    "start_time": "2023-01-07T07:02:27.456Z"
   },
   {
    "duration": 11,
    "start_time": "2023-01-07T07:02:27.468Z"
   },
   {
    "duration": 23,
    "start_time": "2023-01-07T07:02:27.481Z"
   },
   {
    "duration": 9,
    "start_time": "2023-01-07T07:02:27.520Z"
   },
   {
    "duration": 21,
    "start_time": "2023-01-07T07:02:27.531Z"
   },
   {
    "duration": 9,
    "start_time": "2023-01-07T07:02:27.553Z"
   },
   {
    "duration": 19,
    "start_time": "2023-01-07T07:02:27.563Z"
   },
   {
    "duration": 5,
    "start_time": "2023-01-07T07:02:27.583Z"
   },
   {
    "duration": 39,
    "start_time": "2023-01-07T07:02:27.589Z"
   },
   {
    "duration": 8,
    "start_time": "2023-01-07T07:02:27.629Z"
   },
   {
    "duration": 11,
    "start_time": "2023-01-07T07:02:27.638Z"
   },
   {
    "duration": 16,
    "start_time": "2023-01-07T07:02:27.650Z"
   },
   {
    "duration": 7,
    "start_time": "2023-01-07T07:02:27.667Z"
   },
   {
    "duration": 12,
    "start_time": "2023-01-07T07:02:27.675Z"
   },
   {
    "duration": 34,
    "start_time": "2023-01-07T07:02:27.688Z"
   },
   {
    "duration": 5,
    "start_time": "2023-01-07T07:02:27.723Z"
   },
   {
    "duration": 247,
    "start_time": "2023-01-07T07:02:27.730Z"
   },
   {
    "duration": 313,
    "start_time": "2023-01-07T07:02:27.979Z"
   },
   {
    "duration": 8,
    "start_time": "2023-01-07T07:02:28.293Z"
   },
   {
    "duration": 20,
    "start_time": "2023-01-07T07:02:28.302Z"
   },
   {
    "duration": 4,
    "start_time": "2023-01-07T07:02:28.324Z"
   },
   {
    "duration": 307,
    "start_time": "2023-01-07T07:02:28.329Z"
   },
   {
    "duration": 313,
    "start_time": "2023-01-07T07:02:28.638Z"
   },
   {
    "duration": 375,
    "start_time": "2023-01-07T07:02:28.953Z"
   },
   {
    "duration": 19,
    "start_time": "2023-01-07T07:02:29.330Z"
   },
   {
    "duration": 14,
    "start_time": "2023-01-07T07:02:29.350Z"
   },
   {
    "duration": 7,
    "start_time": "2023-01-07T07:02:29.366Z"
   },
   {
    "duration": 14,
    "start_time": "2023-01-07T07:02:29.375Z"
   },
   {
    "duration": 10,
    "start_time": "2023-01-07T07:02:29.390Z"
   },
   {
    "duration": 27,
    "start_time": "2023-01-07T07:02:29.401Z"
   },
   {
    "duration": 1034,
    "start_time": "2023-01-07T07:08:19.487Z"
   },
   {
    "duration": 587,
    "start_time": "2023-01-07T07:08:20.523Z"
   },
   {
    "duration": 27,
    "start_time": "2023-01-07T07:08:21.112Z"
   },
   {
    "duration": 108,
    "start_time": "2023-01-07T07:08:21.141Z"
   },
   {
    "duration": 612,
    "start_time": "2023-01-07T07:08:21.250Z"
   },
   {
    "duration": 105,
    "start_time": "2023-01-07T07:08:21.864Z"
   },
   {
    "duration": 5,
    "start_time": "2023-01-07T07:08:21.971Z"
   },
   {
    "duration": 15,
    "start_time": "2023-01-07T07:08:21.978Z"
   },
   {
    "duration": 54,
    "start_time": "2023-01-07T07:08:21.995Z"
   },
   {
    "duration": 9,
    "start_time": "2023-01-07T07:08:22.053Z"
   },
   {
    "duration": 36,
    "start_time": "2023-01-07T07:08:22.064Z"
   },
   {
    "duration": 24,
    "start_time": "2023-01-07T07:08:22.101Z"
   },
   {
    "duration": 28,
    "start_time": "2023-01-07T07:08:22.127Z"
   },
   {
    "duration": 171,
    "start_time": "2023-01-07T07:08:22.157Z"
   },
   {
    "duration": 9,
    "start_time": "2023-01-07T07:08:22.330Z"
   },
   {
    "duration": 192,
    "start_time": "2023-01-07T07:08:22.340Z"
   },
   {
    "duration": 12,
    "start_time": "2023-01-07T07:08:22.533Z"
   },
   {
    "duration": 23,
    "start_time": "2023-01-07T07:08:22.546Z"
   },
   {
    "duration": 157,
    "start_time": "2023-01-07T07:08:22.571Z"
   },
   {
    "duration": 7,
    "start_time": "2023-01-07T07:08:22.730Z"
   },
   {
    "duration": 8,
    "start_time": "2023-01-07T07:08:22.739Z"
   },
   {
    "duration": 8,
    "start_time": "2023-01-07T07:08:22.748Z"
   },
   {
    "duration": 6,
    "start_time": "2023-01-07T07:08:22.757Z"
   },
   {
    "duration": 9,
    "start_time": "2023-01-07T07:08:22.764Z"
   },
   {
    "duration": 9,
    "start_time": "2023-01-07T07:08:22.774Z"
   },
   {
    "duration": 11,
    "start_time": "2023-01-07T07:08:22.785Z"
   },
   {
    "duration": 18,
    "start_time": "2023-01-07T07:08:22.822Z"
   },
   {
    "duration": 8,
    "start_time": "2023-01-07T07:08:22.843Z"
   },
   {
    "duration": 29,
    "start_time": "2023-01-07T07:08:22.853Z"
   },
   {
    "duration": 10,
    "start_time": "2023-01-07T07:08:22.884Z"
   },
   {
    "duration": 36,
    "start_time": "2023-01-07T07:08:22.896Z"
   },
   {
    "duration": 5,
    "start_time": "2023-01-07T07:08:22.933Z"
   },
   {
    "duration": 13,
    "start_time": "2023-01-07T07:08:22.939Z"
   },
   {
    "duration": 7,
    "start_time": "2023-01-07T07:08:22.953Z"
   },
   {
    "duration": 13,
    "start_time": "2023-01-07T07:08:22.961Z"
   },
   {
    "duration": 15,
    "start_time": "2023-01-07T07:08:22.976Z"
   },
   {
    "duration": 32,
    "start_time": "2023-01-07T07:08:22.992Z"
   },
   {
    "duration": 11,
    "start_time": "2023-01-07T07:08:23.025Z"
   },
   {
    "duration": 13,
    "start_time": "2023-01-07T07:08:23.038Z"
   },
   {
    "duration": 6,
    "start_time": "2023-01-07T07:08:23.052Z"
   },
   {
    "duration": 255,
    "start_time": "2023-01-07T07:08:23.060Z"
   },
   {
    "duration": 319,
    "start_time": "2023-01-07T07:08:23.320Z"
   },
   {
    "duration": 8,
    "start_time": "2023-01-07T07:08:23.640Z"
   },
   {
    "duration": 9,
    "start_time": "2023-01-07T07:08:23.649Z"
   },
   {
    "duration": 9,
    "start_time": "2023-01-07T07:08:23.659Z"
   },
   {
    "duration": 312,
    "start_time": "2023-01-07T07:08:23.670Z"
   },
   {
    "duration": 310,
    "start_time": "2023-01-07T07:08:23.984Z"
   },
   {
    "duration": 378,
    "start_time": "2023-01-07T07:08:24.296Z"
   },
   {
    "duration": 19,
    "start_time": "2023-01-07T07:08:24.676Z"
   },
   {
    "duration": 30,
    "start_time": "2023-01-07T07:08:24.697Z"
   },
   {
    "duration": 8,
    "start_time": "2023-01-07T07:08:24.729Z"
   },
   {
    "duration": 20,
    "start_time": "2023-01-07T07:08:24.738Z"
   },
   {
    "duration": 16,
    "start_time": "2023-01-07T07:08:24.760Z"
   },
   {
    "duration": 17,
    "start_time": "2023-01-07T07:08:24.778Z"
   },
   {
    "duration": 1137,
    "start_time": "2023-01-07T07:11:06.211Z"
   },
   {
    "duration": 596,
    "start_time": "2023-01-07T07:11:07.350Z"
   },
   {
    "duration": 27,
    "start_time": "2023-01-07T07:11:07.947Z"
   },
   {
    "duration": 121,
    "start_time": "2023-01-07T07:11:07.976Z"
   },
   {
    "duration": 632,
    "start_time": "2023-01-07T07:11:08.099Z"
   },
   {
    "duration": 104,
    "start_time": "2023-01-07T07:11:08.733Z"
   },
   {
    "duration": 6,
    "start_time": "2023-01-07T07:11:08.838Z"
   },
   {
    "duration": 14,
    "start_time": "2023-01-07T07:11:08.846Z"
   },
   {
    "duration": 61,
    "start_time": "2023-01-07T07:11:08.861Z"
   },
   {
    "duration": 9,
    "start_time": "2023-01-07T07:11:08.924Z"
   },
   {
    "duration": 47,
    "start_time": "2023-01-07T07:11:08.934Z"
   },
   {
    "duration": 6,
    "start_time": "2023-01-07T07:11:08.982Z"
   },
   {
    "duration": 52,
    "start_time": "2023-01-07T07:11:08.990Z"
   },
   {
    "duration": 183,
    "start_time": "2023-01-07T07:11:09.044Z"
   },
   {
    "duration": 11,
    "start_time": "2023-01-07T07:11:09.228Z"
   },
   {
    "duration": 195,
    "start_time": "2023-01-07T07:11:09.241Z"
   },
   {
    "duration": 12,
    "start_time": "2023-01-07T07:11:09.438Z"
   },
   {
    "duration": 24,
    "start_time": "2023-01-07T07:11:09.451Z"
   },
   {
    "duration": 178,
    "start_time": "2023-01-07T07:11:09.477Z"
   },
   {
    "duration": 7,
    "start_time": "2023-01-07T07:11:09.656Z"
   },
   {
    "duration": 16,
    "start_time": "2023-01-07T07:11:09.665Z"
   },
   {
    "duration": 6,
    "start_time": "2023-01-07T07:11:09.683Z"
   },
   {
    "duration": 11,
    "start_time": "2023-01-07T07:11:09.690Z"
   },
   {
    "duration": 21,
    "start_time": "2023-01-07T07:11:09.703Z"
   },
   {
    "duration": 4,
    "start_time": "2023-01-07T07:11:09.726Z"
   },
   {
    "duration": 7,
    "start_time": "2023-01-07T07:11:09.732Z"
   },
   {
    "duration": 21,
    "start_time": "2023-01-07T07:11:09.741Z"
   },
   {
    "duration": 10,
    "start_time": "2023-01-07T07:11:09.765Z"
   },
   {
    "duration": 52,
    "start_time": "2023-01-07T07:11:09.777Z"
   },
   {
    "duration": 9,
    "start_time": "2023-01-07T07:11:09.831Z"
   },
   {
    "duration": 39,
    "start_time": "2023-01-07T07:11:09.842Z"
   },
   {
    "duration": 5,
    "start_time": "2023-01-07T07:11:09.883Z"
   },
   {
    "duration": 13,
    "start_time": "2023-01-07T07:11:09.890Z"
   },
   {
    "duration": 16,
    "start_time": "2023-01-07T07:11:09.905Z"
   },
   {
    "duration": 18,
    "start_time": "2023-01-07T07:11:09.923Z"
   },
   {
    "duration": 35,
    "start_time": "2023-01-07T07:11:09.943Z"
   },
   {
    "duration": 9,
    "start_time": "2023-01-07T07:11:09.980Z"
   },
   {
    "duration": 18,
    "start_time": "2023-01-07T07:11:09.990Z"
   },
   {
    "duration": 9,
    "start_time": "2023-01-07T07:11:10.010Z"
   },
   {
    "duration": 6,
    "start_time": "2023-01-07T07:11:10.021Z"
   },
   {
    "duration": 253,
    "start_time": "2023-01-07T07:11:10.029Z"
   },
   {
    "duration": 337,
    "start_time": "2023-01-07T07:11:10.284Z"
   },
   {
    "duration": 10,
    "start_time": "2023-01-07T07:11:10.622Z"
   },
   {
    "duration": 8,
    "start_time": "2023-01-07T07:11:10.633Z"
   },
   {
    "duration": 15,
    "start_time": "2023-01-07T07:11:10.643Z"
   },
   {
    "duration": 329,
    "start_time": "2023-01-07T07:11:10.660Z"
   },
   {
    "duration": 316,
    "start_time": "2023-01-07T07:11:10.992Z"
   },
   {
    "duration": 401,
    "start_time": "2023-01-07T07:11:11.310Z"
   },
   {
    "duration": 21,
    "start_time": "2023-01-07T07:11:11.713Z"
   },
   {
    "duration": 18,
    "start_time": "2023-01-07T07:11:11.735Z"
   },
   {
    "duration": 7,
    "start_time": "2023-01-07T07:11:11.755Z"
   },
   {
    "duration": 12,
    "start_time": "2023-01-07T07:11:11.763Z"
   },
   {
    "duration": 12,
    "start_time": "2023-01-07T07:11:11.777Z"
   },
   {
    "duration": 38,
    "start_time": "2023-01-07T07:11:11.790Z"
   },
   {
    "duration": 1129,
    "start_time": "2023-01-07T12:44:43.529Z"
   },
   {
    "duration": 1086,
    "start_time": "2023-01-07T12:44:44.660Z"
   },
   {
    "duration": 25,
    "start_time": "2023-01-07T12:44:45.750Z"
   },
   {
    "duration": 99,
    "start_time": "2023-01-07T12:44:45.776Z"
   },
   {
    "duration": 757,
    "start_time": "2023-01-07T12:44:45.877Z"
   },
   {
    "duration": 139,
    "start_time": "2023-01-07T12:44:46.636Z"
   },
   {
    "duration": 7,
    "start_time": "2023-01-07T12:44:46.777Z"
   },
   {
    "duration": 33,
    "start_time": "2023-01-07T12:44:46.785Z"
   },
   {
    "duration": 54,
    "start_time": "2023-01-07T12:44:46.825Z"
   },
   {
    "duration": 8,
    "start_time": "2023-01-07T12:44:46.880Z"
   },
   {
    "duration": 49,
    "start_time": "2023-01-07T12:44:46.889Z"
   },
   {
    "duration": 6,
    "start_time": "2023-01-07T12:44:46.939Z"
   },
   {
    "duration": 29,
    "start_time": "2023-01-07T12:44:46.946Z"
   },
   {
    "duration": 197,
    "start_time": "2023-01-07T12:44:46.977Z"
   },
   {
    "duration": 10,
    "start_time": "2023-01-07T12:44:47.176Z"
   },
   {
    "duration": 204,
    "start_time": "2023-01-07T12:44:47.196Z"
   },
   {
    "duration": 21,
    "start_time": "2023-01-07T12:44:47.401Z"
   },
   {
    "duration": 25,
    "start_time": "2023-01-07T12:44:47.424Z"
   },
   {
    "duration": 179,
    "start_time": "2023-01-07T12:44:47.451Z"
   },
   {
    "duration": 7,
    "start_time": "2023-01-07T12:44:47.632Z"
   },
   {
    "duration": 11,
    "start_time": "2023-01-07T12:44:47.640Z"
   },
   {
    "duration": 6,
    "start_time": "2023-01-07T12:44:47.653Z"
   },
   {
    "duration": 5,
    "start_time": "2023-01-07T12:44:47.661Z"
   },
   {
    "duration": 43,
    "start_time": "2023-01-07T12:44:47.667Z"
   },
   {
    "duration": 19,
    "start_time": "2023-01-07T12:44:47.717Z"
   },
   {
    "duration": 9,
    "start_time": "2023-01-07T12:44:47.738Z"
   },
   {
    "duration": 18,
    "start_time": "2023-01-07T12:44:47.751Z"
   },
   {
    "duration": 9,
    "start_time": "2023-01-07T12:44:47.771Z"
   },
   {
    "duration": 30,
    "start_time": "2023-01-07T12:44:47.781Z"
   },
   {
    "duration": 12,
    "start_time": "2023-01-07T12:44:47.821Z"
   },
   {
    "duration": 20,
    "start_time": "2023-01-07T12:44:47.834Z"
   },
   {
    "duration": 4,
    "start_time": "2023-01-07T12:44:47.856Z"
   },
   {
    "duration": 15,
    "start_time": "2023-01-07T12:44:47.862Z"
   },
   {
    "duration": 26,
    "start_time": "2023-01-07T12:44:47.879Z"
   },
   {
    "duration": 30,
    "start_time": "2023-01-07T12:44:47.906Z"
   },
   {
    "duration": 18,
    "start_time": "2023-01-07T12:44:47.938Z"
   },
   {
    "duration": 8,
    "start_time": "2023-01-07T12:44:47.957Z"
   },
   {
    "duration": 14,
    "start_time": "2023-01-07T12:44:47.967Z"
   },
   {
    "duration": 8,
    "start_time": "2023-01-07T12:44:47.982Z"
   },
   {
    "duration": 9,
    "start_time": "2023-01-07T12:44:47.991Z"
   },
   {
    "duration": 322,
    "start_time": "2023-01-07T12:44:48.001Z"
   },
   {
    "duration": 357,
    "start_time": "2023-01-07T12:44:48.325Z"
   },
   {
    "duration": 22,
    "start_time": "2023-01-07T12:44:48.683Z"
   },
   {
    "duration": 9,
    "start_time": "2023-01-07T12:44:48.706Z"
   },
   {
    "duration": 21,
    "start_time": "2023-01-07T12:44:48.717Z"
   },
   {
    "duration": 348,
    "start_time": "2023-01-07T12:44:48.740Z"
   },
   {
    "duration": 392,
    "start_time": "2023-01-07T12:44:49.104Z"
   },
   {
    "duration": 425,
    "start_time": "2023-01-07T12:44:49.498Z"
   },
   {
    "duration": 20,
    "start_time": "2023-01-07T12:44:49.925Z"
   },
   {
    "duration": 20,
    "start_time": "2023-01-07T12:44:49.946Z"
   },
   {
    "duration": 8,
    "start_time": "2023-01-07T12:44:49.968Z"
   },
   {
    "duration": 28,
    "start_time": "2023-01-07T12:44:49.977Z"
   },
   {
    "duration": 15,
    "start_time": "2023-01-07T12:44:50.006Z"
   },
   {
    "duration": 16,
    "start_time": "2023-01-07T12:44:50.023Z"
   }
  ],
  "kernelspec": {
   "display_name": "Python 3 (ipykernel)",
   "language": "python",
   "name": "python3"
  },
  "language_info": {
   "codemirror_mode": {
    "name": "ipython",
    "version": 3
   },
   "file_extension": ".py",
   "mimetype": "text/x-python",
   "name": "python",
   "nbconvert_exporter": "python",
   "pygments_lexer": "ipython3",
   "version": "3.10.9"
  },
  "toc": {
   "base_numbering": 1,
   "nav_menu": {},
   "number_sections": true,
   "sideBar": true,
   "skip_h1_title": true,
   "title_cell": "Оглавление",
   "title_sidebar": "Оглавление",
   "toc_cell": true,
   "toc_position": {
    "height": "551.85px",
    "left": "27px",
    "top": "110.783px",
    "width": "294.05px"
   },
   "toc_section_display": true,
   "toc_window_display": true
  }
 },
 "nbformat": 4,
 "nbformat_minor": 2
}
