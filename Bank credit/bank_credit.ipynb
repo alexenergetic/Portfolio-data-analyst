{
 "cells": [
  {
   "cell_type": "markdown",
   "id": "c81daeeb",
   "metadata": {
    "deletable": false,
    "editable": false,
    "id": "c81daeeb"
   },
   "source": [
    "# Исследование надежности заемщиков\n"
   ]
  },
  {
   "cell_type": "markdown",
   "id": "88dcc81f",
   "metadata": {},
   "source": [
    "**Описание проекта**\n",
    "\n",
    "Заказчик — кредитный отдел банка. Нужно разобраться, влияет ли семейное положение и количество детей клиента на факт погашения кредита в срок. Входные данные от банка — статистика о платёжеспособности клиентов.\n",
    "Результаты исследования будут учтены при построении модели кредитного скоринга — специальной системы, которая оценивает способность потенциального заёмщика вернуть кредит банку.\n",
    "Описание данных\n",
    "\n",
    "- `children` — количество детей в семье\n",
    "- `days_employed` — общий трудовой стаж в днях\n",
    "- `dob_years` — возраст клиента в годах\n",
    "- `education` — уровень образования клиента\n",
    "- `education_id` — идентификатор уровня образования\n",
    "- `family_status` — семейное положение\n",
    "- `family_status_id` — идентификатор семейного положения\n",
    "- `gender` — пол клиента\n",
    "- `income_type` — тип занятости\n",
    "- `debt` — имел ли задолженность по возврату кредитов\n",
    "- `total_income` — ежемесячный доход\n",
    "- `purpose` — цель получения кредита"
   ]
  },
  {
   "cell_type": "markdown",
   "id": "827c20bf",
   "metadata": {
    "deletable": false,
    "editable": false,
    "id": "827c20bf"
   },
   "source": [
    "Во второй части проекта вы выполните шаги 3 и 4. Их вручную проверит ревьюер.\n",
    "Чтобы вам не пришлось писать код заново для шагов 1 и 2, мы добавили авторские решения в ячейки с кодом. \n",
    "\n"
   ]
  },
  {
   "cell_type": "markdown",
   "id": "744d7639",
   "metadata": {
    "deletable": false,
    "editable": false,
    "id": "744d7639"
   },
   "source": [
    "## Откройте таблицу и изучите общую информацию о данных"
   ]
  },
  {
   "cell_type": "markdown",
   "id": "e7a14c31",
   "metadata": {
    "deletable": false,
    "editable": false,
    "id": "e7a14c31"
   },
   "source": [
    "**Задание 1. Импортируйте библиотеку pandas. Считайте данные из csv-файла в датафрейм и сохраните в переменную `data`. Путь к файлу:**\n",
    "\n",
    "`/datasets/data.csv`"
   ]
  },
  {
   "cell_type": "code",
   "execution_count": 1,
   "id": "7bcf75c9",
   "metadata": {
    "deletable": false,
    "id": "7bcf75c9"
   },
   "outputs": [],
   "source": [
    "import pandas as pd\n",
    "\n",
    "data = pd.read_csv('C:/Users/Sam/DA/Projects_YandexPracticum/Project2_bank_credit/data.csv')"
   ]
  },
  {
   "cell_type": "markdown",
   "id": "b8038fe3",
   "metadata": {
    "deletable": false,
    "editable": false,
    "id": "b8038fe3"
   },
   "source": [
    "**Задание 2. Выведите первые 20 строчек датафрейма `data` на экран.**"
   ]
  },
  {
   "cell_type": "code",
   "execution_count": 2,
   "id": "2a7cab99",
   "metadata": {
    "deletable": false,
    "id": "2a7cab99",
    "outputId": "1a8f3ef2-d323-4ec2-ddf7-89670b5944c4"
   },
   "outputs": [
    {
     "data": {
      "text/html": [
       "<div>\n",
       "<style scoped>\n",
       "    .dataframe tbody tr th:only-of-type {\n",
       "        vertical-align: middle;\n",
       "    }\n",
       "\n",
       "    .dataframe tbody tr th {\n",
       "        vertical-align: top;\n",
       "    }\n",
       "\n",
       "    .dataframe thead th {\n",
       "        text-align: right;\n",
       "    }\n",
       "</style>\n",
       "<table border=\"1\" class=\"dataframe\">\n",
       "  <thead>\n",
       "    <tr style=\"text-align: right;\">\n",
       "      <th></th>\n",
       "      <th>children</th>\n",
       "      <th>days_employed</th>\n",
       "      <th>dob_years</th>\n",
       "      <th>education</th>\n",
       "      <th>education_id</th>\n",
       "      <th>family_status</th>\n",
       "      <th>family_status_id</th>\n",
       "      <th>gender</th>\n",
       "      <th>income_type</th>\n",
       "      <th>debt</th>\n",
       "      <th>total_income</th>\n",
       "      <th>purpose</th>\n",
       "    </tr>\n",
       "  </thead>\n",
       "  <tbody>\n",
       "    <tr>\n",
       "      <th>0</th>\n",
       "      <td>1</td>\n",
       "      <td>-8437.673028</td>\n",
       "      <td>42</td>\n",
       "      <td>высшее</td>\n",
       "      <td>0</td>\n",
       "      <td>женат / замужем</td>\n",
       "      <td>0</td>\n",
       "      <td>F</td>\n",
       "      <td>сотрудник</td>\n",
       "      <td>0</td>\n",
       "      <td>253875.639453</td>\n",
       "      <td>покупка жилья</td>\n",
       "    </tr>\n",
       "    <tr>\n",
       "      <th>1</th>\n",
       "      <td>1</td>\n",
       "      <td>-4024.803754</td>\n",
       "      <td>36</td>\n",
       "      <td>среднее</td>\n",
       "      <td>1</td>\n",
       "      <td>женат / замужем</td>\n",
       "      <td>0</td>\n",
       "      <td>F</td>\n",
       "      <td>сотрудник</td>\n",
       "      <td>0</td>\n",
       "      <td>112080.014102</td>\n",
       "      <td>приобретение автомобиля</td>\n",
       "    </tr>\n",
       "    <tr>\n",
       "      <th>2</th>\n",
       "      <td>0</td>\n",
       "      <td>-5623.422610</td>\n",
       "      <td>33</td>\n",
       "      <td>Среднее</td>\n",
       "      <td>1</td>\n",
       "      <td>женат / замужем</td>\n",
       "      <td>0</td>\n",
       "      <td>M</td>\n",
       "      <td>сотрудник</td>\n",
       "      <td>0</td>\n",
       "      <td>145885.952297</td>\n",
       "      <td>покупка жилья</td>\n",
       "    </tr>\n",
       "    <tr>\n",
       "      <th>3</th>\n",
       "      <td>3</td>\n",
       "      <td>-4124.747207</td>\n",
       "      <td>32</td>\n",
       "      <td>среднее</td>\n",
       "      <td>1</td>\n",
       "      <td>женат / замужем</td>\n",
       "      <td>0</td>\n",
       "      <td>M</td>\n",
       "      <td>сотрудник</td>\n",
       "      <td>0</td>\n",
       "      <td>267628.550329</td>\n",
       "      <td>дополнительное образование</td>\n",
       "    </tr>\n",
       "    <tr>\n",
       "      <th>4</th>\n",
       "      <td>0</td>\n",
       "      <td>340266.072047</td>\n",
       "      <td>53</td>\n",
       "      <td>среднее</td>\n",
       "      <td>1</td>\n",
       "      <td>гражданский брак</td>\n",
       "      <td>1</td>\n",
       "      <td>F</td>\n",
       "      <td>пенсионер</td>\n",
       "      <td>0</td>\n",
       "      <td>158616.077870</td>\n",
       "      <td>сыграть свадьбу</td>\n",
       "    </tr>\n",
       "    <tr>\n",
       "      <th>5</th>\n",
       "      <td>0</td>\n",
       "      <td>-926.185831</td>\n",
       "      <td>27</td>\n",
       "      <td>высшее</td>\n",
       "      <td>0</td>\n",
       "      <td>гражданский брак</td>\n",
       "      <td>1</td>\n",
       "      <td>M</td>\n",
       "      <td>компаньон</td>\n",
       "      <td>0</td>\n",
       "      <td>255763.565419</td>\n",
       "      <td>покупка жилья</td>\n",
       "    </tr>\n",
       "    <tr>\n",
       "      <th>6</th>\n",
       "      <td>0</td>\n",
       "      <td>-2879.202052</td>\n",
       "      <td>43</td>\n",
       "      <td>высшее</td>\n",
       "      <td>0</td>\n",
       "      <td>женат / замужем</td>\n",
       "      <td>0</td>\n",
       "      <td>F</td>\n",
       "      <td>компаньон</td>\n",
       "      <td>0</td>\n",
       "      <td>240525.971920</td>\n",
       "      <td>операции с жильем</td>\n",
       "    </tr>\n",
       "    <tr>\n",
       "      <th>7</th>\n",
       "      <td>0</td>\n",
       "      <td>-152.779569</td>\n",
       "      <td>50</td>\n",
       "      <td>СРЕДНЕЕ</td>\n",
       "      <td>1</td>\n",
       "      <td>женат / замужем</td>\n",
       "      <td>0</td>\n",
       "      <td>M</td>\n",
       "      <td>сотрудник</td>\n",
       "      <td>0</td>\n",
       "      <td>135823.934197</td>\n",
       "      <td>образование</td>\n",
       "    </tr>\n",
       "    <tr>\n",
       "      <th>8</th>\n",
       "      <td>2</td>\n",
       "      <td>-6929.865299</td>\n",
       "      <td>35</td>\n",
       "      <td>ВЫСШЕЕ</td>\n",
       "      <td>0</td>\n",
       "      <td>гражданский брак</td>\n",
       "      <td>1</td>\n",
       "      <td>F</td>\n",
       "      <td>сотрудник</td>\n",
       "      <td>0</td>\n",
       "      <td>95856.832424</td>\n",
       "      <td>на проведение свадьбы</td>\n",
       "    </tr>\n",
       "    <tr>\n",
       "      <th>9</th>\n",
       "      <td>0</td>\n",
       "      <td>-2188.756445</td>\n",
       "      <td>41</td>\n",
       "      <td>среднее</td>\n",
       "      <td>1</td>\n",
       "      <td>женат / замужем</td>\n",
       "      <td>0</td>\n",
       "      <td>M</td>\n",
       "      <td>сотрудник</td>\n",
       "      <td>0</td>\n",
       "      <td>144425.938277</td>\n",
       "      <td>покупка жилья для семьи</td>\n",
       "    </tr>\n",
       "    <tr>\n",
       "      <th>10</th>\n",
       "      <td>2</td>\n",
       "      <td>-4171.483647</td>\n",
       "      <td>36</td>\n",
       "      <td>высшее</td>\n",
       "      <td>0</td>\n",
       "      <td>женат / замужем</td>\n",
       "      <td>0</td>\n",
       "      <td>M</td>\n",
       "      <td>компаньон</td>\n",
       "      <td>0</td>\n",
       "      <td>113943.491460</td>\n",
       "      <td>покупка недвижимости</td>\n",
       "    </tr>\n",
       "    <tr>\n",
       "      <th>11</th>\n",
       "      <td>0</td>\n",
       "      <td>-792.701887</td>\n",
       "      <td>40</td>\n",
       "      <td>среднее</td>\n",
       "      <td>1</td>\n",
       "      <td>женат / замужем</td>\n",
       "      <td>0</td>\n",
       "      <td>F</td>\n",
       "      <td>сотрудник</td>\n",
       "      <td>0</td>\n",
       "      <td>77069.234271</td>\n",
       "      <td>покупка коммерческой недвижимости</td>\n",
       "    </tr>\n",
       "    <tr>\n",
       "      <th>12</th>\n",
       "      <td>0</td>\n",
       "      <td>NaN</td>\n",
       "      <td>65</td>\n",
       "      <td>среднее</td>\n",
       "      <td>1</td>\n",
       "      <td>гражданский брак</td>\n",
       "      <td>1</td>\n",
       "      <td>M</td>\n",
       "      <td>пенсионер</td>\n",
       "      <td>0</td>\n",
       "      <td>NaN</td>\n",
       "      <td>сыграть свадьбу</td>\n",
       "    </tr>\n",
       "    <tr>\n",
       "      <th>13</th>\n",
       "      <td>0</td>\n",
       "      <td>-1846.641941</td>\n",
       "      <td>54</td>\n",
       "      <td>неоконченное высшее</td>\n",
       "      <td>2</td>\n",
       "      <td>женат / замужем</td>\n",
       "      <td>0</td>\n",
       "      <td>F</td>\n",
       "      <td>сотрудник</td>\n",
       "      <td>0</td>\n",
       "      <td>130458.228857</td>\n",
       "      <td>приобретение автомобиля</td>\n",
       "    </tr>\n",
       "    <tr>\n",
       "      <th>14</th>\n",
       "      <td>0</td>\n",
       "      <td>-1844.956182</td>\n",
       "      <td>56</td>\n",
       "      <td>высшее</td>\n",
       "      <td>0</td>\n",
       "      <td>гражданский брак</td>\n",
       "      <td>1</td>\n",
       "      <td>F</td>\n",
       "      <td>компаньон</td>\n",
       "      <td>1</td>\n",
       "      <td>165127.911772</td>\n",
       "      <td>покупка жилой недвижимости</td>\n",
       "    </tr>\n",
       "    <tr>\n",
       "      <th>15</th>\n",
       "      <td>1</td>\n",
       "      <td>-972.364419</td>\n",
       "      <td>26</td>\n",
       "      <td>среднее</td>\n",
       "      <td>1</td>\n",
       "      <td>женат / замужем</td>\n",
       "      <td>0</td>\n",
       "      <td>F</td>\n",
       "      <td>сотрудник</td>\n",
       "      <td>0</td>\n",
       "      <td>116820.904450</td>\n",
       "      <td>строительство собственной недвижимости</td>\n",
       "    </tr>\n",
       "    <tr>\n",
       "      <th>16</th>\n",
       "      <td>0</td>\n",
       "      <td>-1719.934226</td>\n",
       "      <td>35</td>\n",
       "      <td>среднее</td>\n",
       "      <td>1</td>\n",
       "      <td>женат / замужем</td>\n",
       "      <td>0</td>\n",
       "      <td>F</td>\n",
       "      <td>сотрудник</td>\n",
       "      <td>0</td>\n",
       "      <td>289202.704229</td>\n",
       "      <td>недвижимость</td>\n",
       "    </tr>\n",
       "    <tr>\n",
       "      <th>17</th>\n",
       "      <td>0</td>\n",
       "      <td>-2369.999720</td>\n",
       "      <td>33</td>\n",
       "      <td>высшее</td>\n",
       "      <td>0</td>\n",
       "      <td>гражданский брак</td>\n",
       "      <td>1</td>\n",
       "      <td>M</td>\n",
       "      <td>сотрудник</td>\n",
       "      <td>0</td>\n",
       "      <td>90410.586745</td>\n",
       "      <td>строительство недвижимости</td>\n",
       "    </tr>\n",
       "    <tr>\n",
       "      <th>18</th>\n",
       "      <td>0</td>\n",
       "      <td>400281.136913</td>\n",
       "      <td>53</td>\n",
       "      <td>среднее</td>\n",
       "      <td>1</td>\n",
       "      <td>вдовец / вдова</td>\n",
       "      <td>2</td>\n",
       "      <td>F</td>\n",
       "      <td>пенсионер</td>\n",
       "      <td>0</td>\n",
       "      <td>56823.777243</td>\n",
       "      <td>на покупку подержанного автомобиля</td>\n",
       "    </tr>\n",
       "    <tr>\n",
       "      <th>19</th>\n",
       "      <td>0</td>\n",
       "      <td>-10038.818549</td>\n",
       "      <td>48</td>\n",
       "      <td>СРЕДНЕЕ</td>\n",
       "      <td>1</td>\n",
       "      <td>в разводе</td>\n",
       "      <td>3</td>\n",
       "      <td>F</td>\n",
       "      <td>сотрудник</td>\n",
       "      <td>0</td>\n",
       "      <td>242831.107982</td>\n",
       "      <td>на покупку своего автомобиля</td>\n",
       "    </tr>\n",
       "  </tbody>\n",
       "</table>\n",
       "</div>"
      ],
      "text/plain": [
       "    children  days_employed  dob_years            education  education_id  \\\n",
       "0          1   -8437.673028         42               высшее             0   \n",
       "1          1   -4024.803754         36              среднее             1   \n",
       "2          0   -5623.422610         33              Среднее             1   \n",
       "3          3   -4124.747207         32              среднее             1   \n",
       "4          0  340266.072047         53              среднее             1   \n",
       "5          0    -926.185831         27               высшее             0   \n",
       "6          0   -2879.202052         43               высшее             0   \n",
       "7          0    -152.779569         50              СРЕДНЕЕ             1   \n",
       "8          2   -6929.865299         35               ВЫСШЕЕ             0   \n",
       "9          0   -2188.756445         41              среднее             1   \n",
       "10         2   -4171.483647         36               высшее             0   \n",
       "11         0    -792.701887         40              среднее             1   \n",
       "12         0            NaN         65              среднее             1   \n",
       "13         0   -1846.641941         54  неоконченное высшее             2   \n",
       "14         0   -1844.956182         56               высшее             0   \n",
       "15         1    -972.364419         26              среднее             1   \n",
       "16         0   -1719.934226         35              среднее             1   \n",
       "17         0   -2369.999720         33               высшее             0   \n",
       "18         0  400281.136913         53              среднее             1   \n",
       "19         0  -10038.818549         48              СРЕДНЕЕ             1   \n",
       "\n",
       "       family_status  family_status_id gender income_type  debt  \\\n",
       "0    женат / замужем                 0      F   сотрудник     0   \n",
       "1    женат / замужем                 0      F   сотрудник     0   \n",
       "2    женат / замужем                 0      M   сотрудник     0   \n",
       "3    женат / замужем                 0      M   сотрудник     0   \n",
       "4   гражданский брак                 1      F   пенсионер     0   \n",
       "5   гражданский брак                 1      M   компаньон     0   \n",
       "6    женат / замужем                 0      F   компаньон     0   \n",
       "7    женат / замужем                 0      M   сотрудник     0   \n",
       "8   гражданский брак                 1      F   сотрудник     0   \n",
       "9    женат / замужем                 0      M   сотрудник     0   \n",
       "10   женат / замужем                 0      M   компаньон     0   \n",
       "11   женат / замужем                 0      F   сотрудник     0   \n",
       "12  гражданский брак                 1      M   пенсионер     0   \n",
       "13   женат / замужем                 0      F   сотрудник     0   \n",
       "14  гражданский брак                 1      F   компаньон     1   \n",
       "15   женат / замужем                 0      F   сотрудник     0   \n",
       "16   женат / замужем                 0      F   сотрудник     0   \n",
       "17  гражданский брак                 1      M   сотрудник     0   \n",
       "18    вдовец / вдова                 2      F   пенсионер     0   \n",
       "19         в разводе                 3      F   сотрудник     0   \n",
       "\n",
       "     total_income                                 purpose  \n",
       "0   253875.639453                           покупка жилья  \n",
       "1   112080.014102                 приобретение автомобиля  \n",
       "2   145885.952297                           покупка жилья  \n",
       "3   267628.550329              дополнительное образование  \n",
       "4   158616.077870                         сыграть свадьбу  \n",
       "5   255763.565419                           покупка жилья  \n",
       "6   240525.971920                       операции с жильем  \n",
       "7   135823.934197                             образование  \n",
       "8    95856.832424                   на проведение свадьбы  \n",
       "9   144425.938277                 покупка жилья для семьи  \n",
       "10  113943.491460                    покупка недвижимости  \n",
       "11   77069.234271       покупка коммерческой недвижимости  \n",
       "12            NaN                         сыграть свадьбу  \n",
       "13  130458.228857                 приобретение автомобиля  \n",
       "14  165127.911772              покупка жилой недвижимости  \n",
       "15  116820.904450  строительство собственной недвижимости  \n",
       "16  289202.704229                            недвижимость  \n",
       "17   90410.586745              строительство недвижимости  \n",
       "18   56823.777243      на покупку подержанного автомобиля  \n",
       "19  242831.107982            на покупку своего автомобиля  "
      ]
     },
     "execution_count": 2,
     "metadata": {},
     "output_type": "execute_result"
    }
   ],
   "source": [
    "data.head(20)"
   ]
  },
  {
   "cell_type": "markdown",
   "id": "1c12e233",
   "metadata": {
    "deletable": false,
    "editable": false,
    "id": "1c12e233"
   },
   "source": [
    "**Задание 3. Выведите основную информацию о датафрейме с помощью метода `info()`.**"
   ]
  },
  {
   "cell_type": "code",
   "execution_count": 3,
   "id": "2b757bca",
   "metadata": {
    "deletable": false,
    "id": "2b757bca",
    "outputId": "15376089-8dad-46c9-b520-c05248d43158"
   },
   "outputs": [
    {
     "name": "stdout",
     "output_type": "stream",
     "text": [
      "<class 'pandas.core.frame.DataFrame'>\n",
      "RangeIndex: 21525 entries, 0 to 21524\n",
      "Data columns (total 12 columns):\n",
      " #   Column            Non-Null Count  Dtype  \n",
      "---  ------            --------------  -----  \n",
      " 0   children          21525 non-null  int64  \n",
      " 1   days_employed     19351 non-null  float64\n",
      " 2   dob_years         21525 non-null  int64  \n",
      " 3   education         21525 non-null  object \n",
      " 4   education_id      21525 non-null  int64  \n",
      " 5   family_status     21525 non-null  object \n",
      " 6   family_status_id  21525 non-null  int64  \n",
      " 7   gender            21525 non-null  object \n",
      " 8   income_type       21525 non-null  object \n",
      " 9   debt              21525 non-null  int64  \n",
      " 10  total_income      19351 non-null  float64\n",
      " 11  purpose           21525 non-null  object \n",
      "dtypes: float64(2), int64(5), object(5)\n",
      "memory usage: 2.0+ MB\n"
     ]
    }
   ],
   "source": [
    "data.info()"
   ]
  },
  {
   "cell_type": "markdown",
   "id": "333ec665",
   "metadata": {
    "deletable": false,
    "editable": false,
    "id": "333ec665"
   },
   "source": [
    "## Предобработка данных"
   ]
  },
  {
   "cell_type": "markdown",
   "id": "02d92d53",
   "metadata": {
    "deletable": false,
    "editable": false,
    "id": "02d92d53"
   },
   "source": [
    "### Удаление пропусков"
   ]
  },
  {
   "cell_type": "markdown",
   "id": "cd84967c",
   "metadata": {
    "deletable": false,
    "editable": false,
    "id": "cd84967c"
   },
   "source": [
    "**Задание 4. Выведите количество пропущенных значений для каждого столбца. Используйте комбинацию двух методов.**"
   ]
  },
  {
   "cell_type": "code",
   "execution_count": 4,
   "id": "7f9b2309",
   "metadata": {
    "deletable": false,
    "id": "7f9b2309",
    "outputId": "81f4d817-781c-465c-ed15-91ce4446810d"
   },
   "outputs": [
    {
     "data": {
      "text/plain": [
       "children               0\n",
       "days_employed       2174\n",
       "dob_years              0\n",
       "education              0\n",
       "education_id           0\n",
       "family_status          0\n",
       "family_status_id       0\n",
       "gender                 0\n",
       "income_type            0\n",
       "debt                   0\n",
       "total_income        2174\n",
       "purpose                0\n",
       "dtype: int64"
      ]
     },
     "execution_count": 4,
     "metadata": {},
     "output_type": "execute_result"
    }
   ],
   "source": [
    "data.isna().sum()"
   ]
  },
  {
   "cell_type": "markdown",
   "id": "db86e27b",
   "metadata": {
    "deletable": false,
    "editable": false,
    "id": "db86e27b"
   },
   "source": [
    "**Задание 5. В двух столбцах есть пропущенные значения. Один из них — `days_employed`. Пропуски в этом столбце вы обработаете на следующем этапе. Другой столбец с пропущенными значениями — `total_income` — хранит данные о доходах. На сумму дохода сильнее всего влияет тип занятости, поэтому заполнить пропуски в этом столбце нужно медианным значением по каждому типу из столбца `income_type`. Например, у человека с типом занятости `сотрудник` пропуск в столбце `total_income` должен быть заполнен медианным доходом среди всех записей с тем же типом.**"
   ]
  },
  {
   "cell_type": "code",
   "execution_count": 5,
   "id": "42006a93",
   "metadata": {
    "deletable": false,
    "id": "42006a93"
   },
   "outputs": [],
   "source": [
    "for t in data['income_type'].unique():\n",
    "    data.loc[(data['income_type'] == t) & (data['total_income'].isna()), 'total_income'] = \\\n",
    "    data.loc[(data['income_type'] == t), 'total_income'].median()"
   ]
  },
  {
   "cell_type": "markdown",
   "id": "89da5ece",
   "metadata": {
    "deletable": false,
    "editable": false,
    "id": "89da5ece"
   },
   "source": [
    "### Обработка аномальных значений"
   ]
  },
  {
   "cell_type": "markdown",
   "id": "57964554",
   "metadata": {
    "deletable": false,
    "editable": false,
    "id": "57964554"
   },
   "source": [
    "**Задание 6. В данных могут встречаться артефакты (аномалии) — значения, которые не отражают действительность и появились по какой-то ошибке. таким артефактом будет отрицательное количество дней трудового стажа в столбце `days_employed`. Для реальных данных это нормально. Обработайте значения в этом столбце: замените все отрицательные значения положительными с помощью метода `abs()`.**"
   ]
  },
  {
   "cell_type": "code",
   "execution_count": 6,
   "id": "f6f055bf",
   "metadata": {
    "deletable": false,
    "id": "f6f055bf"
   },
   "outputs": [],
   "source": [
    "data['days_employed'] = data['days_employed'].abs()"
   ]
  },
  {
   "cell_type": "markdown",
   "id": "6107dd2f",
   "metadata": {
    "deletable": false,
    "editable": false,
    "id": "6107dd2f"
   },
   "source": [
    "**Задание 7. Для каждого типа занятости выведите медианное значение трудового стажа `days_employed` в днях.**"
   ]
  },
  {
   "cell_type": "code",
   "execution_count": 7,
   "id": "85a5faf6",
   "metadata": {
    "deletable": false,
    "id": "85a5faf6",
    "outputId": "801ef80e-522b-4668-f34e-565af7432bcf"
   },
   "outputs": [
    {
     "data": {
      "text/plain": [
       "income_type\n",
       "безработный        366413.652744\n",
       "в декрете            3296.759962\n",
       "госслужащий          2689.368353\n",
       "компаньон            1547.382223\n",
       "пенсионер          365213.306266\n",
       "предприниматель       520.848083\n",
       "сотрудник            1574.202821\n",
       "студент               578.751554\n",
       "Name: days_employed, dtype: float64"
      ]
     },
     "execution_count": 7,
     "metadata": {},
     "output_type": "execute_result"
    }
   ],
   "source": [
    "data.groupby('income_type')['days_employed'].agg('median')"
   ]
  },
  {
   "cell_type": "markdown",
   "id": "38d1a030",
   "metadata": {
    "deletable": false,
    "editable": false,
    "id": "38d1a030"
   },
   "source": [
    "У двух типов (безработные и пенсионеры) получатся аномально большие значения. Исправить такие значения сложно, поэтому оставьте их как есть. Тем более этот столбец не понадобится вам для исследования."
   ]
  },
  {
   "cell_type": "markdown",
   "id": "d8a9f147",
   "metadata": {
    "deletable": false,
    "editable": false,
    "id": "d8a9f147"
   },
   "source": [
    "**Задание 8. Выведите перечень уникальных значений столбца `children`.**"
   ]
  },
  {
   "cell_type": "code",
   "execution_count": 8,
   "id": "ef5056eb",
   "metadata": {
    "deletable": false,
    "id": "ef5056eb",
    "outputId": "6975b15c-7f95-4697-d16d-a0c79b657b03"
   },
   "outputs": [
    {
     "data": {
      "text/plain": [
       "array([ 1,  0,  3,  2, -1,  4, 20,  5], dtype=int64)"
      ]
     },
     "execution_count": 8,
     "metadata": {},
     "output_type": "execute_result"
    }
   ],
   "source": [
    "data['children'].unique()"
   ]
  },
  {
   "cell_type": "markdown",
   "id": "40b9ebf2",
   "metadata": {
    "deletable": false,
    "editable": false,
    "id": "40b9ebf2"
   },
   "source": [
    "**Задание 9. В столбце `children` есть два аномальных значения. Удалите строки, в которых встречаются такие аномальные значения из датафрейма `data`.**"
   ]
  },
  {
   "cell_type": "code",
   "execution_count": 9,
   "id": "3ff9801d",
   "metadata": {
    "deletable": false,
    "id": "3ff9801d"
   },
   "outputs": [],
   "source": [
    "data = data[(data['children'] != -1) & (data['children'] != 20)]"
   ]
  },
  {
   "cell_type": "markdown",
   "id": "bbc4d0ce",
   "metadata": {
    "deletable": false,
    "editable": false,
    "id": "bbc4d0ce"
   },
   "source": [
    "**Задание 10. Ещё раз выведите перечень уникальных значений столбца `children`, чтобы убедиться, что артефакты удалены.**"
   ]
  },
  {
   "cell_type": "code",
   "execution_count": 10,
   "id": "ad4fa8b7",
   "metadata": {
    "deletable": false,
    "id": "ad4fa8b7",
    "outputId": "b2097101-d49d-44d9-901b-32a65c9463d1"
   },
   "outputs": [
    {
     "data": {
      "text/plain": [
       "array([1, 0, 3, 2, 4, 5], dtype=int64)"
      ]
     },
     "execution_count": 10,
     "metadata": {},
     "output_type": "execute_result"
    }
   ],
   "source": [
    "data['children'].unique()"
   ]
  },
  {
   "cell_type": "markdown",
   "id": "75440b63",
   "metadata": {
    "deletable": false,
    "editable": false,
    "id": "75440b63"
   },
   "source": [
    "### Удаление пропусков (продолжение)"
   ]
  },
  {
   "cell_type": "markdown",
   "id": "f4ea573f",
   "metadata": {
    "deletable": false,
    "editable": false,
    "id": "f4ea573f"
   },
   "source": [
    "**Задание 11. Заполните пропуски в столбце `days_employed` медианными значениями по каждого типа занятости `income_type`.**"
   ]
  },
  {
   "cell_type": "code",
   "execution_count": 11,
   "id": "af6b1a7e",
   "metadata": {
    "deletable": false,
    "id": "af6b1a7e"
   },
   "outputs": [],
   "source": [
    "for t in data['income_type'].unique():\n",
    "    data.loc[(data['income_type'] == t) & (data['days_employed'].isna()), 'days_employed'] = \\\n",
    "    data.loc[(data['income_type'] == t), 'days_employed'].median()"
   ]
  },
  {
   "cell_type": "markdown",
   "id": "2753f40d",
   "metadata": {
    "deletable": false,
    "editable": false,
    "id": "2753f40d"
   },
   "source": [
    "**Задание 12. Убедитесь, что все пропуски заполнены. Проверьте себя и ещё раз выведите количество пропущенных значений для каждого столбца с помощью двух методов.**"
   ]
  },
  {
   "cell_type": "code",
   "execution_count": 12,
   "id": "55f78bc2",
   "metadata": {
    "deletable": false,
    "id": "55f78bc2",
    "outputId": "8da1e4e1-358e-4e87-98c9-f261bce0a7b2"
   },
   "outputs": [
    {
     "data": {
      "text/plain": [
       "children            0\n",
       "days_employed       0\n",
       "dob_years           0\n",
       "education           0\n",
       "education_id        0\n",
       "family_status       0\n",
       "family_status_id    0\n",
       "gender              0\n",
       "income_type         0\n",
       "debt                0\n",
       "total_income        0\n",
       "purpose             0\n",
       "dtype: int64"
      ]
     },
     "execution_count": 12,
     "metadata": {},
     "output_type": "execute_result"
    }
   ],
   "source": [
    "data.isna().sum()"
   ]
  },
  {
   "cell_type": "markdown",
   "id": "ddc81e43",
   "metadata": {
    "deletable": false,
    "editable": false,
    "id": "ddc81e43"
   },
   "source": [
    "### Изменение типов данных"
   ]
  },
  {
   "cell_type": "markdown",
   "id": "42d19d24",
   "metadata": {
    "deletable": false,
    "editable": false,
    "id": "42d19d24"
   },
   "source": [
    "**Задание 13. Замените вещественный тип данных в столбце `total_income` на целочисленный с помощью метода `astype()`.**"
   ]
  },
  {
   "cell_type": "code",
   "execution_count": 13,
   "id": "920b65ad",
   "metadata": {
    "deletable": false,
    "id": "920b65ad"
   },
   "outputs": [],
   "source": [
    "data['total_income'] = data['total_income'].astype(int)"
   ]
  },
  {
   "cell_type": "markdown",
   "id": "80c420ba",
   "metadata": {
    "deletable": false,
    "editable": false,
    "id": "80c420ba"
   },
   "source": [
    "### Обработка дубликатов"
   ]
  },
  {
   "cell_type": "markdown",
   "id": "b7eb215a",
   "metadata": {
    "deletable": false,
    "editable": false
   },
   "source": [
    "**Задание 14. Обработайте неявные дубликаты в столбце `education`. В этом столбце есть одни и те же значения, но записанные по-разному: с использованием заглавных и строчных букв. Приведите их к нижнему регистру. Проверьте остальные столбцы.**"
   ]
  },
  {
   "cell_type": "code",
   "execution_count": 14,
   "id": "2c470ebd",
   "metadata": {
    "deletable": false
   },
   "outputs": [],
   "source": [
    "data['education'] = data['education'].str.lower()"
   ]
  },
  {
   "cell_type": "markdown",
   "id": "dc587695",
   "metadata": {
    "deletable": false,
    "editable": false,
    "id": "dc587695"
   },
   "source": [
    "**Задание 15. Выведите на экран количество строк-дубликатов в данных. Если такие строки присутствуют, удалите их.**"
   ]
  },
  {
   "cell_type": "code",
   "execution_count": 15,
   "id": "3ee445e4",
   "metadata": {
    "deletable": false,
    "id": "3ee445e4",
    "outputId": "9684deba-1934-42d1-99e1-cda61740f822"
   },
   "outputs": [
    {
     "data": {
      "text/plain": [
       "71"
      ]
     },
     "execution_count": 15,
     "metadata": {},
     "output_type": "execute_result"
    }
   ],
   "source": [
    "data.duplicated().sum()"
   ]
  },
  {
   "cell_type": "code",
   "execution_count": 16,
   "id": "8575fe05",
   "metadata": {
    "deletable": false,
    "id": "8575fe05"
   },
   "outputs": [],
   "source": [
    "data = data.drop_duplicates()"
   ]
  },
  {
   "cell_type": "markdown",
   "id": "9904cf55",
   "metadata": {
    "deletable": false,
    "editable": false,
    "id": "9904cf55"
   },
   "source": [
    "### Категоризация данных"
   ]
  },
  {
   "cell_type": "markdown",
   "id": "72fcc8a2",
   "metadata": {
    "deletable": false,
    "editable": false,
    "id": "72fcc8a2"
   },
   "source": [
    "**Задание 16. На основании диапазонов, указанных ниже, создайте в датафрейме `data` столбец `total_income_category` с категориями:**\n",
    "\n",
    "- 0–30000 — `'E'`;\n",
    "- 30001–50000 — `'D'`;\n",
    "- 50001–200000 — `'C'`;\n",
    "- 200001–1000000 — `'B'`;\n",
    "- 1000001 и выше — `'A'`.\n",
    "\n",
    "\n",
    "**Например, кредитополучателю с доходом 25000 нужно назначить категорию `'E'`, а клиенту, получающему 235000, — `'B'`. Используйте собственную функцию с именем `categorize_income()` и метод `apply()`.**"
   ]
  },
  {
   "cell_type": "code",
   "execution_count": 17,
   "id": "e1771346",
   "metadata": {
    "deletable": false,
    "id": "e1771346"
   },
   "outputs": [],
   "source": [
    "def categorize_income(income):\n",
    "    try:\n",
    "        if 0 <= income <= 30000:\n",
    "            return 'E'\n",
    "        elif 30001 <= income <= 50000:\n",
    "            return 'D'\n",
    "        elif 50001 <= income <= 200000:\n",
    "            return 'C'\n",
    "        elif 200001 <= income <= 1000000:\n",
    "            return 'B'\n",
    "        elif income >= 1000001:\n",
    "            return 'A'\n",
    "    except:\n",
    "        pass"
   ]
  },
  {
   "cell_type": "code",
   "execution_count": 18,
   "id": "d5f3586d",
   "metadata": {
    "deletable": false,
    "id": "d5f3586d"
   },
   "outputs": [],
   "source": [
    "data['total_income_category'] = data['total_income'].apply(categorize_income)"
   ]
  },
  {
   "cell_type": "markdown",
   "id": "dde49b5c",
   "metadata": {
    "deletable": false,
    "editable": false,
    "id": "dde49b5c"
   },
   "source": [
    "**Задание 17. Выведите на экран перечень уникальных целей взятия кредита из столбца `purpose`.**"
   ]
  },
  {
   "cell_type": "code",
   "execution_count": 19,
   "id": "f67ce9b3",
   "metadata": {
    "deletable": false,
    "id": "f67ce9b3",
    "outputId": "673c12d9-7d7e-4ae0-9812-c622c89dd244"
   },
   "outputs": [
    {
     "data": {
      "text/plain": [
       "array(['покупка жилья', 'приобретение автомобиля',\n",
       "       'дополнительное образование', 'сыграть свадьбу',\n",
       "       'операции с жильем', 'образование', 'на проведение свадьбы',\n",
       "       'покупка жилья для семьи', 'покупка недвижимости',\n",
       "       'покупка коммерческой недвижимости', 'покупка жилой недвижимости',\n",
       "       'строительство собственной недвижимости', 'недвижимость',\n",
       "       'строительство недвижимости', 'на покупку подержанного автомобиля',\n",
       "       'на покупку своего автомобиля',\n",
       "       'операции с коммерческой недвижимостью',\n",
       "       'строительство жилой недвижимости', 'жилье',\n",
       "       'операции со своей недвижимостью', 'автомобили',\n",
       "       'заняться образованием', 'сделка с подержанным автомобилем',\n",
       "       'получение образования', 'автомобиль', 'свадьба',\n",
       "       'получение дополнительного образования', 'покупка своего жилья',\n",
       "       'операции с недвижимостью', 'получение высшего образования',\n",
       "       'свой автомобиль', 'сделка с автомобилем',\n",
       "       'профильное образование', 'высшее образование',\n",
       "       'покупка жилья для сдачи', 'на покупку автомобиля', 'ремонт жилью',\n",
       "       'заняться высшим образованием'], dtype=object)"
      ]
     },
     "execution_count": 19,
     "metadata": {},
     "output_type": "execute_result"
    }
   ],
   "source": [
    "data['purpose'].unique()"
   ]
  },
  {
   "cell_type": "markdown",
   "id": "85d0aef0",
   "metadata": {
    "deletable": false,
    "editable": false,
    "id": "85d0aef0"
   },
   "source": [
    "**Задание 18. Создайте функцию, которая на основании данных из столбца `purpose` сформирует новый столбец `purpose_category`, в который войдут следующие категории:**\n",
    "\n",
    "- `'операции с автомобилем'`,\n",
    "- `'операции с недвижимостью'`,\n",
    "- `'проведение свадьбы'`,\n",
    "- `'получение образования'`.\n",
    "\n",
    "**Например, если в столбце `purpose` находится подстрока `'на покупку автомобиля'`, то в столбце `purpose_category` должна появиться строка `'операции с автомобилем'`.**\n",
    "\n",
    "**Используйте собственную функцию с именем `categorize_purpose()` и метод `apply()`. Изучите данные в столбце `purpose` и определите, какие подстроки помогут вам правильно определить категорию.**"
   ]
  },
  {
   "cell_type": "code",
   "execution_count": 20,
   "id": "e149fab4",
   "metadata": {
    "deletable": false,
    "id": "e149fab4"
   },
   "outputs": [],
   "source": [
    "def categorize_purpose(row):\n",
    "    try:\n",
    "        if 'автом' in row:\n",
    "            return 'операции с автомобилем'\n",
    "        elif 'жил' in row or 'недвиж' in row:\n",
    "            return 'операции с недвижимостью'\n",
    "        elif 'свад' in row:\n",
    "            return 'проведение свадьбы'\n",
    "        elif 'образов' in row:\n",
    "            return 'получение образования'\n",
    "    except:\n",
    "        return 'нет категории'"
   ]
  },
  {
   "cell_type": "code",
   "execution_count": 21,
   "id": "bf36e69b",
   "metadata": {
    "deletable": false,
    "id": "bf36e69b"
   },
   "outputs": [],
   "source": [
    "data['purpose_category'] = data['purpose'].apply(categorize_purpose)"
   ]
  },
  {
   "cell_type": "markdown",
   "id": "09b242bf",
   "metadata": {
    "deletable": false,
    "editable": false,
    "id": "09b242bf"
   },
   "source": [
    "### Шаг 3. Исследуйте данные и ответьте на вопросы"
   ]
  },
  {
   "cell_type": "markdown",
   "id": "c5d66278",
   "metadata": {
    "deletable": false,
    "editable": false,
    "id": "c5d66278"
   },
   "source": [
    "#### 3.1 Есть ли зависимость между количеством детей и возвратом кредита в срок?"
   ]
  },
  {
   "cell_type": "markdown",
   "id": "d6f832f5",
   "metadata": {},
   "source": [
    "Для определения зависимости между количество детей и возвратом кредита в срок создадим сводную таблицу. Сгруппируем информацию по количеству детей и возврату кредита, далее посчитаем процент невозвратных кредитов в каждой группе."
   ]
  },
  {
   "cell_type": "code",
   "execution_count": 22,
   "id": "2cacfc4a",
   "metadata": {
    "deletable": false,
    "id": "2cacfc4a"
   },
   "outputs": [
    {
     "data": {
      "text/html": [
       "<div>\n",
       "<style scoped>\n",
       "    .dataframe tbody tr th:only-of-type {\n",
       "        vertical-align: middle;\n",
       "    }\n",
       "\n",
       "    .dataframe tbody tr th {\n",
       "        vertical-align: top;\n",
       "    }\n",
       "\n",
       "    .dataframe thead tr th {\n",
       "        text-align: left;\n",
       "    }\n",
       "\n",
       "    .dataframe thead tr:last-of-type th {\n",
       "        text-align: right;\n",
       "    }\n",
       "</style>\n",
       "<table border=\"1\" class=\"dataframe\">\n",
       "  <thead>\n",
       "    <tr>\n",
       "      <th></th>\n",
       "      <th>sum</th>\n",
       "      <th>count</th>\n",
       "    </tr>\n",
       "    <tr>\n",
       "      <th></th>\n",
       "      <th>debt</th>\n",
       "      <th>debt</th>\n",
       "    </tr>\n",
       "    <tr>\n",
       "      <th>children</th>\n",
       "      <th></th>\n",
       "      <th></th>\n",
       "    </tr>\n",
       "  </thead>\n",
       "  <tbody>\n",
       "    <tr>\n",
       "      <th>0</th>\n",
       "      <td>1063</td>\n",
       "      <td>14091</td>\n",
       "    </tr>\n",
       "    <tr>\n",
       "      <th>1</th>\n",
       "      <td>444</td>\n",
       "      <td>4808</td>\n",
       "    </tr>\n",
       "    <tr>\n",
       "      <th>2</th>\n",
       "      <td>194</td>\n",
       "      <td>2052</td>\n",
       "    </tr>\n",
       "    <tr>\n",
       "      <th>3</th>\n",
       "      <td>27</td>\n",
       "      <td>330</td>\n",
       "    </tr>\n",
       "    <tr>\n",
       "      <th>4</th>\n",
       "      <td>4</td>\n",
       "      <td>41</td>\n",
       "    </tr>\n",
       "    <tr>\n",
       "      <th>5</th>\n",
       "      <td>0</td>\n",
       "      <td>9</td>\n",
       "    </tr>\n",
       "  </tbody>\n",
       "</table>\n",
       "</div>"
      ],
      "text/plain": [
       "           sum  count\n",
       "          debt   debt\n",
       "children             \n",
       "0         1063  14091\n",
       "1          444   4808\n",
       "2          194   2052\n",
       "3           27    330\n",
       "4            4     41\n",
       "5            0      9"
      ]
     },
     "metadata": {},
     "output_type": "display_data"
    }
   ],
   "source": [
    "# методом sum узнаем общее число невозвратных кредитов, а методом count - общее число кредитов.\n",
    "children_and_debt = data.pivot_table(index='children', values='debt', aggfunc=['sum', 'count'])\n",
    "display(children_and_debt)\n",
    "#children_and_debt.columns"
   ]
  },
  {
   "cell_type": "code",
   "execution_count": 23,
   "id": "1a2273c8",
   "metadata": {
    "scrolled": true
   },
   "outputs": [
    {
     "data": {
      "text/html": [
       "<div>\n",
       "<style scoped>\n",
       "    .dataframe tbody tr th:only-of-type {\n",
       "        vertical-align: middle;\n",
       "    }\n",
       "\n",
       "    .dataframe tbody tr th {\n",
       "        vertical-align: top;\n",
       "    }\n",
       "\n",
       "    .dataframe thead tr th {\n",
       "        text-align: left;\n",
       "    }\n",
       "\n",
       "    .dataframe thead tr:last-of-type th {\n",
       "        text-align: right;\n",
       "    }\n",
       "</style>\n",
       "<table border=\"1\" class=\"dataframe\">\n",
       "  <thead>\n",
       "    <tr>\n",
       "      <th></th>\n",
       "      <th>sum</th>\n",
       "      <th>count</th>\n",
       "      <th>percent_debt</th>\n",
       "    </tr>\n",
       "    <tr>\n",
       "      <th></th>\n",
       "      <th>debt</th>\n",
       "      <th>debt</th>\n",
       "      <th></th>\n",
       "    </tr>\n",
       "    <tr>\n",
       "      <th>children</th>\n",
       "      <th></th>\n",
       "      <th></th>\n",
       "      <th></th>\n",
       "    </tr>\n",
       "  </thead>\n",
       "  <tbody>\n",
       "    <tr>\n",
       "      <th>0</th>\n",
       "      <td>1063</td>\n",
       "      <td>14091</td>\n",
       "      <td>7.543822</td>\n",
       "    </tr>\n",
       "    <tr>\n",
       "      <th>1</th>\n",
       "      <td>444</td>\n",
       "      <td>4808</td>\n",
       "      <td>9.234609</td>\n",
       "    </tr>\n",
       "    <tr>\n",
       "      <th>2</th>\n",
       "      <td>194</td>\n",
       "      <td>2052</td>\n",
       "      <td>9.454191</td>\n",
       "    </tr>\n",
       "    <tr>\n",
       "      <th>3</th>\n",
       "      <td>27</td>\n",
       "      <td>330</td>\n",
       "      <td>8.181818</td>\n",
       "    </tr>\n",
       "    <tr>\n",
       "      <th>4</th>\n",
       "      <td>4</td>\n",
       "      <td>41</td>\n",
       "      <td>9.756098</td>\n",
       "    </tr>\n",
       "    <tr>\n",
       "      <th>5</th>\n",
       "      <td>0</td>\n",
       "      <td>9</td>\n",
       "      <td>0.000000</td>\n",
       "    </tr>\n",
       "  </tbody>\n",
       "</table>\n",
       "</div>"
      ],
      "text/plain": [
       "           sum  count percent_debt\n",
       "          debt   debt             \n",
       "children                          \n",
       "0         1063  14091     7.543822\n",
       "1          444   4808     9.234609\n",
       "2          194   2052     9.454191\n",
       "3           27    330     8.181818\n",
       "4            4     41     9.756098\n",
       "5            0      9     0.000000"
      ]
     },
     "metadata": {},
     "output_type": "display_data"
    }
   ],
   "source": [
    "# вычислим процент невозвратных кредитов\n",
    "children_and_debt['percent_debt'] = children_and_debt['sum']['debt'] / children_and_debt['count']['debt'] * 100\n",
    "display(children_and_debt)"
   ]
  },
  {
   "cell_type": "markdown",
   "id": "3a6b99ec",
   "metadata": {
    "deletable": false,
    "editable": false,
    "id": "3a6b99ec"
   },
   "source": [
    "**Вывод:** "
   ]
  },
  {
   "cell_type": "markdown",
   "id": "193ba77b",
   "metadata": {},
   "source": [
    "После группировки данных сделаем выводы.\n",
    "Клиент без детей имеет задолженность по кредиту в 7.54%. Наличие 1-4 детей у клиента увеличивает процент невозврата кредита в пределах от 0.6 до 2.2%. Показатель, что клиенты с 5 детьми не имеют задолженности по кредитам, отбросим из-за малой выборки (всего 9 человек).\n",
    "\n",
    "**Итоговый вывод:** Есть небольшая зависимость между количеством детей и возвратом кредита в срок. Наличие детей немного увеличивает процент невозврата кредита на 2.2%."
   ]
  },
  {
   "cell_type": "markdown",
   "id": "97be82ca",
   "metadata": {
    "deletable": false,
    "editable": false,
    "id": "97be82ca"
   },
   "source": [
    "#### 3.2 Есть ли зависимость между семейным положением и возвратом кредита в срок?"
   ]
  },
  {
   "cell_type": "markdown",
   "id": "e475cd12",
   "metadata": {},
   "source": [
    "Теперь выясним если ли зависимость между семейным положением и возвратом кредита в срок. Сгруппируем сводную таблицу по статус семейного положения и возврату кредита."
   ]
  },
  {
   "cell_type": "code",
   "execution_count": 24,
   "id": "dc3f7ee8",
   "metadata": {
    "deletable": false,
    "id": "dc3f7ee8"
   },
   "outputs": [
    {
     "data": {
      "text/html": [
       "<div>\n",
       "<style scoped>\n",
       "    .dataframe tbody tr th:only-of-type {\n",
       "        vertical-align: middle;\n",
       "    }\n",
       "\n",
       "    .dataframe tbody tr th {\n",
       "        vertical-align: top;\n",
       "    }\n",
       "\n",
       "    .dataframe thead th {\n",
       "        text-align: right;\n",
       "    }\n",
       "</style>\n",
       "<table border=\"1\" class=\"dataframe\">\n",
       "  <thead>\n",
       "    <tr style=\"text-align: right;\">\n",
       "      <th></th>\n",
       "      <th>debt</th>\n",
       "    </tr>\n",
       "    <tr>\n",
       "      <th>family_status</th>\n",
       "      <th></th>\n",
       "    </tr>\n",
       "  </thead>\n",
       "  <tbody>\n",
       "    <tr>\n",
       "      <th>Не женат / не замужем</th>\n",
       "      <td>0.097639</td>\n",
       "    </tr>\n",
       "    <tr>\n",
       "      <th>в разводе</th>\n",
       "      <td>0.070648</td>\n",
       "    </tr>\n",
       "    <tr>\n",
       "      <th>вдовец / вдова</th>\n",
       "      <td>0.066246</td>\n",
       "    </tr>\n",
       "    <tr>\n",
       "      <th>гражданский брак</th>\n",
       "      <td>0.093130</td>\n",
       "    </tr>\n",
       "    <tr>\n",
       "      <th>женат / замужем</th>\n",
       "      <td>0.075606</td>\n",
       "    </tr>\n",
       "  </tbody>\n",
       "</table>\n",
       "</div>"
      ],
      "text/plain": [
       "                           debt\n",
       "family_status                  \n",
       "Не женат / не замужем  0.097639\n",
       "в разводе              0.070648\n",
       "вдовец / вдова         0.066246\n",
       "гражданский брак       0.093130\n",
       "женат / замужем        0.075606"
      ]
     },
     "metadata": {},
     "output_type": "display_data"
    }
   ],
   "source": [
    "# методом mean узнаем долю невозвратных кредитов, debt принимает значения 1 и 0, т.е. кол-во невозвратных кредитов от общего числа\n",
    "family_and_debt = data.pivot_table(index='family_status', values='debt', aggfunc='mean')\n",
    "display(family_and_debt)"
   ]
  },
  {
   "cell_type": "markdown",
   "id": "1cef7837",
   "metadata": {
    "deletable": false,
    "editable": false,
    "id": "1cef7837"
   },
   "source": [
    "**Вывод:** "
   ]
  },
  {
   "cell_type": "markdown",
   "id": "c13b0603",
   "metadata": {},
   "source": [
    "Мы видим, что группы `гражданский брак` и `Не женат / не замужем` имеют самые большие уровни невозврата кредита в 9.3% и 9.8%.\n",
    "С другой стороны, группа `вдовец / вдова` имеет самый низкий уровень невозврата кредита: 6.6%.\n",
    "\n",
    "В группах `в разводе` и `женат / замужем` процент невозврата уже повыше, на уровне 7.1% и 7.6%.\n",
    "\n",
    "**Итоговый вывод:** Мы видим некоторую зависимость от семейного статуса. Самые большие уровни невозврата показывают люди, которые не состоят в официальном браке, это группы `гражданский брак` и `Не женат / не замужем`. При этом разница в возврате кредита между этими группами и группой `вдовец / вдова`, у которой самый высокий возврат кредита, составляет всего 3.1%"
   ]
  },
  {
   "cell_type": "markdown",
   "id": "1e8b2fca",
   "metadata": {
    "deletable": false,
    "editable": false,
    "id": "1e8b2fca"
   },
   "source": [
    "#### 3.3 Есть ли зависимость между уровнем дохода и возвратом кредита в срок?"
   ]
  },
  {
   "cell_type": "markdown",
   "id": "4afc2e81",
   "metadata": {},
   "source": [
    "Теперь определим зависимость между уровнем дохода и возвратом кредита в срок."
   ]
  },
  {
   "cell_type": "code",
   "execution_count": 25,
   "id": "cd7e3720",
   "metadata": {
    "deletable": false,
    "id": "cd7e3720"
   },
   "outputs": [
    {
     "data": {
      "text/html": [
       "<div>\n",
       "<style scoped>\n",
       "    .dataframe tbody tr th:only-of-type {\n",
       "        vertical-align: middle;\n",
       "    }\n",
       "\n",
       "    .dataframe tbody tr th {\n",
       "        vertical-align: top;\n",
       "    }\n",
       "\n",
       "    .dataframe thead th {\n",
       "        text-align: right;\n",
       "    }\n",
       "</style>\n",
       "<table border=\"1\" class=\"dataframe\">\n",
       "  <thead>\n",
       "    <tr style=\"text-align: right;\">\n",
       "      <th></th>\n",
       "      <th>debt</th>\n",
       "    </tr>\n",
       "    <tr>\n",
       "      <th>total_income_category</th>\n",
       "      <th></th>\n",
       "    </tr>\n",
       "  </thead>\n",
       "  <tbody>\n",
       "    <tr>\n",
       "      <th>A</th>\n",
       "      <td>0.080000</td>\n",
       "    </tr>\n",
       "    <tr>\n",
       "      <th>B</th>\n",
       "      <td>0.070602</td>\n",
       "    </tr>\n",
       "    <tr>\n",
       "      <th>C</th>\n",
       "      <td>0.084982</td>\n",
       "    </tr>\n",
       "    <tr>\n",
       "      <th>D</th>\n",
       "      <td>0.060172</td>\n",
       "    </tr>\n",
       "    <tr>\n",
       "      <th>E</th>\n",
       "      <td>0.090909</td>\n",
       "    </tr>\n",
       "  </tbody>\n",
       "</table>\n",
       "</div>"
      ],
      "text/plain": [
       "                           debt\n",
       "total_income_category          \n",
       "A                      0.080000\n",
       "B                      0.070602\n",
       "C                      0.084982\n",
       "D                      0.060172\n",
       "E                      0.090909"
      ]
     },
     "metadata": {},
     "output_type": "display_data"
    }
   ],
   "source": [
    "# Ваш код будет здесь. Вы можете создавать новые ячейки.\n",
    "data.head(1)\n",
    "# методом mean узнаем долю невозвратных кредитов\n",
    "income_and_debt = data.pivot_table(index=['total_income_category'], values='debt', aggfunc='mean')\n",
    "display(income_and_debt)"
   ]
  },
  {
   "cell_type": "markdown",
   "id": "0de81d1b",
   "metadata": {},
   "source": [
    "Вспомним, как проходила категоризация по уровню дохода:\n",
    "\n",
    "- 0–30000 — 'E';\n",
    "\n",
    "- 30001–50000 — 'D';\n",
    "\n",
    "- 50001–200000 — 'C';\n",
    "\n",
    "- 200001–1000000 — 'B';\n",
    "\n",
    "- 1000001 и выше — 'A'."
   ]
  },
  {
   "cell_type": "markdown",
   "id": "e8593def",
   "metadata": {
    "deletable": false,
    "editable": false,
    "id": "e8593def"
   },
   "source": [
    "**Вывод:** "
   ]
  },
  {
   "cell_type": "markdown",
   "id": "c1ab62b4",
   "metadata": {},
   "source": [
    "Итак, видна зависимость между уровнем дохода и возвратом кредита. Люди с доходом до 30000 больше всего не возвращают кредиты. Наоборот, люди с доходом от 30000 до 50000 имеют самый высокий уровень возврата кредита. Люди с доходом от 50000 имеют средний уровень возврата кредита.\n",
    "\n",
    "**Итоговый вывод:** есть зависимость между уровнем дохода и возвращаемостью кредита. Логично, люди с низким доходом имеют самый низкий процент возврата кредита в 9.1%. При этом люди с доходом чуть выше имеют самый высокий уровень возврата кредита в 6%. Люди со средним и выше среднего доходом и имеют средний уровень возврата кредита 7.1% - 8.5%."
   ]
  },
  {
   "cell_type": "markdown",
   "id": "99ecbd1f",
   "metadata": {
    "deletable": false,
    "editable": false,
    "id": "99ecbd1f"
   },
   "source": [
    "#### 3.4 Как разные цели кредита влияют на его возврат в срок?"
   ]
  },
  {
   "cell_type": "markdown",
   "id": "9316e3ee",
   "metadata": {},
   "source": [
    "Далее посмотрим наличие зависимости между целями кредита и его возвратом."
   ]
  },
  {
   "cell_type": "code",
   "execution_count": 26,
   "id": "2b687290",
   "metadata": {
    "deletable": false,
    "id": "2b687290"
   },
   "outputs": [
    {
     "data": {
      "text/html": [
       "<div>\n",
       "<style scoped>\n",
       "    .dataframe tbody tr th:only-of-type {\n",
       "        vertical-align: middle;\n",
       "    }\n",
       "\n",
       "    .dataframe tbody tr th {\n",
       "        vertical-align: top;\n",
       "    }\n",
       "\n",
       "    .dataframe thead th {\n",
       "        text-align: right;\n",
       "    }\n",
       "</style>\n",
       "<table border=\"1\" class=\"dataframe\">\n",
       "  <thead>\n",
       "    <tr style=\"text-align: right;\">\n",
       "      <th></th>\n",
       "      <th>debt</th>\n",
       "    </tr>\n",
       "    <tr>\n",
       "      <th>purpose_category</th>\n",
       "      <th></th>\n",
       "    </tr>\n",
       "  </thead>\n",
       "  <tbody>\n",
       "    <tr>\n",
       "      <th>операции с автомобилем</th>\n",
       "      <td>0.093480</td>\n",
       "    </tr>\n",
       "    <tr>\n",
       "      <th>операции с недвижимостью</th>\n",
       "      <td>0.072551</td>\n",
       "    </tr>\n",
       "    <tr>\n",
       "      <th>получение образования</th>\n",
       "      <td>0.092528</td>\n",
       "    </tr>\n",
       "    <tr>\n",
       "      <th>проведение свадьбы</th>\n",
       "      <td>0.079118</td>\n",
       "    </tr>\n",
       "  </tbody>\n",
       "</table>\n",
       "</div>"
      ],
      "text/plain": [
       "                              debt\n",
       "purpose_category                  \n",
       "операции с автомобилем    0.093480\n",
       "операции с недвижимостью  0.072551\n",
       "получение образования     0.092528\n",
       "проведение свадьбы        0.079118"
      ]
     },
     "metadata": {},
     "output_type": "display_data"
    }
   ],
   "source": [
    "# применим метод mean для подсчета доли невозвратных кредитов\n",
    "purpose_and_debt = data.pivot_table(index='purpose_category', values='debt', aggfunc='mean')\n",
    "display(purpose_and_debt)"
   ]
  },
  {
   "cell_type": "markdown",
   "id": "b4bb2ce6",
   "metadata": {
    "deletable": false,
    "editable": false,
    "id": "b4bb2ce6"
   },
   "source": [
    "**Вывод:** "
   ]
  },
  {
   "cell_type": "markdown",
   "id": "e7cd9bc6",
   "metadata": {},
   "source": [
    "Мы видим, что кредиты на автомобиль и образование являются самыми невозвратными на уровне 9.3%.\n",
    "С другой стороны, кредиты на недвижимость и свадьбу являются наиболее возвращаемыми на уровне 7.3% и 7.9%.\n",
    "\n",
    "**Итоговый вывод:** Есть некоторая зависимость между целями на кредит. Самые невозвратные кредиты на автомобиль и образование, а самые возвращаемые кредиты на недвижимость и свадьбу. Но разница между этими группами всего 2%."
   ]
  },
  {
   "cell_type": "markdown",
   "id": "09c3ac4c",
   "metadata": {
    "deletable": false,
    "editable": false,
    "id": "09c3ac4c"
   },
   "source": [
    "#### 3.5 Приведите возможные причины появления пропусков в исходных данных."
   ]
  },
  {
   "cell_type": "markdown",
   "id": "9da2ceda",
   "metadata": {
    "deletable": false,
    "editable": false,
    "id": "9da2ceda"
   },
   "source": [
    "*Ответ:* "
   ]
  },
  {
   "cell_type": "markdown",
   "id": "f2531d43",
   "metadata": {},
   "source": [
    "Причины пропусков в данных бывают техническими, либо связаны с человеческим фактором. \n",
    "В данном датафрейме пропуски встречаются в столбцах `days_employed` и `total_income`.\n",
    "\n",
    "Предположим, что люди могли пропустить ввод этих данных, либо могли ввести данные неправильно. Поэтому данные не были сохранены.\n",
    "\n",
    "Также датафрейм мог быть выгружен с ошибками, либо данные были повреждены во время хранения."
   ]
  },
  {
   "cell_type": "markdown",
   "id": "7b0487d6",
   "metadata": {
    "deletable": false,
    "editable": false,
    "id": "7b0487d6"
   },
   "source": [
    "#### 3.6 Объясните, почему заполнить пропуски медианным значением — лучшее решение для количественных переменных."
   ]
  },
  {
   "cell_type": "markdown",
   "id": "7ecf2b8e",
   "metadata": {
    "deletable": false,
    "editable": false,
    "id": "7ecf2b8e"
   },
   "source": [
    "*Ответ:* "
   ]
  },
  {
   "cell_type": "markdown",
   "id": "c964cfcd",
   "metadata": {},
   "source": [
    "Пропуски в количественных переменных заполняют характерным значением. Для заполнения выбирают значения, которые наиболее подходят к данным. Это либо медианное значение, либо среднее значение. \n",
    "\n",
    "Но среднее значение некорректно будет представлять выборку, если в ней есть очень большие или очень маленькие значения. В этом случае значение сдвинется от объективного. \n",
    "\n",
    "А медианное значение разделяет выборку ровно пополам, что является более оптимальным."
   ]
  },
  {
   "cell_type": "markdown",
   "id": "6db5255a",
   "metadata": {
    "deletable": false,
    "editable": false,
    "id": "6db5255a"
   },
   "source": [
    "### Шаг 4: общий вывод."
   ]
  },
  {
   "cell_type": "markdown",
   "id": "bad65432",
   "metadata": {
    "deletable": false,
    "editable": false,
    "id": "bad65432"
   },
   "source": [
    "Напишите ваш общий вывод."
   ]
  },
  {
   "cell_type": "markdown",
   "id": "e1bc2766",
   "metadata": {},
   "source": [
    "Мы провели исследование клиентов банка на предмет их платежеспособности. Датафрейм был обработан, мы заполнили пропуски, удалили дубликаты и обработали аномальные значени. После подготовки данных, мы ответили на поставленные вопросы исследования. \n",
    "\n",
    "**Выводы:**\n",
    "\n",
    "1. Есть ли зависимость между количеством детей и возвратом кредита в срок?\n",
    "\n",
    "Есть небольшая зависимость между количеством детей. Люди без детей имеют самых высокий уровень возврата кредита. При этом наличие детей немного увеличивает процент невозврата кредита на 2.2%.\n",
    "\n",
    "\n",
    "2. Есть ли зависимость между семейным положением и возвратом кредита в срок?\n",
    "\n",
    "Есть небольшая зависимость от семейного статуса. Самые большие уровни невозврата показывают люди, которые не состоят в официальном браке, это группы `гражданский брак` и `Не женат / не замужем`. При этом разница в возврате кредита между этими группами и группой `вдовец / вдова`, у которой самый высокий возврат кредита, составляет всего 3.1%\n",
    "\n",
    "\n",
    "3. Есть ли зависимость между уровнем дохода и возвратом кредита в срок?\n",
    "\n",
    "Есть зависимость между уровнем дохода и возвращаемостью кредита. Люди с низким доходом имеют самый низкий процент возврата кредита. При этом люди с доходом чуть выше имеют самый высокий уровень возврата кредита. Разница между этими группами составляет всего 3.1%.\n",
    "\n",
    "\n",
    "4. Как разные цели кредита влияют на его возврат в срок?\n",
    "\n",
    "Есть некоторая зависимость между целями на кредит. Самые невозвратные кредиты на автомобиль и образование, а самые возвращаемые кредиты на недвижимость и свадьбу. Но разница между этими группами всего 2%.\n",
    " \n",
    " \n",
    "**Рекомендации:**\n",
    "\n",
    "1. Необходимо узнать какой уровень невозврата кредита считается в банке критичным, т.к. в ходе исследования разница между группами с низким возвратом и высокии возвратом кредита была всего 3%.\n",
    "\n",
    "2. Стоит уточнить у разработчиков базы данных банка о причинах пропусков в датафрейме и наличию отрицательных значений. Возможно стоит изменить запись, хранение и выгрузку, чтобы избежать данных проблем.\n",
    "\n",
    "3. Для уменьшения вариантов целей на кредит в обрабатываемом датафрейме стоит ввести фиксированный список целей на кредит. При записи данных нужно будет выбрать один из вариантов."
   ]
  }
 ],
 "metadata": {
  "ExecuteTimeLog": [
   {
    "duration": 533,
    "start_time": "2022-08-11T16:33:53.577Z"
   },
   {
    "duration": 18,
    "start_time": "2022-08-11T16:33:54.112Z"
   },
   {
    "duration": 12,
    "start_time": "2022-08-11T16:33:54.131Z"
   },
   {
    "duration": 8,
    "start_time": "2022-08-11T16:33:54.144Z"
   },
   {
    "duration": 27,
    "start_time": "2022-08-11T16:33:54.153Z"
   },
   {
    "duration": 3,
    "start_time": "2022-08-11T16:33:54.182Z"
   },
   {
    "duration": 25,
    "start_time": "2022-08-11T16:33:54.186Z"
   },
   {
    "duration": 4,
    "start_time": "2022-08-11T16:33:54.213Z"
   },
   {
    "duration": 7,
    "start_time": "2022-08-11T16:33:54.219Z"
   },
   {
    "duration": 3,
    "start_time": "2022-08-11T16:33:54.229Z"
   },
   {
    "duration": 29,
    "start_time": "2022-08-11T16:33:54.234Z"
   },
   {
    "duration": 42,
    "start_time": "2022-08-11T16:33:54.265Z"
   },
   {
    "duration": 4,
    "start_time": "2022-08-11T16:33:54.308Z"
   },
   {
    "duration": 13,
    "start_time": "2022-08-11T16:33:54.314Z"
   },
   {
    "duration": 16,
    "start_time": "2022-08-11T16:33:54.329Z"
   },
   {
    "duration": 15,
    "start_time": "2022-08-11T16:33:54.347Z"
   },
   {
    "duration": 4,
    "start_time": "2022-08-11T16:33:54.363Z"
   },
   {
    "duration": 10,
    "start_time": "2022-08-11T16:33:54.368Z"
   },
   {
    "duration": 6,
    "start_time": "2022-08-11T16:33:54.405Z"
   },
   {
    "duration": 3,
    "start_time": "2022-08-11T16:33:54.413Z"
   },
   {
    "duration": 10,
    "start_time": "2022-08-11T16:33:54.418Z"
   },
   {
    "duration": 2,
    "start_time": "2022-08-11T16:33:54.429Z"
   },
   {
    "duration": 3,
    "start_time": "2022-08-11T16:33:54.433Z"
   },
   {
    "duration": 4,
    "start_time": "2022-08-11T16:33:54.438Z"
   },
   {
    "duration": 4,
    "start_time": "2022-08-11T16:33:54.443Z"
   },
   {
    "duration": 72,
    "start_time": "2022-08-11T16:44:32.733Z"
   },
   {
    "duration": 19,
    "start_time": "2022-08-11T16:45:02.225Z"
   },
   {
    "duration": 17,
    "start_time": "2022-08-11T16:45:04.185Z"
   },
   {
    "duration": 16,
    "start_time": "2022-08-11T16:45:05.317Z"
   },
   {
    "duration": 15,
    "start_time": "2022-08-11T16:45:10.069Z"
   },
   {
    "duration": 15,
    "start_time": "2022-08-11T16:46:17.226Z"
   },
   {
    "duration": 15,
    "start_time": "2022-08-11T16:46:23.620Z"
   },
   {
    "duration": 19,
    "start_time": "2022-08-11T16:46:30.919Z"
   },
   {
    "duration": 19,
    "start_time": "2022-08-11T16:46:39.085Z"
   },
   {
    "duration": 13,
    "start_time": "2022-08-11T16:46:43.269Z"
   },
   {
    "duration": 14,
    "start_time": "2022-08-11T16:46:59.457Z"
   },
   {
    "duration": 14,
    "start_time": "2022-08-11T16:47:04.420Z"
   },
   {
    "duration": 14,
    "start_time": "2022-08-11T16:48:46.942Z"
   },
   {
    "duration": 15,
    "start_time": "2022-08-11T16:49:36.287Z"
   },
   {
    "duration": 3,
    "start_time": "2022-08-11T16:49:50.539Z"
   },
   {
    "duration": 13,
    "start_time": "2022-08-11T16:50:11.559Z"
   },
   {
    "duration": 8,
    "start_time": "2022-08-11T16:53:05.815Z"
   },
   {
    "duration": 9,
    "start_time": "2022-08-11T16:53:08.629Z"
   },
   {
    "duration": 8,
    "start_time": "2022-08-11T16:53:10.546Z"
   },
   {
    "duration": 11,
    "start_time": "2022-08-11T16:53:21.336Z"
   },
   {
    "duration": 10,
    "start_time": "2022-08-11T16:53:46.944Z"
   },
   {
    "duration": 10,
    "start_time": "2022-08-11T16:53:56.300Z"
   },
   {
    "duration": 30,
    "start_time": "2022-08-11T16:54:26.991Z"
   },
   {
    "duration": 26,
    "start_time": "2022-08-11T16:57:44.873Z"
   },
   {
    "duration": 13,
    "start_time": "2022-08-11T16:58:12.255Z"
   },
   {
    "duration": 14,
    "start_time": "2022-08-11T17:00:17.016Z"
   },
   {
    "duration": 11,
    "start_time": "2022-08-11T17:00:26.550Z"
   },
   {
    "duration": 27,
    "start_time": "2022-08-11T17:07:17.981Z"
   },
   {
    "duration": 8,
    "start_time": "2022-08-11T17:07:35.261Z"
   },
   {
    "duration": 12,
    "start_time": "2022-08-11T17:07:42.316Z"
   },
   {
    "duration": 11,
    "start_time": "2022-08-11T17:07:57.123Z"
   },
   {
    "duration": 114,
    "start_time": "2022-08-11T17:08:48.115Z"
   },
   {
    "duration": 19,
    "start_time": "2022-08-11T17:09:02.318Z"
   },
   {
    "duration": 18,
    "start_time": "2022-08-11T17:09:34.930Z"
   },
   {
    "duration": 26,
    "start_time": "2022-08-11T17:11:47.194Z"
   },
   {
    "duration": 13,
    "start_time": "2022-08-11T17:12:11.160Z"
   },
   {
    "duration": 25,
    "start_time": "2022-08-11T17:12:17.497Z"
   },
   {
    "duration": 27,
    "start_time": "2022-08-11T17:23:09.018Z"
   },
   {
    "duration": 29,
    "start_time": "2022-08-11T17:33:29.074Z"
   },
   {
    "duration": 22,
    "start_time": "2022-08-11T17:33:51.662Z"
   },
   {
    "duration": 12,
    "start_time": "2022-08-11T17:34:03.626Z"
   },
   {
    "duration": 24,
    "start_time": "2022-08-11T17:34:12.430Z"
   },
   {
    "duration": 7,
    "start_time": "2022-08-11T17:46:27.918Z"
   },
   {
    "duration": 15,
    "start_time": "2022-08-11T17:46:37.684Z"
   },
   {
    "duration": 31,
    "start_time": "2022-08-11T17:46:49.903Z"
   },
   {
    "duration": 48,
    "start_time": "2022-08-12T06:55:11.041Z"
   },
   {
    "duration": 738,
    "start_time": "2022-08-12T06:55:15.620Z"
   },
   {
    "duration": 27,
    "start_time": "2022-08-12T06:55:16.360Z"
   },
   {
    "duration": 20,
    "start_time": "2022-08-12T06:55:16.389Z"
   },
   {
    "duration": 16,
    "start_time": "2022-08-12T06:55:16.412Z"
   },
   {
    "duration": 40,
    "start_time": "2022-08-12T06:55:16.431Z"
   },
   {
    "duration": 16,
    "start_time": "2022-08-12T06:55:16.473Z"
   },
   {
    "duration": 11,
    "start_time": "2022-08-12T06:55:16.491Z"
   },
   {
    "duration": 6,
    "start_time": "2022-08-12T06:55:16.503Z"
   },
   {
    "duration": 8,
    "start_time": "2022-08-12T06:55:16.510Z"
   },
   {
    "duration": 4,
    "start_time": "2022-08-12T06:55:16.520Z"
   },
   {
    "duration": 63,
    "start_time": "2022-08-12T06:55:16.525Z"
   },
   {
    "duration": 10,
    "start_time": "2022-08-12T06:55:16.590Z"
   },
   {
    "duration": 3,
    "start_time": "2022-08-12T06:55:16.602Z"
   },
   {
    "duration": 13,
    "start_time": "2022-08-12T06:55:16.608Z"
   },
   {
    "duration": 29,
    "start_time": "2022-08-12T06:55:16.623Z"
   },
   {
    "duration": 37,
    "start_time": "2022-08-12T06:55:16.653Z"
   },
   {
    "duration": 3,
    "start_time": "2022-08-12T06:55:16.692Z"
   },
   {
    "duration": 11,
    "start_time": "2022-08-12T06:55:16.697Z"
   },
   {
    "duration": 7,
    "start_time": "2022-08-12T06:55:16.710Z"
   },
   {
    "duration": 4,
    "start_time": "2022-08-12T06:55:16.718Z"
   },
   {
    "duration": 11,
    "start_time": "2022-08-12T06:55:16.723Z"
   },
   {
    "duration": 14,
    "start_time": "2022-08-12T06:55:16.736Z"
   },
   {
    "duration": 52,
    "start_time": "2022-08-12T06:55:16.751Z"
   },
   {
    "duration": 2,
    "start_time": "2022-08-12T06:55:16.805Z"
   },
   {
    "duration": 8,
    "start_time": "2022-08-12T06:55:16.808Z"
   },
   {
    "duration": 8,
    "start_time": "2022-08-12T06:55:16.818Z"
   },
   {
    "duration": 10,
    "start_time": "2022-08-12T06:55:25.543Z"
   },
   {
    "duration": 17,
    "start_time": "2022-08-12T06:56:45.152Z"
   },
   {
    "duration": 12,
    "start_time": "2022-08-12T06:56:49.519Z"
   },
   {
    "duration": 11,
    "start_time": "2022-08-12T06:57:07.742Z"
   },
   {
    "duration": 12,
    "start_time": "2022-08-12T06:57:09.874Z"
   },
   {
    "duration": 21,
    "start_time": "2022-08-12T06:57:59.490Z"
   },
   {
    "duration": 14,
    "start_time": "2022-08-12T06:58:04.554Z"
   },
   {
    "duration": 14,
    "start_time": "2022-08-12T06:58:32.725Z"
   },
   {
    "duration": 22,
    "start_time": "2022-08-12T06:58:47.552Z"
   },
   {
    "duration": 18,
    "start_time": "2022-08-12T06:58:49.538Z"
   },
   {
    "duration": 24,
    "start_time": "2022-08-12T06:58:54.674Z"
   },
   {
    "duration": 39,
    "start_time": "2022-08-12T07:03:08.446Z"
   },
   {
    "duration": 22,
    "start_time": "2022-08-12T07:03:20.987Z"
   },
   {
    "duration": 26,
    "start_time": "2022-08-12T07:03:47.146Z"
   },
   {
    "duration": 29,
    "start_time": "2022-08-12T07:06:19.677Z"
   },
   {
    "duration": 28,
    "start_time": "2022-08-12T07:06:22.177Z"
   },
   {
    "duration": 27,
    "start_time": "2022-08-12T07:06:47.264Z"
   },
   {
    "duration": 925,
    "start_time": "2022-08-12T07:16:41.939Z"
   },
   {
    "duration": 11,
    "start_time": "2022-08-12T07:17:59.189Z"
   },
   {
    "duration": 938,
    "start_time": "2022-08-12T07:18:22.669Z"
   },
   {
    "duration": 904,
    "start_time": "2022-08-12T07:18:44.699Z"
   },
   {
    "duration": 13,
    "start_time": "2022-08-12T07:19:25.768Z"
   },
   {
    "duration": 12,
    "start_time": "2022-08-12T07:19:35.670Z"
   },
   {
    "duration": 12,
    "start_time": "2022-08-12T07:19:39.829Z"
   },
   {
    "duration": 12,
    "start_time": "2022-08-12T07:20:27.480Z"
   },
   {
    "duration": 13,
    "start_time": "2022-08-12T07:21:09.749Z"
   },
   {
    "duration": 13,
    "start_time": "2022-08-12T07:22:13.214Z"
   },
   {
    "duration": 13,
    "start_time": "2022-08-12T07:22:20.214Z"
   },
   {
    "duration": 13,
    "start_time": "2022-08-12T07:22:44.056Z"
   },
   {
    "duration": 13,
    "start_time": "2022-08-12T07:22:57.696Z"
   },
   {
    "duration": 15,
    "start_time": "2022-08-12T07:23:00.706Z"
   },
   {
    "duration": 46,
    "start_time": "2022-08-12T07:23:20.665Z"
   },
   {
    "duration": 456,
    "start_time": "2022-08-12T07:23:22.526Z"
   },
   {
    "duration": 20,
    "start_time": "2022-08-12T07:23:22.984Z"
   },
   {
    "duration": 14,
    "start_time": "2022-08-12T07:23:23.006Z"
   },
   {
    "duration": 9,
    "start_time": "2022-08-12T07:23:23.022Z"
   },
   {
    "duration": 32,
    "start_time": "2022-08-12T07:23:23.032Z"
   },
   {
    "duration": 3,
    "start_time": "2022-08-12T07:23:23.087Z"
   },
   {
    "duration": 14,
    "start_time": "2022-08-12T07:23:23.091Z"
   },
   {
    "duration": 5,
    "start_time": "2022-08-12T07:23:23.106Z"
   },
   {
    "duration": 9,
    "start_time": "2022-08-12T07:23:23.112Z"
   },
   {
    "duration": 3,
    "start_time": "2022-08-12T07:23:23.123Z"
   },
   {
    "duration": 44,
    "start_time": "2022-08-12T07:23:23.127Z"
   },
   {
    "duration": 18,
    "start_time": "2022-08-12T07:23:23.173Z"
   },
   {
    "duration": 4,
    "start_time": "2022-08-12T07:23:23.192Z"
   },
   {
    "duration": 12,
    "start_time": "2022-08-12T07:23:23.198Z"
   },
   {
    "duration": 18,
    "start_time": "2022-08-12T07:23:23.211Z"
   },
   {
    "duration": 15,
    "start_time": "2022-08-12T07:23:23.230Z"
   },
   {
    "duration": 3,
    "start_time": "2022-08-12T07:23:23.246Z"
   },
   {
    "duration": 36,
    "start_time": "2022-08-12T07:23:23.251Z"
   },
   {
    "duration": 5,
    "start_time": "2022-08-12T07:23:23.288Z"
   },
   {
    "duration": 6,
    "start_time": "2022-08-12T07:23:23.294Z"
   },
   {
    "duration": 10,
    "start_time": "2022-08-12T07:23:23.301Z"
   },
   {
    "duration": 11,
    "start_time": "2022-08-12T07:23:23.312Z"
   },
   {
    "duration": 24,
    "start_time": "2022-08-12T07:23:23.324Z"
   },
   {
    "duration": 11,
    "start_time": "2022-08-12T07:23:23.349Z"
   },
   {
    "duration": 25,
    "start_time": "2022-08-12T07:23:23.362Z"
   },
   {
    "duration": 7,
    "start_time": "2022-08-12T07:23:23.389Z"
   },
   {
    "duration": 10,
    "start_time": "2022-08-12T07:23:23.397Z"
   },
   {
    "duration": 13,
    "start_time": "2022-08-12T07:23:36.608Z"
   },
   {
    "duration": 12,
    "start_time": "2022-08-12T07:23:56.488Z"
   },
   {
    "duration": 13,
    "start_time": "2022-08-12T07:23:58.277Z"
   },
   {
    "duration": 11,
    "start_time": "2022-08-12T07:24:09.943Z"
   },
   {
    "duration": 25,
    "start_time": "2022-08-12T07:25:48.861Z"
   },
   {
    "duration": 15,
    "start_time": "2022-08-12T07:26:19.620Z"
   },
   {
    "duration": 15,
    "start_time": "2022-08-12T07:30:06.565Z"
   },
   {
    "duration": 15,
    "start_time": "2022-08-12T07:30:55.170Z"
   },
   {
    "duration": 18,
    "start_time": "2022-08-12T07:31:11.019Z"
   },
   {
    "duration": 13,
    "start_time": "2022-08-12T07:31:15.771Z"
   },
   {
    "duration": 13,
    "start_time": "2022-08-12T07:31:20.289Z"
   },
   {
    "duration": 13,
    "start_time": "2022-08-12T07:31:21.729Z"
   },
   {
    "duration": 468,
    "start_time": "2022-08-12T07:33:53.795Z"
   },
   {
    "duration": 23,
    "start_time": "2022-08-12T07:33:54.265Z"
   },
   {
    "duration": 16,
    "start_time": "2022-08-12T07:33:54.290Z"
   },
   {
    "duration": 11,
    "start_time": "2022-08-12T07:33:54.307Z"
   },
   {
    "duration": 32,
    "start_time": "2022-08-12T07:33:54.320Z"
   },
   {
    "duration": 4,
    "start_time": "2022-08-12T07:33:54.354Z"
   },
   {
    "duration": 34,
    "start_time": "2022-08-12T07:33:54.359Z"
   },
   {
    "duration": 4,
    "start_time": "2022-08-12T07:33:54.395Z"
   },
   {
    "duration": 9,
    "start_time": "2022-08-12T07:33:54.400Z"
   },
   {
    "duration": 5,
    "start_time": "2022-08-12T07:33:54.410Z"
   },
   {
    "duration": 37,
    "start_time": "2022-08-12T07:33:54.416Z"
   },
   {
    "duration": 33,
    "start_time": "2022-08-12T07:33:54.454Z"
   },
   {
    "duration": 4,
    "start_time": "2022-08-12T07:33:54.489Z"
   },
   {
    "duration": 12,
    "start_time": "2022-08-12T07:33:54.495Z"
   },
   {
    "duration": 18,
    "start_time": "2022-08-12T07:33:54.508Z"
   },
   {
    "duration": 21,
    "start_time": "2022-08-12T07:33:54.528Z"
   },
   {
    "duration": 3,
    "start_time": "2022-08-12T07:33:54.551Z"
   },
   {
    "duration": 37,
    "start_time": "2022-08-12T07:33:54.556Z"
   },
   {
    "duration": 5,
    "start_time": "2022-08-12T07:33:54.595Z"
   },
   {
    "duration": 4,
    "start_time": "2022-08-12T07:33:54.601Z"
   },
   {
    "duration": 12,
    "start_time": "2022-08-12T07:33:54.606Z"
   },
   {
    "duration": 12,
    "start_time": "2022-08-12T07:33:54.619Z"
   },
   {
    "duration": 22,
    "start_time": "2022-08-12T07:33:54.632Z"
   },
   {
    "duration": 36,
    "start_time": "2022-08-12T07:33:54.656Z"
   },
   {
    "duration": 5,
    "start_time": "2022-08-12T07:33:54.694Z"
   },
   {
    "duration": 4,
    "start_time": "2022-08-12T07:33:54.701Z"
   },
   {
    "duration": 7,
    "start_time": "2022-08-12T07:33:54.706Z"
   },
   {
    "duration": 15,
    "start_time": "2022-08-12T07:39:46.274Z"
   },
   {
    "duration": 472,
    "start_time": "2022-08-12T08:02:02.831Z"
   },
   {
    "duration": 21,
    "start_time": "2022-08-12T08:02:03.305Z"
   },
   {
    "duration": 15,
    "start_time": "2022-08-12T08:02:03.328Z"
   },
   {
    "duration": 8,
    "start_time": "2022-08-12T08:02:03.345Z"
   },
   {
    "duration": 48,
    "start_time": "2022-08-12T08:02:03.355Z"
   },
   {
    "duration": 3,
    "start_time": "2022-08-12T08:02:03.405Z"
   },
   {
    "duration": 10,
    "start_time": "2022-08-12T08:02:03.409Z"
   },
   {
    "duration": 5,
    "start_time": "2022-08-12T08:02:03.420Z"
   },
   {
    "duration": 9,
    "start_time": "2022-08-12T08:02:03.426Z"
   },
   {
    "duration": 5,
    "start_time": "2022-08-12T08:02:03.436Z"
   },
   {
    "duration": 55,
    "start_time": "2022-08-12T08:02:03.443Z"
   },
   {
    "duration": 8,
    "start_time": "2022-08-12T08:02:03.500Z"
   },
   {
    "duration": 5,
    "start_time": "2022-08-12T08:02:03.510Z"
   },
   {
    "duration": 13,
    "start_time": "2022-08-12T08:02:03.518Z"
   },
   {
    "duration": 21,
    "start_time": "2022-08-12T08:02:03.532Z"
   },
   {
    "duration": 32,
    "start_time": "2022-08-12T08:02:03.555Z"
   },
   {
    "duration": 4,
    "start_time": "2022-08-12T08:02:03.588Z"
   },
   {
    "duration": 13,
    "start_time": "2022-08-12T08:02:03.593Z"
   },
   {
    "duration": 6,
    "start_time": "2022-08-12T08:02:03.607Z"
   },
   {
    "duration": 4,
    "start_time": "2022-08-12T08:02:03.615Z"
   },
   {
    "duration": 10,
    "start_time": "2022-08-12T08:02:03.621Z"
   },
   {
    "duration": 11,
    "start_time": "2022-08-12T08:02:03.633Z"
   },
   {
    "duration": 45,
    "start_time": "2022-08-12T08:02:03.646Z"
   },
   {
    "duration": 2,
    "start_time": "2022-08-12T08:02:03.693Z"
   },
   {
    "duration": 14,
    "start_time": "2022-08-12T08:02:03.696Z"
   },
   {
    "duration": 10,
    "start_time": "2022-08-12T08:02:03.711Z"
   },
   {
    "duration": 8,
    "start_time": "2022-08-12T08:02:03.722Z"
   },
   {
    "duration": 13,
    "start_time": "2022-08-12T08:02:03.732Z"
   },
   {
    "duration": 13,
    "start_time": "2022-08-12T08:02:09.158Z"
   },
   {
    "duration": 13,
    "start_time": "2022-08-12T08:02:23.229Z"
   },
   {
    "duration": 2194,
    "start_time": "2022-08-12T08:02:35.179Z"
   },
   {
    "duration": 14,
    "start_time": "2022-08-12T08:02:49.657Z"
   },
   {
    "duration": 14,
    "start_time": "2022-08-12T08:02:53.577Z"
   },
   {
    "duration": 15,
    "start_time": "2022-08-12T08:02:55.739Z"
   },
   {
    "duration": 14,
    "start_time": "2022-08-12T08:05:41.699Z"
   },
   {
    "duration": 0,
    "start_time": "2022-08-12T08:06:07.690Z"
   },
   {
    "duration": 504,
    "start_time": "2022-08-12T08:06:19.199Z"
   },
   {
    "duration": 30,
    "start_time": "2022-08-12T08:06:19.705Z"
   },
   {
    "duration": 15,
    "start_time": "2022-08-12T08:06:19.737Z"
   },
   {
    "duration": 10,
    "start_time": "2022-08-12T08:06:19.753Z"
   },
   {
    "duration": 71,
    "start_time": "2022-08-12T08:06:19.765Z"
   },
   {
    "duration": 4,
    "start_time": "2022-08-12T08:06:19.838Z"
   },
   {
    "duration": 11,
    "start_time": "2022-08-12T08:06:19.843Z"
   },
   {
    "duration": 4,
    "start_time": "2022-08-12T08:06:19.856Z"
   },
   {
    "duration": 27,
    "start_time": "2022-08-12T08:06:19.861Z"
   },
   {
    "duration": 13,
    "start_time": "2022-08-12T08:06:19.890Z"
   },
   {
    "duration": 46,
    "start_time": "2022-08-12T08:06:19.905Z"
   },
   {
    "duration": 9,
    "start_time": "2022-08-12T08:06:19.953Z"
   },
   {
    "duration": 5,
    "start_time": "2022-08-12T08:06:19.964Z"
   },
   {
    "duration": 17,
    "start_time": "2022-08-12T08:06:19.993Z"
   },
   {
    "duration": 31,
    "start_time": "2022-08-12T08:06:20.012Z"
   },
   {
    "duration": 18,
    "start_time": "2022-08-12T08:06:20.044Z"
   },
   {
    "duration": 3,
    "start_time": "2022-08-12T08:06:20.064Z"
   },
   {
    "duration": 25,
    "start_time": "2022-08-12T08:06:20.069Z"
   },
   {
    "duration": 8,
    "start_time": "2022-08-12T08:06:20.096Z"
   },
   {
    "duration": 11,
    "start_time": "2022-08-12T08:06:20.106Z"
   },
   {
    "duration": 24,
    "start_time": "2022-08-12T08:06:20.119Z"
   },
   {
    "duration": 14,
    "start_time": "2022-08-12T08:06:20.144Z"
   },
   {
    "duration": 20,
    "start_time": "2022-08-12T08:06:20.160Z"
   },
   {
    "duration": 6,
    "start_time": "2022-08-12T08:06:20.181Z"
   },
   {
    "duration": 840,
    "start_time": "2022-08-12T08:06:20.189Z"
   },
   {
    "duration": 0,
    "start_time": "2022-08-12T08:06:21.031Z"
   },
   {
    "duration": 0,
    "start_time": "2022-08-12T08:06:21.033Z"
   },
   {
    "duration": 0,
    "start_time": "2022-08-12T08:06:21.035Z"
   },
   {
    "duration": 11,
    "start_time": "2022-08-12T08:06:38.799Z"
   },
   {
    "duration": 13,
    "start_time": "2022-08-12T08:06:41.069Z"
   },
   {
    "duration": 14,
    "start_time": "2022-08-12T08:06:44.399Z"
   },
   {
    "duration": 16,
    "start_time": "2022-08-12T08:07:08.388Z"
   },
   {
    "duration": 12,
    "start_time": "2022-08-12T08:07:11.548Z"
   },
   {
    "duration": 14,
    "start_time": "2022-08-12T08:07:12.919Z"
   },
   {
    "duration": 12,
    "start_time": "2022-08-12T08:19:00.260Z"
   },
   {
    "duration": 1355,
    "start_time": "2022-08-12T08:19:13.341Z"
   },
   {
    "duration": 868,
    "start_time": "2022-08-12T08:19:15.271Z"
   },
   {
    "duration": 14,
    "start_time": "2022-08-12T08:19:25.490Z"
   },
   {
    "duration": 14,
    "start_time": "2022-08-12T08:19:27.703Z"
   },
   {
    "duration": 14,
    "start_time": "2022-08-12T08:19:30.131Z"
   },
   {
    "duration": 13,
    "start_time": "2022-08-12T08:19:39.826Z"
   },
   {
    "duration": 13,
    "start_time": "2022-08-12T08:19:50.501Z"
   },
   {
    "duration": 15,
    "start_time": "2022-08-12T08:22:08.022Z"
   },
   {
    "duration": 14,
    "start_time": "2022-08-12T08:24:43.391Z"
   },
   {
    "duration": 15,
    "start_time": "2022-08-12T08:24:49.631Z"
   },
   {
    "duration": 601,
    "start_time": "2022-08-12T12:42:06.463Z"
   },
   {
    "duration": 23,
    "start_time": "2022-08-12T12:42:07.067Z"
   },
   {
    "duration": 17,
    "start_time": "2022-08-12T12:42:07.092Z"
   },
   {
    "duration": 10,
    "start_time": "2022-08-12T12:42:07.111Z"
   },
   {
    "duration": 41,
    "start_time": "2022-08-12T12:42:07.123Z"
   },
   {
    "duration": 27,
    "start_time": "2022-08-12T12:42:07.166Z"
   },
   {
    "duration": 21,
    "start_time": "2022-08-12T12:42:07.194Z"
   },
   {
    "duration": 14,
    "start_time": "2022-08-12T12:42:07.217Z"
   },
   {
    "duration": 11,
    "start_time": "2022-08-12T12:42:07.233Z"
   },
   {
    "duration": 6,
    "start_time": "2022-08-12T12:42:07.246Z"
   },
   {
    "duration": 49,
    "start_time": "2022-08-12T12:42:07.254Z"
   },
   {
    "duration": 10,
    "start_time": "2022-08-12T12:42:07.305Z"
   },
   {
    "duration": 14,
    "start_time": "2022-08-12T12:42:07.317Z"
   },
   {
    "duration": 26,
    "start_time": "2022-08-12T12:42:07.333Z"
   },
   {
    "duration": 42,
    "start_time": "2022-08-12T12:42:07.361Z"
   },
   {
    "duration": 19,
    "start_time": "2022-08-12T12:42:07.405Z"
   },
   {
    "duration": 7,
    "start_time": "2022-08-12T12:42:07.426Z"
   },
   {
    "duration": 29,
    "start_time": "2022-08-12T12:42:07.435Z"
   },
   {
    "duration": 16,
    "start_time": "2022-08-12T12:42:07.466Z"
   },
   {
    "duration": 11,
    "start_time": "2022-08-12T12:42:07.484Z"
   },
   {
    "duration": 30,
    "start_time": "2022-08-12T12:42:07.496Z"
   },
   {
    "duration": 22,
    "start_time": "2022-08-12T12:42:07.528Z"
   },
   {
    "duration": 36,
    "start_time": "2022-08-12T12:42:07.553Z"
   },
   {
    "duration": 3,
    "start_time": "2022-08-12T12:42:07.591Z"
   },
   {
    "duration": 45,
    "start_time": "2022-08-12T12:42:07.595Z"
   },
   {
    "duration": 18,
    "start_time": "2022-08-12T12:42:07.642Z"
   },
   {
    "duration": 5,
    "start_time": "2022-08-12T12:42:07.662Z"
   },
   {
    "duration": 12,
    "start_time": "2022-08-12T12:42:07.668Z"
   },
   {
    "duration": 87,
    "start_time": "2022-08-12T12:42:07.682Z"
   },
   {
    "duration": 19,
    "start_time": "2022-08-12T12:42:28.301Z"
   },
   {
    "duration": 15,
    "start_time": "2022-08-12T12:42:32.485Z"
   },
   {
    "duration": 10,
    "start_time": "2022-08-12T12:42:54.923Z"
   },
   {
    "duration": 14,
    "start_time": "2022-08-12T12:43:32.130Z"
   },
   {
    "duration": 23,
    "start_time": "2022-08-12T12:43:50.739Z"
   },
   {
    "duration": 22,
    "start_time": "2022-08-12T12:43:58.324Z"
   },
   {
    "duration": 14,
    "start_time": "2022-08-12T13:00:52.165Z"
   },
   {
    "duration": 20,
    "start_time": "2022-08-12T13:00:54.951Z"
   },
   {
    "duration": 22,
    "start_time": "2022-08-12T13:01:54.069Z"
   },
   {
    "duration": 14,
    "start_time": "2022-08-12T13:02:12.220Z"
   },
   {
    "duration": 19,
    "start_time": "2022-08-12T13:02:52.416Z"
   },
   {
    "duration": 23,
    "start_time": "2022-08-12T13:04:19.163Z"
   },
   {
    "duration": 30,
    "start_time": "2022-08-12T13:05:09.788Z"
   },
   {
    "duration": 29,
    "start_time": "2022-08-12T13:05:22.176Z"
   },
   {
    "duration": 20,
    "start_time": "2022-08-12T13:06:28.893Z"
   },
   {
    "duration": 29,
    "start_time": "2022-08-12T13:06:41.733Z"
   },
   {
    "duration": 29,
    "start_time": "2022-08-12T13:07:10.651Z"
   },
   {
    "duration": 14,
    "start_time": "2022-08-12T13:07:15.447Z"
   },
   {
    "duration": 83,
    "start_time": "2022-08-12T13:27:01.454Z"
   },
   {
    "duration": 20,
    "start_time": "2022-08-12T13:27:20.611Z"
   },
   {
    "duration": 22,
    "start_time": "2022-08-12T13:27:44.968Z"
   },
   {
    "duration": 24,
    "start_time": "2022-08-12T13:28:52.117Z"
   },
   {
    "duration": 23,
    "start_time": "2022-08-12T13:29:08.312Z"
   },
   {
    "duration": 22,
    "start_time": "2022-08-12T13:29:15.119Z"
   },
   {
    "duration": 18,
    "start_time": "2022-08-12T13:29:28.867Z"
   },
   {
    "duration": 12,
    "start_time": "2022-08-12T13:29:36.509Z"
   },
   {
    "duration": 14,
    "start_time": "2022-08-12T13:32:13.339Z"
   },
   {
    "duration": 18,
    "start_time": "2022-08-12T13:32:24.133Z"
   },
   {
    "duration": 79,
    "start_time": "2022-08-12T13:32:30.012Z"
   },
   {
    "duration": 525,
    "start_time": "2022-08-12T13:32:40.378Z"
   },
   {
    "duration": 26,
    "start_time": "2022-08-12T13:32:40.906Z"
   },
   {
    "duration": 17,
    "start_time": "2022-08-12T13:32:40.933Z"
   },
   {
    "duration": 11,
    "start_time": "2022-08-12T13:32:40.953Z"
   },
   {
    "duration": 62,
    "start_time": "2022-08-12T13:32:40.966Z"
   },
   {
    "duration": 5,
    "start_time": "2022-08-12T13:32:41.030Z"
   },
   {
    "duration": 26,
    "start_time": "2022-08-12T13:32:41.037Z"
   },
   {
    "duration": 30,
    "start_time": "2022-08-12T13:32:41.065Z"
   },
   {
    "duration": 13,
    "start_time": "2022-08-12T13:32:41.097Z"
   },
   {
    "duration": 12,
    "start_time": "2022-08-12T13:32:41.114Z"
   },
   {
    "duration": 47,
    "start_time": "2022-08-12T13:32:41.128Z"
   },
   {
    "duration": 16,
    "start_time": "2022-08-12T13:32:41.177Z"
   },
   {
    "duration": 7,
    "start_time": "2022-08-12T13:32:41.195Z"
   },
   {
    "duration": 23,
    "start_time": "2022-08-12T13:32:41.204Z"
   },
   {
    "duration": 30,
    "start_time": "2022-08-12T13:32:41.230Z"
   },
   {
    "duration": 46,
    "start_time": "2022-08-12T13:32:41.261Z"
   },
   {
    "duration": 4,
    "start_time": "2022-08-12T13:32:41.309Z"
   },
   {
    "duration": 19,
    "start_time": "2022-08-12T13:32:41.315Z"
   },
   {
    "duration": 17,
    "start_time": "2022-08-12T13:32:41.336Z"
   },
   {
    "duration": 10,
    "start_time": "2022-08-12T13:32:41.355Z"
   },
   {
    "duration": 29,
    "start_time": "2022-08-12T13:32:41.367Z"
   },
   {
    "duration": 23,
    "start_time": "2022-08-12T13:32:41.398Z"
   },
   {
    "duration": 29,
    "start_time": "2022-08-12T13:32:41.424Z"
   },
   {
    "duration": 14,
    "start_time": "2022-08-12T13:32:41.454Z"
   },
   {
    "duration": 18,
    "start_time": "2022-08-12T13:32:41.471Z"
   },
   {
    "duration": 11,
    "start_time": "2022-08-12T13:32:41.492Z"
   },
   {
    "duration": 13,
    "start_time": "2022-08-12T13:32:41.505Z"
   },
   {
    "duration": 20,
    "start_time": "2022-08-12T13:32:48.909Z"
   },
   {
    "duration": 22,
    "start_time": "2022-08-12T13:32:52.423Z"
   },
   {
    "duration": 92,
    "start_time": "2022-08-12T13:33:05.599Z"
   },
   {
    "duration": 11,
    "start_time": "2022-08-12T13:33:13.251Z"
   },
   {
    "duration": 17,
    "start_time": "2022-08-12T13:33:21.308Z"
   },
   {
    "duration": 17,
    "start_time": "2022-08-12T13:33:26.823Z"
   },
   {
    "duration": 532,
    "start_time": "2022-08-12T13:33:49.583Z"
   },
   {
    "duration": 26,
    "start_time": "2022-08-12T13:33:50.118Z"
   },
   {
    "duration": 16,
    "start_time": "2022-08-12T13:33:50.146Z"
   },
   {
    "duration": 30,
    "start_time": "2022-08-12T13:33:50.165Z"
   },
   {
    "duration": 38,
    "start_time": "2022-08-12T13:33:50.197Z"
   },
   {
    "duration": 3,
    "start_time": "2022-08-12T13:33:50.237Z"
   },
   {
    "duration": 14,
    "start_time": "2022-08-12T13:33:50.242Z"
   },
   {
    "duration": 34,
    "start_time": "2022-08-12T13:33:50.259Z"
   },
   {
    "duration": 7,
    "start_time": "2022-08-12T13:33:50.295Z"
   },
   {
    "duration": 6,
    "start_time": "2022-08-12T13:33:50.306Z"
   },
   {
    "duration": 40,
    "start_time": "2022-08-12T13:33:50.313Z"
   },
   {
    "duration": 37,
    "start_time": "2022-08-12T13:33:50.355Z"
   },
   {
    "duration": 4,
    "start_time": "2022-08-12T13:33:50.394Z"
   },
   {
    "duration": 18,
    "start_time": "2022-08-12T13:33:50.400Z"
   },
   {
    "duration": 23,
    "start_time": "2022-08-12T13:33:50.420Z"
   },
   {
    "duration": 20,
    "start_time": "2022-08-12T13:33:50.445Z"
   },
   {
    "duration": 26,
    "start_time": "2022-08-12T13:33:50.467Z"
   },
   {
    "duration": 17,
    "start_time": "2022-08-12T13:33:50.495Z"
   },
   {
    "duration": 13,
    "start_time": "2022-08-12T13:33:50.514Z"
   },
   {
    "duration": 4,
    "start_time": "2022-08-12T13:33:50.529Z"
   },
   {
    "duration": 14,
    "start_time": "2022-08-12T13:33:50.534Z"
   },
   {
    "duration": 18,
    "start_time": "2022-08-12T13:33:50.550Z"
   },
   {
    "duration": 45,
    "start_time": "2022-08-12T13:33:50.570Z"
   },
   {
    "duration": 14,
    "start_time": "2022-08-12T13:33:50.616Z"
   },
   {
    "duration": 3,
    "start_time": "2022-08-12T13:33:50.631Z"
   },
   {
    "duration": 6,
    "start_time": "2022-08-12T13:33:50.636Z"
   },
   {
    "duration": 6,
    "start_time": "2022-08-12T13:33:50.643Z"
   },
   {
    "duration": 18,
    "start_time": "2022-08-12T13:33:56.283Z"
   },
   {
    "duration": 19,
    "start_time": "2022-08-12T13:33:58.328Z"
   },
   {
    "duration": 20,
    "start_time": "2022-08-12T13:34:00.196Z"
   },
   {
    "duration": 20,
    "start_time": "2022-08-12T13:34:03.028Z"
   },
   {
    "duration": 14,
    "start_time": "2022-08-12T13:34:05.895Z"
   },
   {
    "duration": 85,
    "start_time": "2022-08-12T13:34:11.854Z"
   },
   {
    "duration": 22,
    "start_time": "2022-08-12T13:34:15.443Z"
   },
   {
    "duration": 16,
    "start_time": "2022-08-12T13:34:18.774Z"
   },
   {
    "duration": 11,
    "start_time": "2022-08-12T13:34:22.407Z"
   },
   {
    "duration": 493,
    "start_time": "2022-08-12T13:34:37.329Z"
   },
   {
    "duration": 24,
    "start_time": "2022-08-12T13:34:37.824Z"
   },
   {
    "duration": 16,
    "start_time": "2022-08-12T13:34:37.850Z"
   },
   {
    "duration": 25,
    "start_time": "2022-08-12T13:34:37.869Z"
   },
   {
    "duration": 37,
    "start_time": "2022-08-12T13:34:37.896Z"
   },
   {
    "duration": 4,
    "start_time": "2022-08-12T13:34:37.935Z"
   },
   {
    "duration": 21,
    "start_time": "2022-08-12T13:34:37.941Z"
   },
   {
    "duration": 13,
    "start_time": "2022-08-12T13:34:37.964Z"
   },
   {
    "duration": 10,
    "start_time": "2022-08-12T13:34:37.993Z"
   },
   {
    "duration": 6,
    "start_time": "2022-08-12T13:34:38.007Z"
   },
   {
    "duration": 40,
    "start_time": "2022-08-12T13:34:38.015Z"
   },
   {
    "duration": 10,
    "start_time": "2022-08-12T13:34:38.057Z"
   },
   {
    "duration": 26,
    "start_time": "2022-08-12T13:34:38.069Z"
   },
   {
    "duration": 15,
    "start_time": "2022-08-12T13:34:38.097Z"
   },
   {
    "duration": 26,
    "start_time": "2022-08-12T13:34:38.114Z"
   },
   {
    "duration": 18,
    "start_time": "2022-08-12T13:34:38.142Z"
   },
   {
    "duration": 4,
    "start_time": "2022-08-12T13:34:38.162Z"
   },
   {
    "duration": 29,
    "start_time": "2022-08-12T13:34:38.168Z"
   },
   {
    "duration": 10,
    "start_time": "2022-08-12T13:34:38.199Z"
   },
   {
    "duration": 3,
    "start_time": "2022-08-12T13:34:38.211Z"
   },
   {
    "duration": 17,
    "start_time": "2022-08-12T13:34:38.215Z"
   },
   {
    "duration": 13,
    "start_time": "2022-08-12T13:34:38.234Z"
   },
   {
    "duration": 46,
    "start_time": "2022-08-12T13:34:38.249Z"
   },
   {
    "duration": 12,
    "start_time": "2022-08-12T13:34:38.297Z"
   },
   {
    "duration": 8,
    "start_time": "2022-08-12T13:34:38.311Z"
   },
   {
    "duration": 19,
    "start_time": "2022-08-12T13:34:38.320Z"
   },
   {
    "duration": 6,
    "start_time": "2022-08-12T13:34:38.341Z"
   },
   {
    "duration": 46,
    "start_time": "2022-08-12T15:20:45.837Z"
   },
   {
    "duration": 716,
    "start_time": "2022-08-12T15:20:49.604Z"
   },
   {
    "duration": 20,
    "start_time": "2022-08-12T15:20:50.322Z"
   },
   {
    "duration": 14,
    "start_time": "2022-08-12T15:20:50.344Z"
   },
   {
    "duration": 9,
    "start_time": "2022-08-12T15:20:50.360Z"
   },
   {
    "duration": 47,
    "start_time": "2022-08-12T15:20:50.372Z"
   },
   {
    "duration": 3,
    "start_time": "2022-08-12T15:20:50.421Z"
   },
   {
    "duration": 11,
    "start_time": "2022-08-12T15:20:50.425Z"
   },
   {
    "duration": 10,
    "start_time": "2022-08-12T15:20:50.437Z"
   },
   {
    "duration": 21,
    "start_time": "2022-08-12T15:20:50.449Z"
   },
   {
    "duration": 13,
    "start_time": "2022-08-12T15:20:50.471Z"
   },
   {
    "duration": 51,
    "start_time": "2022-08-12T15:20:50.486Z"
   },
   {
    "duration": 9,
    "start_time": "2022-08-12T15:20:50.539Z"
   },
   {
    "duration": 32,
    "start_time": "2022-08-12T15:20:50.549Z"
   },
   {
    "duration": 21,
    "start_time": "2022-08-12T15:20:50.583Z"
   },
   {
    "duration": 49,
    "start_time": "2022-08-12T15:20:50.605Z"
   },
   {
    "duration": 25,
    "start_time": "2022-08-12T15:20:50.655Z"
   },
   {
    "duration": 20,
    "start_time": "2022-08-12T15:20:50.682Z"
   },
   {
    "duration": 36,
    "start_time": "2022-08-12T15:20:50.703Z"
   },
   {
    "duration": 26,
    "start_time": "2022-08-12T15:20:50.740Z"
   },
   {
    "duration": 14,
    "start_time": "2022-08-12T15:20:50.768Z"
   },
   {
    "duration": 44,
    "start_time": "2022-08-12T15:20:50.784Z"
   },
   {
    "duration": 32,
    "start_time": "2022-08-12T15:20:50.830Z"
   },
   {
    "duration": 25,
    "start_time": "2022-08-12T15:20:50.864Z"
   },
   {
    "duration": 35,
    "start_time": "2022-08-12T15:20:50.890Z"
   },
   {
    "duration": 10,
    "start_time": "2022-08-12T15:20:50.926Z"
   },
   {
    "duration": 9,
    "start_time": "2022-08-12T15:20:50.937Z"
   },
   {
    "duration": 27,
    "start_time": "2022-08-12T15:22:26.915Z"
   },
   {
    "duration": 10,
    "start_time": "2022-08-12T15:22:33.783Z"
   },
   {
    "duration": 16,
    "start_time": "2022-08-12T15:22:46.117Z"
   },
   {
    "duration": 17,
    "start_time": "2022-08-12T15:23:31.196Z"
   },
   {
    "duration": 19,
    "start_time": "2022-08-12T15:23:45.539Z"
   },
   {
    "duration": 14,
    "start_time": "2022-08-12T15:25:53.637Z"
   },
   {
    "duration": 16,
    "start_time": "2022-08-12T15:26:46.329Z"
   },
   {
    "duration": 58,
    "start_time": "2022-08-12T15:27:04.326Z"
   },
   {
    "duration": 15,
    "start_time": "2022-08-12T15:27:21.155Z"
   },
   {
    "duration": 14,
    "start_time": "2022-08-12T15:27:26.352Z"
   },
   {
    "duration": 11,
    "start_time": "2022-08-12T15:47:36.764Z"
   },
   {
    "duration": 11,
    "start_time": "2022-08-12T15:50:19.922Z"
   },
   {
    "duration": 14,
    "start_time": "2022-08-12T15:50:29.799Z"
   },
   {
    "duration": 21,
    "start_time": "2022-08-12T15:54:49.173Z"
   },
   {
    "duration": 15,
    "start_time": "2022-08-12T15:54:58.223Z"
   },
   {
    "duration": 18,
    "start_time": "2022-08-12T15:55:05.976Z"
   },
   {
    "duration": 16,
    "start_time": "2022-08-12T15:55:15.997Z"
   },
   {
    "duration": 12,
    "start_time": "2022-08-12T15:57:29.692Z"
   },
   {
    "duration": 11,
    "start_time": "2022-08-12T15:59:46.215Z"
   },
   {
    "duration": 14,
    "start_time": "2022-08-12T15:59:55.086Z"
   },
   {
    "duration": 27,
    "start_time": "2022-08-12T16:00:51.178Z"
   },
   {
    "duration": 48,
    "start_time": "2022-08-12T16:01:11.784Z"
   },
   {
    "duration": 58,
    "start_time": "2022-08-12T16:01:22.023Z"
   },
   {
    "duration": 27,
    "start_time": "2022-08-12T16:01:25.161Z"
   },
   {
    "duration": 13,
    "start_time": "2022-08-12T16:01:33.819Z"
   },
   {
    "duration": 59,
    "start_time": "2022-08-12T17:02:24.673Z"
   },
   {
    "duration": 494,
    "start_time": "2022-08-12T17:28:51.000Z"
   },
   {
    "duration": 29,
    "start_time": "2022-08-12T17:28:51.496Z"
   },
   {
    "duration": 16,
    "start_time": "2022-08-12T17:28:51.526Z"
   },
   {
    "duration": 9,
    "start_time": "2022-08-12T17:28:51.543Z"
   },
   {
    "duration": 35,
    "start_time": "2022-08-12T17:28:51.554Z"
   },
   {
    "duration": 22,
    "start_time": "2022-08-12T17:28:51.591Z"
   },
   {
    "duration": 29,
    "start_time": "2022-08-12T17:28:51.615Z"
   },
   {
    "duration": 8,
    "start_time": "2022-08-12T17:28:51.645Z"
   },
   {
    "duration": 9,
    "start_time": "2022-08-12T17:28:51.654Z"
   },
   {
    "duration": 4,
    "start_time": "2022-08-12T17:28:51.664Z"
   },
   {
    "duration": 39,
    "start_time": "2022-08-12T17:28:51.670Z"
   },
   {
    "duration": 13,
    "start_time": "2022-08-12T17:28:51.711Z"
   },
   {
    "duration": 14,
    "start_time": "2022-08-12T17:28:51.730Z"
   },
   {
    "duration": 12,
    "start_time": "2022-08-12T17:28:51.747Z"
   },
   {
    "duration": 19,
    "start_time": "2022-08-12T17:28:51.760Z"
   },
   {
    "duration": 27,
    "start_time": "2022-08-12T17:28:51.782Z"
   },
   {
    "duration": 8,
    "start_time": "2022-08-12T17:28:51.812Z"
   },
   {
    "duration": 19,
    "start_time": "2022-08-12T17:28:51.827Z"
   },
   {
    "duration": 8,
    "start_time": "2022-08-12T17:28:51.848Z"
   },
   {
    "duration": 4,
    "start_time": "2022-08-12T17:28:51.858Z"
   },
   {
    "duration": 11,
    "start_time": "2022-08-12T17:28:51.864Z"
   },
   {
    "duration": 36,
    "start_time": "2022-08-12T17:28:51.876Z"
   },
   {
    "duration": 11,
    "start_time": "2022-08-12T17:28:51.915Z"
   },
   {
    "duration": 19,
    "start_time": "2022-08-12T17:28:51.928Z"
   },
   {
    "duration": 11,
    "start_time": "2022-08-12T17:28:51.948Z"
   },
   {
    "duration": 14,
    "start_time": "2022-08-12T17:28:51.961Z"
   },
   {
    "duration": 456,
    "start_time": "2022-08-12T17:33:03.923Z"
   },
   {
    "duration": 22,
    "start_time": "2022-08-12T17:33:04.381Z"
   },
   {
    "duration": 15,
    "start_time": "2022-08-12T17:33:04.404Z"
   },
   {
    "duration": 13,
    "start_time": "2022-08-12T17:33:04.421Z"
   },
   {
    "duration": 32,
    "start_time": "2022-08-12T17:33:04.436Z"
   },
   {
    "duration": 3,
    "start_time": "2022-08-12T17:33:04.470Z"
   },
   {
    "duration": 19,
    "start_time": "2022-08-12T17:33:04.474Z"
   },
   {
    "duration": 15,
    "start_time": "2022-08-12T17:33:04.495Z"
   },
   {
    "duration": 15,
    "start_time": "2022-08-12T17:33:04.511Z"
   },
   {
    "duration": 4,
    "start_time": "2022-08-12T17:33:04.528Z"
   },
   {
    "duration": 35,
    "start_time": "2022-08-12T17:33:04.533Z"
   },
   {
    "duration": 10,
    "start_time": "2022-08-12T17:33:04.569Z"
   },
   {
    "duration": 11,
    "start_time": "2022-08-12T17:33:04.580Z"
   },
   {
    "duration": 32,
    "start_time": "2022-08-12T17:33:04.593Z"
   },
   {
    "duration": 19,
    "start_time": "2022-08-12T17:33:04.627Z"
   },
   {
    "duration": 15,
    "start_time": "2022-08-12T17:33:04.647Z"
   },
   {
    "duration": 4,
    "start_time": "2022-08-12T17:33:04.663Z"
   },
   {
    "duration": 17,
    "start_time": "2022-08-12T17:33:04.668Z"
   },
   {
    "duration": 9,
    "start_time": "2022-08-12T17:33:04.687Z"
   },
   {
    "duration": 3,
    "start_time": "2022-08-12T17:33:04.709Z"
   },
   {
    "duration": 12,
    "start_time": "2022-08-12T17:33:04.714Z"
   },
   {
    "duration": 22,
    "start_time": "2022-08-12T17:33:04.728Z"
   },
   {
    "duration": 11,
    "start_time": "2022-08-12T17:33:04.752Z"
   },
   {
    "duration": 43,
    "start_time": "2022-08-12T17:33:04.766Z"
   },
   {
    "duration": 16,
    "start_time": "2022-08-12T17:33:04.810Z"
   },
   {
    "duration": 13,
    "start_time": "2022-08-12T17:33:04.827Z"
   },
   {
    "duration": 459,
    "start_time": "2022-08-13T13:29:24.544Z"
   },
   {
    "duration": 32,
    "start_time": "2022-08-13T13:29:25.006Z"
   },
   {
    "duration": 18,
    "start_time": "2022-08-13T13:29:25.040Z"
   },
   {
    "duration": 13,
    "start_time": "2022-08-13T13:29:25.060Z"
   },
   {
    "duration": 73,
    "start_time": "2022-08-13T13:29:25.076Z"
   },
   {
    "duration": 5,
    "start_time": "2022-08-13T13:29:25.151Z"
   },
   {
    "duration": 15,
    "start_time": "2022-08-13T13:29:25.157Z"
   },
   {
    "duration": 4,
    "start_time": "2022-08-13T13:29:25.174Z"
   },
   {
    "duration": 44,
    "start_time": "2022-08-13T13:29:25.179Z"
   },
   {
    "duration": 6,
    "start_time": "2022-08-13T13:29:25.225Z"
   },
   {
    "duration": 56,
    "start_time": "2022-08-13T13:29:25.233Z"
   },
   {
    "duration": 18,
    "start_time": "2022-08-13T13:29:25.291Z"
   },
   {
    "duration": 5,
    "start_time": "2022-08-13T13:29:25.310Z"
   },
   {
    "duration": 12,
    "start_time": "2022-08-13T13:29:25.319Z"
   },
   {
    "duration": 33,
    "start_time": "2022-08-13T13:29:25.334Z"
   },
   {
    "duration": 41,
    "start_time": "2022-08-13T13:29:25.370Z"
   },
   {
    "duration": 4,
    "start_time": "2022-08-13T13:29:25.413Z"
   },
   {
    "duration": 18,
    "start_time": "2022-08-13T13:29:25.418Z"
   },
   {
    "duration": 9,
    "start_time": "2022-08-13T13:29:25.438Z"
   },
   {
    "duration": 4,
    "start_time": "2022-08-13T13:29:25.448Z"
   },
   {
    "duration": 11,
    "start_time": "2022-08-13T13:29:25.454Z"
   },
   {
    "duration": 59,
    "start_time": "2022-08-13T13:29:25.467Z"
   },
   {
    "duration": 16,
    "start_time": "2022-08-13T13:29:25.528Z"
   },
   {
    "duration": 16,
    "start_time": "2022-08-13T13:29:25.546Z"
   },
   {
    "duration": 47,
    "start_time": "2022-08-13T13:29:25.564Z"
   },
   {
    "duration": 17,
    "start_time": "2022-08-13T13:29:25.613Z"
   },
   {
    "duration": 82,
    "start_time": "2022-08-19T17:33:19.848Z"
   },
   {
    "duration": 75,
    "start_time": "2022-08-19T17:33:32.271Z"
   },
   {
    "duration": 522,
    "start_time": "2022-08-19T17:56:43.999Z"
   },
   {
    "duration": 20,
    "start_time": "2022-08-19T17:56:44.523Z"
   },
   {
    "duration": 12,
    "start_time": "2022-08-19T17:56:44.544Z"
   },
   {
    "duration": 11,
    "start_time": "2022-08-19T17:56:44.559Z"
   },
   {
    "duration": 34,
    "start_time": "2022-08-19T17:56:44.572Z"
   },
   {
    "duration": 3,
    "start_time": "2022-08-19T17:56:44.607Z"
   },
   {
    "duration": 14,
    "start_time": "2022-08-19T17:56:44.612Z"
   },
   {
    "duration": 5,
    "start_time": "2022-08-19T17:56:44.627Z"
   },
   {
    "duration": 9,
    "start_time": "2022-08-19T17:56:44.633Z"
   },
   {
    "duration": 6,
    "start_time": "2022-08-19T17:56:44.646Z"
   },
   {
    "duration": 35,
    "start_time": "2022-08-19T17:56:44.653Z"
   },
   {
    "duration": 23,
    "start_time": "2022-08-19T17:56:44.689Z"
   },
   {
    "duration": 4,
    "start_time": "2022-08-19T17:56:44.713Z"
   },
   {
    "duration": 13,
    "start_time": "2022-08-19T17:56:44.719Z"
   },
   {
    "duration": 21,
    "start_time": "2022-08-19T17:56:44.734Z"
   },
   {
    "duration": 14,
    "start_time": "2022-08-19T17:56:44.757Z"
   },
   {
    "duration": 3,
    "start_time": "2022-08-19T17:56:44.773Z"
   },
   {
    "duration": 34,
    "start_time": "2022-08-19T17:56:44.777Z"
   },
   {
    "duration": 8,
    "start_time": "2022-08-19T17:56:44.813Z"
   },
   {
    "duration": 4,
    "start_time": "2022-08-19T17:56:44.822Z"
   },
   {
    "duration": 13,
    "start_time": "2022-08-19T17:56:44.827Z"
   },
   {
    "duration": 19,
    "start_time": "2022-08-19T17:56:44.841Z"
   },
   {
    "duration": 11,
    "start_time": "2022-08-19T17:56:44.861Z"
   },
   {
    "duration": 41,
    "start_time": "2022-08-19T17:56:44.873Z"
   },
   {
    "duration": 12,
    "start_time": "2022-08-19T17:56:44.916Z"
   },
   {
    "duration": 12,
    "start_time": "2022-08-19T17:56:44.929Z"
   },
   {
    "duration": 452,
    "start_time": "2022-08-19T17:57:02.001Z"
   },
   {
    "duration": 20,
    "start_time": "2022-08-19T17:57:02.455Z"
   },
   {
    "duration": 14,
    "start_time": "2022-08-19T17:57:02.477Z"
   },
   {
    "duration": 17,
    "start_time": "2022-08-19T17:57:02.493Z"
   },
   {
    "duration": 36,
    "start_time": "2022-08-19T17:57:02.511Z"
   },
   {
    "duration": 3,
    "start_time": "2022-08-19T17:57:02.548Z"
   },
   {
    "duration": 9,
    "start_time": "2022-08-19T17:57:02.553Z"
   },
   {
    "duration": 4,
    "start_time": "2022-08-19T17:57:02.564Z"
   },
   {
    "duration": 16,
    "start_time": "2022-08-19T17:57:02.570Z"
   },
   {
    "duration": 17,
    "start_time": "2022-08-19T17:57:02.589Z"
   },
   {
    "duration": 28,
    "start_time": "2022-08-19T17:57:02.607Z"
   },
   {
    "duration": 8,
    "start_time": "2022-08-19T17:57:02.637Z"
   },
   {
    "duration": 5,
    "start_time": "2022-08-19T17:57:02.646Z"
   },
   {
    "duration": 15,
    "start_time": "2022-08-19T17:57:02.653Z"
   },
   {
    "duration": 37,
    "start_time": "2022-08-19T17:57:02.669Z"
   },
   {
    "duration": 20,
    "start_time": "2022-08-19T17:57:02.707Z"
   },
   {
    "duration": 8,
    "start_time": "2022-08-19T17:57:02.731Z"
   },
   {
    "duration": 15,
    "start_time": "2022-08-19T17:57:02.741Z"
   },
   {
    "duration": 6,
    "start_time": "2022-08-19T17:57:02.758Z"
   },
   {
    "duration": 7,
    "start_time": "2022-08-19T17:57:02.766Z"
   },
   {
    "duration": 17,
    "start_time": "2022-08-19T17:57:02.774Z"
   },
   {
    "duration": 30,
    "start_time": "2022-08-19T17:57:02.793Z"
   },
   {
    "duration": 10,
    "start_time": "2022-08-19T17:57:02.824Z"
   },
   {
    "duration": 14,
    "start_time": "2022-08-19T17:57:02.835Z"
   },
   {
    "duration": 12,
    "start_time": "2022-08-19T17:57:02.850Z"
   },
   {
    "duration": 17,
    "start_time": "2022-08-19T17:57:02.863Z"
   },
   {
    "duration": 467,
    "start_time": "2022-08-20T20:18:16.654Z"
   },
   {
    "duration": 21,
    "start_time": "2022-08-20T20:18:17.122Z"
   },
   {
    "duration": 14,
    "start_time": "2022-08-20T20:18:17.144Z"
   },
   {
    "duration": 8,
    "start_time": "2022-08-20T20:18:17.160Z"
   },
   {
    "duration": 43,
    "start_time": "2022-08-20T20:18:17.170Z"
   },
   {
    "duration": 4,
    "start_time": "2022-08-20T20:18:17.215Z"
   },
   {
    "duration": 10,
    "start_time": "2022-08-20T20:18:17.220Z"
   },
   {
    "duration": 4,
    "start_time": "2022-08-20T20:18:17.232Z"
   },
   {
    "duration": 8,
    "start_time": "2022-08-20T20:18:17.237Z"
   },
   {
    "duration": 4,
    "start_time": "2022-08-20T20:18:17.247Z"
   },
   {
    "duration": 58,
    "start_time": "2022-08-20T20:18:17.253Z"
   },
   {
    "duration": 8,
    "start_time": "2022-08-20T20:18:17.313Z"
   },
   {
    "duration": 3,
    "start_time": "2022-08-20T20:18:17.322Z"
   },
   {
    "duration": 10,
    "start_time": "2022-08-20T20:18:17.327Z"
   },
   {
    "duration": 17,
    "start_time": "2022-08-20T20:18:17.338Z"
   },
   {
    "duration": 16,
    "start_time": "2022-08-20T20:18:17.357Z"
   },
   {
    "duration": 32,
    "start_time": "2022-08-20T20:18:17.374Z"
   },
   {
    "duration": 10,
    "start_time": "2022-08-20T20:18:17.407Z"
   },
   {
    "duration": 8,
    "start_time": "2022-08-20T20:18:17.418Z"
   },
   {
    "duration": 3,
    "start_time": "2022-08-20T20:18:17.427Z"
   },
   {
    "duration": 10,
    "start_time": "2022-08-20T20:18:17.432Z"
   },
   {
    "duration": 21,
    "start_time": "2022-08-20T20:18:17.443Z"
   },
   {
    "duration": 11,
    "start_time": "2022-08-20T20:18:17.466Z"
   },
   {
    "duration": 14,
    "start_time": "2022-08-20T20:18:17.507Z"
   },
   {
    "duration": 12,
    "start_time": "2022-08-20T20:18:17.523Z"
   },
   {
    "duration": 13,
    "start_time": "2022-08-20T20:18:17.537Z"
   }
  ],
  "colab": {
   "name": "dpp_template_part2.ipynb",
   "provenance": []
  },
  "kernelspec": {
   "display_name": "Python 3 (ipykernel)",
   "language": "python",
   "name": "python3"
  },
  "language_info": {
   "codemirror_mode": {
    "name": "ipython",
    "version": 3
   },
   "file_extension": ".py",
   "mimetype": "text/x-python",
   "name": "python",
   "nbconvert_exporter": "python",
   "pygments_lexer": "ipython3",
   "version": "3.10.9"
  },
  "toc": {
   "base_numbering": 1,
   "nav_menu": {},
   "number_sections": true,
   "sideBar": true,
   "skip_h1_title": true,
   "title_cell": "Table of Contents",
   "title_sidebar": "Contents",
   "toc_cell": false,
   "toc_position": {},
   "toc_section_display": true,
   "toc_window_display": false
  }
 },
 "nbformat": 4,
 "nbformat_minor": 5
}
