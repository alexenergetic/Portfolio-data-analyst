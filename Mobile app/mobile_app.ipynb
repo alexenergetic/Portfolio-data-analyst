{
 "cells": [
  {
   "cell_type": "markdown",
   "metadata": {},
   "source": [
    "# Проект: Аналитика  A/A/B-эксперимента по замене шрифта в приложении"
   ]
  },
  {
   "cell_type": "markdown",
   "metadata": {},
   "source": [
    "**Описание проекта**\n",
    "\n",
    "Нужно разобраться, как ведут себя пользователи вашего мобильного приложения, которое продаёт продукты питания.\n",
    "\n",
    "Изучите воронку продаж. Узнайте, как пользователи доходят до покупки. Сколько пользователей доходит до покупки, а сколько — «застревает» на предыдущих шагах? На каких именно?\n",
    "\n",
    "После этого исследуйте результаты A/A/B-эксперимента. Дизайнеры захотели поменять шрифты во всём приложении, а менеджеры испугались, что пользователям будет непривычно. Договорились принять решение по результатам A/A/B-теста. Пользователей разбили на 3 группы: 2 контрольные со старыми шрифтами и одну экспериментальную — с новыми. Выясните, какой шрифт лучше.\n",
    "\n",
    "Создание двух групп A вместо одной имеет определённые преимущества. Если две контрольные группы окажутся равны, вы можете быть уверены в точности проведенного тестирования. Если же между значениями A и A будут существенные различия, это поможет обнаружить факторы, которые привели к искажению результатов. Сравнение контрольных групп также помогает понять, сколько времени и данных потребуется для дальнейших тестов.\n",
    "\n",
    "В случае общей аналитики и A/A/B-эксперимента работайте с одними и теми же данными. В реальных проектах всегда идут эксперименты. Аналитики исследуют качество работы приложения по общим данным, не учитывая принадлежность пользователей к экспериментам."
   ]
  },
  {
   "cell_type": "markdown",
   "metadata": {},
   "source": [
    "**Описание данных**\n",
    "\n",
    "Каждая запись в логе — это действие пользователя, или событие.\n",
    "\n",
    "- `EventName` — название события;\n",
    "- `DeviceIDHash` — уникальный идентификатор пользователя;\n",
    "- `EventTimestamp` — время события;\n",
    "- `ExpId` — номер эксперимента: 246 и 247 — контрольные группы, а 248 — экспериментальная."
   ]
  },
  {
   "cell_type": "markdown",
   "metadata": {},
   "source": [
    "## Шаг 1. Откройте файл с данными и изучите общую информацию"
   ]
  },
  {
   "cell_type": "code",
   "execution_count": 1,
   "metadata": {},
   "outputs": [],
   "source": [
    "# импортируем необходимые библиотеки\n",
    "import pandas as pd\n",
    "import numpy as np\n",
    "import matplotlib.pyplot as plt\n",
    "from scipy import stats as st\n",
    "import math as mth\n",
    "\n",
    "#import datetime as dt\n",
    "from datetime import datetime, timedelta\n",
    "\n",
    "\n",
    "# настроим отображение датафрейма\n",
    "# поставим вывод всех столбцов\n",
    "pd.set_option('display.max_columns', None)\n",
    "# поставим вывод всех строк\n",
    "pd.set_option('display.max_rows', None)\n",
    "\n",
    "# отображаем весь текст в ячейке\n",
    "pd.set_option('display.max_colwidth', None)\n",
    "\n",
    "\n",
    "import sys\n",
    "# для вывода всех значений в массиве\n",
    "np.set_printoptions(threshold=sys.maxsize)"
   ]
  },
  {
   "cell_type": "code",
   "execution_count": 2,
   "metadata": {},
   "outputs": [],
   "source": [
    "# загрузим файл с данными\n",
    "data = pd.read_csv('C:/Users/Sam/DA/Projects_YandexPracticum/Project8_mobile_app/logs_exp.csv', sep='\\t')"
   ]
  },
  {
   "cell_type": "code",
   "execution_count": 3,
   "metadata": {},
   "outputs": [
    {
     "data": {
      "text/html": [
       "<div>\n",
       "<style scoped>\n",
       "    .dataframe tbody tr th:only-of-type {\n",
       "        vertical-align: middle;\n",
       "    }\n",
       "\n",
       "    .dataframe tbody tr th {\n",
       "        vertical-align: top;\n",
       "    }\n",
       "\n",
       "    .dataframe thead th {\n",
       "        text-align: right;\n",
       "    }\n",
       "</style>\n",
       "<table border=\"1\" class=\"dataframe\">\n",
       "  <thead>\n",
       "    <tr style=\"text-align: right;\">\n",
       "      <th></th>\n",
       "      <th>EventName</th>\n",
       "      <th>DeviceIDHash</th>\n",
       "      <th>EventTimestamp</th>\n",
       "      <th>ExpId</th>\n",
       "    </tr>\n",
       "  </thead>\n",
       "  <tbody>\n",
       "    <tr>\n",
       "      <th>0</th>\n",
       "      <td>MainScreenAppear</td>\n",
       "      <td>4575588528974610257</td>\n",
       "      <td>1564029816</td>\n",
       "      <td>246</td>\n",
       "    </tr>\n",
       "    <tr>\n",
       "      <th>1</th>\n",
       "      <td>MainScreenAppear</td>\n",
       "      <td>7416695313311560658</td>\n",
       "      <td>1564053102</td>\n",
       "      <td>246</td>\n",
       "    </tr>\n",
       "    <tr>\n",
       "      <th>2</th>\n",
       "      <td>PaymentScreenSuccessful</td>\n",
       "      <td>3518123091307005509</td>\n",
       "      <td>1564054127</td>\n",
       "      <td>248</td>\n",
       "    </tr>\n",
       "    <tr>\n",
       "      <th>3</th>\n",
       "      <td>CartScreenAppear</td>\n",
       "      <td>3518123091307005509</td>\n",
       "      <td>1564054127</td>\n",
       "      <td>248</td>\n",
       "    </tr>\n",
       "    <tr>\n",
       "      <th>4</th>\n",
       "      <td>PaymentScreenSuccessful</td>\n",
       "      <td>6217807653094995999</td>\n",
       "      <td>1564055322</td>\n",
       "      <td>248</td>\n",
       "    </tr>\n",
       "  </tbody>\n",
       "</table>\n",
       "</div>"
      ],
      "text/plain": [
       "                 EventName         DeviceIDHash  EventTimestamp  ExpId\n",
       "0         MainScreenAppear  4575588528974610257      1564029816    246\n",
       "1         MainScreenAppear  7416695313311560658      1564053102    246\n",
       "2  PaymentScreenSuccessful  3518123091307005509      1564054127    248\n",
       "3         CartScreenAppear  3518123091307005509      1564054127    248\n",
       "4  PaymentScreenSuccessful  6217807653094995999      1564055322    248"
      ]
     },
     "metadata": {},
     "output_type": "display_data"
    },
    {
     "data": {
      "text/html": [
       "<div>\n",
       "<style scoped>\n",
       "    .dataframe tbody tr th:only-of-type {\n",
       "        vertical-align: middle;\n",
       "    }\n",
       "\n",
       "    .dataframe tbody tr th {\n",
       "        vertical-align: top;\n",
       "    }\n",
       "\n",
       "    .dataframe thead th {\n",
       "        text-align: right;\n",
       "    }\n",
       "</style>\n",
       "<table border=\"1\" class=\"dataframe\">\n",
       "  <thead>\n",
       "    <tr style=\"text-align: right;\">\n",
       "      <th></th>\n",
       "      <th>EventName</th>\n",
       "      <th>DeviceIDHash</th>\n",
       "      <th>EventTimestamp</th>\n",
       "      <th>ExpId</th>\n",
       "    </tr>\n",
       "  </thead>\n",
       "  <tbody>\n",
       "    <tr>\n",
       "      <th>244121</th>\n",
       "      <td>MainScreenAppear</td>\n",
       "      <td>4599628364049201812</td>\n",
       "      <td>1565212345</td>\n",
       "      <td>247</td>\n",
       "    </tr>\n",
       "    <tr>\n",
       "      <th>244122</th>\n",
       "      <td>MainScreenAppear</td>\n",
       "      <td>5849806612437486590</td>\n",
       "      <td>1565212439</td>\n",
       "      <td>246</td>\n",
       "    </tr>\n",
       "    <tr>\n",
       "      <th>244123</th>\n",
       "      <td>MainScreenAppear</td>\n",
       "      <td>5746969938801999050</td>\n",
       "      <td>1565212483</td>\n",
       "      <td>246</td>\n",
       "    </tr>\n",
       "    <tr>\n",
       "      <th>244124</th>\n",
       "      <td>MainScreenAppear</td>\n",
       "      <td>5746969938801999050</td>\n",
       "      <td>1565212498</td>\n",
       "      <td>246</td>\n",
       "    </tr>\n",
       "    <tr>\n",
       "      <th>244125</th>\n",
       "      <td>OffersScreenAppear</td>\n",
       "      <td>5746969938801999050</td>\n",
       "      <td>1565212517</td>\n",
       "      <td>246</td>\n",
       "    </tr>\n",
       "  </tbody>\n",
       "</table>\n",
       "</div>"
      ],
      "text/plain": [
       "                 EventName         DeviceIDHash  EventTimestamp  ExpId\n",
       "244121    MainScreenAppear  4599628364049201812      1565212345    247\n",
       "244122    MainScreenAppear  5849806612437486590      1565212439    246\n",
       "244123    MainScreenAppear  5746969938801999050      1565212483    246\n",
       "244124    MainScreenAppear  5746969938801999050      1565212498    246\n",
       "244125  OffersScreenAppear  5746969938801999050      1565212517    246"
      ]
     },
     "metadata": {},
     "output_type": "display_data"
    }
   ],
   "source": [
    "# просмотрим датафрейм\n",
    "display(data.head())\n",
    "display(data.tail())"
   ]
  },
  {
   "cell_type": "markdown",
   "metadata": {},
   "source": [
    "В датафрейме названия столбцов не соответствуют 'змеиному стилю'. Будем менять названия столбцов.\n",
    "\n",
    "Также значения даты непонятны в столбце EventTimestamp. Возможно проблема с типом данных. "
   ]
  },
  {
   "cell_type": "code",
   "execution_count": 4,
   "metadata": {},
   "outputs": [
    {
     "name": "stdout",
     "output_type": "stream",
     "text": [
      "<class 'pandas.core.frame.DataFrame'>\n",
      "RangeIndex: 244126 entries, 0 to 244125\n",
      "Data columns (total 4 columns):\n",
      " #   Column          Non-Null Count   Dtype \n",
      "---  ------          --------------   ----- \n",
      " 0   EventName       244126 non-null  object\n",
      " 1   DeviceIDHash    244126 non-null  int64 \n",
      " 2   EventTimestamp  244126 non-null  int64 \n",
      " 3   ExpId           244126 non-null  int64 \n",
      "dtypes: int64(3), object(1)\n",
      "memory usage: 7.5+ MB\n"
     ]
    }
   ],
   "source": [
    "# просмотрим информацию о датафрейме\n",
    "data.info()"
   ]
  },
  {
   "cell_type": "markdown",
   "metadata": {},
   "source": [
    "В столбце EventTimestamp неверный тип данных. Будем исправлять на тип datetime."
   ]
  },
  {
   "cell_type": "code",
   "execution_count": 5,
   "metadata": {},
   "outputs": [
    {
     "data": {
      "image/png": "[encoded data removed]",
      "text/plain": [
       "<Figure size 1500x1000 with 3 Axes>"
      ]
     },
     "metadata": {},
     "output_type": "display_data"
    }
   ],
   "source": [
    "# построим графики по датафрейму\n",
    "plt.figure(figsize=(15,10))\n",
    "\n",
    "ax1 = plt.subplot(2, 2, 1)\n",
    "data['DeviceIDHash'].hist(ax=ax1)\n",
    "plt.title('Гистограмма распределения пользователей')\n",
    "plt.xlabel('id уникального пользователя')\n",
    "plt.ylabel('Частота пользователя')\n",
    "\n",
    "ax2 = plt.subplot(2, 2, 2)\n",
    "data['EventTimestamp'].hist(ax=ax2)\n",
    "plt.title('Гистограмма распределения даты и времени события')\n",
    "plt.xlabel('Дата в unix-формате')\n",
    "plt.ylabel('Частота события')\n",
    "\n",
    "ax3 = plt.subplot(2, 2, 3)\n",
    "data.groupby('ExpId')['ExpId'].count().plot(kind='bar', ax=ax3)\n",
    "plt.title('Столбчатая диаграмма количества событий по экспериментальным группам')\n",
    "plt.xlabel('Номер экспериментальной группы')\n",
    "plt.ylabel('Количество событий (шт.)')\n",
    "plt.xticks(rotation=0)\n",
    "\n",
    "plt.show()"
   ]
  },
  {
   "cell_type": "markdown",
   "metadata": {},
   "source": [
    "Видны проблемы со столбцом EventTimestamp, который хранит время события. Распределение скошено влево. Что может означать присутствие дат с более ранним периодом. Время сохранено в формате Unix-времени, которое непонятно обычному человеку. Для отображения обычного формата времени столбец необходимо привести к типу данных datetime. После изменения формата временеи проверим еще раз распределение.\n",
    "\n",
    "Со столбцами DeviceIDHash, который хранит уникальный идентификатор пользователя, и ExpId, который хранит номер эксперимента, проблем не видно."
   ]
  },
  {
   "cell_type": "markdown",
   "metadata": {},
   "source": [
    "**Выводы по главе:**\n",
    "1. Файл с данными был загружен и просмотрен. Была изучена общая информация о датафрейме.\n",
    "2. В датафрейме названия столбцов не соответствуют 'змеиному стилю'. Будем менять названия столбцов.\n",
    "3. В столбце EventTimestamp неверный тип данных. Время сохранено в формате Unix-времени. Будем исправлять на тип datetime.\n",
    "4. У столбца распределение скошено влево. Что может означать присутствие дат с более ранним периодом. Проверим еще раз после приведения к типу данных datetime.\n",
    "5. Со столбцами DeviceIDHash и ExpId проблем не видно."
   ]
  },
  {
   "cell_type": "markdown",
   "metadata": {},
   "source": [
    "## Шаг 2. Подготовьте данные"
   ]
  },
  {
   "cell_type": "markdown",
   "metadata": {},
   "source": [
    "- Замените названия столбцов на удобные для вас;\n",
    "- Проверьте пропуски и типы данных. Откорректируйте, если нужно;\n",
    "- Добавьте столбец даты и времени, а также отдельный столбец дат;"
   ]
  },
  {
   "cell_type": "markdown",
   "metadata": {},
   "source": [
    "### Замена названий столбцов"
   ]
  },
  {
   "cell_type": "code",
   "execution_count": 6,
   "metadata": {},
   "outputs": [],
   "source": [
    "# переименуем столбцы на соответствие 'змеиному стилю'\n",
    "data = data.rename(columns={'EventName': 'event_name', \n",
    "                            'DeviceIDHash': 'device_id_hash', \n",
    "                            'EventTimestamp': 'event_timestamp', \n",
    "                            'ExpId': 'exp_id'})"
   ]
  },
  {
   "cell_type": "markdown",
   "metadata": {},
   "source": [
    "### Проверка пропусков и типов данных"
   ]
  },
  {
   "cell_type": "code",
   "execution_count": 7,
   "metadata": {},
   "outputs": [
    {
     "name": "stdout",
     "output_type": "stream",
     "text": [
      "<class 'pandas.core.frame.DataFrame'>\n",
      "RangeIndex: 244126 entries, 0 to 244125\n",
      "Data columns (total 4 columns):\n",
      " #   Column           Non-Null Count   Dtype         \n",
      "---  ------           --------------   -----         \n",
      " 0   event_name       244126 non-null  object        \n",
      " 1   device_id_hash   244126 non-null  int64         \n",
      " 2   event_timestamp  244126 non-null  datetime64[ns]\n",
      " 3   exp_id           244126 non-null  int64         \n",
      "dtypes: datetime64[ns](1), int64(2), object(1)\n",
      "memory usage: 7.5+ MB\n"
     ]
    },
    {
     "data": {
      "text/plain": [
       "None"
      ]
     },
     "metadata": {},
     "output_type": "display_data"
    },
    {
     "data": {
      "text/html": [
       "<div>\n",
       "<style scoped>\n",
       "    .dataframe tbody tr th:only-of-type {\n",
       "        vertical-align: middle;\n",
       "    }\n",
       "\n",
       "    .dataframe tbody tr th {\n",
       "        vertical-align: top;\n",
       "    }\n",
       "\n",
       "    .dataframe thead th {\n",
       "        text-align: right;\n",
       "    }\n",
       "</style>\n",
       "<table border=\"1\" class=\"dataframe\">\n",
       "  <thead>\n",
       "    <tr style=\"text-align: right;\">\n",
       "      <th></th>\n",
       "      <th>event_name</th>\n",
       "      <th>device_id_hash</th>\n",
       "      <th>event_timestamp</th>\n",
       "      <th>exp_id</th>\n",
       "    </tr>\n",
       "  </thead>\n",
       "  <tbody>\n",
       "    <tr>\n",
       "      <th>0</th>\n",
       "      <td>MainScreenAppear</td>\n",
       "      <td>4575588528974610257</td>\n",
       "      <td>2019-07-25 04:43:36</td>\n",
       "      <td>246</td>\n",
       "    </tr>\n",
       "    <tr>\n",
       "      <th>1</th>\n",
       "      <td>MainScreenAppear</td>\n",
       "      <td>7416695313311560658</td>\n",
       "      <td>2019-07-25 11:11:42</td>\n",
       "      <td>246</td>\n",
       "    </tr>\n",
       "    <tr>\n",
       "      <th>2</th>\n",
       "      <td>PaymentScreenSuccessful</td>\n",
       "      <td>3518123091307005509</td>\n",
       "      <td>2019-07-25 11:28:47</td>\n",
       "      <td>248</td>\n",
       "    </tr>\n",
       "    <tr>\n",
       "      <th>3</th>\n",
       "      <td>CartScreenAppear</td>\n",
       "      <td>3518123091307005509</td>\n",
       "      <td>2019-07-25 11:28:47</td>\n",
       "      <td>248</td>\n",
       "    </tr>\n",
       "    <tr>\n",
       "      <th>4</th>\n",
       "      <td>PaymentScreenSuccessful</td>\n",
       "      <td>6217807653094995999</td>\n",
       "      <td>2019-07-25 11:48:42</td>\n",
       "      <td>248</td>\n",
       "    </tr>\n",
       "  </tbody>\n",
       "</table>\n",
       "</div>"
      ],
      "text/plain": [
       "                event_name       device_id_hash     event_timestamp  exp_id\n",
       "0         MainScreenAppear  4575588528974610257 2019-07-25 04:43:36     246\n",
       "1         MainScreenAppear  7416695313311560658 2019-07-25 11:11:42     246\n",
       "2  PaymentScreenSuccessful  3518123091307005509 2019-07-25 11:28:47     248\n",
       "3         CartScreenAppear  3518123091307005509 2019-07-25 11:28:47     248\n",
       "4  PaymentScreenSuccessful  6217807653094995999 2019-07-25 11:48:42     248"
      ]
     },
     "metadata": {},
     "output_type": "display_data"
    }
   ],
   "source": [
    "# исправим тип данных в столбце event_timestamp на datetime64\n",
    "data['event_timestamp'] = pd.to_datetime(data['event_timestamp'], unit='s')\n",
    "\n",
    "# проверим изменения\n",
    "display(data.info())\n",
    "display(data.head())"
   ]
  },
  {
   "cell_type": "code",
   "execution_count": 8,
   "metadata": {},
   "outputs": [
    {
     "data": {
      "text/plain": [
       "event_name         0\n",
       "device_id_hash     0\n",
       "event_timestamp    0\n",
       "exp_id             0\n",
       "dtype: int64"
      ]
     },
     "execution_count": 8,
     "metadata": {},
     "output_type": "execute_result"
    }
   ],
   "source": [
    "# проверим датафрейм на наличие пропусков\n",
    "data.isna().sum()"
   ]
  },
  {
   "cell_type": "markdown",
   "metadata": {},
   "source": [
    "Пропусков в датафрейме нет."
   ]
  },
  {
   "cell_type": "code",
   "execution_count": 9,
   "metadata": {},
   "outputs": [
    {
     "data": {
      "text/plain": [
       "413"
      ]
     },
     "execution_count": 9,
     "metadata": {},
     "output_type": "execute_result"
    }
   ],
   "source": [
    "# проверим датафрейм на наличие дубликатов\n",
    "data.duplicated().sum()"
   ]
  },
  {
   "cell_type": "code",
   "execution_count": 10,
   "metadata": {},
   "outputs": [
    {
     "name": "stdout",
     "output_type": "stream",
     "text": [
      "Процент дубликатов в датафрейме в %: 0.17\n"
     ]
    }
   ],
   "source": [
    "print('Процент дубликатов в датафрейме в %:', round((data.duplicated().sum() / len(data) * 100), 2))"
   ]
  },
  {
   "cell_type": "markdown",
   "metadata": {},
   "source": [
    "Количество дубликатов мало: 0.17%. Дубликаты удалим из датафрейма."
   ]
  },
  {
   "cell_type": "code",
   "execution_count": 11,
   "metadata": {},
   "outputs": [],
   "source": [
    "# удалим дубликаты и обновим индекс\n",
    "data = data.drop_duplicates().reset_index(drop=True)"
   ]
  },
  {
   "cell_type": "code",
   "execution_count": 12,
   "metadata": {},
   "outputs": [
    {
     "data": {
      "text/plain": [
       "array(['CartScreenAppear', 'MainScreenAppear', 'OffersScreenAppear',\n",
       "       'PaymentScreenSuccessful', 'Tutorial'], dtype=object)"
      ]
     },
     "metadata": {},
     "output_type": "display_data"
    },
    {
     "data": {
      "text/plain": [
       "array([246, 247, 248], dtype=int64)"
      ]
     },
     "metadata": {},
     "output_type": "display_data"
    }
   ],
   "source": [
    "# просмотрим уникальные значения в столбцах с event_name и exp_id\n",
    "display(data['event_name'].sort_values().unique())\n",
    "display(data['exp_id'].sort_values().unique())"
   ]
  },
  {
   "cell_type": "markdown",
   "metadata": {},
   "source": [
    "Нет проблем в уникальных значениях в столбцах с event_name и exp_id. Мы проверили, что всего 3 группы эксперимента. И узнали, что есть 5 событий в эксперименте."
   ]
  },
  {
   "cell_type": "markdown",
   "metadata": {},
   "source": [
    "### Добавление столбца даты и времени, а также отдельного столбца дат"
   ]
  },
  {
   "cell_type": "code",
   "execution_count": 13,
   "metadata": {},
   "outputs": [
    {
     "data": {
      "text/html": [
       "<div>\n",
       "<style scoped>\n",
       "    .dataframe tbody tr th:only-of-type {\n",
       "        vertical-align: middle;\n",
       "    }\n",
       "\n",
       "    .dataframe tbody tr th {\n",
       "        vertical-align: top;\n",
       "    }\n",
       "\n",
       "    .dataframe thead th {\n",
       "        text-align: right;\n",
       "    }\n",
       "</style>\n",
       "<table border=\"1\" class=\"dataframe\">\n",
       "  <thead>\n",
       "    <tr style=\"text-align: right;\">\n",
       "      <th></th>\n",
       "      <th>event_name</th>\n",
       "      <th>device_id_hash</th>\n",
       "      <th>event_timestamp</th>\n",
       "      <th>exp_id</th>\n",
       "      <th>dt_time</th>\n",
       "      <th>dt</th>\n",
       "    </tr>\n",
       "  </thead>\n",
       "  <tbody>\n",
       "    <tr>\n",
       "      <th>0</th>\n",
       "      <td>MainScreenAppear</td>\n",
       "      <td>4575588528974610257</td>\n",
       "      <td>2019-07-25 04:43:36</td>\n",
       "      <td>246</td>\n",
       "      <td>2019-07-25 04:43:36</td>\n",
       "      <td>2019-07-25</td>\n",
       "    </tr>\n",
       "    <tr>\n",
       "      <th>1</th>\n",
       "      <td>MainScreenAppear</td>\n",
       "      <td>7416695313311560658</td>\n",
       "      <td>2019-07-25 11:11:42</td>\n",
       "      <td>246</td>\n",
       "      <td>2019-07-25 11:11:42</td>\n",
       "      <td>2019-07-25</td>\n",
       "    </tr>\n",
       "    <tr>\n",
       "      <th>2</th>\n",
       "      <td>PaymentScreenSuccessful</td>\n",
       "      <td>3518123091307005509</td>\n",
       "      <td>2019-07-25 11:28:47</td>\n",
       "      <td>248</td>\n",
       "      <td>2019-07-25 11:28:47</td>\n",
       "      <td>2019-07-25</td>\n",
       "    </tr>\n",
       "    <tr>\n",
       "      <th>3</th>\n",
       "      <td>CartScreenAppear</td>\n",
       "      <td>3518123091307005509</td>\n",
       "      <td>2019-07-25 11:28:47</td>\n",
       "      <td>248</td>\n",
       "      <td>2019-07-25 11:28:47</td>\n",
       "      <td>2019-07-25</td>\n",
       "    </tr>\n",
       "    <tr>\n",
       "      <th>4</th>\n",
       "      <td>PaymentScreenSuccessful</td>\n",
       "      <td>6217807653094995999</td>\n",
       "      <td>2019-07-25 11:48:42</td>\n",
       "      <td>248</td>\n",
       "      <td>2019-07-25 11:48:42</td>\n",
       "      <td>2019-07-25</td>\n",
       "    </tr>\n",
       "  </tbody>\n",
       "</table>\n",
       "</div>"
      ],
      "text/plain": [
       "                event_name       device_id_hash     event_timestamp  exp_id  \\\n",
       "0         MainScreenAppear  4575588528974610257 2019-07-25 04:43:36     246   \n",
       "1         MainScreenAppear  7416695313311560658 2019-07-25 11:11:42     246   \n",
       "2  PaymentScreenSuccessful  3518123091307005509 2019-07-25 11:28:47     248   \n",
       "3         CartScreenAppear  3518123091307005509 2019-07-25 11:28:47     248   \n",
       "4  PaymentScreenSuccessful  6217807653094995999 2019-07-25 11:48:42     248   \n",
       "\n",
       "              dt_time         dt  \n",
       "0 2019-07-25 04:43:36 2019-07-25  \n",
       "1 2019-07-25 11:11:42 2019-07-25  \n",
       "2 2019-07-25 11:28:47 2019-07-25  \n",
       "3 2019-07-25 11:28:47 2019-07-25  \n",
       "4 2019-07-25 11:48:42 2019-07-25  "
      ]
     },
     "metadata": {},
     "output_type": "display_data"
    },
    {
     "name": "stdout",
     "output_type": "stream",
     "text": [
      "<class 'pandas.core.frame.DataFrame'>\n",
      "RangeIndex: 243713 entries, 0 to 243712\n",
      "Data columns (total 6 columns):\n",
      " #   Column           Non-Null Count   Dtype         \n",
      "---  ------           --------------   -----         \n",
      " 0   event_name       243713 non-null  object        \n",
      " 1   device_id_hash   243713 non-null  int64         \n",
      " 2   event_timestamp  243713 non-null  datetime64[ns]\n",
      " 3   exp_id           243713 non-null  int64         \n",
      " 4   dt_time          243713 non-null  datetime64[ns]\n",
      " 5   dt               243713 non-null  datetime64[ns]\n",
      "dtypes: datetime64[ns](3), int64(2), object(1)\n",
      "memory usage: 11.2+ MB\n"
     ]
    },
    {
     "data": {
      "text/plain": [
       "None"
      ]
     },
     "metadata": {},
     "output_type": "display_data"
    }
   ],
   "source": [
    "# добавим столбец с датой и временем и отдельный столбцец с датой\n",
    "data['dt_time'] = data['event_timestamp']\n",
    "data['dt'] = data['event_timestamp'].dt.date.astype('datetime64')\n",
    "\n",
    "display(data.head())\n",
    "display(data.info())"
   ]
  },
  {
   "cell_type": "markdown",
   "metadata": {},
   "source": [
    "**Выводы по главе:**\n",
    "1. Данные были подготовлены к анализу, проверены на пропуски. Дубликаты были удалены из датафрейма.\n",
    "2. Названия столбцов были приведены к 'змеиному стилю'.\n",
    "3. В столбце `event_timestamp` был изменен неверный тип данных на верный тип datetime64. Были созданы столбцы `dt_time` с датой и временем и `dt` с датой.\n",
    "4. Были просмотрены уникальные значения в столбцах с event_name и exp_id. Мы проверили, что всего 3 группы эксперимента. А также узнали, что есть 5 событий в эксперименте."
   ]
  },
  {
   "cell_type": "markdown",
   "metadata": {},
   "source": [
    "## Шаг 3. Изучите и проверьте данные"
   ]
  },
  {
   "cell_type": "markdown",
   "metadata": {},
   "source": [
    "### Сколько всего событий в логе?"
   ]
  },
  {
   "cell_type": "code",
   "execution_count": 14,
   "metadata": {},
   "outputs": [
    {
     "name": "stdout",
     "output_type": "stream",
     "text": [
      "Всего событий: 243713\n"
     ]
    }
   ],
   "source": [
    "# посчитаем общее количество событий\n",
    "old_events_cnt = len(data)\n",
    "print('Всего событий:', old_events_cnt)"
   ]
  },
  {
   "cell_type": "markdown",
   "metadata": {},
   "source": [
    "### Сколько всего пользователей в логе?"
   ]
  },
  {
   "cell_type": "code",
   "execution_count": 15,
   "metadata": {},
   "outputs": [
    {
     "name": "stdout",
     "output_type": "stream",
     "text": [
      "Всего уникальных пользователей: 7551\n"
     ]
    }
   ],
   "source": [
    "# посчитаем уникальных пользователей\n",
    "old_users_cnt = data['device_id_hash'].nunique()\n",
    "print('Всего уникальных пользователей:', old_users_cnt)"
   ]
  },
  {
   "cell_type": "markdown",
   "metadata": {},
   "source": [
    "### Сколько в среднем событий приходится на пользователя?"
   ]
  },
  {
   "cell_type": "code",
   "execution_count": 16,
   "metadata": {},
   "outputs": [
    {
     "name": "stdout",
     "output_type": "stream",
     "text": [
      "Среднее количество событий на пользователя: dt    32.28\n",
      "dtype: float64\n"
     ]
    }
   ],
   "source": [
    "print('Среднее количество событий на пользователя:', round(data.groupby('device_id_hash').agg({'dt': 'count'}).mean(), 2))"
   ]
  },
  {
   "cell_type": "markdown",
   "metadata": {},
   "source": [
    "### Данными за какой период вы располагаете?"
   ]
  },
  {
   "cell_type": "markdown",
   "metadata": {},
   "source": [
    "#### Найдите максимальную и минимальную дату."
   ]
  },
  {
   "cell_type": "code",
   "execution_count": 17,
   "metadata": {},
   "outputs": [
    {
     "name": "stdout",
     "output_type": "stream",
     "text": [
      "Минимальная дата исследования: 2019-07-25 00:00:00\n",
      "Максимальная дата исследования: 2019-08-07 00:00:00\n"
     ]
    }
   ],
   "source": [
    "print('Минимальная дата исследования:', data['dt'].min())\n",
    "print('Максимальная дата исследования:', data['dt'].max())"
   ]
  },
  {
   "cell_type": "code",
   "execution_count": 18,
   "metadata": {},
   "outputs": [
    {
     "name": "stdout",
     "output_type": "stream",
     "text": [
      "Период исследования: 13 days 16:31:41\n"
     ]
    }
   ],
   "source": [
    "print('Период исследования:', data['event_timestamp'].max() - data['event_timestamp'].min())"
   ]
  },
  {
   "cell_type": "markdown",
   "metadata": {},
   "source": [
    "Исследование длилось неполных 14 дней с 25 июля 2019 по 07 августа 2019."
   ]
  },
  {
   "cell_type": "markdown",
   "metadata": {},
   "source": [
    "#### Постройте гистограмму по дате и времени."
   ]
  },
  {
   "cell_type": "code",
   "execution_count": 19,
   "metadata": {},
   "outputs": [
    {
     "data": {
      "image/png": "[encoded data removed]",
      "text/plain": [
       "<Figure size 1800x500 with 1 Axes>"
      ]
     },
     "metadata": {},
     "output_type": "display_data"
    }
   ],
   "source": [
    "# посмотрим на гистограмму даты и времени\n",
    "data['event_timestamp'].hist(figsize=(18, 5))\n",
    "plt.xlabel('Дата')\n",
    "plt.ylabel('Частота события')\n",
    "plt.title('Гистограмма распределения даты и времени события')\n",
    "plt.show()"
   ]
  },
  {
   "cell_type": "markdown",
   "metadata": {},
   "source": [
    "У столбца `event_timestamp` распределение время события  осталось скошенным влево. Видно присутствие дат с более ранним периодом. \n",
    "\n",
    "Основное количество событий имеет дату от 08 августа 2019. Есть малое количество дат с 25 июля 2019 по 31 июля 2019.\n",
    "\n",
    "Малое количество дат с более ранним периодом может повлиять на исследование."
   ]
  },
  {
   "cell_type": "markdown",
   "metadata": {},
   "source": [
    "#### Можно ли быть уверенным, что у вас одинаково полные данные за весь период? Технически в логи новых дней по некоторым пользователям могут «доезжать» события из прошлого — это может «перекашивать данные». "
   ]
  },
  {
   "cell_type": "markdown",
   "metadata": {},
   "source": [
    "Сгруппируем данные по дате и посчитаем количество событий в определенную дату. Для наглядности высчитаем процент данных дня от общего количества событий и посчитаем процент с накоплением."
   ]
  },
  {
   "cell_type": "code",
   "execution_count": 20,
   "metadata": {},
   "outputs": [
    {
     "data": {
      "text/html": [
       "<div>\n",
       "<style scoped>\n",
       "    .dataframe tbody tr th:only-of-type {\n",
       "        vertical-align: middle;\n",
       "    }\n",
       "\n",
       "    .dataframe tbody tr th {\n",
       "        vertical-align: top;\n",
       "    }\n",
       "\n",
       "    .dataframe thead th {\n",
       "        text-align: right;\n",
       "    }\n",
       "</style>\n",
       "<table border=\"1\" class=\"dataframe\">\n",
       "  <thead>\n",
       "    <tr style=\"text-align: right;\">\n",
       "      <th></th>\n",
       "      <th>count_event_name</th>\n",
       "      <th>percent</th>\n",
       "      <th>percent_cumsum</th>\n",
       "    </tr>\n",
       "    <tr>\n",
       "      <th>dt</th>\n",
       "      <th></th>\n",
       "      <th></th>\n",
       "      <th></th>\n",
       "    </tr>\n",
       "  </thead>\n",
       "  <tbody>\n",
       "    <tr>\n",
       "      <th>2019-07-25</th>\n",
       "      <td>9</td>\n",
       "      <td>0.00</td>\n",
       "      <td>0.00</td>\n",
       "    </tr>\n",
       "    <tr>\n",
       "      <th>2019-07-26</th>\n",
       "      <td>31</td>\n",
       "      <td>0.01</td>\n",
       "      <td>0.01</td>\n",
       "    </tr>\n",
       "    <tr>\n",
       "      <th>2019-07-27</th>\n",
       "      <td>55</td>\n",
       "      <td>0.02</td>\n",
       "      <td>0.03</td>\n",
       "    </tr>\n",
       "    <tr>\n",
       "      <th>2019-07-28</th>\n",
       "      <td>105</td>\n",
       "      <td>0.04</td>\n",
       "      <td>0.07</td>\n",
       "    </tr>\n",
       "    <tr>\n",
       "      <th>2019-07-29</th>\n",
       "      <td>184</td>\n",
       "      <td>0.08</td>\n",
       "      <td>0.15</td>\n",
       "    </tr>\n",
       "    <tr>\n",
       "      <th>2019-07-30</th>\n",
       "      <td>412</td>\n",
       "      <td>0.17</td>\n",
       "      <td>0.32</td>\n",
       "    </tr>\n",
       "    <tr>\n",
       "      <th>2019-07-31</th>\n",
       "      <td>2030</td>\n",
       "      <td>0.83</td>\n",
       "      <td>1.15</td>\n",
       "    </tr>\n",
       "    <tr>\n",
       "      <th>2019-08-01</th>\n",
       "      <td>36141</td>\n",
       "      <td>14.83</td>\n",
       "      <td>15.98</td>\n",
       "    </tr>\n",
       "    <tr>\n",
       "      <th>2019-08-02</th>\n",
       "      <td>35554</td>\n",
       "      <td>14.59</td>\n",
       "      <td>30.57</td>\n",
       "    </tr>\n",
       "    <tr>\n",
       "      <th>2019-08-03</th>\n",
       "      <td>33282</td>\n",
       "      <td>13.66</td>\n",
       "      <td>44.23</td>\n",
       "    </tr>\n",
       "    <tr>\n",
       "      <th>2019-08-04</th>\n",
       "      <td>32968</td>\n",
       "      <td>13.53</td>\n",
       "      <td>57.76</td>\n",
       "    </tr>\n",
       "    <tr>\n",
       "      <th>2019-08-05</th>\n",
       "      <td>36058</td>\n",
       "      <td>14.80</td>\n",
       "      <td>72.56</td>\n",
       "    </tr>\n",
       "    <tr>\n",
       "      <th>2019-08-06</th>\n",
       "      <td>35788</td>\n",
       "      <td>14.68</td>\n",
       "      <td>87.24</td>\n",
       "    </tr>\n",
       "    <tr>\n",
       "      <th>2019-08-07</th>\n",
       "      <td>31096</td>\n",
       "      <td>12.76</td>\n",
       "      <td>100.00</td>\n",
       "    </tr>\n",
       "  </tbody>\n",
       "</table>\n",
       "</div>"
      ],
      "text/plain": [
       "            count_event_name  percent  percent_cumsum\n",
       "dt                                                   \n",
       "2019-07-25                 9     0.00            0.00\n",
       "2019-07-26                31     0.01            0.01\n",
       "2019-07-27                55     0.02            0.03\n",
       "2019-07-28               105     0.04            0.07\n",
       "2019-07-29               184     0.08            0.15\n",
       "2019-07-30               412     0.17            0.32\n",
       "2019-07-31              2030     0.83            1.15\n",
       "2019-08-01             36141    14.83           15.98\n",
       "2019-08-02             35554    14.59           30.57\n",
       "2019-08-03             33282    13.66           44.23\n",
       "2019-08-04             32968    13.53           57.76\n",
       "2019-08-05             36058    14.80           72.56\n",
       "2019-08-06             35788    14.68           87.24\n",
       "2019-08-07             31096    12.76          100.00"
      ]
     },
     "metadata": {},
     "output_type": "display_data"
    }
   ],
   "source": [
    "# группируем данные по дате, считаем количество событий в определенную дату\n",
    "data_agg = data.groupby('dt').agg({'event_name': 'count'})\n",
    "data_agg.columns = ['count_event_name']\n",
    "\n",
    "# высчитаем долю процента данных по дню и сумму процента с накоплением\n",
    "data_agg['percent'] = round(data_agg['count_event_name'] / data_agg['count_event_name'].sum() * 100, 2)\n",
    "data_agg['percent_cumsum'] = data_agg['percent'].cumsum()\n",
    "\n",
    "# посмотрим получившуюся таблицу\n",
    "display(data_agg)"
   ]
  },
  {
   "cell_type": "markdown",
   "metadata": {},
   "source": [
    "Как было замечано на гистограмме распределения даты и времени события, неполные данные идут с 25 июля 2019 по 31 июля 2019.\n",
    "\n",
    "Общий процент событий за этот период составляет 1.15% от общего числа событий."
   ]
  },
  {
   "cell_type": "markdown",
   "metadata": {},
   "source": [
    "#### Определите, с какого момента данные полные и отбросьте более старые. Данными за какой период времени вы располагаете на самом деле?"
   ]
  },
  {
   "cell_type": "markdown",
   "metadata": {},
   "source": [
    "Полные данные по событиям идут с 01 августа 2019 по 07 августа 2019. Данные до 01 августа 2019 неполны. \n",
    "Стоит отбросить данные в период с 25 июля 2019 по 31 июля 2019."
   ]
  },
  {
   "cell_type": "code",
   "execution_count": 21,
   "metadata": {},
   "outputs": [
    {
     "data": {
      "text/html": [
       "<div>\n",
       "<style scoped>\n",
       "    .dataframe tbody tr th:only-of-type {\n",
       "        vertical-align: middle;\n",
       "    }\n",
       "\n",
       "    .dataframe tbody tr th {\n",
       "        vertical-align: top;\n",
       "    }\n",
       "\n",
       "    .dataframe thead th {\n",
       "        text-align: right;\n",
       "    }\n",
       "</style>\n",
       "<table border=\"1\" class=\"dataframe\">\n",
       "  <thead>\n",
       "    <tr style=\"text-align: right;\">\n",
       "      <th></th>\n",
       "      <th>event_name</th>\n",
       "      <th>device_id_hash</th>\n",
       "      <th>event_timestamp</th>\n",
       "      <th>exp_id</th>\n",
       "      <th>dt_time</th>\n",
       "      <th>dt</th>\n",
       "    </tr>\n",
       "  </thead>\n",
       "  <tbody>\n",
       "    <tr>\n",
       "      <th>0</th>\n",
       "      <td>Tutorial</td>\n",
       "      <td>3737462046622621720</td>\n",
       "      <td>2019-08-01 00:07:28</td>\n",
       "      <td>246</td>\n",
       "      <td>2019-08-01 00:07:28</td>\n",
       "      <td>2019-08-01</td>\n",
       "    </tr>\n",
       "    <tr>\n",
       "      <th>1</th>\n",
       "      <td>MainScreenAppear</td>\n",
       "      <td>3737462046622621720</td>\n",
       "      <td>2019-08-01 00:08:00</td>\n",
       "      <td>246</td>\n",
       "      <td>2019-08-01 00:08:00</td>\n",
       "      <td>2019-08-01</td>\n",
       "    </tr>\n",
       "    <tr>\n",
       "      <th>2</th>\n",
       "      <td>MainScreenAppear</td>\n",
       "      <td>3737462046622621720</td>\n",
       "      <td>2019-08-01 00:08:55</td>\n",
       "      <td>246</td>\n",
       "      <td>2019-08-01 00:08:55</td>\n",
       "      <td>2019-08-01</td>\n",
       "    </tr>\n",
       "    <tr>\n",
       "      <th>3</th>\n",
       "      <td>OffersScreenAppear</td>\n",
       "      <td>3737462046622621720</td>\n",
       "      <td>2019-08-01 00:08:58</td>\n",
       "      <td>246</td>\n",
       "      <td>2019-08-01 00:08:58</td>\n",
       "      <td>2019-08-01</td>\n",
       "    </tr>\n",
       "    <tr>\n",
       "      <th>4</th>\n",
       "      <td>MainScreenAppear</td>\n",
       "      <td>1433840883824088890</td>\n",
       "      <td>2019-08-01 00:08:59</td>\n",
       "      <td>247</td>\n",
       "      <td>2019-08-01 00:08:59</td>\n",
       "      <td>2019-08-01</td>\n",
       "    </tr>\n",
       "  </tbody>\n",
       "</table>\n",
       "</div>"
      ],
      "text/plain": [
       "           event_name       device_id_hash     event_timestamp  exp_id  \\\n",
       "0            Tutorial  3737462046622621720 2019-08-01 00:07:28     246   \n",
       "1    MainScreenAppear  3737462046622621720 2019-08-01 00:08:00     246   \n",
       "2    MainScreenAppear  3737462046622621720 2019-08-01 00:08:55     246   \n",
       "3  OffersScreenAppear  3737462046622621720 2019-08-01 00:08:58     246   \n",
       "4    MainScreenAppear  1433840883824088890 2019-08-01 00:08:59     247   \n",
       "\n",
       "              dt_time         dt  \n",
       "0 2019-08-01 00:07:28 2019-08-01  \n",
       "1 2019-08-01 00:08:00 2019-08-01  \n",
       "2 2019-08-01 00:08:55 2019-08-01  \n",
       "3 2019-08-01 00:08:58 2019-08-01  \n",
       "4 2019-08-01 00:08:59 2019-08-01  "
      ]
     },
     "execution_count": 21,
     "metadata": {},
     "output_type": "execute_result"
    }
   ],
   "source": [
    "# перезапишем датафрейм, отбросив старые данные\n",
    "data = data[data['dt'] >= '2019-08-01'].reset_index(drop=True)\n",
    "\n",
    "# проверим данные\n",
    "data.head()"
   ]
  },
  {
   "cell_type": "markdown",
   "metadata": {},
   "source": [
    "### Много ли событий и пользователей вы потеряли, отбросив старые данные?"
   ]
  },
  {
   "cell_type": "code",
   "execution_count": 22,
   "metadata": {},
   "outputs": [
    {
     "name": "stdout",
     "output_type": "stream",
     "text": [
      "Новое количество событий после отброса данных: 240887\n",
      "Всего событий, которые мы потеряли после отброса данных: 2826\n",
      "Процент событий, которые мы потеряли после отброса данных: 1.16\n"
     ]
    }
   ],
   "source": [
    "# посчитаем общее количество событий после обработки данных\n",
    "new_events_cnt = len(data)\n",
    "print('Новое количество событий после отброса данных:', new_events_cnt)\n",
    "print('Всего событий, которые мы потеряли после отброса данных:', old_events_cnt - new_events_cnt)\n",
    "print('Процент событий, которые мы потеряли после отброса данных:', round(100 - (new_events_cnt / old_events_cnt * 100), 2))"
   ]
  },
  {
   "cell_type": "code",
   "execution_count": 23,
   "metadata": {},
   "outputs": [
    {
     "name": "stdout",
     "output_type": "stream",
     "text": [
      "Новое количество уникальных пользователей после отброса данных: 7534\n",
      "Всего уникальных пользователей, которых мы потеряли после отброса данных: 17\n",
      "Процент уникальных пользователей, которых мы потеряли после отброса данных: 0.23\n"
     ]
    }
   ],
   "source": [
    "# посчитаем уникальных пользователей после обработки данных\n",
    "new_users_cnt = data['device_id_hash'].nunique()\n",
    "print('Новое количество уникальных пользователей после отброса данных:', new_users_cnt)\n",
    "print('Всего уникальных пользователей, которых мы потеряли после отброса данных:', old_users_cnt - new_users_cnt)\n",
    "print('Процент уникальных пользователей, которых мы потеряли после отброса данных:',\n",
    "      round(100 - (new_users_cnt / old_users_cnt * 100), 2))"
   ]
  },
  {
   "cell_type": "markdown",
   "metadata": {},
   "source": [
    "Отбросив старые данные, мы потеряли немного данных: 0.23% уникальных пользователей и 1.16% событий."
   ]
  },
  {
   "cell_type": "markdown",
   "metadata": {},
   "source": [
    "### Проверьте, что у вас есть пользователи из всех трёх экспериментальных групп."
   ]
  },
  {
   "cell_type": "code",
   "execution_count": 24,
   "metadata": {},
   "outputs": [
    {
     "data": {
      "text/html": [
       "<div>\n",
       "<style scoped>\n",
       "    .dataframe tbody tr th:only-of-type {\n",
       "        vertical-align: middle;\n",
       "    }\n",
       "\n",
       "    .dataframe tbody tr th {\n",
       "        vertical-align: top;\n",
       "    }\n",
       "\n",
       "    .dataframe thead th {\n",
       "        text-align: right;\n",
       "    }\n",
       "</style>\n",
       "<table border=\"1\" class=\"dataframe\">\n",
       "  <thead>\n",
       "    <tr style=\"text-align: right;\">\n",
       "      <th></th>\n",
       "      <th>event_name</th>\n",
       "      <th>device_id_hash</th>\n",
       "      <th>event_timestamp</th>\n",
       "      <th>dt_time</th>\n",
       "      <th>dt</th>\n",
       "    </tr>\n",
       "    <tr>\n",
       "      <th>exp_id</th>\n",
       "      <th></th>\n",
       "      <th></th>\n",
       "      <th></th>\n",
       "      <th></th>\n",
       "      <th></th>\n",
       "    </tr>\n",
       "  </thead>\n",
       "  <tbody>\n",
       "    <tr>\n",
       "      <th>246</th>\n",
       "      <td>79302</td>\n",
       "      <td>79302</td>\n",
       "      <td>79302</td>\n",
       "      <td>79302</td>\n",
       "      <td>79302</td>\n",
       "    </tr>\n",
       "    <tr>\n",
       "      <th>247</th>\n",
       "      <td>77022</td>\n",
       "      <td>77022</td>\n",
       "      <td>77022</td>\n",
       "      <td>77022</td>\n",
       "      <td>77022</td>\n",
       "    </tr>\n",
       "    <tr>\n",
       "      <th>248</th>\n",
       "      <td>84563</td>\n",
       "      <td>84563</td>\n",
       "      <td>84563</td>\n",
       "      <td>84563</td>\n",
       "      <td>84563</td>\n",
       "    </tr>\n",
       "  </tbody>\n",
       "</table>\n",
       "</div>"
      ],
      "text/plain": [
       "        event_name  device_id_hash  event_timestamp  dt_time     dt\n",
       "exp_id                                                             \n",
       "246          79302           79302            79302    79302  79302\n",
       "247          77022           77022            77022    77022  77022\n",
       "248          84563           84563            84563    84563  84563"
      ]
     },
     "execution_count": 24,
     "metadata": {},
     "output_type": "execute_result"
    }
   ],
   "source": [
    "# сгруппируем данные по номеру экспериментальных групп и посчитаем число строк\n",
    "data.groupby('exp_id').count()"
   ]
  },
  {
   "cell_type": "markdown",
   "metadata": {},
   "source": [
    "Мы видим, что есть записи данных из 3 экспериментальных групп. Группы примерно равны по количеству записей."
   ]
  },
  {
   "cell_type": "markdown",
   "metadata": {},
   "source": [
    "### Проверим данные на наличие пользователей, которые входят в 2 или 3 группы эксперимента"
   ]
  },
  {
   "cell_type": "code",
   "execution_count": 25,
   "metadata": {},
   "outputs": [
    {
     "data": {
      "text/html": [
       "<div>\n",
       "<style scoped>\n",
       "    .dataframe tbody tr th:only-of-type {\n",
       "        vertical-align: middle;\n",
       "    }\n",
       "\n",
       "    .dataframe tbody tr th {\n",
       "        vertical-align: top;\n",
       "    }\n",
       "\n",
       "    .dataframe thead th {\n",
       "        text-align: right;\n",
       "    }\n",
       "</style>\n",
       "<table border=\"1\" class=\"dataframe\">\n",
       "  <thead>\n",
       "    <tr style=\"text-align: right;\">\n",
       "      <th></th>\n",
       "      <th>unique_groups</th>\n",
       "      <th>cnt_unique_groups</th>\n",
       "    </tr>\n",
       "    <tr>\n",
       "      <th>device_id_hash</th>\n",
       "      <th></th>\n",
       "      <th></th>\n",
       "    </tr>\n",
       "  </thead>\n",
       "  <tbody>\n",
       "    <tr>\n",
       "      <th>6888746892508752</th>\n",
       "      <td>[246]</td>\n",
       "      <td>1</td>\n",
       "    </tr>\n",
       "    <tr>\n",
       "      <th>6204944347213293942</th>\n",
       "      <td>[248]</td>\n",
       "      <td>1</td>\n",
       "    </tr>\n",
       "    <tr>\n",
       "      <th>6215559225876063378</th>\n",
       "      <td>[248]</td>\n",
       "      <td>1</td>\n",
       "    </tr>\n",
       "    <tr>\n",
       "      <th>6215162890135937308</th>\n",
       "      <td>[247]</td>\n",
       "      <td>1</td>\n",
       "    </tr>\n",
       "    <tr>\n",
       "      <th>6213626876710715478</th>\n",
       "      <td>[246]</td>\n",
       "      <td>1</td>\n",
       "    </tr>\n",
       "  </tbody>\n",
       "</table>\n",
       "</div>"
      ],
      "text/plain": [
       "                    unique_groups  cnt_unique_groups\n",
       "device_id_hash                                      \n",
       "6888746892508752            [246]                  1\n",
       "6204944347213293942         [248]                  1\n",
       "6215559225876063378         [248]                  1\n",
       "6215162890135937308         [247]                  1\n",
       "6213626876710715478         [246]                  1"
      ]
     },
     "metadata": {},
     "output_type": "display_data"
    },
    {
     "name": "stdout",
     "output_type": "stream",
     "text": [
      "Количество пересекающихся пользователей: 0\n"
     ]
    }
   ],
   "source": [
    "# сгруппируем данные по пользователю, найдем сами уникальные групп и их количество у каждого пользователя\n",
    "cross_users = data.groupby('device_id_hash').agg({'exp_id': ['unique', 'nunique']})\n",
    "\n",
    "# переименуем столбцы\n",
    "cross_users.columns = ['unique_groups', 'cnt_unique_groups']\n",
    "\n",
    "# отсортируем по убыванию количества групп в которые входит пользователь\n",
    "cross_users = cross_users.sort_values(by='cnt_unique_groups', ascending=False)\n",
    "display(cross_users.head())\n",
    "\n",
    "# найдем пересекающихся пользователей\n",
    "print('Количество пересекающихся пользователей:', len(cross_users[cross_users['cnt_unique_groups'] > 1]))"
   ]
  },
  {
   "cell_type": "markdown",
   "metadata": {},
   "source": [
    "В исследовании нет пересекающихся пользователей, которые входят в 2 или 3 группы эксперимента."
   ]
  },
  {
   "cell_type": "markdown",
   "metadata": {},
   "source": [
    "**Выводы по главе:**\n",
    "\n",
    "1. До отброса старых данных у нас было: 243 713 событий и 7 551 уникальных пользователей. Среднее количество событий на пользователя составляло 32.28 события. \n",
    "2. Минимальная дата исследования: 25 июля 2019. Максимальная дата исследования: 07 августа 2019.\n",
    "3. Исследование длилось неполных 14 дней с 25 июля 2019 по 07 августа 2019.\n",
    "4. Неполные данные идут с 25 июля 2019 по 31 июля 2019. Общий процент событий за этот период составляет 1.15% от общего числа событий.\n",
    "5. Отбросив старые данные, мы потеряли немного данных: 1.16% событий (2826 событий) и 0.23% уникальных пользователей (17 пользователей)\n",
    "6. Новое количество событий после отброса данных: 240 887. Новое количество уникальных пользователей после отброса данных: 7 534.\n",
    "7. В исследовании нет пересекающихся пользователей, которые входят в 2 или 3 группы эксперимента."
   ]
  },
  {
   "cell_type": "markdown",
   "metadata": {},
   "source": [
    "## Шаг 4. Изучите воронку событий"
   ]
  },
  {
   "cell_type": "markdown",
   "metadata": {},
   "source": [
    "### Посмотрите, какие события есть в логах, как часто они встречаются. Отсортируйте события по частоте."
   ]
  },
  {
   "cell_type": "code",
   "execution_count": 26,
   "metadata": {
    "scrolled": true
   },
   "outputs": [
    {
     "data": {
      "text/html": [
       "<div>\n",
       "<style scoped>\n",
       "    .dataframe tbody tr th:only-of-type {\n",
       "        vertical-align: middle;\n",
       "    }\n",
       "\n",
       "    .dataframe tbody tr th {\n",
       "        vertical-align: top;\n",
       "    }\n",
       "\n",
       "    .dataframe thead th {\n",
       "        text-align: right;\n",
       "    }\n",
       "</style>\n",
       "<table border=\"1\" class=\"dataframe\">\n",
       "  <thead>\n",
       "    <tr style=\"text-align: right;\">\n",
       "      <th></th>\n",
       "      <th>event_count</th>\n",
       "    </tr>\n",
       "    <tr>\n",
       "      <th>event_name</th>\n",
       "      <th></th>\n",
       "    </tr>\n",
       "  </thead>\n",
       "  <tbody>\n",
       "    <tr>\n",
       "      <th>MainScreenAppear</th>\n",
       "      <td>117328</td>\n",
       "    </tr>\n",
       "    <tr>\n",
       "      <th>OffersScreenAppear</th>\n",
       "      <td>46333</td>\n",
       "    </tr>\n",
       "    <tr>\n",
       "      <th>CartScreenAppear</th>\n",
       "      <td>42303</td>\n",
       "    </tr>\n",
       "    <tr>\n",
       "      <th>PaymentScreenSuccessful</th>\n",
       "      <td>33918</td>\n",
       "    </tr>\n",
       "    <tr>\n",
       "      <th>Tutorial</th>\n",
       "      <td>1005</td>\n",
       "    </tr>\n",
       "  </tbody>\n",
       "</table>\n",
       "</div>"
      ],
      "text/plain": [
       "                         event_count\n",
       "event_name                          \n",
       "MainScreenAppear              117328\n",
       "OffersScreenAppear             46333\n",
       "CartScreenAppear               42303\n",
       "PaymentScreenSuccessful        33918\n",
       "Tutorial                        1005"
      ]
     },
     "metadata": {},
     "output_type": "display_data"
    }
   ],
   "source": [
    "# сгруппируем данные по событиям, узнаем их количество\n",
    "event_ratio = data.groupby('event_name').agg({'device_id_hash': 'count'})\n",
    "event_ratio.columns = ['event_count']\n",
    "event_ratio = event_ratio.sort_values(by='event_count', ascending=False)\n",
    "\n",
    "# просмотрим таблицу\n",
    "display(event_ratio)"
   ]
  },
  {
   "cell_type": "markdown",
   "metadata": {},
   "source": [
    "Всего у нас 5 типов событий по убыванию частоты: \n",
    " - `MainScreenAppear` - просмотр окна главного экрана,\n",
    " - `OffersScreenAppear` - просмотр окна экрана предложения,\n",
    " - `CartScreenAppear` - просмотр окна экрана оплаты с карты,\n",
    " - `PaymentScreenSuccessful` - просмотр окна экрана успешной оплаты,\n",
    " - `Tutorial` - просмотр окна с руководством.\n",
    " \n",
    " Самое редкое событие это просмотр окна с руководством. Предположим, что его можно пропустить и большинству пользователей помощь в приложении не нужна.\n",
    " \n",
    " Уменьшение частоты событий соответствует логике покупки. Просмотр главного экрана, просмотр предложения, оплата с карты, сообщение об успешной оплате.\n",
    " \n",
    " На данный момент проблем не видно."
   ]
  },
  {
   "cell_type": "markdown",
   "metadata": {},
   "source": [
    "### Посчитайте, сколько пользователей совершали каждое из этих событий. Отсортируйте события по числу пользователей. Посчитайте долю пользователей, которые хоть раз совершали событие."
   ]
  },
  {
   "cell_type": "code",
   "execution_count": 27,
   "metadata": {
    "scrolled": true
   },
   "outputs": [
    {
     "data": {
      "text/html": [
       "<div>\n",
       "<style scoped>\n",
       "    .dataframe tbody tr th:only-of-type {\n",
       "        vertical-align: middle;\n",
       "    }\n",
       "\n",
       "    .dataframe tbody tr th {\n",
       "        vertical-align: top;\n",
       "    }\n",
       "\n",
       "    .dataframe thead th {\n",
       "        text-align: right;\n",
       "    }\n",
       "</style>\n",
       "<table border=\"1\" class=\"dataframe\">\n",
       "  <thead>\n",
       "    <tr style=\"text-align: right;\">\n",
       "      <th></th>\n",
       "      <th>event_name</th>\n",
       "      <th>user_count</th>\n",
       "      <th>percent</th>\n",
       "    </tr>\n",
       "  </thead>\n",
       "  <tbody>\n",
       "    <tr>\n",
       "      <th>0</th>\n",
       "      <td>MainScreenAppear</td>\n",
       "      <td>7419</td>\n",
       "      <td>98.47</td>\n",
       "    </tr>\n",
       "    <tr>\n",
       "      <th>1</th>\n",
       "      <td>OffersScreenAppear</td>\n",
       "      <td>4593</td>\n",
       "      <td>60.96</td>\n",
       "    </tr>\n",
       "    <tr>\n",
       "      <th>2</th>\n",
       "      <td>CartScreenAppear</td>\n",
       "      <td>3734</td>\n",
       "      <td>49.56</td>\n",
       "    </tr>\n",
       "    <tr>\n",
       "      <th>3</th>\n",
       "      <td>PaymentScreenSuccessful</td>\n",
       "      <td>3539</td>\n",
       "      <td>46.97</td>\n",
       "    </tr>\n",
       "    <tr>\n",
       "      <th>4</th>\n",
       "      <td>Tutorial</td>\n",
       "      <td>840</td>\n",
       "      <td>11.15</td>\n",
       "    </tr>\n",
       "  </tbody>\n",
       "</table>\n",
       "</div>"
      ],
      "text/plain": [
       "                event_name  user_count  percent\n",
       "0         MainScreenAppear        7419    98.47\n",
       "1       OffersScreenAppear        4593    60.96\n",
       "2         CartScreenAppear        3734    49.56\n",
       "3  PaymentScreenSuccessful        3539    46.97\n",
       "4                 Tutorial         840    11.15"
      ]
     },
     "metadata": {},
     "output_type": "display_data"
    }
   ],
   "source": [
    "# сгруппируем данные по уникальным пользователям\n",
    "user_ratio = data.groupby('event_name').agg({'device_id_hash': 'nunique'})\n",
    "user_ratio.columns = ['user_count']\n",
    "user_ratio = user_ratio.sort_values(by='user_count', ascending=False).reset_index()\n",
    "\n",
    "# рассчитаем долю пользователей, которые хоть раз совершали событие, от числа пользователей после отброса старых данных \n",
    "user_ratio['percent'] = round((user_ratio['user_count'] / new_users_cnt * 100), 2)\n",
    "\n",
    "# просмотрим таблицу\n",
    "display(user_ratio)"
   ]
  },
  {
   "cell_type": "code",
   "execution_count": 28,
   "metadata": {},
   "outputs": [
    {
     "name": "stdout",
     "output_type": "stream",
     "text": [
      "Новое количество уникальных пользователей после отброса данных (в переменной new_users_cnt): 7534\n",
      "Новое количество уникальных пользователей после отброса данных (путем подсчета уникальных пользователей): 7534\n"
     ]
    }
   ],
   "source": [
    "# проверим значения по количеству уникальных пользователей после отброса старых данных в переменной new_users_cnt\n",
    "print('Новое количество уникальных пользователей после отброса данных (в переменной new_users_cnt):', new_users_cnt)\n",
    "print('Новое количество уникальных пользователей после отброса данных (путем подсчета уникальных пользователей):',\n",
    "        data['device_id_hash'].nunique())"
   ]
  },
  {
   "cell_type": "markdown",
   "metadata": {},
   "source": [
    "Порядок частоты событий с сортировкой по уникальным пользователям совпадает с частотой событий с сортировкой по их количеству.\n",
    " \n",
    "Опять самое редкое событие это просмотр окна с руководством. Скорее всего его можно пропустить.\n",
    " \n",
    "И в этом случае уменьшение частоты событий соответствует логике покупки. Просмотр главного экрана, просмотр предложения, оплата с карты, сообщение об успешной оплате.\n",
    " \n",
    "Также проблем не видно."
   ]
  },
  {
   "cell_type": "markdown",
   "metadata": {},
   "source": [
    "### Предположите, в каком порядке происходят события. Все ли они выстраиваются в последовательную цепочку? Их не нужно учитывать при расчёте воронки."
   ]
  },
  {
   "cell_type": "markdown",
   "metadata": {},
   "source": [
    "После анализа частоты событий составим воронку. \n",
    "\n",
    "**Предположим, что порядок событий в приложении такой:**\n",
    "\n",
    "1. `MainScreenAppear` - просмотр окна главного экрана,\n",
    "2. `OffersScreenAppear` - просмотр окна экрана предложения,\n",
    "3. `CartScreenAppear` - просмотр окна экрана оплаты с карты,\n",
    "4. `PaymentScreenSuccessful` - просмотр окна экрана успешной оплаты.\n",
    "\n",
    "**Данный шаг можно пропустить, в воронку включать не будем:**\n",
    "\n",
    "1. `Tutorial` - просмотр окна с руководством\n",
    " \n",
    "Порядок событий соответствует логике покупки. Пользователь заходит на главный экран, переходит на экран предложения, оплачивает заказ, получает подтверждение успешной оплаты.\n",
    " \n",
    "Отдельно выделили самое редкое событие: просмотр окна с руководством. Предположим, что его можно пропустить. Большинству пользователей помощь в приложении не нужна, поэтому показатель низкий. \n",
    "\n",
    "Если мы включим данное событие в воронку, оно сделает конверсию очень низкой. Поэтому мы не включаем его в воронку."
   ]
  },
  {
   "cell_type": "markdown",
   "metadata": {},
   "source": [
    "### По воронке событий посчитайте, какая доля пользователей проходит на следующий шаг воронки (от числа пользователей на предыдущем). "
   ]
  },
  {
   "cell_type": "markdown",
   "metadata": {},
   "source": [
    "**То есть для последовательности событий A → B → C посчитайте отношение числа пользователей с событием B к количеству пользователей с событием A, а также отношение числа пользователей с событием C к количеству пользователей с событием B.**"
   ]
  },
  {
   "cell_type": "code",
   "execution_count": 29,
   "metadata": {},
   "outputs": [
    {
     "data": {
      "text/html": [
       "<div>\n",
       "<style scoped>\n",
       "    .dataframe tbody tr th:only-of-type {\n",
       "        vertical-align: middle;\n",
       "    }\n",
       "\n",
       "    .dataframe tbody tr th {\n",
       "        vertical-align: top;\n",
       "    }\n",
       "\n",
       "    .dataframe thead th {\n",
       "        text-align: right;\n",
       "    }\n",
       "</style>\n",
       "<table border=\"1\" class=\"dataframe\">\n",
       "  <thead>\n",
       "    <tr style=\"text-align: right;\">\n",
       "      <th></th>\n",
       "      <th>event_name</th>\n",
       "      <th>user_count</th>\n",
       "      <th>churn_rate</th>\n",
       "    </tr>\n",
       "  </thead>\n",
       "  <tbody>\n",
       "    <tr>\n",
       "      <th>0</th>\n",
       "      <td>MainScreenAppear</td>\n",
       "      <td>7419</td>\n",
       "      <td>0.00</td>\n",
       "    </tr>\n",
       "    <tr>\n",
       "      <th>1</th>\n",
       "      <td>OffersScreenAppear</td>\n",
       "      <td>4593</td>\n",
       "      <td>38.09</td>\n",
       "    </tr>\n",
       "    <tr>\n",
       "      <th>2</th>\n",
       "      <td>CartScreenAppear</td>\n",
       "      <td>3734</td>\n",
       "      <td>18.70</td>\n",
       "    </tr>\n",
       "    <tr>\n",
       "      <th>3</th>\n",
       "      <td>PaymentScreenSuccessful</td>\n",
       "      <td>3539</td>\n",
       "      <td>5.22</td>\n",
       "    </tr>\n",
       "  </tbody>\n",
       "</table>\n",
       "</div>"
      ],
      "text/plain": [
       "                event_name  user_count  churn_rate\n",
       "0         MainScreenAppear        7419        0.00\n",
       "1       OffersScreenAppear        4593       38.09\n",
       "2         CartScreenAppear        3734       18.70\n",
       "3  PaymentScreenSuccessful        3539        5.22"
      ]
     },
     "metadata": {},
     "output_type": "display_data"
    }
   ],
   "source": [
    "# построим воронку с churn_rate, исключим событие Tutorial\n",
    "churn_rate_funnel = user_ratio[['event_name', 'user_count']].query('event_name != \"Tutorial\"')\n",
    "# создадим столбец со смещением числа пользователей для подсчета churn_rate\n",
    "churn_rate_funnel['previous'] = churn_rate_funnel['user_count'].shift(periods=1, fill_value=0)\n",
    "# посчитаем churn_rate\n",
    "churn_rate_funnel['churn_rate'] = round((1 - churn_rate_funnel['user_count'] / churn_rate_funnel['previous']) * 100, 2)\n",
    "# заменим отрицательное значение на 0 в churn_rate\n",
    "churn_rate_funnel.replace([-np.inf], 0, inplace=True)\n",
    "\n",
    "# посмотрим на воронку событий\n",
    "display(churn_rate_funnel[['event_name', 'user_count', 'churn_rate']])"
   ]
  },
  {
   "cell_type": "markdown",
   "metadata": {},
   "source": [
    "Воронка событий построена."
   ]
  },
  {
   "cell_type": "markdown",
   "metadata": {},
   "source": [
    "### На каком шаге теряете больше всего пользователей?"
   ]
  },
  {
   "cell_type": "markdown",
   "metadata": {},
   "source": [
    "Больше всего пользователей мы теряем на 1 шаге во время просмотра главного экрана (событие `MainScreenAppear`). До следующего шага не доходит 38.09% пользователей с текущего шага.\n",
    "\n",
    "Далее коэффициент отскока уменьшается. "
   ]
  },
  {
   "cell_type": "markdown",
   "metadata": {},
   "source": [
    "### Какая доля пользователей доходит от первого события до оплаты?"
   ]
  },
  {
   "cell_type": "code",
   "execution_count": 30,
   "metadata": {},
   "outputs": [
    {
     "name": "stdout",
     "output_type": "stream",
     "text": [
      "От первого события (MainScreenAppear) до оплаты (PaymentScreenSuccessful) не доходит % пользователей: 47.7\n"
     ]
    }
   ],
   "source": [
    "print('От первого события (MainScreenAppear) до оплаты (PaymentScreenSuccessful) не доходит % пользователей:',\n",
    "      round(churn_rate_funnel['user_count'][3] / churn_rate_funnel['user_count'][0] * 100, 2))"
   ]
  },
  {
   "cell_type": "markdown",
   "metadata": {},
   "source": [
    "**Выводы по главе:**\n",
    "\n",
    "1. Всего у нас 5 типов событий по убыванию частоты:\n",
    "   - MainScreenAppear - просмотр окна главного экрана,\n",
    "   - OffersScreenAppear - просмотр окна экрана предложения,\n",
    "   - CartScreenAppear - просмотр окна экрана оплаты с карты,\n",
    "   - PaymentScreenSuccessful - просмотр окна экрана успешной оплаты,\n",
    "   - Tutorial - просмотр окна с руководством.\n",
    "   \n",
    "2. Уменьшение частоты событий соответствует логике покупки. Просмотр главного экрана, просмотр предложения, оплата с карты, сообщение об успешной оплате. Самое редкое событие это просмотр окна с руководством. Было предположено, что его можно пропустить и большинству пользователей помощь в приложении не нужна.\n",
    "    \n",
    "3. Порядок частоты событий с сортировкой по уникальным пользователям совпадает с частотой событий с сортировкой по их количеству.\n",
    "\n",
    "4. Была составлена воронка. Порядок событий в приложении такой:\n",
    "   - MainScreenAppear - просмотр окна главного экрана,\n",
    "   - OffersScreenAppear - просмотр окна экрана предложения,\n",
    "   - CartScreenAppear - просмотр окна экрана оплаты с карты,\n",
    "   - PaymentScreenSuccessful - просмотр окна экрана успешной оплаты.\n",
    "\n",
    "5. В воронку не включили событие Tutorial (просмотр окна с руководством), т.к. данный шаг можно пропустить.\n",
    "\n",
    "6. Больше всего пользователей мы теряем на 1 шаге во время просмотра главного экрана (событие MainScreenAppear). До следующего шага не доходит 38.09% пользователей с текущего шага. Далее коэффициент отскока уменьшается.\n",
    "\n",
    "7. От первого события (MainScreenAppear) до оплаты (PaymentScreenSuccessful) не доходит % пользователей: 47.7"
   ]
  },
  {
   "cell_type": "markdown",
   "metadata": {},
   "source": [
    "## Шаг 5. Изучите результаты эксперимента"
   ]
  },
  {
   "cell_type": "markdown",
   "metadata": {},
   "source": [
    "### Сколько пользователей в каждой экспериментальной группе?"
   ]
  },
  {
   "cell_type": "code",
   "execution_count": 31,
   "metadata": {},
   "outputs": [
    {
     "data": {
      "text/plain": [
       "exp_id\n",
       "246    2484\n",
       "247    2513\n",
       "248    2537\n",
       "Name: device_id_hash, dtype: int64"
      ]
     },
     "metadata": {},
     "output_type": "display_data"
    }
   ],
   "source": [
    "# сгруппируем данные по группе эксперимента, посчитаем уникальных пользователей\n",
    "exp_users = data.groupby('exp_id')['device_id_hash'].nunique()\n",
    "\n",
    "display(exp_users)"
   ]
  },
  {
   "cell_type": "markdown",
   "metadata": {},
   "source": [
    "В группе 246: 2484 пользователя, в группе 247: 2513 пользователей, в группе 248: 2537 пользователей. Количество пользователей в группах примерно равно."
   ]
  },
  {
   "cell_type": "markdown",
   "metadata": {},
   "source": [
    "### Есть 2 контрольные группы для А/А-эксперимента, чтобы проверить корректность всех механизмов и расчётов. Проверьте, находят ли статистические критерии разницу между выборками 246 и 247."
   ]
  },
  {
   "cell_type": "markdown",
   "metadata": {},
   "source": [
    "Для проверки статистических критериев разницы между выборками будем использовать z-тест, который проверяет Гипотезы о равенстве долей.\n",
    "\n",
    "Для начала сгруппируем данные для теста и напишем функцию, для проведения теста."
   ]
  },
  {
   "cell_type": "code",
   "execution_count": 32,
   "metadata": {},
   "outputs": [
    {
     "data": {
      "text/html": [
       "<div>\n",
       "<style scoped>\n",
       "    .dataframe tbody tr th:only-of-type {\n",
       "        vertical-align: middle;\n",
       "    }\n",
       "\n",
       "    .dataframe tbody tr th {\n",
       "        vertical-align: top;\n",
       "    }\n",
       "\n",
       "    .dataframe thead th {\n",
       "        text-align: right;\n",
       "    }\n",
       "</style>\n",
       "<table border=\"1\" class=\"dataframe\">\n",
       "  <thead>\n",
       "    <tr style=\"text-align: right;\">\n",
       "      <th>exp_id</th>\n",
       "      <th>246</th>\n",
       "      <th>247</th>\n",
       "      <th>248</th>\n",
       "      <th>246_and_247</th>\n",
       "    </tr>\n",
       "    <tr>\n",
       "      <th>event_name</th>\n",
       "      <th></th>\n",
       "      <th></th>\n",
       "      <th></th>\n",
       "      <th></th>\n",
       "    </tr>\n",
       "  </thead>\n",
       "  <tbody>\n",
       "    <tr>\n",
       "      <th>MainScreenAppear</th>\n",
       "      <td>2450</td>\n",
       "      <td>2476</td>\n",
       "      <td>2493</td>\n",
       "      <td>4926</td>\n",
       "    </tr>\n",
       "    <tr>\n",
       "      <th>OffersScreenAppear</th>\n",
       "      <td>1542</td>\n",
       "      <td>1520</td>\n",
       "      <td>1531</td>\n",
       "      <td>3062</td>\n",
       "    </tr>\n",
       "    <tr>\n",
       "      <th>CartScreenAppear</th>\n",
       "      <td>1266</td>\n",
       "      <td>1238</td>\n",
       "      <td>1230</td>\n",
       "      <td>2504</td>\n",
       "    </tr>\n",
       "    <tr>\n",
       "      <th>PaymentScreenSuccessful</th>\n",
       "      <td>1200</td>\n",
       "      <td>1158</td>\n",
       "      <td>1181</td>\n",
       "      <td>2358</td>\n",
       "    </tr>\n",
       "    <tr>\n",
       "      <th>Tutorial</th>\n",
       "      <td>278</td>\n",
       "      <td>283</td>\n",
       "      <td>279</td>\n",
       "      <td>561</td>\n",
       "    </tr>\n",
       "  </tbody>\n",
       "</table>\n",
       "</div>"
      ],
      "text/plain": [
       "exp_id                    246   247   248  246_and_247\n",
       "event_name                                            \n",
       "MainScreenAppear         2450  2476  2493         4926\n",
       "OffersScreenAppear       1542  1520  1531         3062\n",
       "CartScreenAppear         1266  1238  1230         2504\n",
       "PaymentScreenSuccessful  1200  1158  1181         2358\n",
       "Tutorial                  278   283   279          561"
      ]
     },
     "metadata": {},
     "output_type": "display_data"
    }
   ],
   "source": [
    "# сгруппируем данные в сводную таблицу, отсортируем по убыванию частоты событий\n",
    "data_test = (data.pivot_table(index='event_name', columns='exp_id', values='device_id_hash', aggfunc='nunique')\n",
    "    .sort_values(by=246, ascending=False)\n",
    ")\n",
    "\n",
    "# добавим столбец с объединённой контрольной группой\n",
    "data_test['246_and_247'] = data_test[246] + data_test[247]\n",
    "\n",
    "# посмотрим на собранные данные для теста\n",
    "display(data_test)"
   ]
  },
  {
   "cell_type": "code",
   "execution_count": 33,
   "metadata": {},
   "outputs": [
    {
     "data": {
      "text/plain": [
       "exp_id\n",
       "246    2484\n",
       "247    2513\n",
       "248    2537\n",
       "Name: device_id_hash, dtype: int64"
      ]
     },
     "metadata": {},
     "output_type": "display_data"
    },
    {
     "data": {
      "text/html": [
       "<div>\n",
       "<style scoped>\n",
       "    .dataframe tbody tr th:only-of-type {\n",
       "        vertical-align: middle;\n",
       "    }\n",
       "\n",
       "    .dataframe tbody tr th {\n",
       "        vertical-align: top;\n",
       "    }\n",
       "\n",
       "    .dataframe thead th {\n",
       "        text-align: right;\n",
       "    }\n",
       "</style>\n",
       "<table border=\"1\" class=\"dataframe\">\n",
       "  <thead>\n",
       "    <tr style=\"text-align: right;\">\n",
       "      <th></th>\n",
       "      <th>user_count</th>\n",
       "    </tr>\n",
       "    <tr>\n",
       "      <th>exp_id</th>\n",
       "      <th></th>\n",
       "    </tr>\n",
       "  </thead>\n",
       "  <tbody>\n",
       "    <tr>\n",
       "      <th>246</th>\n",
       "      <td>2484</td>\n",
       "    </tr>\n",
       "    <tr>\n",
       "      <th>247</th>\n",
       "      <td>2513</td>\n",
       "    </tr>\n",
       "    <tr>\n",
       "      <th>248</th>\n",
       "      <td>2537</td>\n",
       "    </tr>\n",
       "    <tr>\n",
       "      <th>246_and_247</th>\n",
       "      <td>4997</td>\n",
       "    </tr>\n",
       "  </tbody>\n",
       "</table>\n",
       "</div>"
      ],
      "text/plain": [
       "             user_count\n",
       "exp_id                 \n",
       "246                2484\n",
       "247                2513\n",
       "248                2537\n",
       "246_and_247        4997"
      ]
     },
     "metadata": {},
     "output_type": "display_data"
    }
   ],
   "source": [
    "# создадим таблицу с количеством пользователей в выборках по экспериментальным группам\n",
    "display(exp_users)\n",
    "\n",
    "# добавим строку с объединённой контрольной группой\n",
    "exp_users.loc['246_and_247'] = exp_users.loc[246] + exp_users.loc[247]\n",
    "\n",
    "# изменим тип с Series на DataFrame\n",
    "exp_users = exp_users.to_frame(name='user_count')\n",
    "display(exp_users)"
   ]
  },
  {
   "cell_type": "code",
   "execution_count": 34,
   "metadata": {},
   "outputs": [],
   "source": [
    "# создадим функцию для проверки экспериментальных групп\n",
    "def test_z_value (group1, group2, event, alpha = 0.05):\n",
    "    # функция принимает название 1 и 2 группы и название события для проверки\n",
    "    # и критический уровень статистической значимости (по умолчанию 0.05);\n",
    "    # функция выбирает данные по группам и событию;\n",
    "    # далее проверяется гипотеза о равенстве долей в выборка с помощью z-теста\n",
    "    # и возвращается результат о наличии статистической разнице между группами\n",
    "    # alpha = 0.05 \n",
    "\n",
    "    # наблюдаемая величина в 1 и 2 группе\n",
    "    s1 = data_test.loc[event, group1]\n",
    "    s2 = data_test.loc[event, group2]\n",
    "\n",
    "    # размеры выборок групп 1 и 2\n",
    "    n1 = exp_users.loc[group1]\n",
    "    n2 = exp_users.loc[group2]\n",
    "\n",
    "    # пропорция, наблюдаемая в 1 группе\n",
    "    p1 = s1 / n1\n",
    "\n",
    "    # пропорция, наблюдаемая во 2 группе\n",
    "    p2 = s2 / n2\n",
    "\n",
    "    # пропорция в скомбинированной выборке\n",
    "    p_combined = (s1 + s2) / (n1 + n2)\n",
    "\n",
    "    # разница пропорций в выборках\n",
    "    difference = p1 - p2\n",
    "\n",
    "    # считаем статистику в ст.отклонениях стандартного нормального распределения\n",
    "    z_value = difference / mth.sqrt(p_combined * (1 - p_combined) * (1 / n1 + 1 / n2))\n",
    "\n",
    "    # задаем стандартное нормальное распределение (среднее 0, ст.отклонение 1)\n",
    "    distr = st.norm(0, 1)\n",
    "\n",
    "    p_value = (1 - distr.cdf(abs(z_value))) * 2\n",
    "\n",
    "    if p_value < alpha:\n",
    "        print(f'Отвергаем нулевую гипотезу: \\nмежду группами {group1} и {group2} есть значимая разница между долями по событию {event} при уровне значимости {alpha}')\n",
    "        print('p-значение: ', p_value)\n",
    "    else:\n",
    "        print(\n",
    "            f'Не получилось отвергнуть нулевую гипотезу, \\nнет оснований считать группы {group1} и {group2} разными по долям по событию {event} при уровне значимости {alpha}')\n",
    "        print('p-значение: ', p_value)"
   ]
  },
  {
   "cell_type": "markdown",
   "metadata": {},
   "source": [
    "Проверим разницу по статистические критериям между выборками 246 и 247 по событию MainScreenAppear.\n",
    "\n",
    "\n",
    "Также сформулируем гипотезы:\n",
    "\n",
    "    Н0: Нет различий между долями по событию в проверяемых группах 1 и 2.\n",
    "    H1: Есть различия между долями по событию в проверяемых группах 1 и 2."
   ]
  },
  {
   "cell_type": "code",
   "execution_count": 35,
   "metadata": {},
   "outputs": [
    {
     "name": "stdout",
     "output_type": "stream",
     "text": [
      "Не получилось отвергнуть нулевую гипотезу, \n",
      "нет оснований считать группы 246 и 247 разными по долям по событию MainScreenAppear при уровне значимости 0.05\n",
      "p-значение:  [0.75705972]\n"
     ]
    }
   ],
   "source": [
    "# проверим работу функции\n",
    "test_z_value(246, 247, 'MainScreenAppear', 0.05)"
   ]
  },
  {
   "cell_type": "markdown",
   "metadata": {},
   "source": [
    "Была произведена проверка корректности всех механизмов и расчётов А/А-эксперимента с помощью z-теста.\n",
    "\n",
    "Функция работает. Проблем не видно.\n",
    "\n",
    "Предварительно считаем, что нет разницы по статистическим критериям по событию MainScreenAppear нет между контрольными группами 246 и 247 для А/А-эксперимента.\n",
    "\n",
    "В следующем шаге проверку сделаем в цикле и проверим различия по оставшимся событиям между контрольными группами 246 и 247. И сделаем окончательный вывод."
   ]
  },
  {
   "cell_type": "markdown",
   "metadata": {},
   "source": [
    "### Выберите самое популярное событие. "
   ]
  },
  {
   "cell_type": "markdown",
   "metadata": {},
   "source": [
    "**Посчитайте число пользователей, совершивших это событие в каждой из контрольных групп. Посчитайте долю пользователей, совершивших это событие. Проверьте, будет ли отличие между группами статистически достоверным. Проделайте то же самое для всех других событий (удобно обернуть проверку в отдельную функцию). Можно ли сказать, что разбиение на группы работает корректно?**"
   ]
  },
  {
   "cell_type": "markdown",
   "metadata": {},
   "source": [
    "У нас сформулированы гипотезы:\n",
    "\n",
    "    Н0: Нет различий между долями по событию в проверяемых группах 1 и 2.\n",
    "    H1: Есть различия между долями по событию в проверяемых группах 1 и 2.\n",
    "    \n",
    "Проверим различия по оставшимся событиям между контрольными группами 246 и 247."
   ]
  },
  {
   "cell_type": "markdown",
   "metadata": {},
   "source": [
    "В датафрейме data_test уже посчитано число пользователей, совершивших событие в каждой из контрольных групп. Была сделано сортировка по уменьшению популярности событий.\n",
    "\n",
    "Самое популярное событие: MainScreenAppear.\n",
    "\n",
    "Проверим, будет ли отличие между группами статистически достоверным по всем событиям."
   ]
  },
  {
   "cell_type": "code",
   "execution_count": 36,
   "metadata": {},
   "outputs": [
    {
     "data": {
      "text/html": [
       "<div>\n",
       "<style scoped>\n",
       "    .dataframe tbody tr th:only-of-type {\n",
       "        vertical-align: middle;\n",
       "    }\n",
       "\n",
       "    .dataframe tbody tr th {\n",
       "        vertical-align: top;\n",
       "    }\n",
       "\n",
       "    .dataframe thead th {\n",
       "        text-align: right;\n",
       "    }\n",
       "</style>\n",
       "<table border=\"1\" class=\"dataframe\">\n",
       "  <thead>\n",
       "    <tr style=\"text-align: right;\">\n",
       "      <th>exp_id</th>\n",
       "      <th>246</th>\n",
       "      <th>247</th>\n",
       "      <th>248</th>\n",
       "      <th>246_and_247</th>\n",
       "    </tr>\n",
       "    <tr>\n",
       "      <th>event_name</th>\n",
       "      <th></th>\n",
       "      <th></th>\n",
       "      <th></th>\n",
       "      <th></th>\n",
       "    </tr>\n",
       "  </thead>\n",
       "  <tbody>\n",
       "    <tr>\n",
       "      <th>MainScreenAppear</th>\n",
       "      <td>2450</td>\n",
       "      <td>2476</td>\n",
       "      <td>2493</td>\n",
       "      <td>4926</td>\n",
       "    </tr>\n",
       "    <tr>\n",
       "      <th>OffersScreenAppear</th>\n",
       "      <td>1542</td>\n",
       "      <td>1520</td>\n",
       "      <td>1531</td>\n",
       "      <td>3062</td>\n",
       "    </tr>\n",
       "    <tr>\n",
       "      <th>CartScreenAppear</th>\n",
       "      <td>1266</td>\n",
       "      <td>1238</td>\n",
       "      <td>1230</td>\n",
       "      <td>2504</td>\n",
       "    </tr>\n",
       "    <tr>\n",
       "      <th>PaymentScreenSuccessful</th>\n",
       "      <td>1200</td>\n",
       "      <td>1158</td>\n",
       "      <td>1181</td>\n",
       "      <td>2358</td>\n",
       "    </tr>\n",
       "    <tr>\n",
       "      <th>Tutorial</th>\n",
       "      <td>278</td>\n",
       "      <td>283</td>\n",
       "      <td>279</td>\n",
       "      <td>561</td>\n",
       "    </tr>\n",
       "  </tbody>\n",
       "</table>\n",
       "</div>"
      ],
      "text/plain": [
       "exp_id                    246   247   248  246_and_247\n",
       "event_name                                            \n",
       "MainScreenAppear         2450  2476  2493         4926\n",
       "OffersScreenAppear       1542  1520  1531         3062\n",
       "CartScreenAppear         1266  1238  1230         2504\n",
       "PaymentScreenSuccessful  1200  1158  1181         2358\n",
       "Tutorial                  278   283   279          561"
      ]
     },
     "metadata": {},
     "output_type": "display_data"
    }
   ],
   "source": [
    "display(data_test)"
   ]
  },
  {
   "cell_type": "code",
   "execution_count": 37,
   "metadata": {},
   "outputs": [],
   "source": [
    "# напишем функцию для проверки в цикле\n",
    "def test_z_value_circle (group1, group2, alpha = 0.05):\n",
    "# функция делает проверку по всем событиям в сравниваемых группах\n",
    "# с помощью цикла для каждого значения индекса data_test вызывает функцию test_z_value\n",
    "    for event in data_test.index:\n",
    "        test_z_value(group1, group2, event, alpha)\n",
    "        print()"
   ]
  },
  {
   "cell_type": "code",
   "execution_count": 38,
   "metadata": {
    "scrolled": true
   },
   "outputs": [
    {
     "name": "stdout",
     "output_type": "stream",
     "text": [
      "Не получилось отвергнуть нулевую гипотезу, \n",
      "нет оснований считать группы 246 и 247 разными по долям по событию MainScreenAppear при уровне значимости 0.05\n",
      "p-значение:  [0.75705972]\n",
      "\n",
      "Не получилось отвергнуть нулевую гипотезу, \n",
      "нет оснований считать группы 246 и 247 разными по долям по событию OffersScreenAppear при уровне значимости 0.05\n",
      "p-значение:  [0.24809546]\n",
      "\n",
      "Не получилось отвергнуть нулевую гипотезу, \n",
      "нет оснований считать группы 246 и 247 разными по долям по событию CartScreenAppear при уровне значимости 0.05\n",
      "p-значение:  [0.22883372]\n",
      "\n",
      "Не получилось отвергнуть нулевую гипотезу, \n",
      "нет оснований считать группы 246 и 247 разными по долям по событию PaymentScreenSuccessful при уровне значимости 0.05\n",
      "p-значение:  [0.11456679]\n",
      "\n",
      "Не получилось отвергнуть нулевую гипотезу, \n",
      "нет оснований считать группы 246 и 247 разными по долям по событию Tutorial при уровне значимости 0.05\n",
      "p-значение:  [0.93769962]\n",
      "\n"
     ]
    }
   ],
   "source": [
    "# сделаем проверку между группами 246 и 247 по всем событиям\n",
    "test_z_value_circle(246, 247, 0.05)"
   ]
  },
  {
   "cell_type": "markdown",
   "metadata": {},
   "source": [
    "Была произведена окончательная проверка корректности всех механизмов и расчётов А/А-эксперимента с помощью z-теста.\n",
    "\n",
    "Нет разницы  по статистическим критериям по всем событиям между контрольными группами 246 и 247 для А/А-эксперимента."
   ]
  },
  {
   "cell_type": "markdown",
   "metadata": {},
   "source": [
    "### Аналогично поступите с группой с изменённым шрифтом. Сравните результаты с каждой из контрольных групп в отдельности по каждому событию. Сравните результаты с объединённой контрольной группой. Какие выводы из эксперимента можно сделать?"
   ]
  },
  {
   "cell_type": "markdown",
   "metadata": {},
   "source": [
    "В датафреймах data_test и exp_users создали записи `246_and_247`, которые хранят значения объединенных контрольных групп 246 и 247.\n",
    "\n",
    "Сделаем оставшиеся проверки."
   ]
  },
  {
   "cell_type": "code",
   "execution_count": 39,
   "metadata": {},
   "outputs": [
    {
     "name": "stdout",
     "output_type": "stream",
     "text": [
      "Не получилось отвергнуть нулевую гипотезу, \n",
      "нет оснований считать группы 246 и 248 разными по долям по событию MainScreenAppear при уровне значимости 0.05\n",
      "p-значение:  [0.29497219]\n",
      "\n",
      "Не получилось отвергнуть нулевую гипотезу, \n",
      "нет оснований считать группы 246 и 248 разными по долям по событию OffersScreenAppear при уровне значимости 0.05\n",
      "p-значение:  [0.20836205]\n",
      "\n",
      "Не получилось отвергнуть нулевую гипотезу, \n",
      "нет оснований считать группы 246 и 248 разными по долям по событию CartScreenAppear при уровне значимости 0.05\n",
      "p-значение:  [0.07842923]\n",
      "\n",
      "Не получилось отвергнуть нулевую гипотезу, \n",
      "нет оснований считать группы 246 и 248 разными по долям по событию PaymentScreenSuccessful при уровне значимости 0.05\n",
      "p-значение:  [0.21225533]\n",
      "\n",
      "Не получилось отвергнуть нулевую гипотезу, \n",
      "нет оснований считать группы 246 и 248 разными по долям по событию Tutorial при уровне значимости 0.05\n",
      "p-значение:  [0.8264294]\n",
      "\n"
     ]
    }
   ],
   "source": [
    "# сделаем проверку между группой 246 и группой 248, у которой другой шрифт, по всем событиям\n",
    "test_z_value_circle(246, 248, 0.05)"
   ]
  },
  {
   "cell_type": "markdown",
   "metadata": {},
   "source": [
    "Нет статистической разницы по долям по всем событиям между контрольной группой 246 и группой 248, у которой другой шрифт. "
   ]
  },
  {
   "cell_type": "code",
   "execution_count": 40,
   "metadata": {},
   "outputs": [
    {
     "name": "stdout",
     "output_type": "stream",
     "text": [
      "Не получилось отвергнуть нулевую гипотезу, \n",
      "нет оснований считать группы 247 и 248 разными по долям по событию MainScreenAppear при уровне значимости 0.05\n",
      "p-значение:  [0.45870536]\n",
      "\n",
      "Не получилось отвергнуть нулевую гипотезу, \n",
      "нет оснований считать группы 247 и 248 разными по долям по событию OffersScreenAppear при уровне значимости 0.05\n",
      "p-значение:  [0.91978178]\n",
      "\n",
      "Не получилось отвергнуть нулевую гипотезу, \n",
      "нет оснований считать группы 247 и 248 разными по долям по событию CartScreenAppear при уровне значимости 0.05\n",
      "p-значение:  [0.57861979]\n",
      "\n",
      "Не получилось отвергнуть нулевую гипотезу, \n",
      "нет оснований считать группы 247 и 248 разными по долям по событию PaymentScreenSuccessful при уровне значимости 0.05\n",
      "p-значение:  [0.73734151]\n",
      "\n",
      "Не получилось отвергнуть нулевую гипотезу, \n",
      "нет оснований считать группы 247 и 248 разными по долям по событию Tutorial при уровне значимости 0.05\n",
      "p-значение:  [0.76532392]\n",
      "\n"
     ]
    }
   ],
   "source": [
    "# сделаем проверку между группой 247 и группой 248, у которой другой шрифт, по всем событиям\n",
    "test_z_value_circle(247, 248, 0.05)"
   ]
  },
  {
   "cell_type": "markdown",
   "metadata": {},
   "source": [
    "Нет статистической разницы по долям по всем событиям между контрольной группой 247 и группой 248, у которой другой шрифт. "
   ]
  },
  {
   "cell_type": "code",
   "execution_count": 41,
   "metadata": {},
   "outputs": [
    {
     "name": "stdout",
     "output_type": "stream",
     "text": [
      "Не получилось отвергнуть нулевую гипотезу, \n",
      "нет оснований считать группы 246_and_247 и 248 разными по долям по событию MainScreenAppear при уровне значимости 0.05\n",
      "p-значение:  [0.29424527]\n",
      "\n",
      "Не получилось отвергнуть нулевую гипотезу, \n",
      "нет оснований считать группы 246_and_247 и 248 разными по долям по событию OffersScreenAppear при уровне значимости 0.05\n",
      "p-значение:  [0.4342555]\n",
      "\n",
      "Не получилось отвергнуть нулевую гипотезу, \n",
      "нет оснований считать группы 246_and_247 и 248 разными по долям по событию CartScreenAppear при уровне значимости 0.05\n",
      "p-значение:  [0.18175875]\n",
      "\n",
      "Не получилось отвергнуть нулевую гипотезу, \n",
      "нет оснований считать группы 246_and_247 и 248 разными по долям по событию PaymentScreenSuccessful при уровне значимости 0.05\n",
      "p-значение:  [0.60042943]\n",
      "\n",
      "Не получилось отвергнуть нулевую гипотезу, \n",
      "нет оснований считать группы 246_and_247 и 248 разными по долям по событию Tutorial при уровне значимости 0.05\n",
      "p-значение:  [0.76486247]\n",
      "\n"
     ]
    }
   ],
   "source": [
    "# сделаем проверку между объединенной контрольной группой 246 и 247 и группой 248, у которой другой шрифт, по всем событиям\n",
    "test_z_value_circle('246_and_247', 248, 0.05)"
   ]
  },
  {
   "cell_type": "markdown",
   "metadata": {},
   "source": [
    "Нет статистической разницы по долям по всем событиям между объединенной контрольной группой 246 и 247 и группой 248, у которой другой шрифт. "
   ]
  },
  {
   "cell_type": "markdown",
   "metadata": {},
   "source": [
    "### Какой уровень значимости вы выбрали при проверке статистических гипотез выше?"
   ]
  },
  {
   "cell_type": "markdown",
   "metadata": {},
   "source": [
    "**Посчитайте, сколько проверок статистических гипотез вы сделали. При уровне значимости 0.1 каждый десятый раз можно получать ложный результат. Какой уровень значимости стоит применить? Если вы хотите изменить его, проделайте предыдущие пункты и проверьте свои выводы.**"
   ]
  },
  {
   "cell_type": "markdown",
   "metadata": {},
   "source": [
    "При проверки использовали уровень значимости alpha = 0.05. По всем группам и по всем событиям нет статистической разницы между долями при уровне значимости 0.05. Было сделано 20 проверок статистических гипотез.\n",
    "\n",
    "Сделаем проверки с уровнем значимости 0.1 и 0.01."
   ]
  },
  {
   "cell_type": "code",
   "execution_count": 42,
   "metadata": {
    "scrolled": true
   },
   "outputs": [
    {
     "name": "stdout",
     "output_type": "stream",
     "text": [
      "Не получилось отвергнуть нулевую гипотезу, \n",
      "нет оснований считать группы 246 и 247 разными по долям по событию MainScreenAppear при уровне значимости 0.01\n",
      "p-значение:  [0.75705972]\n",
      "\n",
      "Не получилось отвергнуть нулевую гипотезу, \n",
      "нет оснований считать группы 246 и 247 разными по долям по событию OffersScreenAppear при уровне значимости 0.01\n",
      "p-значение:  [0.24809546]\n",
      "\n",
      "Не получилось отвергнуть нулевую гипотезу, \n",
      "нет оснований считать группы 246 и 247 разными по долям по событию CartScreenAppear при уровне значимости 0.01\n",
      "p-значение:  [0.22883372]\n",
      "\n",
      "Не получилось отвергнуть нулевую гипотезу, \n",
      "нет оснований считать группы 246 и 247 разными по долям по событию PaymentScreenSuccessful при уровне значимости 0.01\n",
      "p-значение:  [0.11456679]\n",
      "\n",
      "Не получилось отвергнуть нулевую гипотезу, \n",
      "нет оснований считать группы 246 и 247 разными по долям по событию Tutorial при уровне значимости 0.01\n",
      "p-значение:  [0.93769962]\n",
      "\n",
      "Не получилось отвергнуть нулевую гипотезу, \n",
      "нет оснований считать группы 246 и 248 разными по долям по событию MainScreenAppear при уровне значимости 0.01\n",
      "p-значение:  [0.29497219]\n",
      "\n",
      "Не получилось отвергнуть нулевую гипотезу, \n",
      "нет оснований считать группы 246 и 248 разными по долям по событию OffersScreenAppear при уровне значимости 0.01\n",
      "p-значение:  [0.20836205]\n",
      "\n",
      "Не получилось отвергнуть нулевую гипотезу, \n",
      "нет оснований считать группы 246 и 248 разными по долям по событию CartScreenAppear при уровне значимости 0.01\n",
      "p-значение:  [0.07842923]\n",
      "\n",
      "Не получилось отвергнуть нулевую гипотезу, \n",
      "нет оснований считать группы 246 и 248 разными по долям по событию PaymentScreenSuccessful при уровне значимости 0.01\n",
      "p-значение:  [0.21225533]\n",
      "\n",
      "Не получилось отвергнуть нулевую гипотезу, \n",
      "нет оснований считать группы 246 и 248 разными по долям по событию Tutorial при уровне значимости 0.01\n",
      "p-значение:  [0.8264294]\n",
      "\n",
      "Не получилось отвергнуть нулевую гипотезу, \n",
      "нет оснований считать группы 247 и 248 разными по долям по событию MainScreenAppear при уровне значимости 0.01\n",
      "p-значение:  [0.45870536]\n",
      "\n",
      "Не получилось отвергнуть нулевую гипотезу, \n",
      "нет оснований считать группы 247 и 248 разными по долям по событию OffersScreenAppear при уровне значимости 0.01\n",
      "p-значение:  [0.91978178]\n",
      "\n",
      "Не получилось отвергнуть нулевую гипотезу, \n",
      "нет оснований считать группы 247 и 248 разными по долям по событию CartScreenAppear при уровне значимости 0.01\n",
      "p-значение:  [0.57861979]\n",
      "\n",
      "Не получилось отвергнуть нулевую гипотезу, \n",
      "нет оснований считать группы 247 и 248 разными по долям по событию PaymentScreenSuccessful при уровне значимости 0.01\n",
      "p-значение:  [0.73734151]\n",
      "\n",
      "Не получилось отвергнуть нулевую гипотезу, \n",
      "нет оснований считать группы 247 и 248 разными по долям по событию Tutorial при уровне значимости 0.01\n",
      "p-значение:  [0.76532392]\n",
      "\n",
      "Не получилось отвергнуть нулевую гипотезу, \n",
      "нет оснований считать группы 246_and_247 и 248 разными по долям по событию MainScreenAppear при уровне значимости 0.01\n",
      "p-значение:  [0.29424527]\n",
      "\n",
      "Не получилось отвергнуть нулевую гипотезу, \n",
      "нет оснований считать группы 246_and_247 и 248 разными по долям по событию OffersScreenAppear при уровне значимости 0.01\n",
      "p-значение:  [0.4342555]\n",
      "\n",
      "Не получилось отвергнуть нулевую гипотезу, \n",
      "нет оснований считать группы 246_and_247 и 248 разными по долям по событию CartScreenAppear при уровне значимости 0.01\n",
      "p-значение:  [0.18175875]\n",
      "\n",
      "Не получилось отвергнуть нулевую гипотезу, \n",
      "нет оснований считать группы 246_and_247 и 248 разными по долям по событию PaymentScreenSuccessful при уровне значимости 0.01\n",
      "p-значение:  [0.60042943]\n",
      "\n",
      "Не получилось отвергнуть нулевую гипотезу, \n",
      "нет оснований считать группы 246_and_247 и 248 разными по долям по событию Tutorial при уровне значимости 0.01\n",
      "p-значение:  [0.76486247]\n",
      "\n"
     ]
    }
   ],
   "source": [
    "# проверим все группы и события с уровнем значимости 0.01\n",
    "test_z_value_circle(246, 247, 0.01)\n",
    "test_z_value_circle(246, 248, 0.01)\n",
    "test_z_value_circle(247, 248, 0.01)\n",
    "test_z_value_circle('246_and_247', 248, 0.01)"
   ]
  },
  {
   "cell_type": "markdown",
   "metadata": {},
   "source": [
    "По всем группам и по всем событиям нет статистической разницы между долями при уровне значимости 0.01. Было сделано 20 проверок статистических гипотез."
   ]
  },
  {
   "cell_type": "code",
   "execution_count": 43,
   "metadata": {},
   "outputs": [
    {
     "name": "stdout",
     "output_type": "stream",
     "text": [
      "Не получилось отвергнуть нулевую гипотезу, \n",
      "нет оснований считать группы 246 и 247 разными по долям по событию MainScreenAppear при уровне значимости 0.1\n",
      "p-значение:  [0.75705972]\n",
      "\n",
      "Не получилось отвергнуть нулевую гипотезу, \n",
      "нет оснований считать группы 246 и 247 разными по долям по событию OffersScreenAppear при уровне значимости 0.1\n",
      "p-значение:  [0.24809546]\n",
      "\n",
      "Не получилось отвергнуть нулевую гипотезу, \n",
      "нет оснований считать группы 246 и 247 разными по долям по событию CartScreenAppear при уровне значимости 0.1\n",
      "p-значение:  [0.22883372]\n",
      "\n",
      "Не получилось отвергнуть нулевую гипотезу, \n",
      "нет оснований считать группы 246 и 247 разными по долям по событию PaymentScreenSuccessful при уровне значимости 0.1\n",
      "p-значение:  [0.11456679]\n",
      "\n",
      "Не получилось отвергнуть нулевую гипотезу, \n",
      "нет оснований считать группы 246 и 247 разными по долям по событию Tutorial при уровне значимости 0.1\n",
      "p-значение:  [0.93769962]\n",
      "\n",
      "Не получилось отвергнуть нулевую гипотезу, \n",
      "нет оснований считать группы 246 и 248 разными по долям по событию MainScreenAppear при уровне значимости 0.1\n",
      "p-значение:  [0.29497219]\n",
      "\n",
      "Не получилось отвергнуть нулевую гипотезу, \n",
      "нет оснований считать группы 246 и 248 разными по долям по событию OffersScreenAppear при уровне значимости 0.1\n",
      "p-значение:  [0.20836205]\n",
      "\n",
      "Отвергаем нулевую гипотезу: \n",
      "между группами 246 и 248 есть значимая разница между долями по событию CartScreenAppear при уровне значимости 0.1\n",
      "p-значение:  [0.07842923]\n",
      "\n",
      "Не получилось отвергнуть нулевую гипотезу, \n",
      "нет оснований считать группы 246 и 248 разными по долям по событию PaymentScreenSuccessful при уровне значимости 0.1\n",
      "p-значение:  [0.21225533]\n",
      "\n",
      "Не получилось отвергнуть нулевую гипотезу, \n",
      "нет оснований считать группы 246 и 248 разными по долям по событию Tutorial при уровне значимости 0.1\n",
      "p-значение:  [0.8264294]\n",
      "\n",
      "Не получилось отвергнуть нулевую гипотезу, \n",
      "нет оснований считать группы 247 и 248 разными по долям по событию MainScreenAppear при уровне значимости 0.1\n",
      "p-значение:  [0.45870536]\n",
      "\n",
      "Не получилось отвергнуть нулевую гипотезу, \n",
      "нет оснований считать группы 247 и 248 разными по долям по событию OffersScreenAppear при уровне значимости 0.1\n",
      "p-значение:  [0.91978178]\n",
      "\n",
      "Не получилось отвергнуть нулевую гипотезу, \n",
      "нет оснований считать группы 247 и 248 разными по долям по событию CartScreenAppear при уровне значимости 0.1\n",
      "p-значение:  [0.57861979]\n",
      "\n",
      "Не получилось отвергнуть нулевую гипотезу, \n",
      "нет оснований считать группы 247 и 248 разными по долям по событию PaymentScreenSuccessful при уровне значимости 0.1\n",
      "p-значение:  [0.73734151]\n",
      "\n",
      "Не получилось отвергнуть нулевую гипотезу, \n",
      "нет оснований считать группы 247 и 248 разными по долям по событию Tutorial при уровне значимости 0.1\n",
      "p-значение:  [0.76532392]\n",
      "\n",
      "Не получилось отвергнуть нулевую гипотезу, \n",
      "нет оснований считать группы 246_and_247 и 248 разными по долям по событию MainScreenAppear при уровне значимости 0.1\n",
      "p-значение:  [0.29424527]\n",
      "\n",
      "Не получилось отвергнуть нулевую гипотезу, \n",
      "нет оснований считать группы 246_and_247 и 248 разными по долям по событию OffersScreenAppear при уровне значимости 0.1\n",
      "p-значение:  [0.4342555]\n",
      "\n",
      "Не получилось отвергнуть нулевую гипотезу, \n",
      "нет оснований считать группы 246_and_247 и 248 разными по долям по событию CartScreenAppear при уровне значимости 0.1\n",
      "p-значение:  [0.18175875]\n",
      "\n",
      "Не получилось отвергнуть нулевую гипотезу, \n",
      "нет оснований считать группы 246_and_247 и 248 разными по долям по событию PaymentScreenSuccessful при уровне значимости 0.1\n",
      "p-значение:  [0.60042943]\n",
      "\n",
      "Не получилось отвергнуть нулевую гипотезу, \n",
      "нет оснований считать группы 246_and_247 и 248 разными по долям по событию Tutorial при уровне значимости 0.1\n",
      "p-значение:  [0.76486247]\n",
      "\n"
     ]
    }
   ],
   "source": [
    "# проверим все группы и события с уровнем значимости 0.1\n",
    "test_z_value_circle(246, 247, 0.1)\n",
    "test_z_value_circle(246, 248, 0.1)\n",
    "test_z_value_circle(247, 248, 0.1)\n",
    "test_z_value_circle('246_and_247', 248, 0.1)"
   ]
  },
  {
   "cell_type": "markdown",
   "metadata": {},
   "source": [
    "По всем группам и по всем событиям при уровне значимости 0.1 есть статистическая разница между долями только между группами 246 и 248 по событию CartScreenAppear при p-значении: 0.078. Что можно объяснить ложным результатом из-за высокого уровня alpha. Это ошибка первого рода.\n",
    "\n",
    "Было сделано 20 проверок статистических гипотез."
   ]
  },
  {
   "cell_type": "markdown",
   "metadata": {},
   "source": [
    "После проверок с уровнем значимости 0.05, 0.1 и 0.01 остановимся на уровне значимости 0.05. Различий в результатах со значимостью 0.05 и 0.01 нет. При уровне в 0.1 различие было только в 1 тесте из 20, что объясняется ошибой первого рода.\n",
    "\n",
    "При уровне 0.05 у нас больше вероятность не пропустить ошибку и увидеть действительные отличия между группами. Несмотря на то, что при этом уровне увеличивается вероятность ошибки первого рода по сравнению с уровнем значимости 0.01.\n",
    "\n",
    "\n",
    "В итоге, при уровне значимости 0.05 мы не отвергаем нулевую гипотезу, Нет различий между долями по событию в проверяемых группах 1 и 2.\n",
    "\n",
    "Значит, экспериментальная группа 248 с новым шрифтом не имеет статистических отличий по всем событиям с контрольными группами 246 и 247.\n",
    "\n",
    "Также контрольные группы 246 и 247 со старым шрифтом не имеют статистических отличий по всем событиям между собой."
   ]
  },
  {
   "cell_type": "markdown",
   "metadata": {},
   "source": [
    "**Выводы по главе:**\n",
    "\n",
    "1. Для проверки статистических критериев разницу между выборками был использован z-тест, который проверяет Гипотезы о равенстве долей.\n",
    "\n",
    "2. Самое популярное событие у пользователей: MainScreenAppear (показ главного экрана).\n",
    "\n",
    "3. Была произведена проверка корректности всех механизмов и расчётов А/А-эксперимента с помощью z-теста. Не было выявлено разницы  по статистическим критериям по всем событиям между контрольными группами 246 и 247 для А/А-эксперимента.\n",
    "\n",
    "4. После проверок с уровнем значимости 0.05, 0.1 и 0.01 остановимся на уровне значимости 0.05. Различий в результатах со значимостью 0.05 и 0.01 нет. При уровне в 0.1 различие было только в 1 тесте из 20, что объясняется ошибой первого рода.\n",
    "\n",
    "5. При уровне 0.05 у нас больше вероятность не пропустить ошибку и увидеть действительные отличия между группами. Несмотря на то, что при этом уровне увеличивается вероятность ошибки первого рода по сравнению с уровнем значимости 0.01.\n",
    "\n",
    "6. В итоге, при уровне значимости 0.05 мы не отвергаем нулевую гипотезу, Нет различий между долями по событию в проверяемых группах 1 и 2.\n",
    "\n",
    "7. Значит, экспериментальная группа 248 с новым шрифтом не имеет статистических отличий по всем событиям с контрольными группами 246 и 247.\n",
    "\n",
    "8. Также контрольные группы 246 и 247 со старым шрифтом не имеют статистических отличий по всем событиям между собой."
   ]
  },
  {
   "cell_type": "markdown",
   "metadata": {},
   "source": [
    "## Вывод"
   ]
  },
  {
   "cell_type": "markdown",
   "metadata": {},
   "source": [
    "Мы провели проверку и анализ A/A/B-эксперимента по замене шрифта в приложении. Данные были обработаны, проверены на пропуски, дубликаты и аномалии. Была изучена воронка продаж, был построен путь пользователя до покупки. Мы узнали сколько пользователей доходит до покупки, на каких шагах пользователи пропадают.\n",
    "\n",
    "После подготовки данных, был произведен анализ результатов A/A/B-эксперимента. После этого мы ответили на поставленные вопросы исследования."
   ]
  },
  {
   "cell_type": "markdown",
   "metadata": {},
   "source": [
    "**Выводы по исследованию:** \n",
    "\n",
    "1. Данные были подготовлены к анализу, проверены на пропуски. Дубликаты были удалены из датафрейма. Мы проверили, что всего 3 группы эксперимента. А также узнали, что есть 5 событий в эксперименте.\n",
    "2. До отброса старых данных у нас было: 243 713 событий и 7 551 уникальных пользователей. Среднее количество событий на пользователя составляло 32.28 события. \n",
    "3. Исследование длилось неполных 14 дней с 25 июля 2019 по 07 августа 2019.\n",
    "4. Неполные данные идут с 25 июля 2019 по 31 июля 2019. Общий процент событий за этот период составляет 1.15% от общего числа событий.\n",
    "5. Отбросив старые данные, мы потеряли немного данных: 1.16% событий (2826 событий) и 0.23% уникальных пользователей (17 пользователей)\n",
    "6. Новое количество событий после отброса данных: 240 887. Новое количество уникальных пользователей после отброса данных: 7 534.\n",
    "7. В исследовании нет пересекающихся пользователей, которые входят в 2 или 3 группы эксперимента.\n",
    "8. Всего у нас 5 типов событий по убыванию частоты:\n",
    "   - MainScreenAppear - просмотр окна главного экрана,\n",
    "   - OffersScreenAppear - просмотр окна экрана предложения,\n",
    "   - CartScreenAppear - просмотр окна экрана оплаты с карты,\n",
    "   - PaymentScreenSuccessful - просмотр окна экрана успешной оплаты,\n",
    "   - Tutorial - просмотр окна с руководством.   \n",
    "9. Уменьшение частоты событий соответствует логике покупки. Просмотр главного экрана, просмотр предложения, оплата с карты, сообщение об успешной оплате. Самое редкое событие это просмотр окна с руководством. Было предположено, что его можно пропустить и большинству пользователей помощь в приложении не нужна.\n",
    "10. Была составлена воронка. Порядок событий в приложении такой:\n",
    "    - MainScreenAppear - просмотр окна главного экрана,\n",
    "    - OffersScreenAppear - просмотр окна экрана предложения,\n",
    "    - CartScreenAppear - просмотр окна экрана оплаты с карты,\n",
    "    - PaymentScreenSuccessful - просмотр окна экрана успешной оплаты.\n",
    "11. В воронку не включили событие Tutorial (просмотр окна с руководством), т.к. данный шаг можно пропустить.\n",
    "12. Больше всего пользователей мы теряем на 1 шаге во время просмотра главного экрана (событие MainScreenAppear). До следующего шага не доходит 38.09% пользователей с текущего шага. Далее коэффициент отскока уменьшается.\n",
    "13. От первого события (MainScreenAppear) до оплаты (PaymentScreenSuccessful) не доходит % пользователей: 47.7\n",
    "14. Для проверки статистических критериев разницу между выборками был использован z-тест, который проверяет Гипотезы о равенстве долей.\n",
    "15. Была произведена проверка корректности всех механизмов и расчётов А/А-эксперимента с помощью z-теста. Не было выявлено разницы  по статистическим критериям по всем событиям между контрольными группами 246 и 247 для А/А-эксперимента.\n",
    "16. После проверок с уровнем значимости 0.05, 0.1 и 0.01 мы остановились на уровне значимости 0.05. Различий в результатах со значимостью 0.05 и 0.01 нет. При уровне в 0.1 различие было только в 1 тесте из 20, что объясняется ошибой первого рода.\n",
    "17. **В итоге, при уровне значимости 0.05 мы не отвергаем нулевую гипотезу, Нет различий между долями по событию в проверяемых группах 1 и 2.**\n",
    "18. **Экспериментальная группа 248 с новым шрифтом не имеет статистических отличий по всем событиям с контрольными группами 246 и 247.**\n",
    "19. **Контрольные группы 246 и 247 со старым шрифтом не имеют статистических отличий по всем событиям между собой.**"
   ]
  },
  {
   "cell_type": "markdown",
   "metadata": {},
   "source": [
    "**Рекомендации:**\n",
    "\n",
    "Стоит применить новый шрифт в приложении ко всем пользователям. Экспериментальная группа с новым шрифтом не имеет статистических отличий по поведению в приложении и по показателям в сравнении с 2 контрольными группами."
   ]
  }
 ],
 "metadata": {
  "ExecuteTimeLog": [
   {
    "duration": 357,
    "start_time": "2022-11-06T18:43:26.514Z"
   },
   {
    "duration": 988,
    "start_time": "2022-11-06T18:43:41.581Z"
   },
   {
    "duration": 12,
    "start_time": "2022-11-06T18:43:48.252Z"
   },
   {
    "duration": 295,
    "start_time": "2022-11-06T18:43:57.645Z"
   },
   {
    "duration": 9,
    "start_time": "2022-11-06T18:43:59.907Z"
   },
   {
    "duration": 146,
    "start_time": "2022-11-06T18:44:09.876Z"
   },
   {
    "duration": 8,
    "start_time": "2022-11-06T18:44:15.987Z"
   },
   {
    "duration": 12,
    "start_time": "2022-11-06T18:45:18.039Z"
   },
   {
    "duration": 19,
    "start_time": "2022-11-06T18:45:24.145Z"
   },
   {
    "duration": 48,
    "start_time": "2022-11-06T18:46:23.898Z"
   },
   {
    "duration": 12,
    "start_time": "2022-11-06T18:46:29.274Z"
   },
   {
    "duration": 29,
    "start_time": "2022-11-06T18:51:35.249Z"
   },
   {
    "duration": 22,
    "start_time": "2022-11-06T18:51:39.312Z"
   },
   {
    "duration": 84,
    "start_time": "2022-11-06T18:51:48.117Z"
   },
   {
    "duration": 81,
    "start_time": "2022-11-06T18:51:57.645Z"
   },
   {
    "duration": 58,
    "start_time": "2022-11-06T18:52:01.681Z"
   },
   {
    "duration": 361,
    "start_time": "2022-11-07T06:03:27.436Z"
   },
   {
    "duration": 944,
    "start_time": "2022-11-07T06:03:27.799Z"
   },
   {
    "duration": 19,
    "start_time": "2022-11-07T06:03:28.745Z"
   },
   {
    "duration": 29,
    "start_time": "2022-11-07T06:03:28.765Z"
   },
   {
    "duration": 71,
    "start_time": "2022-11-07T06:03:28.796Z"
   },
   {
    "duration": 0,
    "start_time": "2022-11-07T06:03:28.868Z"
   },
   {
    "duration": 0,
    "start_time": "2022-11-07T06:03:28.870Z"
   },
   {
    "duration": 0,
    "start_time": "2022-11-07T06:03:28.871Z"
   },
   {
    "duration": 172,
    "start_time": "2022-11-07T06:03:46.387Z"
   },
   {
    "duration": 13,
    "start_time": "2022-11-07T06:03:50.452Z"
   },
   {
    "duration": 18,
    "start_time": "2022-11-07T06:07:36.994Z"
   },
   {
    "duration": 716,
    "start_time": "2022-11-07T06:08:40.319Z"
   },
   {
    "duration": 40,
    "start_time": "2022-11-07T06:09:10.168Z"
   },
   {
    "duration": 490,
    "start_time": "2022-11-07T06:09:12.076Z"
   },
   {
    "duration": 13,
    "start_time": "2022-11-07T06:12:18.269Z"
   },
   {
    "duration": 23,
    "start_time": "2022-11-07T06:12:21.365Z"
   },
   {
    "duration": 8,
    "start_time": "2022-11-07T06:12:30.351Z"
   },
   {
    "duration": 8,
    "start_time": "2022-11-07T06:16:33.955Z"
   },
   {
    "duration": 5,
    "start_time": "2022-11-07T06:16:40.419Z"
   },
   {
    "duration": 13,
    "start_time": "2022-11-07T06:16:42.510Z"
   },
   {
    "duration": 12,
    "start_time": "2022-11-07T06:19:56.356Z"
   },
   {
    "duration": 13,
    "start_time": "2022-11-07T06:19:59.572Z"
   },
   {
    "duration": 12,
    "start_time": "2022-11-07T06:21:22.708Z"
   },
   {
    "duration": 14,
    "start_time": "2022-11-07T06:21:24.256Z"
   },
   {
    "duration": 12,
    "start_time": "2022-11-07T06:21:43.625Z"
   },
   {
    "duration": 13,
    "start_time": "2022-11-07T06:21:45.544Z"
   },
   {
    "duration": 11,
    "start_time": "2022-11-07T06:22:57.171Z"
   },
   {
    "duration": 13,
    "start_time": "2022-11-07T06:22:59.175Z"
   },
   {
    "duration": 10,
    "start_time": "2022-11-07T06:23:10.093Z"
   },
   {
    "duration": 13,
    "start_time": "2022-11-07T06:23:13.368Z"
   },
   {
    "duration": 11,
    "start_time": "2022-11-07T06:25:18.098Z"
   },
   {
    "duration": 14,
    "start_time": "2022-11-07T06:25:20.127Z"
   },
   {
    "duration": 20,
    "start_time": "2022-11-07T06:25:33.065Z"
   },
   {
    "duration": 21,
    "start_time": "2022-11-07T06:26:32.787Z"
   },
   {
    "duration": 90,
    "start_time": "2022-11-07T06:27:06.820Z"
   },
   {
    "duration": 21,
    "start_time": "2022-11-07T06:27:29.704Z"
   },
   {
    "duration": 22,
    "start_time": "2022-11-07T06:30:10.619Z"
   },
   {
    "duration": 381,
    "start_time": "2022-11-07T06:30:26.942Z"
   },
   {
    "duration": 152,
    "start_time": "2022-11-07T06:30:27.325Z"
   },
   {
    "duration": 21,
    "start_time": "2022-11-07T06:30:27.479Z"
   },
   {
    "duration": 19,
    "start_time": "2022-11-07T06:30:27.502Z"
   },
   {
    "duration": 69,
    "start_time": "2022-11-07T06:30:27.523Z"
   },
   {
    "duration": 0,
    "start_time": "2022-11-07T06:30:27.594Z"
   },
   {
    "duration": 0,
    "start_time": "2022-11-07T06:30:27.595Z"
   },
   {
    "duration": 0,
    "start_time": "2022-11-07T06:30:27.596Z"
   },
   {
    "duration": 0,
    "start_time": "2022-11-07T06:30:27.597Z"
   },
   {
    "duration": 0,
    "start_time": "2022-11-07T06:30:27.599Z"
   },
   {
    "duration": 0,
    "start_time": "2022-11-07T06:30:27.600Z"
   },
   {
    "duration": 0,
    "start_time": "2022-11-07T06:30:27.601Z"
   },
   {
    "duration": 409,
    "start_time": "2022-11-07T06:30:57.910Z"
   },
   {
    "duration": 174,
    "start_time": "2022-11-07T06:30:58.321Z"
   },
   {
    "duration": 19,
    "start_time": "2022-11-07T06:30:58.497Z"
   },
   {
    "duration": 20,
    "start_time": "2022-11-07T06:30:58.518Z"
   },
   {
    "duration": 1321,
    "start_time": "2022-11-07T06:30:58.540Z"
   },
   {
    "duration": 0,
    "start_time": "2022-11-07T06:30:59.863Z"
   },
   {
    "duration": 0,
    "start_time": "2022-11-07T06:30:59.864Z"
   },
   {
    "duration": 0,
    "start_time": "2022-11-07T06:30:59.865Z"
   },
   {
    "duration": 0,
    "start_time": "2022-11-07T06:30:59.865Z"
   },
   {
    "duration": 0,
    "start_time": "2022-11-07T06:30:59.867Z"
   },
   {
    "duration": 0,
    "start_time": "2022-11-07T06:30:59.868Z"
   },
   {
    "duration": 57,
    "start_time": "2022-11-07T06:32:04.411Z"
   },
   {
    "duration": 63,
    "start_time": "2022-11-07T06:32:31.151Z"
   },
   {
    "duration": 19,
    "start_time": "2022-11-07T06:32:33.679Z"
   },
   {
    "duration": 22,
    "start_time": "2022-11-07T06:33:02.983Z"
   },
   {
    "duration": 9,
    "start_time": "2022-11-07T06:33:53.460Z"
   },
   {
    "duration": 2,
    "start_time": "2022-11-07T06:34:05.038Z"
   },
   {
    "duration": 387,
    "start_time": "2022-11-07T06:34:10.308Z"
   },
   {
    "duration": 158,
    "start_time": "2022-11-07T06:34:10.697Z"
   },
   {
    "duration": 18,
    "start_time": "2022-11-07T06:34:10.857Z"
   },
   {
    "duration": 26,
    "start_time": "2022-11-07T06:34:10.877Z"
   },
   {
    "duration": 60,
    "start_time": "2022-11-07T06:34:10.904Z"
   },
   {
    "duration": 0,
    "start_time": "2022-11-07T06:34:10.965Z"
   },
   {
    "duration": 0,
    "start_time": "2022-11-07T06:34:10.967Z"
   },
   {
    "duration": 0,
    "start_time": "2022-11-07T06:34:10.968Z"
   },
   {
    "duration": 0,
    "start_time": "2022-11-07T06:34:10.969Z"
   },
   {
    "duration": 0,
    "start_time": "2022-11-07T06:34:10.969Z"
   },
   {
    "duration": 0,
    "start_time": "2022-11-07T06:34:10.971Z"
   },
   {
    "duration": 3,
    "start_time": "2022-11-07T06:35:37.692Z"
   },
   {
    "duration": 427,
    "start_time": "2022-11-07T06:35:42.231Z"
   },
   {
    "duration": 157,
    "start_time": "2022-11-07T06:35:42.661Z"
   },
   {
    "duration": 21,
    "start_time": "2022-11-07T06:35:42.819Z"
   },
   {
    "duration": 20,
    "start_time": "2022-11-07T06:35:42.842Z"
   },
   {
    "duration": 88,
    "start_time": "2022-11-07T06:35:42.864Z"
   },
   {
    "duration": 0,
    "start_time": "2022-11-07T06:35:42.953Z"
   },
   {
    "duration": 0,
    "start_time": "2022-11-07T06:35:42.955Z"
   },
   {
    "duration": 0,
    "start_time": "2022-11-07T06:35:42.956Z"
   },
   {
    "duration": 0,
    "start_time": "2022-11-07T06:35:42.957Z"
   },
   {
    "duration": 0,
    "start_time": "2022-11-07T06:35:42.958Z"
   },
   {
    "duration": 0,
    "start_time": "2022-11-07T06:35:42.959Z"
   },
   {
    "duration": 9,
    "start_time": "2022-11-07T06:36:00.976Z"
   },
   {
    "duration": 339,
    "start_time": "2022-11-07T06:39:00.542Z"
   },
   {
    "duration": 338,
    "start_time": "2022-11-07T06:39:15.260Z"
   },
   {
    "duration": 3,
    "start_time": "2022-11-07T06:40:04.065Z"
   },
   {
    "duration": 397,
    "start_time": "2022-11-07T06:40:12.694Z"
   },
   {
    "duration": 145,
    "start_time": "2022-11-07T06:40:13.093Z"
   },
   {
    "duration": 17,
    "start_time": "2022-11-07T06:40:13.240Z"
   },
   {
    "duration": 32,
    "start_time": "2022-11-07T06:40:13.259Z"
   },
   {
    "duration": 1430,
    "start_time": "2022-11-07T06:40:13.292Z"
   },
   {
    "duration": 0,
    "start_time": "2022-11-07T06:40:14.724Z"
   },
   {
    "duration": 0,
    "start_time": "2022-11-07T06:40:14.725Z"
   },
   {
    "duration": 0,
    "start_time": "2022-11-07T06:40:14.726Z"
   },
   {
    "duration": 0,
    "start_time": "2022-11-07T06:40:14.727Z"
   },
   {
    "duration": 0,
    "start_time": "2022-11-07T06:40:14.729Z"
   },
   {
    "duration": 0,
    "start_time": "2022-11-07T06:40:14.729Z"
   },
   {
    "duration": 84,
    "start_time": "2022-11-07T06:41:44.661Z"
   },
   {
    "duration": 361,
    "start_time": "2022-11-07T06:41:55.734Z"
   },
   {
    "duration": 151,
    "start_time": "2022-11-07T06:41:56.096Z"
   },
   {
    "duration": 18,
    "start_time": "2022-11-07T06:41:56.249Z"
   },
   {
    "duration": 31,
    "start_time": "2022-11-07T06:41:56.269Z"
   },
   {
    "duration": 84,
    "start_time": "2022-11-07T06:41:56.304Z"
   },
   {
    "duration": 0,
    "start_time": "2022-11-07T06:41:56.390Z"
   },
   {
    "duration": 0,
    "start_time": "2022-11-07T06:41:56.391Z"
   },
   {
    "duration": 0,
    "start_time": "2022-11-07T06:41:56.392Z"
   },
   {
    "duration": 0,
    "start_time": "2022-11-07T06:41:56.393Z"
   },
   {
    "duration": 0,
    "start_time": "2022-11-07T06:41:56.394Z"
   },
   {
    "duration": 0,
    "start_time": "2022-11-07T06:41:56.396Z"
   },
   {
    "duration": 374,
    "start_time": "2022-11-07T06:42:03.801Z"
   },
   {
    "duration": 136,
    "start_time": "2022-11-07T06:42:27.593Z"
   },
   {
    "duration": 27,
    "start_time": "2022-11-07T06:42:39.700Z"
   },
   {
    "duration": 46,
    "start_time": "2022-11-07T06:42:49.399Z"
   },
   {
    "duration": 648,
    "start_time": "2022-11-07T06:43:05.848Z"
   },
   {
    "duration": 618,
    "start_time": "2022-11-07T06:43:46.017Z"
   },
   {
    "duration": 1189,
    "start_time": "2022-11-07T06:44:57.833Z"
   },
   {
    "duration": 235,
    "start_time": "2022-11-07T06:46:49.000Z"
   },
   {
    "duration": 120,
    "start_time": "2022-11-07T06:46:57.160Z"
   },
   {
    "duration": 109,
    "start_time": "2022-11-07T06:47:21.261Z"
   },
   {
    "duration": 79,
    "start_time": "2022-11-07T06:47:33.255Z"
   },
   {
    "duration": 3,
    "start_time": "2022-11-07T06:47:43.847Z"
   },
   {
    "duration": 441,
    "start_time": "2022-11-07T06:47:48.369Z"
   },
   {
    "duration": 157,
    "start_time": "2022-11-07T06:47:48.813Z"
   },
   {
    "duration": 27,
    "start_time": "2022-11-07T06:47:48.972Z"
   },
   {
    "duration": 20,
    "start_time": "2022-11-07T06:47:49.002Z"
   },
   {
    "duration": 424,
    "start_time": "2022-11-07T06:47:49.024Z"
   },
   {
    "duration": 3,
    "start_time": "2022-11-07T06:47:49.450Z"
   },
   {
    "duration": 6,
    "start_time": "2022-11-07T06:47:49.455Z"
   },
   {
    "duration": 765,
    "start_time": "2022-11-07T06:47:49.463Z"
   },
   {
    "duration": 11,
    "start_time": "2022-11-07T06:47:50.229Z"
   },
   {
    "duration": 12,
    "start_time": "2022-11-07T06:47:50.242Z"
   },
   {
    "duration": 17,
    "start_time": "2022-11-07T06:47:50.256Z"
   },
   {
    "duration": 42,
    "start_time": "2022-11-07T06:47:50.290Z"
   },
   {
    "duration": 51,
    "start_time": "2022-11-07T06:48:05.029Z"
   },
   {
    "duration": 129,
    "start_time": "2022-11-07T06:48:32.945Z"
   },
   {
    "duration": 61,
    "start_time": "2022-11-07T06:48:47.257Z"
   },
   {
    "duration": 57,
    "start_time": "2022-11-07T06:48:49.777Z"
   },
   {
    "duration": 366,
    "start_time": "2022-11-07T06:49:06.151Z"
   },
   {
    "duration": 175,
    "start_time": "2022-11-07T06:49:06.520Z"
   },
   {
    "duration": 24,
    "start_time": "2022-11-07T06:49:06.698Z"
   },
   {
    "duration": 22,
    "start_time": "2022-11-07T06:49:06.724Z"
   },
   {
    "duration": 215,
    "start_time": "2022-11-07T06:49:06.747Z"
   },
   {
    "duration": 3,
    "start_time": "2022-11-07T06:49:06.963Z"
   },
   {
    "duration": 2,
    "start_time": "2022-11-07T06:49:06.991Z"
   },
   {
    "duration": 474,
    "start_time": "2022-11-07T06:49:06.995Z"
   },
   {
    "duration": 2457,
    "start_time": "2022-11-07T06:49:07.471Z"
   },
   {
    "duration": 0,
    "start_time": "2022-11-07T06:49:09.931Z"
   },
   {
    "duration": 0,
    "start_time": "2022-11-07T06:49:09.932Z"
   },
   {
    "duration": 0,
    "start_time": "2022-11-07T06:49:09.932Z"
   },
   {
    "duration": 613,
    "start_time": "2022-11-07T06:49:25.666Z"
   },
   {
    "duration": 76,
    "start_time": "2022-11-07T06:50:03.188Z"
   },
   {
    "duration": 79,
    "start_time": "2022-11-07T06:50:06.163Z"
   },
   {
    "duration": 75,
    "start_time": "2022-11-07T06:50:17.627Z"
   },
   {
    "duration": 660,
    "start_time": "2022-11-07T06:50:32.043Z"
   },
   {
    "duration": 444,
    "start_time": "2022-11-07T06:57:28.877Z"
   },
   {
    "duration": 152,
    "start_time": "2022-11-07T06:57:29.323Z"
   },
   {
    "duration": 21,
    "start_time": "2022-11-07T06:57:29.477Z"
   },
   {
    "duration": 19,
    "start_time": "2022-11-07T06:57:29.499Z"
   },
   {
    "duration": 918,
    "start_time": "2022-11-07T06:57:29.520Z"
   },
   {
    "duration": 0,
    "start_time": "2022-11-07T06:57:30.440Z"
   },
   {
    "duration": 0,
    "start_time": "2022-11-07T06:57:30.442Z"
   },
   {
    "duration": 0,
    "start_time": "2022-11-07T06:57:30.443Z"
   },
   {
    "duration": 0,
    "start_time": "2022-11-07T06:57:30.444Z"
   },
   {
    "duration": 0,
    "start_time": "2022-11-07T06:57:30.445Z"
   },
   {
    "duration": 0,
    "start_time": "2022-11-07T06:57:30.447Z"
   },
   {
    "duration": 0,
    "start_time": "2022-11-07T06:57:30.448Z"
   },
   {
    "duration": 366,
    "start_time": "2022-11-07T07:14:43.221Z"
   },
   {
    "duration": 157,
    "start_time": "2022-11-07T07:14:43.592Z"
   },
   {
    "duration": 17,
    "start_time": "2022-11-07T07:14:43.750Z"
   },
   {
    "duration": 30,
    "start_time": "2022-11-07T07:14:43.769Z"
   },
   {
    "duration": 824,
    "start_time": "2022-11-07T07:14:43.802Z"
   },
   {
    "duration": 0,
    "start_time": "2022-11-07T07:14:44.627Z"
   },
   {
    "duration": 0,
    "start_time": "2022-11-07T07:14:44.628Z"
   },
   {
    "duration": 0,
    "start_time": "2022-11-07T07:14:44.629Z"
   },
   {
    "duration": 0,
    "start_time": "2022-11-07T07:14:44.631Z"
   },
   {
    "duration": 0,
    "start_time": "2022-11-07T07:14:44.631Z"
   },
   {
    "duration": 0,
    "start_time": "2022-11-07T07:14:44.632Z"
   },
   {
    "duration": 0,
    "start_time": "2022-11-07T07:14:44.633Z"
   },
   {
    "duration": 3,
    "start_time": "2022-11-07T07:20:01.629Z"
   },
   {
    "duration": 2616,
    "start_time": "2022-11-07T07:24:45.072Z"
   },
   {
    "duration": 73,
    "start_time": "2022-11-07T07:25:51.853Z"
   },
   {
    "duration": 2389,
    "start_time": "2022-11-07T07:26:11.352Z"
   },
   {
    "duration": 0,
    "start_time": "2022-11-07T07:26:13.743Z"
   },
   {
    "duration": 214,
    "start_time": "2022-11-07T07:31:19.857Z"
   },
   {
    "duration": 36,
    "start_time": "2022-11-07T07:31:22.074Z"
   },
   {
    "duration": 53,
    "start_time": "2022-11-07T07:33:01.441Z"
   },
   {
    "duration": 44,
    "start_time": "2022-11-07T07:33:21.080Z"
   },
   {
    "duration": 50,
    "start_time": "2022-11-07T07:33:26.767Z"
   },
   {
    "duration": 46,
    "start_time": "2022-11-07T07:33:34.383Z"
   },
   {
    "duration": 45,
    "start_time": "2022-11-07T07:35:50.073Z"
   },
   {
    "duration": 423,
    "start_time": "2022-11-07T07:37:24.563Z"
   },
   {
    "duration": 147,
    "start_time": "2022-11-07T07:37:24.988Z"
   },
   {
    "duration": 18,
    "start_time": "2022-11-07T07:37:25.136Z"
   },
   {
    "duration": 27,
    "start_time": "2022-11-07T07:37:25.156Z"
   },
   {
    "duration": 369,
    "start_time": "2022-11-07T07:37:25.185Z"
   },
   {
    "duration": 0,
    "start_time": "2022-11-07T07:37:25.556Z"
   },
   {
    "duration": 0,
    "start_time": "2022-11-07T07:37:25.557Z"
   },
   {
    "duration": 0,
    "start_time": "2022-11-07T07:37:25.558Z"
   },
   {
    "duration": 0,
    "start_time": "2022-11-07T07:37:25.559Z"
   },
   {
    "duration": 0,
    "start_time": "2022-11-07T07:37:25.560Z"
   },
   {
    "duration": 0,
    "start_time": "2022-11-07T07:37:25.562Z"
   },
   {
    "duration": 0,
    "start_time": "2022-11-07T07:37:25.563Z"
   },
   {
    "duration": 301,
    "start_time": "2022-11-07T07:37:54.789Z"
   },
   {
    "duration": 46,
    "start_time": "2022-11-07T07:37:57.024Z"
   },
   {
    "duration": 77,
    "start_time": "2022-11-07T07:38:14.888Z"
   },
   {
    "duration": 54,
    "start_time": "2022-11-07T07:38:18.478Z"
   },
   {
    "duration": 43,
    "start_time": "2022-11-07T07:38:28.521Z"
   },
   {
    "duration": 43,
    "start_time": "2022-11-07T07:38:31.948Z"
   },
   {
    "duration": 53,
    "start_time": "2022-11-07T07:38:34.409Z"
   },
   {
    "duration": 42,
    "start_time": "2022-11-07T07:38:37.260Z"
   },
   {
    "duration": 43,
    "start_time": "2022-11-07T07:38:51.516Z"
   },
   {
    "duration": 43,
    "start_time": "2022-11-07T07:38:54.646Z"
   },
   {
    "duration": 422,
    "start_time": "2022-11-07T07:39:00.781Z"
   },
   {
    "duration": 154,
    "start_time": "2022-11-07T07:39:01.205Z"
   },
   {
    "duration": 19,
    "start_time": "2022-11-07T07:39:01.361Z"
   },
   {
    "duration": 19,
    "start_time": "2022-11-07T07:39:01.390Z"
   },
   {
    "duration": 47,
    "start_time": "2022-11-07T07:39:01.411Z"
   },
   {
    "duration": 3,
    "start_time": "2022-11-07T07:39:01.459Z"
   },
   {
    "duration": 28,
    "start_time": "2022-11-07T07:39:01.463Z"
   },
   {
    "duration": 662,
    "start_time": "2022-11-07T07:39:01.493Z"
   },
   {
    "duration": 11,
    "start_time": "2022-11-07T07:39:02.157Z"
   },
   {
    "duration": 26,
    "start_time": "2022-11-07T07:39:02.171Z"
   },
   {
    "duration": 14,
    "start_time": "2022-11-07T07:39:02.198Z"
   },
   {
    "duration": 55,
    "start_time": "2022-11-07T07:39:02.214Z"
   },
   {
    "duration": 410,
    "start_time": "2022-11-07T07:39:15.788Z"
   },
   {
    "duration": 152,
    "start_time": "2022-11-07T07:39:16.199Z"
   },
   {
    "duration": 19,
    "start_time": "2022-11-07T07:39:16.352Z"
   },
   {
    "duration": 31,
    "start_time": "2022-11-07T07:39:16.372Z"
   },
   {
    "duration": 46,
    "start_time": "2022-11-07T07:39:16.405Z"
   },
   {
    "duration": 3,
    "start_time": "2022-11-07T07:39:16.453Z"
   },
   {
    "duration": 4,
    "start_time": "2022-11-07T07:39:16.458Z"
   },
   {
    "duration": 734,
    "start_time": "2022-11-07T07:39:16.463Z"
   },
   {
    "duration": 12,
    "start_time": "2022-11-07T07:39:17.198Z"
   },
   {
    "duration": 14,
    "start_time": "2022-11-07T07:39:17.212Z"
   },
   {
    "duration": 13,
    "start_time": "2022-11-07T07:39:17.228Z"
   },
   {
    "duration": 79,
    "start_time": "2022-11-07T07:39:17.243Z"
   },
   {
    "duration": 407,
    "start_time": "2022-11-07T07:39:25.689Z"
   },
   {
    "duration": 149,
    "start_time": "2022-11-07T07:39:26.098Z"
   },
   {
    "duration": 18,
    "start_time": "2022-11-07T07:39:26.249Z"
   },
   {
    "duration": 30,
    "start_time": "2022-11-07T07:39:26.268Z"
   },
   {
    "duration": 43,
    "start_time": "2022-11-07T07:39:26.301Z"
   },
   {
    "duration": 2,
    "start_time": "2022-11-07T07:39:26.346Z"
   },
   {
    "duration": 4,
    "start_time": "2022-11-07T07:39:26.350Z"
   },
   {
    "duration": 761,
    "start_time": "2022-11-07T07:39:26.356Z"
   },
   {
    "duration": 11,
    "start_time": "2022-11-07T07:39:27.119Z"
   },
   {
    "duration": 16,
    "start_time": "2022-11-07T07:39:27.132Z"
   },
   {
    "duration": 17,
    "start_time": "2022-11-07T07:39:27.150Z"
   },
   {
    "duration": 79,
    "start_time": "2022-11-07T07:39:27.168Z"
   },
   {
    "duration": 403,
    "start_time": "2022-11-07T07:39:46.250Z"
   },
   {
    "duration": 175,
    "start_time": "2022-11-07T07:39:46.656Z"
   },
   {
    "duration": 18,
    "start_time": "2022-11-07T07:39:46.833Z"
   },
   {
    "duration": 19,
    "start_time": "2022-11-07T07:39:46.853Z"
   },
   {
    "duration": 43,
    "start_time": "2022-11-07T07:39:46.890Z"
   },
   {
    "duration": 12,
    "start_time": "2022-11-07T07:39:46.936Z"
   },
   {
    "duration": 8,
    "start_time": "2022-11-07T07:39:46.950Z"
   },
   {
    "duration": 690,
    "start_time": "2022-11-07T07:39:46.960Z"
   },
   {
    "duration": 15,
    "start_time": "2022-11-07T07:39:47.652Z"
   },
   {
    "duration": 31,
    "start_time": "2022-11-07T07:39:47.669Z"
   },
   {
    "duration": 16,
    "start_time": "2022-11-07T07:39:47.702Z"
   },
   {
    "duration": 78,
    "start_time": "2022-11-07T07:39:47.720Z"
   },
   {
    "duration": 416,
    "start_time": "2022-11-07T07:39:57.995Z"
   },
   {
    "duration": 170,
    "start_time": "2022-11-07T07:39:58.413Z"
   },
   {
    "duration": 23,
    "start_time": "2022-11-07T07:39:58.585Z"
   },
   {
    "duration": 21,
    "start_time": "2022-11-07T07:39:58.610Z"
   },
   {
    "duration": 384,
    "start_time": "2022-11-07T07:39:58.634Z"
   },
   {
    "duration": 0,
    "start_time": "2022-11-07T07:39:59.020Z"
   },
   {
    "duration": 0,
    "start_time": "2022-11-07T07:39:59.022Z"
   },
   {
    "duration": 0,
    "start_time": "2022-11-07T07:39:59.023Z"
   },
   {
    "duration": 0,
    "start_time": "2022-11-07T07:39:59.025Z"
   },
   {
    "duration": 0,
    "start_time": "2022-11-07T07:39:59.027Z"
   },
   {
    "duration": 0,
    "start_time": "2022-11-07T07:39:59.028Z"
   },
   {
    "duration": 0,
    "start_time": "2022-11-07T07:39:59.030Z"
   },
   {
    "duration": 46,
    "start_time": "2022-11-07T07:40:02.899Z"
   },
   {
    "duration": 405,
    "start_time": "2022-11-07T07:40:07.588Z"
   },
   {
    "duration": 147,
    "start_time": "2022-11-07T07:40:07.995Z"
   },
   {
    "duration": 19,
    "start_time": "2022-11-07T07:40:08.144Z"
   },
   {
    "duration": 35,
    "start_time": "2022-11-07T07:40:08.165Z"
   },
   {
    "duration": 48,
    "start_time": "2022-11-07T07:40:08.202Z"
   },
   {
    "duration": 3,
    "start_time": "2022-11-07T07:40:08.251Z"
   },
   {
    "duration": 5,
    "start_time": "2022-11-07T07:40:08.255Z"
   },
   {
    "duration": 735,
    "start_time": "2022-11-07T07:40:08.261Z"
   },
   {
    "duration": 11,
    "start_time": "2022-11-07T07:40:08.998Z"
   },
   {
    "duration": 13,
    "start_time": "2022-11-07T07:40:09.011Z"
   },
   {
    "duration": 15,
    "start_time": "2022-11-07T07:40:09.025Z"
   },
   {
    "duration": 81,
    "start_time": "2022-11-07T07:40:09.041Z"
   },
   {
    "duration": 399,
    "start_time": "2022-11-07T07:40:49.061Z"
   },
   {
    "duration": 70,
    "start_time": "2022-11-07T07:41:06.339Z"
   },
   {
    "duration": 405,
    "start_time": "2022-11-07T07:41:10.293Z"
   },
   {
    "duration": 489,
    "start_time": "2022-11-07T07:41:18.594Z"
   },
   {
    "duration": 406,
    "start_time": "2022-11-07T07:43:55.411Z"
   },
   {
    "duration": 172,
    "start_time": "2022-11-07T07:43:55.819Z"
   },
   {
    "duration": 26,
    "start_time": "2022-11-07T07:43:55.993Z"
   },
   {
    "duration": 19,
    "start_time": "2022-11-07T07:43:56.021Z"
   },
   {
    "duration": 72,
    "start_time": "2022-11-07T07:43:56.042Z"
   },
   {
    "duration": 899,
    "start_time": "2022-11-07T07:43:56.116Z"
   },
   {
    "duration": 12,
    "start_time": "2022-11-07T07:43:57.018Z"
   },
   {
    "duration": 22,
    "start_time": "2022-11-07T07:43:57.032Z"
   },
   {
    "duration": 14,
    "start_time": "2022-11-07T07:43:57.055Z"
   },
   {
    "duration": 63,
    "start_time": "2022-11-07T07:43:57.092Z"
   },
   {
    "duration": 3,
    "start_time": "2022-11-07T07:43:57.157Z"
   },
   {
    "duration": 8,
    "start_time": "2022-11-07T07:43:57.162Z"
   },
   {
    "duration": 386,
    "start_time": "2022-11-07T07:44:22.005Z"
   },
   {
    "duration": 151,
    "start_time": "2022-11-07T07:44:22.393Z"
   },
   {
    "duration": 18,
    "start_time": "2022-11-07T07:44:22.546Z"
   },
   {
    "duration": 30,
    "start_time": "2022-11-07T07:44:22.566Z"
   },
   {
    "duration": 50,
    "start_time": "2022-11-07T07:44:22.598Z"
   },
   {
    "duration": 804,
    "start_time": "2022-11-07T07:44:22.649Z"
   },
   {
    "duration": 11,
    "start_time": "2022-11-07T07:44:23.454Z"
   },
   {
    "duration": 26,
    "start_time": "2022-11-07T07:44:23.467Z"
   },
   {
    "duration": 15,
    "start_time": "2022-11-07T07:44:23.495Z"
   },
   {
    "duration": 56,
    "start_time": "2022-11-07T07:44:23.513Z"
   },
   {
    "duration": 20,
    "start_time": "2022-11-07T07:44:23.571Z"
   },
   {
    "duration": 7,
    "start_time": "2022-11-07T07:44:23.593Z"
   },
   {
    "duration": 367,
    "start_time": "2022-11-07T08:46:02.434Z"
   },
   {
    "duration": 152,
    "start_time": "2022-11-07T08:46:02.803Z"
   },
   {
    "duration": 17,
    "start_time": "2022-11-07T08:46:02.957Z"
   },
   {
    "duration": 31,
    "start_time": "2022-11-07T08:46:02.976Z"
   },
   {
    "duration": 46,
    "start_time": "2022-11-07T08:46:03.010Z"
   },
   {
    "duration": 805,
    "start_time": "2022-11-07T08:46:03.058Z"
   },
   {
    "duration": 12,
    "start_time": "2022-11-07T08:46:03.866Z"
   },
   {
    "duration": 15,
    "start_time": "2022-11-07T08:46:03.890Z"
   },
   {
    "duration": 15,
    "start_time": "2022-11-07T08:46:03.907Z"
   },
   {
    "duration": 81,
    "start_time": "2022-11-07T08:46:03.923Z"
   },
   {
    "duration": 3,
    "start_time": "2022-11-07T08:46:04.005Z"
   },
   {
    "duration": 7,
    "start_time": "2022-11-07T08:46:04.009Z"
   },
   {
    "duration": 403,
    "start_time": "2022-11-07T08:47:18.503Z"
   },
   {
    "duration": 160,
    "start_time": "2022-11-07T08:47:18.908Z"
   },
   {
    "duration": 27,
    "start_time": "2022-11-07T08:47:19.069Z"
   },
   {
    "duration": 19,
    "start_time": "2022-11-07T08:47:19.098Z"
   },
   {
    "duration": 46,
    "start_time": "2022-11-07T08:47:19.119Z"
   },
   {
    "duration": 861,
    "start_time": "2022-11-07T08:47:19.167Z"
   },
   {
    "duration": 13,
    "start_time": "2022-11-07T08:47:20.030Z"
   },
   {
    "duration": 29,
    "start_time": "2022-11-07T08:47:20.045Z"
   },
   {
    "duration": 22,
    "start_time": "2022-11-07T08:47:20.076Z"
   },
   {
    "duration": 61,
    "start_time": "2022-11-07T08:47:20.100Z"
   },
   {
    "duration": 3,
    "start_time": "2022-11-07T08:47:20.162Z"
   },
   {
    "duration": 16,
    "start_time": "2022-11-07T08:47:20.167Z"
   },
   {
    "duration": 564,
    "start_time": "2022-11-07T08:50:34.326Z"
   },
   {
    "duration": 422,
    "start_time": "2022-11-07T08:50:45.193Z"
   },
   {
    "duration": 160,
    "start_time": "2022-11-07T08:50:45.617Z"
   },
   {
    "duration": 29,
    "start_time": "2022-11-07T08:50:45.779Z"
   },
   {
    "duration": 22,
    "start_time": "2022-11-07T08:50:45.810Z"
   },
   {
    "duration": 837,
    "start_time": "2022-11-07T08:50:45.834Z"
   },
   {
    "duration": 61,
    "start_time": "2022-11-07T08:50:46.673Z"
   },
   {
    "duration": 673,
    "start_time": "2022-11-07T08:50:46.736Z"
   },
   {
    "duration": 12,
    "start_time": "2022-11-07T08:50:47.410Z"
   },
   {
    "duration": 16,
    "start_time": "2022-11-07T08:50:47.424Z"
   },
   {
    "duration": 15,
    "start_time": "2022-11-07T08:50:47.443Z"
   },
   {
    "duration": 85,
    "start_time": "2022-11-07T08:50:47.460Z"
   },
   {
    "duration": 2,
    "start_time": "2022-11-07T08:50:47.547Z"
   },
   {
    "duration": 6,
    "start_time": "2022-11-07T08:50:47.551Z"
   },
   {
    "duration": 493,
    "start_time": "2022-11-07T08:52:11.144Z"
   },
   {
    "duration": 128,
    "start_time": "2022-11-07T08:52:22.197Z"
   },
   {
    "duration": 232,
    "start_time": "2022-11-07T08:52:27.442Z"
   },
   {
    "duration": 489,
    "start_time": "2022-11-07T08:53:22.789Z"
   },
   {
    "duration": 360,
    "start_time": "2022-11-07T09:02:19.331Z"
   },
   {
    "duration": 148,
    "start_time": "2022-11-07T09:02:19.693Z"
   },
   {
    "duration": 19,
    "start_time": "2022-11-07T09:02:19.843Z"
   },
   {
    "duration": 41,
    "start_time": "2022-11-07T09:02:19.864Z"
   },
   {
    "duration": 658,
    "start_time": "2022-11-07T09:02:19.906Z"
   },
   {
    "duration": 61,
    "start_time": "2022-11-07T09:02:20.566Z"
   },
   {
    "duration": 587,
    "start_time": "2022-11-07T09:02:20.629Z"
   },
   {
    "duration": 11,
    "start_time": "2022-11-07T09:02:21.217Z"
   },
   {
    "duration": 16,
    "start_time": "2022-11-07T09:02:21.230Z"
   },
   {
    "duration": 20,
    "start_time": "2022-11-07T09:02:21.248Z"
   },
   {
    "duration": 77,
    "start_time": "2022-11-07T09:02:21.269Z"
   },
   {
    "duration": 2,
    "start_time": "2022-11-07T09:02:21.348Z"
   },
   {
    "duration": 7,
    "start_time": "2022-11-07T09:02:21.352Z"
   },
   {
    "duration": 385,
    "start_time": "2022-11-07T09:03:13.430Z"
   },
   {
    "duration": 167,
    "start_time": "2022-11-07T09:03:13.818Z"
   },
   {
    "duration": 18,
    "start_time": "2022-11-07T09:03:13.987Z"
   },
   {
    "duration": 19,
    "start_time": "2022-11-07T09:03:14.007Z"
   },
   {
    "duration": 718,
    "start_time": "2022-11-07T09:03:14.029Z"
   },
   {
    "duration": 53,
    "start_time": "2022-11-07T09:03:14.749Z"
   },
   {
    "duration": 600,
    "start_time": "2022-11-07T09:03:14.804Z"
   },
   {
    "duration": 11,
    "start_time": "2022-11-07T09:03:15.406Z"
   },
   {
    "duration": 15,
    "start_time": "2022-11-07T09:03:15.419Z"
   },
   {
    "duration": 13,
    "start_time": "2022-11-07T09:03:15.436Z"
   },
   {
    "duration": 80,
    "start_time": "2022-11-07T09:03:15.450Z"
   },
   {
    "duration": 3,
    "start_time": "2022-11-07T09:03:15.531Z"
   },
   {
    "duration": 7,
    "start_time": "2022-11-07T09:03:15.535Z"
   },
   {
    "duration": 82,
    "start_time": "2022-11-07T09:09:00.634Z"
   },
   {
    "duration": 6,
    "start_time": "2022-11-07T09:09:16.897Z"
   },
   {
    "duration": 1179,
    "start_time": "2022-11-07T09:09:19.950Z"
   },
   {
    "duration": 47,
    "start_time": "2022-11-07T09:09:30.868Z"
   },
   {
    "duration": 9,
    "start_time": "2022-11-07T09:09:38.467Z"
   },
   {
    "duration": 9,
    "start_time": "2022-11-07T09:10:04.992Z"
   },
   {
    "duration": 14,
    "start_time": "2022-11-07T09:11:13.494Z"
   },
   {
    "duration": 206,
    "start_time": "2022-11-07T09:12:00.421Z"
   },
   {
    "duration": 179,
    "start_time": "2022-11-07T09:12:07.065Z"
   },
   {
    "duration": 60,
    "start_time": "2022-11-07T09:14:27.987Z"
   },
   {
    "duration": 4,
    "start_time": "2022-11-07T09:15:09.728Z"
   },
   {
    "duration": 78,
    "start_time": "2022-11-07T09:16:29.577Z"
   },
   {
    "duration": 57,
    "start_time": "2022-11-07T09:16:36.080Z"
   },
   {
    "duration": 55,
    "start_time": "2022-11-07T09:16:40.893Z"
   },
   {
    "duration": 60,
    "start_time": "2022-11-07T09:16:54.488Z"
   },
   {
    "duration": 93,
    "start_time": "2022-11-07T09:17:07.780Z"
   },
   {
    "duration": 121,
    "start_time": "2022-11-07T09:17:11.624Z"
   },
   {
    "duration": 110,
    "start_time": "2022-11-07T09:17:22.875Z"
   },
   {
    "duration": 109,
    "start_time": "2022-11-07T09:17:33.263Z"
   },
   {
    "duration": 60,
    "start_time": "2022-11-07T09:17:40.638Z"
   },
   {
    "duration": 5,
    "start_time": "2022-11-07T09:18:43.000Z"
   },
   {
    "duration": 9,
    "start_time": "2022-11-07T09:19:00.747Z"
   },
   {
    "duration": 10,
    "start_time": "2022-11-07T09:19:42.404Z"
   },
   {
    "duration": 59,
    "start_time": "2022-11-07T09:19:57.338Z"
   },
   {
    "duration": 10,
    "start_time": "2022-11-07T09:20:04.756Z"
   },
   {
    "duration": 75,
    "start_time": "2022-11-07T09:20:46.419Z"
   },
   {
    "duration": 10,
    "start_time": "2022-11-07T09:20:48.350Z"
   },
   {
    "duration": 81,
    "start_time": "2022-11-07T09:20:58.079Z"
   },
   {
    "duration": 11,
    "start_time": "2022-11-07T09:21:00.268Z"
   },
   {
    "duration": 72,
    "start_time": "2022-11-07T09:21:15.408Z"
   },
   {
    "duration": 11,
    "start_time": "2022-11-07T09:21:17.171Z"
   },
   {
    "duration": 70,
    "start_time": "2022-11-07T09:21:40.190Z"
   },
   {
    "duration": 10,
    "start_time": "2022-11-07T09:21:42.244Z"
   },
   {
    "duration": 395,
    "start_time": "2022-11-07T09:22:06.447Z"
   },
   {
    "duration": 149,
    "start_time": "2022-11-07T09:22:06.843Z"
   },
   {
    "duration": 18,
    "start_time": "2022-11-07T09:22:06.994Z"
   },
   {
    "duration": 18,
    "start_time": "2022-11-07T09:22:07.014Z"
   },
   {
    "duration": 659,
    "start_time": "2022-11-07T09:22:07.034Z"
   },
   {
    "duration": 7,
    "start_time": "2022-11-07T09:22:07.695Z"
   },
   {
    "duration": 11,
    "start_time": "2022-11-07T09:22:07.703Z"
   },
   {
    "duration": 13,
    "start_time": "2022-11-07T09:22:07.716Z"
   },
   {
    "duration": 81,
    "start_time": "2022-11-07T09:22:07.731Z"
   },
   {
    "duration": 57,
    "start_time": "2022-11-07T09:22:07.814Z"
   },
   {
    "duration": 27,
    "start_time": "2022-11-07T09:22:07.873Z"
   },
   {
    "duration": 66,
    "start_time": "2022-11-07T09:22:07.901Z"
   },
   {
    "duration": 25,
    "start_time": "2022-11-07T09:22:07.969Z"
   },
   {
    "duration": 249,
    "start_time": "2022-11-07T09:22:07.996Z"
   },
   {
    "duration": 3,
    "start_time": "2022-11-07T09:22:08.247Z"
   },
   {
    "duration": 20,
    "start_time": "2022-11-07T09:22:08.252Z"
   },
   {
    "duration": 66,
    "start_time": "2022-11-07T09:22:21.908Z"
   },
   {
    "duration": 98,
    "start_time": "2022-11-07T09:23:30.572Z"
   },
   {
    "duration": 21,
    "start_time": "2022-11-07T09:24:29.000Z"
   },
   {
    "duration": 21,
    "start_time": "2022-11-07T09:24:35.307Z"
   },
   {
    "duration": 20,
    "start_time": "2022-11-07T09:25:04.503Z"
   },
   {
    "duration": 21,
    "start_time": "2022-11-07T09:25:25.627Z"
   },
   {
    "duration": 20,
    "start_time": "2022-11-07T09:27:11.129Z"
   },
   {
    "duration": 3,
    "start_time": "2022-11-07T09:28:27.485Z"
   },
   {
    "duration": 21,
    "start_time": "2022-11-07T09:28:32.520Z"
   },
   {
    "duration": 22,
    "start_time": "2022-11-07T09:28:38.430Z"
   },
   {
    "duration": 20,
    "start_time": "2022-11-07T09:30:52.332Z"
   },
   {
    "duration": 21,
    "start_time": "2022-11-07T09:34:11.401Z"
   },
   {
    "duration": 414,
    "start_time": "2022-11-07T09:34:15.498Z"
   },
   {
    "duration": 158,
    "start_time": "2022-11-07T09:34:15.914Z"
   },
   {
    "duration": 18,
    "start_time": "2022-11-07T09:34:16.074Z"
   },
   {
    "duration": 20,
    "start_time": "2022-11-07T09:34:16.095Z"
   },
   {
    "duration": 775,
    "start_time": "2022-11-07T09:34:16.117Z"
   },
   {
    "duration": 1202,
    "start_time": "2022-11-07T09:34:16.894Z"
   },
   {
    "duration": 0,
    "start_time": "2022-11-07T09:34:18.098Z"
   },
   {
    "duration": 0,
    "start_time": "2022-11-07T09:34:18.103Z"
   },
   {
    "duration": 0,
    "start_time": "2022-11-07T09:34:18.105Z"
   },
   {
    "duration": 0,
    "start_time": "2022-11-07T09:34:18.107Z"
   },
   {
    "duration": 0,
    "start_time": "2022-11-07T09:34:18.108Z"
   },
   {
    "duration": 0,
    "start_time": "2022-11-07T09:34:18.110Z"
   },
   {
    "duration": 0,
    "start_time": "2022-11-07T09:34:18.111Z"
   },
   {
    "duration": 0,
    "start_time": "2022-11-07T09:34:18.112Z"
   },
   {
    "duration": 0,
    "start_time": "2022-11-07T09:34:18.113Z"
   },
   {
    "duration": 0,
    "start_time": "2022-11-07T09:34:18.114Z"
   },
   {
    "duration": 0,
    "start_time": "2022-11-07T09:34:18.115Z"
   },
   {
    "duration": 22,
    "start_time": "2022-11-07T09:34:28.761Z"
   },
   {
    "duration": 362,
    "start_time": "2022-11-07T09:36:00.548Z"
   },
   {
    "duration": 163,
    "start_time": "2022-11-07T09:36:00.912Z"
   },
   {
    "duration": 20,
    "start_time": "2022-11-07T09:36:01.076Z"
   },
   {
    "duration": 23,
    "start_time": "2022-11-07T09:36:01.098Z"
   },
   {
    "duration": 731,
    "start_time": "2022-11-07T09:36:01.124Z"
   },
   {
    "duration": 8,
    "start_time": "2022-11-07T09:36:01.857Z"
   },
   {
    "duration": 41,
    "start_time": "2022-11-07T09:36:01.867Z"
   },
   {
    "duration": 15,
    "start_time": "2022-11-07T09:36:01.911Z"
   },
   {
    "duration": 73,
    "start_time": "2022-11-07T09:36:01.927Z"
   },
   {
    "duration": 59,
    "start_time": "2022-11-07T09:36:02.003Z"
   },
   {
    "duration": 86,
    "start_time": "2022-11-07T09:36:02.064Z"
   },
   {
    "duration": 22,
    "start_time": "2022-11-07T09:36:02.152Z"
   },
   {
    "duration": 82,
    "start_time": "2022-11-07T09:36:02.176Z"
   },
   {
    "duration": 0,
    "start_time": "2022-11-07T09:36:02.259Z"
   },
   {
    "duration": 0,
    "start_time": "2022-11-07T09:36:02.261Z"
   },
   {
    "duration": 0,
    "start_time": "2022-11-07T09:36:02.262Z"
   },
   {
    "duration": 157,
    "start_time": "2022-11-07T09:37:21.773Z"
   },
   {
    "duration": 401,
    "start_time": "2022-11-07T09:37:35.355Z"
   },
   {
    "duration": 150,
    "start_time": "2022-11-07T09:37:35.758Z"
   },
   {
    "duration": 18,
    "start_time": "2022-11-07T09:37:35.909Z"
   },
   {
    "duration": 17,
    "start_time": "2022-11-07T09:37:35.929Z"
   },
   {
    "duration": 758,
    "start_time": "2022-11-07T09:37:35.948Z"
   },
   {
    "duration": 8,
    "start_time": "2022-11-07T09:37:36.708Z"
   },
   {
    "duration": 14,
    "start_time": "2022-11-07T09:37:36.719Z"
   },
   {
    "duration": 17,
    "start_time": "2022-11-07T09:37:36.736Z"
   },
   {
    "duration": 97,
    "start_time": "2022-11-07T09:37:36.755Z"
   },
   {
    "duration": 75,
    "start_time": "2022-11-07T09:37:36.855Z"
   },
   {
    "duration": 74,
    "start_time": "2022-11-07T09:37:36.932Z"
   },
   {
    "duration": 163,
    "start_time": "2022-11-07T09:37:37.008Z"
   },
   {
    "duration": 296,
    "start_time": "2022-11-07T09:37:37.173Z"
   },
   {
    "duration": 3,
    "start_time": "2022-11-07T09:37:37.471Z"
   },
   {
    "duration": 15,
    "start_time": "2022-11-07T09:37:37.476Z"
   },
   {
    "duration": 53,
    "start_time": "2022-11-07T09:40:37.089Z"
   },
   {
    "duration": 53,
    "start_time": "2022-11-07T09:40:41.980Z"
   },
   {
    "duration": 49,
    "start_time": "2022-11-07T09:40:45.313Z"
   },
   {
    "duration": 62,
    "start_time": "2022-11-07T09:40:48.398Z"
   },
   {
    "duration": 431,
    "start_time": "2022-11-07T09:41:03.971Z"
   },
   {
    "duration": 167,
    "start_time": "2022-11-07T09:41:04.404Z"
   },
   {
    "duration": 22,
    "start_time": "2022-11-07T09:41:04.572Z"
   },
   {
    "duration": 25,
    "start_time": "2022-11-07T09:41:04.596Z"
   },
   {
    "duration": 703,
    "start_time": "2022-11-07T09:41:04.623Z"
   },
   {
    "duration": 8,
    "start_time": "2022-11-07T09:41:05.328Z"
   },
   {
    "duration": 27,
    "start_time": "2022-11-07T09:41:05.337Z"
   },
   {
    "duration": 35,
    "start_time": "2022-11-07T09:41:05.366Z"
   },
   {
    "duration": 62,
    "start_time": "2022-11-07T09:41:05.403Z"
   },
   {
    "duration": 70,
    "start_time": "2022-11-07T09:41:05.467Z"
   },
   {
    "duration": 85,
    "start_time": "2022-11-07T09:41:05.539Z"
   },
   {
    "duration": 180,
    "start_time": "2022-11-07T09:41:05.627Z"
   },
   {
    "duration": 265,
    "start_time": "2022-11-07T09:41:05.809Z"
   },
   {
    "duration": 3,
    "start_time": "2022-11-07T09:41:06.076Z"
   },
   {
    "duration": 15,
    "start_time": "2022-11-07T09:41:06.080Z"
   },
   {
    "duration": 56,
    "start_time": "2022-11-07T09:41:20.037Z"
   },
   {
    "duration": 45,
    "start_time": "2022-11-07T09:41:23.431Z"
   },
   {
    "duration": 426,
    "start_time": "2022-11-07T09:41:32.165Z"
   },
   {
    "duration": 157,
    "start_time": "2022-11-07T09:41:32.592Z"
   },
   {
    "duration": 19,
    "start_time": "2022-11-07T09:41:32.751Z"
   },
   {
    "duration": 32,
    "start_time": "2022-11-07T09:41:32.772Z"
   },
   {
    "duration": 724,
    "start_time": "2022-11-07T09:41:32.805Z"
   },
   {
    "duration": 7,
    "start_time": "2022-11-07T09:41:33.531Z"
   },
   {
    "duration": 31,
    "start_time": "2022-11-07T09:41:33.540Z"
   },
   {
    "duration": 16,
    "start_time": "2022-11-07T09:41:33.573Z"
   },
   {
    "duration": 72,
    "start_time": "2022-11-07T09:41:33.591Z"
   },
   {
    "duration": 57,
    "start_time": "2022-11-07T09:41:33.665Z"
   },
   {
    "duration": 73,
    "start_time": "2022-11-07T09:41:33.724Z"
   },
   {
    "duration": 167,
    "start_time": "2022-11-07T09:41:33.799Z"
   },
   {
    "duration": 254,
    "start_time": "2022-11-07T09:41:33.968Z"
   },
   {
    "duration": 3,
    "start_time": "2022-11-07T09:41:34.224Z"
   },
   {
    "duration": 15,
    "start_time": "2022-11-07T09:41:34.229Z"
   },
   {
    "duration": 241,
    "start_time": "2022-11-07T09:43:28.101Z"
   },
   {
    "duration": 200,
    "start_time": "2022-11-07T09:43:35.383Z"
   },
   {
    "duration": 263,
    "start_time": "2022-11-07T09:44:56.266Z"
   },
   {
    "duration": 3,
    "start_time": "2022-11-07T09:45:18.279Z"
   },
   {
    "duration": 3,
    "start_time": "2022-11-07T09:45:39.819Z"
   },
   {
    "duration": 497,
    "start_time": "2022-11-07T09:45:57.130Z"
   },
   {
    "duration": 497,
    "start_time": "2022-11-07T09:46:03.782Z"
   },
   {
    "duration": 187,
    "start_time": "2022-11-07T09:46:13.278Z"
   },
   {
    "duration": 198,
    "start_time": "2022-11-07T09:48:57.872Z"
   },
   {
    "duration": 9,
    "start_time": "2022-11-07T09:53:36.363Z"
   },
   {
    "duration": 73,
    "start_time": "2022-11-07T09:55:30.476Z"
   },
   {
    "duration": 5,
    "start_time": "2022-11-07T09:56:07.724Z"
   },
   {
    "duration": 10,
    "start_time": "2022-11-07T09:56:11.876Z"
   },
   {
    "duration": 70,
    "start_time": "2022-11-07T09:57:07.351Z"
   },
   {
    "duration": 11,
    "start_time": "2022-11-07T09:57:09.721Z"
   },
   {
    "duration": 33,
    "start_time": "2022-11-07T09:58:08.754Z"
   },
   {
    "duration": 4,
    "start_time": "2022-11-07T10:00:23.987Z"
   },
   {
    "duration": 615,
    "start_time": "2022-11-07T10:00:30.035Z"
   },
   {
    "duration": 162,
    "start_time": "2022-11-07T10:00:30.653Z"
   },
   {
    "duration": 18,
    "start_time": "2022-11-07T10:00:30.817Z"
   },
   {
    "duration": 21,
    "start_time": "2022-11-07T10:00:30.837Z"
   },
   {
    "duration": 483,
    "start_time": "2022-11-07T10:00:30.859Z"
   },
   {
    "duration": 9,
    "start_time": "2022-11-07T10:00:31.344Z"
   },
   {
    "duration": 13,
    "start_time": "2022-11-07T10:00:31.355Z"
   },
   {
    "duration": 33,
    "start_time": "2022-11-07T10:00:31.370Z"
   },
   {
    "duration": 63,
    "start_time": "2022-11-07T10:00:31.405Z"
   },
   {
    "duration": 72,
    "start_time": "2022-11-07T10:00:31.471Z"
   },
   {
    "duration": 83,
    "start_time": "2022-11-07T10:00:31.545Z"
   },
   {
    "duration": 167,
    "start_time": "2022-11-07T10:00:31.630Z"
   },
   {
    "duration": 9,
    "start_time": "2022-11-07T10:00:31.799Z"
   },
   {
    "duration": 85,
    "start_time": "2022-11-07T10:00:31.810Z"
   },
   {
    "duration": 36,
    "start_time": "2022-11-07T10:00:31.896Z"
   },
   {
    "duration": 269,
    "start_time": "2022-11-07T10:00:31.934Z"
   },
   {
    "duration": 2,
    "start_time": "2022-11-07T10:00:32.205Z"
   },
   {
    "duration": 8,
    "start_time": "2022-11-07T10:00:32.209Z"
   },
   {
    "duration": 99,
    "start_time": "2022-11-07T10:19:29.970Z"
   },
   {
    "duration": 678,
    "start_time": "2022-11-07T10:19:38.354Z"
   },
   {
    "duration": 157,
    "start_time": "2022-11-07T10:19:39.034Z"
   },
   {
    "duration": 15,
    "start_time": "2022-11-07T10:19:39.193Z"
   },
   {
    "duration": 19,
    "start_time": "2022-11-07T10:19:39.211Z"
   },
   {
    "duration": 492,
    "start_time": "2022-11-07T10:19:39.232Z"
   },
   {
    "duration": 8,
    "start_time": "2022-11-07T10:19:39.726Z"
   },
   {
    "duration": 26,
    "start_time": "2022-11-07T10:19:39.736Z"
   },
   {
    "duration": 33,
    "start_time": "2022-11-07T10:19:39.763Z"
   },
   {
    "duration": 64,
    "start_time": "2022-11-07T10:19:39.798Z"
   },
   {
    "duration": 73,
    "start_time": "2022-11-07T10:19:39.865Z"
   },
   {
    "duration": 84,
    "start_time": "2022-11-07T10:19:39.940Z"
   },
   {
    "duration": 183,
    "start_time": "2022-11-07T10:19:40.026Z"
   },
   {
    "duration": 8,
    "start_time": "2022-11-07T10:19:40.211Z"
   },
   {
    "duration": 83,
    "start_time": "2022-11-07T10:19:40.220Z"
   },
   {
    "duration": 41,
    "start_time": "2022-11-07T10:19:40.305Z"
   },
   {
    "duration": 277,
    "start_time": "2022-11-07T10:19:40.348Z"
   },
   {
    "duration": 3,
    "start_time": "2022-11-07T10:19:40.627Z"
   },
   {
    "duration": 11,
    "start_time": "2022-11-07T10:19:40.631Z"
   },
   {
    "duration": 89,
    "start_time": "2022-11-07T10:21:33.324Z"
   },
   {
    "duration": 631,
    "start_time": "2022-11-07T10:21:47.131Z"
   },
   {
    "duration": 155,
    "start_time": "2022-11-07T10:21:47.764Z"
   },
   {
    "duration": 16,
    "start_time": "2022-11-07T10:21:47.921Z"
   },
   {
    "duration": 27,
    "start_time": "2022-11-07T10:21:47.939Z"
   },
   {
    "duration": 471,
    "start_time": "2022-11-07T10:21:47.968Z"
   },
   {
    "duration": 7,
    "start_time": "2022-11-07T10:21:48.441Z"
   },
   {
    "duration": 46,
    "start_time": "2022-11-07T10:21:48.450Z"
   },
   {
    "duration": 25,
    "start_time": "2022-11-07T10:21:48.498Z"
   },
   {
    "duration": 83,
    "start_time": "2022-11-07T10:21:48.526Z"
   },
   {
    "duration": 63,
    "start_time": "2022-11-07T10:21:48.613Z"
   },
   {
    "duration": 83,
    "start_time": "2022-11-07T10:21:48.677Z"
   },
   {
    "duration": 179,
    "start_time": "2022-11-07T10:21:48.762Z"
   },
   {
    "duration": 9,
    "start_time": "2022-11-07T10:21:48.943Z"
   },
   {
    "duration": 124,
    "start_time": "2022-11-07T10:21:48.954Z"
   },
   {
    "duration": 41,
    "start_time": "2022-11-07T10:21:49.081Z"
   },
   {
    "duration": 297,
    "start_time": "2022-11-07T10:21:49.124Z"
   },
   {
    "duration": 3,
    "start_time": "2022-11-07T10:21:49.423Z"
   },
   {
    "duration": 18,
    "start_time": "2022-11-07T10:21:49.427Z"
   },
   {
    "duration": 119,
    "start_time": "2022-11-07T10:22:40.652Z"
   },
   {
    "duration": 643,
    "start_time": "2022-11-07T10:22:48.313Z"
   },
   {
    "duration": 83,
    "start_time": "2022-11-07T10:22:48.958Z"
   },
   {
    "duration": 0,
    "start_time": "2022-11-07T10:22:49.043Z"
   },
   {
    "duration": 0,
    "start_time": "2022-11-07T10:22:49.045Z"
   },
   {
    "duration": 0,
    "start_time": "2022-11-07T10:22:49.047Z"
   },
   {
    "duration": 0,
    "start_time": "2022-11-07T10:22:49.049Z"
   },
   {
    "duration": 0,
    "start_time": "2022-11-07T10:22:49.050Z"
   },
   {
    "duration": 0,
    "start_time": "2022-11-07T10:22:49.051Z"
   },
   {
    "duration": 0,
    "start_time": "2022-11-07T10:22:49.052Z"
   },
   {
    "duration": 0,
    "start_time": "2022-11-07T10:22:49.053Z"
   },
   {
    "duration": 0,
    "start_time": "2022-11-07T10:22:49.054Z"
   },
   {
    "duration": 0,
    "start_time": "2022-11-07T10:22:49.055Z"
   },
   {
    "duration": 0,
    "start_time": "2022-11-07T10:22:49.056Z"
   },
   {
    "duration": 0,
    "start_time": "2022-11-07T10:22:49.057Z"
   },
   {
    "duration": 0,
    "start_time": "2022-11-07T10:22:49.061Z"
   },
   {
    "duration": 0,
    "start_time": "2022-11-07T10:22:49.062Z"
   },
   {
    "duration": 0,
    "start_time": "2022-11-07T10:22:49.063Z"
   },
   {
    "duration": 0,
    "start_time": "2022-11-07T10:22:49.064Z"
   },
   {
    "duration": 683,
    "start_time": "2022-11-07T10:23:21.065Z"
   },
   {
    "duration": 80,
    "start_time": "2022-11-07T10:23:21.749Z"
   },
   {
    "duration": 0,
    "start_time": "2022-11-07T10:23:21.832Z"
   },
   {
    "duration": 0,
    "start_time": "2022-11-07T10:23:21.833Z"
   },
   {
    "duration": 0,
    "start_time": "2022-11-07T10:23:21.835Z"
   },
   {
    "duration": 0,
    "start_time": "2022-11-07T10:23:21.837Z"
   },
   {
    "duration": 0,
    "start_time": "2022-11-07T10:23:21.838Z"
   },
   {
    "duration": 0,
    "start_time": "2022-11-07T10:23:21.840Z"
   },
   {
    "duration": 0,
    "start_time": "2022-11-07T10:23:21.842Z"
   },
   {
    "duration": 0,
    "start_time": "2022-11-07T10:23:21.843Z"
   },
   {
    "duration": 0,
    "start_time": "2022-11-07T10:23:21.845Z"
   },
   {
    "duration": 0,
    "start_time": "2022-11-07T10:23:21.846Z"
   },
   {
    "duration": 0,
    "start_time": "2022-11-07T10:23:21.848Z"
   },
   {
    "duration": 0,
    "start_time": "2022-11-07T10:23:21.849Z"
   },
   {
    "duration": 0,
    "start_time": "2022-11-07T10:23:21.851Z"
   },
   {
    "duration": 0,
    "start_time": "2022-11-07T10:23:21.852Z"
   },
   {
    "duration": 0,
    "start_time": "2022-11-07T10:23:21.854Z"
   },
   {
    "duration": 0,
    "start_time": "2022-11-07T10:23:21.855Z"
   },
   {
    "duration": 14,
    "start_time": "2022-11-07T10:24:15.231Z"
   },
   {
    "duration": 650,
    "start_time": "2022-11-07T10:25:52.608Z"
   },
   {
    "duration": 844,
    "start_time": "2022-11-07T10:25:53.260Z"
   },
   {
    "duration": 16,
    "start_time": "2022-11-07T10:25:54.106Z"
   },
   {
    "duration": 20,
    "start_time": "2022-11-07T10:25:54.125Z"
   },
   {
    "duration": 515,
    "start_time": "2022-11-07T10:25:54.147Z"
   },
   {
    "duration": 7,
    "start_time": "2022-11-07T10:25:54.665Z"
   },
   {
    "duration": 47,
    "start_time": "2022-11-07T10:25:54.674Z"
   },
   {
    "duration": 15,
    "start_time": "2022-11-07T10:25:54.723Z"
   },
   {
    "duration": 86,
    "start_time": "2022-11-07T10:25:54.740Z"
   },
   {
    "duration": 80,
    "start_time": "2022-11-07T10:25:54.829Z"
   },
   {
    "duration": 59,
    "start_time": "2022-11-07T10:25:54.911Z"
   },
   {
    "duration": 192,
    "start_time": "2022-11-07T10:25:54.972Z"
   },
   {
    "duration": 8,
    "start_time": "2022-11-07T10:25:55.166Z"
   },
   {
    "duration": 82,
    "start_time": "2022-11-07T10:25:55.175Z"
   },
   {
    "duration": 41,
    "start_time": "2022-11-07T10:25:55.259Z"
   },
   {
    "duration": 329,
    "start_time": "2022-11-07T10:25:55.302Z"
   },
   {
    "duration": 3,
    "start_time": "2022-11-07T10:25:55.632Z"
   },
   {
    "duration": 5,
    "start_time": "2022-11-07T10:25:55.637Z"
   },
   {
    "duration": 117,
    "start_time": "2022-11-07T10:27:43.998Z"
   },
   {
    "duration": 704,
    "start_time": "2022-11-07T10:34:41.224Z"
   },
   {
    "duration": 444,
    "start_time": "2022-11-07T10:34:41.931Z"
   },
   {
    "duration": 16,
    "start_time": "2022-11-07T10:34:42.376Z"
   },
   {
    "duration": 20,
    "start_time": "2022-11-07T10:34:42.394Z"
   },
   {
    "duration": 501,
    "start_time": "2022-11-07T10:34:42.417Z"
   },
   {
    "duration": 8,
    "start_time": "2022-11-07T10:34:42.920Z"
   },
   {
    "duration": 39,
    "start_time": "2022-11-07T10:34:42.930Z"
   },
   {
    "duration": 15,
    "start_time": "2022-11-07T10:34:42.992Z"
   },
   {
    "duration": 83,
    "start_time": "2022-11-07T10:34:43.008Z"
   },
   {
    "duration": 53,
    "start_time": "2022-11-07T10:34:43.093Z"
   },
   {
    "duration": 76,
    "start_time": "2022-11-07T10:34:43.148Z"
   },
   {
    "duration": 182,
    "start_time": "2022-11-07T10:34:43.226Z"
   },
   {
    "duration": 81,
    "start_time": "2022-11-07T10:34:43.410Z"
   },
   {
    "duration": 268,
    "start_time": "2022-11-07T10:34:43.493Z"
   },
   {
    "duration": 3,
    "start_time": "2022-11-07T10:34:43.763Z"
   },
   {
    "duration": 7,
    "start_time": "2022-11-07T10:34:43.767Z"
   },
   {
    "duration": 647,
    "start_time": "2022-11-07T10:35:02.248Z"
   },
   {
    "duration": 354,
    "start_time": "2022-11-07T10:35:02.897Z"
   },
   {
    "duration": 15,
    "start_time": "2022-11-07T10:35:03.253Z"
   },
   {
    "duration": 39,
    "start_time": "2022-11-07T10:35:03.271Z"
   },
   {
    "duration": 503,
    "start_time": "2022-11-07T10:35:03.311Z"
   },
   {
    "duration": 8,
    "start_time": "2022-11-07T10:35:03.816Z"
   },
   {
    "duration": 35,
    "start_time": "2022-11-07T10:35:03.825Z"
   },
   {
    "duration": 38,
    "start_time": "2022-11-07T10:35:03.862Z"
   },
   {
    "duration": 58,
    "start_time": "2022-11-07T10:35:03.902Z"
   },
   {
    "duration": 67,
    "start_time": "2022-11-07T10:35:03.962Z"
   },
   {
    "duration": 68,
    "start_time": "2022-11-07T10:35:04.030Z"
   },
   {
    "duration": 167,
    "start_time": "2022-11-07T10:35:04.100Z"
   },
   {
    "duration": 78,
    "start_time": "2022-11-07T10:35:04.269Z"
   },
   {
    "duration": 315,
    "start_time": "2022-11-07T10:35:04.349Z"
   },
   {
    "duration": 3,
    "start_time": "2022-11-07T10:35:04.666Z"
   },
   {
    "duration": 6,
    "start_time": "2022-11-07T10:35:04.671Z"
   },
   {
    "duration": 795,
    "start_time": "2022-11-08T05:43:24.954Z"
   },
   {
    "duration": 485,
    "start_time": "2022-11-08T05:43:25.751Z"
   },
   {
    "duration": 16,
    "start_time": "2022-11-08T05:43:26.238Z"
   },
   {
    "duration": 20,
    "start_time": "2022-11-08T05:43:26.256Z"
   },
   {
    "duration": 417,
    "start_time": "2022-11-08T05:43:26.278Z"
   },
   {
    "duration": 7,
    "start_time": "2022-11-08T05:43:26.696Z"
   },
   {
    "duration": 44,
    "start_time": "2022-11-08T05:43:26.705Z"
   },
   {
    "duration": 16,
    "start_time": "2022-11-08T05:43:26.751Z"
   },
   {
    "duration": 58,
    "start_time": "2022-11-08T05:43:26.768Z"
   },
   {
    "duration": 60,
    "start_time": "2022-11-08T05:43:26.828Z"
   },
   {
    "duration": 75,
    "start_time": "2022-11-08T05:43:26.890Z"
   },
   {
    "duration": 186,
    "start_time": "2022-11-08T05:43:26.966Z"
   },
   {
    "duration": 135,
    "start_time": "2022-11-08T05:43:27.154Z"
   },
   {
    "duration": 3,
    "start_time": "2022-11-08T05:43:27.291Z"
   },
   {
    "duration": 14,
    "start_time": "2022-11-08T05:43:27.296Z"
   },
   {
    "duration": 15,
    "start_time": "2022-11-08T05:43:27.312Z"
   },
   {
    "duration": 20,
    "start_time": "2022-11-08T05:43:27.328Z"
   },
   {
    "duration": 255,
    "start_time": "2022-11-08T05:43:27.349Z"
   },
   {
    "duration": 10,
    "start_time": "2022-11-08T05:43:27.606Z"
   },
   {
    "duration": 32,
    "start_time": "2022-11-08T05:43:27.617Z"
   },
   {
    "duration": 26,
    "start_time": "2022-11-08T05:43:27.650Z"
   },
   {
    "duration": 3,
    "start_time": "2022-11-08T05:43:27.678Z"
   },
   {
    "duration": 13,
    "start_time": "2022-11-08T05:43:27.683Z"
   },
   {
    "duration": 22,
    "start_time": "2022-11-08T05:43:27.698Z"
   },
   {
    "duration": 94,
    "start_time": "2022-11-08T05:43:27.721Z"
   },
   {
    "duration": 3,
    "start_time": "2022-11-08T05:43:27.817Z"
   },
   {
    "duration": 403,
    "start_time": "2022-11-08T05:43:27.822Z"
   },
   {
    "duration": 2,
    "start_time": "2022-11-08T05:43:28.228Z"
   },
   {
    "duration": 383,
    "start_time": "2022-11-08T05:43:28.231Z"
   },
   {
    "duration": 2,
    "start_time": "2022-11-08T05:43:28.616Z"
   },
   {
    "duration": 559,
    "start_time": "2022-11-08T05:50:03.411Z"
   },
   {
    "duration": 149,
    "start_time": "2022-11-08T05:50:03.971Z"
   },
   {
    "duration": 14,
    "start_time": "2022-11-08T05:50:04.121Z"
   },
   {
    "duration": 25,
    "start_time": "2022-11-08T05:50:04.136Z"
   },
   {
    "duration": 406,
    "start_time": "2022-11-08T05:50:04.165Z"
   },
   {
    "duration": 589,
    "start_time": "2022-11-08T05:53:08.650Z"
   },
   {
    "duration": 155,
    "start_time": "2022-11-08T05:53:09.241Z"
   },
   {
    "duration": 14,
    "start_time": "2022-11-08T05:53:09.397Z"
   },
   {
    "duration": 19,
    "start_time": "2022-11-08T05:53:09.412Z"
   },
   {
    "duration": 415,
    "start_time": "2022-11-08T05:53:09.433Z"
   },
   {
    "duration": 6,
    "start_time": "2022-11-08T05:53:09.850Z"
   },
   {
    "duration": 33,
    "start_time": "2022-11-08T05:53:09.857Z"
   },
   {
    "duration": 13,
    "start_time": "2022-11-08T05:53:09.891Z"
   },
   {
    "duration": 67,
    "start_time": "2022-11-08T05:53:09.905Z"
   },
   {
    "duration": 46,
    "start_time": "2022-11-08T05:53:09.974Z"
   },
   {
    "duration": 70,
    "start_time": "2022-11-08T05:53:10.022Z"
   },
   {
    "duration": 181,
    "start_time": "2022-11-08T05:53:10.094Z"
   },
   {
    "duration": 138,
    "start_time": "2022-11-08T05:53:10.277Z"
   },
   {
    "duration": 580,
    "start_time": "2022-11-08T06:01:04.209Z"
   },
   {
    "duration": 148,
    "start_time": "2022-11-08T06:01:04.791Z"
   },
   {
    "duration": 14,
    "start_time": "2022-11-08T06:01:04.941Z"
   },
   {
    "duration": 18,
    "start_time": "2022-11-08T06:01:04.957Z"
   },
   {
    "duration": 452,
    "start_time": "2022-11-08T06:01:04.977Z"
   },
   {
    "duration": 6,
    "start_time": "2022-11-08T06:01:05.430Z"
   },
   {
    "duration": 46,
    "start_time": "2022-11-08T06:01:05.437Z"
   },
   {
    "duration": 14,
    "start_time": "2022-11-08T06:01:05.484Z"
   },
   {
    "duration": 61,
    "start_time": "2022-11-08T06:01:05.500Z"
   },
   {
    "duration": 47,
    "start_time": "2022-11-08T06:01:05.563Z"
   },
   {
    "duration": 75,
    "start_time": "2022-11-08T06:01:05.611Z"
   },
   {
    "duration": 170,
    "start_time": "2022-11-08T06:01:05.687Z"
   },
   {
    "duration": 128,
    "start_time": "2022-11-08T06:01:05.859Z"
   },
   {
    "duration": 3,
    "start_time": "2022-11-08T06:01:05.988Z"
   },
   {
    "duration": 11,
    "start_time": "2022-11-08T06:01:05.992Z"
   },
   {
    "duration": 18,
    "start_time": "2022-11-08T06:01:06.004Z"
   },
   {
    "duration": 10,
    "start_time": "2022-11-08T06:01:06.023Z"
   },
   {
    "duration": 252,
    "start_time": "2022-11-08T06:01:06.034Z"
   },
   {
    "duration": 9,
    "start_time": "2022-11-08T06:01:06.287Z"
   },
   {
    "duration": 19,
    "start_time": "2022-11-08T06:01:06.298Z"
   },
   {
    "duration": 44,
    "start_time": "2022-11-08T06:01:06.318Z"
   },
   {
    "duration": 4,
    "start_time": "2022-11-08T06:01:06.363Z"
   },
   {
    "duration": 11,
    "start_time": "2022-11-08T06:01:06.369Z"
   },
   {
    "duration": 27,
    "start_time": "2022-11-08T06:01:06.381Z"
   },
   {
    "duration": 72,
    "start_time": "2022-11-08T06:01:06.409Z"
   },
   {
    "duration": 4,
    "start_time": "2022-11-08T06:01:06.482Z"
   },
   {
    "duration": 397,
    "start_time": "2022-11-08T06:01:06.487Z"
   },
   {
    "duration": 2,
    "start_time": "2022-11-08T06:01:06.887Z"
   },
   {
    "duration": 383,
    "start_time": "2022-11-08T06:01:06.890Z"
   },
   {
    "duration": 2,
    "start_time": "2022-11-08T06:01:07.274Z"
   },
   {
    "duration": 531,
    "start_time": "2022-11-08T06:01:48.505Z"
   },
   {
    "duration": 154,
    "start_time": "2022-11-08T06:01:49.039Z"
   },
   {
    "duration": 13,
    "start_time": "2022-11-08T06:01:49.195Z"
   },
   {
    "duration": 20,
    "start_time": "2022-11-08T06:01:49.209Z"
   },
   {
    "duration": 431,
    "start_time": "2022-11-08T06:01:49.231Z"
   },
   {
    "duration": 6,
    "start_time": "2022-11-08T06:01:49.664Z"
   },
   {
    "duration": 35,
    "start_time": "2022-11-08T06:01:49.672Z"
   },
   {
    "duration": 43,
    "start_time": "2022-11-08T06:01:49.709Z"
   },
   {
    "duration": 65,
    "start_time": "2022-11-08T06:01:49.754Z"
   },
   {
    "duration": 64,
    "start_time": "2022-11-08T06:01:49.820Z"
   },
   {
    "duration": 72,
    "start_time": "2022-11-08T06:01:49.885Z"
   },
   {
    "duration": 196,
    "start_time": "2022-11-08T06:01:49.959Z"
   },
   {
    "duration": 141,
    "start_time": "2022-11-08T06:01:50.157Z"
   },
   {
    "duration": 3,
    "start_time": "2022-11-08T06:01:50.301Z"
   },
   {
    "duration": 20,
    "start_time": "2022-11-08T06:01:50.306Z"
   },
   {
    "duration": 22,
    "start_time": "2022-11-08T06:01:50.328Z"
   },
   {
    "duration": 5,
    "start_time": "2022-11-08T06:01:50.352Z"
   },
   {
    "duration": 252,
    "start_time": "2022-11-08T06:01:50.358Z"
   },
   {
    "duration": 8,
    "start_time": "2022-11-08T06:01:50.612Z"
   },
   {
    "duration": 28,
    "start_time": "2022-11-08T06:01:50.621Z"
   },
   {
    "duration": 26,
    "start_time": "2022-11-08T06:01:50.650Z"
   },
   {
    "duration": 3,
    "start_time": "2022-11-08T06:01:50.677Z"
   },
   {
    "duration": 9,
    "start_time": "2022-11-08T06:01:50.682Z"
   },
   {
    "duration": 21,
    "start_time": "2022-11-08T06:01:50.693Z"
   },
   {
    "duration": 86,
    "start_time": "2022-11-08T06:01:50.715Z"
   },
   {
    "duration": 3,
    "start_time": "2022-11-08T06:01:50.803Z"
   },
   {
    "duration": 397,
    "start_time": "2022-11-08T06:01:50.807Z"
   },
   {
    "duration": 2,
    "start_time": "2022-11-08T06:01:51.205Z"
   },
   {
    "duration": 394,
    "start_time": "2022-11-08T06:01:51.209Z"
   },
   {
    "duration": 2,
    "start_time": "2022-11-08T06:01:51.604Z"
   },
   {
    "duration": 566,
    "start_time": "2022-11-08T06:03:19.892Z"
   },
   {
    "duration": 149,
    "start_time": "2022-11-08T06:03:20.460Z"
   },
   {
    "duration": 13,
    "start_time": "2022-11-08T06:03:20.611Z"
   },
   {
    "duration": 31,
    "start_time": "2022-11-08T06:03:20.626Z"
   },
   {
    "duration": 401,
    "start_time": "2022-11-08T06:03:20.658Z"
   },
   {
    "duration": 6,
    "start_time": "2022-11-08T06:03:21.061Z"
   },
   {
    "duration": 32,
    "start_time": "2022-11-08T06:03:21.069Z"
   },
   {
    "duration": 13,
    "start_time": "2022-11-08T06:03:21.103Z"
   },
   {
    "duration": 80,
    "start_time": "2022-11-08T06:03:21.118Z"
   },
   {
    "duration": 57,
    "start_time": "2022-11-08T06:03:21.200Z"
   },
   {
    "duration": 61,
    "start_time": "2022-11-08T06:03:21.259Z"
   },
   {
    "duration": 191,
    "start_time": "2022-11-08T06:03:21.322Z"
   },
   {
    "duration": 155,
    "start_time": "2022-11-08T06:03:21.514Z"
   },
   {
    "duration": 3,
    "start_time": "2022-11-08T06:03:21.671Z"
   },
   {
    "duration": 8,
    "start_time": "2022-11-08T06:03:21.675Z"
   },
   {
    "duration": 11,
    "start_time": "2022-11-08T06:03:21.684Z"
   },
   {
    "duration": 4,
    "start_time": "2022-11-08T06:03:21.697Z"
   },
   {
    "duration": 272,
    "start_time": "2022-11-08T06:03:21.703Z"
   },
   {
    "duration": 9,
    "start_time": "2022-11-08T06:03:21.977Z"
   },
   {
    "duration": 21,
    "start_time": "2022-11-08T06:03:21.987Z"
   },
   {
    "duration": 48,
    "start_time": "2022-11-08T06:03:22.009Z"
   },
   {
    "duration": 3,
    "start_time": "2022-11-08T06:03:22.059Z"
   },
   {
    "duration": 8,
    "start_time": "2022-11-08T06:03:22.064Z"
   },
   {
    "duration": 25,
    "start_time": "2022-11-08T06:03:22.073Z"
   },
   {
    "duration": 87,
    "start_time": "2022-11-08T06:03:22.100Z"
   },
   {
    "duration": 4,
    "start_time": "2022-11-08T06:03:22.188Z"
   },
   {
    "duration": 406,
    "start_time": "2022-11-08T06:03:22.193Z"
   },
   {
    "duration": 2,
    "start_time": "2022-11-08T06:03:22.601Z"
   },
   {
    "duration": 383,
    "start_time": "2022-11-08T06:03:22.604Z"
   },
   {
    "duration": 2,
    "start_time": "2022-11-08T06:03:22.989Z"
   },
   {
    "duration": 70,
    "start_time": "2022-11-08T06:13:39.149Z"
   },
   {
    "duration": 8,
    "start_time": "2022-11-08T06:13:51.435Z"
   },
   {
    "duration": 5,
    "start_time": "2022-11-08T06:13:56.915Z"
   },
   {
    "duration": 7,
    "start_time": "2022-11-08T06:14:13.680Z"
   },
   {
    "duration": 5,
    "start_time": "2022-11-08T06:14:18.143Z"
   },
   {
    "duration": 5,
    "start_time": "2022-11-08T06:14:20.825Z"
   },
   {
    "duration": 634,
    "start_time": "2022-11-08T06:14:30.159Z"
   },
   {
    "duration": 150,
    "start_time": "2022-11-08T06:14:30.795Z"
   },
   {
    "duration": 14,
    "start_time": "2022-11-08T06:14:30.946Z"
   },
   {
    "duration": 38,
    "start_time": "2022-11-08T06:14:30.961Z"
   },
   {
    "duration": 475,
    "start_time": "2022-11-08T06:14:31.001Z"
   },
   {
    "duration": 6,
    "start_time": "2022-11-08T06:14:31.478Z"
   },
   {
    "duration": 44,
    "start_time": "2022-11-08T06:14:31.485Z"
   },
   {
    "duration": 25,
    "start_time": "2022-11-08T06:14:31.530Z"
   },
   {
    "duration": 56,
    "start_time": "2022-11-08T06:14:31.557Z"
   },
   {
    "duration": 63,
    "start_time": "2022-11-08T06:14:31.615Z"
   },
   {
    "duration": 58,
    "start_time": "2022-11-08T06:14:31.679Z"
   },
   {
    "duration": 172,
    "start_time": "2022-11-08T06:14:31.749Z"
   },
   {
    "duration": 135,
    "start_time": "2022-11-08T06:14:31.922Z"
   },
   {
    "duration": 3,
    "start_time": "2022-11-08T06:14:32.060Z"
   },
   {
    "duration": 15,
    "start_time": "2022-11-08T06:14:32.065Z"
   },
   {
    "duration": 13,
    "start_time": "2022-11-08T06:14:32.081Z"
   },
   {
    "duration": 7,
    "start_time": "2022-11-08T06:14:32.096Z"
   },
   {
    "duration": 252,
    "start_time": "2022-11-08T06:14:32.104Z"
   },
   {
    "duration": 8,
    "start_time": "2022-11-08T06:14:32.358Z"
   },
   {
    "duration": 21,
    "start_time": "2022-11-08T06:14:32.368Z"
   },
   {
    "duration": 25,
    "start_time": "2022-11-08T06:14:32.391Z"
   },
   {
    "duration": 4,
    "start_time": "2022-11-08T06:14:32.417Z"
   },
   {
    "duration": 6,
    "start_time": "2022-11-08T06:14:32.448Z"
   },
   {
    "duration": 22,
    "start_time": "2022-11-08T06:14:32.456Z"
   },
   {
    "duration": 84,
    "start_time": "2022-11-08T06:14:32.479Z"
   },
   {
    "duration": 3,
    "start_time": "2022-11-08T06:14:32.564Z"
   },
   {
    "duration": 391,
    "start_time": "2022-11-08T06:14:32.569Z"
   },
   {
    "duration": 2,
    "start_time": "2022-11-08T06:14:32.962Z"
   },
   {
    "duration": 387,
    "start_time": "2022-11-08T06:14:32.966Z"
   },
   {
    "duration": 2,
    "start_time": "2022-11-08T06:14:33.354Z"
   },
   {
    "duration": 5,
    "start_time": "2022-11-08T06:14:57.223Z"
   },
   {
    "duration": 6,
    "start_time": "2022-11-08T06:15:03.846Z"
   },
   {
    "duration": 5,
    "start_time": "2022-11-08T06:15:30.516Z"
   },
   {
    "duration": 5,
    "start_time": "2022-11-08T06:15:58.847Z"
   },
   {
    "duration": 629,
    "start_time": "2022-11-08T06:16:15.324Z"
   },
   {
    "duration": 150,
    "start_time": "2022-11-08T06:16:15.955Z"
   },
   {
    "duration": 13,
    "start_time": "2022-11-08T06:16:16.106Z"
   },
   {
    "duration": 27,
    "start_time": "2022-11-08T06:16:16.121Z"
   },
   {
    "duration": 404,
    "start_time": "2022-11-08T06:16:16.149Z"
   },
   {
    "duration": 6,
    "start_time": "2022-11-08T06:16:16.555Z"
   },
   {
    "duration": 42,
    "start_time": "2022-11-08T06:16:16.563Z"
   },
   {
    "duration": 13,
    "start_time": "2022-11-08T06:16:16.606Z"
   },
   {
    "duration": 64,
    "start_time": "2022-11-08T06:16:16.620Z"
   },
   {
    "duration": 48,
    "start_time": "2022-11-08T06:16:16.686Z"
   },
   {
    "duration": 58,
    "start_time": "2022-11-08T06:16:16.747Z"
   },
   {
    "duration": 187,
    "start_time": "2022-11-08T06:16:16.807Z"
   },
   {
    "duration": 132,
    "start_time": "2022-11-08T06:16:16.996Z"
   },
   {
    "duration": 3,
    "start_time": "2022-11-08T06:16:17.130Z"
   },
   {
    "duration": 6,
    "start_time": "2022-11-08T06:16:17.148Z"
   },
   {
    "duration": 17,
    "start_time": "2022-11-08T06:16:17.155Z"
   },
   {
    "duration": 4,
    "start_time": "2022-11-08T06:16:17.174Z"
   },
   {
    "duration": 8,
    "start_time": "2022-11-08T06:16:17.180Z"
   },
   {
    "duration": 261,
    "start_time": "2022-11-08T06:16:17.189Z"
   },
   {
    "duration": 9,
    "start_time": "2022-11-08T06:16:17.451Z"
   },
   {
    "duration": 21,
    "start_time": "2022-11-08T06:16:17.461Z"
   },
   {
    "duration": 26,
    "start_time": "2022-11-08T06:16:17.483Z"
   },
   {
    "duration": 4,
    "start_time": "2022-11-08T06:16:17.510Z"
   },
   {
    "duration": 33,
    "start_time": "2022-11-08T06:16:17.515Z"
   },
   {
    "duration": 22,
    "start_time": "2022-11-08T06:16:17.550Z"
   },
   {
    "duration": 76,
    "start_time": "2022-11-08T06:16:17.573Z"
   },
   {
    "duration": 4,
    "start_time": "2022-11-08T06:16:17.650Z"
   },
   {
    "duration": 420,
    "start_time": "2022-11-08T06:16:17.656Z"
   },
   {
    "duration": 2,
    "start_time": "2022-11-08T06:16:18.078Z"
   },
   {
    "duration": 400,
    "start_time": "2022-11-08T06:16:18.081Z"
   },
   {
    "duration": 2,
    "start_time": "2022-11-08T06:16:18.483Z"
   },
   {
    "duration": 568,
    "start_time": "2022-11-08T06:17:12.682Z"
   },
   {
    "duration": 155,
    "start_time": "2022-11-08T06:17:13.253Z"
   },
   {
    "duration": 14,
    "start_time": "2022-11-08T06:17:13.410Z"
   },
   {
    "duration": 25,
    "start_time": "2022-11-08T06:17:13.427Z"
   },
   {
    "duration": 419,
    "start_time": "2022-11-08T06:17:13.453Z"
   },
   {
    "duration": 7,
    "start_time": "2022-11-08T06:17:13.873Z"
   },
   {
    "duration": 32,
    "start_time": "2022-11-08T06:17:13.881Z"
   },
   {
    "duration": 14,
    "start_time": "2022-11-08T06:17:13.914Z"
   },
   {
    "duration": 54,
    "start_time": "2022-11-08T06:17:13.948Z"
   },
   {
    "duration": 59,
    "start_time": "2022-11-08T06:17:14.004Z"
   },
   {
    "duration": 58,
    "start_time": "2022-11-08T06:17:14.065Z"
   },
   {
    "duration": 191,
    "start_time": "2022-11-08T06:17:14.126Z"
   },
   {
    "duration": 137,
    "start_time": "2022-11-08T06:17:14.319Z"
   },
   {
    "duration": 3,
    "start_time": "2022-11-08T06:17:14.458Z"
   },
   {
    "duration": 18,
    "start_time": "2022-11-08T06:17:14.463Z"
   },
   {
    "duration": 12,
    "start_time": "2022-11-08T06:17:14.483Z"
   },
   {
    "duration": 4,
    "start_time": "2022-11-08T06:17:14.497Z"
   },
   {
    "duration": 6,
    "start_time": "2022-11-08T06:17:14.503Z"
   },
   {
    "duration": 268,
    "start_time": "2022-11-08T06:17:14.511Z"
   },
   {
    "duration": 9,
    "start_time": "2022-11-08T06:17:14.780Z"
   },
   {
    "duration": 53,
    "start_time": "2022-11-08T06:17:14.791Z"
   },
   {
    "duration": 26,
    "start_time": "2022-11-08T06:17:14.846Z"
   },
   {
    "duration": 3,
    "start_time": "2022-11-08T06:17:14.874Z"
   },
   {
    "duration": 11,
    "start_time": "2022-11-08T06:17:14.878Z"
   },
   {
    "duration": 24,
    "start_time": "2022-11-08T06:17:14.890Z"
   },
   {
    "duration": 83,
    "start_time": "2022-11-08T06:17:14.915Z"
   },
   {
    "duration": 4,
    "start_time": "2022-11-08T06:17:14.999Z"
   },
   {
    "duration": 468,
    "start_time": "2022-11-08T06:17:15.005Z"
   },
   {
    "duration": 2,
    "start_time": "2022-11-08T06:17:15.475Z"
   },
   {
    "duration": 455,
    "start_time": "2022-11-08T06:17:15.479Z"
   },
   {
    "duration": 2,
    "start_time": "2022-11-08T06:17:15.936Z"
   },
   {
    "duration": 205,
    "start_time": "2022-11-08T06:18:06.674Z"
   },
   {
    "duration": 188,
    "start_time": "2022-11-08T06:18:33.353Z"
   },
   {
    "duration": 587,
    "start_time": "2022-11-08T06:18:49.710Z"
   },
   {
    "duration": 155,
    "start_time": "2022-11-08T06:18:50.299Z"
   },
   {
    "duration": 14,
    "start_time": "2022-11-08T06:18:50.455Z"
   },
   {
    "duration": 31,
    "start_time": "2022-11-08T06:18:50.471Z"
   },
   {
    "duration": 395,
    "start_time": "2022-11-08T06:18:50.504Z"
   },
   {
    "duration": 6,
    "start_time": "2022-11-08T06:18:50.901Z"
   },
   {
    "duration": 45,
    "start_time": "2022-11-08T06:18:50.908Z"
   },
   {
    "duration": 15,
    "start_time": "2022-11-08T06:18:50.955Z"
   },
   {
    "duration": 60,
    "start_time": "2022-11-08T06:18:50.971Z"
   },
   {
    "duration": 55,
    "start_time": "2022-11-08T06:18:51.034Z"
   },
   {
    "duration": 72,
    "start_time": "2022-11-08T06:18:51.091Z"
   },
   {
    "duration": 184,
    "start_time": "2022-11-08T06:18:51.165Z"
   },
   {
    "duration": 129,
    "start_time": "2022-11-08T06:18:51.351Z"
   },
   {
    "duration": 3,
    "start_time": "2022-11-08T06:18:51.481Z"
   },
   {
    "duration": 17,
    "start_time": "2022-11-08T06:18:51.485Z"
   },
   {
    "duration": 13,
    "start_time": "2022-11-08T06:18:51.503Z"
   },
   {
    "duration": 16,
    "start_time": "2022-11-08T06:18:51.518Z"
   },
   {
    "duration": 13,
    "start_time": "2022-11-08T06:18:51.535Z"
   },
   {
    "duration": 259,
    "start_time": "2022-11-08T06:18:51.549Z"
   },
   {
    "duration": 9,
    "start_time": "2022-11-08T06:18:51.809Z"
   },
   {
    "duration": 33,
    "start_time": "2022-11-08T06:18:51.819Z"
   },
   {
    "duration": 26,
    "start_time": "2022-11-08T06:18:51.853Z"
   },
   {
    "duration": 4,
    "start_time": "2022-11-08T06:18:51.881Z"
   },
   {
    "duration": 9,
    "start_time": "2022-11-08T06:18:51.886Z"
   },
   {
    "duration": 31,
    "start_time": "2022-11-08T06:18:51.897Z"
   },
   {
    "duration": 84,
    "start_time": "2022-11-08T06:18:51.930Z"
   },
   {
    "duration": 3,
    "start_time": "2022-11-08T06:18:52.016Z"
   },
   {
    "duration": 397,
    "start_time": "2022-11-08T06:18:52.022Z"
   },
   {
    "duration": 2,
    "start_time": "2022-11-08T06:18:52.421Z"
   },
   {
    "duration": 374,
    "start_time": "2022-11-08T06:18:52.424Z"
   },
   {
    "duration": 2,
    "start_time": "2022-11-08T06:18:52.800Z"
   },
   {
    "duration": 24,
    "start_time": "2022-11-08T06:21:16.787Z"
   },
   {
    "duration": 567,
    "start_time": "2022-11-08T06:21:23.886Z"
   },
   {
    "duration": 171,
    "start_time": "2022-11-08T06:21:24.455Z"
   },
   {
    "duration": 21,
    "start_time": "2022-11-08T06:21:24.629Z"
   },
   {
    "duration": 23,
    "start_time": "2022-11-08T06:21:24.652Z"
   },
   {
    "duration": 495,
    "start_time": "2022-11-08T06:21:24.677Z"
   },
   {
    "duration": 8,
    "start_time": "2022-11-08T06:21:25.173Z"
   },
   {
    "duration": 58,
    "start_time": "2022-11-08T06:21:25.182Z"
   },
   {
    "duration": 23,
    "start_time": "2022-11-08T06:21:25.242Z"
   },
   {
    "duration": 67,
    "start_time": "2022-11-08T06:21:25.267Z"
   },
   {
    "duration": 68,
    "start_time": "2022-11-08T06:21:25.337Z"
   },
   {
    "duration": 75,
    "start_time": "2022-11-08T06:21:25.407Z"
   },
   {
    "duration": 173,
    "start_time": "2022-11-08T06:21:25.484Z"
   },
   {
    "duration": 152,
    "start_time": "2022-11-08T06:21:25.658Z"
   },
   {
    "duration": 3,
    "start_time": "2022-11-08T06:21:25.812Z"
   },
   {
    "duration": 19,
    "start_time": "2022-11-08T06:21:25.821Z"
   },
   {
    "duration": 21,
    "start_time": "2022-11-08T06:21:25.841Z"
   },
   {
    "duration": 5,
    "start_time": "2022-11-08T06:21:25.863Z"
   },
   {
    "duration": 15,
    "start_time": "2022-11-08T06:21:25.869Z"
   },
   {
    "duration": 288,
    "start_time": "2022-11-08T06:21:25.885Z"
   },
   {
    "duration": 9,
    "start_time": "2022-11-08T06:21:26.175Z"
   },
   {
    "duration": 30,
    "start_time": "2022-11-08T06:21:26.185Z"
   },
   {
    "duration": 47,
    "start_time": "2022-11-08T06:21:26.216Z"
   },
   {
    "duration": 3,
    "start_time": "2022-11-08T06:21:26.265Z"
   },
   {
    "duration": 15,
    "start_time": "2022-11-08T06:21:26.269Z"
   },
   {
    "duration": 26,
    "start_time": "2022-11-08T06:21:26.285Z"
   },
   {
    "duration": 82,
    "start_time": "2022-11-08T06:21:26.312Z"
   },
   {
    "duration": 3,
    "start_time": "2022-11-08T06:21:26.395Z"
   },
   {
    "duration": 428,
    "start_time": "2022-11-08T06:21:26.401Z"
   },
   {
    "duration": 3,
    "start_time": "2022-11-08T06:21:26.832Z"
   },
   {
    "duration": 419,
    "start_time": "2022-11-08T06:21:26.837Z"
   },
   {
    "duration": 3,
    "start_time": "2022-11-08T06:21:27.258Z"
   },
   {
    "duration": 24,
    "start_time": "2022-11-08T06:25:56.296Z"
   },
   {
    "duration": 592,
    "start_time": "2022-11-08T06:26:02.780Z"
   },
   {
    "duration": 152,
    "start_time": "2022-11-08T06:26:03.373Z"
   },
   {
    "duration": 14,
    "start_time": "2022-11-08T06:26:03.526Z"
   },
   {
    "duration": 19,
    "start_time": "2022-11-08T06:26:03.548Z"
   },
   {
    "duration": 415,
    "start_time": "2022-11-08T06:26:03.569Z"
   },
   {
    "duration": 7,
    "start_time": "2022-11-08T06:26:03.986Z"
   },
   {
    "duration": 38,
    "start_time": "2022-11-08T06:26:03.994Z"
   },
   {
    "duration": 26,
    "start_time": "2022-11-08T06:26:04.034Z"
   },
   {
    "duration": 51,
    "start_time": "2022-11-08T06:26:04.062Z"
   },
   {
    "duration": 67,
    "start_time": "2022-11-08T06:26:04.116Z"
   },
   {
    "duration": 73,
    "start_time": "2022-11-08T06:26:04.184Z"
   },
   {
    "duration": 196,
    "start_time": "2022-11-08T06:26:04.258Z"
   },
   {
    "duration": 136,
    "start_time": "2022-11-08T06:26:04.455Z"
   },
   {
    "duration": 3,
    "start_time": "2022-11-08T06:26:04.592Z"
   },
   {
    "duration": 10,
    "start_time": "2022-11-08T06:26:04.597Z"
   },
   {
    "duration": 15,
    "start_time": "2022-11-08T06:26:04.608Z"
   },
   {
    "duration": 23,
    "start_time": "2022-11-08T06:26:04.626Z"
   },
   {
    "duration": 5,
    "start_time": "2022-11-08T06:26:04.651Z"
   },
   {
    "duration": 265,
    "start_time": "2022-11-08T06:26:04.657Z"
   },
   {
    "duration": 32,
    "start_time": "2022-11-08T06:26:04.924Z"
   },
   {
    "duration": 27,
    "start_time": "2022-11-08T06:26:04.958Z"
   },
   {
    "duration": 4,
    "start_time": "2022-11-08T06:26:04.986Z"
   },
   {
    "duration": 14,
    "start_time": "2022-11-08T06:26:04.991Z"
   },
   {
    "duration": 42,
    "start_time": "2022-11-08T06:26:05.006Z"
   },
   {
    "duration": 67,
    "start_time": "2022-11-08T06:26:05.050Z"
   },
   {
    "duration": 3,
    "start_time": "2022-11-08T06:26:05.119Z"
   },
   {
    "duration": 448,
    "start_time": "2022-11-08T06:26:05.124Z"
   },
   {
    "duration": 2,
    "start_time": "2022-11-08T06:26:05.575Z"
   },
   {
    "duration": 423,
    "start_time": "2022-11-08T06:26:05.579Z"
   },
   {
    "duration": 3,
    "start_time": "2022-11-08T06:26:06.004Z"
   },
   {
    "duration": 3,
    "start_time": "2022-11-08T06:35:13.858Z"
   },
   {
    "duration": 4,
    "start_time": "2022-11-08T06:35:24.887Z"
   },
   {
    "duration": 4,
    "start_time": "2022-11-08T06:35:35.391Z"
   },
   {
    "duration": 3,
    "start_time": "2022-11-08T06:35:45.721Z"
   },
   {
    "duration": 3,
    "start_time": "2022-11-08T06:36:02.091Z"
   },
   {
    "duration": 4,
    "start_time": "2022-11-08T06:36:14.439Z"
   },
   {
    "duration": 4,
    "start_time": "2022-11-08T06:36:21.651Z"
   },
   {
    "duration": 4,
    "start_time": "2022-11-08T06:36:27.513Z"
   },
   {
    "duration": 7,
    "start_time": "2022-11-08T06:36:37.157Z"
   },
   {
    "duration": 7,
    "start_time": "2022-11-08T06:36:50.516Z"
   },
   {
    "duration": 3,
    "start_time": "2022-11-08T06:37:02.896Z"
   },
   {
    "duration": 3,
    "start_time": "2022-11-08T06:37:07.092Z"
   },
   {
    "duration": 24,
    "start_time": "2022-11-08T06:39:28.410Z"
   },
   {
    "duration": 543,
    "start_time": "2022-11-08T06:39:47.092Z"
   },
   {
    "duration": 160,
    "start_time": "2022-11-08T06:39:47.637Z"
   },
   {
    "duration": 15,
    "start_time": "2022-11-08T06:39:47.799Z"
   },
   {
    "duration": 35,
    "start_time": "2022-11-08T06:39:47.817Z"
   },
   {
    "duration": 430,
    "start_time": "2022-11-08T06:39:47.853Z"
   },
   {
    "duration": 7,
    "start_time": "2022-11-08T06:39:48.285Z"
   },
   {
    "duration": 35,
    "start_time": "2022-11-08T06:39:48.293Z"
   },
   {
    "duration": 29,
    "start_time": "2022-11-08T06:39:48.330Z"
   },
   {
    "duration": 56,
    "start_time": "2022-11-08T06:39:48.360Z"
   },
   {
    "duration": 60,
    "start_time": "2022-11-08T06:39:48.418Z"
   },
   {
    "duration": 70,
    "start_time": "2022-11-08T06:39:48.479Z"
   },
   {
    "duration": 173,
    "start_time": "2022-11-08T06:39:48.550Z"
   },
   {
    "duration": 137,
    "start_time": "2022-11-08T06:39:48.724Z"
   },
   {
    "duration": 3,
    "start_time": "2022-11-08T06:39:48.863Z"
   },
   {
    "duration": 10,
    "start_time": "2022-11-08T06:39:48.867Z"
   },
   {
    "duration": 12,
    "start_time": "2022-11-08T06:39:48.879Z"
   },
   {
    "duration": 6,
    "start_time": "2022-11-08T06:39:48.892Z"
   },
   {
    "duration": 17,
    "start_time": "2022-11-08T06:39:48.900Z"
   },
   {
    "duration": 281,
    "start_time": "2022-11-08T06:39:48.918Z"
   },
   {
    "duration": 30,
    "start_time": "2022-11-08T06:39:49.201Z"
   },
   {
    "duration": 41,
    "start_time": "2022-11-08T06:39:49.232Z"
   },
   {
    "duration": 4,
    "start_time": "2022-11-08T06:39:49.275Z"
   },
   {
    "duration": 39,
    "start_time": "2022-11-08T06:39:49.281Z"
   },
   {
    "duration": 38,
    "start_time": "2022-11-08T06:39:49.322Z"
   },
   {
    "duration": 66,
    "start_time": "2022-11-08T06:39:49.362Z"
   },
   {
    "duration": 4,
    "start_time": "2022-11-08T06:39:49.429Z"
   },
   {
    "duration": 419,
    "start_time": "2022-11-08T06:39:49.448Z"
   },
   {
    "duration": 3,
    "start_time": "2022-11-08T06:39:49.871Z"
   },
   {
    "duration": 427,
    "start_time": "2022-11-08T06:39:49.876Z"
   },
   {
    "duration": 9,
    "start_time": "2022-11-08T06:39:50.305Z"
   },
   {
    "duration": 3,
    "start_time": "2022-11-08T06:41:09.472Z"
   },
   {
    "duration": 4,
    "start_time": "2022-11-08T06:41:19.105Z"
   },
   {
    "duration": 4,
    "start_time": "2022-11-08T06:41:29.938Z"
   },
   {
    "duration": 23,
    "start_time": "2022-11-08T06:42:19.154Z"
   },
   {
    "duration": 388,
    "start_time": "2022-11-08T06:47:14.443Z"
   },
   {
    "duration": 374,
    "start_time": "2022-11-08T06:47:26.476Z"
   },
   {
    "duration": 410,
    "start_time": "2022-11-08T06:48:47.169Z"
   },
   {
    "duration": 374,
    "start_time": "2022-11-08T06:49:24.130Z"
   },
   {
    "duration": 643,
    "start_time": "2022-11-08T07:00:43.065Z"
   },
   {
    "duration": 154,
    "start_time": "2022-11-08T07:00:43.710Z"
   },
   {
    "duration": 13,
    "start_time": "2022-11-08T07:00:43.865Z"
   },
   {
    "duration": 23,
    "start_time": "2022-11-08T07:00:43.880Z"
   },
   {
    "duration": 423,
    "start_time": "2022-11-08T07:00:43.904Z"
   },
   {
    "duration": 6,
    "start_time": "2022-11-08T07:00:44.329Z"
   },
   {
    "duration": 42,
    "start_time": "2022-11-08T07:00:44.336Z"
   },
   {
    "duration": 13,
    "start_time": "2022-11-08T07:00:44.379Z"
   },
   {
    "duration": 68,
    "start_time": "2022-11-08T07:00:44.394Z"
   },
   {
    "duration": 51,
    "start_time": "2022-11-08T07:00:44.465Z"
   },
   {
    "duration": 73,
    "start_time": "2022-11-08T07:00:44.517Z"
   },
   {
    "duration": 171,
    "start_time": "2022-11-08T07:00:44.591Z"
   },
   {
    "duration": 137,
    "start_time": "2022-11-08T07:00:44.764Z"
   },
   {
    "duration": 3,
    "start_time": "2022-11-08T07:00:44.902Z"
   },
   {
    "duration": 9,
    "start_time": "2022-11-08T07:00:44.907Z"
   },
   {
    "duration": 32,
    "start_time": "2022-11-08T07:00:44.917Z"
   },
   {
    "duration": 5,
    "start_time": "2022-11-08T07:00:44.951Z"
   },
   {
    "duration": 7,
    "start_time": "2022-11-08T07:00:44.958Z"
   },
   {
    "duration": 296,
    "start_time": "2022-11-08T07:00:44.966Z"
   },
   {
    "duration": 32,
    "start_time": "2022-11-08T07:00:45.264Z"
   },
   {
    "duration": 50,
    "start_time": "2022-11-08T07:00:45.299Z"
   },
   {
    "duration": 5,
    "start_time": "2022-11-08T07:00:45.351Z"
   },
   {
    "duration": 21,
    "start_time": "2022-11-08T07:00:45.357Z"
   },
   {
    "duration": 49,
    "start_time": "2022-11-08T07:00:45.380Z"
   },
   {
    "duration": 443,
    "start_time": "2022-11-08T07:00:45.430Z"
   },
   {
    "duration": 2,
    "start_time": "2022-11-08T07:00:45.875Z"
   },
   {
    "duration": 380,
    "start_time": "2022-11-08T07:00:45.878Z"
   },
   {
    "duration": 2,
    "start_time": "2022-11-08T07:00:46.261Z"
   },
   {
    "duration": 581,
    "start_time": "2022-11-08T07:06:25.086Z"
   },
   {
    "duration": 154,
    "start_time": "2022-11-08T07:06:25.668Z"
   },
   {
    "duration": 13,
    "start_time": "2022-11-08T07:06:25.823Z"
   },
   {
    "duration": 28,
    "start_time": "2022-11-08T07:06:25.838Z"
   },
   {
    "duration": 403,
    "start_time": "2022-11-08T07:06:25.868Z"
   },
   {
    "duration": 7,
    "start_time": "2022-11-08T07:06:26.272Z"
   },
   {
    "duration": 37,
    "start_time": "2022-11-08T07:06:26.280Z"
   },
   {
    "duration": 33,
    "start_time": "2022-11-08T07:06:26.318Z"
   },
   {
    "duration": 52,
    "start_time": "2022-11-08T07:06:26.353Z"
   },
   {
    "duration": 64,
    "start_time": "2022-11-08T07:06:26.408Z"
   },
   {
    "duration": 64,
    "start_time": "2022-11-08T07:06:26.474Z"
   },
   {
    "duration": 180,
    "start_time": "2022-11-08T07:06:26.549Z"
   },
   {
    "duration": 140,
    "start_time": "2022-11-08T07:06:26.731Z"
   },
   {
    "duration": 3,
    "start_time": "2022-11-08T07:06:26.873Z"
   },
   {
    "duration": 9,
    "start_time": "2022-11-08T07:06:26.878Z"
   },
   {
    "duration": 11,
    "start_time": "2022-11-08T07:06:26.889Z"
   },
   {
    "duration": 5,
    "start_time": "2022-11-08T07:06:26.902Z"
   },
   {
    "duration": 43,
    "start_time": "2022-11-08T07:06:26.908Z"
   },
   {
    "duration": 259,
    "start_time": "2022-11-08T07:06:26.953Z"
   },
   {
    "duration": 26,
    "start_time": "2022-11-08T07:06:27.213Z"
   },
   {
    "duration": 27,
    "start_time": "2022-11-08T07:06:27.248Z"
   },
   {
    "duration": 4,
    "start_time": "2022-11-08T07:06:27.276Z"
   },
   {
    "duration": 15,
    "start_time": "2022-11-08T07:06:27.281Z"
   },
   {
    "duration": 27,
    "start_time": "2022-11-08T07:06:27.297Z"
   },
   {
    "duration": 461,
    "start_time": "2022-11-08T07:06:27.326Z"
   },
   {
    "duration": 3,
    "start_time": "2022-11-08T07:06:27.789Z"
   },
   {
    "duration": 392,
    "start_time": "2022-11-08T07:06:27.793Z"
   },
   {
    "duration": 2,
    "start_time": "2022-11-08T07:06:28.188Z"
   },
   {
    "duration": 43,
    "start_time": "2022-11-08T07:07:28.926Z"
   },
   {
    "duration": 9,
    "start_time": "2022-11-08T07:07:32.760Z"
   },
   {
    "duration": 27,
    "start_time": "2022-11-08T07:07:42.997Z"
   },
   {
    "duration": 22,
    "start_time": "2022-11-08T07:09:07.079Z"
   },
   {
    "duration": 27,
    "start_time": "2022-11-08T07:09:10.457Z"
   },
   {
    "duration": 27,
    "start_time": "2022-11-08T07:09:19.624Z"
   },
   {
    "duration": 77,
    "start_time": "2022-11-08T07:09:51.288Z"
   },
   {
    "duration": 29,
    "start_time": "2022-11-08T07:10:05.899Z"
   },
   {
    "duration": 25,
    "start_time": "2022-11-08T07:10:37.153Z"
   },
   {
    "duration": 69,
    "start_time": "2022-11-08T07:12:01.341Z"
   },
   {
    "duration": 53,
    "start_time": "2022-11-08T07:13:47.250Z"
   },
   {
    "duration": 47,
    "start_time": "2022-11-08T07:14:14.903Z"
   },
   {
    "duration": 47,
    "start_time": "2022-11-08T07:14:29.787Z"
   },
   {
    "duration": 23,
    "start_time": "2022-11-08T07:15:15.992Z"
   },
   {
    "duration": 47,
    "start_time": "2022-11-08T07:15:19.455Z"
   },
   {
    "duration": 24,
    "start_time": "2022-11-08T07:15:25.968Z"
   },
   {
    "duration": 28,
    "start_time": "2022-11-08T07:16:28.698Z"
   },
   {
    "duration": 25,
    "start_time": "2022-11-08T07:16:41.030Z"
   },
   {
    "duration": 3,
    "start_time": "2022-11-08T07:17:12.628Z"
   },
   {
    "duration": 4,
    "start_time": "2022-11-08T07:17:41.419Z"
   },
   {
    "duration": 4,
    "start_time": "2022-11-08T07:22:07.691Z"
   },
   {
    "duration": 25,
    "start_time": "2022-11-08T07:23:53.414Z"
   },
   {
    "duration": 53,
    "start_time": "2022-11-08T07:55:24.976Z"
   },
   {
    "duration": 29,
    "start_time": "2022-11-08T07:57:23.551Z"
   },
   {
    "duration": 697,
    "start_time": "2022-11-08T07:58:01.989Z"
   },
   {
    "duration": 830,
    "start_time": "2022-11-08T07:58:14.894Z"
   },
   {
    "duration": 29,
    "start_time": "2022-11-08T07:58:27.863Z"
   },
   {
    "duration": 30,
    "start_time": "2022-11-08T07:58:43.613Z"
   },
   {
    "duration": 30,
    "start_time": "2022-11-08T07:58:58.352Z"
   },
   {
    "duration": 40,
    "start_time": "2022-11-08T07:59:36.267Z"
   },
   {
    "duration": 26,
    "start_time": "2022-11-08T07:59:46.198Z"
   },
   {
    "duration": 26,
    "start_time": "2022-11-08T08:00:28.362Z"
   },
   {
    "duration": 25,
    "start_time": "2022-11-08T08:00:51.321Z"
   },
   {
    "duration": 30,
    "start_time": "2022-11-08T08:01:10.019Z"
   },
   {
    "duration": 26,
    "start_time": "2022-11-08T08:01:44.609Z"
   },
   {
    "duration": 9,
    "start_time": "2022-11-08T08:02:02.896Z"
   },
   {
    "duration": 38,
    "start_time": "2022-11-08T08:02:15.881Z"
   },
   {
    "duration": 580,
    "start_time": "2022-11-08T08:02:39.554Z"
   },
   {
    "duration": 159,
    "start_time": "2022-11-08T08:02:40.136Z"
   },
   {
    "duration": 13,
    "start_time": "2022-11-08T08:02:40.297Z"
   },
   {
    "duration": 21,
    "start_time": "2022-11-08T08:02:40.312Z"
   },
   {
    "duration": 401,
    "start_time": "2022-11-08T08:02:40.335Z"
   },
   {
    "duration": 11,
    "start_time": "2022-11-08T08:02:40.737Z"
   },
   {
    "duration": 31,
    "start_time": "2022-11-08T08:02:40.750Z"
   },
   {
    "duration": 13,
    "start_time": "2022-11-08T08:02:40.783Z"
   },
   {
    "duration": 76,
    "start_time": "2022-11-08T08:02:40.797Z"
   },
   {
    "duration": 48,
    "start_time": "2022-11-08T08:02:40.875Z"
   },
   {
    "duration": 72,
    "start_time": "2022-11-08T08:02:40.924Z"
   },
   {
    "duration": 181,
    "start_time": "2022-11-08T08:02:40.998Z"
   },
   {
    "duration": 152,
    "start_time": "2022-11-08T08:02:41.181Z"
   },
   {
    "duration": 13,
    "start_time": "2022-11-08T08:02:41.335Z"
   },
   {
    "duration": 16,
    "start_time": "2022-11-08T08:02:41.350Z"
   },
   {
    "duration": 21,
    "start_time": "2022-11-08T08:02:41.368Z"
   },
   {
    "duration": 6,
    "start_time": "2022-11-08T08:02:41.390Z"
   },
   {
    "duration": 13,
    "start_time": "2022-11-08T08:02:41.397Z"
   },
   {
    "duration": 280,
    "start_time": "2022-11-08T08:02:41.411Z"
   },
   {
    "duration": 25,
    "start_time": "2022-11-08T08:02:41.693Z"
   },
   {
    "duration": 36,
    "start_time": "2022-11-08T08:02:41.720Z"
   },
   {
    "duration": 3,
    "start_time": "2022-11-08T08:02:41.758Z"
   },
   {
    "duration": 18,
    "start_time": "2022-11-08T08:02:41.763Z"
   },
   {
    "duration": 23,
    "start_time": "2022-11-08T08:02:41.782Z"
   },
   {
    "duration": 442,
    "start_time": "2022-11-08T08:02:41.807Z"
   },
   {
    "duration": 27,
    "start_time": "2022-11-08T08:02:42.250Z"
   },
   {
    "duration": 8,
    "start_time": "2022-11-08T08:02:42.279Z"
   },
   {
    "duration": 68,
    "start_time": "2022-11-08T08:02:42.290Z"
   },
   {
    "duration": 3,
    "start_time": "2022-11-08T08:02:42.360Z"
   },
   {
    "duration": 390,
    "start_time": "2022-11-08T08:02:42.364Z"
   },
   {
    "duration": 2,
    "start_time": "2022-11-08T08:02:42.756Z"
   },
   {
    "duration": 35,
    "start_time": "2022-11-08T08:03:22.284Z"
   },
   {
    "duration": 605,
    "start_time": "2022-11-08T08:03:32.958Z"
   },
   {
    "duration": 149,
    "start_time": "2022-11-08T08:03:33.564Z"
   },
   {
    "duration": 14,
    "start_time": "2022-11-08T08:03:33.715Z"
   },
   {
    "duration": 28,
    "start_time": "2022-11-08T08:03:33.731Z"
   },
   {
    "duration": 393,
    "start_time": "2022-11-08T08:03:33.761Z"
   },
   {
    "duration": 6,
    "start_time": "2022-11-08T08:03:34.156Z"
   },
   {
    "duration": 31,
    "start_time": "2022-11-08T08:03:34.163Z"
   },
   {
    "duration": 14,
    "start_time": "2022-11-08T08:03:34.195Z"
   },
   {
    "duration": 73,
    "start_time": "2022-11-08T08:03:34.211Z"
   },
   {
    "duration": 61,
    "start_time": "2022-11-08T08:03:34.287Z"
   },
   {
    "duration": 59,
    "start_time": "2022-11-08T08:03:34.350Z"
   },
   {
    "duration": 180,
    "start_time": "2022-11-08T08:03:34.411Z"
   },
   {
    "duration": 156,
    "start_time": "2022-11-08T08:03:34.593Z"
   },
   {
    "duration": 4,
    "start_time": "2022-11-08T08:03:34.752Z"
   },
   {
    "duration": 11,
    "start_time": "2022-11-08T08:03:34.757Z"
   },
   {
    "duration": 15,
    "start_time": "2022-11-08T08:03:34.770Z"
   },
   {
    "duration": 6,
    "start_time": "2022-11-08T08:03:34.787Z"
   },
   {
    "duration": 8,
    "start_time": "2022-11-08T08:03:34.795Z"
   },
   {
    "duration": 283,
    "start_time": "2022-11-08T08:03:34.805Z"
   },
   {
    "duration": 26,
    "start_time": "2022-11-08T08:03:35.089Z"
   },
   {
    "duration": 39,
    "start_time": "2022-11-08T08:03:35.116Z"
   },
   {
    "duration": 3,
    "start_time": "2022-11-08T08:03:35.157Z"
   },
   {
    "duration": 14,
    "start_time": "2022-11-08T08:03:35.162Z"
   },
   {
    "duration": 28,
    "start_time": "2022-11-08T08:03:35.178Z"
   },
   {
    "duration": 502,
    "start_time": "2022-11-08T08:03:35.208Z"
   },
   {
    "duration": 25,
    "start_time": "2022-11-08T08:03:35.711Z"
   },
   {
    "duration": 18,
    "start_time": "2022-11-08T08:03:35.737Z"
   },
   {
    "duration": 58,
    "start_time": "2022-11-08T08:03:35.757Z"
   },
   {
    "duration": 3,
    "start_time": "2022-11-08T08:03:35.816Z"
   },
   {
    "duration": 411,
    "start_time": "2022-11-08T08:03:35.821Z"
   },
   {
    "duration": 2,
    "start_time": "2022-11-08T08:03:36.234Z"
   },
   {
    "duration": 7,
    "start_time": "2022-11-08T08:04:57.507Z"
   },
   {
    "duration": 560,
    "start_time": "2022-11-08T08:05:04.082Z"
   },
   {
    "duration": 151,
    "start_time": "2022-11-08T08:05:04.643Z"
   },
   {
    "duration": 14,
    "start_time": "2022-11-08T08:05:04.796Z"
   },
   {
    "duration": 20,
    "start_time": "2022-11-08T08:05:04.811Z"
   },
   {
    "duration": 443,
    "start_time": "2022-11-08T08:05:04.832Z"
   },
   {
    "duration": 7,
    "start_time": "2022-11-08T08:05:05.277Z"
   },
   {
    "duration": 58,
    "start_time": "2022-11-08T08:05:05.286Z"
   },
   {
    "duration": 20,
    "start_time": "2022-11-08T08:05:05.347Z"
   },
   {
    "duration": 76,
    "start_time": "2022-11-08T08:05:05.369Z"
   },
   {
    "duration": 49,
    "start_time": "2022-11-08T08:05:05.447Z"
   },
   {
    "duration": 81,
    "start_time": "2022-11-08T08:05:05.497Z"
   },
   {
    "duration": 177,
    "start_time": "2022-11-08T08:05:05.579Z"
   },
   {
    "duration": 134,
    "start_time": "2022-11-08T08:05:05.758Z"
   },
   {
    "duration": 4,
    "start_time": "2022-11-08T08:05:05.894Z"
   },
   {
    "duration": 23,
    "start_time": "2022-11-08T08:05:05.899Z"
   },
   {
    "duration": 23,
    "start_time": "2022-11-08T08:05:05.923Z"
   },
   {
    "duration": 16,
    "start_time": "2022-11-08T08:05:05.948Z"
   },
   {
    "duration": 5,
    "start_time": "2022-11-08T08:05:05.966Z"
   },
   {
    "duration": 263,
    "start_time": "2022-11-08T08:05:05.973Z"
   },
   {
    "duration": 32,
    "start_time": "2022-11-08T08:05:06.238Z"
   },
   {
    "duration": 25,
    "start_time": "2022-11-08T08:05:06.272Z"
   },
   {
    "duration": 5,
    "start_time": "2022-11-08T08:05:06.299Z"
   },
   {
    "duration": 25,
    "start_time": "2022-11-08T08:05:06.306Z"
   },
   {
    "duration": 33,
    "start_time": "2022-11-08T08:05:06.333Z"
   },
   {
    "duration": 473,
    "start_time": "2022-11-08T08:05:06.368Z"
   },
   {
    "duration": 25,
    "start_time": "2022-11-08T08:05:06.848Z"
   },
   {
    "duration": 8,
    "start_time": "2022-11-08T08:05:06.875Z"
   },
   {
    "duration": 69,
    "start_time": "2022-11-08T08:05:06.886Z"
   },
   {
    "duration": 2,
    "start_time": "2022-11-08T08:05:06.957Z"
   },
   {
    "duration": 401,
    "start_time": "2022-11-08T08:05:06.961Z"
   },
   {
    "duration": 2,
    "start_time": "2022-11-08T08:05:07.364Z"
   },
   {
    "duration": 599,
    "start_time": "2022-11-08T08:06:23.110Z"
   },
   {
    "duration": 146,
    "start_time": "2022-11-08T08:06:23.711Z"
   },
   {
    "duration": 14,
    "start_time": "2022-11-08T08:06:23.858Z"
   },
   {
    "duration": 18,
    "start_time": "2022-11-08T08:06:23.874Z"
   },
   {
    "duration": 415,
    "start_time": "2022-11-08T08:06:23.893Z"
   },
   {
    "duration": 7,
    "start_time": "2022-11-08T08:06:24.310Z"
   },
   {
    "duration": 48,
    "start_time": "2022-11-08T08:06:24.319Z"
   },
   {
    "duration": 20,
    "start_time": "2022-11-08T08:06:24.368Z"
   },
   {
    "duration": 78,
    "start_time": "2022-11-08T08:06:24.390Z"
   },
   {
    "duration": 49,
    "start_time": "2022-11-08T08:06:24.470Z"
   },
   {
    "duration": 69,
    "start_time": "2022-11-08T08:06:24.520Z"
   },
   {
    "duration": 176,
    "start_time": "2022-11-08T08:06:24.591Z"
   },
   {
    "duration": 133,
    "start_time": "2022-11-08T08:06:24.768Z"
   },
   {
    "duration": 3,
    "start_time": "2022-11-08T08:06:24.902Z"
   },
   {
    "duration": 11,
    "start_time": "2022-11-08T08:06:24.906Z"
   },
   {
    "duration": 18,
    "start_time": "2022-11-08T08:06:24.919Z"
   },
   {
    "duration": 5,
    "start_time": "2022-11-08T08:06:24.948Z"
   },
   {
    "duration": 7,
    "start_time": "2022-11-08T08:06:24.955Z"
   },
   {
    "duration": 278,
    "start_time": "2022-11-08T08:06:24.964Z"
   },
   {
    "duration": 34,
    "start_time": "2022-11-08T08:06:25.243Z"
   },
   {
    "duration": 32,
    "start_time": "2022-11-08T08:06:25.280Z"
   },
   {
    "duration": 5,
    "start_time": "2022-11-08T08:06:25.314Z"
   },
   {
    "duration": 53,
    "start_time": "2022-11-08T08:06:25.321Z"
   },
   {
    "duration": 26,
    "start_time": "2022-11-08T08:06:25.376Z"
   },
   {
    "duration": 440,
    "start_time": "2022-11-08T08:06:25.404Z"
   },
   {
    "duration": 24,
    "start_time": "2022-11-08T08:06:25.846Z"
   },
   {
    "duration": 7,
    "start_time": "2022-11-08T08:06:25.872Z"
   },
   {
    "duration": 71,
    "start_time": "2022-11-08T08:06:25.882Z"
   },
   {
    "duration": 3,
    "start_time": "2022-11-08T08:06:25.954Z"
   },
   {
    "duration": 378,
    "start_time": "2022-11-08T08:06:25.958Z"
   },
   {
    "duration": 11,
    "start_time": "2022-11-08T08:06:26.337Z"
   },
   {
    "duration": 596,
    "start_time": "2022-11-08T08:22:32.888Z"
   },
   {
    "duration": 148,
    "start_time": "2022-11-08T08:22:33.485Z"
   },
   {
    "duration": 15,
    "start_time": "2022-11-08T08:22:33.634Z"
   },
   {
    "duration": 19,
    "start_time": "2022-11-08T08:22:33.651Z"
   },
   {
    "duration": 404,
    "start_time": "2022-11-08T08:22:33.672Z"
   },
   {
    "duration": 6,
    "start_time": "2022-11-08T08:22:34.078Z"
   },
   {
    "duration": 33,
    "start_time": "2022-11-08T08:22:34.085Z"
   },
   {
    "duration": 28,
    "start_time": "2022-11-08T08:22:34.120Z"
   },
   {
    "duration": 49,
    "start_time": "2022-11-08T08:22:34.150Z"
   },
   {
    "duration": 62,
    "start_time": "2022-11-08T08:22:34.201Z"
   },
   {
    "duration": 56,
    "start_time": "2022-11-08T08:22:34.264Z"
   },
   {
    "duration": 176,
    "start_time": "2022-11-08T08:22:34.321Z"
   },
   {
    "duration": 131,
    "start_time": "2022-11-08T08:22:34.499Z"
   },
   {
    "duration": 3,
    "start_time": "2022-11-08T08:22:34.631Z"
   },
   {
    "duration": 6,
    "start_time": "2022-11-08T08:22:34.648Z"
   },
   {
    "duration": 15,
    "start_time": "2022-11-08T08:22:34.656Z"
   },
   {
    "duration": 4,
    "start_time": "2022-11-08T08:22:34.672Z"
   },
   {
    "duration": 5,
    "start_time": "2022-11-08T08:22:34.678Z"
   },
   {
    "duration": 272,
    "start_time": "2022-11-08T08:22:34.685Z"
   },
   {
    "duration": 29,
    "start_time": "2022-11-08T08:22:34.958Z"
   },
   {
    "duration": 25,
    "start_time": "2022-11-08T08:22:34.988Z"
   },
   {
    "duration": 3,
    "start_time": "2022-11-08T08:22:35.015Z"
   },
   {
    "duration": 31,
    "start_time": "2022-11-08T08:22:35.020Z"
   },
   {
    "duration": 22,
    "start_time": "2022-11-08T08:22:35.052Z"
   },
   {
    "duration": 531,
    "start_time": "2022-11-08T08:22:35.075Z"
   },
   {
    "duration": 26,
    "start_time": "2022-11-08T08:22:35.609Z"
   },
   {
    "duration": 9,
    "start_time": "2022-11-08T08:22:35.648Z"
   },
   {
    "duration": 53,
    "start_time": "2022-11-08T08:22:35.661Z"
   },
   {
    "duration": 5,
    "start_time": "2022-11-08T08:22:35.716Z"
   },
   {
    "duration": 401,
    "start_time": "2022-11-08T08:22:35.722Z"
   },
   {
    "duration": 3,
    "start_time": "2022-11-08T08:22:36.125Z"
   },
   {
    "duration": 603,
    "start_time": "2022-11-08T08:29:31.730Z"
   },
   {
    "duration": 145,
    "start_time": "2022-11-08T08:29:32.335Z"
   },
   {
    "duration": 15,
    "start_time": "2022-11-08T08:29:32.482Z"
   },
   {
    "duration": 18,
    "start_time": "2022-11-08T08:29:32.499Z"
   },
   {
    "duration": 412,
    "start_time": "2022-11-08T08:29:32.519Z"
   },
   {
    "duration": 7,
    "start_time": "2022-11-08T08:29:32.932Z"
   },
   {
    "duration": 33,
    "start_time": "2022-11-08T08:29:32.948Z"
   },
   {
    "duration": 16,
    "start_time": "2022-11-08T08:29:32.982Z"
   },
   {
    "duration": 70,
    "start_time": "2022-11-08T08:29:33.000Z"
   },
   {
    "duration": 50,
    "start_time": "2022-11-08T08:29:33.072Z"
   },
   {
    "duration": 70,
    "start_time": "2022-11-08T08:29:33.124Z"
   },
   {
    "duration": 176,
    "start_time": "2022-11-08T08:29:33.196Z"
   },
   {
    "duration": 134,
    "start_time": "2022-11-08T08:29:33.374Z"
   },
   {
    "duration": 3,
    "start_time": "2022-11-08T08:29:33.510Z"
   },
   {
    "duration": 9,
    "start_time": "2022-11-08T08:29:33.515Z"
   },
   {
    "duration": 28,
    "start_time": "2022-11-08T08:29:33.526Z"
   },
   {
    "duration": 5,
    "start_time": "2022-11-08T08:29:33.556Z"
   },
   {
    "duration": 7,
    "start_time": "2022-11-08T08:29:33.563Z"
   },
   {
    "duration": 256,
    "start_time": "2022-11-08T08:29:33.572Z"
   },
   {
    "duration": 31,
    "start_time": "2022-11-08T08:29:33.830Z"
   },
   {
    "duration": 26,
    "start_time": "2022-11-08T08:29:33.862Z"
   },
   {
    "duration": 4,
    "start_time": "2022-11-08T08:29:33.890Z"
   },
   {
    "duration": 12,
    "start_time": "2022-11-08T08:29:33.896Z"
   },
   {
    "duration": 50,
    "start_time": "2022-11-08T08:29:33.910Z"
   },
   {
    "duration": 457,
    "start_time": "2022-11-08T08:29:33.962Z"
   },
   {
    "duration": 37,
    "start_time": "2022-11-08T08:29:34.421Z"
   },
   {
    "duration": 8,
    "start_time": "2022-11-08T08:29:34.459Z"
   },
   {
    "duration": 52,
    "start_time": "2022-11-08T08:29:34.470Z"
   },
   {
    "duration": 2,
    "start_time": "2022-11-08T08:29:34.524Z"
   },
   {
    "duration": 386,
    "start_time": "2022-11-08T08:29:34.527Z"
   },
   {
    "duration": 3,
    "start_time": "2022-11-08T08:29:34.914Z"
   },
   {
    "duration": 26,
    "start_time": "2022-11-08T08:35:07.912Z"
   },
   {
    "duration": 574,
    "start_time": "2022-11-08T08:35:21.670Z"
   },
   {
    "duration": 158,
    "start_time": "2022-11-08T08:35:22.246Z"
   },
   {
    "duration": 16,
    "start_time": "2022-11-08T08:35:22.405Z"
   },
   {
    "duration": 26,
    "start_time": "2022-11-08T08:35:22.423Z"
   },
   {
    "duration": 448,
    "start_time": "2022-11-08T08:35:22.450Z"
   },
   {
    "duration": 6,
    "start_time": "2022-11-08T08:35:22.900Z"
   },
   {
    "duration": 46,
    "start_time": "2022-11-08T08:35:22.908Z"
   },
   {
    "duration": 14,
    "start_time": "2022-11-08T08:35:22.956Z"
   },
   {
    "duration": 57,
    "start_time": "2022-11-08T08:35:22.972Z"
   },
   {
    "duration": 64,
    "start_time": "2022-11-08T08:35:23.031Z"
   },
   {
    "duration": 74,
    "start_time": "2022-11-08T08:35:23.096Z"
   },
   {
    "duration": 182,
    "start_time": "2022-11-08T08:35:23.171Z"
   },
   {
    "duration": 133,
    "start_time": "2022-11-08T08:35:23.354Z"
   },
   {
    "duration": 3,
    "start_time": "2022-11-08T08:35:23.488Z"
   },
   {
    "duration": 10,
    "start_time": "2022-11-08T08:35:23.493Z"
   },
   {
    "duration": 11,
    "start_time": "2022-11-08T08:35:23.505Z"
   },
   {
    "duration": 30,
    "start_time": "2022-11-08T08:35:23.518Z"
   },
   {
    "duration": 5,
    "start_time": "2022-11-08T08:35:23.550Z"
   },
   {
    "duration": 275,
    "start_time": "2022-11-08T08:35:23.556Z"
   },
   {
    "duration": 36,
    "start_time": "2022-11-08T08:35:23.833Z"
   },
   {
    "duration": 26,
    "start_time": "2022-11-08T08:35:23.871Z"
   },
   {
    "duration": 5,
    "start_time": "2022-11-08T08:35:23.898Z"
   },
   {
    "duration": 11,
    "start_time": "2022-11-08T08:35:23.904Z"
   },
   {
    "duration": 45,
    "start_time": "2022-11-08T08:35:23.916Z"
   },
   {
    "duration": 454,
    "start_time": "2022-11-08T08:35:23.962Z"
   },
   {
    "duration": 37,
    "start_time": "2022-11-08T08:35:24.418Z"
   },
   {
    "duration": 8,
    "start_time": "2022-11-08T08:35:24.457Z"
   },
   {
    "duration": 63,
    "start_time": "2022-11-08T08:35:24.467Z"
   },
   {
    "duration": 3,
    "start_time": "2022-11-08T08:35:24.532Z"
   },
   {
    "duration": 394,
    "start_time": "2022-11-08T08:35:24.548Z"
   },
   {
    "duration": 2,
    "start_time": "2022-11-08T08:35:24.944Z"
   },
   {
    "duration": 726,
    "start_time": "2022-11-08T10:24:29.961Z"
   },
   {
    "duration": 627,
    "start_time": "2022-11-08T10:24:30.689Z"
   },
   {
    "duration": 15,
    "start_time": "2022-11-08T10:24:31.318Z"
   },
   {
    "duration": 19,
    "start_time": "2022-11-08T10:24:31.334Z"
   },
   {
    "duration": 437,
    "start_time": "2022-11-08T10:24:31.355Z"
   },
   {
    "duration": 6,
    "start_time": "2022-11-08T10:24:31.793Z"
   },
   {
    "duration": 42,
    "start_time": "2022-11-08T10:24:31.801Z"
   },
   {
    "duration": 15,
    "start_time": "2022-11-08T10:24:31.845Z"
   },
   {
    "duration": 72,
    "start_time": "2022-11-08T10:24:31.861Z"
   },
   {
    "duration": 51,
    "start_time": "2022-11-08T10:24:31.935Z"
   },
   {
    "duration": 79,
    "start_time": "2022-11-08T10:24:31.988Z"
   },
   {
    "duration": 161,
    "start_time": "2022-11-08T10:24:32.068Z"
   },
   {
    "duration": 133,
    "start_time": "2022-11-08T10:24:32.231Z"
   },
   {
    "duration": 4,
    "start_time": "2022-11-08T10:24:32.365Z"
   },
   {
    "duration": 10,
    "start_time": "2022-11-08T10:24:32.371Z"
   },
   {
    "duration": 13,
    "start_time": "2022-11-08T10:24:32.382Z"
   },
   {
    "duration": 32,
    "start_time": "2022-11-08T10:24:32.397Z"
   },
   {
    "duration": 6,
    "start_time": "2022-11-08T10:24:32.431Z"
   },
   {
    "duration": 289,
    "start_time": "2022-11-08T10:24:32.439Z"
   },
   {
    "duration": 27,
    "start_time": "2022-11-08T10:24:32.730Z"
   },
   {
    "duration": 28,
    "start_time": "2022-11-08T10:24:32.758Z"
   },
   {
    "duration": 5,
    "start_time": "2022-11-08T10:24:32.788Z"
   },
   {
    "duration": 33,
    "start_time": "2022-11-08T10:24:32.794Z"
   },
   {
    "duration": 22,
    "start_time": "2022-11-08T10:24:32.828Z"
   },
   {
    "duration": 484,
    "start_time": "2022-11-08T10:24:32.851Z"
   },
   {
    "duration": 28,
    "start_time": "2022-11-08T10:24:33.336Z"
   },
   {
    "duration": 10,
    "start_time": "2022-11-08T10:24:33.365Z"
   },
   {
    "duration": 77,
    "start_time": "2022-11-08T10:24:33.378Z"
   },
   {
    "duration": 2,
    "start_time": "2022-11-08T10:24:33.457Z"
   },
   {
    "duration": 405,
    "start_time": "2022-11-08T10:24:33.461Z"
   },
   {
    "duration": 3,
    "start_time": "2022-11-08T10:24:33.868Z"
   },
   {
    "duration": 45,
    "start_time": "2022-11-08T10:27:39.624Z"
   },
   {
    "duration": 603,
    "start_time": "2022-11-08T10:28:39.832Z"
   },
   {
    "duration": 135,
    "start_time": "2022-11-08T10:28:40.437Z"
   },
   {
    "duration": 14,
    "start_time": "2022-11-08T10:28:40.573Z"
   },
   {
    "duration": 22,
    "start_time": "2022-11-08T10:28:40.589Z"
   },
   {
    "duration": 421,
    "start_time": "2022-11-08T10:28:40.612Z"
   },
   {
    "duration": 7,
    "start_time": "2022-11-08T10:28:41.035Z"
   },
   {
    "duration": 36,
    "start_time": "2022-11-08T10:28:41.044Z"
   },
   {
    "duration": 12,
    "start_time": "2022-11-08T10:28:41.082Z"
   },
   {
    "duration": 74,
    "start_time": "2022-11-08T10:28:41.096Z"
   },
   {
    "duration": 62,
    "start_time": "2022-11-08T10:28:41.172Z"
   },
   {
    "duration": 57,
    "start_time": "2022-11-08T10:28:41.236Z"
   },
   {
    "duration": 171,
    "start_time": "2022-11-08T10:28:41.294Z"
   },
   {
    "duration": 133,
    "start_time": "2022-11-08T10:28:41.466Z"
   },
   {
    "duration": 3,
    "start_time": "2022-11-08T10:28:41.601Z"
   },
   {
    "duration": 20,
    "start_time": "2022-11-08T10:28:41.606Z"
   },
   {
    "duration": 13,
    "start_time": "2022-11-08T10:28:41.628Z"
   },
   {
    "duration": 5,
    "start_time": "2022-11-08T10:28:41.643Z"
   },
   {
    "duration": 7,
    "start_time": "2022-11-08T10:28:41.650Z"
   },
   {
    "duration": 275,
    "start_time": "2022-11-08T10:28:41.659Z"
   },
   {
    "duration": 25,
    "start_time": "2022-11-08T10:28:41.935Z"
   },
   {
    "duration": 26,
    "start_time": "2022-11-08T10:28:41.961Z"
   },
   {
    "duration": 4,
    "start_time": "2022-11-08T10:28:41.989Z"
   },
   {
    "duration": 12,
    "start_time": "2022-11-08T10:28:41.994Z"
   },
   {
    "duration": 22,
    "start_time": "2022-11-08T10:28:42.026Z"
   },
   {
    "duration": 450,
    "start_time": "2022-11-08T10:28:42.050Z"
   },
   {
    "duration": 34,
    "start_time": "2022-11-08T10:28:42.502Z"
   },
   {
    "duration": 10,
    "start_time": "2022-11-08T10:28:42.537Z"
   },
   {
    "duration": 52,
    "start_time": "2022-11-08T10:28:42.549Z"
   },
   {
    "duration": 2,
    "start_time": "2022-11-08T10:28:42.602Z"
   },
   {
    "duration": 394,
    "start_time": "2022-11-08T10:28:42.605Z"
   },
   {
    "duration": 2,
    "start_time": "2022-11-08T10:28:43.001Z"
   },
   {
    "duration": 56,
    "start_time": "2022-11-08T10:36:37.953Z"
   },
   {
    "duration": 50,
    "start_time": "2022-11-08T10:39:42.574Z"
   },
   {
    "duration": 83,
    "start_time": "2022-11-08T10:51:52.700Z"
   },
   {
    "duration": 60,
    "start_time": "2022-11-08T10:52:05.481Z"
   },
   {
    "duration": 22,
    "start_time": "2022-11-08T10:52:08.620Z"
   },
   {
    "duration": 612,
    "start_time": "2022-11-08T10:52:14.302Z"
   },
   {
    "duration": 134,
    "start_time": "2022-11-08T10:52:14.916Z"
   },
   {
    "duration": 14,
    "start_time": "2022-11-08T10:52:15.051Z"
   },
   {
    "duration": 17,
    "start_time": "2022-11-08T10:52:15.066Z"
   },
   {
    "duration": 423,
    "start_time": "2022-11-08T10:52:15.084Z"
   },
   {
    "duration": 7,
    "start_time": "2022-11-08T10:52:15.508Z"
   },
   {
    "duration": 45,
    "start_time": "2022-11-08T10:52:15.517Z"
   },
   {
    "duration": 15,
    "start_time": "2022-11-08T10:52:15.563Z"
   },
   {
    "duration": 92,
    "start_time": "2022-11-08T10:52:15.580Z"
   },
   {
    "duration": 74,
    "start_time": "2022-11-08T10:52:15.675Z"
   },
   {
    "duration": 60,
    "start_time": "2022-11-08T10:52:15.750Z"
   },
   {
    "duration": 147,
    "start_time": "2022-11-08T10:52:15.812Z"
   },
   {
    "duration": 136,
    "start_time": "2022-11-08T10:52:15.961Z"
   },
   {
    "duration": 4,
    "start_time": "2022-11-08T10:52:16.098Z"
   },
   {
    "duration": 9,
    "start_time": "2022-11-08T10:52:16.103Z"
   },
   {
    "duration": 23,
    "start_time": "2022-11-08T10:52:16.113Z"
   },
   {
    "duration": 5,
    "start_time": "2022-11-08T10:52:16.137Z"
   },
   {
    "duration": 4,
    "start_time": "2022-11-08T10:52:16.143Z"
   },
   {
    "duration": 265,
    "start_time": "2022-11-08T10:52:16.149Z"
   },
   {
    "duration": 31,
    "start_time": "2022-11-08T10:52:16.416Z"
   },
   {
    "duration": 27,
    "start_time": "2022-11-08T10:52:16.449Z"
   },
   {
    "duration": 5,
    "start_time": "2022-11-08T10:52:16.478Z"
   },
   {
    "duration": 10,
    "start_time": "2022-11-08T10:52:16.484Z"
   },
   {
    "duration": 52,
    "start_time": "2022-11-08T10:52:16.496Z"
   },
   {
    "duration": 467,
    "start_time": "2022-11-08T10:52:16.550Z"
   },
   {
    "duration": 23,
    "start_time": "2022-11-08T10:52:17.025Z"
   },
   {
    "duration": 49,
    "start_time": "2022-11-08T10:52:17.050Z"
   },
   {
    "duration": 25,
    "start_time": "2022-11-08T10:52:17.102Z"
   },
   {
    "duration": 5,
    "start_time": "2022-11-08T10:52:17.129Z"
   },
   {
    "duration": 384,
    "start_time": "2022-11-08T10:52:17.135Z"
   },
   {
    "duration": 5,
    "start_time": "2022-11-08T10:52:17.521Z"
   },
   {
    "duration": 29,
    "start_time": "2022-11-08T10:52:17.527Z"
   },
   {
    "duration": 50,
    "start_time": "2022-11-08T10:52:17.558Z"
   },
   {
    "duration": 25,
    "start_time": "2022-11-08T10:54:40.817Z"
   },
   {
    "duration": 51,
    "start_time": "2022-11-08T10:55:36.335Z"
   },
   {
    "duration": 593,
    "start_time": "2022-11-08T10:58:25.994Z"
   },
   {
    "duration": 133,
    "start_time": "2022-11-08T10:58:26.589Z"
   },
   {
    "duration": 13,
    "start_time": "2022-11-08T10:58:26.725Z"
   },
   {
    "duration": 23,
    "start_time": "2022-11-08T10:58:26.740Z"
   },
   {
    "duration": 414,
    "start_time": "2022-11-08T10:58:26.765Z"
   },
   {
    "duration": 6,
    "start_time": "2022-11-08T10:58:27.180Z"
   },
   {
    "duration": 39,
    "start_time": "2022-11-08T10:58:27.188Z"
   },
   {
    "duration": 11,
    "start_time": "2022-11-08T10:58:27.229Z"
   },
   {
    "duration": 53,
    "start_time": "2022-11-08T10:58:27.241Z"
   },
   {
    "duration": 67,
    "start_time": "2022-11-08T10:58:27.296Z"
   },
   {
    "duration": 73,
    "start_time": "2022-11-08T10:58:27.365Z"
   },
   {
    "duration": 144,
    "start_time": "2022-11-08T10:58:27.440Z"
   },
   {
    "duration": 131,
    "start_time": "2022-11-08T10:58:27.586Z"
   },
   {
    "duration": 9,
    "start_time": "2022-11-08T10:58:27.718Z"
   },
   {
    "duration": 9,
    "start_time": "2022-11-08T10:58:27.728Z"
   },
   {
    "duration": 11,
    "start_time": "2022-11-08T10:58:27.738Z"
   },
   {
    "duration": 5,
    "start_time": "2022-11-08T10:58:27.750Z"
   },
   {
    "duration": 6,
    "start_time": "2022-11-08T10:58:27.756Z"
   },
   {
    "duration": 271,
    "start_time": "2022-11-08T10:58:27.763Z"
   },
   {
    "duration": 26,
    "start_time": "2022-11-08T10:58:28.035Z"
   },
   {
    "duration": 27,
    "start_time": "2022-11-08T10:58:28.062Z"
   },
   {
    "duration": 5,
    "start_time": "2022-11-08T10:58:28.090Z"
   },
   {
    "duration": 30,
    "start_time": "2022-11-08T10:58:28.096Z"
   },
   {
    "duration": 24,
    "start_time": "2022-11-08T10:58:28.127Z"
   },
   {
    "duration": 447,
    "start_time": "2022-11-08T10:58:28.153Z"
   },
   {
    "duration": 29,
    "start_time": "2022-11-08T10:58:28.601Z"
   },
   {
    "duration": 48,
    "start_time": "2022-11-08T10:58:28.632Z"
   },
   {
    "duration": 8,
    "start_time": "2022-11-08T10:58:28.683Z"
   },
   {
    "duration": 5,
    "start_time": "2022-11-08T10:58:28.692Z"
   },
   {
    "duration": 394,
    "start_time": "2022-11-08T10:58:28.698Z"
   },
   {
    "duration": 2,
    "start_time": "2022-11-08T10:58:29.094Z"
   },
   {
    "duration": 45,
    "start_time": "2022-11-08T10:58:29.098Z"
   },
   {
    "duration": 50,
    "start_time": "2022-11-08T10:58:29.145Z"
   },
   {
    "duration": 555,
    "start_time": "2022-11-08T10:59:08.369Z"
   },
   {
    "duration": 137,
    "start_time": "2022-11-08T10:59:08.926Z"
   },
   {
    "duration": 13,
    "start_time": "2022-11-08T10:59:09.065Z"
   },
   {
    "duration": 16,
    "start_time": "2022-11-08T10:59:09.080Z"
   },
   {
    "duration": 426,
    "start_time": "2022-11-08T10:59:09.098Z"
   },
   {
    "duration": 7,
    "start_time": "2022-11-08T10:59:09.525Z"
   },
   {
    "duration": 32,
    "start_time": "2022-11-08T10:59:09.534Z"
   },
   {
    "duration": 11,
    "start_time": "2022-11-08T10:59:09.567Z"
   },
   {
    "duration": 83,
    "start_time": "2022-11-08T10:59:09.579Z"
   },
   {
    "duration": 50,
    "start_time": "2022-11-08T10:59:09.664Z"
   },
   {
    "duration": 60,
    "start_time": "2022-11-08T10:59:09.726Z"
   },
   {
    "duration": 185,
    "start_time": "2022-11-08T10:59:09.788Z"
   },
   {
    "duration": 132,
    "start_time": "2022-11-08T10:59:09.974Z"
   },
   {
    "duration": 3,
    "start_time": "2022-11-08T10:59:10.108Z"
   },
   {
    "duration": 7,
    "start_time": "2022-11-08T10:59:10.126Z"
   },
   {
    "duration": 15,
    "start_time": "2022-11-08T10:59:10.135Z"
   },
   {
    "duration": 10,
    "start_time": "2022-11-08T10:59:10.151Z"
   },
   {
    "duration": 5,
    "start_time": "2022-11-08T10:59:10.164Z"
   },
   {
    "duration": 288,
    "start_time": "2022-11-08T10:59:10.171Z"
   },
   {
    "duration": 26,
    "start_time": "2022-11-08T10:59:10.461Z"
   },
   {
    "duration": 42,
    "start_time": "2022-11-08T10:59:10.489Z"
   },
   {
    "duration": 4,
    "start_time": "2022-11-08T10:59:10.532Z"
   },
   {
    "duration": 14,
    "start_time": "2022-11-08T10:59:10.538Z"
   },
   {
    "duration": 25,
    "start_time": "2022-11-08T10:59:10.553Z"
   },
   {
    "duration": 460,
    "start_time": "2022-11-08T10:59:10.580Z"
   },
   {
    "duration": 22,
    "start_time": "2022-11-08T10:59:11.042Z"
   },
   {
    "duration": 61,
    "start_time": "2022-11-08T10:59:11.066Z"
   },
   {
    "duration": 8,
    "start_time": "2022-11-08T10:59:11.130Z"
   },
   {
    "duration": 6,
    "start_time": "2022-11-08T10:59:11.139Z"
   },
   {
    "duration": 5,
    "start_time": "2022-11-08T10:59:11.146Z"
   },
   {
    "duration": 8,
    "start_time": "2022-11-08T10:59:11.152Z"
   },
   {
    "duration": 5,
    "start_time": "2022-11-08T10:59:11.161Z"
   },
   {
    "duration": 5,
    "start_time": "2022-11-08T10:59:11.168Z"
   },
   {
    "duration": 52,
    "start_time": "2022-11-08T11:09:08.130Z"
   },
   {
    "duration": 63,
    "start_time": "2022-11-08T11:19:54.385Z"
   },
   {
    "duration": 1404,
    "start_time": "2022-11-08T11:20:26.389Z"
   },
   {
    "duration": 13,
    "start_time": "2022-11-08T11:21:01.307Z"
   },
   {
    "duration": 7,
    "start_time": "2022-11-08T11:21:20.212Z"
   },
   {
    "duration": 165,
    "start_time": "2022-11-08T11:21:27.036Z"
   },
   {
    "duration": 52,
    "start_time": "2022-11-08T11:22:36.628Z"
   },
   {
    "duration": 611,
    "start_time": "2022-11-08T11:22:51.395Z"
   },
   {
    "duration": 142,
    "start_time": "2022-11-08T11:22:52.008Z"
   },
   {
    "duration": 14,
    "start_time": "2022-11-08T11:22:52.152Z"
   },
   {
    "duration": 18,
    "start_time": "2022-11-08T11:22:52.167Z"
   },
   {
    "duration": 420,
    "start_time": "2022-11-08T11:22:52.186Z"
   },
   {
    "duration": 18,
    "start_time": "2022-11-08T11:22:52.608Z"
   },
   {
    "duration": 33,
    "start_time": "2022-11-08T11:22:52.627Z"
   },
   {
    "duration": 13,
    "start_time": "2022-11-08T11:22:52.662Z"
   },
   {
    "duration": 73,
    "start_time": "2022-11-08T11:22:52.677Z"
   },
   {
    "duration": 49,
    "start_time": "2022-11-08T11:22:52.753Z"
   },
   {
    "duration": 75,
    "start_time": "2022-11-08T11:22:52.804Z"
   },
   {
    "duration": 171,
    "start_time": "2022-11-08T11:22:52.880Z"
   },
   {
    "duration": 138,
    "start_time": "2022-11-08T11:22:53.053Z"
   },
   {
    "duration": 4,
    "start_time": "2022-11-08T11:22:53.193Z"
   },
   {
    "duration": 27,
    "start_time": "2022-11-08T11:22:53.199Z"
   },
   {
    "duration": 14,
    "start_time": "2022-11-08T11:22:53.228Z"
   },
   {
    "duration": 7,
    "start_time": "2022-11-08T11:22:53.243Z"
   },
   {
    "duration": 5,
    "start_time": "2022-11-08T11:22:53.252Z"
   },
   {
    "duration": 290,
    "start_time": "2022-11-08T11:22:53.258Z"
   },
   {
    "duration": 25,
    "start_time": "2022-11-08T11:22:53.550Z"
   },
   {
    "duration": 29,
    "start_time": "2022-11-08T11:22:53.577Z"
   },
   {
    "duration": 19,
    "start_time": "2022-11-08T11:22:53.608Z"
   },
   {
    "duration": 11,
    "start_time": "2022-11-08T11:22:53.629Z"
   },
   {
    "duration": 26,
    "start_time": "2022-11-08T11:22:53.642Z"
   },
   {
    "duration": 498,
    "start_time": "2022-11-08T11:22:53.671Z"
   },
   {
    "duration": 24,
    "start_time": "2022-11-08T11:22:54.171Z"
   },
   {
    "duration": 66,
    "start_time": "2022-11-08T11:22:54.196Z"
   },
   {
    "duration": 140,
    "start_time": "2022-11-08T11:22:54.265Z"
   },
   {
    "duration": 9,
    "start_time": "2022-11-08T11:22:54.406Z"
   },
   {
    "duration": 4,
    "start_time": "2022-11-08T11:22:54.417Z"
   },
   {
    "duration": 8,
    "start_time": "2022-11-08T11:22:54.423Z"
   },
   {
    "duration": 4,
    "start_time": "2022-11-08T11:22:54.433Z"
   },
   {
    "duration": 4,
    "start_time": "2022-11-08T11:22:54.439Z"
   },
   {
    "duration": 8,
    "start_time": "2022-11-08T11:22:54.444Z"
   },
   {
    "duration": 669,
    "start_time": "2022-11-08T11:27:15.916Z"
   },
   {
    "duration": 137,
    "start_time": "2022-11-08T11:27:16.586Z"
   },
   {
    "duration": 15,
    "start_time": "2022-11-08T11:27:16.725Z"
   },
   {
    "duration": 18,
    "start_time": "2022-11-08T11:27:16.742Z"
   },
   {
    "duration": 443,
    "start_time": "2022-11-08T11:27:16.761Z"
   },
   {
    "duration": 6,
    "start_time": "2022-11-08T11:27:17.206Z"
   },
   {
    "duration": 41,
    "start_time": "2022-11-08T11:27:17.214Z"
   },
   {
    "duration": 12,
    "start_time": "2022-11-08T11:27:17.257Z"
   },
   {
    "duration": 71,
    "start_time": "2022-11-08T11:27:17.271Z"
   },
   {
    "duration": 57,
    "start_time": "2022-11-08T11:27:17.345Z"
   },
   {
    "duration": 72,
    "start_time": "2022-11-08T11:27:17.404Z"
   },
   {
    "duration": 156,
    "start_time": "2022-11-08T11:27:17.478Z"
   },
   {
    "duration": 136,
    "start_time": "2022-11-08T11:27:17.635Z"
   },
   {
    "duration": 3,
    "start_time": "2022-11-08T11:27:17.773Z"
   },
   {
    "duration": 14,
    "start_time": "2022-11-08T11:27:17.778Z"
   },
   {
    "duration": 12,
    "start_time": "2022-11-08T11:27:17.794Z"
   },
   {
    "duration": 22,
    "start_time": "2022-11-08T11:27:17.807Z"
   },
   {
    "duration": 8,
    "start_time": "2022-11-08T11:27:17.830Z"
   },
   {
    "duration": 268,
    "start_time": "2022-11-08T11:27:17.839Z"
   },
   {
    "duration": 35,
    "start_time": "2022-11-08T11:27:18.109Z"
   },
   {
    "duration": 27,
    "start_time": "2022-11-08T11:27:18.145Z"
   },
   {
    "duration": 4,
    "start_time": "2022-11-08T11:27:18.174Z"
   },
   {
    "duration": 13,
    "start_time": "2022-11-08T11:27:18.179Z"
   },
   {
    "duration": 42,
    "start_time": "2022-11-08T11:27:18.193Z"
   },
   {
    "duration": 472,
    "start_time": "2022-11-08T11:27:18.237Z"
   },
   {
    "duration": 24,
    "start_time": "2022-11-08T11:27:18.711Z"
   },
   {
    "duration": 49,
    "start_time": "2022-11-08T11:27:18.737Z"
   },
   {
    "duration": 148,
    "start_time": "2022-11-08T11:27:18.789Z"
   },
   {
    "duration": 9,
    "start_time": "2022-11-08T11:27:18.938Z"
   },
   {
    "duration": 14,
    "start_time": "2022-11-08T11:27:18.949Z"
   },
   {
    "duration": 13,
    "start_time": "2022-11-08T11:27:18.965Z"
   },
   {
    "duration": 12,
    "start_time": "2022-11-08T11:27:18.980Z"
   },
   {
    "duration": 3,
    "start_time": "2022-11-08T11:27:19.026Z"
   },
   {
    "duration": 12,
    "start_time": "2022-11-08T11:27:19.031Z"
   },
   {
    "duration": 61,
    "start_time": "2022-11-08T11:28:07.697Z"
   },
   {
    "duration": 627,
    "start_time": "2022-11-08T11:32:03.705Z"
   },
   {
    "duration": 135,
    "start_time": "2022-11-08T11:32:04.334Z"
   },
   {
    "duration": 15,
    "start_time": "2022-11-08T11:32:04.470Z"
   },
   {
    "duration": 18,
    "start_time": "2022-11-08T11:32:04.486Z"
   },
   {
    "duration": 411,
    "start_time": "2022-11-08T11:32:04.505Z"
   },
   {
    "duration": 9,
    "start_time": "2022-11-08T11:32:04.917Z"
   },
   {
    "duration": 63,
    "start_time": "2022-11-08T11:32:04.927Z"
   },
   {
    "duration": 26,
    "start_time": "2022-11-08T11:32:04.992Z"
   },
   {
    "duration": 74,
    "start_time": "2022-11-08T11:32:05.020Z"
   },
   {
    "duration": 55,
    "start_time": "2022-11-08T11:32:05.096Z"
   },
   {
    "duration": 58,
    "start_time": "2022-11-08T11:32:05.152Z"
   },
   {
    "duration": 162,
    "start_time": "2022-11-08T11:32:05.212Z"
   },
   {
    "duration": 142,
    "start_time": "2022-11-08T11:32:05.375Z"
   },
   {
    "duration": 8,
    "start_time": "2022-11-08T11:32:05.519Z"
   },
   {
    "duration": 9,
    "start_time": "2022-11-08T11:32:05.529Z"
   },
   {
    "duration": 14,
    "start_time": "2022-11-08T11:32:05.540Z"
   },
   {
    "duration": 5,
    "start_time": "2022-11-08T11:32:05.556Z"
   },
   {
    "duration": 11,
    "start_time": "2022-11-08T11:32:05.562Z"
   },
   {
    "duration": 331,
    "start_time": "2022-11-08T11:32:05.576Z"
   },
   {
    "duration": 31,
    "start_time": "2022-11-08T11:32:05.908Z"
   },
   {
    "duration": 27,
    "start_time": "2022-11-08T11:32:05.940Z"
   },
   {
    "duration": 4,
    "start_time": "2022-11-08T11:32:05.968Z"
   },
   {
    "duration": 20,
    "start_time": "2022-11-08T11:32:05.974Z"
   },
   {
    "duration": 35,
    "start_time": "2022-11-08T11:32:05.996Z"
   },
   {
    "duration": 465,
    "start_time": "2022-11-08T11:32:06.032Z"
   },
   {
    "duration": 29,
    "start_time": "2022-11-08T11:32:06.498Z"
   },
   {
    "duration": 51,
    "start_time": "2022-11-08T11:32:06.529Z"
   },
   {
    "duration": 2,
    "start_time": "2022-11-08T11:32:06.583Z"
   },
   {
    "duration": 11,
    "start_time": "2022-11-08T11:32:06.587Z"
   },
   {
    "duration": 6,
    "start_time": "2022-11-08T11:32:06.599Z"
   },
   {
    "duration": 27,
    "start_time": "2022-11-08T11:32:06.607Z"
   },
   {
    "duration": 27,
    "start_time": "2022-11-08T11:32:06.636Z"
   },
   {
    "duration": 9,
    "start_time": "2022-11-08T11:32:06.665Z"
   },
   {
    "duration": 10,
    "start_time": "2022-11-08T11:32:06.675Z"
   },
   {
    "duration": 11,
    "start_time": "2022-11-08T13:07:06.196Z"
   },
   {
    "duration": 879,
    "start_time": "2022-11-08T13:07:11.229Z"
   },
   {
    "duration": 528,
    "start_time": "2022-11-08T13:07:12.112Z"
   },
   {
    "duration": 17,
    "start_time": "2022-11-08T13:07:12.642Z"
   },
   {
    "duration": 27,
    "start_time": "2022-11-08T13:07:12.662Z"
   },
   {
    "duration": 495,
    "start_time": "2022-11-08T13:07:12.691Z"
   },
   {
    "duration": 8,
    "start_time": "2022-11-08T13:07:13.188Z"
   },
   {
    "duration": 52,
    "start_time": "2022-11-08T13:07:13.198Z"
   },
   {
    "duration": 16,
    "start_time": "2022-11-08T13:07:13.251Z"
   },
   {
    "duration": 82,
    "start_time": "2022-11-08T13:07:13.269Z"
   },
   {
    "duration": 73,
    "start_time": "2022-11-08T13:07:13.354Z"
   },
   {
    "duration": 113,
    "start_time": "2022-11-08T13:07:13.430Z"
   },
   {
    "duration": 209,
    "start_time": "2022-11-08T13:07:13.545Z"
   },
   {
    "duration": 155,
    "start_time": "2022-11-08T13:07:13.755Z"
   },
   {
    "duration": 10,
    "start_time": "2022-11-08T13:07:13.912Z"
   },
   {
    "duration": 11,
    "start_time": "2022-11-08T13:07:13.924Z"
   },
   {
    "duration": 16,
    "start_time": "2022-11-08T13:07:13.937Z"
   },
   {
    "duration": 6,
    "start_time": "2022-11-08T13:07:13.955Z"
   },
   {
    "duration": 7,
    "start_time": "2022-11-08T13:07:13.963Z"
   },
   {
    "duration": 352,
    "start_time": "2022-11-08T13:07:13.972Z"
   },
   {
    "duration": 30,
    "start_time": "2022-11-08T13:07:14.326Z"
   },
   {
    "duration": 32,
    "start_time": "2022-11-08T13:07:14.357Z"
   },
   {
    "duration": 30,
    "start_time": "2022-11-08T13:07:14.391Z"
   },
   {
    "duration": 14,
    "start_time": "2022-11-08T13:07:14.423Z"
   },
   {
    "duration": 35,
    "start_time": "2022-11-08T13:07:14.439Z"
   },
   {
    "duration": 551,
    "start_time": "2022-11-08T13:07:14.475Z"
   },
   {
    "duration": 28,
    "start_time": "2022-11-08T13:07:15.028Z"
   },
   {
    "duration": 83,
    "start_time": "2022-11-08T13:07:15.058Z"
   },
   {
    "duration": 176,
    "start_time": "2022-11-08T13:07:15.145Z"
   },
   {
    "duration": 12,
    "start_time": "2022-11-08T13:07:15.323Z"
   },
   {
    "duration": 11,
    "start_time": "2022-11-08T13:07:15.336Z"
   },
   {
    "duration": 6,
    "start_time": "2022-11-08T13:07:15.350Z"
   },
   {
    "duration": 8,
    "start_time": "2022-11-08T13:07:15.358Z"
   },
   {
    "duration": 10,
    "start_time": "2022-11-08T13:07:15.368Z"
   },
   {
    "duration": 40,
    "start_time": "2022-11-08T13:07:15.380Z"
   },
   {
    "duration": 70,
    "start_time": "2022-11-08T13:09:57.310Z"
   },
   {
    "duration": 61,
    "start_time": "2022-11-08T13:14:11.611Z"
   },
   {
    "duration": 71,
    "start_time": "2022-11-08T13:14:22.814Z"
   },
   {
    "duration": 152,
    "start_time": "2022-11-08T13:14:33.268Z"
   },
   {
    "duration": 64,
    "start_time": "2022-11-08T13:14:56.203Z"
   },
   {
    "duration": 65,
    "start_time": "2022-11-08T13:15:41.215Z"
   },
   {
    "duration": 58,
    "start_time": "2022-11-08T13:15:51.766Z"
   },
   {
    "duration": 70,
    "start_time": "2022-11-08T13:16:43.421Z"
   },
   {
    "duration": 82,
    "start_time": "2022-11-08T13:17:09.595Z"
   },
   {
    "duration": 62,
    "start_time": "2022-11-08T13:17:39.976Z"
   },
   {
    "duration": 62,
    "start_time": "2022-11-08T13:17:49.055Z"
   },
   {
    "duration": 84,
    "start_time": "2022-11-08T13:17:55.578Z"
   },
   {
    "duration": 261,
    "start_time": "2022-11-08T13:18:25.531Z"
   },
   {
    "duration": 58,
    "start_time": "2022-11-08T13:18:54.967Z"
   },
   {
    "duration": 235,
    "start_time": "2022-11-08T13:19:10.720Z"
   },
   {
    "duration": 62,
    "start_time": "2022-11-08T13:19:13.656Z"
   },
   {
    "duration": 56,
    "start_time": "2022-11-08T13:19:27.338Z"
   },
   {
    "duration": 52,
    "start_time": "2022-11-08T13:19:39.922Z"
   },
   {
    "duration": 61,
    "start_time": "2022-11-08T13:19:48.256Z"
   },
   {
    "duration": 59,
    "start_time": "2022-11-08T13:20:32.031Z"
   },
   {
    "duration": 84,
    "start_time": "2022-11-08T13:20:47.828Z"
   },
   {
    "duration": 67,
    "start_time": "2022-11-08T13:20:54.932Z"
   },
   {
    "duration": 62,
    "start_time": "2022-11-08T13:21:01.136Z"
   },
   {
    "duration": 60,
    "start_time": "2022-11-08T13:21:15.211Z"
   },
   {
    "duration": 75,
    "start_time": "2022-11-08T13:21:46.072Z"
   },
   {
    "duration": 90,
    "start_time": "2022-11-08T13:22:05.966Z"
   },
   {
    "duration": 75,
    "start_time": "2022-11-08T13:22:22.225Z"
   },
   {
    "duration": 58,
    "start_time": "2022-11-08T13:22:54.249Z"
   },
   {
    "duration": 64,
    "start_time": "2022-11-08T13:23:03.419Z"
   },
   {
    "duration": 56,
    "start_time": "2022-11-08T13:24:11.187Z"
   },
   {
    "duration": 56,
    "start_time": "2022-11-08T13:24:19.342Z"
   },
   {
    "duration": 57,
    "start_time": "2022-11-08T13:24:37.350Z"
   },
   {
    "duration": 67,
    "start_time": "2022-11-08T13:24:52.734Z"
   },
   {
    "duration": 61,
    "start_time": "2022-11-08T13:25:12.484Z"
   },
   {
    "duration": 57,
    "start_time": "2022-11-08T13:25:18.477Z"
   },
   {
    "duration": 59,
    "start_time": "2022-11-08T13:25:26.996Z"
   },
   {
    "duration": 56,
    "start_time": "2022-11-08T13:26:27.649Z"
   },
   {
    "duration": 68,
    "start_time": "2022-11-08T13:26:46.815Z"
   },
   {
    "duration": 74,
    "start_time": "2022-11-08T13:26:52.418Z"
   },
   {
    "duration": 61,
    "start_time": "2022-11-08T13:27:13.918Z"
   },
   {
    "duration": 62,
    "start_time": "2022-11-08T13:27:27.493Z"
   },
   {
    "duration": 65,
    "start_time": "2022-11-08T13:27:32.628Z"
   },
   {
    "duration": 79,
    "start_time": "2022-11-08T13:27:40.867Z"
   },
   {
    "duration": 62,
    "start_time": "2022-11-08T13:29:06.424Z"
   },
   {
    "duration": 727,
    "start_time": "2022-11-08T13:31:56.253Z"
   },
   {
    "duration": 161,
    "start_time": "2022-11-08T13:31:56.982Z"
   },
   {
    "duration": 19,
    "start_time": "2022-11-08T13:31:57.145Z"
   },
   {
    "duration": 22,
    "start_time": "2022-11-08T13:31:57.166Z"
   },
   {
    "duration": 509,
    "start_time": "2022-11-08T13:31:57.190Z"
   },
   {
    "duration": 7,
    "start_time": "2022-11-08T13:31:57.701Z"
   },
   {
    "duration": 44,
    "start_time": "2022-11-08T13:31:57.718Z"
   },
   {
    "duration": 18,
    "start_time": "2022-11-08T13:31:57.765Z"
   },
   {
    "duration": 84,
    "start_time": "2022-11-08T13:31:57.785Z"
   },
   {
    "duration": 77,
    "start_time": "2022-11-08T13:31:57.873Z"
   },
   {
    "duration": 87,
    "start_time": "2022-11-08T13:31:57.952Z"
   },
   {
    "duration": 186,
    "start_time": "2022-11-08T13:31:58.041Z"
   },
   {
    "duration": 155,
    "start_time": "2022-11-08T13:31:58.230Z"
   },
   {
    "duration": 4,
    "start_time": "2022-11-08T13:31:58.386Z"
   },
   {
    "duration": 28,
    "start_time": "2022-11-08T13:31:58.392Z"
   },
   {
    "duration": 14,
    "start_time": "2022-11-08T13:31:58.422Z"
   },
   {
    "duration": 20,
    "start_time": "2022-11-08T13:31:58.438Z"
   },
   {
    "duration": 12,
    "start_time": "2022-11-08T13:31:58.460Z"
   },
   {
    "duration": 310,
    "start_time": "2022-11-08T13:31:58.474Z"
   },
   {
    "duration": 40,
    "start_time": "2022-11-08T13:31:58.787Z"
   },
   {
    "duration": 30,
    "start_time": "2022-11-08T13:31:58.829Z"
   },
   {
    "duration": 6,
    "start_time": "2022-11-08T13:31:58.861Z"
   },
   {
    "duration": 10,
    "start_time": "2022-11-08T13:31:58.869Z"
   },
   {
    "duration": 56,
    "start_time": "2022-11-08T13:31:58.881Z"
   },
   {
    "duration": 560,
    "start_time": "2022-11-08T13:31:58.939Z"
   },
   {
    "duration": 39,
    "start_time": "2022-11-08T13:31:59.501Z"
   },
   {
    "duration": 80,
    "start_time": "2022-11-08T13:31:59.541Z"
   },
   {
    "duration": 223,
    "start_time": "2022-11-08T13:31:59.625Z"
   },
   {
    "duration": 13,
    "start_time": "2022-11-08T13:31:59.850Z"
   },
   {
    "duration": 3,
    "start_time": "2022-11-08T13:31:59.866Z"
   },
   {
    "duration": 49,
    "start_time": "2022-11-08T13:31:59.871Z"
   },
   {
    "duration": 5,
    "start_time": "2022-11-08T13:31:59.922Z"
   },
   {
    "duration": 6,
    "start_time": "2022-11-08T13:31:59.929Z"
   },
   {
    "duration": 6,
    "start_time": "2022-11-08T13:31:59.937Z"
   },
   {
    "duration": 60,
    "start_time": "2022-11-08T13:36:06.230Z"
   },
   {
    "duration": 4,
    "start_time": "2022-11-08T13:39:34.485Z"
   },
   {
    "duration": 7,
    "start_time": "2022-11-08T13:39:46.249Z"
   },
   {
    "duration": 7,
    "start_time": "2022-11-08T13:40:15.332Z"
   },
   {
    "duration": 11,
    "start_time": "2022-11-08T13:42:28.134Z"
   },
   {
    "duration": 21,
    "start_time": "2022-11-08T13:42:58.399Z"
   },
   {
    "duration": 22,
    "start_time": "2022-11-08T13:43:47.790Z"
   },
   {
    "duration": 17,
    "start_time": "2022-11-08T13:44:07.114Z"
   },
   {
    "duration": 15,
    "start_time": "2022-11-08T13:44:57.946Z"
   },
   {
    "duration": 13,
    "start_time": "2022-11-08T13:45:09.579Z"
   },
   {
    "duration": 14,
    "start_time": "2022-11-08T13:45:31.228Z"
   },
   {
    "duration": 14,
    "start_time": "2022-11-08T13:45:39.316Z"
   },
   {
    "duration": 16,
    "start_time": "2022-11-08T13:47:43.382Z"
   },
   {
    "duration": 17,
    "start_time": "2022-11-08T13:47:47.549Z"
   },
   {
    "duration": 18,
    "start_time": "2022-11-08T13:49:54.360Z"
   },
   {
    "duration": 21,
    "start_time": "2022-11-08T13:50:04.624Z"
   },
   {
    "duration": 23,
    "start_time": "2022-11-08T13:50:38.348Z"
   },
   {
    "duration": 17,
    "start_time": "2022-11-08T13:52:10.012Z"
   },
   {
    "duration": 26,
    "start_time": "2022-11-08T13:52:39.615Z"
   },
   {
    "duration": 695,
    "start_time": "2022-11-08T13:52:53.936Z"
   },
   {
    "duration": 161,
    "start_time": "2022-11-08T13:52:54.633Z"
   },
   {
    "duration": 39,
    "start_time": "2022-11-08T13:52:54.796Z"
   },
   {
    "duration": 22,
    "start_time": "2022-11-08T13:52:54.838Z"
   },
   {
    "duration": 501,
    "start_time": "2022-11-08T13:52:54.862Z"
   },
   {
    "duration": 7,
    "start_time": "2022-11-08T13:52:55.365Z"
   },
   {
    "duration": 53,
    "start_time": "2022-11-08T13:52:55.374Z"
   },
   {
    "duration": 17,
    "start_time": "2022-11-08T13:52:55.428Z"
   },
   {
    "duration": 80,
    "start_time": "2022-11-08T13:52:55.447Z"
   },
   {
    "duration": 60,
    "start_time": "2022-11-08T13:52:55.530Z"
   },
   {
    "duration": 88,
    "start_time": "2022-11-08T13:52:55.592Z"
   },
   {
    "duration": 190,
    "start_time": "2022-11-08T13:52:55.682Z"
   },
   {
    "duration": 163,
    "start_time": "2022-11-08T13:52:55.873Z"
   },
   {
    "duration": 5,
    "start_time": "2022-11-08T13:52:56.038Z"
   },
   {
    "duration": 21,
    "start_time": "2022-11-08T13:52:56.044Z"
   },
   {
    "duration": 19,
    "start_time": "2022-11-08T13:52:56.067Z"
   },
   {
    "duration": 9,
    "start_time": "2022-11-08T13:52:56.089Z"
   },
   {
    "duration": 24,
    "start_time": "2022-11-08T13:52:56.101Z"
   },
   {
    "duration": 308,
    "start_time": "2022-11-08T13:52:56.127Z"
   },
   {
    "duration": 31,
    "start_time": "2022-11-08T13:52:56.437Z"
   },
   {
    "duration": 52,
    "start_time": "2022-11-08T13:52:56.470Z"
   },
   {
    "duration": 5,
    "start_time": "2022-11-08T13:52:56.524Z"
   },
   {
    "duration": 23,
    "start_time": "2022-11-08T13:52:56.530Z"
   },
   {
    "duration": 33,
    "start_time": "2022-11-08T13:52:56.555Z"
   },
   {
    "duration": 642,
    "start_time": "2022-11-08T13:52:56.590Z"
   },
   {
    "duration": 28,
    "start_time": "2022-11-08T13:52:57.234Z"
   },
   {
    "duration": 79,
    "start_time": "2022-11-08T13:52:57.263Z"
   },
   {
    "duration": 13,
    "start_time": "2022-11-08T13:52:57.345Z"
   },
   {
    "duration": 198,
    "start_time": "2022-11-08T13:52:57.359Z"
   },
   {
    "duration": 11,
    "start_time": "2022-11-08T13:52:57.559Z"
   },
   {
    "duration": 9,
    "start_time": "2022-11-08T13:52:57.571Z"
   },
   {
    "duration": 38,
    "start_time": "2022-11-08T13:52:57.582Z"
   },
   {
    "duration": 4,
    "start_time": "2022-11-08T13:52:57.623Z"
   },
   {
    "duration": 9,
    "start_time": "2022-11-08T13:52:57.629Z"
   },
   {
    "duration": 10,
    "start_time": "2022-11-08T13:52:57.640Z"
   },
   {
    "duration": 693,
    "start_time": "2022-11-08T13:53:15.619Z"
   },
   {
    "duration": 182,
    "start_time": "2022-11-08T13:53:16.314Z"
   },
   {
    "duration": 27,
    "start_time": "2022-11-08T13:53:16.499Z"
   },
   {
    "duration": 42,
    "start_time": "2022-11-08T13:53:16.529Z"
   },
   {
    "duration": 516,
    "start_time": "2022-11-08T13:53:16.574Z"
   },
   {
    "duration": 7,
    "start_time": "2022-11-08T13:53:17.092Z"
   },
   {
    "duration": 65,
    "start_time": "2022-11-08T13:53:17.100Z"
   },
   {
    "duration": 17,
    "start_time": "2022-11-08T13:53:17.166Z"
   },
   {
    "duration": 81,
    "start_time": "2022-11-08T13:53:17.184Z"
   },
   {
    "duration": 71,
    "start_time": "2022-11-08T13:53:17.269Z"
   },
   {
    "duration": 85,
    "start_time": "2022-11-08T13:53:17.342Z"
   },
   {
    "duration": 192,
    "start_time": "2022-11-08T13:53:17.429Z"
   },
   {
    "duration": 157,
    "start_time": "2022-11-08T13:53:17.623Z"
   },
   {
    "duration": 4,
    "start_time": "2022-11-08T13:53:17.781Z"
   },
   {
    "duration": 35,
    "start_time": "2022-11-08T13:53:17.786Z"
   },
   {
    "duration": 19,
    "start_time": "2022-11-08T13:53:17.823Z"
   },
   {
    "duration": 36,
    "start_time": "2022-11-08T13:53:17.843Z"
   },
   {
    "duration": 23,
    "start_time": "2022-11-08T13:53:17.882Z"
   },
   {
    "duration": 323,
    "start_time": "2022-11-08T13:53:17.909Z"
   },
   {
    "duration": 31,
    "start_time": "2022-11-08T13:53:18.235Z"
   },
   {
    "duration": 53,
    "start_time": "2022-11-08T13:53:18.268Z"
   },
   {
    "duration": 6,
    "start_time": "2022-11-08T13:53:18.324Z"
   },
   {
    "duration": 39,
    "start_time": "2022-11-08T13:53:18.332Z"
   },
   {
    "duration": 39,
    "start_time": "2022-11-08T13:53:18.373Z"
   },
   {
    "duration": 551,
    "start_time": "2022-11-08T13:53:18.414Z"
   },
   {
    "duration": 29,
    "start_time": "2022-11-08T13:53:18.967Z"
   },
   {
    "duration": 81,
    "start_time": "2022-11-08T13:53:18.998Z"
   },
   {
    "duration": 42,
    "start_time": "2022-11-08T13:53:19.082Z"
   },
   {
    "duration": 170,
    "start_time": "2022-11-08T13:53:19.127Z"
   },
   {
    "duration": 20,
    "start_time": "2022-11-08T13:53:19.299Z"
   },
   {
    "duration": 3,
    "start_time": "2022-11-08T13:53:19.321Z"
   },
   {
    "duration": 11,
    "start_time": "2022-11-08T13:53:19.326Z"
   },
   {
    "duration": 8,
    "start_time": "2022-11-08T13:53:19.339Z"
   },
   {
    "duration": 12,
    "start_time": "2022-11-08T13:53:19.349Z"
   },
   {
    "duration": 9,
    "start_time": "2022-11-08T13:53:19.363Z"
   },
   {
    "duration": 55,
    "start_time": "2022-11-08T14:15:25.652Z"
   },
   {
    "duration": 631,
    "start_time": "2022-11-08T14:16:08.239Z"
   },
   {
    "duration": 152,
    "start_time": "2022-11-08T14:16:08.872Z"
   },
   {
    "duration": 18,
    "start_time": "2022-11-08T14:16:09.026Z"
   },
   {
    "duration": 22,
    "start_time": "2022-11-08T14:16:09.046Z"
   },
   {
    "duration": 483,
    "start_time": "2022-11-08T14:16:09.071Z"
   },
   {
    "duration": 7,
    "start_time": "2022-11-08T14:16:09.556Z"
   },
   {
    "duration": 35,
    "start_time": "2022-11-08T14:16:09.564Z"
   },
   {
    "duration": 32,
    "start_time": "2022-11-08T14:16:09.600Z"
   },
   {
    "duration": 60,
    "start_time": "2022-11-08T14:16:09.634Z"
   },
   {
    "duration": 71,
    "start_time": "2022-11-08T14:16:09.698Z"
   },
   {
    "duration": 80,
    "start_time": "2022-11-08T14:16:09.772Z"
   },
   {
    "duration": 168,
    "start_time": "2022-11-08T14:16:09.854Z"
   },
   {
    "duration": 150,
    "start_time": "2022-11-08T14:16:10.024Z"
   },
   {
    "duration": 4,
    "start_time": "2022-11-08T14:16:10.177Z"
   },
   {
    "duration": 12,
    "start_time": "2022-11-08T14:16:10.183Z"
   },
   {
    "duration": 37,
    "start_time": "2022-11-08T14:16:10.196Z"
   },
   {
    "duration": 6,
    "start_time": "2022-11-08T14:16:10.235Z"
   },
   {
    "duration": 8,
    "start_time": "2022-11-08T14:16:10.242Z"
   },
   {
    "duration": 326,
    "start_time": "2022-11-08T14:16:10.252Z"
   },
   {
    "duration": 28,
    "start_time": "2022-11-08T14:16:10.581Z"
   },
   {
    "duration": 29,
    "start_time": "2022-11-08T14:16:10.620Z"
   },
   {
    "duration": 5,
    "start_time": "2022-11-08T14:16:10.651Z"
   },
   {
    "duration": 16,
    "start_time": "2022-11-08T14:16:10.657Z"
   },
   {
    "duration": 47,
    "start_time": "2022-11-08T14:16:10.675Z"
   },
   {
    "duration": 523,
    "start_time": "2022-11-08T14:16:10.724Z"
   },
   {
    "duration": 27,
    "start_time": "2022-11-08T14:16:11.249Z"
   },
   {
    "duration": 72,
    "start_time": "2022-11-08T14:16:11.277Z"
   },
   {
    "duration": 11,
    "start_time": "2022-11-08T14:16:11.352Z"
   },
   {
    "duration": 155,
    "start_time": "2022-11-08T14:16:11.364Z"
   },
   {
    "duration": 11,
    "start_time": "2022-11-08T14:16:11.521Z"
   },
   {
    "duration": 6,
    "start_time": "2022-11-08T14:16:11.534Z"
   },
   {
    "duration": 7,
    "start_time": "2022-11-08T14:16:11.542Z"
   },
   {
    "duration": 11,
    "start_time": "2022-11-08T14:16:11.551Z"
   },
   {
    "duration": 6,
    "start_time": "2022-11-08T14:16:11.565Z"
   },
   {
    "duration": 4,
    "start_time": "2022-11-08T14:16:11.620Z"
   },
   {
    "duration": 15,
    "start_time": "2022-11-08T14:16:33.180Z"
   },
   {
    "duration": 15,
    "start_time": "2022-11-08T14:16:37.595Z"
   },
   {
    "duration": 710,
    "start_time": "2022-11-08T14:16:47.318Z"
   },
   {
    "duration": 147,
    "start_time": "2022-11-08T14:16:48.030Z"
   },
   {
    "duration": 16,
    "start_time": "2022-11-08T14:16:48.179Z"
   },
   {
    "duration": 28,
    "start_time": "2022-11-08T14:16:48.198Z"
   },
   {
    "duration": 457,
    "start_time": "2022-11-08T14:16:48.228Z"
   },
   {
    "duration": 7,
    "start_time": "2022-11-08T14:16:48.687Z"
   },
   {
    "duration": 48,
    "start_time": "2022-11-08T14:16:48.696Z"
   },
   {
    "duration": 18,
    "start_time": "2022-11-08T14:16:48.746Z"
   },
   {
    "duration": 86,
    "start_time": "2022-11-08T14:16:48.766Z"
   },
   {
    "duration": 61,
    "start_time": "2022-11-08T14:16:48.858Z"
   },
   {
    "duration": 63,
    "start_time": "2022-11-08T14:16:48.921Z"
   },
   {
    "duration": 187,
    "start_time": "2022-11-08T14:16:48.986Z"
   },
   {
    "duration": 151,
    "start_time": "2022-11-08T14:16:49.174Z"
   },
   {
    "duration": 4,
    "start_time": "2022-11-08T14:16:49.327Z"
   },
   {
    "duration": 11,
    "start_time": "2022-11-08T14:16:49.332Z"
   },
   {
    "duration": 25,
    "start_time": "2022-11-08T14:16:49.345Z"
   },
   {
    "duration": 5,
    "start_time": "2022-11-08T14:16:49.372Z"
   },
   {
    "duration": 6,
    "start_time": "2022-11-08T14:16:49.379Z"
   },
   {
    "duration": 300,
    "start_time": "2022-11-08T14:16:49.419Z"
   },
   {
    "duration": 29,
    "start_time": "2022-11-08T14:16:49.721Z"
   },
   {
    "duration": 30,
    "start_time": "2022-11-08T14:16:49.751Z"
   },
   {
    "duration": 37,
    "start_time": "2022-11-08T14:16:49.783Z"
   },
   {
    "duration": 10,
    "start_time": "2022-11-08T14:16:49.822Z"
   },
   {
    "duration": 27,
    "start_time": "2022-11-08T14:16:49.833Z"
   },
   {
    "duration": 566,
    "start_time": "2022-11-08T14:16:49.862Z"
   },
   {
    "duration": 26,
    "start_time": "2022-11-08T14:16:50.430Z"
   },
   {
    "duration": 79,
    "start_time": "2022-11-08T14:16:50.458Z"
   },
   {
    "duration": 14,
    "start_time": "2022-11-08T14:16:50.540Z"
   },
   {
    "duration": 162,
    "start_time": "2022-11-08T14:16:50.555Z"
   },
   {
    "duration": 13,
    "start_time": "2022-11-08T14:16:50.718Z"
   },
   {
    "duration": 8,
    "start_time": "2022-11-08T14:16:50.733Z"
   },
   {
    "duration": 6,
    "start_time": "2022-11-08T14:16:50.742Z"
   },
   {
    "duration": 9,
    "start_time": "2022-11-08T14:16:50.750Z"
   },
   {
    "duration": 7,
    "start_time": "2022-11-08T14:16:50.761Z"
   },
   {
    "duration": 50,
    "start_time": "2022-11-08T14:16:50.770Z"
   },
   {
    "duration": 19,
    "start_time": "2022-11-08T14:18:17.220Z"
   },
   {
    "duration": 25,
    "start_time": "2022-11-08T14:24:59.767Z"
   },
   {
    "duration": 3,
    "start_time": "2022-11-08T14:25:11.570Z"
   },
   {
    "duration": 696,
    "start_time": "2022-11-08T14:25:39.784Z"
   },
   {
    "duration": 168,
    "start_time": "2022-11-08T14:25:40.482Z"
   },
   {
    "duration": 16,
    "start_time": "2022-11-08T14:25:40.652Z"
   },
   {
    "duration": 22,
    "start_time": "2022-11-08T14:25:40.670Z"
   },
   {
    "duration": 506,
    "start_time": "2022-11-08T14:25:40.693Z"
   },
   {
    "duration": 7,
    "start_time": "2022-11-08T14:25:41.201Z"
   },
   {
    "duration": 42,
    "start_time": "2022-11-08T14:25:41.210Z"
   },
   {
    "duration": 14,
    "start_time": "2022-11-08T14:25:41.254Z"
   },
   {
    "duration": 89,
    "start_time": "2022-11-08T14:25:41.270Z"
   },
   {
    "duration": 72,
    "start_time": "2022-11-08T14:25:41.362Z"
   },
   {
    "duration": 87,
    "start_time": "2022-11-08T14:25:41.436Z"
   },
   {
    "duration": 199,
    "start_time": "2022-11-08T14:25:41.525Z"
   },
   {
    "duration": 157,
    "start_time": "2022-11-08T14:25:41.726Z"
   },
   {
    "duration": 4,
    "start_time": "2022-11-08T14:25:41.884Z"
   },
   {
    "duration": 33,
    "start_time": "2022-11-08T14:25:41.889Z"
   },
   {
    "duration": 20,
    "start_time": "2022-11-08T14:25:41.924Z"
   },
   {
    "duration": 6,
    "start_time": "2022-11-08T14:25:41.945Z"
   },
   {
    "duration": 8,
    "start_time": "2022-11-08T14:25:41.953Z"
   },
   {
    "duration": 337,
    "start_time": "2022-11-08T14:25:41.962Z"
   },
   {
    "duration": 38,
    "start_time": "2022-11-08T14:25:42.301Z"
   },
   {
    "duration": 66,
    "start_time": "2022-11-08T14:25:42.340Z"
   },
   {
    "duration": 6,
    "start_time": "2022-11-08T14:25:42.409Z"
   },
   {
    "duration": 16,
    "start_time": "2022-11-08T14:25:42.417Z"
   },
   {
    "duration": 27,
    "start_time": "2022-11-08T14:25:42.435Z"
   },
   {
    "duration": 578,
    "start_time": "2022-11-08T14:25:42.464Z"
   },
   {
    "duration": 28,
    "start_time": "2022-11-08T14:25:43.044Z"
   },
   {
    "duration": 80,
    "start_time": "2022-11-08T14:25:43.074Z"
   },
   {
    "duration": 15,
    "start_time": "2022-11-08T14:25:43.157Z"
   },
   {
    "duration": 17,
    "start_time": "2022-11-08T14:25:43.174Z"
   },
   {
    "duration": 69,
    "start_time": "2022-11-08T14:25:43.192Z"
   },
   {
    "duration": 8,
    "start_time": "2022-11-08T14:25:43.263Z"
   },
   {
    "duration": 10,
    "start_time": "2022-11-08T14:25:43.273Z"
   },
   {
    "duration": 23,
    "start_time": "2022-11-08T14:25:43.284Z"
   },
   {
    "duration": 6,
    "start_time": "2022-11-08T14:25:43.309Z"
   },
   {
    "duration": 11,
    "start_time": "2022-11-08T14:25:43.317Z"
   },
   {
    "duration": 717,
    "start_time": "2022-11-08T14:26:47.100Z"
   },
   {
    "duration": 190,
    "start_time": "2022-11-08T14:26:47.820Z"
   },
   {
    "duration": 22,
    "start_time": "2022-11-08T14:26:48.012Z"
   },
   {
    "duration": 22,
    "start_time": "2022-11-08T14:26:48.037Z"
   },
   {
    "duration": 502,
    "start_time": "2022-11-08T14:26:48.061Z"
   },
   {
    "duration": 7,
    "start_time": "2022-11-08T14:26:48.565Z"
   },
   {
    "duration": 52,
    "start_time": "2022-11-08T14:26:48.574Z"
   },
   {
    "duration": 15,
    "start_time": "2022-11-08T14:26:48.628Z"
   },
   {
    "duration": 79,
    "start_time": "2022-11-08T14:26:48.645Z"
   },
   {
    "duration": 63,
    "start_time": "2022-11-08T14:26:48.726Z"
   },
   {
    "duration": 96,
    "start_time": "2022-11-08T14:26:48.792Z"
   },
   {
    "duration": 196,
    "start_time": "2022-11-08T14:26:48.890Z"
   },
   {
    "duration": 167,
    "start_time": "2022-11-08T14:26:49.088Z"
   },
   {
    "duration": 4,
    "start_time": "2022-11-08T14:26:49.257Z"
   },
   {
    "duration": 14,
    "start_time": "2022-11-08T14:26:49.262Z"
   },
   {
    "duration": 19,
    "start_time": "2022-11-08T14:26:49.278Z"
   },
   {
    "duration": 25,
    "start_time": "2022-11-08T14:26:49.299Z"
   },
   {
    "duration": 5,
    "start_time": "2022-11-08T14:26:49.326Z"
   },
   {
    "duration": 330,
    "start_time": "2022-11-08T14:26:49.333Z"
   },
   {
    "duration": 29,
    "start_time": "2022-11-08T14:26:49.664Z"
   },
   {
    "duration": 49,
    "start_time": "2022-11-08T14:26:49.695Z"
   },
   {
    "duration": 5,
    "start_time": "2022-11-08T14:26:49.746Z"
   },
   {
    "duration": 25,
    "start_time": "2022-11-08T14:26:49.752Z"
   },
   {
    "duration": 52,
    "start_time": "2022-11-08T14:26:49.779Z"
   },
   {
    "duration": 571,
    "start_time": "2022-11-08T14:26:49.832Z"
   },
   {
    "duration": 35,
    "start_time": "2022-11-08T14:26:50.404Z"
   },
   {
    "duration": 84,
    "start_time": "2022-11-08T14:26:50.441Z"
   },
   {
    "duration": 17,
    "start_time": "2022-11-08T14:26:50.528Z"
   },
   {
    "duration": 20,
    "start_time": "2022-11-08T14:26:50.547Z"
   },
   {
    "duration": 4,
    "start_time": "2022-11-08T14:26:50.569Z"
   },
   {
    "duration": 14,
    "start_time": "2022-11-08T14:26:50.575Z"
   },
   {
    "duration": 9,
    "start_time": "2022-11-08T14:26:50.590Z"
   },
   {
    "duration": 4,
    "start_time": "2022-11-08T14:26:50.619Z"
   },
   {
    "duration": 13,
    "start_time": "2022-11-08T14:26:50.625Z"
   },
   {
    "duration": 15,
    "start_time": "2022-11-08T14:26:50.641Z"
   },
   {
    "duration": 161,
    "start_time": "2022-11-08T14:30:26.063Z"
   },
   {
    "duration": 663,
    "start_time": "2022-11-08T14:33:12.320Z"
   },
   {
    "duration": 150,
    "start_time": "2022-11-08T14:33:12.985Z"
   },
   {
    "duration": 17,
    "start_time": "2022-11-08T14:33:13.136Z"
   },
   {
    "duration": 20,
    "start_time": "2022-11-08T14:33:13.155Z"
   },
   {
    "duration": 522,
    "start_time": "2022-11-08T14:33:13.177Z"
   },
   {
    "duration": 8,
    "start_time": "2022-11-08T14:33:13.701Z"
   },
   {
    "duration": 36,
    "start_time": "2022-11-08T14:33:13.720Z"
   },
   {
    "duration": 15,
    "start_time": "2022-11-08T14:33:13.757Z"
   },
   {
    "duration": 89,
    "start_time": "2022-11-08T14:33:13.774Z"
   },
   {
    "duration": 65,
    "start_time": "2022-11-08T14:33:13.866Z"
   },
   {
    "duration": 86,
    "start_time": "2022-11-08T14:33:13.933Z"
   },
   {
    "duration": 178,
    "start_time": "2022-11-08T14:33:14.021Z"
   },
   {
    "duration": 160,
    "start_time": "2022-11-08T14:33:14.201Z"
   },
   {
    "duration": 3,
    "start_time": "2022-11-08T14:33:14.363Z"
   },
   {
    "duration": 17,
    "start_time": "2022-11-08T14:33:14.368Z"
   },
   {
    "duration": 33,
    "start_time": "2022-11-08T14:33:14.387Z"
   },
   {
    "duration": 6,
    "start_time": "2022-11-08T14:33:14.422Z"
   },
   {
    "duration": 7,
    "start_time": "2022-11-08T14:33:14.430Z"
   },
   {
    "duration": 322,
    "start_time": "2022-11-08T14:33:14.438Z"
   },
   {
    "duration": 34,
    "start_time": "2022-11-08T14:33:14.762Z"
   },
   {
    "duration": 47,
    "start_time": "2022-11-08T14:33:14.798Z"
   },
   {
    "duration": 5,
    "start_time": "2022-11-08T14:33:14.847Z"
   },
   {
    "duration": 11,
    "start_time": "2022-11-08T14:33:14.854Z"
   },
   {
    "duration": 53,
    "start_time": "2022-11-08T14:33:14.867Z"
   },
   {
    "duration": 554,
    "start_time": "2022-11-08T14:33:14.923Z"
   },
   {
    "duration": 28,
    "start_time": "2022-11-08T14:33:15.478Z"
   },
   {
    "duration": 62,
    "start_time": "2022-11-08T14:33:15.519Z"
   },
   {
    "duration": 16,
    "start_time": "2022-11-08T14:33:15.584Z"
   },
   {
    "duration": 29,
    "start_time": "2022-11-08T14:33:15.601Z"
   },
   {
    "duration": 7,
    "start_time": "2022-11-08T14:33:15.632Z"
   },
   {
    "duration": 6,
    "start_time": "2022-11-08T14:33:15.641Z"
   },
   {
    "duration": 6,
    "start_time": "2022-11-08T14:33:15.649Z"
   },
   {
    "duration": 9,
    "start_time": "2022-11-08T14:33:15.656Z"
   },
   {
    "duration": 15,
    "start_time": "2022-11-08T14:33:15.666Z"
   },
   {
    "duration": 151,
    "start_time": "2022-11-08T14:33:15.683Z"
   },
   {
    "duration": 1100,
    "start_time": "2022-11-08T14:42:55.837Z"
   },
   {
    "duration": 17,
    "start_time": "2022-11-08T14:43:05.786Z"
   },
   {
    "duration": 17,
    "start_time": "2022-11-08T14:43:31.177Z"
   },
   {
    "duration": 16,
    "start_time": "2022-11-08T14:44:02.743Z"
   },
   {
    "duration": 29,
    "start_time": "2022-11-08T14:44:13.686Z"
   },
   {
    "duration": 15,
    "start_time": "2022-11-08T14:44:25.391Z"
   },
   {
    "duration": 4,
    "start_time": "2022-11-08T14:45:22.134Z"
   },
   {
    "duration": 19,
    "start_time": "2022-11-08T14:46:35.506Z"
   },
   {
    "duration": 28,
    "start_time": "2022-11-08T14:46:41.711Z"
   },
   {
    "duration": 15,
    "start_time": "2022-11-08T14:47:01.484Z"
   },
   {
    "duration": 29,
    "start_time": "2022-11-08T14:47:33.330Z"
   },
   {
    "duration": 16,
    "start_time": "2022-11-08T14:47:39.206Z"
   },
   {
    "duration": 22,
    "start_time": "2022-11-08T14:47:41.883Z"
   },
   {
    "duration": 19,
    "start_time": "2022-11-08T14:47:47.969Z"
   },
   {
    "duration": 25,
    "start_time": "2022-11-08T15:13:42.267Z"
   },
   {
    "duration": 26,
    "start_time": "2022-11-08T15:17:32.893Z"
   },
   {
    "duration": 893,
    "start_time": "2022-11-08T15:24:41.010Z"
   },
   {
    "duration": 5,
    "start_time": "2022-11-08T15:24:51.961Z"
   },
   {
    "duration": 6,
    "start_time": "2022-11-08T15:25:59.194Z"
   },
   {
    "duration": 5,
    "start_time": "2022-11-08T15:26:18.082Z"
   },
   {
    "duration": 756,
    "start_time": "2022-11-08T15:30:09.345Z"
   },
   {
    "duration": 183,
    "start_time": "2022-11-08T15:30:10.103Z"
   },
   {
    "duration": 34,
    "start_time": "2022-11-08T15:30:10.289Z"
   },
   {
    "duration": 25,
    "start_time": "2022-11-08T15:30:10.326Z"
   },
   {
    "duration": 531,
    "start_time": "2022-11-08T15:30:10.353Z"
   },
   {
    "duration": 8,
    "start_time": "2022-11-08T15:30:10.886Z"
   },
   {
    "duration": 52,
    "start_time": "2022-11-08T15:30:10.896Z"
   },
   {
    "duration": 19,
    "start_time": "2022-11-08T15:30:10.950Z"
   },
   {
    "duration": 109,
    "start_time": "2022-11-08T15:30:10.971Z"
   },
   {
    "duration": 83,
    "start_time": "2022-11-08T15:30:11.085Z"
   },
   {
    "duration": 94,
    "start_time": "2022-11-08T15:30:11.171Z"
   },
   {
    "duration": 224,
    "start_time": "2022-11-08T15:30:11.267Z"
   },
   {
    "duration": 159,
    "start_time": "2022-11-08T15:30:11.493Z"
   },
   {
    "duration": 4,
    "start_time": "2022-11-08T15:30:11.653Z"
   },
   {
    "duration": 24,
    "start_time": "2022-11-08T15:30:11.658Z"
   },
   {
    "duration": 47,
    "start_time": "2022-11-08T15:30:11.684Z"
   },
   {
    "duration": 6,
    "start_time": "2022-11-08T15:30:11.733Z"
   },
   {
    "duration": 7,
    "start_time": "2022-11-08T15:30:11.741Z"
   },
   {
    "duration": 359,
    "start_time": "2022-11-08T15:30:11.750Z"
   },
   {
    "duration": 33,
    "start_time": "2022-11-08T15:30:12.112Z"
   },
   {
    "duration": 32,
    "start_time": "2022-11-08T15:30:12.148Z"
   },
   {
    "duration": 6,
    "start_time": "2022-11-08T15:30:12.182Z"
   },
   {
    "duration": 10,
    "start_time": "2022-11-08T15:30:12.219Z"
   },
   {
    "duration": 31,
    "start_time": "2022-11-08T15:30:12.231Z"
   },
   {
    "duration": 578,
    "start_time": "2022-11-08T15:30:12.264Z"
   },
   {
    "duration": 47,
    "start_time": "2022-11-08T15:30:12.845Z"
   },
   {
    "duration": 97,
    "start_time": "2022-11-08T15:30:12.895Z"
   },
   {
    "duration": 28,
    "start_time": "2022-11-08T15:30:12.995Z"
   },
   {
    "duration": 12,
    "start_time": "2022-11-08T15:30:13.026Z"
   },
   {
    "duration": 36,
    "start_time": "2022-11-08T15:30:13.040Z"
   },
   {
    "duration": 15,
    "start_time": "2022-11-08T15:30:13.078Z"
   },
   {
    "duration": 6,
    "start_time": "2022-11-08T15:30:13.096Z"
   },
   {
    "duration": 12,
    "start_time": "2022-11-08T15:30:13.104Z"
   },
   {
    "duration": 10,
    "start_time": "2022-11-08T15:30:13.119Z"
   },
   {
    "duration": 11,
    "start_time": "2022-11-08T15:30:13.130Z"
   },
   {
    "duration": 152,
    "start_time": "2022-11-08T15:30:13.143Z"
   },
   {
    "duration": 712,
    "start_time": "2022-11-08T15:52:39.785Z"
   },
   {
    "duration": 164,
    "start_time": "2022-11-08T15:52:40.499Z"
   },
   {
    "duration": 16,
    "start_time": "2022-11-08T15:52:40.666Z"
   },
   {
    "duration": 43,
    "start_time": "2022-11-08T15:52:40.683Z"
   },
   {
    "duration": 512,
    "start_time": "2022-11-08T15:52:40.729Z"
   },
   {
    "duration": 8,
    "start_time": "2022-11-08T15:52:41.242Z"
   },
   {
    "duration": 49,
    "start_time": "2022-11-08T15:52:41.251Z"
   },
   {
    "duration": 23,
    "start_time": "2022-11-08T15:52:41.319Z"
   },
   {
    "duration": 94,
    "start_time": "2022-11-08T15:52:41.344Z"
   },
   {
    "duration": 60,
    "start_time": "2022-11-08T15:52:41.440Z"
   },
   {
    "duration": 86,
    "start_time": "2022-11-08T15:52:41.501Z"
   },
   {
    "duration": 179,
    "start_time": "2022-11-08T15:52:41.590Z"
   },
   {
    "duration": 158,
    "start_time": "2022-11-08T15:52:41.771Z"
   },
   {
    "duration": 3,
    "start_time": "2022-11-08T15:52:41.932Z"
   },
   {
    "duration": 19,
    "start_time": "2022-11-08T15:52:41.937Z"
   },
   {
    "duration": 14,
    "start_time": "2022-11-08T15:52:41.958Z"
   },
   {
    "duration": 10,
    "start_time": "2022-11-08T15:52:41.974Z"
   },
   {
    "duration": 20,
    "start_time": "2022-11-08T15:52:41.986Z"
   },
   {
    "duration": 304,
    "start_time": "2022-11-08T15:52:42.008Z"
   },
   {
    "duration": 50,
    "start_time": "2022-11-08T15:52:42.319Z"
   },
   {
    "duration": 49,
    "start_time": "2022-11-08T15:52:42.371Z"
   },
   {
    "duration": 4,
    "start_time": "2022-11-08T15:52:42.422Z"
   },
   {
    "duration": 16,
    "start_time": "2022-11-08T15:52:42.428Z"
   },
   {
    "duration": 34,
    "start_time": "2022-11-08T15:52:42.446Z"
   },
   {
    "duration": 552,
    "start_time": "2022-11-08T15:52:42.482Z"
   },
   {
    "duration": 29,
    "start_time": "2022-11-08T15:52:43.036Z"
   },
   {
    "duration": 90,
    "start_time": "2022-11-08T15:52:43.067Z"
   },
   {
    "duration": 21,
    "start_time": "2022-11-08T15:52:43.158Z"
   },
   {
    "duration": 15,
    "start_time": "2022-11-08T15:52:43.182Z"
   },
   {
    "duration": 31,
    "start_time": "2022-11-08T15:52:43.199Z"
   },
   {
    "duration": 18,
    "start_time": "2022-11-08T15:52:43.232Z"
   },
   {
    "duration": 17,
    "start_time": "2022-11-08T15:52:43.253Z"
   },
   {
    "duration": 32,
    "start_time": "2022-11-08T15:52:43.272Z"
   },
   {
    "duration": 16,
    "start_time": "2022-11-08T15:52:43.306Z"
   },
   {
    "duration": 15,
    "start_time": "2022-11-08T15:52:43.324Z"
   },
   {
    "duration": 187,
    "start_time": "2022-11-08T15:52:43.342Z"
   },
   {
    "duration": 49,
    "start_time": "2022-11-08T19:11:12.289Z"
   },
   {
    "duration": 842,
    "start_time": "2022-11-08T19:11:19.027Z"
   },
   {
    "duration": 495,
    "start_time": "2022-11-08T19:11:19.872Z"
   },
   {
    "duration": 17,
    "start_time": "2022-11-08T19:11:20.369Z"
   },
   {
    "duration": 20,
    "start_time": "2022-11-08T19:11:20.388Z"
   },
   {
    "duration": 452,
    "start_time": "2022-11-08T19:11:20.410Z"
   },
   {
    "duration": 8,
    "start_time": "2022-11-08T19:11:20.864Z"
   },
   {
    "duration": 55,
    "start_time": "2022-11-08T19:11:20.873Z"
   },
   {
    "duration": 15,
    "start_time": "2022-11-08T19:11:20.930Z"
   },
   {
    "duration": 60,
    "start_time": "2022-11-08T19:11:20.947Z"
   },
   {
    "duration": 58,
    "start_time": "2022-11-08T19:11:21.027Z"
   },
   {
    "duration": 82,
    "start_time": "2022-11-08T19:11:21.086Z"
   },
   {
    "duration": 170,
    "start_time": "2022-11-08T19:11:21.170Z"
   },
   {
    "duration": 141,
    "start_time": "2022-11-08T19:11:21.341Z"
   },
   {
    "duration": 3,
    "start_time": "2022-11-08T19:11:21.484Z"
   },
   {
    "duration": 9,
    "start_time": "2022-11-08T19:11:21.489Z"
   },
   {
    "duration": 35,
    "start_time": "2022-11-08T19:11:21.500Z"
   },
   {
    "duration": 5,
    "start_time": "2022-11-08T19:11:21.537Z"
   },
   {
    "duration": 6,
    "start_time": "2022-11-08T19:11:21.544Z"
   },
   {
    "duration": 312,
    "start_time": "2022-11-08T19:11:21.552Z"
   },
   {
    "duration": 37,
    "start_time": "2022-11-08T19:11:21.866Z"
   },
   {
    "duration": 59,
    "start_time": "2022-11-08T19:11:21.905Z"
   },
   {
    "duration": 5,
    "start_time": "2022-11-08T19:11:21.966Z"
   },
   {
    "duration": 16,
    "start_time": "2022-11-08T19:11:21.973Z"
   },
   {
    "duration": 38,
    "start_time": "2022-11-08T19:11:21.991Z"
   },
   {
    "duration": 514,
    "start_time": "2022-11-08T19:11:22.030Z"
   },
   {
    "duration": 25,
    "start_time": "2022-11-08T19:11:22.546Z"
   },
   {
    "duration": 73,
    "start_time": "2022-11-08T19:11:22.572Z"
   },
   {
    "duration": 15,
    "start_time": "2022-11-08T19:11:22.649Z"
   },
   {
    "duration": 10,
    "start_time": "2022-11-08T19:11:22.666Z"
   },
   {
    "duration": 23,
    "start_time": "2022-11-08T19:11:22.678Z"
   },
   {
    "duration": 26,
    "start_time": "2022-11-08T19:11:22.703Z"
   },
   {
    "duration": 8,
    "start_time": "2022-11-08T19:11:22.730Z"
   },
   {
    "duration": 10,
    "start_time": "2022-11-08T19:11:22.740Z"
   },
   {
    "duration": 12,
    "start_time": "2022-11-08T19:11:22.752Z"
   },
   {
    "duration": 8,
    "start_time": "2022-11-08T19:11:22.766Z"
   },
   {
    "duration": 5,
    "start_time": "2022-11-08T19:11:22.776Z"
   },
   {
    "duration": 148,
    "start_time": "2022-11-08T19:11:22.782Z"
   },
   {
    "duration": 12,
    "start_time": "2022-11-08T19:11:48.327Z"
   },
   {
    "duration": 53,
    "start_time": "2022-11-09T04:10:25.680Z"
   },
   {
    "duration": 744,
    "start_time": "2022-11-09T04:10:31.152Z"
   },
   {
    "duration": 607,
    "start_time": "2022-11-09T04:10:31.898Z"
   },
   {
    "duration": 14,
    "start_time": "2022-11-09T04:10:32.506Z"
   },
   {
    "duration": 19,
    "start_time": "2022-11-09T04:10:32.522Z"
   },
   {
    "duration": 423,
    "start_time": "2022-11-09T04:10:32.542Z"
   },
   {
    "duration": 7,
    "start_time": "2022-11-09T04:10:32.967Z"
   },
   {
    "duration": 46,
    "start_time": "2022-11-09T04:10:32.976Z"
   },
   {
    "duration": 13,
    "start_time": "2022-11-09T04:10:33.024Z"
   },
   {
    "duration": 66,
    "start_time": "2022-11-09T04:10:33.039Z"
   },
   {
    "duration": 53,
    "start_time": "2022-11-09T04:10:33.108Z"
   },
   {
    "duration": 85,
    "start_time": "2022-11-09T04:10:33.163Z"
   },
   {
    "duration": 190,
    "start_time": "2022-11-09T04:10:33.251Z"
   },
   {
    "duration": 154,
    "start_time": "2022-11-09T04:10:33.442Z"
   },
   {
    "duration": 3,
    "start_time": "2022-11-09T04:10:33.597Z"
   },
   {
    "duration": 11,
    "start_time": "2022-11-09T04:10:33.602Z"
   },
   {
    "duration": 23,
    "start_time": "2022-11-09T04:10:33.615Z"
   },
   {
    "duration": 7,
    "start_time": "2022-11-09T04:10:33.640Z"
   },
   {
    "duration": 8,
    "start_time": "2022-11-09T04:10:33.648Z"
   },
   {
    "duration": 269,
    "start_time": "2022-11-09T04:10:33.657Z"
   },
   {
    "duration": 27,
    "start_time": "2022-11-09T04:10:33.927Z"
   },
   {
    "duration": 44,
    "start_time": "2022-11-09T04:10:33.956Z"
   },
   {
    "duration": 4,
    "start_time": "2022-11-09T04:10:34.001Z"
   },
   {
    "duration": 19,
    "start_time": "2022-11-09T04:10:34.007Z"
   },
   {
    "duration": 27,
    "start_time": "2022-11-09T04:10:34.029Z"
   },
   {
    "duration": 665,
    "start_time": "2022-11-09T04:10:34.058Z"
   },
   {
    "duration": 73,
    "start_time": "2022-11-09T04:10:34.725Z"
   },
   {
    "duration": 122,
    "start_time": "2022-11-09T04:10:34.799Z"
   },
   {
    "duration": 63,
    "start_time": "2022-11-09T04:10:34.924Z"
   },
   {
    "duration": 9,
    "start_time": "2022-11-09T04:10:34.988Z"
   },
   {
    "duration": 24,
    "start_time": "2022-11-09T04:10:34.998Z"
   },
   {
    "duration": 9,
    "start_time": "2022-11-09T04:10:35.024Z"
   },
   {
    "duration": 5,
    "start_time": "2022-11-09T04:10:35.086Z"
   },
   {
    "duration": 11,
    "start_time": "2022-11-09T04:10:35.093Z"
   },
   {
    "duration": 6,
    "start_time": "2022-11-09T04:10:35.105Z"
   },
   {
    "duration": 10,
    "start_time": "2022-11-09T04:10:35.112Z"
   },
   {
    "duration": 12,
    "start_time": "2022-11-09T04:10:35.124Z"
   },
   {
    "duration": 9,
    "start_time": "2022-11-09T04:10:35.137Z"
   },
   {
    "duration": 2,
    "start_time": "2022-11-09T04:10:35.186Z"
   },
   {
    "duration": 248,
    "start_time": "2022-11-09T04:10:35.190Z"
   },
   {
    "duration": 8,
    "start_time": "2022-11-09T04:10:40.804Z"
   },
   {
    "duration": 18,
    "start_time": "2022-11-09T04:11:22.250Z"
   },
   {
    "duration": 14,
    "start_time": "2022-11-09T04:11:28.087Z"
   },
   {
    "duration": 14,
    "start_time": "2022-11-09T04:11:43.668Z"
   },
   {
    "duration": 28,
    "start_time": "2022-11-09T04:11:48.236Z"
   },
   {
    "duration": 28,
    "start_time": "2022-11-09T04:11:54.452Z"
   },
   {
    "duration": 28,
    "start_time": "2022-11-09T04:12:09.119Z"
   },
   {
    "duration": 31,
    "start_time": "2022-11-09T04:12:15.390Z"
   },
   {
    "duration": 31,
    "start_time": "2022-11-09T04:12:25.791Z"
   },
   {
    "duration": 29,
    "start_time": "2022-11-09T04:12:33.321Z"
   },
   {
    "duration": 32,
    "start_time": "2022-11-09T04:13:22.153Z"
   },
   {
    "duration": 101,
    "start_time": "2022-11-09T04:15:45.627Z"
   },
   {
    "duration": 29,
    "start_time": "2022-11-09T04:15:54.651Z"
   },
   {
    "duration": 31,
    "start_time": "2022-11-09T04:16:02.986Z"
   },
   {
    "duration": 38,
    "start_time": "2022-11-09T04:16:27.600Z"
   },
   {
    "duration": 2,
    "start_time": "2022-11-09T04:17:31.916Z"
   },
   {
    "duration": 30,
    "start_time": "2022-11-09T04:18:45.635Z"
   },
   {
    "duration": 31,
    "start_time": "2022-11-09T04:21:14.492Z"
   },
   {
    "duration": 29,
    "start_time": "2022-11-09T04:29:43.015Z"
   },
   {
    "duration": 29,
    "start_time": "2022-11-09T04:30:05.238Z"
   },
   {
    "duration": 32,
    "start_time": "2022-11-09T04:30:12.043Z"
   },
   {
    "duration": 9,
    "start_time": "2022-11-09T04:52:01.032Z"
   },
   {
    "duration": 22,
    "start_time": "2022-11-09T04:53:22.279Z"
   },
   {
    "duration": 16,
    "start_time": "2022-11-09T04:53:27.769Z"
   },
   {
    "duration": 16,
    "start_time": "2022-11-09T04:53:30.918Z"
   },
   {
    "duration": 75,
    "start_time": "2022-11-09T04:54:07.482Z"
   },
   {
    "duration": 74,
    "start_time": "2022-11-09T04:54:15.858Z"
   },
   {
    "duration": 982,
    "start_time": "2022-11-09T04:55:16.615Z"
   },
   {
    "duration": 81,
    "start_time": "2022-11-09T04:55:26.844Z"
   },
   {
    "duration": 68,
    "start_time": "2022-11-09T04:55:34.941Z"
   },
   {
    "duration": 1192,
    "start_time": "2022-11-09T04:56:52.971Z"
   },
   {
    "duration": 81,
    "start_time": "2022-11-09T04:57:24.042Z"
   },
   {
    "duration": 63,
    "start_time": "2022-11-09T04:57:33.417Z"
   },
   {
    "duration": 6,
    "start_time": "2022-11-09T04:58:42.686Z"
   },
   {
    "duration": 7,
    "start_time": "2022-11-09T04:58:50.785Z"
   },
   {
    "duration": 3,
    "start_time": "2022-11-09T04:59:03.061Z"
   },
   {
    "duration": 8,
    "start_time": "2022-11-09T04:59:10.047Z"
   },
   {
    "duration": 7,
    "start_time": "2022-11-09T04:59:12.910Z"
   },
   {
    "duration": 610,
    "start_time": "2022-11-09T04:59:31.876Z"
   },
   {
    "duration": 152,
    "start_time": "2022-11-09T04:59:32.490Z"
   },
   {
    "duration": 14,
    "start_time": "2022-11-09T04:59:32.643Z"
   },
   {
    "duration": 31,
    "start_time": "2022-11-09T04:59:32.658Z"
   },
   {
    "duration": 401,
    "start_time": "2022-11-09T04:59:32.690Z"
   },
   {
    "duration": 9,
    "start_time": "2022-11-09T04:59:33.093Z"
   },
   {
    "duration": 76,
    "start_time": "2022-11-09T04:59:33.105Z"
   },
   {
    "duration": 23,
    "start_time": "2022-11-09T04:59:33.183Z"
   },
   {
    "duration": 63,
    "start_time": "2022-11-09T04:59:33.208Z"
   },
   {
    "duration": 66,
    "start_time": "2022-11-09T04:59:33.273Z"
   },
   {
    "duration": 76,
    "start_time": "2022-11-09T04:59:33.340Z"
   },
   {
    "duration": 193,
    "start_time": "2022-11-09T04:59:33.418Z"
   },
   {
    "duration": 140,
    "start_time": "2022-11-09T04:59:33.613Z"
   },
   {
    "duration": 3,
    "start_time": "2022-11-09T04:59:33.755Z"
   },
   {
    "duration": 8,
    "start_time": "2022-11-09T04:59:33.759Z"
   },
   {
    "duration": 15,
    "start_time": "2022-11-09T04:59:33.788Z"
   },
   {
    "duration": 6,
    "start_time": "2022-11-09T04:59:33.805Z"
   },
   {
    "duration": 7,
    "start_time": "2022-11-09T04:59:33.812Z"
   },
   {
    "duration": 279,
    "start_time": "2022-11-09T04:59:33.821Z"
   },
   {
    "duration": 32,
    "start_time": "2022-11-09T04:59:34.102Z"
   },
   {
    "duration": 28,
    "start_time": "2022-11-09T04:59:34.145Z"
   },
   {
    "duration": 6,
    "start_time": "2022-11-09T04:59:34.190Z"
   },
   {
    "duration": 20,
    "start_time": "2022-11-09T04:59:34.198Z"
   },
   {
    "duration": 26,
    "start_time": "2022-11-09T04:59:34.220Z"
   },
   {
    "duration": 473,
    "start_time": "2022-11-09T04:59:34.248Z"
   },
   {
    "duration": 22,
    "start_time": "2022-11-09T04:59:34.722Z"
   },
   {
    "duration": 76,
    "start_time": "2022-11-09T04:59:34.745Z"
   },
   {
    "duration": 15,
    "start_time": "2022-11-09T04:59:34.824Z"
   },
   {
    "duration": 7,
    "start_time": "2022-11-09T04:59:34.840Z"
   },
   {
    "duration": 43,
    "start_time": "2022-11-09T04:59:34.848Z"
   },
   {
    "duration": 9,
    "start_time": "2022-11-09T04:59:34.894Z"
   },
   {
    "duration": 68,
    "start_time": "2022-11-09T04:59:34.904Z"
   },
   {
    "duration": 14,
    "start_time": "2022-11-09T04:59:34.974Z"
   },
   {
    "duration": 28,
    "start_time": "2022-11-09T04:59:34.989Z"
   },
   {
    "duration": 10,
    "start_time": "2022-11-09T04:59:35.019Z"
   },
   {
    "duration": 8,
    "start_time": "2022-11-09T04:59:35.030Z"
   },
   {
    "duration": 8,
    "start_time": "2022-11-09T04:59:35.039Z"
   },
   {
    "duration": 10,
    "start_time": "2022-11-09T04:59:35.049Z"
   },
   {
    "duration": 9,
    "start_time": "2022-11-09T04:59:35.060Z"
   },
   {
    "duration": 167,
    "start_time": "2022-11-09T04:59:35.070Z"
   },
   {
    "duration": 2,
    "start_time": "2022-11-09T04:59:35.239Z"
   },
   {
    "duration": 85,
    "start_time": "2022-11-09T05:01:02.485Z"
   },
   {
    "duration": 8,
    "start_time": "2022-11-09T05:01:07.848Z"
   },
   {
    "duration": 9,
    "start_time": "2022-11-09T05:01:49.511Z"
   },
   {
    "duration": 11,
    "start_time": "2022-11-09T05:01:57.292Z"
   },
   {
    "duration": 6,
    "start_time": "2022-11-09T05:02:29.706Z"
   },
   {
    "duration": 1173,
    "start_time": "2022-11-09T05:02:39.639Z"
   },
   {
    "duration": 1072,
    "start_time": "2022-11-09T05:02:48.644Z"
   },
   {
    "duration": 6,
    "start_time": "2022-11-09T05:02:52.499Z"
   },
   {
    "duration": 6,
    "start_time": "2022-11-09T05:02:54.344Z"
   },
   {
    "duration": 10,
    "start_time": "2022-11-09T05:03:02.725Z"
   },
   {
    "duration": 6,
    "start_time": "2022-11-09T05:03:53.625Z"
   },
   {
    "duration": 10,
    "start_time": "2022-11-09T05:04:00.337Z"
   },
   {
    "duration": 11,
    "start_time": "2022-11-09T05:04:33.941Z"
   },
   {
    "duration": 10,
    "start_time": "2022-11-09T05:04:42.509Z"
   },
   {
    "duration": 611,
    "start_time": "2022-11-09T05:04:52.299Z"
   },
   {
    "duration": 145,
    "start_time": "2022-11-09T05:04:52.912Z"
   },
   {
    "duration": 15,
    "start_time": "2022-11-09T05:04:53.059Z"
   },
   {
    "duration": 28,
    "start_time": "2022-11-09T05:04:53.076Z"
   },
   {
    "duration": 451,
    "start_time": "2022-11-09T05:04:53.106Z"
   },
   {
    "duration": 7,
    "start_time": "2022-11-09T05:04:53.559Z"
   },
   {
    "duration": 48,
    "start_time": "2022-11-09T05:04:53.568Z"
   },
   {
    "duration": 17,
    "start_time": "2022-11-09T05:04:53.620Z"
   },
   {
    "duration": 84,
    "start_time": "2022-11-09T05:04:53.639Z"
   },
   {
    "duration": 50,
    "start_time": "2022-11-09T05:04:53.726Z"
   },
   {
    "duration": 60,
    "start_time": "2022-11-09T05:04:53.786Z"
   },
   {
    "duration": 177,
    "start_time": "2022-11-09T05:04:53.848Z"
   },
   {
    "duration": 141,
    "start_time": "2022-11-09T05:04:54.026Z"
   },
   {
    "duration": 4,
    "start_time": "2022-11-09T05:04:54.185Z"
   },
   {
    "duration": 12,
    "start_time": "2022-11-09T05:04:54.191Z"
   },
   {
    "duration": 17,
    "start_time": "2022-11-09T05:04:54.205Z"
   },
   {
    "duration": 6,
    "start_time": "2022-11-09T05:04:54.224Z"
   },
   {
    "duration": 5,
    "start_time": "2022-11-09T05:04:54.232Z"
   },
   {
    "duration": 311,
    "start_time": "2022-11-09T05:04:54.239Z"
   },
   {
    "duration": 35,
    "start_time": "2022-11-09T05:04:54.552Z"
   },
   {
    "duration": 29,
    "start_time": "2022-11-09T05:04:54.589Z"
   },
   {
    "duration": 4,
    "start_time": "2022-11-09T05:04:54.619Z"
   },
   {
    "duration": 32,
    "start_time": "2022-11-09T05:04:54.625Z"
   },
   {
    "duration": 68,
    "start_time": "2022-11-09T05:04:54.659Z"
   },
   {
    "duration": 480,
    "start_time": "2022-11-09T05:04:54.729Z"
   },
   {
    "duration": 35,
    "start_time": "2022-11-09T05:04:55.211Z"
   },
   {
    "duration": 78,
    "start_time": "2022-11-09T05:04:55.247Z"
   },
   {
    "duration": 21,
    "start_time": "2022-11-09T05:04:55.330Z"
   },
   {
    "duration": 21,
    "start_time": "2022-11-09T05:04:55.353Z"
   },
   {
    "duration": 57,
    "start_time": "2022-11-09T05:04:55.376Z"
   },
   {
    "duration": 9,
    "start_time": "2022-11-09T05:04:55.434Z"
   },
   {
    "duration": 96,
    "start_time": "2022-11-09T05:04:55.445Z"
   },
   {
    "duration": 7,
    "start_time": "2022-11-09T05:04:55.543Z"
   },
   {
    "duration": 16,
    "start_time": "2022-11-09T05:04:55.551Z"
   },
   {
    "duration": 22,
    "start_time": "2022-11-09T05:04:55.569Z"
   },
   {
    "duration": 12,
    "start_time": "2022-11-09T05:04:55.592Z"
   },
   {
    "duration": 22,
    "start_time": "2022-11-09T05:04:55.606Z"
   },
   {
    "duration": 10,
    "start_time": "2022-11-09T05:04:55.629Z"
   },
   {
    "duration": 28,
    "start_time": "2022-11-09T05:04:55.641Z"
   },
   {
    "duration": 212,
    "start_time": "2022-11-09T05:04:55.670Z"
   },
   {
    "duration": 3,
    "start_time": "2022-11-09T05:04:55.884Z"
   },
   {
    "duration": 403,
    "start_time": "2022-11-09T05:06:54.776Z"
   },
   {
    "duration": 7,
    "start_time": "2022-11-09T05:10:03.483Z"
   },
   {
    "duration": 153,
    "start_time": "2022-11-09T05:28:47.411Z"
   },
   {
    "duration": 7,
    "start_time": "2022-11-09T05:29:05.268Z"
   },
   {
    "duration": 120,
    "start_time": "2022-11-09T05:30:27.811Z"
   },
   {
    "duration": 103,
    "start_time": "2022-11-09T05:30:55.452Z"
   },
   {
    "duration": 94,
    "start_time": "2022-11-09T05:31:37.673Z"
   },
   {
    "duration": 118,
    "start_time": "2022-11-09T05:31:47.547Z"
   },
   {
    "duration": 97,
    "start_time": "2022-11-09T05:31:57.807Z"
   },
   {
    "duration": 85,
    "start_time": "2022-11-09T05:32:02.599Z"
   },
   {
    "duration": 104,
    "start_time": "2022-11-09T05:32:39.267Z"
   },
   {
    "duration": 65,
    "start_time": "2022-11-09T05:36:56.085Z"
   },
   {
    "duration": 6,
    "start_time": "2022-11-09T05:37:21.759Z"
   },
   {
    "duration": 1116,
    "start_time": "2022-11-09T05:37:28.811Z"
   },
   {
    "duration": 151,
    "start_time": "2022-11-09T05:37:29.930Z"
   },
   {
    "duration": 19,
    "start_time": "2022-11-09T05:37:30.083Z"
   },
   {
    "duration": 29,
    "start_time": "2022-11-09T05:37:30.104Z"
   },
   {
    "duration": 478,
    "start_time": "2022-11-09T05:37:30.134Z"
   },
   {
    "duration": 7,
    "start_time": "2022-11-09T05:37:30.614Z"
   },
   {
    "duration": 98,
    "start_time": "2022-11-09T05:37:30.622Z"
   },
   {
    "duration": 14,
    "start_time": "2022-11-09T05:37:30.722Z"
   },
   {
    "duration": 102,
    "start_time": "2022-11-09T05:37:30.738Z"
   },
   {
    "duration": 71,
    "start_time": "2022-11-09T05:37:30.843Z"
   },
   {
    "duration": 61,
    "start_time": "2022-11-09T05:37:30.916Z"
   },
   {
    "duration": 210,
    "start_time": "2022-11-09T05:37:30.987Z"
   },
   {
    "duration": 155,
    "start_time": "2022-11-09T05:37:31.199Z"
   },
   {
    "duration": 3,
    "start_time": "2022-11-09T05:37:31.356Z"
   },
   {
    "duration": 58,
    "start_time": "2022-11-09T05:37:31.360Z"
   },
   {
    "duration": 45,
    "start_time": "2022-11-09T05:37:31.419Z"
   },
   {
    "duration": 50,
    "start_time": "2022-11-09T05:37:31.465Z"
   },
   {
    "duration": 14,
    "start_time": "2022-11-09T05:37:31.517Z"
   },
   {
    "duration": 280,
    "start_time": "2022-11-09T05:37:31.533Z"
   },
   {
    "duration": 25,
    "start_time": "2022-11-09T05:37:31.815Z"
   },
   {
    "duration": 48,
    "start_time": "2022-11-09T05:37:31.842Z"
   },
   {
    "duration": 5,
    "start_time": "2022-11-09T05:37:31.893Z"
   },
   {
    "duration": 31,
    "start_time": "2022-11-09T05:37:31.900Z"
   },
   {
    "duration": 49,
    "start_time": "2022-11-09T05:37:31.932Z"
   },
   {
    "duration": 469,
    "start_time": "2022-11-09T05:37:31.983Z"
   },
   {
    "duration": 32,
    "start_time": "2022-11-09T05:37:32.453Z"
   },
   {
    "duration": 63,
    "start_time": "2022-11-09T05:37:32.488Z"
   },
   {
    "duration": 20,
    "start_time": "2022-11-09T05:37:32.555Z"
   },
   {
    "duration": 5,
    "start_time": "2022-11-09T05:37:32.586Z"
   },
   {
    "duration": 43,
    "start_time": "2022-11-09T05:37:32.593Z"
   },
   {
    "duration": 9,
    "start_time": "2022-11-09T05:37:32.638Z"
   },
   {
    "duration": 7,
    "start_time": "2022-11-09T05:37:32.648Z"
   },
   {
    "duration": 86,
    "start_time": "2022-11-09T05:37:32.657Z"
   },
   {
    "duration": 4,
    "start_time": "2022-11-09T05:37:32.745Z"
   },
   {
    "duration": 7,
    "start_time": "2022-11-09T05:37:32.751Z"
   },
   {
    "duration": 13,
    "start_time": "2022-11-09T05:37:32.760Z"
   },
   {
    "duration": 10,
    "start_time": "2022-11-09T05:37:32.787Z"
   },
   {
    "duration": 26,
    "start_time": "2022-11-09T05:37:32.799Z"
   },
   {
    "duration": 19,
    "start_time": "2022-11-09T05:37:32.827Z"
   },
   {
    "duration": 6,
    "start_time": "2022-11-09T05:37:32.848Z"
   },
   {
    "duration": 9,
    "start_time": "2022-11-09T05:37:32.855Z"
   },
   {
    "duration": 6,
    "start_time": "2022-11-09T05:37:32.865Z"
   },
   {
    "duration": 5,
    "start_time": "2022-11-09T05:37:32.873Z"
   },
   {
    "duration": 202,
    "start_time": "2022-11-09T05:37:32.880Z"
   },
   {
    "duration": 3,
    "start_time": "2022-11-09T05:37:33.085Z"
   },
   {
    "duration": 4,
    "start_time": "2022-11-09T05:38:51.818Z"
   },
   {
    "duration": 27,
    "start_time": "2022-11-09T05:39:40.579Z"
   },
   {
    "duration": 6,
    "start_time": "2022-11-09T05:39:56.891Z"
   },
   {
    "duration": 5,
    "start_time": "2022-11-09T05:40:00.975Z"
   },
   {
    "duration": 7,
    "start_time": "2022-11-09T05:40:04.738Z"
   },
   {
    "duration": 6,
    "start_time": "2022-11-09T05:41:30.949Z"
   },
   {
    "duration": 1054,
    "start_time": "2022-11-09T05:41:35.942Z"
   },
   {
    "duration": 152,
    "start_time": "2022-11-09T05:41:36.998Z"
   },
   {
    "duration": 18,
    "start_time": "2022-11-09T05:41:37.152Z"
   },
   {
    "duration": 31,
    "start_time": "2022-11-09T05:41:37.171Z"
   },
   {
    "duration": 454,
    "start_time": "2022-11-09T05:41:37.203Z"
   },
   {
    "duration": 6,
    "start_time": "2022-11-09T05:41:37.659Z"
   },
   {
    "duration": 47,
    "start_time": "2022-11-09T05:41:37.666Z"
   },
   {
    "duration": 13,
    "start_time": "2022-11-09T05:41:37.715Z"
   },
   {
    "duration": 62,
    "start_time": "2022-11-09T05:41:37.730Z"
   },
   {
    "duration": 49,
    "start_time": "2022-11-09T05:41:37.794Z"
   },
   {
    "duration": 74,
    "start_time": "2022-11-09T05:41:37.845Z"
   },
   {
    "duration": 174,
    "start_time": "2022-11-09T05:41:37.921Z"
   },
   {
    "duration": 127,
    "start_time": "2022-11-09T05:41:38.096Z"
   },
   {
    "duration": 4,
    "start_time": "2022-11-09T05:41:38.224Z"
   },
   {
    "duration": 27,
    "start_time": "2022-11-09T05:41:38.229Z"
   },
   {
    "duration": 38,
    "start_time": "2022-11-09T05:41:38.258Z"
   },
   {
    "duration": 18,
    "start_time": "2022-11-09T05:41:38.298Z"
   },
   {
    "duration": 14,
    "start_time": "2022-11-09T05:41:38.317Z"
   },
   {
    "duration": 255,
    "start_time": "2022-11-09T05:41:38.332Z"
   },
   {
    "duration": 25,
    "start_time": "2022-11-09T05:41:38.588Z"
   },
   {
    "duration": 36,
    "start_time": "2022-11-09T05:41:38.614Z"
   },
   {
    "duration": 4,
    "start_time": "2022-11-09T05:41:38.651Z"
   },
   {
    "duration": 9,
    "start_time": "2022-11-09T05:41:38.657Z"
   },
   {
    "duration": 38,
    "start_time": "2022-11-09T05:41:38.668Z"
   },
   {
    "duration": 402,
    "start_time": "2022-11-09T05:41:38.707Z"
   },
   {
    "duration": 22,
    "start_time": "2022-11-09T05:41:39.110Z"
   },
   {
    "duration": 68,
    "start_time": "2022-11-09T05:41:39.133Z"
   },
   {
    "duration": 14,
    "start_time": "2022-11-09T05:41:39.205Z"
   },
   {
    "duration": 11,
    "start_time": "2022-11-09T05:41:39.221Z"
   },
   {
    "duration": 51,
    "start_time": "2022-11-09T05:41:39.233Z"
   },
   {
    "duration": 13,
    "start_time": "2022-11-09T05:41:39.285Z"
   },
   {
    "duration": 7,
    "start_time": "2022-11-09T05:41:39.300Z"
   },
   {
    "duration": 81,
    "start_time": "2022-11-09T05:41:39.309Z"
   },
   {
    "duration": 3,
    "start_time": "2022-11-09T05:41:39.392Z"
   },
   {
    "duration": 14,
    "start_time": "2022-11-09T05:41:39.397Z"
   },
   {
    "duration": 13,
    "start_time": "2022-11-09T05:41:39.413Z"
   },
   {
    "duration": 26,
    "start_time": "2022-11-09T05:41:39.427Z"
   },
   {
    "duration": 25,
    "start_time": "2022-11-09T05:41:39.455Z"
   },
   {
    "duration": 13,
    "start_time": "2022-11-09T05:41:39.481Z"
   },
   {
    "duration": 12,
    "start_time": "2022-11-09T05:41:39.496Z"
   },
   {
    "duration": 24,
    "start_time": "2022-11-09T05:41:39.509Z"
   },
   {
    "duration": 23,
    "start_time": "2022-11-09T05:41:39.535Z"
   },
   {
    "duration": 13,
    "start_time": "2022-11-09T05:41:39.560Z"
   },
   {
    "duration": 159,
    "start_time": "2022-11-09T05:41:39.574Z"
   },
   {
    "duration": 2,
    "start_time": "2022-11-09T05:41:39.735Z"
   },
   {
    "duration": 5,
    "start_time": "2022-11-09T05:42:42.446Z"
   },
   {
    "duration": 7,
    "start_time": "2022-11-09T05:43:00.468Z"
   },
   {
    "duration": 8,
    "start_time": "2022-11-09T05:43:45.168Z"
   },
   {
    "duration": 7,
    "start_time": "2022-11-09T05:44:05.958Z"
   },
   {
    "duration": 129,
    "start_time": "2022-11-09T05:44:42.756Z"
   },
   {
    "duration": 10,
    "start_time": "2022-11-09T05:44:45.954Z"
   },
   {
    "duration": 12,
    "start_time": "2022-11-09T05:45:13.095Z"
   },
   {
    "duration": 1069,
    "start_time": "2022-11-09T05:45:42.262Z"
   },
   {
    "duration": 146,
    "start_time": "2022-11-09T05:45:43.333Z"
   },
   {
    "duration": 16,
    "start_time": "2022-11-09T05:45:43.480Z"
   },
   {
    "duration": 19,
    "start_time": "2022-11-09T05:45:43.497Z"
   },
   {
    "duration": 426,
    "start_time": "2022-11-09T05:45:43.517Z"
   },
   {
    "duration": 6,
    "start_time": "2022-11-09T05:45:43.945Z"
   },
   {
    "duration": 45,
    "start_time": "2022-11-09T05:45:43.953Z"
   },
   {
    "duration": 13,
    "start_time": "2022-11-09T05:45:43.999Z"
   },
   {
    "duration": 64,
    "start_time": "2022-11-09T05:45:44.014Z"
   },
   {
    "duration": 50,
    "start_time": "2022-11-09T05:45:44.085Z"
   },
   {
    "duration": 79,
    "start_time": "2022-11-09T05:45:44.136Z"
   },
   {
    "duration": 182,
    "start_time": "2022-11-09T05:45:44.217Z"
   },
   {
    "duration": 135,
    "start_time": "2022-11-09T05:45:44.400Z"
   },
   {
    "duration": 3,
    "start_time": "2022-11-09T05:45:44.536Z"
   },
   {
    "duration": 12,
    "start_time": "2022-11-09T05:45:44.541Z"
   },
   {
    "duration": 32,
    "start_time": "2022-11-09T05:45:44.554Z"
   },
   {
    "duration": 4,
    "start_time": "2022-11-09T05:45:44.588Z"
   },
   {
    "duration": 8,
    "start_time": "2022-11-09T05:45:44.594Z"
   },
   {
    "duration": 268,
    "start_time": "2022-11-09T05:45:44.603Z"
   },
   {
    "duration": 30,
    "start_time": "2022-11-09T05:45:44.873Z"
   },
   {
    "duration": 26,
    "start_time": "2022-11-09T05:45:44.904Z"
   },
   {
    "duration": 4,
    "start_time": "2022-11-09T05:45:44.932Z"
   },
   {
    "duration": 10,
    "start_time": "2022-11-09T05:45:44.937Z"
   },
   {
    "duration": 43,
    "start_time": "2022-11-09T05:45:44.949Z"
   },
   {
    "duration": 400,
    "start_time": "2022-11-09T05:45:44.994Z"
   },
   {
    "duration": 22,
    "start_time": "2022-11-09T05:45:45.396Z"
   },
   {
    "duration": 67,
    "start_time": "2022-11-09T05:45:45.419Z"
   },
   {
    "duration": 14,
    "start_time": "2022-11-09T05:45:45.489Z"
   },
   {
    "duration": 5,
    "start_time": "2022-11-09T05:45:45.504Z"
   },
   {
    "duration": 126,
    "start_time": "2022-11-09T05:45:45.511Z"
   },
   {
    "duration": 0,
    "start_time": "2022-11-09T05:45:45.639Z"
   },
   {
    "duration": 0,
    "start_time": "2022-11-09T05:45:45.639Z"
   },
   {
    "duration": 0,
    "start_time": "2022-11-09T05:45:45.640Z"
   },
   {
    "duration": 0,
    "start_time": "2022-11-09T05:45:45.642Z"
   },
   {
    "duration": 0,
    "start_time": "2022-11-09T05:45:45.643Z"
   },
   {
    "duration": 0,
    "start_time": "2022-11-09T05:45:45.644Z"
   },
   {
    "duration": 0,
    "start_time": "2022-11-09T05:45:45.645Z"
   },
   {
    "duration": 0,
    "start_time": "2022-11-09T05:45:45.646Z"
   },
   {
    "duration": 0,
    "start_time": "2022-11-09T05:45:45.647Z"
   },
   {
    "duration": 0,
    "start_time": "2022-11-09T05:45:45.648Z"
   },
   {
    "duration": 0,
    "start_time": "2022-11-09T05:45:45.650Z"
   },
   {
    "duration": 0,
    "start_time": "2022-11-09T05:45:45.651Z"
   },
   {
    "duration": 0,
    "start_time": "2022-11-09T05:45:45.652Z"
   },
   {
    "duration": 0,
    "start_time": "2022-11-09T05:45:45.653Z"
   },
   {
    "duration": 0,
    "start_time": "2022-11-09T05:45:45.654Z"
   },
   {
    "duration": 984,
    "start_time": "2022-11-09T05:46:08.232Z"
   },
   {
    "duration": 141,
    "start_time": "2022-11-09T05:46:09.218Z"
   },
   {
    "duration": 15,
    "start_time": "2022-11-09T05:46:09.360Z"
   },
   {
    "duration": 24,
    "start_time": "2022-11-09T05:46:09.378Z"
   },
   {
    "duration": 383,
    "start_time": "2022-11-09T05:46:09.404Z"
   },
   {
    "duration": 8,
    "start_time": "2022-11-09T05:46:09.789Z"
   },
   {
    "duration": 41,
    "start_time": "2022-11-09T05:46:09.799Z"
   },
   {
    "duration": 16,
    "start_time": "2022-11-09T05:46:09.842Z"
   },
   {
    "duration": 85,
    "start_time": "2022-11-09T05:46:09.860Z"
   },
   {
    "duration": 60,
    "start_time": "2022-11-09T05:46:09.947Z"
   },
   {
    "duration": 62,
    "start_time": "2022-11-09T05:46:10.008Z"
   },
   {
    "duration": 178,
    "start_time": "2022-11-09T05:46:10.072Z"
   },
   {
    "duration": 136,
    "start_time": "2022-11-09T05:46:10.252Z"
   },
   {
    "duration": 3,
    "start_time": "2022-11-09T05:46:10.390Z"
   },
   {
    "duration": 11,
    "start_time": "2022-11-09T05:46:10.395Z"
   },
   {
    "duration": 12,
    "start_time": "2022-11-09T05:46:10.408Z"
   },
   {
    "duration": 5,
    "start_time": "2022-11-09T05:46:10.421Z"
   },
   {
    "duration": 6,
    "start_time": "2022-11-09T05:46:10.428Z"
   },
   {
    "duration": 281,
    "start_time": "2022-11-09T05:46:10.436Z"
   },
   {
    "duration": 26,
    "start_time": "2022-11-09T05:46:10.719Z"
   },
   {
    "duration": 43,
    "start_time": "2022-11-09T05:46:10.747Z"
   },
   {
    "duration": 4,
    "start_time": "2022-11-09T05:46:10.792Z"
   },
   {
    "duration": 16,
    "start_time": "2022-11-09T05:46:10.798Z"
   },
   {
    "duration": 39,
    "start_time": "2022-11-09T05:46:10.815Z"
   },
   {
    "duration": 384,
    "start_time": "2022-11-09T05:46:10.855Z"
   },
   {
    "duration": 22,
    "start_time": "2022-11-09T05:46:11.240Z"
   },
   {
    "duration": 63,
    "start_time": "2022-11-09T05:46:11.263Z"
   },
   {
    "duration": 13,
    "start_time": "2022-11-09T05:46:11.330Z"
   },
   {
    "duration": 9,
    "start_time": "2022-11-09T05:46:11.344Z"
   },
   {
    "duration": 42,
    "start_time": "2022-11-09T05:46:11.354Z"
   },
   {
    "duration": 8,
    "start_time": "2022-11-09T05:46:11.398Z"
   },
   {
    "duration": 5,
    "start_time": "2022-11-09T05:46:11.407Z"
   },
   {
    "duration": 79,
    "start_time": "2022-11-09T05:46:11.413Z"
   },
   {
    "duration": 11,
    "start_time": "2022-11-09T05:46:11.494Z"
   },
   {
    "duration": 8,
    "start_time": "2022-11-09T05:46:11.507Z"
   },
   {
    "duration": 13,
    "start_time": "2022-11-09T05:46:11.516Z"
   },
   {
    "duration": 14,
    "start_time": "2022-11-09T05:46:11.531Z"
   },
   {
    "duration": 24,
    "start_time": "2022-11-09T05:46:11.547Z"
   },
   {
    "duration": 6,
    "start_time": "2022-11-09T05:46:11.572Z"
   },
   {
    "duration": 14,
    "start_time": "2022-11-09T05:46:11.579Z"
   },
   {
    "duration": 13,
    "start_time": "2022-11-09T05:46:11.594Z"
   },
   {
    "duration": 7,
    "start_time": "2022-11-09T05:46:11.608Z"
   },
   {
    "duration": 15,
    "start_time": "2022-11-09T05:46:11.616Z"
   },
   {
    "duration": 145,
    "start_time": "2022-11-09T05:46:11.632Z"
   },
   {
    "duration": 3,
    "start_time": "2022-11-09T05:46:11.778Z"
   },
   {
    "duration": 105,
    "start_time": "2022-11-09T05:47:16.965Z"
   },
   {
    "duration": 4,
    "start_time": "2022-11-09T05:47:33.240Z"
   },
   {
    "duration": 166,
    "start_time": "2022-11-09T05:47:33.246Z"
   },
   {
    "duration": 10,
    "start_time": "2022-11-09T05:47:33.414Z"
   },
   {
    "duration": 21,
    "start_time": "2022-11-09T05:47:33.426Z"
   },
   {
    "duration": 414,
    "start_time": "2022-11-09T05:47:33.448Z"
   },
   {
    "duration": 5,
    "start_time": "2022-11-09T05:47:33.864Z"
   },
   {
    "duration": 42,
    "start_time": "2022-11-09T05:47:33.870Z"
   },
   {
    "duration": 13,
    "start_time": "2022-11-09T05:47:33.914Z"
   },
   {
    "duration": 62,
    "start_time": "2022-11-09T05:47:33.929Z"
   },
   {
    "duration": 49,
    "start_time": "2022-11-09T05:47:33.992Z"
   },
   {
    "duration": 72,
    "start_time": "2022-11-09T05:47:34.042Z"
   },
   {
    "duration": 179,
    "start_time": "2022-11-09T05:47:34.116Z"
   },
   {
    "duration": 137,
    "start_time": "2022-11-09T05:47:34.297Z"
   },
   {
    "duration": 3,
    "start_time": "2022-11-09T05:47:34.435Z"
   },
   {
    "duration": 10,
    "start_time": "2022-11-09T05:47:34.440Z"
   },
   {
    "duration": 11,
    "start_time": "2022-11-09T05:47:34.451Z"
   },
   {
    "duration": 25,
    "start_time": "2022-11-09T05:47:34.463Z"
   },
   {
    "duration": 6,
    "start_time": "2022-11-09T05:47:34.490Z"
   },
   {
    "duration": 196,
    "start_time": "2022-11-09T05:47:34.497Z"
   },
   {
    "duration": 26,
    "start_time": "2022-11-09T05:47:34.694Z"
   },
   {
    "duration": 27,
    "start_time": "2022-11-09T05:47:34.721Z"
   },
   {
    "duration": 4,
    "start_time": "2022-11-09T05:47:34.750Z"
   },
   {
    "duration": 33,
    "start_time": "2022-11-09T05:47:34.755Z"
   },
   {
    "duration": 24,
    "start_time": "2022-11-09T05:47:34.791Z"
   },
   {
    "duration": 435,
    "start_time": "2022-11-09T05:47:34.817Z"
   },
   {
    "duration": 33,
    "start_time": "2022-11-09T05:47:35.254Z"
   },
   {
    "duration": 52,
    "start_time": "2022-11-09T05:47:35.289Z"
   },
   {
    "duration": 94,
    "start_time": "2022-11-09T05:47:35.342Z"
   },
   {
    "duration": 6,
    "start_time": "2022-11-09T05:47:35.438Z"
   },
   {
    "duration": 41,
    "start_time": "2022-11-09T05:47:35.446Z"
   },
   {
    "duration": 9,
    "start_time": "2022-11-09T05:47:35.488Z"
   },
   {
    "duration": 6,
    "start_time": "2022-11-09T05:47:35.498Z"
   },
   {
    "duration": 80,
    "start_time": "2022-11-09T05:47:35.505Z"
   },
   {
    "duration": 11,
    "start_time": "2022-11-09T05:47:35.587Z"
   },
   {
    "duration": 3,
    "start_time": "2022-11-09T05:47:35.599Z"
   },
   {
    "duration": 9,
    "start_time": "2022-11-09T05:47:35.604Z"
   },
   {
    "duration": 13,
    "start_time": "2022-11-09T05:47:35.614Z"
   },
   {
    "duration": 16,
    "start_time": "2022-11-09T05:47:35.628Z"
   },
   {
    "duration": 6,
    "start_time": "2022-11-09T05:47:35.646Z"
   },
   {
    "duration": 10,
    "start_time": "2022-11-09T05:47:35.653Z"
   },
   {
    "duration": 20,
    "start_time": "2022-11-09T05:47:35.665Z"
   },
   {
    "duration": 2,
    "start_time": "2022-11-09T05:47:35.687Z"
   },
   {
    "duration": 7,
    "start_time": "2022-11-09T05:47:35.691Z"
   },
   {
    "duration": 19,
    "start_time": "2022-11-09T05:47:35.699Z"
   },
   {
    "duration": 3,
    "start_time": "2022-11-09T05:47:35.720Z"
   },
   {
    "duration": 14,
    "start_time": "2022-11-09T05:48:37.632Z"
   },
   {
    "duration": 1055,
    "start_time": "2022-11-09T05:50:10.875Z"
   },
   {
    "duration": 154,
    "start_time": "2022-11-09T05:50:11.932Z"
   },
   {
    "duration": 17,
    "start_time": "2022-11-09T05:50:12.087Z"
   },
   {
    "duration": 26,
    "start_time": "2022-11-09T05:50:12.105Z"
   },
   {
    "duration": 437,
    "start_time": "2022-11-09T05:50:12.132Z"
   },
   {
    "duration": 7,
    "start_time": "2022-11-09T05:50:12.570Z"
   },
   {
    "duration": 38,
    "start_time": "2022-11-09T05:50:12.578Z"
   },
   {
    "duration": 14,
    "start_time": "2022-11-09T05:50:12.617Z"
   },
   {
    "duration": 73,
    "start_time": "2022-11-09T05:50:12.633Z"
   },
   {
    "duration": 48,
    "start_time": "2022-11-09T05:50:12.709Z"
   },
   {
    "duration": 70,
    "start_time": "2022-11-09T05:50:12.759Z"
   },
   {
    "duration": 180,
    "start_time": "2022-11-09T05:50:12.831Z"
   },
   {
    "duration": 133,
    "start_time": "2022-11-09T05:50:13.012Z"
   },
   {
    "duration": 3,
    "start_time": "2022-11-09T05:50:13.146Z"
   },
   {
    "duration": 13,
    "start_time": "2022-11-09T05:50:13.150Z"
   },
   {
    "duration": 25,
    "start_time": "2022-11-09T05:50:13.164Z"
   },
   {
    "duration": 5,
    "start_time": "2022-11-09T05:50:13.191Z"
   },
   {
    "duration": 9,
    "start_time": "2022-11-09T05:50:13.198Z"
   },
   {
    "duration": 261,
    "start_time": "2022-11-09T05:50:13.208Z"
   },
   {
    "duration": 29,
    "start_time": "2022-11-09T05:50:13.471Z"
   },
   {
    "duration": 28,
    "start_time": "2022-11-09T05:50:13.501Z"
   },
   {
    "duration": 4,
    "start_time": "2022-11-09T05:50:13.530Z"
   },
   {
    "duration": 11,
    "start_time": "2022-11-09T05:50:13.535Z"
   },
   {
    "duration": 48,
    "start_time": "2022-11-09T05:50:13.547Z"
   },
   {
    "duration": 394,
    "start_time": "2022-11-09T05:50:13.596Z"
   },
   {
    "duration": 24,
    "start_time": "2022-11-09T05:50:13.991Z"
   },
   {
    "duration": 68,
    "start_time": "2022-11-09T05:50:14.017Z"
   },
   {
    "duration": 14,
    "start_time": "2022-11-09T05:50:14.089Z"
   },
   {
    "duration": 3,
    "start_time": "2022-11-09T05:50:14.105Z"
   },
   {
    "duration": 29,
    "start_time": "2022-11-09T05:50:14.110Z"
   },
   {
    "duration": 8,
    "start_time": "2022-11-09T05:50:14.141Z"
   },
   {
    "duration": 5,
    "start_time": "2022-11-09T05:50:14.150Z"
   },
   {
    "duration": 91,
    "start_time": "2022-11-09T05:50:14.156Z"
   },
   {
    "duration": 12,
    "start_time": "2022-11-09T05:50:14.249Z"
   },
   {
    "duration": 2,
    "start_time": "2022-11-09T05:50:14.263Z"
   },
   {
    "duration": 23,
    "start_time": "2022-11-09T05:50:14.267Z"
   },
   {
    "duration": 13,
    "start_time": "2022-11-09T05:50:14.293Z"
   },
   {
    "duration": 14,
    "start_time": "2022-11-09T05:50:14.307Z"
   },
   {
    "duration": 7,
    "start_time": "2022-11-09T05:50:14.322Z"
   },
   {
    "duration": 5,
    "start_time": "2022-11-09T05:50:14.331Z"
   },
   {
    "duration": 10,
    "start_time": "2022-11-09T05:50:14.337Z"
   },
   {
    "duration": 7,
    "start_time": "2022-11-09T05:50:14.348Z"
   },
   {
    "duration": 8,
    "start_time": "2022-11-09T05:50:14.356Z"
   },
   {
    "duration": 153,
    "start_time": "2022-11-09T05:50:14.365Z"
   },
   {
    "duration": 3,
    "start_time": "2022-11-09T05:50:14.520Z"
   },
   {
    "duration": 68,
    "start_time": "2022-11-09T05:56:34.628Z"
   },
   {
    "duration": 102,
    "start_time": "2022-11-09T05:56:38.379Z"
   },
   {
    "duration": 88,
    "start_time": "2022-11-09T05:56:47.929Z"
   },
   {
    "duration": 67,
    "start_time": "2022-11-09T06:05:28.369Z"
   },
   {
    "duration": 1004,
    "start_time": "2022-11-09T06:14:35.224Z"
   },
   {
    "duration": 149,
    "start_time": "2022-11-09T06:14:36.230Z"
   },
   {
    "duration": 15,
    "start_time": "2022-11-09T06:14:36.381Z"
   },
   {
    "duration": 22,
    "start_time": "2022-11-09T06:14:36.398Z"
   },
   {
    "duration": 407,
    "start_time": "2022-11-09T06:14:36.422Z"
   },
   {
    "duration": 8,
    "start_time": "2022-11-09T06:14:36.830Z"
   },
   {
    "duration": 54,
    "start_time": "2022-11-09T06:14:36.839Z"
   },
   {
    "duration": 15,
    "start_time": "2022-11-09T06:14:36.895Z"
   },
   {
    "duration": 82,
    "start_time": "2022-11-09T06:14:36.912Z"
   },
   {
    "duration": 58,
    "start_time": "2022-11-09T06:14:36.998Z"
   },
   {
    "duration": 82,
    "start_time": "2022-11-09T06:14:37.057Z"
   },
   {
    "duration": 196,
    "start_time": "2022-11-09T06:14:37.140Z"
   },
   {
    "duration": 174,
    "start_time": "2022-11-09T06:14:37.338Z"
   },
   {
    "duration": 3,
    "start_time": "2022-11-09T06:14:37.514Z"
   },
   {
    "duration": 12,
    "start_time": "2022-11-09T06:14:37.518Z"
   },
   {
    "duration": 13,
    "start_time": "2022-11-09T06:14:37.531Z"
   },
   {
    "duration": 4,
    "start_time": "2022-11-09T06:14:37.546Z"
   },
   {
    "duration": 5,
    "start_time": "2022-11-09T06:14:37.551Z"
   },
   {
    "duration": 267,
    "start_time": "2022-11-09T06:14:37.557Z"
   },
   {
    "duration": 25,
    "start_time": "2022-11-09T06:14:37.826Z"
   },
   {
    "duration": 44,
    "start_time": "2022-11-09T06:14:37.852Z"
   },
   {
    "duration": 4,
    "start_time": "2022-11-09T06:14:37.898Z"
   },
   {
    "duration": 14,
    "start_time": "2022-11-09T06:14:37.903Z"
   },
   {
    "duration": 24,
    "start_time": "2022-11-09T06:14:37.918Z"
   },
   {
    "duration": 408,
    "start_time": "2022-11-09T06:14:37.944Z"
   },
   {
    "duration": 32,
    "start_time": "2022-11-09T06:14:38.354Z"
   },
   {
    "duration": 52,
    "start_time": "2022-11-09T06:14:38.387Z"
   },
   {
    "duration": 13,
    "start_time": "2022-11-09T06:14:38.442Z"
   },
   {
    "duration": 10,
    "start_time": "2022-11-09T06:14:38.457Z"
   },
   {
    "duration": 41,
    "start_time": "2022-11-09T06:14:38.468Z"
   },
   {
    "duration": 9,
    "start_time": "2022-11-09T06:14:38.510Z"
   },
   {
    "duration": 6,
    "start_time": "2022-11-09T06:14:38.520Z"
   },
   {
    "duration": 77,
    "start_time": "2022-11-09T06:14:38.527Z"
   },
   {
    "duration": 8,
    "start_time": "2022-11-09T06:14:38.606Z"
   },
   {
    "duration": 69,
    "start_time": "2022-11-09T06:14:38.615Z"
   },
   {
    "duration": 0,
    "start_time": "2022-11-09T06:14:38.685Z"
   },
   {
    "duration": 0,
    "start_time": "2022-11-09T06:14:38.687Z"
   },
   {
    "duration": 0,
    "start_time": "2022-11-09T06:14:38.688Z"
   },
   {
    "duration": 0,
    "start_time": "2022-11-09T06:14:38.689Z"
   },
   {
    "duration": 0,
    "start_time": "2022-11-09T06:14:38.691Z"
   },
   {
    "duration": 0,
    "start_time": "2022-11-09T06:14:38.692Z"
   },
   {
    "duration": 0,
    "start_time": "2022-11-09T06:14:38.694Z"
   },
   {
    "duration": 0,
    "start_time": "2022-11-09T06:14:38.695Z"
   },
   {
    "duration": 0,
    "start_time": "2022-11-09T06:14:38.696Z"
   },
   {
    "duration": 0,
    "start_time": "2022-11-09T06:14:38.697Z"
   },
   {
    "duration": 1033,
    "start_time": "2022-11-09T06:30:37.903Z"
   },
   {
    "duration": 148,
    "start_time": "2022-11-09T06:30:38.938Z"
   },
   {
    "duration": 15,
    "start_time": "2022-11-09T06:30:39.087Z"
   },
   {
    "duration": 19,
    "start_time": "2022-11-09T06:30:39.104Z"
   },
   {
    "duration": 434,
    "start_time": "2022-11-09T06:30:39.124Z"
   },
   {
    "duration": 7,
    "start_time": "2022-11-09T06:30:39.559Z"
   },
   {
    "duration": 45,
    "start_time": "2022-11-09T06:30:39.568Z"
   },
   {
    "duration": 15,
    "start_time": "2022-11-09T06:30:39.614Z"
   },
   {
    "duration": 71,
    "start_time": "2022-11-09T06:30:39.630Z"
   },
   {
    "duration": 52,
    "start_time": "2022-11-09T06:30:39.704Z"
   },
   {
    "duration": 71,
    "start_time": "2022-11-09T06:30:39.758Z"
   },
   {
    "duration": 179,
    "start_time": "2022-11-09T06:30:39.831Z"
   },
   {
    "duration": 147,
    "start_time": "2022-11-09T06:30:40.012Z"
   },
   {
    "duration": 3,
    "start_time": "2022-11-09T06:30:40.161Z"
   },
   {
    "duration": 22,
    "start_time": "2022-11-09T06:30:40.165Z"
   },
   {
    "duration": 13,
    "start_time": "2022-11-09T06:30:40.189Z"
   },
   {
    "duration": 6,
    "start_time": "2022-11-09T06:30:40.204Z"
   },
   {
    "duration": 7,
    "start_time": "2022-11-09T06:30:40.212Z"
   },
   {
    "duration": 285,
    "start_time": "2022-11-09T06:30:40.221Z"
   },
   {
    "duration": 25,
    "start_time": "2022-11-09T06:30:40.508Z"
   },
   {
    "duration": 34,
    "start_time": "2022-11-09T06:30:40.535Z"
   },
   {
    "duration": 15,
    "start_time": "2022-11-09T06:30:40.571Z"
   },
   {
    "duration": 38,
    "start_time": "2022-11-09T06:30:40.587Z"
   },
   {
    "duration": 59,
    "start_time": "2022-11-09T06:30:40.626Z"
   },
   {
    "duration": 420,
    "start_time": "2022-11-09T06:30:40.687Z"
   },
   {
    "duration": 21,
    "start_time": "2022-11-09T06:30:41.109Z"
   },
   {
    "duration": 64,
    "start_time": "2022-11-09T06:30:41.132Z"
   },
   {
    "duration": 13,
    "start_time": "2022-11-09T06:30:41.199Z"
   },
   {
    "duration": 23,
    "start_time": "2022-11-09T06:30:41.213Z"
   },
   {
    "duration": 56,
    "start_time": "2022-11-09T06:30:41.237Z"
   },
   {
    "duration": 9,
    "start_time": "2022-11-09T06:30:41.295Z"
   },
   {
    "duration": 21,
    "start_time": "2022-11-09T06:30:41.306Z"
   },
   {
    "duration": 93,
    "start_time": "2022-11-09T06:30:41.328Z"
   },
   {
    "duration": 7,
    "start_time": "2022-11-09T06:30:41.423Z"
   },
   {
    "duration": 72,
    "start_time": "2022-11-09T06:30:41.431Z"
   },
   {
    "duration": 0,
    "start_time": "2022-11-09T06:30:41.504Z"
   },
   {
    "duration": 0,
    "start_time": "2022-11-09T06:30:41.505Z"
   },
   {
    "duration": 0,
    "start_time": "2022-11-09T06:30:41.506Z"
   },
   {
    "duration": 0,
    "start_time": "2022-11-09T06:30:41.507Z"
   },
   {
    "duration": 0,
    "start_time": "2022-11-09T06:30:41.508Z"
   },
   {
    "duration": 0,
    "start_time": "2022-11-09T06:30:41.509Z"
   },
   {
    "duration": 0,
    "start_time": "2022-11-09T06:30:41.510Z"
   },
   {
    "duration": 0,
    "start_time": "2022-11-09T06:30:41.511Z"
   },
   {
    "duration": 0,
    "start_time": "2022-11-09T06:30:41.512Z"
   },
   {
    "duration": 0,
    "start_time": "2022-11-09T06:30:41.513Z"
   },
   {
    "duration": 79,
    "start_time": "2022-11-09T06:31:02.560Z"
   },
   {
    "duration": 69,
    "start_time": "2022-11-09T06:31:06.041Z"
   },
   {
    "duration": 5,
    "start_time": "2022-11-09T06:31:56.720Z"
   },
   {
    "duration": 7,
    "start_time": "2022-11-09T06:32:17.617Z"
   },
   {
    "duration": 126,
    "start_time": "2022-11-09T06:33:06.764Z"
   },
   {
    "duration": 9,
    "start_time": "2022-11-09T06:33:21.334Z"
   },
   {
    "duration": 8,
    "start_time": "2022-11-09T06:33:57.049Z"
   },
   {
    "duration": 9,
    "start_time": "2022-11-09T06:33:59.142Z"
   },
   {
    "duration": 8,
    "start_time": "2022-11-09T06:35:22.033Z"
   },
   {
    "duration": 6,
    "start_time": "2022-11-09T06:36:01.708Z"
   },
   {
    "duration": 1049,
    "start_time": "2022-11-09T06:36:14.378Z"
   },
   {
    "duration": 144,
    "start_time": "2022-11-09T06:36:15.429Z"
   },
   {
    "duration": 16,
    "start_time": "2022-11-09T06:36:15.574Z"
   },
   {
    "duration": 19,
    "start_time": "2022-11-09T06:36:15.593Z"
   },
   {
    "duration": 444,
    "start_time": "2022-11-09T06:36:15.614Z"
   },
   {
    "duration": 7,
    "start_time": "2022-11-09T06:36:16.060Z"
   },
   {
    "duration": 47,
    "start_time": "2022-11-09T06:36:16.069Z"
   },
   {
    "duration": 13,
    "start_time": "2022-11-09T06:36:16.118Z"
   },
   {
    "duration": 69,
    "start_time": "2022-11-09T06:36:16.133Z"
   },
   {
    "duration": 54,
    "start_time": "2022-11-09T06:36:16.205Z"
   },
   {
    "duration": 77,
    "start_time": "2022-11-09T06:36:16.261Z"
   },
   {
    "duration": 185,
    "start_time": "2022-11-09T06:36:16.340Z"
   },
   {
    "duration": 149,
    "start_time": "2022-11-09T06:36:16.527Z"
   },
   {
    "duration": 3,
    "start_time": "2022-11-09T06:36:16.686Z"
   },
   {
    "duration": 12,
    "start_time": "2022-11-09T06:36:16.690Z"
   },
   {
    "duration": 12,
    "start_time": "2022-11-09T06:36:16.703Z"
   },
   {
    "duration": 4,
    "start_time": "2022-11-09T06:36:16.717Z"
   },
   {
    "duration": 8,
    "start_time": "2022-11-09T06:36:16.723Z"
   },
   {
    "duration": 320,
    "start_time": "2022-11-09T06:36:16.735Z"
   },
   {
    "duration": 42,
    "start_time": "2022-11-09T06:36:17.057Z"
   },
   {
    "duration": 30,
    "start_time": "2022-11-09T06:36:17.101Z"
   },
   {
    "duration": 4,
    "start_time": "2022-11-09T06:36:17.133Z"
   },
   {
    "duration": 21,
    "start_time": "2022-11-09T06:36:17.139Z"
   },
   {
    "duration": 43,
    "start_time": "2022-11-09T06:36:17.162Z"
   },
   {
    "duration": 491,
    "start_time": "2022-11-09T06:36:17.207Z"
   },
   {
    "duration": 24,
    "start_time": "2022-11-09T06:36:17.700Z"
   },
   {
    "duration": 68,
    "start_time": "2022-11-09T06:36:17.726Z"
   },
   {
    "duration": 15,
    "start_time": "2022-11-09T06:36:17.797Z"
   },
   {
    "duration": 13,
    "start_time": "2022-11-09T06:36:17.813Z"
   },
   {
    "duration": 44,
    "start_time": "2022-11-09T06:36:17.828Z"
   },
   {
    "duration": 12,
    "start_time": "2022-11-09T06:36:17.874Z"
   },
   {
    "duration": 7,
    "start_time": "2022-11-09T06:36:17.888Z"
   },
   {
    "duration": 75,
    "start_time": "2022-11-09T06:36:17.896Z"
   },
   {
    "duration": 16,
    "start_time": "2022-11-09T06:36:17.972Z"
   },
   {
    "duration": 10,
    "start_time": "2022-11-09T06:36:17.990Z"
   },
   {
    "duration": 20,
    "start_time": "2022-11-09T06:36:18.002Z"
   },
   {
    "duration": 10,
    "start_time": "2022-11-09T06:36:18.024Z"
   },
   {
    "duration": 8,
    "start_time": "2022-11-09T06:36:18.035Z"
   },
   {
    "duration": 16,
    "start_time": "2022-11-09T06:36:18.045Z"
   },
   {
    "duration": 13,
    "start_time": "2022-11-09T06:36:18.063Z"
   },
   {
    "duration": 4,
    "start_time": "2022-11-09T06:36:18.077Z"
   },
   {
    "duration": 9,
    "start_time": "2022-11-09T06:36:18.085Z"
   },
   {
    "duration": 12,
    "start_time": "2022-11-09T06:36:18.095Z"
   },
   {
    "duration": 5,
    "start_time": "2022-11-09T06:36:18.108Z"
   },
   {
    "duration": 6,
    "start_time": "2022-11-09T06:36:18.114Z"
   },
   {
    "duration": 169,
    "start_time": "2022-11-09T06:36:18.121Z"
   },
   {
    "duration": 3,
    "start_time": "2022-11-09T06:36:18.291Z"
   },
   {
    "duration": 112,
    "start_time": "2022-11-09T06:36:56.467Z"
   },
   {
    "duration": 1091,
    "start_time": "2022-11-09T06:37:02.822Z"
   },
   {
    "duration": 150,
    "start_time": "2022-11-09T06:37:03.915Z"
   },
   {
    "duration": 24,
    "start_time": "2022-11-09T06:37:04.067Z"
   },
   {
    "duration": 29,
    "start_time": "2022-11-09T06:37:04.093Z"
   },
   {
    "duration": 405,
    "start_time": "2022-11-09T06:37:04.124Z"
   },
   {
    "duration": 7,
    "start_time": "2022-11-09T06:37:04.530Z"
   },
   {
    "duration": 50,
    "start_time": "2022-11-09T06:37:04.538Z"
   },
   {
    "duration": 14,
    "start_time": "2022-11-09T06:37:04.589Z"
   },
   {
    "duration": 59,
    "start_time": "2022-11-09T06:37:04.605Z"
   },
   {
    "duration": 63,
    "start_time": "2022-11-09T06:37:04.668Z"
   },
   {
    "duration": 72,
    "start_time": "2022-11-09T06:37:04.733Z"
   },
   {
    "duration": 183,
    "start_time": "2022-11-09T06:37:04.806Z"
   },
   {
    "duration": 139,
    "start_time": "2022-11-09T06:37:04.991Z"
   },
   {
    "duration": 3,
    "start_time": "2022-11-09T06:37:05.133Z"
   },
   {
    "duration": 15,
    "start_time": "2022-11-09T06:37:05.137Z"
   },
   {
    "duration": 11,
    "start_time": "2022-11-09T06:37:05.154Z"
   },
   {
    "duration": 22,
    "start_time": "2022-11-09T06:37:05.166Z"
   },
   {
    "duration": 6,
    "start_time": "2022-11-09T06:37:05.189Z"
   },
   {
    "duration": 255,
    "start_time": "2022-11-09T06:37:05.196Z"
   },
   {
    "duration": 34,
    "start_time": "2022-11-09T06:37:05.453Z"
   },
   {
    "duration": 27,
    "start_time": "2022-11-09T06:37:05.489Z"
   },
   {
    "duration": 5,
    "start_time": "2022-11-09T06:37:05.517Z"
   },
   {
    "duration": 14,
    "start_time": "2022-11-09T06:37:05.523Z"
   },
   {
    "duration": 24,
    "start_time": "2022-11-09T06:37:05.538Z"
   },
   {
    "duration": 429,
    "start_time": "2022-11-09T06:37:05.563Z"
   },
   {
    "duration": 23,
    "start_time": "2022-11-09T06:37:05.994Z"
   },
   {
    "duration": 68,
    "start_time": "2022-11-09T06:37:06.019Z"
   },
   {
    "duration": 15,
    "start_time": "2022-11-09T06:37:06.089Z"
   },
   {
    "duration": 10,
    "start_time": "2022-11-09T06:37:06.106Z"
   },
   {
    "duration": 33,
    "start_time": "2022-11-09T06:37:06.117Z"
   },
   {
    "duration": 9,
    "start_time": "2022-11-09T06:37:06.152Z"
   },
   {
    "duration": 25,
    "start_time": "2022-11-09T06:37:06.163Z"
   },
   {
    "duration": 70,
    "start_time": "2022-11-09T06:37:06.189Z"
   },
   {
    "duration": 10,
    "start_time": "2022-11-09T06:37:06.261Z"
   },
   {
    "duration": 91,
    "start_time": "2022-11-09T06:37:06.273Z"
   },
   {
    "duration": 21,
    "start_time": "2022-11-09T06:37:06.366Z"
   },
   {
    "duration": 10,
    "start_time": "2022-11-09T06:37:06.389Z"
   },
   {
    "duration": 10,
    "start_time": "2022-11-09T06:37:06.400Z"
   },
   {
    "duration": 12,
    "start_time": "2022-11-09T06:37:06.412Z"
   },
   {
    "duration": 20,
    "start_time": "2022-11-09T06:37:06.425Z"
   },
   {
    "duration": 11,
    "start_time": "2022-11-09T06:37:06.448Z"
   },
   {
    "duration": 5,
    "start_time": "2022-11-09T06:37:06.461Z"
   },
   {
    "duration": 10,
    "start_time": "2022-11-09T06:37:06.467Z"
   },
   {
    "duration": 6,
    "start_time": "2022-11-09T06:37:06.478Z"
   },
   {
    "duration": 4,
    "start_time": "2022-11-09T06:37:06.486Z"
   },
   {
    "duration": 154,
    "start_time": "2022-11-09T06:37:06.491Z"
   },
   {
    "duration": 3,
    "start_time": "2022-11-09T06:37:06.646Z"
   },
   {
    "duration": 8,
    "start_time": "2022-11-09T06:37:47.795Z"
   },
   {
    "duration": 8,
    "start_time": "2022-11-09T06:37:54.409Z"
   },
   {
    "duration": 8,
    "start_time": "2022-11-09T06:38:01.762Z"
   },
   {
    "duration": 7,
    "start_time": "2022-11-09T06:38:07.854Z"
   },
   {
    "duration": 7,
    "start_time": "2022-11-09T06:38:12.499Z"
   },
   {
    "duration": 11,
    "start_time": "2022-11-09T07:13:11.939Z"
   },
   {
    "duration": 47,
    "start_time": "2022-11-09T07:13:16.247Z"
   },
   {
    "duration": 7,
    "start_time": "2022-11-09T07:13:20.282Z"
   },
   {
    "duration": 995,
    "start_time": "2022-11-09T07:13:25.335Z"
   },
   {
    "duration": 154,
    "start_time": "2022-11-09T07:13:26.332Z"
   },
   {
    "duration": 15,
    "start_time": "2022-11-09T07:13:26.488Z"
   },
   {
    "duration": 37,
    "start_time": "2022-11-09T07:13:26.505Z"
   },
   {
    "duration": 411,
    "start_time": "2022-11-09T07:13:26.543Z"
   },
   {
    "duration": 7,
    "start_time": "2022-11-09T07:13:26.955Z"
   },
   {
    "duration": 44,
    "start_time": "2022-11-09T07:13:26.963Z"
   },
   {
    "duration": 13,
    "start_time": "2022-11-09T07:13:27.009Z"
   },
   {
    "duration": 64,
    "start_time": "2022-11-09T07:13:27.023Z"
   },
   {
    "duration": 64,
    "start_time": "2022-11-09T07:13:27.090Z"
   },
   {
    "duration": 77,
    "start_time": "2022-11-09T07:13:27.157Z"
   },
   {
    "duration": 223,
    "start_time": "2022-11-09T07:13:27.236Z"
   },
   {
    "duration": 153,
    "start_time": "2022-11-09T07:13:27.461Z"
   },
   {
    "duration": 4,
    "start_time": "2022-11-09T07:13:27.616Z"
   },
   {
    "duration": 13,
    "start_time": "2022-11-09T07:13:27.621Z"
   },
   {
    "duration": 19,
    "start_time": "2022-11-09T07:13:27.635Z"
   },
   {
    "duration": 5,
    "start_time": "2022-11-09T07:13:27.656Z"
   },
   {
    "duration": 26,
    "start_time": "2022-11-09T07:13:27.663Z"
   },
   {
    "duration": 253,
    "start_time": "2022-11-09T07:13:27.691Z"
   },
   {
    "duration": 24,
    "start_time": "2022-11-09T07:13:27.946Z"
   },
   {
    "duration": 35,
    "start_time": "2022-11-09T07:13:27.972Z"
   },
   {
    "duration": 4,
    "start_time": "2022-11-09T07:13:28.009Z"
   },
   {
    "duration": 12,
    "start_time": "2022-11-09T07:13:28.014Z"
   },
   {
    "duration": 27,
    "start_time": "2022-11-09T07:13:28.028Z"
   },
   {
    "duration": 400,
    "start_time": "2022-11-09T07:13:28.056Z"
   },
   {
    "duration": 37,
    "start_time": "2022-11-09T07:13:28.458Z"
   },
   {
    "duration": 153,
    "start_time": "2022-11-09T07:13:28.496Z"
   },
   {
    "duration": 15,
    "start_time": "2022-11-09T07:13:28.652Z"
   },
   {
    "duration": 28,
    "start_time": "2022-11-09T07:13:28.669Z"
   },
   {
    "duration": 41,
    "start_time": "2022-11-09T07:13:28.699Z"
   },
   {
    "duration": 9,
    "start_time": "2022-11-09T07:13:28.742Z"
   },
   {
    "duration": 5,
    "start_time": "2022-11-09T07:13:28.753Z"
   },
   {
    "duration": 72,
    "start_time": "2022-11-09T07:13:28.759Z"
   },
   {
    "duration": 8,
    "start_time": "2022-11-09T07:13:28.833Z"
   },
   {
    "duration": 23,
    "start_time": "2022-11-09T07:13:28.843Z"
   },
   {
    "duration": 12,
    "start_time": "2022-11-09T07:13:28.868Z"
   },
   {
    "duration": 9,
    "start_time": "2022-11-09T07:13:28.881Z"
   },
   {
    "duration": 9,
    "start_time": "2022-11-09T07:13:28.892Z"
   },
   {
    "duration": 16,
    "start_time": "2022-11-09T07:13:28.902Z"
   },
   {
    "duration": 5,
    "start_time": "2022-11-09T07:13:28.920Z"
   },
   {
    "duration": 7,
    "start_time": "2022-11-09T07:13:28.927Z"
   },
   {
    "duration": 22,
    "start_time": "2022-11-09T07:13:28.935Z"
   },
   {
    "duration": 6,
    "start_time": "2022-11-09T07:13:28.959Z"
   },
   {
    "duration": 10,
    "start_time": "2022-11-09T07:13:28.966Z"
   },
   {
    "duration": 157,
    "start_time": "2022-11-09T07:13:28.977Z"
   },
   {
    "duration": 2,
    "start_time": "2022-11-09T07:13:29.136Z"
   },
   {
    "duration": 5,
    "start_time": "2022-11-09T07:13:54.112Z"
   },
   {
    "duration": 7,
    "start_time": "2022-11-09T07:13:56.846Z"
   },
   {
    "duration": 74,
    "start_time": "2022-11-09T07:14:39.635Z"
   },
   {
    "duration": 67,
    "start_time": "2022-11-09T07:14:48.414Z"
   },
   {
    "duration": 5,
    "start_time": "2022-11-09T07:15:54.645Z"
   },
   {
    "duration": 7,
    "start_time": "2022-11-09T07:15:57.245Z"
   },
   {
    "duration": 5,
    "start_time": "2022-11-09T07:16:24.440Z"
   },
   {
    "duration": 7,
    "start_time": "2022-11-09T07:16:26.674Z"
   },
   {
    "duration": 6,
    "start_time": "2022-11-09T07:16:51.411Z"
   },
   {
    "duration": 8,
    "start_time": "2022-11-09T07:16:54.468Z"
   },
   {
    "duration": 8,
    "start_time": "2022-11-09T07:17:50.136Z"
   },
   {
    "duration": 6,
    "start_time": "2022-11-09T07:17:51.550Z"
   },
   {
    "duration": 5,
    "start_time": "2022-11-09T07:18:00.785Z"
   },
   {
    "duration": 8,
    "start_time": "2022-11-09T07:18:03.406Z"
   },
   {
    "duration": 8,
    "start_time": "2022-11-09T07:18:16.165Z"
   },
   {
    "duration": 7,
    "start_time": "2022-11-09T07:18:17.938Z"
   },
   {
    "duration": 7,
    "start_time": "2022-11-09T07:19:01.262Z"
   },
   {
    "duration": 7,
    "start_time": "2022-11-09T07:19:07.691Z"
   },
   {
    "duration": 78,
    "start_time": "2022-11-09T07:19:46.926Z"
   },
   {
    "duration": 196,
    "start_time": "2022-11-09T07:20:09.700Z"
   },
   {
    "duration": 69,
    "start_time": "2022-11-09T07:20:42.111Z"
   },
   {
    "duration": 86,
    "start_time": "2022-11-09T07:21:22.425Z"
   },
   {
    "duration": 68,
    "start_time": "2022-11-09T07:21:33.761Z"
   },
   {
    "duration": 6,
    "start_time": "2022-11-09T07:22:26.811Z"
   },
   {
    "duration": 7,
    "start_time": "2022-11-09T07:22:29.679Z"
   },
   {
    "duration": 7,
    "start_time": "2022-11-09T07:23:17.181Z"
   },
   {
    "duration": 67,
    "start_time": "2022-11-09T07:25:58.485Z"
   },
   {
    "duration": 120,
    "start_time": "2022-11-09T07:26:03.124Z"
   },
   {
    "duration": 15,
    "start_time": "2022-11-09T07:26:39.798Z"
   },
   {
    "duration": 14,
    "start_time": "2022-11-09T07:26:44.957Z"
   },
   {
    "duration": 7,
    "start_time": "2022-11-09T07:27:54.721Z"
   },
   {
    "duration": 7,
    "start_time": "2022-11-09T07:32:46.499Z"
   },
   {
    "duration": 7,
    "start_time": "2022-11-09T07:32:50.027Z"
   },
   {
    "duration": 7,
    "start_time": "2022-11-09T07:33:00.299Z"
   },
   {
    "duration": 1057,
    "start_time": "2022-11-09T07:39:24.672Z"
   },
   {
    "duration": 148,
    "start_time": "2022-11-09T07:39:25.730Z"
   },
   {
    "duration": 18,
    "start_time": "2022-11-09T07:39:25.880Z"
   },
   {
    "duration": 19,
    "start_time": "2022-11-09T07:39:25.900Z"
   },
   {
    "duration": 414,
    "start_time": "2022-11-09T07:39:25.920Z"
   },
   {
    "duration": 6,
    "start_time": "2022-11-09T07:39:26.336Z"
   },
   {
    "duration": 45,
    "start_time": "2022-11-09T07:39:26.344Z"
   },
   {
    "duration": 13,
    "start_time": "2022-11-09T07:39:26.391Z"
   },
   {
    "duration": 54,
    "start_time": "2022-11-09T07:39:26.406Z"
   },
   {
    "duration": 65,
    "start_time": "2022-11-09T07:39:26.462Z"
   },
   {
    "duration": 71,
    "start_time": "2022-11-09T07:39:26.529Z"
   },
   {
    "duration": 177,
    "start_time": "2022-11-09T07:39:26.601Z"
   },
   {
    "duration": 154,
    "start_time": "2022-11-09T07:39:26.780Z"
   },
   {
    "duration": 4,
    "start_time": "2022-11-09T07:39:26.936Z"
   },
   {
    "duration": 8,
    "start_time": "2022-11-09T07:39:26.942Z"
   },
   {
    "duration": 34,
    "start_time": "2022-11-09T07:39:26.952Z"
   },
   {
    "duration": 7,
    "start_time": "2022-11-09T07:39:26.987Z"
   },
   {
    "duration": 6,
    "start_time": "2022-11-09T07:39:26.996Z"
   },
   {
    "duration": 304,
    "start_time": "2022-11-09T07:39:27.004Z"
   },
   {
    "duration": 33,
    "start_time": "2022-11-09T07:39:27.310Z"
   },
   {
    "duration": 54,
    "start_time": "2022-11-09T07:39:27.345Z"
   },
   {
    "duration": 5,
    "start_time": "2022-11-09T07:39:27.401Z"
   },
   {
    "duration": 18,
    "start_time": "2022-11-09T07:39:27.409Z"
   },
   {
    "duration": 36,
    "start_time": "2022-11-09T07:39:27.429Z"
   },
   {
    "duration": 412,
    "start_time": "2022-11-09T07:39:27.467Z"
   },
   {
    "duration": 24,
    "start_time": "2022-11-09T07:39:27.880Z"
   },
   {
    "duration": 52,
    "start_time": "2022-11-09T07:39:27.905Z"
   },
   {
    "duration": 35,
    "start_time": "2022-11-09T07:39:27.960Z"
   },
   {
    "duration": 4,
    "start_time": "2022-11-09T07:39:27.997Z"
   },
   {
    "duration": 38,
    "start_time": "2022-11-09T07:39:28.002Z"
   },
   {
    "duration": 86,
    "start_time": "2022-11-09T07:39:28.041Z"
   },
   {
    "duration": 9,
    "start_time": "2022-11-09T07:39:28.128Z"
   },
   {
    "duration": 6,
    "start_time": "2022-11-09T07:39:28.138Z"
   },
   {
    "duration": 14,
    "start_time": "2022-11-09T07:39:28.146Z"
   },
   {
    "duration": 11,
    "start_time": "2022-11-09T07:39:28.163Z"
   },
   {
    "duration": 7,
    "start_time": "2022-11-09T07:39:28.185Z"
   },
   {
    "duration": 4,
    "start_time": "2022-11-09T07:39:28.194Z"
   },
   {
    "duration": 5,
    "start_time": "2022-11-09T07:39:28.199Z"
   },
   {
    "duration": 5,
    "start_time": "2022-11-09T07:39:28.206Z"
   },
   {
    "duration": 6,
    "start_time": "2022-11-09T07:39:28.212Z"
   },
   {
    "duration": 8,
    "start_time": "2022-11-09T07:39:28.220Z"
   },
   {
    "duration": 157,
    "start_time": "2022-11-09T07:39:28.230Z"
   },
   {
    "duration": 3,
    "start_time": "2022-11-09T07:39:28.388Z"
   },
   {
    "duration": 10,
    "start_time": "2022-11-09T07:39:28.392Z"
   },
   {
    "duration": 10,
    "start_time": "2022-11-09T07:39:28.403Z"
   },
   {
    "duration": 8,
    "start_time": "2022-11-09T07:52:43.393Z"
   },
   {
    "duration": 2,
    "start_time": "2022-11-09T07:53:03.918Z"
   },
   {
    "duration": 43,
    "start_time": "2022-11-09T07:53:14.065Z"
   },
   {
    "duration": 72,
    "start_time": "2022-11-09T07:53:58.975Z"
   },
   {
    "duration": 69,
    "start_time": "2022-11-09T07:54:33.972Z"
   },
   {
    "duration": 6,
    "start_time": "2022-11-09T07:54:39.938Z"
   },
   {
    "duration": 1053,
    "start_time": "2022-11-09T07:54:55.277Z"
   },
   {
    "duration": 155,
    "start_time": "2022-11-09T07:54:56.332Z"
   },
   {
    "duration": 16,
    "start_time": "2022-11-09T07:54:56.489Z"
   },
   {
    "duration": 21,
    "start_time": "2022-11-09T07:54:56.508Z"
   },
   {
    "duration": 491,
    "start_time": "2022-11-09T07:54:56.531Z"
   },
   {
    "duration": 7,
    "start_time": "2022-11-09T07:54:57.024Z"
   },
   {
    "duration": 58,
    "start_time": "2022-11-09T07:54:57.032Z"
   },
   {
    "duration": 16,
    "start_time": "2022-11-09T07:54:57.092Z"
   },
   {
    "duration": 83,
    "start_time": "2022-11-09T07:54:57.109Z"
   },
   {
    "duration": 54,
    "start_time": "2022-11-09T07:54:57.196Z"
   },
   {
    "duration": 85,
    "start_time": "2022-11-09T07:54:57.252Z"
   },
   {
    "duration": 252,
    "start_time": "2022-11-09T07:54:57.339Z"
   },
   {
    "duration": 166,
    "start_time": "2022-11-09T07:54:57.592Z"
   },
   {
    "duration": 3,
    "start_time": "2022-11-09T07:54:57.760Z"
   },
   {
    "duration": 34,
    "start_time": "2022-11-09T07:54:57.765Z"
   },
   {
    "duration": 13,
    "start_time": "2022-11-09T07:54:57.801Z"
   },
   {
    "duration": 16,
    "start_time": "2022-11-09T07:54:57.816Z"
   },
   {
    "duration": 9,
    "start_time": "2022-11-09T07:54:57.834Z"
   },
   {
    "duration": 283,
    "start_time": "2022-11-09T07:54:57.845Z"
   },
   {
    "duration": 28,
    "start_time": "2022-11-09T07:54:58.129Z"
   },
   {
    "duration": 45,
    "start_time": "2022-11-09T07:54:58.158Z"
   },
   {
    "duration": 4,
    "start_time": "2022-11-09T07:54:58.204Z"
   },
   {
    "duration": 10,
    "start_time": "2022-11-09T07:54:58.210Z"
   },
   {
    "duration": 47,
    "start_time": "2022-11-09T07:54:58.222Z"
   },
   {
    "duration": 421,
    "start_time": "2022-11-09T07:54:58.270Z"
   },
   {
    "duration": 23,
    "start_time": "2022-11-09T07:54:58.693Z"
   },
   {
    "duration": 68,
    "start_time": "2022-11-09T07:54:58.718Z"
   },
   {
    "duration": 14,
    "start_time": "2022-11-09T07:54:58.790Z"
   },
   {
    "duration": 6,
    "start_time": "2022-11-09T07:54:58.805Z"
   },
   {
    "duration": 35,
    "start_time": "2022-11-09T07:54:58.813Z"
   },
   {
    "duration": 87,
    "start_time": "2022-11-09T07:54:58.850Z"
   },
   {
    "duration": 10,
    "start_time": "2022-11-09T07:54:58.939Z"
   },
   {
    "duration": 5,
    "start_time": "2022-11-09T07:54:58.951Z"
   },
   {
    "duration": 29,
    "start_time": "2022-11-09T07:54:58.958Z"
   },
   {
    "duration": 6,
    "start_time": "2022-11-09T07:54:58.989Z"
   },
   {
    "duration": 23,
    "start_time": "2022-11-09T07:54:58.997Z"
   },
   {
    "duration": 74,
    "start_time": "2022-11-09T07:54:59.022Z"
   },
   {
    "duration": 0,
    "start_time": "2022-11-09T07:54:59.098Z"
   },
   {
    "duration": 0,
    "start_time": "2022-11-09T07:54:59.099Z"
   },
   {
    "duration": 0,
    "start_time": "2022-11-09T07:54:59.100Z"
   },
   {
    "duration": 0,
    "start_time": "2022-11-09T07:54:59.101Z"
   },
   {
    "duration": 0,
    "start_time": "2022-11-09T07:54:59.102Z"
   },
   {
    "duration": 0,
    "start_time": "2022-11-09T07:54:59.104Z"
   },
   {
    "duration": 0,
    "start_time": "2022-11-09T07:54:59.105Z"
   },
   {
    "duration": 0,
    "start_time": "2022-11-09T07:54:59.106Z"
   },
   {
    "duration": 0,
    "start_time": "2022-11-09T07:54:59.108Z"
   },
   {
    "duration": 0,
    "start_time": "2022-11-09T07:54:59.109Z"
   },
   {
    "duration": 0,
    "start_time": "2022-11-09T07:54:59.111Z"
   },
   {
    "duration": 2,
    "start_time": "2022-11-09T07:56:12.249Z"
   },
   {
    "duration": 144,
    "start_time": "2022-11-09T07:56:15.017Z"
   },
   {
    "duration": 2,
    "start_time": "2022-11-09T07:56:52.724Z"
   },
   {
    "duration": 21,
    "start_time": "2022-11-09T07:56:55.932Z"
   },
   {
    "duration": 20,
    "start_time": "2022-11-09T07:57:18.996Z"
   },
   {
    "duration": 3,
    "start_time": "2022-11-09T07:57:51.339Z"
   },
   {
    "duration": 19,
    "start_time": "2022-11-09T07:57:53.277Z"
   },
   {
    "duration": 22,
    "start_time": "2022-11-09T07:59:35.965Z"
   },
   {
    "duration": 3,
    "start_time": "2022-11-09T07:59:46.237Z"
   },
   {
    "duration": 20,
    "start_time": "2022-11-09T07:59:47.917Z"
   },
   {
    "duration": 3,
    "start_time": "2022-11-09T08:00:05.421Z"
   },
   {
    "duration": 28,
    "start_time": "2022-11-09T08:00:07.286Z"
   },
   {
    "duration": 19,
    "start_time": "2022-11-09T08:00:09.847Z"
   },
   {
    "duration": 22,
    "start_time": "2022-11-09T08:00:14.031Z"
   },
   {
    "duration": 26,
    "start_time": "2022-11-09T08:00:22.749Z"
   },
   {
    "duration": 3,
    "start_time": "2022-11-09T08:02:05.665Z"
   },
   {
    "duration": 18,
    "start_time": "2022-11-09T08:02:08.694Z"
   },
   {
    "duration": 23,
    "start_time": "2022-11-09T08:02:16.090Z"
   },
   {
    "duration": 1056,
    "start_time": "2022-11-09T08:02:32.579Z"
   },
   {
    "duration": 148,
    "start_time": "2022-11-09T08:02:33.636Z"
   },
   {
    "duration": 16,
    "start_time": "2022-11-09T08:02:33.786Z"
   },
   {
    "duration": 45,
    "start_time": "2022-11-09T08:02:33.804Z"
   },
   {
    "duration": 423,
    "start_time": "2022-11-09T08:02:33.850Z"
   },
   {
    "duration": 10,
    "start_time": "2022-11-09T08:02:34.275Z"
   },
   {
    "duration": 54,
    "start_time": "2022-11-09T08:02:34.287Z"
   },
   {
    "duration": 15,
    "start_time": "2022-11-09T08:02:34.343Z"
   },
   {
    "duration": 74,
    "start_time": "2022-11-09T08:02:34.359Z"
   },
   {
    "duration": 62,
    "start_time": "2022-11-09T08:02:34.436Z"
   },
   {
    "duration": 62,
    "start_time": "2022-11-09T08:02:34.500Z"
   },
   {
    "duration": 179,
    "start_time": "2022-11-09T08:02:34.564Z"
   },
   {
    "duration": 141,
    "start_time": "2022-11-09T08:02:34.745Z"
   },
   {
    "duration": 3,
    "start_time": "2022-11-09T08:02:34.888Z"
   },
   {
    "duration": 31,
    "start_time": "2022-11-09T08:02:34.892Z"
   },
   {
    "duration": 17,
    "start_time": "2022-11-09T08:02:34.924Z"
   },
   {
    "duration": 6,
    "start_time": "2022-11-09T08:02:34.942Z"
   },
   {
    "duration": 17,
    "start_time": "2022-11-09T08:02:34.949Z"
   },
   {
    "duration": 269,
    "start_time": "2022-11-09T08:02:34.967Z"
   },
   {
    "duration": 26,
    "start_time": "2022-11-09T08:02:35.238Z"
   },
   {
    "duration": 45,
    "start_time": "2022-11-09T08:02:35.265Z"
   },
   {
    "duration": 4,
    "start_time": "2022-11-09T08:02:35.312Z"
   },
   {
    "duration": 21,
    "start_time": "2022-11-09T08:02:35.317Z"
   },
   {
    "duration": 39,
    "start_time": "2022-11-09T08:02:35.340Z"
   },
   {
    "duration": 389,
    "start_time": "2022-11-09T08:02:35.381Z"
   },
   {
    "duration": 36,
    "start_time": "2022-11-09T08:02:35.772Z"
   },
   {
    "duration": 55,
    "start_time": "2022-11-09T08:02:35.809Z"
   },
   {
    "duration": 29,
    "start_time": "2022-11-09T08:02:35.868Z"
   },
   {
    "duration": 36,
    "start_time": "2022-11-09T08:02:35.899Z"
   },
   {
    "duration": 69,
    "start_time": "2022-11-09T08:02:35.937Z"
   },
   {
    "duration": 67,
    "start_time": "2022-11-09T08:02:36.008Z"
   },
   {
    "duration": 8,
    "start_time": "2022-11-09T08:02:36.085Z"
   },
   {
    "duration": 20,
    "start_time": "2022-11-09T08:02:36.094Z"
   },
   {
    "duration": 29,
    "start_time": "2022-11-09T08:02:36.115Z"
   },
   {
    "duration": 19,
    "start_time": "2022-11-09T08:02:36.145Z"
   },
   {
    "duration": 36,
    "start_time": "2022-11-09T08:02:36.165Z"
   },
   {
    "duration": 20,
    "start_time": "2022-11-09T08:02:36.202Z"
   },
   {
    "duration": 65,
    "start_time": "2022-11-09T08:02:36.223Z"
   },
   {
    "duration": 25,
    "start_time": "2022-11-09T08:02:36.290Z"
   },
   {
    "duration": 11,
    "start_time": "2022-11-09T08:02:36.317Z"
   },
   {
    "duration": 37,
    "start_time": "2022-11-09T08:02:36.330Z"
   },
   {
    "duration": 34,
    "start_time": "2022-11-09T08:02:36.368Z"
   },
   {
    "duration": 11,
    "start_time": "2022-11-09T08:02:36.404Z"
   },
   {
    "duration": 22,
    "start_time": "2022-11-09T08:02:36.416Z"
   },
   {
    "duration": 165,
    "start_time": "2022-11-09T08:02:36.440Z"
   },
   {
    "duration": 3,
    "start_time": "2022-11-09T08:02:36.607Z"
   },
   {
    "duration": 26,
    "start_time": "2022-11-09T08:02:36.611Z"
   },
   {
    "duration": 16,
    "start_time": "2022-11-09T08:02:36.638Z"
   },
   {
    "duration": 7,
    "start_time": "2022-11-09T08:10:34.359Z"
   },
   {
    "duration": 21,
    "start_time": "2022-11-09T08:15:41.011Z"
   },
   {
    "duration": 21,
    "start_time": "2022-11-09T08:16:37.063Z"
   },
   {
    "duration": 4,
    "start_time": "2022-11-09T08:18:11.095Z"
   },
   {
    "duration": 24,
    "start_time": "2022-11-09T08:18:19.712Z"
   },
   {
    "duration": 70,
    "start_time": "2022-11-09T08:27:27.720Z"
   },
   {
    "duration": 67,
    "start_time": "2022-11-09T08:27:36.267Z"
   },
   {
    "duration": 1021,
    "start_time": "2022-11-09T08:36:28.895Z"
   },
   {
    "duration": 147,
    "start_time": "2022-11-09T08:36:29.918Z"
   },
   {
    "duration": 19,
    "start_time": "2022-11-09T08:36:30.067Z"
   },
   {
    "duration": 32,
    "start_time": "2022-11-09T08:36:30.088Z"
   },
   {
    "duration": 415,
    "start_time": "2022-11-09T08:36:30.121Z"
   },
   {
    "duration": 7,
    "start_time": "2022-11-09T08:36:30.537Z"
   },
   {
    "duration": 45,
    "start_time": "2022-11-09T08:36:30.546Z"
   },
   {
    "duration": 13,
    "start_time": "2022-11-09T08:36:30.593Z"
   },
   {
    "duration": 79,
    "start_time": "2022-11-09T08:36:30.608Z"
   },
   {
    "duration": 57,
    "start_time": "2022-11-09T08:36:30.690Z"
   },
   {
    "duration": 84,
    "start_time": "2022-11-09T08:36:30.748Z"
   },
   {
    "duration": 176,
    "start_time": "2022-11-09T08:36:30.834Z"
   },
   {
    "duration": 135,
    "start_time": "2022-11-09T08:36:31.012Z"
   },
   {
    "duration": 3,
    "start_time": "2022-11-09T08:36:31.149Z"
   },
   {
    "duration": 83,
    "start_time": "2022-11-09T08:36:31.153Z"
   },
   {
    "duration": 26,
    "start_time": "2022-11-09T08:36:31.237Z"
   },
   {
    "duration": 14,
    "start_time": "2022-11-09T08:36:31.264Z"
   },
   {
    "duration": 20,
    "start_time": "2022-11-09T08:36:31.279Z"
   },
   {
    "duration": 268,
    "start_time": "2022-11-09T08:36:31.300Z"
   },
   {
    "duration": 31,
    "start_time": "2022-11-09T08:36:31.569Z"
   },
   {
    "duration": 28,
    "start_time": "2022-11-09T08:36:31.601Z"
   },
   {
    "duration": 9,
    "start_time": "2022-11-09T08:36:31.631Z"
   },
   {
    "duration": 35,
    "start_time": "2022-11-09T08:36:31.641Z"
   },
   {
    "duration": 26,
    "start_time": "2022-11-09T08:36:31.677Z"
   },
   {
    "duration": 389,
    "start_time": "2022-11-09T08:36:31.705Z"
   },
   {
    "duration": 22,
    "start_time": "2022-11-09T08:36:32.095Z"
   },
   {
    "duration": 69,
    "start_time": "2022-11-09T08:36:32.119Z"
   },
   {
    "duration": 14,
    "start_time": "2022-11-09T08:36:32.191Z"
   },
   {
    "duration": 18,
    "start_time": "2022-11-09T08:36:32.206Z"
   },
   {
    "duration": 40,
    "start_time": "2022-11-09T08:36:32.225Z"
   },
   {
    "duration": 63,
    "start_time": "2022-11-09T08:36:32.266Z"
   },
   {
    "duration": 7,
    "start_time": "2022-11-09T08:36:32.331Z"
   },
   {
    "duration": 6,
    "start_time": "2022-11-09T08:36:32.340Z"
   },
   {
    "duration": 14,
    "start_time": "2022-11-09T08:36:32.347Z"
   },
   {
    "duration": 12,
    "start_time": "2022-11-09T08:36:32.363Z"
   },
   {
    "duration": 2,
    "start_time": "2022-11-09T08:36:32.385Z"
   },
   {
    "duration": 26,
    "start_time": "2022-11-09T08:36:32.389Z"
   },
   {
    "duration": 22,
    "start_time": "2022-11-09T08:36:32.417Z"
   },
   {
    "duration": 23,
    "start_time": "2022-11-09T08:36:32.440Z"
   },
   {
    "duration": 19,
    "start_time": "2022-11-09T08:36:32.486Z"
   },
   {
    "duration": 85,
    "start_time": "2022-11-09T08:36:32.506Z"
   },
   {
    "duration": 65,
    "start_time": "2022-11-09T08:36:32.592Z"
   },
   {
    "duration": 2,
    "start_time": "2022-11-09T08:36:32.659Z"
   },
   {
    "duration": 2,
    "start_time": "2022-11-09T08:36:32.685Z"
   },
   {
    "duration": 14,
    "start_time": "2022-11-09T08:36:32.688Z"
   },
   {
    "duration": 12,
    "start_time": "2022-11-09T08:36:32.703Z"
   },
   {
    "duration": 18,
    "start_time": "2022-11-09T08:36:32.716Z"
   },
   {
    "duration": 169,
    "start_time": "2022-11-09T08:36:32.735Z"
   },
   {
    "duration": 2,
    "start_time": "2022-11-09T08:36:32.906Z"
   },
   {
    "duration": 6,
    "start_time": "2022-11-09T08:36:32.909Z"
   },
   {
    "duration": 15,
    "start_time": "2022-11-09T08:36:32.917Z"
   },
   {
    "duration": 11,
    "start_time": "2022-11-09T08:36:32.934Z"
   },
   {
    "duration": 1068,
    "start_time": "2022-11-09T09:36:26.696Z"
   },
   {
    "duration": 153,
    "start_time": "2022-11-09T09:36:27.766Z"
   },
   {
    "duration": 16,
    "start_time": "2022-11-09T09:36:27.921Z"
   },
   {
    "duration": 29,
    "start_time": "2022-11-09T09:36:27.939Z"
   },
   {
    "duration": 443,
    "start_time": "2022-11-09T09:36:27.970Z"
   },
   {
    "duration": 7,
    "start_time": "2022-11-09T09:36:28.415Z"
   },
   {
    "duration": 86,
    "start_time": "2022-11-09T09:36:28.424Z"
   },
   {
    "duration": 17,
    "start_time": "2022-11-09T09:36:28.511Z"
   },
   {
    "duration": 83,
    "start_time": "2022-11-09T09:36:28.529Z"
   },
   {
    "duration": 53,
    "start_time": "2022-11-09T09:36:28.614Z"
   },
   {
    "duration": 60,
    "start_time": "2022-11-09T09:36:28.685Z"
   },
   {
    "duration": 212,
    "start_time": "2022-11-09T09:36:28.746Z"
   },
   {
    "duration": 148,
    "start_time": "2022-11-09T09:36:28.960Z"
   },
   {
    "duration": 4,
    "start_time": "2022-11-09T09:36:29.109Z"
   },
   {
    "duration": 23,
    "start_time": "2022-11-09T09:36:29.114Z"
   },
   {
    "duration": 13,
    "start_time": "2022-11-09T09:36:29.139Z"
   },
   {
    "duration": 6,
    "start_time": "2022-11-09T09:36:29.153Z"
   },
   {
    "duration": 30,
    "start_time": "2022-11-09T09:36:29.160Z"
   },
   {
    "duration": 275,
    "start_time": "2022-11-09T09:36:29.192Z"
   },
   {
    "duration": 48,
    "start_time": "2022-11-09T09:36:29.469Z"
   },
   {
    "duration": 28,
    "start_time": "2022-11-09T09:36:29.519Z"
   },
   {
    "duration": 5,
    "start_time": "2022-11-09T09:36:29.549Z"
   },
   {
    "duration": 36,
    "start_time": "2022-11-09T09:36:29.555Z"
   },
   {
    "duration": 38,
    "start_time": "2022-11-09T09:36:29.594Z"
   },
   {
    "duration": 414,
    "start_time": "2022-11-09T09:36:29.635Z"
   },
   {
    "duration": 23,
    "start_time": "2022-11-09T09:36:30.050Z"
   },
   {
    "duration": 73,
    "start_time": "2022-11-09T09:36:30.086Z"
   },
   {
    "duration": 15,
    "start_time": "2022-11-09T09:36:30.162Z"
   },
   {
    "duration": 56,
    "start_time": "2022-11-09T09:36:30.178Z"
   },
   {
    "duration": 69,
    "start_time": "2022-11-09T09:36:30.236Z"
   },
   {
    "duration": 95,
    "start_time": "2022-11-09T09:36:30.306Z"
   },
   {
    "duration": 12,
    "start_time": "2022-11-09T09:36:30.402Z"
   },
   {
    "duration": 13,
    "start_time": "2022-11-09T09:36:30.416Z"
   },
   {
    "duration": 19,
    "start_time": "2022-11-09T09:36:30.430Z"
   },
   {
    "duration": 9,
    "start_time": "2022-11-09T09:36:30.451Z"
   },
   {
    "duration": 23,
    "start_time": "2022-11-09T09:36:30.462Z"
   },
   {
    "duration": 61,
    "start_time": "2022-11-09T09:36:30.487Z"
   },
   {
    "duration": 34,
    "start_time": "2022-11-09T09:36:30.549Z"
   },
   {
    "duration": 29,
    "start_time": "2022-11-09T09:36:30.585Z"
   },
   {
    "duration": 51,
    "start_time": "2022-11-09T09:36:30.616Z"
   },
   {
    "duration": 114,
    "start_time": "2022-11-09T09:36:30.669Z"
   },
   {
    "duration": 77,
    "start_time": "2022-11-09T09:36:30.785Z"
   },
   {
    "duration": 23,
    "start_time": "2022-11-09T09:36:30.864Z"
   },
   {
    "duration": 52,
    "start_time": "2022-11-09T09:36:30.888Z"
   },
   {
    "duration": 53,
    "start_time": "2022-11-09T09:36:30.941Z"
   },
   {
    "duration": 39,
    "start_time": "2022-11-09T09:36:30.996Z"
   },
   {
    "duration": 35,
    "start_time": "2022-11-09T09:36:31.037Z"
   },
   {
    "duration": 219,
    "start_time": "2022-11-09T09:36:31.074Z"
   },
   {
    "duration": 3,
    "start_time": "2022-11-09T09:36:31.295Z"
   },
   {
    "duration": 44,
    "start_time": "2022-11-09T09:36:31.300Z"
   },
   {
    "duration": 16,
    "start_time": "2022-11-09T09:36:31.346Z"
   },
   {
    "duration": 42,
    "start_time": "2022-11-09T09:36:31.386Z"
   },
   {
    "duration": 1359,
    "start_time": "2022-11-09T09:40:14.481Z"
   },
   {
    "duration": 152,
    "start_time": "2022-11-09T09:40:15.842Z"
   },
   {
    "duration": 20,
    "start_time": "2022-11-09T09:40:15.996Z"
   },
   {
    "duration": 26,
    "start_time": "2022-11-09T09:40:16.019Z"
   },
   {
    "duration": 454,
    "start_time": "2022-11-09T09:40:16.047Z"
   },
   {
    "duration": 7,
    "start_time": "2022-11-09T09:40:16.503Z"
   },
   {
    "duration": 42,
    "start_time": "2022-11-09T09:40:16.512Z"
   },
   {
    "duration": 32,
    "start_time": "2022-11-09T09:40:16.555Z"
   },
   {
    "duration": 75,
    "start_time": "2022-11-09T09:40:16.588Z"
   },
   {
    "duration": 59,
    "start_time": "2022-11-09T09:40:16.666Z"
   },
   {
    "duration": 82,
    "start_time": "2022-11-09T09:40:16.726Z"
   },
   {
    "duration": 211,
    "start_time": "2022-11-09T09:40:16.809Z"
   },
   {
    "duration": 165,
    "start_time": "2022-11-09T09:40:17.022Z"
   },
   {
    "duration": 4,
    "start_time": "2022-11-09T09:40:17.189Z"
   },
   {
    "duration": 37,
    "start_time": "2022-11-09T09:40:17.194Z"
   },
   {
    "duration": 49,
    "start_time": "2022-11-09T09:40:17.233Z"
   },
   {
    "duration": 36,
    "start_time": "2022-11-09T09:40:17.283Z"
   },
   {
    "duration": 28,
    "start_time": "2022-11-09T09:40:17.321Z"
   },
   {
    "duration": 337,
    "start_time": "2022-11-09T09:40:17.352Z"
   },
   {
    "duration": 28,
    "start_time": "2022-11-09T09:40:17.691Z"
   },
   {
    "duration": 29,
    "start_time": "2022-11-09T09:40:17.721Z"
   },
   {
    "duration": 5,
    "start_time": "2022-11-09T09:40:17.752Z"
   },
   {
    "duration": 10,
    "start_time": "2022-11-09T09:40:17.786Z"
   },
   {
    "duration": 34,
    "start_time": "2022-11-09T09:40:17.798Z"
   },
   {
    "duration": 449,
    "start_time": "2022-11-09T09:40:17.834Z"
   },
   {
    "duration": 24,
    "start_time": "2022-11-09T09:40:18.286Z"
   },
   {
    "duration": 51,
    "start_time": "2022-11-09T09:40:18.312Z"
   },
   {
    "duration": 16,
    "start_time": "2022-11-09T09:40:18.387Z"
   },
   {
    "duration": 8,
    "start_time": "2022-11-09T09:40:18.404Z"
   },
   {
    "duration": 33,
    "start_time": "2022-11-09T09:40:18.413Z"
   },
   {
    "duration": 88,
    "start_time": "2022-11-09T09:40:18.448Z"
   },
   {
    "duration": 10,
    "start_time": "2022-11-09T09:40:18.538Z"
   },
   {
    "duration": 5,
    "start_time": "2022-11-09T09:40:18.550Z"
   },
   {
    "duration": 30,
    "start_time": "2022-11-09T09:40:18.557Z"
   },
   {
    "duration": 13,
    "start_time": "2022-11-09T09:40:18.589Z"
   },
   {
    "duration": 9,
    "start_time": "2022-11-09T09:40:18.603Z"
   },
   {
    "duration": 33,
    "start_time": "2022-11-09T09:40:18.614Z"
   },
   {
    "duration": 21,
    "start_time": "2022-11-09T09:40:18.648Z"
   },
   {
    "duration": 21,
    "start_time": "2022-11-09T09:40:18.685Z"
   },
   {
    "duration": 21,
    "start_time": "2022-11-09T09:40:18.708Z"
   },
   {
    "duration": 112,
    "start_time": "2022-11-09T09:40:18.730Z"
   },
   {
    "duration": 86,
    "start_time": "2022-11-09T09:40:18.844Z"
   },
   {
    "duration": 1163,
    "start_time": "2022-11-09T09:40:37.056Z"
   },
   {
    "duration": 147,
    "start_time": "2022-11-09T09:40:38.221Z"
   },
   {
    "duration": 16,
    "start_time": "2022-11-09T09:40:38.370Z"
   },
   {
    "duration": 18,
    "start_time": "2022-11-09T09:40:38.388Z"
   },
   {
    "duration": 465,
    "start_time": "2022-11-09T09:40:38.408Z"
   },
   {
    "duration": 12,
    "start_time": "2022-11-09T09:40:38.875Z"
   },
   {
    "duration": 39,
    "start_time": "2022-11-09T09:40:38.890Z"
   },
   {
    "duration": 14,
    "start_time": "2022-11-09T09:40:38.931Z"
   },
   {
    "duration": 74,
    "start_time": "2022-11-09T09:40:38.946Z"
   },
   {
    "duration": 66,
    "start_time": "2022-11-09T09:40:39.022Z"
   },
   {
    "duration": 66,
    "start_time": "2022-11-09T09:40:39.090Z"
   },
   {
    "duration": 208,
    "start_time": "2022-11-09T09:40:39.158Z"
   },
   {
    "duration": 161,
    "start_time": "2022-11-09T09:40:39.368Z"
   },
   {
    "duration": 3,
    "start_time": "2022-11-09T09:40:39.532Z"
   },
   {
    "duration": 14,
    "start_time": "2022-11-09T09:40:39.537Z"
   },
   {
    "duration": 33,
    "start_time": "2022-11-09T09:40:39.552Z"
   },
   {
    "duration": 5,
    "start_time": "2022-11-09T09:40:39.587Z"
   },
   {
    "duration": 5,
    "start_time": "2022-11-09T09:40:39.593Z"
   },
   {
    "duration": 275,
    "start_time": "2022-11-09T09:40:39.600Z"
   },
   {
    "duration": 47,
    "start_time": "2022-11-09T09:40:39.876Z"
   },
   {
    "duration": 27,
    "start_time": "2022-11-09T09:40:39.925Z"
   },
   {
    "duration": 3,
    "start_time": "2022-11-09T09:40:39.954Z"
   },
   {
    "duration": 28,
    "start_time": "2022-11-09T09:40:39.959Z"
   },
   {
    "duration": 24,
    "start_time": "2022-11-09T09:40:39.988Z"
   },
   {
    "duration": 436,
    "start_time": "2022-11-09T09:40:40.013Z"
   },
   {
    "duration": 28,
    "start_time": "2022-11-09T09:40:40.451Z"
   },
   {
    "duration": 58,
    "start_time": "2022-11-09T09:40:40.485Z"
   },
   {
    "duration": 14,
    "start_time": "2022-11-09T09:40:40.546Z"
   },
   {
    "duration": 23,
    "start_time": "2022-11-09T09:40:40.562Z"
   },
   {
    "duration": 30,
    "start_time": "2022-11-09T09:40:40.587Z"
   },
   {
    "duration": 90,
    "start_time": "2022-11-09T09:40:40.618Z"
   },
   {
    "duration": 8,
    "start_time": "2022-11-09T09:40:40.710Z"
   },
   {
    "duration": 10,
    "start_time": "2022-11-09T09:40:40.720Z"
   },
   {
    "duration": 15,
    "start_time": "2022-11-09T09:40:40.732Z"
   },
   {
    "duration": 8,
    "start_time": "2022-11-09T09:40:40.748Z"
   },
   {
    "duration": 4,
    "start_time": "2022-11-09T09:40:40.758Z"
   },
   {
    "duration": 37,
    "start_time": "2022-11-09T09:40:40.763Z"
   },
   {
    "duration": 20,
    "start_time": "2022-11-09T09:40:40.802Z"
   },
   {
    "duration": 24,
    "start_time": "2022-11-09T09:40:40.824Z"
   },
   {
    "duration": 47,
    "start_time": "2022-11-09T09:40:40.850Z"
   },
   {
    "duration": 66,
    "start_time": "2022-11-09T09:40:40.898Z"
   },
   {
    "duration": 74,
    "start_time": "2022-11-09T09:40:40.986Z"
   },
   {
    "duration": 1144,
    "start_time": "2022-11-09T09:41:28.008Z"
   },
   {
    "duration": 168,
    "start_time": "2022-11-09T09:41:29.155Z"
   },
   {
    "duration": 17,
    "start_time": "2022-11-09T09:41:29.325Z"
   },
   {
    "duration": 40,
    "start_time": "2022-11-09T09:41:29.345Z"
   },
   {
    "duration": 435,
    "start_time": "2022-11-09T09:41:29.387Z"
   },
   {
    "duration": 7,
    "start_time": "2022-11-09T09:41:29.823Z"
   },
   {
    "duration": 55,
    "start_time": "2022-11-09T09:41:29.831Z"
   },
   {
    "duration": 23,
    "start_time": "2022-11-09T09:41:29.888Z"
   },
   {
    "duration": 75,
    "start_time": "2022-11-09T09:41:29.912Z"
   },
   {
    "duration": 96,
    "start_time": "2022-11-09T09:41:29.990Z"
   },
   {
    "duration": 85,
    "start_time": "2022-11-09T09:41:30.088Z"
   },
   {
    "duration": 187,
    "start_time": "2022-11-09T09:41:30.185Z"
   },
   {
    "duration": 152,
    "start_time": "2022-11-09T09:41:30.374Z"
   },
   {
    "duration": 4,
    "start_time": "2022-11-09T09:41:30.527Z"
   },
   {
    "duration": 13,
    "start_time": "2022-11-09T09:41:30.532Z"
   },
   {
    "duration": 15,
    "start_time": "2022-11-09T09:41:30.547Z"
   },
   {
    "duration": 25,
    "start_time": "2022-11-09T09:41:30.563Z"
   },
   {
    "duration": 16,
    "start_time": "2022-11-09T09:41:30.590Z"
   },
   {
    "duration": 312,
    "start_time": "2022-11-09T09:41:30.607Z"
   },
   {
    "duration": 28,
    "start_time": "2022-11-09T09:41:30.921Z"
   },
   {
    "duration": 46,
    "start_time": "2022-11-09T09:41:30.951Z"
   },
   {
    "duration": 75,
    "start_time": "2022-11-09T09:41:30.999Z"
   },
   {
    "duration": 59,
    "start_time": "2022-11-09T09:41:31.076Z"
   },
   {
    "duration": 50,
    "start_time": "2022-11-09T09:41:31.137Z"
   },
   {
    "duration": 500,
    "start_time": "2022-11-09T09:41:31.190Z"
   },
   {
    "duration": 28,
    "start_time": "2022-11-09T09:41:31.692Z"
   },
   {
    "duration": 72,
    "start_time": "2022-11-09T09:41:31.721Z"
   },
   {
    "duration": 15,
    "start_time": "2022-11-09T09:41:31.796Z"
   },
   {
    "duration": 41,
    "start_time": "2022-11-09T09:41:31.812Z"
   },
   {
    "duration": 65,
    "start_time": "2022-11-09T09:41:31.855Z"
   },
   {
    "duration": 85,
    "start_time": "2022-11-09T09:41:31.922Z"
   },
   {
    "duration": 15,
    "start_time": "2022-11-09T09:41:32.009Z"
   },
   {
    "duration": 87,
    "start_time": "2022-11-09T09:41:32.026Z"
   },
   {
    "duration": 144,
    "start_time": "2022-11-09T09:41:32.114Z"
   },
   {
    "duration": 112,
    "start_time": "2022-11-09T09:41:32.260Z"
   },
   {
    "duration": 22,
    "start_time": "2022-11-09T09:41:32.374Z"
   },
   {
    "duration": 41,
    "start_time": "2022-11-09T09:41:32.398Z"
   },
   {
    "duration": 30,
    "start_time": "2022-11-09T09:41:32.441Z"
   },
   {
    "duration": 33,
    "start_time": "2022-11-09T09:41:32.473Z"
   },
   {
    "duration": 33,
    "start_time": "2022-11-09T09:41:32.509Z"
   },
   {
    "duration": 85,
    "start_time": "2022-11-09T09:41:32.544Z"
   },
   {
    "duration": 96,
    "start_time": "2022-11-09T09:41:32.631Z"
   },
   {
    "duration": 1008,
    "start_time": "2022-11-09T09:52:41.733Z"
   },
   {
    "duration": 155,
    "start_time": "2022-11-09T09:52:42.743Z"
   },
   {
    "duration": 16,
    "start_time": "2022-11-09T09:52:42.899Z"
   },
   {
    "duration": 22,
    "start_time": "2022-11-09T09:52:42.918Z"
   },
   {
    "duration": 438,
    "start_time": "2022-11-09T09:52:42.942Z"
   },
   {
    "duration": 8,
    "start_time": "2022-11-09T09:52:43.386Z"
   },
   {
    "duration": 37,
    "start_time": "2022-11-09T09:52:43.395Z"
   },
   {
    "duration": 15,
    "start_time": "2022-11-09T09:52:43.434Z"
   },
   {
    "duration": 82,
    "start_time": "2022-11-09T09:52:43.451Z"
   },
   {
    "duration": 71,
    "start_time": "2022-11-09T09:52:43.535Z"
   },
   {
    "duration": 82,
    "start_time": "2022-11-09T09:52:43.608Z"
   },
   {
    "duration": 194,
    "start_time": "2022-11-09T09:52:43.692Z"
   },
   {
    "duration": 141,
    "start_time": "2022-11-09T09:52:43.887Z"
   },
   {
    "duration": 3,
    "start_time": "2022-11-09T09:52:44.029Z"
   },
   {
    "duration": 15,
    "start_time": "2022-11-09T09:52:44.034Z"
   },
   {
    "duration": 18,
    "start_time": "2022-11-09T09:52:44.051Z"
   },
   {
    "duration": 20,
    "start_time": "2022-11-09T09:52:44.070Z"
   },
   {
    "duration": 8,
    "start_time": "2022-11-09T09:52:44.091Z"
   },
   {
    "duration": 287,
    "start_time": "2022-11-09T09:52:44.100Z"
   },
   {
    "duration": 27,
    "start_time": "2022-11-09T09:52:44.388Z"
   },
   {
    "duration": 29,
    "start_time": "2022-11-09T09:52:44.416Z"
   },
   {
    "duration": 5,
    "start_time": "2022-11-09T09:52:44.446Z"
   },
   {
    "duration": 34,
    "start_time": "2022-11-09T09:52:44.453Z"
   },
   {
    "duration": 24,
    "start_time": "2022-11-09T09:52:44.488Z"
   },
   {
    "duration": 437,
    "start_time": "2022-11-09T09:52:44.514Z"
   },
   {
    "duration": 32,
    "start_time": "2022-11-09T09:52:44.953Z"
   },
   {
    "duration": 53,
    "start_time": "2022-11-09T09:52:44.987Z"
   },
   {
    "duration": 15,
    "start_time": "2022-11-09T09:52:45.043Z"
   },
   {
    "duration": 17,
    "start_time": "2022-11-09T09:52:45.059Z"
   },
   {
    "duration": 28,
    "start_time": "2022-11-09T09:52:45.086Z"
   },
   {
    "duration": 81,
    "start_time": "2022-11-09T09:52:45.116Z"
   },
   {
    "duration": 8,
    "start_time": "2022-11-09T09:52:45.199Z"
   },
   {
    "duration": 11,
    "start_time": "2022-11-09T09:52:45.209Z"
   },
   {
    "duration": 19,
    "start_time": "2022-11-09T09:52:45.222Z"
   },
   {
    "duration": 15,
    "start_time": "2022-11-09T09:52:45.242Z"
   },
   {
    "duration": 12,
    "start_time": "2022-11-09T09:52:45.259Z"
   },
   {
    "duration": 28,
    "start_time": "2022-11-09T09:52:45.273Z"
   },
   {
    "duration": 21,
    "start_time": "2022-11-09T09:52:45.303Z"
   },
   {
    "duration": 20,
    "start_time": "2022-11-09T09:52:45.326Z"
   },
   {
    "duration": 48,
    "start_time": "2022-11-09T09:52:45.347Z"
   },
   {
    "duration": 66,
    "start_time": "2022-11-09T09:52:45.397Z"
   },
   {
    "duration": 122,
    "start_time": "2022-11-09T09:52:45.464Z"
   },
   {
    "duration": 1424,
    "start_time": "2022-11-09T16:04:42.231Z"
   },
   {
    "duration": 606,
    "start_time": "2022-11-09T16:04:43.657Z"
   },
   {
    "duration": 15,
    "start_time": "2022-11-09T16:04:44.265Z"
   },
   {
    "duration": 21,
    "start_time": "2022-11-09T16:04:44.281Z"
   },
   {
    "duration": 404,
    "start_time": "2022-11-09T16:04:44.305Z"
   },
   {
    "duration": 7,
    "start_time": "2022-11-09T16:04:44.711Z"
   },
   {
    "duration": 30,
    "start_time": "2022-11-09T16:04:44.720Z"
   },
   {
    "duration": 33,
    "start_time": "2022-11-09T16:04:44.752Z"
   },
   {
    "duration": 53,
    "start_time": "2022-11-09T16:04:44.787Z"
   },
   {
    "duration": 64,
    "start_time": "2022-11-09T16:04:44.842Z"
   },
   {
    "duration": 56,
    "start_time": "2022-11-09T16:04:44.908Z"
   },
   {
    "duration": 189,
    "start_time": "2022-11-09T16:04:44.965Z"
   },
   {
    "duration": 149,
    "start_time": "2022-11-09T16:04:45.155Z"
   },
   {
    "duration": 7,
    "start_time": "2022-11-09T16:04:45.307Z"
   },
   {
    "duration": 13,
    "start_time": "2022-11-09T16:04:45.316Z"
   },
   {
    "duration": 17,
    "start_time": "2022-11-09T16:04:45.330Z"
   },
   {
    "duration": 5,
    "start_time": "2022-11-09T16:04:45.349Z"
   },
   {
    "duration": 25,
    "start_time": "2022-11-09T16:04:45.356Z"
   },
   {
    "duration": 266,
    "start_time": "2022-11-09T16:04:45.383Z"
   },
   {
    "duration": 34,
    "start_time": "2022-11-09T16:04:45.651Z"
   },
   {
    "duration": 31,
    "start_time": "2022-11-09T16:04:45.687Z"
   },
   {
    "duration": 5,
    "start_time": "2022-11-09T16:04:45.719Z"
   },
   {
    "duration": 17,
    "start_time": "2022-11-09T16:04:45.726Z"
   },
   {
    "duration": 46,
    "start_time": "2022-11-09T16:04:45.744Z"
   },
   {
    "duration": 425,
    "start_time": "2022-11-09T16:04:45.792Z"
   },
   {
    "duration": 24,
    "start_time": "2022-11-09T16:04:46.219Z"
   },
   {
    "duration": 66,
    "start_time": "2022-11-09T16:04:46.244Z"
   },
   {
    "duration": 14,
    "start_time": "2022-11-09T16:04:46.312Z"
   },
   {
    "duration": 7,
    "start_time": "2022-11-09T16:04:46.327Z"
   },
   {
    "duration": 46,
    "start_time": "2022-11-09T16:04:46.335Z"
   },
   {
    "duration": 65,
    "start_time": "2022-11-09T16:04:46.382Z"
   },
   {
    "duration": 8,
    "start_time": "2022-11-09T16:04:46.449Z"
   },
   {
    "duration": 20,
    "start_time": "2022-11-09T16:04:46.459Z"
   },
   {
    "duration": 6,
    "start_time": "2022-11-09T16:04:46.481Z"
   },
   {
    "duration": 9,
    "start_time": "2022-11-09T16:04:46.489Z"
   },
   {
    "duration": 7,
    "start_time": "2022-11-09T16:04:46.499Z"
   },
   {
    "duration": 27,
    "start_time": "2022-11-09T16:04:46.507Z"
   },
   {
    "duration": 18,
    "start_time": "2022-11-09T16:04:46.536Z"
   },
   {
    "duration": 41,
    "start_time": "2022-11-09T16:04:46.555Z"
   },
   {
    "duration": 20,
    "start_time": "2022-11-09T16:04:46.597Z"
   },
   {
    "duration": 92,
    "start_time": "2022-11-09T16:04:46.620Z"
   },
   {
    "duration": 105,
    "start_time": "2022-11-09T16:04:46.713Z"
   },
   {
    "duration": 1204,
    "start_time": "2022-11-09T19:36:26.221Z"
   },
   {
    "duration": 636,
    "start_time": "2022-11-09T19:36:27.427Z"
   },
   {
    "duration": 15,
    "start_time": "2022-11-09T19:36:28.065Z"
   },
   {
    "duration": 20,
    "start_time": "2022-11-09T19:36:28.083Z"
   },
   {
    "duration": 408,
    "start_time": "2022-11-09T19:36:28.104Z"
   },
   {
    "duration": 8,
    "start_time": "2022-11-09T19:36:28.514Z"
   },
   {
    "duration": 49,
    "start_time": "2022-11-09T19:36:28.523Z"
   },
   {
    "duration": 14,
    "start_time": "2022-11-09T19:36:28.573Z"
   },
   {
    "duration": 74,
    "start_time": "2022-11-09T19:36:28.588Z"
   },
   {
    "duration": 57,
    "start_time": "2022-11-09T19:36:28.665Z"
   },
   {
    "duration": 83,
    "start_time": "2022-11-09T19:36:28.723Z"
   },
   {
    "duration": 174,
    "start_time": "2022-11-09T19:36:28.807Z"
   },
   {
    "duration": 135,
    "start_time": "2022-11-09T19:36:28.983Z"
   },
   {
    "duration": 3,
    "start_time": "2022-11-09T19:36:29.120Z"
   },
   {
    "duration": 11,
    "start_time": "2022-11-09T19:36:29.124Z"
   },
   {
    "duration": 25,
    "start_time": "2022-11-09T19:36:29.137Z"
   },
   {
    "duration": 4,
    "start_time": "2022-11-09T19:36:29.164Z"
   },
   {
    "duration": 7,
    "start_time": "2022-11-09T19:36:29.169Z"
   },
   {
    "duration": 262,
    "start_time": "2022-11-09T19:36:29.177Z"
   },
   {
    "duration": 35,
    "start_time": "2022-11-09T19:36:29.441Z"
   },
   {
    "duration": 27,
    "start_time": "2022-11-09T19:36:29.477Z"
   },
   {
    "duration": 4,
    "start_time": "2022-11-09T19:36:29.506Z"
   },
   {
    "duration": 11,
    "start_time": "2022-11-09T19:36:29.511Z"
   },
   {
    "duration": 43,
    "start_time": "2022-11-09T19:36:29.524Z"
   },
   {
    "duration": 397,
    "start_time": "2022-11-09T19:36:29.569Z"
   },
   {
    "duration": 22,
    "start_time": "2022-11-09T19:36:29.968Z"
   },
   {
    "duration": 68,
    "start_time": "2022-11-09T19:36:29.991Z"
   },
   {
    "duration": 16,
    "start_time": "2022-11-09T19:36:30.062Z"
   },
   {
    "duration": 9,
    "start_time": "2022-11-09T19:36:30.079Z"
   },
   {
    "duration": 38,
    "start_time": "2022-11-09T19:36:30.090Z"
   },
   {
    "duration": 85,
    "start_time": "2022-11-09T19:36:30.130Z"
   },
   {
    "duration": 8,
    "start_time": "2022-11-09T19:36:30.217Z"
   },
   {
    "duration": 9,
    "start_time": "2022-11-09T19:36:30.227Z"
   },
   {
    "duration": 26,
    "start_time": "2022-11-09T19:36:30.238Z"
   },
   {
    "duration": 18,
    "start_time": "2022-11-09T19:36:30.266Z"
   },
   {
    "duration": 18,
    "start_time": "2022-11-09T19:36:30.285Z"
   },
   {
    "duration": 47,
    "start_time": "2022-11-09T19:36:30.305Z"
   },
   {
    "duration": 25,
    "start_time": "2022-11-09T19:36:30.354Z"
   },
   {
    "duration": 27,
    "start_time": "2022-11-09T19:36:30.381Z"
   },
   {
    "duration": 21,
    "start_time": "2022-11-09T19:36:30.409Z"
   },
   {
    "duration": 90,
    "start_time": "2022-11-09T19:36:30.431Z"
   },
   {
    "duration": 90,
    "start_time": "2022-11-09T19:36:30.523Z"
   },
   {
    "duration": 738,
    "start_time": "2022-11-09T19:37:17.025Z"
   },
   {
    "duration": 691,
    "start_time": "2022-11-09T19:38:01.267Z"
   },
   {
    "duration": 1066,
    "start_time": "2022-11-09T19:39:18.838Z"
   },
   {
    "duration": 159,
    "start_time": "2022-11-09T19:39:19.906Z"
   },
   {
    "duration": 21,
    "start_time": "2022-11-09T19:39:20.066Z"
   },
   {
    "duration": 21,
    "start_time": "2022-11-09T19:39:20.089Z"
   },
   {
    "duration": 436,
    "start_time": "2022-11-09T19:39:20.112Z"
   },
   {
    "duration": 1055,
    "start_time": "2022-11-09T19:55:05.956Z"
   },
   {
    "duration": 510,
    "start_time": "2022-11-09T19:55:07.013Z"
   },
   {
    "duration": 17,
    "start_time": "2022-11-09T19:55:07.525Z"
   },
   {
    "duration": 19,
    "start_time": "2022-11-09T19:55:07.544Z"
   },
   {
    "duration": 436,
    "start_time": "2022-11-09T19:55:07.565Z"
   },
   {
    "duration": 7,
    "start_time": "2022-11-09T19:55:08.003Z"
   },
   {
    "duration": 54,
    "start_time": "2022-11-09T19:55:08.012Z"
   },
   {
    "duration": 16,
    "start_time": "2022-11-09T19:55:08.068Z"
   },
   {
    "duration": 79,
    "start_time": "2022-11-09T19:55:08.086Z"
   },
   {
    "duration": 56,
    "start_time": "2022-11-09T19:55:08.168Z"
   },
   {
    "duration": 83,
    "start_time": "2022-11-09T19:55:08.226Z"
   },
   {
    "duration": 191,
    "start_time": "2022-11-09T19:55:08.311Z"
   },
   {
    "duration": 143,
    "start_time": "2022-11-09T19:55:08.504Z"
   },
   {
    "duration": 11,
    "start_time": "2022-11-09T19:55:08.649Z"
   },
   {
    "duration": 11,
    "start_time": "2022-11-09T19:55:08.662Z"
   },
   {
    "duration": 23,
    "start_time": "2022-11-09T19:55:08.674Z"
   },
   {
    "duration": 8,
    "start_time": "2022-11-09T19:55:08.699Z"
   },
   {
    "duration": 11,
    "start_time": "2022-11-09T19:55:08.708Z"
   },
   {
    "duration": 286,
    "start_time": "2022-11-09T19:55:08.721Z"
   },
   {
    "duration": 30,
    "start_time": "2022-11-09T19:55:09.009Z"
   },
   {
    "duration": 45,
    "start_time": "2022-11-09T19:55:09.041Z"
   },
   {
    "duration": 4,
    "start_time": "2022-11-09T19:55:09.088Z"
   },
   {
    "duration": 12,
    "start_time": "2022-11-09T19:55:09.094Z"
   },
   {
    "duration": 26,
    "start_time": "2022-11-09T19:55:09.107Z"
   },
   {
    "duration": 433,
    "start_time": "2022-11-09T19:55:09.135Z"
   },
   {
    "duration": 35,
    "start_time": "2022-11-09T19:55:09.571Z"
   },
   {
    "duration": 77,
    "start_time": "2022-11-09T19:55:09.607Z"
   },
   {
    "duration": 17,
    "start_time": "2022-11-09T19:55:09.687Z"
   },
   {
    "duration": 7,
    "start_time": "2022-11-09T19:55:09.705Z"
   },
   {
    "duration": 56,
    "start_time": "2022-11-09T19:55:09.714Z"
   },
   {
    "duration": 89,
    "start_time": "2022-11-09T19:55:09.771Z"
   },
   {
    "duration": 10,
    "start_time": "2022-11-09T19:55:09.861Z"
   },
   {
    "duration": 6,
    "start_time": "2022-11-09T19:55:09.873Z"
   },
   {
    "duration": 12,
    "start_time": "2022-11-09T19:55:09.881Z"
   },
   {
    "duration": 8,
    "start_time": "2022-11-09T19:55:09.895Z"
   },
   {
    "duration": 3,
    "start_time": "2022-11-09T19:55:09.905Z"
   },
   {
    "duration": 58,
    "start_time": "2022-11-09T19:55:09.910Z"
   },
   {
    "duration": 22,
    "start_time": "2022-11-09T19:55:09.971Z"
   },
   {
    "duration": 22,
    "start_time": "2022-11-09T19:55:09.995Z"
   },
   {
    "duration": 56,
    "start_time": "2022-11-09T19:55:10.018Z"
   },
   {
    "duration": 106,
    "start_time": "2022-11-09T19:55:10.076Z"
   },
   {
    "duration": 96,
    "start_time": "2022-11-09T19:55:10.184Z"
   },
   {
    "duration": 48,
    "start_time": "2022-11-10T03:16:50.374Z"
   },
   {
    "duration": 1262,
    "start_time": "2022-11-10T03:16:56.326Z"
   },
   {
    "duration": 693,
    "start_time": "2022-11-10T03:16:57.590Z"
   },
   {
    "duration": 16,
    "start_time": "2022-11-10T03:16:58.284Z"
   },
   {
    "duration": 21,
    "start_time": "2022-11-10T03:16:58.302Z"
   },
   {
    "duration": 454,
    "start_time": "2022-11-10T03:16:58.324Z"
   },
   {
    "duration": 7,
    "start_time": "2022-11-10T03:16:58.779Z"
   },
   {
    "duration": 111,
    "start_time": "2022-11-10T03:16:58.788Z"
   },
   {
    "duration": 0,
    "start_time": "2022-11-10T03:16:58.901Z"
   },
   {
    "duration": 0,
    "start_time": "2022-11-10T03:16:58.902Z"
   },
   {
    "duration": 0,
    "start_time": "2022-11-10T03:16:58.903Z"
   },
   {
    "duration": 0,
    "start_time": "2022-11-10T03:16:58.904Z"
   },
   {
    "duration": 0,
    "start_time": "2022-11-10T03:16:58.905Z"
   },
   {
    "duration": 0,
    "start_time": "2022-11-10T03:16:58.906Z"
   },
   {
    "duration": 0,
    "start_time": "2022-11-10T03:16:58.907Z"
   },
   {
    "duration": 0,
    "start_time": "2022-11-10T03:16:58.908Z"
   },
   {
    "duration": 0,
    "start_time": "2022-11-10T03:16:58.909Z"
   },
   {
    "duration": 0,
    "start_time": "2022-11-10T03:16:58.910Z"
   },
   {
    "duration": 0,
    "start_time": "2022-11-10T03:16:58.911Z"
   },
   {
    "duration": 0,
    "start_time": "2022-11-10T03:16:58.912Z"
   },
   {
    "duration": 0,
    "start_time": "2022-11-10T03:16:58.913Z"
   },
   {
    "duration": 0,
    "start_time": "2022-11-10T03:16:58.913Z"
   },
   {
    "duration": 0,
    "start_time": "2022-11-10T03:16:58.914Z"
   },
   {
    "duration": 0,
    "start_time": "2022-11-10T03:16:58.915Z"
   },
   {
    "duration": 0,
    "start_time": "2022-11-10T03:16:58.916Z"
   },
   {
    "duration": 0,
    "start_time": "2022-11-10T03:16:58.946Z"
   },
   {
    "duration": 0,
    "start_time": "2022-11-10T03:16:58.949Z"
   },
   {
    "duration": 0,
    "start_time": "2022-11-10T03:16:58.951Z"
   },
   {
    "duration": 0,
    "start_time": "2022-11-10T03:16:58.953Z"
   },
   {
    "duration": 1,
    "start_time": "2022-11-10T03:16:58.954Z"
   },
   {
    "duration": 0,
    "start_time": "2022-11-10T03:16:58.956Z"
   },
   {
    "duration": 1,
    "start_time": "2022-11-10T03:16:58.957Z"
   },
   {
    "duration": 0,
    "start_time": "2022-11-10T03:16:58.959Z"
   },
   {
    "duration": 0,
    "start_time": "2022-11-10T03:16:58.960Z"
   },
   {
    "duration": 0,
    "start_time": "2022-11-10T03:16:58.961Z"
   },
   {
    "duration": 0,
    "start_time": "2022-11-10T03:16:58.963Z"
   },
   {
    "duration": 0,
    "start_time": "2022-11-10T03:16:58.963Z"
   },
   {
    "duration": 0,
    "start_time": "2022-11-10T03:16:58.965Z"
   },
   {
    "duration": 0,
    "start_time": "2022-11-10T03:16:58.966Z"
   },
   {
    "duration": 0,
    "start_time": "2022-11-10T03:16:58.967Z"
   },
   {
    "duration": 0,
    "start_time": "2022-11-10T03:16:58.968Z"
   },
   {
    "duration": 0,
    "start_time": "2022-11-10T03:16:58.969Z"
   },
   {
    "duration": 0,
    "start_time": "2022-11-10T03:16:58.970Z"
   },
   {
    "duration": 0,
    "start_time": "2022-11-10T03:16:58.971Z"
   },
   {
    "duration": 0,
    "start_time": "2022-11-10T03:16:58.973Z"
   },
   {
    "duration": 0,
    "start_time": "2022-11-10T03:16:58.974Z"
   },
   {
    "duration": 0,
    "start_time": "2022-11-10T03:16:58.976Z"
   },
   {
    "duration": 522,
    "start_time": "2022-11-10T03:17:49.492Z"
   },
   {
    "duration": 430,
    "start_time": "2022-11-10T03:18:06.016Z"
   },
   {
    "duration": 462,
    "start_time": "2022-11-10T03:18:20.083Z"
   },
   {
    "duration": 1078,
    "start_time": "2022-11-10T03:19:09.633Z"
   },
   {
    "duration": 156,
    "start_time": "2022-11-10T03:19:10.713Z"
   },
   {
    "duration": 15,
    "start_time": "2022-11-10T03:19:10.871Z"
   },
   {
    "duration": 27,
    "start_time": "2022-11-10T03:19:10.887Z"
   },
   {
    "duration": 431,
    "start_time": "2022-11-10T03:19:10.916Z"
   },
   {
    "duration": 8,
    "start_time": "2022-11-10T03:19:11.349Z"
   },
   {
    "duration": 388,
    "start_time": "2022-11-10T03:19:11.358Z"
   },
   {
    "duration": 2,
    "start_time": "2022-11-10T03:19:11.748Z"
   },
   {
    "duration": 5,
    "start_time": "2022-11-10T03:19:11.752Z"
   },
   {
    "duration": 9,
    "start_time": "2022-11-10T03:19:11.759Z"
   },
   {
    "duration": 34,
    "start_time": "2022-11-10T03:19:11.769Z"
   },
   {
    "duration": 14,
    "start_time": "2022-11-10T03:19:11.804Z"
   },
   {
    "duration": 75,
    "start_time": "2022-11-10T03:19:11.820Z"
   },
   {
    "duration": 74,
    "start_time": "2022-11-10T03:19:11.896Z"
   },
   {
    "duration": 79,
    "start_time": "2022-11-10T03:19:11.972Z"
   },
   {
    "duration": 207,
    "start_time": "2022-11-10T03:19:12.052Z"
   },
   {
    "duration": 143,
    "start_time": "2022-11-10T03:19:12.261Z"
   },
   {
    "duration": 5,
    "start_time": "2022-11-10T03:19:12.406Z"
   },
   {
    "duration": 12,
    "start_time": "2022-11-10T03:19:12.412Z"
   },
   {
    "duration": 17,
    "start_time": "2022-11-10T03:19:12.445Z"
   },
   {
    "duration": 6,
    "start_time": "2022-11-10T03:19:12.464Z"
   },
   {
    "duration": 6,
    "start_time": "2022-11-10T03:19:12.472Z"
   },
   {
    "duration": 323,
    "start_time": "2022-11-10T03:19:12.480Z"
   },
   {
    "duration": 27,
    "start_time": "2022-11-10T03:19:12.804Z"
   },
   {
    "duration": 40,
    "start_time": "2022-11-10T03:19:12.833Z"
   },
   {
    "duration": 6,
    "start_time": "2022-11-10T03:19:12.875Z"
   },
   {
    "duration": 28,
    "start_time": "2022-11-10T03:19:12.883Z"
   },
   {
    "duration": 32,
    "start_time": "2022-11-10T03:19:12.914Z"
   },
   {
    "duration": 550,
    "start_time": "2022-11-10T03:19:12.948Z"
   },
   {
    "duration": 25,
    "start_time": "2022-11-10T03:19:13.501Z"
   },
   {
    "duration": 67,
    "start_time": "2022-11-10T03:19:13.528Z"
   },
   {
    "duration": 15,
    "start_time": "2022-11-10T03:19:13.597Z"
   },
   {
    "duration": 17,
    "start_time": "2022-11-10T03:19:13.614Z"
   },
   {
    "duration": 39,
    "start_time": "2022-11-10T03:19:13.632Z"
   },
   {
    "duration": 78,
    "start_time": "2022-11-10T03:19:13.673Z"
   },
   {
    "duration": 9,
    "start_time": "2022-11-10T03:19:13.752Z"
   },
   {
    "duration": 14,
    "start_time": "2022-11-10T03:19:13.762Z"
   },
   {
    "duration": 19,
    "start_time": "2022-11-10T03:19:13.777Z"
   },
   {
    "duration": 11,
    "start_time": "2022-11-10T03:19:13.798Z"
   },
   {
    "duration": 6,
    "start_time": "2022-11-10T03:19:13.810Z"
   },
   {
    "duration": 32,
    "start_time": "2022-11-10T03:19:13.817Z"
   },
   {
    "duration": 22,
    "start_time": "2022-11-10T03:19:13.850Z"
   },
   {
    "duration": 19,
    "start_time": "2022-11-10T03:19:13.874Z"
   },
   {
    "duration": 24,
    "start_time": "2022-11-10T03:19:13.895Z"
   },
   {
    "duration": 75,
    "start_time": "2022-11-10T03:19:13.946Z"
   },
   {
    "duration": 91,
    "start_time": "2022-11-10T03:19:14.023Z"
   },
   {
    "duration": 1149,
    "start_time": "2022-11-10T03:20:48.668Z"
   },
   {
    "duration": 167,
    "start_time": "2022-11-10T03:20:49.819Z"
   },
   {
    "duration": 16,
    "start_time": "2022-11-10T03:20:49.987Z"
   },
   {
    "duration": 19,
    "start_time": "2022-11-10T03:20:50.005Z"
   },
   {
    "duration": 496,
    "start_time": "2022-11-10T03:20:50.026Z"
   },
   {
    "duration": 7,
    "start_time": "2022-11-10T03:20:50.524Z"
   },
   {
    "duration": 416,
    "start_time": "2022-11-10T03:20:50.545Z"
   },
   {
    "duration": 3,
    "start_time": "2022-11-10T03:20:50.963Z"
   },
   {
    "duration": 8,
    "start_time": "2022-11-10T03:20:50.968Z"
   },
   {
    "duration": 11,
    "start_time": "2022-11-10T03:20:50.978Z"
   },
   {
    "duration": 33,
    "start_time": "2022-11-10T03:20:50.991Z"
   },
   {
    "duration": 41,
    "start_time": "2022-11-10T03:20:51.025Z"
   },
   {
    "duration": 55,
    "start_time": "2022-11-10T03:20:51.068Z"
   },
   {
    "duration": 75,
    "start_time": "2022-11-10T03:20:51.126Z"
   },
   {
    "duration": 84,
    "start_time": "2022-11-10T03:20:51.203Z"
   },
   {
    "duration": 206,
    "start_time": "2022-11-10T03:20:51.289Z"
   },
   {
    "duration": 154,
    "start_time": "2022-11-10T03:20:51.497Z"
   },
   {
    "duration": 5,
    "start_time": "2022-11-10T03:20:51.654Z"
   },
   {
    "duration": 29,
    "start_time": "2022-11-10T03:20:51.667Z"
   },
   {
    "duration": 13,
    "start_time": "2022-11-10T03:20:51.698Z"
   },
   {
    "duration": 6,
    "start_time": "2022-11-10T03:20:51.713Z"
   },
   {
    "duration": 8,
    "start_time": "2022-11-10T03:20:51.720Z"
   },
   {
    "duration": 343,
    "start_time": "2022-11-10T03:20:51.729Z"
   },
   {
    "duration": 27,
    "start_time": "2022-11-10T03:20:52.073Z"
   },
   {
    "duration": 44,
    "start_time": "2022-11-10T03:20:52.102Z"
   },
   {
    "duration": 8,
    "start_time": "2022-11-10T03:20:52.149Z"
   },
   {
    "duration": 24,
    "start_time": "2022-11-10T03:20:52.159Z"
   },
   {
    "duration": 28,
    "start_time": "2022-11-10T03:20:52.185Z"
   },
   {
    "duration": 463,
    "start_time": "2022-11-10T03:20:52.215Z"
   },
   {
    "duration": 24,
    "start_time": "2022-11-10T03:20:52.680Z"
   },
   {
    "duration": 82,
    "start_time": "2022-11-10T03:20:52.706Z"
   },
   {
    "duration": 8,
    "start_time": "2022-11-10T03:20:52.790Z"
   },
   {
    "duration": 12,
    "start_time": "2022-11-10T03:20:52.800Z"
   },
   {
    "duration": 70,
    "start_time": "2022-11-10T03:20:52.813Z"
   },
   {
    "duration": 14,
    "start_time": "2022-11-10T03:20:52.884Z"
   },
   {
    "duration": 6,
    "start_time": "2022-11-10T03:20:52.899Z"
   },
   {
    "duration": 60,
    "start_time": "2022-11-10T03:20:52.906Z"
   },
   {
    "duration": 67,
    "start_time": "2022-11-10T03:20:52.967Z"
   },
   {
    "duration": 31,
    "start_time": "2022-11-10T03:20:53.035Z"
   },
   {
    "duration": 8,
    "start_time": "2022-11-10T03:20:53.068Z"
   },
   {
    "duration": 11,
    "start_time": "2022-11-10T03:20:53.079Z"
   },
   {
    "duration": 8,
    "start_time": "2022-11-10T03:20:53.092Z"
   },
   {
    "duration": 9,
    "start_time": "2022-11-10T03:20:53.102Z"
   },
   {
    "duration": 34,
    "start_time": "2022-11-10T03:20:53.112Z"
   },
   {
    "duration": 27,
    "start_time": "2022-11-10T03:20:53.148Z"
   },
   {
    "duration": 29,
    "start_time": "2022-11-10T03:20:53.177Z"
   },
   {
    "duration": 59,
    "start_time": "2022-11-10T03:20:53.208Z"
   },
   {
    "duration": 87,
    "start_time": "2022-11-10T03:20:53.270Z"
   },
   {
    "duration": 108,
    "start_time": "2022-11-10T03:20:53.360Z"
   },
   {
    "duration": 45,
    "start_time": "2022-11-10T03:22:57.968Z"
   },
   {
    "duration": 11,
    "start_time": "2022-11-10T03:23:12.606Z"
   },
   {
    "duration": 13,
    "start_time": "2022-11-10T03:24:32.184Z"
   },
   {
    "duration": 13,
    "start_time": "2022-11-10T03:24:39.939Z"
   },
   {
    "duration": 53,
    "start_time": "2022-11-10T03:25:12.447Z"
   },
   {
    "duration": 7,
    "start_time": "2022-11-10T03:28:37.308Z"
   },
   {
    "duration": 1064,
    "start_time": "2022-11-10T03:29:50.234Z"
   },
   {
    "duration": 150,
    "start_time": "2022-11-10T03:29:51.299Z"
   },
   {
    "duration": 17,
    "start_time": "2022-11-10T03:29:51.451Z"
   },
   {
    "duration": 22,
    "start_time": "2022-11-10T03:29:51.470Z"
   },
   {
    "duration": 452,
    "start_time": "2022-11-10T03:29:51.494Z"
   },
   {
    "duration": 7,
    "start_time": "2022-11-10T03:29:51.947Z"
   },
   {
    "duration": 395,
    "start_time": "2022-11-10T03:29:51.956Z"
   },
   {
    "duration": 2,
    "start_time": "2022-11-10T03:29:52.353Z"
   },
   {
    "duration": 28,
    "start_time": "2022-11-10T03:29:52.357Z"
   },
   {
    "duration": 17,
    "start_time": "2022-11-10T03:29:52.389Z"
   },
   {
    "duration": 52,
    "start_time": "2022-11-10T03:29:52.408Z"
   },
   {
    "duration": 14,
    "start_time": "2022-11-10T03:29:52.461Z"
   },
   {
    "duration": 74,
    "start_time": "2022-11-10T03:29:52.477Z"
   },
   {
    "duration": 54,
    "start_time": "2022-11-10T03:29:52.553Z"
   },
   {
    "duration": 82,
    "start_time": "2022-11-10T03:29:52.609Z"
   },
   {
    "duration": 190,
    "start_time": "2022-11-10T03:29:52.693Z"
   },
   {
    "duration": 144,
    "start_time": "2022-11-10T03:29:52.885Z"
   },
   {
    "duration": 6,
    "start_time": "2022-11-10T03:29:53.045Z"
   },
   {
    "duration": 14,
    "start_time": "2022-11-10T03:29:53.052Z"
   },
   {
    "duration": 12,
    "start_time": "2022-11-10T03:29:53.067Z"
   },
   {
    "duration": 5,
    "start_time": "2022-11-10T03:29:53.081Z"
   },
   {
    "duration": 14,
    "start_time": "2022-11-10T03:29:53.087Z"
   },
   {
    "duration": 285,
    "start_time": "2022-11-10T03:29:53.102Z"
   },
   {
    "duration": 26,
    "start_time": "2022-11-10T03:29:53.388Z"
   },
   {
    "duration": 43,
    "start_time": "2022-11-10T03:29:53.416Z"
   },
   {
    "duration": 4,
    "start_time": "2022-11-10T03:29:53.461Z"
   },
   {
    "duration": 26,
    "start_time": "2022-11-10T03:29:53.467Z"
   },
   {
    "duration": 29,
    "start_time": "2022-11-10T03:29:53.496Z"
   },
   {
    "duration": 430,
    "start_time": "2022-11-10T03:29:53.527Z"
   },
   {
    "duration": 22,
    "start_time": "2022-11-10T03:29:53.959Z"
   },
   {
    "duration": 71,
    "start_time": "2022-11-10T03:29:53.983Z"
   },
   {
    "duration": 54,
    "start_time": "2022-11-10T03:29:54.056Z"
   },
   {
    "duration": 6,
    "start_time": "2022-11-10T03:29:54.111Z"
   },
   {
    "duration": 34,
    "start_time": "2022-11-10T03:29:54.118Z"
   },
   {
    "duration": 22,
    "start_time": "2022-11-10T03:29:54.153Z"
   },
   {
    "duration": 43,
    "start_time": "2022-11-10T03:29:54.176Z"
   },
   {
    "duration": 69,
    "start_time": "2022-11-10T03:29:54.221Z"
   },
   {
    "duration": 9,
    "start_time": "2022-11-10T03:29:54.291Z"
   },
   {
    "duration": 21,
    "start_time": "2022-11-10T03:29:54.302Z"
   },
   {
    "duration": 27,
    "start_time": "2022-11-10T03:29:54.324Z"
   },
   {
    "duration": 18,
    "start_time": "2022-11-10T03:29:54.352Z"
   },
   {
    "duration": 9,
    "start_time": "2022-11-10T03:29:54.372Z"
   },
   {
    "duration": 82,
    "start_time": "2022-11-10T03:29:54.383Z"
   },
   {
    "duration": 66,
    "start_time": "2022-11-10T03:29:54.468Z"
   },
   {
    "duration": 61,
    "start_time": "2022-11-10T03:29:54.537Z"
   },
   {
    "duration": 29,
    "start_time": "2022-11-10T03:29:54.600Z"
   },
   {
    "duration": 77,
    "start_time": "2022-11-10T03:29:54.632Z"
   },
   {
    "duration": 84,
    "start_time": "2022-11-10T03:29:54.710Z"
   },
   {
    "duration": 7,
    "start_time": "2022-11-10T03:31:08.620Z"
   },
   {
    "duration": 1129,
    "start_time": "2022-11-10T03:35:01.099Z"
   },
   {
    "duration": 180,
    "start_time": "2022-11-10T03:35:02.230Z"
   },
   {
    "duration": 17,
    "start_time": "2022-11-10T03:35:02.412Z"
   },
   {
    "duration": 44,
    "start_time": "2022-11-10T03:35:02.432Z"
   },
   {
    "duration": 438,
    "start_time": "2022-11-10T03:35:02.478Z"
   },
   {
    "duration": 450,
    "start_time": "2022-11-10T03:35:02.918Z"
   },
   {
    "duration": 7,
    "start_time": "2022-11-10T03:35:03.369Z"
   },
   {
    "duration": 9,
    "start_time": "2022-11-10T03:35:03.378Z"
   },
   {
    "duration": 33,
    "start_time": "2022-11-10T03:35:03.388Z"
   },
   {
    "duration": 45,
    "start_time": "2022-11-10T03:35:03.423Z"
   },
   {
    "duration": 61,
    "start_time": "2022-11-10T03:35:03.469Z"
   },
   {
    "duration": 67,
    "start_time": "2022-11-10T03:35:03.532Z"
   },
   {
    "duration": 83,
    "start_time": "2022-11-10T03:35:03.600Z"
   },
   {
    "duration": 198,
    "start_time": "2022-11-10T03:35:03.685Z"
   },
   {
    "duration": 149,
    "start_time": "2022-11-10T03:35:03.884Z"
   },
   {
    "duration": 13,
    "start_time": "2022-11-10T03:35:04.035Z"
   },
   {
    "duration": 14,
    "start_time": "2022-11-10T03:35:04.050Z"
   },
   {
    "duration": 13,
    "start_time": "2022-11-10T03:35:04.065Z"
   },
   {
    "duration": 5,
    "start_time": "2022-11-10T03:35:04.080Z"
   },
   {
    "duration": 12,
    "start_time": "2022-11-10T03:35:04.086Z"
   },
   {
    "duration": 308,
    "start_time": "2022-11-10T03:35:04.099Z"
   },
   {
    "duration": 46,
    "start_time": "2022-11-10T03:35:04.409Z"
   },
   {
    "duration": 38,
    "start_time": "2022-11-10T03:35:04.457Z"
   },
   {
    "duration": 5,
    "start_time": "2022-11-10T03:35:04.498Z"
   },
   {
    "duration": 13,
    "start_time": "2022-11-10T03:35:04.506Z"
   },
   {
    "duration": 55,
    "start_time": "2022-11-10T03:35:04.521Z"
   },
   {
    "duration": 525,
    "start_time": "2022-11-10T03:35:04.578Z"
   },
   {
    "duration": 24,
    "start_time": "2022-11-10T03:35:05.106Z"
   },
   {
    "duration": 83,
    "start_time": "2022-11-10T03:35:05.131Z"
   },
   {
    "duration": 7,
    "start_time": "2022-11-10T03:35:05.215Z"
   },
   {
    "duration": 32,
    "start_time": "2022-11-10T03:35:05.224Z"
   },
   {
    "duration": 19,
    "start_time": "2022-11-10T03:35:05.258Z"
   },
   {
    "duration": 36,
    "start_time": "2022-11-10T03:35:05.278Z"
   },
   {
    "duration": 87,
    "start_time": "2022-11-10T03:35:05.316Z"
   },
   {
    "duration": 8,
    "start_time": "2022-11-10T03:35:05.405Z"
   },
   {
    "duration": 9,
    "start_time": "2022-11-10T03:35:05.415Z"
   },
   {
    "duration": 22,
    "start_time": "2022-11-10T03:35:05.426Z"
   },
   {
    "duration": 22,
    "start_time": "2022-11-10T03:35:05.449Z"
   },
   {
    "duration": 4,
    "start_time": "2022-11-10T03:35:05.472Z"
   },
   {
    "duration": 22,
    "start_time": "2022-11-10T03:35:05.478Z"
   },
   {
    "duration": 21,
    "start_time": "2022-11-10T03:35:05.501Z"
   },
   {
    "duration": 45,
    "start_time": "2022-11-10T03:35:05.523Z"
   },
   {
    "duration": 22,
    "start_time": "2022-11-10T03:35:05.569Z"
   },
   {
    "duration": 102,
    "start_time": "2022-11-10T03:35:05.592Z"
   },
   {
    "duration": 98,
    "start_time": "2022-11-10T03:35:05.695Z"
   },
   {
    "duration": 847,
    "start_time": "2022-11-10T03:48:41.246Z"
   },
   {
    "duration": 988,
    "start_time": "2022-11-10T03:48:50.704Z"
   },
   {
    "duration": 154,
    "start_time": "2022-11-10T03:48:51.694Z"
   },
   {
    "duration": 16,
    "start_time": "2022-11-10T03:48:51.849Z"
   },
   {
    "duration": 20,
    "start_time": "2022-11-10T03:48:51.866Z"
   },
   {
    "duration": 428,
    "start_time": "2022-11-10T03:48:51.888Z"
   },
   {
    "duration": 7,
    "start_time": "2022-11-10T03:48:52.317Z"
   },
   {
    "duration": 41,
    "start_time": "2022-11-10T03:48:52.326Z"
   },
   {
    "duration": 14,
    "start_time": "2022-11-10T03:48:52.368Z"
   },
   {
    "duration": 75,
    "start_time": "2022-11-10T03:48:52.383Z"
   },
   {
    "duration": 55,
    "start_time": "2022-11-10T03:48:52.462Z"
   },
   {
    "duration": 84,
    "start_time": "2022-11-10T03:48:52.519Z"
   },
   {
    "duration": 180,
    "start_time": "2022-11-10T03:48:52.606Z"
   },
   {
    "duration": 136,
    "start_time": "2022-11-10T03:48:52.787Z"
   },
   {
    "duration": 4,
    "start_time": "2022-11-10T03:48:52.924Z"
   },
   {
    "duration": 6,
    "start_time": "2022-11-10T03:48:52.946Z"
   },
   {
    "duration": 11,
    "start_time": "2022-11-10T03:48:52.954Z"
   },
   {
    "duration": 9,
    "start_time": "2022-11-10T03:48:52.966Z"
   },
   {
    "duration": 6,
    "start_time": "2022-11-10T03:48:52.977Z"
   },
   {
    "duration": 288,
    "start_time": "2022-11-10T03:48:52.984Z"
   },
   {
    "duration": 28,
    "start_time": "2022-11-10T03:48:53.273Z"
   },
   {
    "duration": 28,
    "start_time": "2022-11-10T03:48:53.302Z"
   },
   {
    "duration": 5,
    "start_time": "2022-11-10T03:48:53.345Z"
   },
   {
    "duration": 12,
    "start_time": "2022-11-10T03:48:53.351Z"
   },
   {
    "duration": 23,
    "start_time": "2022-11-10T03:48:53.364Z"
   },
   {
    "duration": 434,
    "start_time": "2022-11-10T03:48:53.389Z"
   },
   {
    "duration": 30,
    "start_time": "2022-11-10T03:48:53.824Z"
   },
   {
    "duration": 54,
    "start_time": "2022-11-10T03:48:53.856Z"
   },
   {
    "duration": 7,
    "start_time": "2022-11-10T03:48:53.913Z"
   },
   {
    "duration": 35,
    "start_time": "2022-11-10T03:48:53.921Z"
   },
   {
    "duration": 10,
    "start_time": "2022-11-10T03:48:53.957Z"
   },
   {
    "duration": 35,
    "start_time": "2022-11-10T03:48:53.969Z"
   },
   {
    "duration": 79,
    "start_time": "2022-11-10T03:48:54.005Z"
   },
   {
    "duration": 8,
    "start_time": "2022-11-10T03:48:54.085Z"
   },
   {
    "duration": 6,
    "start_time": "2022-11-10T03:48:54.095Z"
   },
   {
    "duration": 12,
    "start_time": "2022-11-10T03:48:54.102Z"
   },
   {
    "duration": 8,
    "start_time": "2022-11-10T03:48:54.116Z"
   },
   {
    "duration": 22,
    "start_time": "2022-11-10T03:48:54.125Z"
   },
   {
    "duration": 24,
    "start_time": "2022-11-10T03:48:54.149Z"
   },
   {
    "duration": 20,
    "start_time": "2022-11-10T03:48:54.174Z"
   },
   {
    "duration": 19,
    "start_time": "2022-11-10T03:48:54.196Z"
   },
   {
    "duration": 21,
    "start_time": "2022-11-10T03:48:54.245Z"
   },
   {
    "duration": 92,
    "start_time": "2022-11-10T03:48:54.268Z"
   },
   {
    "duration": 102,
    "start_time": "2022-11-10T03:48:54.362Z"
   },
   {
    "duration": 829,
    "start_time": "2022-11-10T03:51:53.901Z"
   },
   {
    "duration": 1067,
    "start_time": "2022-11-10T03:52:01.626Z"
   },
   {
    "duration": 154,
    "start_time": "2022-11-10T03:52:02.695Z"
   },
   {
    "duration": 16,
    "start_time": "2022-11-10T03:52:02.851Z"
   },
   {
    "duration": 17,
    "start_time": "2022-11-10T03:52:02.869Z"
   },
   {
    "duration": 416,
    "start_time": "2022-11-10T03:52:02.888Z"
   },
   {
    "duration": 7,
    "start_time": "2022-11-10T03:52:03.306Z"
   },
   {
    "duration": 48,
    "start_time": "2022-11-10T03:52:03.315Z"
   },
   {
    "duration": 14,
    "start_time": "2022-11-10T03:52:03.365Z"
   },
   {
    "duration": 67,
    "start_time": "2022-11-10T03:52:03.380Z"
   },
   {
    "duration": 54,
    "start_time": "2022-11-10T03:52:03.450Z"
   },
   {
    "duration": 87,
    "start_time": "2022-11-10T03:52:03.507Z"
   },
   {
    "duration": 179,
    "start_time": "2022-11-10T03:52:03.596Z"
   },
   {
    "duration": 142,
    "start_time": "2022-11-10T03:52:03.777Z"
   },
   {
    "duration": 4,
    "start_time": "2022-11-10T03:52:03.921Z"
   },
   {
    "duration": 24,
    "start_time": "2022-11-10T03:52:03.926Z"
   },
   {
    "duration": 12,
    "start_time": "2022-11-10T03:52:03.952Z"
   },
   {
    "duration": 10,
    "start_time": "2022-11-10T03:52:03.966Z"
   },
   {
    "duration": 15,
    "start_time": "2022-11-10T03:52:03.977Z"
   },
   {
    "duration": 273,
    "start_time": "2022-11-10T03:52:03.993Z"
   },
   {
    "duration": 28,
    "start_time": "2022-11-10T03:52:04.268Z"
   },
   {
    "duration": 29,
    "start_time": "2022-11-10T03:52:04.297Z"
   },
   {
    "duration": 4,
    "start_time": "2022-11-10T03:52:04.345Z"
   },
   {
    "duration": 11,
    "start_time": "2022-11-10T03:52:04.351Z"
   },
   {
    "duration": 27,
    "start_time": "2022-11-10T03:52:04.364Z"
   },
   {
    "duration": 491,
    "start_time": "2022-11-10T03:52:04.393Z"
   },
   {
    "duration": 24,
    "start_time": "2022-11-10T03:52:04.885Z"
   },
   {
    "duration": 69,
    "start_time": "2022-11-10T03:52:04.911Z"
   },
   {
    "duration": 6,
    "start_time": "2022-11-10T03:52:04.985Z"
   },
   {
    "duration": 15,
    "start_time": "2022-11-10T03:52:04.993Z"
   },
   {
    "duration": 6,
    "start_time": "2022-11-10T03:52:05.010Z"
   },
   {
    "duration": 59,
    "start_time": "2022-11-10T03:52:05.018Z"
   },
   {
    "duration": 77,
    "start_time": "2022-11-10T03:52:05.079Z"
   },
   {
    "duration": 10,
    "start_time": "2022-11-10T03:52:05.158Z"
   },
   {
    "duration": 6,
    "start_time": "2022-11-10T03:52:05.170Z"
   },
   {
    "duration": 33,
    "start_time": "2022-11-10T03:52:05.178Z"
   },
   {
    "duration": 16,
    "start_time": "2022-11-10T03:52:05.213Z"
   },
   {
    "duration": 4,
    "start_time": "2022-11-10T03:52:05.231Z"
   },
   {
    "duration": 27,
    "start_time": "2022-11-10T03:52:05.237Z"
   },
   {
    "duration": 24,
    "start_time": "2022-11-10T03:52:05.266Z"
   },
   {
    "duration": 22,
    "start_time": "2022-11-10T03:52:05.292Z"
   },
   {
    "duration": 48,
    "start_time": "2022-11-10T03:52:05.315Z"
   },
   {
    "duration": 182,
    "start_time": "2022-11-10T03:52:05.365Z"
   },
   {
    "duration": 203,
    "start_time": "2022-11-10T03:52:05.550Z"
   },
   {
    "duration": 915,
    "start_time": "2022-11-10T03:52:56.047Z"
   },
   {
    "duration": 1082,
    "start_time": "2022-11-10T03:53:02.010Z"
   },
   {
    "duration": 164,
    "start_time": "2022-11-10T03:53:03.093Z"
   },
   {
    "duration": 18,
    "start_time": "2022-11-10T03:53:03.258Z"
   },
   {
    "duration": 26,
    "start_time": "2022-11-10T03:53:03.278Z"
   },
   {
    "duration": 416,
    "start_time": "2022-11-10T03:53:03.306Z"
   },
   {
    "duration": 9,
    "start_time": "2022-11-10T03:53:03.724Z"
   },
   {
    "duration": 44,
    "start_time": "2022-11-10T03:53:03.734Z"
   },
   {
    "duration": 16,
    "start_time": "2022-11-10T03:53:03.780Z"
   },
   {
    "duration": 78,
    "start_time": "2022-11-10T03:53:03.798Z"
   },
   {
    "duration": 67,
    "start_time": "2022-11-10T03:53:03.879Z"
   },
   {
    "duration": 68,
    "start_time": "2022-11-10T03:53:03.947Z"
   },
   {
    "duration": 190,
    "start_time": "2022-11-10T03:53:04.016Z"
   },
   {
    "duration": 147,
    "start_time": "2022-11-10T03:53:04.207Z"
   },
   {
    "duration": 3,
    "start_time": "2022-11-10T03:53:04.356Z"
   },
   {
    "duration": 11,
    "start_time": "2022-11-10T03:53:04.361Z"
   },
   {
    "duration": 11,
    "start_time": "2022-11-10T03:53:04.374Z"
   },
   {
    "duration": 17,
    "start_time": "2022-11-10T03:53:04.387Z"
   },
   {
    "duration": 22,
    "start_time": "2022-11-10T03:53:04.406Z"
   },
   {
    "duration": 325,
    "start_time": "2022-11-10T03:53:04.430Z"
   },
   {
    "duration": 28,
    "start_time": "2022-11-10T03:53:04.757Z"
   },
   {
    "duration": 30,
    "start_time": "2022-11-10T03:53:04.787Z"
   },
   {
    "duration": 4,
    "start_time": "2022-11-10T03:53:04.818Z"
   },
   {
    "duration": 31,
    "start_time": "2022-11-10T03:53:04.823Z"
   },
   {
    "duration": 37,
    "start_time": "2022-11-10T03:53:04.856Z"
   },
   {
    "duration": 441,
    "start_time": "2022-11-10T03:53:04.895Z"
   },
   {
    "duration": 27,
    "start_time": "2022-11-10T03:53:05.337Z"
   },
   {
    "duration": 56,
    "start_time": "2022-11-10T03:53:05.365Z"
   },
   {
    "duration": 25,
    "start_time": "2022-11-10T03:53:05.424Z"
   },
   {
    "duration": 16,
    "start_time": "2022-11-10T03:53:05.450Z"
   },
   {
    "duration": 31,
    "start_time": "2022-11-10T03:53:05.468Z"
   },
   {
    "duration": 48,
    "start_time": "2022-11-10T03:53:05.501Z"
   },
   {
    "duration": 70,
    "start_time": "2022-11-10T03:53:05.551Z"
   },
   {
    "duration": 25,
    "start_time": "2022-11-10T03:53:05.622Z"
   },
   {
    "duration": 6,
    "start_time": "2022-11-10T03:53:05.649Z"
   },
   {
    "duration": 20,
    "start_time": "2022-11-10T03:53:05.656Z"
   },
   {
    "duration": 19,
    "start_time": "2022-11-10T03:53:05.678Z"
   },
   {
    "duration": 6,
    "start_time": "2022-11-10T03:53:05.699Z"
   },
   {
    "duration": 28,
    "start_time": "2022-11-10T03:53:05.707Z"
   },
   {
    "duration": 21,
    "start_time": "2022-11-10T03:53:05.736Z"
   },
   {
    "duration": 21,
    "start_time": "2022-11-10T03:53:05.758Z"
   },
   {
    "duration": 24,
    "start_time": "2022-11-10T03:53:05.781Z"
   },
   {
    "duration": 92,
    "start_time": "2022-11-10T03:53:05.806Z"
   },
   {
    "duration": 90,
    "start_time": "2022-11-10T03:53:05.899Z"
   },
   {
    "duration": 1114,
    "start_time": "2022-11-10T04:13:49.241Z"
   },
   {
    "duration": 167,
    "start_time": "2022-11-10T04:13:50.358Z"
   },
   {
    "duration": 22,
    "start_time": "2022-11-10T04:13:50.527Z"
   },
   {
    "duration": 21,
    "start_time": "2022-11-10T04:13:50.552Z"
   },
   {
    "duration": 446,
    "start_time": "2022-11-10T04:13:50.575Z"
   },
   {
    "duration": 8,
    "start_time": "2022-11-10T04:13:51.022Z"
   },
   {
    "duration": 43,
    "start_time": "2022-11-10T04:13:51.032Z"
   },
   {
    "duration": 14,
    "start_time": "2022-11-10T04:13:51.076Z"
   },
   {
    "duration": 74,
    "start_time": "2022-11-10T04:13:51.092Z"
   },
   {
    "duration": 56,
    "start_time": "2022-11-10T04:13:51.169Z"
   },
   {
    "duration": 86,
    "start_time": "2022-11-10T04:13:51.226Z"
   },
   {
    "duration": 198,
    "start_time": "2022-11-10T04:13:51.314Z"
   },
   {
    "duration": 158,
    "start_time": "2022-11-10T04:13:51.513Z"
   },
   {
    "duration": 4,
    "start_time": "2022-11-10T04:13:51.672Z"
   },
   {
    "duration": 10,
    "start_time": "2022-11-10T04:13:51.677Z"
   },
   {
    "duration": 18,
    "start_time": "2022-11-10T04:13:51.689Z"
   },
   {
    "duration": 19,
    "start_time": "2022-11-10T04:13:51.709Z"
   },
   {
    "duration": 25,
    "start_time": "2022-11-10T04:13:51.730Z"
   },
   {
    "duration": 321,
    "start_time": "2022-11-10T04:13:51.757Z"
   },
   {
    "duration": 26,
    "start_time": "2022-11-10T04:13:52.080Z"
   },
   {
    "duration": 44,
    "start_time": "2022-11-10T04:13:52.107Z"
   },
   {
    "duration": 7,
    "start_time": "2022-11-10T04:13:52.153Z"
   },
   {
    "duration": 11,
    "start_time": "2022-11-10T04:13:52.162Z"
   },
   {
    "duration": 36,
    "start_time": "2022-11-10T04:13:52.174Z"
   },
   {
    "duration": 453,
    "start_time": "2022-11-10T04:13:52.212Z"
   },
   {
    "duration": 23,
    "start_time": "2022-11-10T04:13:52.668Z"
   },
   {
    "duration": 66,
    "start_time": "2022-11-10T04:13:52.692Z"
   },
   {
    "duration": 7,
    "start_time": "2022-11-10T04:13:52.761Z"
   },
   {
    "duration": 16,
    "start_time": "2022-11-10T04:13:52.770Z"
   },
   {
    "duration": 7,
    "start_time": "2022-11-10T04:13:52.788Z"
   },
   {
    "duration": 49,
    "start_time": "2022-11-10T04:13:52.796Z"
   },
   {
    "duration": 73,
    "start_time": "2022-11-10T04:13:52.847Z"
   },
   {
    "duration": 23,
    "start_time": "2022-11-10T04:13:52.922Z"
   },
   {
    "duration": 11,
    "start_time": "2022-11-10T04:13:52.947Z"
   },
   {
    "duration": 12,
    "start_time": "2022-11-10T04:13:52.960Z"
   },
   {
    "duration": 11,
    "start_time": "2022-11-10T04:13:52.974Z"
   },
   {
    "duration": 5,
    "start_time": "2022-11-10T04:13:52.986Z"
   },
   {
    "duration": 28,
    "start_time": "2022-11-10T04:13:52.993Z"
   },
   {
    "duration": 35,
    "start_time": "2022-11-10T04:13:53.023Z"
   },
   {
    "duration": 22,
    "start_time": "2022-11-10T04:13:53.061Z"
   },
   {
    "duration": 26,
    "start_time": "2022-11-10T04:13:53.084Z"
   },
   {
    "duration": 97,
    "start_time": "2022-11-10T04:13:53.111Z"
   },
   {
    "duration": 98,
    "start_time": "2022-11-10T04:13:53.210Z"
   },
   {
    "duration": 1094,
    "start_time": "2022-11-10T04:14:36.509Z"
   },
   {
    "duration": 175,
    "start_time": "2022-11-10T04:14:37.605Z"
   },
   {
    "duration": 17,
    "start_time": "2022-11-10T04:14:37.783Z"
   },
   {
    "duration": 26,
    "start_time": "2022-11-10T04:14:37.801Z"
   },
   {
    "duration": 454,
    "start_time": "2022-11-10T04:14:37.829Z"
   },
   {
    "duration": 7,
    "start_time": "2022-11-10T04:14:38.285Z"
   },
   {
    "duration": 34,
    "start_time": "2022-11-10T04:14:38.294Z"
   },
   {
    "duration": 38,
    "start_time": "2022-11-10T04:14:38.330Z"
   },
   {
    "duration": 79,
    "start_time": "2022-11-10T04:14:38.370Z"
   },
   {
    "duration": 65,
    "start_time": "2022-11-10T04:14:38.451Z"
   },
   {
    "duration": 86,
    "start_time": "2022-11-10T04:14:38.517Z"
   },
   {
    "duration": 202,
    "start_time": "2022-11-10T04:14:38.605Z"
   },
   {
    "duration": 163,
    "start_time": "2022-11-10T04:14:38.809Z"
   },
   {
    "duration": 3,
    "start_time": "2022-11-10T04:14:38.974Z"
   },
   {
    "duration": 11,
    "start_time": "2022-11-10T04:14:38.979Z"
   },
   {
    "duration": 13,
    "start_time": "2022-11-10T04:14:38.992Z"
   },
   {
    "duration": 6,
    "start_time": "2022-11-10T04:14:39.006Z"
   },
   {
    "duration": 32,
    "start_time": "2022-11-10T04:14:39.014Z"
   },
   {
    "duration": 320,
    "start_time": "2022-11-10T04:14:39.048Z"
   },
   {
    "duration": 31,
    "start_time": "2022-11-10T04:14:39.370Z"
   },
   {
    "duration": 45,
    "start_time": "2022-11-10T04:14:39.402Z"
   },
   {
    "duration": 10,
    "start_time": "2022-11-10T04:14:39.452Z"
   },
   {
    "duration": 16,
    "start_time": "2022-11-10T04:14:39.464Z"
   },
   {
    "duration": 28,
    "start_time": "2022-11-10T04:14:39.482Z"
   },
   {
    "duration": 465,
    "start_time": "2022-11-10T04:14:39.512Z"
   },
   {
    "duration": 24,
    "start_time": "2022-11-10T04:14:39.978Z"
   },
   {
    "duration": 74,
    "start_time": "2022-11-10T04:14:40.004Z"
   },
   {
    "duration": 7,
    "start_time": "2022-11-10T04:14:40.080Z"
   },
   {
    "duration": 34,
    "start_time": "2022-11-10T04:14:40.088Z"
   },
   {
    "duration": 10,
    "start_time": "2022-11-10T04:14:40.124Z"
   },
   {
    "duration": 37,
    "start_time": "2022-11-10T04:14:40.136Z"
   },
   {
    "duration": 75,
    "start_time": "2022-11-10T04:14:40.175Z"
   },
   {
    "duration": 13,
    "start_time": "2022-11-10T04:14:40.252Z"
   },
   {
    "duration": 22,
    "start_time": "2022-11-10T04:14:40.267Z"
   },
   {
    "duration": 43,
    "start_time": "2022-11-10T04:14:40.290Z"
   },
   {
    "duration": 43,
    "start_time": "2022-11-10T04:14:40.335Z"
   },
   {
    "duration": 15,
    "start_time": "2022-11-10T04:14:40.379Z"
   },
   {
    "duration": 29,
    "start_time": "2022-11-10T04:14:40.396Z"
   },
   {
    "duration": 36,
    "start_time": "2022-11-10T04:14:40.426Z"
   },
   {
    "duration": 20,
    "start_time": "2022-11-10T04:14:40.464Z"
   },
   {
    "duration": 49,
    "start_time": "2022-11-10T04:14:40.487Z"
   },
   {
    "duration": 75,
    "start_time": "2022-11-10T04:14:40.538Z"
   },
   {
    "duration": 91,
    "start_time": "2022-11-10T04:14:40.615Z"
   },
   {
    "duration": 1113,
    "start_time": "2022-11-10T04:15:28.108Z"
   },
   {
    "duration": 183,
    "start_time": "2022-11-10T04:15:29.223Z"
   },
   {
    "duration": 17,
    "start_time": "2022-11-10T04:15:29.408Z"
   },
   {
    "duration": 36,
    "start_time": "2022-11-10T04:15:29.427Z"
   },
   {
    "duration": 437,
    "start_time": "2022-11-10T04:15:29.465Z"
   },
   {
    "duration": 8,
    "start_time": "2022-11-10T04:15:29.905Z"
   },
   {
    "duration": 51,
    "start_time": "2022-11-10T04:15:29.915Z"
   },
   {
    "duration": 15,
    "start_time": "2022-11-10T04:15:29.968Z"
   },
   {
    "duration": 89,
    "start_time": "2022-11-10T04:15:29.985Z"
   },
   {
    "duration": 70,
    "start_time": "2022-11-10T04:15:30.077Z"
   },
   {
    "duration": 72,
    "start_time": "2022-11-10T04:15:30.149Z"
   },
   {
    "duration": 204,
    "start_time": "2022-11-10T04:15:30.223Z"
   },
   {
    "duration": 156,
    "start_time": "2022-11-10T04:15:30.429Z"
   },
   {
    "duration": 4,
    "start_time": "2022-11-10T04:15:30.586Z"
   },
   {
    "duration": 39,
    "start_time": "2022-11-10T04:15:30.592Z"
   },
   {
    "duration": 56,
    "start_time": "2022-11-10T04:15:30.633Z"
   },
   {
    "duration": 40,
    "start_time": "2022-11-10T04:15:30.690Z"
   },
   {
    "duration": 43,
    "start_time": "2022-11-10T04:15:30.731Z"
   },
   {
    "duration": 270,
    "start_time": "2022-11-10T04:15:30.776Z"
   },
   {
    "duration": 33,
    "start_time": "2022-11-10T04:15:31.048Z"
   },
   {
    "duration": 31,
    "start_time": "2022-11-10T04:15:31.083Z"
   },
   {
    "duration": 7,
    "start_time": "2022-11-10T04:15:31.116Z"
   },
   {
    "duration": 47,
    "start_time": "2022-11-10T04:15:31.124Z"
   },
   {
    "duration": 35,
    "start_time": "2022-11-10T04:15:31.173Z"
   },
   {
    "duration": 433,
    "start_time": "2022-11-10T04:15:31.210Z"
   },
   {
    "duration": 32,
    "start_time": "2022-11-10T04:15:31.647Z"
   },
   {
    "duration": 72,
    "start_time": "2022-11-10T04:15:31.681Z"
   },
   {
    "duration": 8,
    "start_time": "2022-11-10T04:15:31.757Z"
   },
   {
    "duration": 19,
    "start_time": "2022-11-10T04:15:31.766Z"
   },
   {
    "duration": 39,
    "start_time": "2022-11-10T04:15:31.787Z"
   },
   {
    "duration": 55,
    "start_time": "2022-11-10T04:15:31.828Z"
   },
   {
    "duration": 78,
    "start_time": "2022-11-10T04:15:31.884Z"
   },
   {
    "duration": 11,
    "start_time": "2022-11-10T04:15:31.964Z"
   },
   {
    "duration": 30,
    "start_time": "2022-11-10T04:15:31.977Z"
   },
   {
    "duration": 20,
    "start_time": "2022-11-10T04:15:32.009Z"
   },
   {
    "duration": 32,
    "start_time": "2022-11-10T04:15:32.030Z"
   },
   {
    "duration": 11,
    "start_time": "2022-11-10T04:15:32.064Z"
   },
   {
    "duration": 48,
    "start_time": "2022-11-10T04:15:32.076Z"
   },
   {
    "duration": 29,
    "start_time": "2022-11-10T04:15:32.125Z"
   },
   {
    "duration": 80,
    "start_time": "2022-11-10T04:15:32.158Z"
   },
   {
    "duration": 43,
    "start_time": "2022-11-10T04:15:32.239Z"
   },
   {
    "duration": 80,
    "start_time": "2022-11-10T04:15:32.283Z"
   },
   {
    "duration": 90,
    "start_time": "2022-11-10T04:15:32.365Z"
   },
   {
    "duration": 1153,
    "start_time": "2022-11-10T04:16:21.048Z"
   },
   {
    "duration": 175,
    "start_time": "2022-11-10T04:16:22.203Z"
   },
   {
    "duration": 15,
    "start_time": "2022-11-10T04:16:22.379Z"
   },
   {
    "duration": 21,
    "start_time": "2022-11-10T04:16:22.396Z"
   },
   {
    "duration": 436,
    "start_time": "2022-11-10T04:16:22.418Z"
   },
   {
    "duration": 9,
    "start_time": "2022-11-10T04:16:22.856Z"
   },
   {
    "duration": 34,
    "start_time": "2022-11-10T04:16:22.866Z"
   },
   {
    "duration": 14,
    "start_time": "2022-11-10T04:16:22.901Z"
   },
   {
    "duration": 91,
    "start_time": "2022-11-10T04:16:22.917Z"
   },
   {
    "duration": 75,
    "start_time": "2022-11-10T04:16:23.010Z"
   },
   {
    "duration": 80,
    "start_time": "2022-11-10T04:16:23.087Z"
   },
   {
    "duration": 201,
    "start_time": "2022-11-10T04:16:23.169Z"
   },
   {
    "duration": 158,
    "start_time": "2022-11-10T04:16:23.372Z"
   },
   {
    "duration": 3,
    "start_time": "2022-11-10T04:16:23.532Z"
   },
   {
    "duration": 35,
    "start_time": "2022-11-10T04:16:23.547Z"
   },
   {
    "duration": 21,
    "start_time": "2022-11-10T04:16:23.584Z"
   },
   {
    "duration": 5,
    "start_time": "2022-11-10T04:16:23.607Z"
   },
   {
    "duration": 5,
    "start_time": "2022-11-10T04:16:23.614Z"
   },
   {
    "duration": 292,
    "start_time": "2022-11-10T04:16:23.621Z"
   },
   {
    "duration": 43,
    "start_time": "2022-11-10T04:16:23.915Z"
   },
   {
    "duration": 29,
    "start_time": "2022-11-10T04:16:23.960Z"
   },
   {
    "duration": 4,
    "start_time": "2022-11-10T04:16:23.990Z"
   },
   {
    "duration": 13,
    "start_time": "2022-11-10T04:16:23.996Z"
   },
   {
    "duration": 53,
    "start_time": "2022-11-10T04:16:24.011Z"
   },
   {
    "duration": 460,
    "start_time": "2022-11-10T04:16:24.067Z"
   },
   {
    "duration": 42,
    "start_time": "2022-11-10T04:16:24.529Z"
   },
   {
    "duration": 90,
    "start_time": "2022-11-10T04:16:24.573Z"
   },
   {
    "duration": 8,
    "start_time": "2022-11-10T04:16:24.667Z"
   },
   {
    "duration": 21,
    "start_time": "2022-11-10T04:16:24.677Z"
   },
   {
    "duration": 24,
    "start_time": "2022-11-10T04:16:24.702Z"
   },
   {
    "duration": 58,
    "start_time": "2022-11-10T04:16:24.728Z"
   },
   {
    "duration": 74,
    "start_time": "2022-11-10T04:16:24.787Z"
   },
   {
    "duration": 9,
    "start_time": "2022-11-10T04:16:24.863Z"
   },
   {
    "duration": 11,
    "start_time": "2022-11-10T04:16:24.874Z"
   },
   {
    "duration": 20,
    "start_time": "2022-11-10T04:16:24.887Z"
   },
   {
    "duration": 17,
    "start_time": "2022-11-10T04:16:24.909Z"
   },
   {
    "duration": 6,
    "start_time": "2022-11-10T04:16:24.927Z"
   },
   {
    "duration": 35,
    "start_time": "2022-11-10T04:16:24.935Z"
   },
   {
    "duration": 20,
    "start_time": "2022-11-10T04:16:24.971Z"
   },
   {
    "duration": 20,
    "start_time": "2022-11-10T04:16:24.993Z"
   },
   {
    "duration": 50,
    "start_time": "2022-11-10T04:16:25.014Z"
   },
   {
    "duration": 91,
    "start_time": "2022-11-10T04:16:25.066Z"
   },
   {
    "duration": 95,
    "start_time": "2022-11-10T04:16:25.159Z"
   },
   {
    "duration": 1033,
    "start_time": "2022-11-10T04:19:46.696Z"
   },
   {
    "duration": 167,
    "start_time": "2022-11-10T04:19:47.731Z"
   },
   {
    "duration": 14,
    "start_time": "2022-11-10T04:19:47.900Z"
   },
   {
    "duration": 19,
    "start_time": "2022-11-10T04:19:47.916Z"
   },
   {
    "duration": 446,
    "start_time": "2022-11-10T04:19:47.946Z"
   },
   {
    "duration": 7,
    "start_time": "2022-11-10T04:19:48.395Z"
   },
   {
    "duration": 51,
    "start_time": "2022-11-10T04:19:48.404Z"
   },
   {
    "duration": 19,
    "start_time": "2022-11-10T04:19:48.458Z"
   },
   {
    "duration": 89,
    "start_time": "2022-11-10T04:19:48.478Z"
   },
   {
    "duration": 61,
    "start_time": "2022-11-10T04:19:48.571Z"
   },
   {
    "duration": 73,
    "start_time": "2022-11-10T04:19:48.646Z"
   },
   {
    "duration": 202,
    "start_time": "2022-11-10T04:19:48.721Z"
   },
   {
    "duration": 207,
    "start_time": "2022-11-10T04:19:48.924Z"
   },
   {
    "duration": 5,
    "start_time": "2022-11-10T04:19:49.133Z"
   },
   {
    "duration": 32,
    "start_time": "2022-11-10T04:19:49.145Z"
   },
   {
    "duration": 21,
    "start_time": "2022-11-10T04:19:49.179Z"
   },
   {
    "duration": 7,
    "start_time": "2022-11-10T04:19:49.202Z"
   },
   {
    "duration": 6,
    "start_time": "2022-11-10T04:19:49.211Z"
   },
   {
    "duration": 276,
    "start_time": "2022-11-10T04:19:49.219Z"
   },
   {
    "duration": 26,
    "start_time": "2022-11-10T04:19:49.496Z"
   },
   {
    "duration": 47,
    "start_time": "2022-11-10T04:19:49.524Z"
   },
   {
    "duration": 4,
    "start_time": "2022-11-10T04:19:49.572Z"
   },
   {
    "duration": 10,
    "start_time": "2022-11-10T04:19:49.578Z"
   },
   {
    "duration": 34,
    "start_time": "2022-11-10T04:19:49.590Z"
   },
   {
    "duration": 436,
    "start_time": "2022-11-10T04:19:49.625Z"
   },
   {
    "duration": 25,
    "start_time": "2022-11-10T04:19:50.063Z"
   },
   {
    "duration": 76,
    "start_time": "2022-11-10T04:19:50.090Z"
   },
   {
    "duration": 8,
    "start_time": "2022-11-10T04:19:50.169Z"
   },
   {
    "duration": 18,
    "start_time": "2022-11-10T04:19:50.178Z"
   },
   {
    "duration": 11,
    "start_time": "2022-11-10T04:19:50.198Z"
   },
   {
    "duration": 51,
    "start_time": "2022-11-10T04:19:50.211Z"
   },
   {
    "duration": 69,
    "start_time": "2022-11-10T04:19:50.264Z"
   },
   {
    "duration": 22,
    "start_time": "2022-11-10T04:19:50.335Z"
   },
   {
    "duration": 20,
    "start_time": "2022-11-10T04:19:50.359Z"
   },
   {
    "duration": 13,
    "start_time": "2022-11-10T04:19:50.380Z"
   },
   {
    "duration": 12,
    "start_time": "2022-11-10T04:19:50.394Z"
   },
   {
    "duration": 8,
    "start_time": "2022-11-10T04:19:50.408Z"
   },
   {
    "duration": 24,
    "start_time": "2022-11-10T04:19:50.417Z"
   },
   {
    "duration": 24,
    "start_time": "2022-11-10T04:19:50.450Z"
   },
   {
    "duration": 28,
    "start_time": "2022-11-10T04:19:50.475Z"
   },
   {
    "duration": 45,
    "start_time": "2022-11-10T04:19:50.505Z"
   },
   {
    "duration": 75,
    "start_time": "2022-11-10T04:19:50.553Z"
   },
   {
    "duration": 88,
    "start_time": "2022-11-10T04:19:50.629Z"
   },
   {
    "duration": 1084,
    "start_time": "2022-11-10T04:24:57.499Z"
   },
   {
    "duration": 181,
    "start_time": "2022-11-10T04:24:58.585Z"
   },
   {
    "duration": 16,
    "start_time": "2022-11-10T04:24:58.768Z"
   },
   {
    "duration": 22,
    "start_time": "2022-11-10T04:24:58.786Z"
   },
   {
    "duration": 455,
    "start_time": "2022-11-10T04:24:58.810Z"
   },
   {
    "duration": 8,
    "start_time": "2022-11-10T04:24:59.268Z"
   },
   {
    "duration": 53,
    "start_time": "2022-11-10T04:24:59.278Z"
   },
   {
    "duration": 29,
    "start_time": "2022-11-10T04:24:59.333Z"
   },
   {
    "duration": 70,
    "start_time": "2022-11-10T04:24:59.365Z"
   },
   {
    "duration": 60,
    "start_time": "2022-11-10T04:24:59.451Z"
   },
   {
    "duration": 85,
    "start_time": "2022-11-10T04:24:59.512Z"
   },
   {
    "duration": 198,
    "start_time": "2022-11-10T04:24:59.599Z"
   },
   {
    "duration": 170,
    "start_time": "2022-11-10T04:24:59.799Z"
   },
   {
    "duration": 3,
    "start_time": "2022-11-10T04:24:59.971Z"
   },
   {
    "duration": 11,
    "start_time": "2022-11-10T04:24:59.976Z"
   },
   {
    "duration": 14,
    "start_time": "2022-11-10T04:24:59.988Z"
   },
   {
    "duration": 5,
    "start_time": "2022-11-10T04:25:00.003Z"
   },
   {
    "duration": 17,
    "start_time": "2022-11-10T04:25:00.010Z"
   },
   {
    "duration": 310,
    "start_time": "2022-11-10T04:25:00.045Z"
   },
   {
    "duration": 36,
    "start_time": "2022-11-10T04:25:00.357Z"
   },
   {
    "duration": 31,
    "start_time": "2022-11-10T04:25:00.395Z"
   },
   {
    "duration": 20,
    "start_time": "2022-11-10T04:25:00.428Z"
   },
   {
    "duration": 35,
    "start_time": "2022-11-10T04:25:00.450Z"
   },
   {
    "duration": 52,
    "start_time": "2022-11-10T04:25:00.487Z"
   },
   {
    "duration": 445,
    "start_time": "2022-11-10T04:25:00.541Z"
   },
   {
    "duration": 25,
    "start_time": "2022-11-10T04:25:00.988Z"
   },
   {
    "duration": 79,
    "start_time": "2022-11-10T04:25:01.015Z"
   },
   {
    "duration": 6,
    "start_time": "2022-11-10T04:25:01.098Z"
   },
   {
    "duration": 24,
    "start_time": "2022-11-10T04:25:01.106Z"
   },
   {
    "duration": 38,
    "start_time": "2022-11-10T04:25:01.131Z"
   },
   {
    "duration": 53,
    "start_time": "2022-11-10T04:25:01.171Z"
   },
   {
    "duration": 78,
    "start_time": "2022-11-10T04:25:01.226Z"
   },
   {
    "duration": 9,
    "start_time": "2022-11-10T04:25:01.306Z"
   },
   {
    "duration": 27,
    "start_time": "2022-11-10T04:25:01.316Z"
   },
   {
    "duration": 87,
    "start_time": "2022-11-10T04:25:01.344Z"
   },
   {
    "duration": 57,
    "start_time": "2022-11-10T04:25:01.432Z"
   },
   {
    "duration": 53,
    "start_time": "2022-11-10T04:25:01.491Z"
   },
   {
    "duration": 51,
    "start_time": "2022-11-10T04:25:01.547Z"
   },
   {
    "duration": 45,
    "start_time": "2022-11-10T04:25:01.600Z"
   },
   {
    "duration": 38,
    "start_time": "2022-11-10T04:25:01.647Z"
   },
   {
    "duration": 24,
    "start_time": "2022-11-10T04:25:01.687Z"
   },
   {
    "duration": 78,
    "start_time": "2022-11-10T04:25:01.713Z"
   },
   {
    "duration": 90,
    "start_time": "2022-11-10T04:25:01.793Z"
   },
   {
    "duration": 1366,
    "start_time": "2022-11-10T08:40:10.298Z"
   },
   {
    "duration": 744,
    "start_time": "2022-11-10T08:40:11.666Z"
   },
   {
    "duration": 19,
    "start_time": "2022-11-10T08:40:12.412Z"
   },
   {
    "duration": 23,
    "start_time": "2022-11-10T08:40:12.433Z"
   },
   {
    "duration": 477,
    "start_time": "2022-11-10T08:40:12.458Z"
   },
   {
    "duration": 8,
    "start_time": "2022-11-10T08:40:12.936Z"
   },
   {
    "duration": 36,
    "start_time": "2022-11-10T08:40:12.946Z"
   },
   {
    "duration": 18,
    "start_time": "2022-11-10T08:40:12.984Z"
   },
   {
    "duration": 98,
    "start_time": "2022-11-10T08:40:13.004Z"
   },
   {
    "duration": 73,
    "start_time": "2022-11-10T08:40:13.106Z"
   },
   {
    "duration": 85,
    "start_time": "2022-11-10T08:40:13.181Z"
   },
   {
    "duration": 205,
    "start_time": "2022-11-10T08:40:13.268Z"
   },
   {
    "duration": 167,
    "start_time": "2022-11-10T08:40:13.475Z"
   },
   {
    "duration": 4,
    "start_time": "2022-11-10T08:40:13.644Z"
   },
   {
    "duration": 10,
    "start_time": "2022-11-10T08:40:13.650Z"
   },
   {
    "duration": 15,
    "start_time": "2022-11-10T08:40:13.662Z"
   },
   {
    "duration": 6,
    "start_time": "2022-11-10T08:40:13.679Z"
   },
   {
    "duration": 5,
    "start_time": "2022-11-10T08:40:13.687Z"
   },
   {
    "duration": 347,
    "start_time": "2022-11-10T08:40:13.694Z"
   },
   {
    "duration": 31,
    "start_time": "2022-11-10T08:40:14.043Z"
   },
   {
    "duration": 30,
    "start_time": "2022-11-10T08:40:14.076Z"
   },
   {
    "duration": 28,
    "start_time": "2022-11-10T08:40:14.109Z"
   },
   {
    "duration": 12,
    "start_time": "2022-11-10T08:40:14.139Z"
   },
   {
    "duration": 33,
    "start_time": "2022-11-10T08:40:14.153Z"
   },
   {
    "duration": 486,
    "start_time": "2022-11-10T08:40:14.188Z"
   },
   {
    "duration": 27,
    "start_time": "2022-11-10T08:40:14.675Z"
   },
   {
    "duration": 84,
    "start_time": "2022-11-10T08:40:14.704Z"
   },
   {
    "duration": 7,
    "start_time": "2022-11-10T08:40:14.792Z"
   },
   {
    "duration": 36,
    "start_time": "2022-11-10T08:40:14.801Z"
   },
   {
    "duration": 4,
    "start_time": "2022-11-10T08:40:14.839Z"
   },
   {
    "duration": 38,
    "start_time": "2022-11-10T08:40:14.845Z"
   },
   {
    "duration": 100,
    "start_time": "2022-11-10T08:40:14.885Z"
   },
   {
    "duration": 10,
    "start_time": "2022-11-10T08:40:14.987Z"
   },
   {
    "duration": 33,
    "start_time": "2022-11-10T08:40:14.999Z"
   },
   {
    "duration": 17,
    "start_time": "2022-11-10T08:40:15.034Z"
   },
   {
    "duration": 11,
    "start_time": "2022-11-10T08:40:15.053Z"
   },
   {
    "duration": 4,
    "start_time": "2022-11-10T08:40:15.066Z"
   },
   {
    "duration": 27,
    "start_time": "2022-11-10T08:40:15.072Z"
   },
   {
    "duration": 45,
    "start_time": "2022-11-10T08:40:15.101Z"
   },
   {
    "duration": 31,
    "start_time": "2022-11-10T08:40:15.148Z"
   },
   {
    "duration": 23,
    "start_time": "2022-11-10T08:40:15.181Z"
   },
   {
    "duration": 109,
    "start_time": "2022-11-10T08:40:15.205Z"
   },
   {
    "duration": 126,
    "start_time": "2022-11-10T08:40:15.315Z"
   }
  ],
  "kernelspec": {
   "display_name": "Python 3 (ipykernel)",
   "language": "python",
   "name": "python3"
  },
  "language_info": {
   "codemirror_mode": {
    "name": "ipython",
    "version": 3
   },
   "file_extension": ".py",
   "mimetype": "text/x-python",
   "name": "python",
   "nbconvert_exporter": "python",
   "pygments_lexer": "ipython3",
   "version": "3.10.9"
  },
  "toc": {
   "base_numbering": 1,
   "nav_menu": {},
   "number_sections": true,
   "sideBar": true,
   "skip_h1_title": true,
   "title_cell": "Содержание",
   "title_sidebar": "Содержание",
   "toc_cell": false,
   "toc_position": {
    "height": "calc(100% - 180px)",
    "left": "10px",
    "top": "150px",
    "width": "321.35px"
   },
   "toc_section_display": true,
   "toc_window_display": true
  }
 },
 "nbformat": 4,
 "nbformat_minor": 2
}
